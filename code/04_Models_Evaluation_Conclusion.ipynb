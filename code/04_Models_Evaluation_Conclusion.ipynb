{
 "cells": [
  {
   "cell_type": "markdown",
   "id": "62c6fdce",
   "metadata": {},
   "source": [
    "# 04 - Modeling, Evaluation, and Conclusion"
   ]
  },
  {
   "cell_type": "markdown",
   "id": "ae11139e",
   "metadata": {},
   "source": [
    "References: \n",
    "\n",
    "1. Intro to Classification + KNN. General Assembly.\n",
    "\n",
    "2. Classification Metrics II. General Assembly.\n",
    "\n",
    "3. [Hyperparameter Tuning](https://www.geeksforgeeks.org/hyperparameter-tuning/). Geeks for Geeks.\n",
    "\n",
    "4. [Hyperparameters of Random Forest Classifier](https://www.geeksforgeeks.org/hyperparameters-of-random-forest-classifier/). Geeks for Geeks.\n",
    "\n",
    "5. [Hyperparameter Tuning with Grid Search](https://www.relataly.com/hyperparameter-tuning-with-grid-search/2261/). Florian Follonier."
   ]
  },
  {
   "cell_type": "markdown",
   "id": "48935a29",
   "metadata": {},
   "source": [
    "## Introduction"
   ]
  },
  {
   "cell_type": "markdown",
   "id": "8cfa72ae",
   "metadata": {},
   "source": [
    "In this section, I complete the modeling process. While my initial thought was to create models using logistic regression, it did not seem to be the best fit, since some of the variables represent repeated measurements of the same features, and some are therefore highly correlated.\n",
    "\n",
    "Instead, I decided to create KNN models. In choosing the K value, I tested values of approximately 3 to 25 and selected the one that had the optimal results. Accuracy, specificity, sensitivity, precision, and F1 scores are calcualated for each model. The main metric used to evaluate the models is the F1 score, as it takes into account how accurately the model predicted positive and negative classes individually.\n",
    "\n",
    "With the two highest-scoring datasets, I also created Random Forest Classification models for each individually, then together. As the grand finale, I also created a Random Forest Classifier using all of the 116 variables selected for modeling. In conclusion, I offer my thoughts on the findings and their meaning in the context of the current prevalence of diabetes."
   ]
  },
  {
   "cell_type": "code",
   "execution_count": 1,
   "id": "f67b16cf",
   "metadata": {},
   "outputs": [],
   "source": [
    "import pandas as pd\n",
    "import numpy as np\n",
    "import matplotlib.pyplot as plt\n",
    "import seaborn as sns\n",
    "\n",
    "from sklearn import datasets\n",
    "\n",
    "from sklearn.ensemble import RandomForestClassifier\n",
    "\n",
    "from sklearn.metrics import (confusion_matrix, ConfusionMatrixDisplay,\n",
    "    accuracy_score, plot_roc_curve, roc_auc_score, recall_score,\n",
    "    precision_score, f1_score, classification_report, RocCurveDisplay)\n",
    "\n",
    "from sklearn.model_selection import RepeatedKFold\n",
    "\n",
    "from sklearn import datasets\n",
    "\n",
    "from sklearn.datasets import load_digits\n",
    "from sklearn.metrics import (accuracy_score, confusion_matrix,\n",
    "                             classification_report, plot_confusion_matrix)\n",
    "from sklearn.model_selection import train_test_split, GridSearchCV\n",
    "from sklearn.neighbors import KNeighborsClassifier\n",
    "from sklearn.preprocessing import StandardScaler\n",
    "\n",
    "import warnings"
   ]
  },
  {
   "cell_type": "markdown",
   "id": "23dbb85c",
   "metadata": {},
   "source": [
    "# Part I - Predicting by Subcategory"
   ]
  },
  {
   "cell_type": "markdown",
   "id": "b7bbeeae",
   "metadata": {},
   "source": [
    "## I. Health"
   ]
  },
  {
   "cell_type": "markdown",
   "id": "cc9a2efc",
   "metadata": {},
   "source": [
    "### Data Import"
   ]
  },
  {
   "cell_type": "code",
   "execution_count": 2,
   "id": "37c0a83a",
   "metadata": {},
   "outputs": [],
   "source": [
    "file_path = '../data/FoodEnvironmentAtlas.xls.HEALTH_Modeling.csv'\n",
    "\n",
    "health = pd.read_csv(file_path)"
   ]
  },
  {
   "cell_type": "code",
   "execution_count": 3,
   "id": "155e45fe",
   "metadata": {},
   "outputs": [
    {
     "data": {
      "text/html": [
       "<div>\n",
       "<style scoped>\n",
       "    .dataframe tbody tr th:only-of-type {\n",
       "        vertical-align: middle;\n",
       "    }\n",
       "\n",
       "    .dataframe tbody tr th {\n",
       "        vertical-align: top;\n",
       "    }\n",
       "\n",
       "    .dataframe thead th {\n",
       "        text-align: right;\n",
       "    }\n",
       "</style>\n",
       "<table border=\"1\" class=\"dataframe\">\n",
       "  <thead>\n",
       "    <tr style=\"text-align: right;\">\n",
       "      <th></th>\n",
       "      <th>fips</th>\n",
       "      <th>state</th>\n",
       "      <th>county</th>\n",
       "      <th>recfac11</th>\n",
       "      <th>recfac16</th>\n",
       "      <th>recfacpth11</th>\n",
       "      <th>recfacpth16</th>\n",
       "      <th>pct_mhs18</th>\n",
       "      <th>pct_mhs1825</th>\n",
       "      <th>pct_mhs26</th>\n",
       "      <th>rank18</th>\n",
       "      <th>per100th18</th>\n",
       "      <th>rank17</th>\n",
       "      <th>per100th17</th>\n",
       "      <th>pct_diabetes18</th>\n",
       "      <th>class</th>\n",
       "    </tr>\n",
       "  </thead>\n",
       "  <tbody>\n",
       "    <tr>\n",
       "      <th>0</th>\n",
       "      <td>1001</td>\n",
       "      <td>AL</td>\n",
       "      <td>Autauga</td>\n",
       "      <td>4</td>\n",
       "      <td>6</td>\n",
       "      <td>0.072465</td>\n",
       "      <td>0.108542</td>\n",
       "      <td>13.0</td>\n",
       "      <td>11.0</td>\n",
       "      <td>13.0</td>\n",
       "      <td>51.0</td>\n",
       "      <td>92.6</td>\n",
       "      <td>51.0</td>\n",
       "      <td>85.0</td>\n",
       "      <td>9.5</td>\n",
       "      <td>1.0</td>\n",
       "    </tr>\n",
       "    <tr>\n",
       "      <th>1</th>\n",
       "      <td>1003</td>\n",
       "      <td>AL</td>\n",
       "      <td>Baldwin</td>\n",
       "      <td>16</td>\n",
       "      <td>21</td>\n",
       "      <td>0.085775</td>\n",
       "      <td>0.101200</td>\n",
       "      <td>13.0</td>\n",
       "      <td>11.0</td>\n",
       "      <td>13.0</td>\n",
       "      <td>51.0</td>\n",
       "      <td>92.6</td>\n",
       "      <td>51.0</td>\n",
       "      <td>85.0</td>\n",
       "      <td>8.4</td>\n",
       "      <td>0.0</td>\n",
       "    </tr>\n",
       "    <tr>\n",
       "      <th>2</th>\n",
       "      <td>1005</td>\n",
       "      <td>AL</td>\n",
       "      <td>Barbour</td>\n",
       "      <td>2</td>\n",
       "      <td>0</td>\n",
       "      <td>0.073123</td>\n",
       "      <td>0.000000</td>\n",
       "      <td>13.0</td>\n",
       "      <td>11.0</td>\n",
       "      <td>13.0</td>\n",
       "      <td>51.0</td>\n",
       "      <td>92.6</td>\n",
       "      <td>51.0</td>\n",
       "      <td>85.0</td>\n",
       "      <td>13.5</td>\n",
       "      <td>1.0</td>\n",
       "    </tr>\n",
       "    <tr>\n",
       "      <th>3</th>\n",
       "      <td>1007</td>\n",
       "      <td>AL</td>\n",
       "      <td>Bibb</td>\n",
       "      <td>0</td>\n",
       "      <td>1</td>\n",
       "      <td>0.000000</td>\n",
       "      <td>0.044183</td>\n",
       "      <td>13.0</td>\n",
       "      <td>11.0</td>\n",
       "      <td>13.0</td>\n",
       "      <td>51.0</td>\n",
       "      <td>92.6</td>\n",
       "      <td>51.0</td>\n",
       "      <td>85.0</td>\n",
       "      <td>10.2</td>\n",
       "      <td>1.0</td>\n",
       "    </tr>\n",
       "    <tr>\n",
       "      <th>4</th>\n",
       "      <td>1009</td>\n",
       "      <td>AL</td>\n",
       "      <td>Blount</td>\n",
       "      <td>3</td>\n",
       "      <td>4</td>\n",
       "      <td>0.052118</td>\n",
       "      <td>0.069490</td>\n",
       "      <td>13.0</td>\n",
       "      <td>11.0</td>\n",
       "      <td>13.0</td>\n",
       "      <td>51.0</td>\n",
       "      <td>92.6</td>\n",
       "      <td>51.0</td>\n",
       "      <td>85.0</td>\n",
       "      <td>10.5</td>\n",
       "      <td>1.0</td>\n",
       "    </tr>\n",
       "  </tbody>\n",
       "</table>\n",
       "</div>"
      ],
      "text/plain": [
       "   fips state   county  recfac11  recfac16  recfacpth11  recfacpth16  \\\n",
       "0  1001    AL  Autauga         4         6     0.072465     0.108542   \n",
       "1  1003    AL  Baldwin        16        21     0.085775     0.101200   \n",
       "2  1005    AL  Barbour         2         0     0.073123     0.000000   \n",
       "3  1007    AL     Bibb         0         1     0.000000     0.044183   \n",
       "4  1009    AL   Blount         3         4     0.052118     0.069490   \n",
       "\n",
       "   pct_mhs18  pct_mhs1825  pct_mhs26  rank18  per100th18  rank17  per100th17  \\\n",
       "0       13.0         11.0       13.0    51.0        92.6    51.0        85.0   \n",
       "1       13.0         11.0       13.0    51.0        92.6    51.0        85.0   \n",
       "2       13.0         11.0       13.0    51.0        92.6    51.0        85.0   \n",
       "3       13.0         11.0       13.0    51.0        92.6    51.0        85.0   \n",
       "4       13.0         11.0       13.0    51.0        92.6    51.0        85.0   \n",
       "\n",
       "   pct_diabetes18  class  \n",
       "0             9.5    1.0  \n",
       "1             8.4    0.0  \n",
       "2            13.5    1.0  \n",
       "3            10.2    1.0  \n",
       "4            10.5    1.0  "
      ]
     },
     "execution_count": 3,
     "metadata": {},
     "output_type": "execute_result"
    }
   ],
   "source": [
    "health.head()"
   ]
  },
  {
   "cell_type": "markdown",
   "id": "2fecd3b8",
   "metadata": {},
   "source": [
    "I will begin by viewing a correlation chart."
   ]
  },
  {
   "cell_type": "code",
   "execution_count": 4,
   "id": "ba09b004",
   "metadata": {},
   "outputs": [
    {
     "data": {
      "text/html": [
       "<div>\n",
       "<style scoped>\n",
       "    .dataframe tbody tr th:only-of-type {\n",
       "        vertical-align: middle;\n",
       "    }\n",
       "\n",
       "    .dataframe tbody tr th {\n",
       "        vertical-align: top;\n",
       "    }\n",
       "\n",
       "    .dataframe thead th {\n",
       "        text-align: right;\n",
       "    }\n",
       "</style>\n",
       "<table border=\"1\" class=\"dataframe\">\n",
       "  <thead>\n",
       "    <tr style=\"text-align: right;\">\n",
       "      <th></th>\n",
       "      <th>fips</th>\n",
       "      <th>recfac11</th>\n",
       "      <th>recfac16</th>\n",
       "      <th>recfacpth11</th>\n",
       "      <th>recfacpth16</th>\n",
       "      <th>pct_mhs18</th>\n",
       "      <th>pct_mhs1825</th>\n",
       "      <th>pct_mhs26</th>\n",
       "      <th>rank18</th>\n",
       "      <th>per100th18</th>\n",
       "      <th>rank17</th>\n",
       "      <th>per100th17</th>\n",
       "      <th>pct_diabetes18</th>\n",
       "      <th>class</th>\n",
       "    </tr>\n",
       "  </thead>\n",
       "  <tbody>\n",
       "    <tr>\n",
       "      <th>fips</th>\n",
       "      <td>1.000000</td>\n",
       "      <td>-0.047586</td>\n",
       "      <td>-0.048530</td>\n",
       "      <td>0.043734</td>\n",
       "      <td>0.038399</td>\n",
       "      <td>0.087920</td>\n",
       "      <td>0.120429</td>\n",
       "      <td>0.105016</td>\n",
       "      <td>0.104063</td>\n",
       "      <td>-0.069296</td>\n",
       "      <td>0.114710</td>\n",
       "      <td>-0.075347</td>\n",
       "      <td>-0.083778</td>\n",
       "      <td>-0.084537</td>\n",
       "    </tr>\n",
       "    <tr>\n",
       "      <th>recfac11</th>\n",
       "      <td>-0.047586</td>\n",
       "      <td>1.000000</td>\n",
       "      <td>0.992103</td>\n",
       "      <td>0.192325</td>\n",
       "      <td>0.228682</td>\n",
       "      <td>-0.037991</td>\n",
       "      <td>-0.046766</td>\n",
       "      <td>-0.028387</td>\n",
       "      <td>-0.118779</td>\n",
       "      <td>0.126471</td>\n",
       "      <td>-0.116033</td>\n",
       "      <td>0.122345</td>\n",
       "      <td>-0.013019</td>\n",
       "      <td>0.007270</td>\n",
       "    </tr>\n",
       "    <tr>\n",
       "      <th>recfac16</th>\n",
       "      <td>-0.048530</td>\n",
       "      <td>0.992103</td>\n",
       "      <td>1.000000</td>\n",
       "      <td>0.164929</td>\n",
       "      <td>0.226508</td>\n",
       "      <td>-0.050920</td>\n",
       "      <td>-0.058813</td>\n",
       "      <td>-0.043072</td>\n",
       "      <td>-0.104611</td>\n",
       "      <td>0.113222</td>\n",
       "      <td>-0.103222</td>\n",
       "      <td>0.110073</td>\n",
       "      <td>-0.016741</td>\n",
       "      <td>0.004168</td>\n",
       "    </tr>\n",
       "    <tr>\n",
       "      <th>recfacpth11</th>\n",
       "      <td>0.043734</td>\n",
       "      <td>0.192325</td>\n",
       "      <td>0.164929</td>\n",
       "      <td>1.000000</td>\n",
       "      <td>0.732171</td>\n",
       "      <td>0.133334</td>\n",
       "      <td>0.143773</td>\n",
       "      <td>0.137837</td>\n",
       "      <td>-0.117252</td>\n",
       "      <td>0.116344</td>\n",
       "      <td>-0.108793</td>\n",
       "      <td>0.109339</td>\n",
       "      <td>-0.107797</td>\n",
       "      <td>-0.064739</td>\n",
       "    </tr>\n",
       "    <tr>\n",
       "      <th>recfacpth16</th>\n",
       "      <td>0.038399</td>\n",
       "      <td>0.228682</td>\n",
       "      <td>0.226508</td>\n",
       "      <td>0.732171</td>\n",
       "      <td>1.000000</td>\n",
       "      <td>0.093831</td>\n",
       "      <td>0.106529</td>\n",
       "      <td>0.101534</td>\n",
       "      <td>-0.100789</td>\n",
       "      <td>0.108964</td>\n",
       "      <td>-0.094971</td>\n",
       "      <td>0.103496</td>\n",
       "      <td>-0.098824</td>\n",
       "      <td>-0.040406</td>\n",
       "    </tr>\n",
       "    <tr>\n",
       "      <th>pct_mhs18</th>\n",
       "      <td>0.087920</td>\n",
       "      <td>-0.037991</td>\n",
       "      <td>-0.050920</td>\n",
       "      <td>0.133334</td>\n",
       "      <td>0.093831</td>\n",
       "      <td>1.000000</td>\n",
       "      <td>0.890867</td>\n",
       "      <td>0.985673</td>\n",
       "      <td>-0.412848</td>\n",
       "      <td>0.391162</td>\n",
       "      <td>-0.399418</td>\n",
       "      <td>0.368434</td>\n",
       "      <td>-0.065794</td>\n",
       "      <td>-0.046338</td>\n",
       "    </tr>\n",
       "    <tr>\n",
       "      <th>pct_mhs1825</th>\n",
       "      <td>0.120429</td>\n",
       "      <td>-0.046766</td>\n",
       "      <td>-0.058813</td>\n",
       "      <td>0.143773</td>\n",
       "      <td>0.106529</td>\n",
       "      <td>0.890867</td>\n",
       "      <td>1.000000</td>\n",
       "      <td>0.873708</td>\n",
       "      <td>-0.466243</td>\n",
       "      <td>0.430006</td>\n",
       "      <td>-0.452188</td>\n",
       "      <td>0.414360</td>\n",
       "      <td>-0.124984</td>\n",
       "      <td>-0.113037</td>\n",
       "    </tr>\n",
       "    <tr>\n",
       "      <th>pct_mhs26</th>\n",
       "      <td>0.105016</td>\n",
       "      <td>-0.028387</td>\n",
       "      <td>-0.043072</td>\n",
       "      <td>0.137837</td>\n",
       "      <td>0.101534</td>\n",
       "      <td>0.985673</td>\n",
       "      <td>0.873708</td>\n",
       "      <td>1.000000</td>\n",
       "      <td>-0.425461</td>\n",
       "      <td>0.398860</td>\n",
       "      <td>-0.413220</td>\n",
       "      <td>0.378415</td>\n",
       "      <td>-0.045691</td>\n",
       "      <td>-0.024914</td>\n",
       "    </tr>\n",
       "    <tr>\n",
       "      <th>rank18</th>\n",
       "      <td>0.104063</td>\n",
       "      <td>-0.118779</td>\n",
       "      <td>-0.104611</td>\n",
       "      <td>-0.117252</td>\n",
       "      <td>-0.100789</td>\n",
       "      <td>-0.412848</td>\n",
       "      <td>-0.466243</td>\n",
       "      <td>-0.425461</td>\n",
       "      <td>1.000000</td>\n",
       "      <td>-0.964312</td>\n",
       "      <td>0.994863</td>\n",
       "      <td>-0.959811</td>\n",
       "      <td>0.152394</td>\n",
       "      <td>0.107410</td>\n",
       "    </tr>\n",
       "    <tr>\n",
       "      <th>per100th18</th>\n",
       "      <td>-0.069296</td>\n",
       "      <td>0.126471</td>\n",
       "      <td>0.113222</td>\n",
       "      <td>0.116344</td>\n",
       "      <td>0.108964</td>\n",
       "      <td>0.391162</td>\n",
       "      <td>0.430006</td>\n",
       "      <td>0.398860</td>\n",
       "      <td>-0.964312</td>\n",
       "      <td>1.000000</td>\n",
       "      <td>-0.962105</td>\n",
       "      <td>0.996991</td>\n",
       "      <td>-0.144658</td>\n",
       "      <td>-0.102972</td>\n",
       "    </tr>\n",
       "    <tr>\n",
       "      <th>rank17</th>\n",
       "      <td>0.114710</td>\n",
       "      <td>-0.116033</td>\n",
       "      <td>-0.103222</td>\n",
       "      <td>-0.108793</td>\n",
       "      <td>-0.094971</td>\n",
       "      <td>-0.399418</td>\n",
       "      <td>-0.452188</td>\n",
       "      <td>-0.413220</td>\n",
       "      <td>0.994863</td>\n",
       "      <td>-0.962105</td>\n",
       "      <td>1.000000</td>\n",
       "      <td>-0.963632</td>\n",
       "      <td>0.151801</td>\n",
       "      <td>0.106296</td>\n",
       "    </tr>\n",
       "    <tr>\n",
       "      <th>per100th17</th>\n",
       "      <td>-0.075347</td>\n",
       "      <td>0.122345</td>\n",
       "      <td>0.110073</td>\n",
       "      <td>0.109339</td>\n",
       "      <td>0.103496</td>\n",
       "      <td>0.368434</td>\n",
       "      <td>0.414360</td>\n",
       "      <td>0.378415</td>\n",
       "      <td>-0.959811</td>\n",
       "      <td>0.996991</td>\n",
       "      <td>-0.963632</td>\n",
       "      <td>1.000000</td>\n",
       "      <td>-0.145627</td>\n",
       "      <td>-0.104401</td>\n",
       "    </tr>\n",
       "    <tr>\n",
       "      <th>pct_diabetes18</th>\n",
       "      <td>-0.083778</td>\n",
       "      <td>-0.013019</td>\n",
       "      <td>-0.016741</td>\n",
       "      <td>-0.107797</td>\n",
       "      <td>-0.098824</td>\n",
       "      <td>-0.065794</td>\n",
       "      <td>-0.124984</td>\n",
       "      <td>-0.045691</td>\n",
       "      <td>0.152394</td>\n",
       "      <td>-0.144658</td>\n",
       "      <td>0.151801</td>\n",
       "      <td>-0.145627</td>\n",
       "      <td>1.000000</td>\n",
       "      <td>0.799640</td>\n",
       "    </tr>\n",
       "    <tr>\n",
       "      <th>class</th>\n",
       "      <td>-0.084537</td>\n",
       "      <td>0.007270</td>\n",
       "      <td>0.004168</td>\n",
       "      <td>-0.064739</td>\n",
       "      <td>-0.040406</td>\n",
       "      <td>-0.046338</td>\n",
       "      <td>-0.113037</td>\n",
       "      <td>-0.024914</td>\n",
       "      <td>0.107410</td>\n",
       "      <td>-0.102972</td>\n",
       "      <td>0.106296</td>\n",
       "      <td>-0.104401</td>\n",
       "      <td>0.799640</td>\n",
       "      <td>1.000000</td>\n",
       "    </tr>\n",
       "  </tbody>\n",
       "</table>\n",
       "</div>"
      ],
      "text/plain": [
       "                    fips  recfac11  recfac16  recfacpth11  recfacpth16  \\\n",
       "fips            1.000000 -0.047586 -0.048530     0.043734     0.038399   \n",
       "recfac11       -0.047586  1.000000  0.992103     0.192325     0.228682   \n",
       "recfac16       -0.048530  0.992103  1.000000     0.164929     0.226508   \n",
       "recfacpth11     0.043734  0.192325  0.164929     1.000000     0.732171   \n",
       "recfacpth16     0.038399  0.228682  0.226508     0.732171     1.000000   \n",
       "pct_mhs18       0.087920 -0.037991 -0.050920     0.133334     0.093831   \n",
       "pct_mhs1825     0.120429 -0.046766 -0.058813     0.143773     0.106529   \n",
       "pct_mhs26       0.105016 -0.028387 -0.043072     0.137837     0.101534   \n",
       "rank18          0.104063 -0.118779 -0.104611    -0.117252    -0.100789   \n",
       "per100th18     -0.069296  0.126471  0.113222     0.116344     0.108964   \n",
       "rank17          0.114710 -0.116033 -0.103222    -0.108793    -0.094971   \n",
       "per100th17     -0.075347  0.122345  0.110073     0.109339     0.103496   \n",
       "pct_diabetes18 -0.083778 -0.013019 -0.016741    -0.107797    -0.098824   \n",
       "class          -0.084537  0.007270  0.004168    -0.064739    -0.040406   \n",
       "\n",
       "                pct_mhs18  pct_mhs1825  pct_mhs26    rank18  per100th18  \\\n",
       "fips             0.087920     0.120429   0.105016  0.104063   -0.069296   \n",
       "recfac11        -0.037991    -0.046766  -0.028387 -0.118779    0.126471   \n",
       "recfac16        -0.050920    -0.058813  -0.043072 -0.104611    0.113222   \n",
       "recfacpth11      0.133334     0.143773   0.137837 -0.117252    0.116344   \n",
       "recfacpth16      0.093831     0.106529   0.101534 -0.100789    0.108964   \n",
       "pct_mhs18        1.000000     0.890867   0.985673 -0.412848    0.391162   \n",
       "pct_mhs1825      0.890867     1.000000   0.873708 -0.466243    0.430006   \n",
       "pct_mhs26        0.985673     0.873708   1.000000 -0.425461    0.398860   \n",
       "rank18          -0.412848    -0.466243  -0.425461  1.000000   -0.964312   \n",
       "per100th18       0.391162     0.430006   0.398860 -0.964312    1.000000   \n",
       "rank17          -0.399418    -0.452188  -0.413220  0.994863   -0.962105   \n",
       "per100th17       0.368434     0.414360   0.378415 -0.959811    0.996991   \n",
       "pct_diabetes18  -0.065794    -0.124984  -0.045691  0.152394   -0.144658   \n",
       "class           -0.046338    -0.113037  -0.024914  0.107410   -0.102972   \n",
       "\n",
       "                  rank17  per100th17  pct_diabetes18     class  \n",
       "fips            0.114710   -0.075347       -0.083778 -0.084537  \n",
       "recfac11       -0.116033    0.122345       -0.013019  0.007270  \n",
       "recfac16       -0.103222    0.110073       -0.016741  0.004168  \n",
       "recfacpth11    -0.108793    0.109339       -0.107797 -0.064739  \n",
       "recfacpth16    -0.094971    0.103496       -0.098824 -0.040406  \n",
       "pct_mhs18      -0.399418    0.368434       -0.065794 -0.046338  \n",
       "pct_mhs1825    -0.452188    0.414360       -0.124984 -0.113037  \n",
       "pct_mhs26      -0.413220    0.378415       -0.045691 -0.024914  \n",
       "rank18          0.994863   -0.959811        0.152394  0.107410  \n",
       "per100th18     -0.962105    0.996991       -0.144658 -0.102972  \n",
       "rank17          1.000000   -0.963632        0.151801  0.106296  \n",
       "per100th17     -0.963632    1.000000       -0.145627 -0.104401  \n",
       "pct_diabetes18  0.151801   -0.145627        1.000000  0.799640  \n",
       "class           0.106296   -0.104401        0.799640  1.000000  "
      ]
     },
     "execution_count": 4,
     "metadata": {},
     "output_type": "execute_result"
    }
   ],
   "source": [
    "health.corr()"
   ]
  },
  {
   "cell_type": "markdown",
   "id": "371fba6b",
   "metadata": {},
   "source": [
    "None of these variables appear highly correlated to the prevalence of diabetes. The strongest correlations are the -0.14/15 values seen between the number of MH practitioners per 100 thousand for 2017 and 2018.\n",
    "\n",
    "I will still see what score they get, altogether."
   ]
  },
  {
   "cell_type": "markdown",
   "id": "ca352343",
   "metadata": {},
   "source": [
    "#### 1. Create X and y"
   ]
  },
  {
   "cell_type": "code",
   "execution_count": 5,
   "id": "4c0b00c3",
   "metadata": {},
   "outputs": [],
   "source": [
    "X = health.drop(columns = ['fips', 'state', 'county', 'pct_diabetes18', 'class'])\n",
    "\n",
    "y = health['class']"
   ]
  },
  {
   "cell_type": "markdown",
   "id": "656bfc09",
   "metadata": {},
   "source": [
    "#### 2. Create baseline value"
   ]
  },
  {
   "cell_type": "code",
   "execution_count": 6,
   "id": "8cabc0c8",
   "metadata": {},
   "outputs": [
    {
     "data": {
      "text/plain": [
       "0.0    0.58275\n",
       "1.0    0.41725\n",
       "Name: class, dtype: float64"
      ]
     },
     "execution_count": 6,
     "metadata": {},
     "output_type": "execute_result"
    }
   ],
   "source": [
    "health['class'].value_counts(normalize=True)"
   ]
  },
  {
   "cell_type": "markdown",
   "id": "f5f9a8d1",
   "metadata": {},
   "source": [
    "The baseline, or majority class, is 0.583."
   ]
  },
  {
   "cell_type": "markdown",
   "id": "eed16fa7",
   "metadata": {},
   "source": [
    "#### 3. Scale Values"
   ]
  },
  {
   "cell_type": "code",
   "execution_count": 7,
   "id": "a8e1b8d2",
   "metadata": {},
   "outputs": [],
   "source": [
    "ss = StandardScaler()\n",
    "\n",
    "X = ss.fit_transform(X)"
   ]
  },
  {
   "cell_type": "markdown",
   "id": "21175ae7",
   "metadata": {},
   "source": [
    "#### 4. Train, test, split"
   ]
  },
  {
   "cell_type": "code",
   "execution_count": 8,
   "id": "9218c5cd",
   "metadata": {},
   "outputs": [],
   "source": [
    "X_train, X_test, y_train, y_test = train_test_split(X, y, random_state=42, stratify=y)"
   ]
  },
  {
   "cell_type": "code",
   "execution_count": 9,
   "id": "693fb1c8",
   "metadata": {},
   "outputs": [
    {
     "data": {
      "text/plain": [
       "((2356, 11), (786, 11), (2356,), (786,))"
      ]
     },
     "execution_count": 9,
     "metadata": {},
     "output_type": "execute_result"
    }
   ],
   "source": [
    "X_train.shape, X_test.shape, y_train.shape, y_test.shape"
   ]
  },
  {
   "cell_type": "markdown",
   "id": "5c5ebc02",
   "metadata": {},
   "source": [
    "#### 5. Instantiate, Fit, Evaluate"
   ]
  },
  {
   "cell_type": "code",
   "execution_count": 10,
   "id": "1415ca2b",
   "metadata": {},
   "outputs": [
    {
     "name": "stdout",
     "output_type": "stream",
     "text": [
      "0.7597623089983022 0.7239185750636132\n"
     ]
    }
   ],
   "source": [
    "with warnings.catch_warnings():\n",
    "    warnings.simplefilter(\"ignore\", category = FutureWarning)\n",
    "\n",
    "# Instantiate\n",
    "    knn = KNeighborsClassifier(n_neighbors=10)\n",
    "\n",
    "# Fit\n",
    "    knn.fit(X_train, y_train)\n",
    "\n",
    "# Evaluate\n",
    "    print(knn.score(X_train, y_train), knn.score(X_test, y_test))"
   ]
  },
  {
   "cell_type": "code",
   "execution_count": 11,
   "id": "064f8dd2",
   "metadata": {},
   "outputs": [
    {
     "data": {
      "image/png": "[encoded data removed]",
      "text/plain": [
       "<Figure size 640x480 with 2 Axes>"
      ]
     },
     "metadata": {},
     "output_type": "display_data"
    }
   ],
   "source": [
    "with warnings.catch_warnings():\n",
    "    warnings.simplefilter(\"ignore\", category = FutureWarning)\n",
    "\n",
    "    ConfusionMatrixDisplay.from_estimator(knn, X_test, y_test, normalize = 'pred');"
   ]
  },
  {
   "cell_type": "code",
   "execution_count": 12,
   "id": "68706bb7",
   "metadata": {},
   "outputs": [],
   "source": [
    "with warnings.catch_warnings():\n",
    "    warnings.simplefilter(\"ignore\", category = FutureWarning)\n",
    "\n",
    "    preds = knn.predict(X_test) #generates predictions"
   ]
  },
  {
   "cell_type": "code",
   "execution_count": 13,
   "id": "401a70c4",
   "metadata": {},
   "outputs": [
    {
     "data": {
      "text/plain": [
       "array([375,  83, 134, 194])"
      ]
     },
     "execution_count": 13,
     "metadata": {},
     "output_type": "execute_result"
    }
   ],
   "source": [
    "confusion_matrix(y_test, preds).ravel()"
   ]
  },
  {
   "cell_type": "code",
   "execution_count": 14,
   "id": "686be28e",
   "metadata": {},
   "outputs": [],
   "source": [
    "tn, fp, fn, tp = confusion_matrix(y_test, preds).ravel()"
   ]
  },
  {
   "cell_type": "code",
   "execution_count": 15,
   "id": "62479a48",
   "metadata": {},
   "outputs": [
    {
     "data": {
      "text/plain": [
       "(375, 83, 134, 194)"
      ]
     },
     "execution_count": 15,
     "metadata": {},
     "output_type": "execute_result"
    }
   ],
   "source": [
    "tn, fp, fn, tp #(true negative, false positive, false negative, true positive)"
   ]
  },
  {
   "cell_type": "markdown",
   "id": "52eb2efc",
   "metadata": {},
   "source": [
    "##### Accuracy (pre-determined above)"
   ]
  },
  {
   "cell_type": "code",
   "execution_count": 16,
   "id": "f7b8c284",
   "metadata": {},
   "outputs": [
    {
     "name": "stdout",
     "output_type": "stream",
     "text": [
      "0.7239185750636132\n"
     ]
    }
   ],
   "source": [
    "with warnings.catch_warnings():\n",
    "    warnings.simplefilter(\"ignore\", category = FutureWarning)\n",
    "\n",
    "    print(knn.score(X_test, y_test))"
   ]
  },
  {
   "cell_type": "markdown",
   "id": "26224eb6",
   "metadata": {},
   "source": [
    "This is the proportion of total predictions that were correct. The score of 0.723 is above the baseline (which was 0.583.) "
   ]
  },
  {
   "cell_type": "markdown",
   "id": "29a2ba1d",
   "metadata": {},
   "source": [
    "##### Specificity"
   ]
  },
  {
   "cell_type": "code",
   "execution_count": 17,
   "id": "71148b71",
   "metadata": {},
   "outputs": [
    {
     "data": {
      "text/plain": [
       "0.8187772925764192"
      ]
     },
     "execution_count": 17,
     "metadata": {},
     "output_type": "execute_result"
    }
   ],
   "source": [
    "specificity = tn / (tn + fp)\n",
    "\n",
    "specificity"
   ]
  },
  {
   "cell_type": "markdown",
   "id": "d96033f4",
   "metadata": {},
   "source": [
    "This is the proportion of total negatives that were predicted correctly. This is a relatively high score of 0.819."
   ]
  },
  {
   "cell_type": "markdown",
   "id": "f0f2560f",
   "metadata": {},
   "source": [
    "##### Sensitivity/Recall"
   ]
  },
  {
   "cell_type": "code",
   "execution_count": 18,
   "id": "466d9689",
   "metadata": {},
   "outputs": [
    {
     "data": {
      "text/plain": [
       "0.5914634146341463"
      ]
     },
     "execution_count": 18,
     "metadata": {},
     "output_type": "execute_result"
    }
   ],
   "source": [
    "sensitivity = tp / (tp + fn)\n",
    "\n",
    "sensitivity"
   ]
  },
  {
   "cell_type": "markdown",
   "id": "1892010f",
   "metadata": {},
   "source": [
    "This is the proportion of total positives that were predicted correctly. The sensitivity is much lower than the specificity on this occasion, with a score of 0.591."
   ]
  },
  {
   "cell_type": "markdown",
   "id": "d7f3d488",
   "metadata": {},
   "source": [
    "##### Precision "
   ]
  },
  {
   "cell_type": "code",
   "execution_count": 19,
   "id": "587df5d5",
   "metadata": {},
   "outputs": [
    {
     "data": {
      "text/plain": [
       "0.7003610108303249"
      ]
     },
     "execution_count": 19,
     "metadata": {},
     "output_type": "execute_result"
    }
   ],
   "source": [
    "precision = tp / (tp + fp)\n",
    "\n",
    "precision"
   ]
  },
  {
   "cell_type": "markdown",
   "id": "6cb91d9a",
   "metadata": {},
   "source": [
    "This is the proportion of predicted positives that were actually positive. The score of 0.700 is favorable."
   ]
  },
  {
   "cell_type": "markdown",
   "id": "c8929c2b",
   "metadata": {},
   "source": [
    "##### F-1 score"
   ]
  },
  {
   "cell_type": "code",
   "execution_count": 20,
   "id": "257d5df3",
   "metadata": {},
   "outputs": [
    {
     "data": {
      "text/plain": [
       "0.6413223140495866"
      ]
     },
     "execution_count": 20,
     "metadata": {},
     "output_type": "execute_result"
    }
   ],
   "source": [
    "f1 = 2 * (precision*sensitivity) / (precision+sensitivity)\n",
    "\n",
    "f1"
   ]
  },
  {
   "cell_type": "markdown",
   "id": "0cb6b4b6",
   "metadata": {},
   "source": [
    "The f1 score combines precision and sensitivity scores, and gives us an overall score through which to evaluate the model. The f-1 score of 0.641 exceeds baseline."
   ]
  },
  {
   "cell_type": "markdown",
   "id": "618cbe6d",
   "metadata": {},
   "source": [
    "### Discussion"
   ]
  },
  {
   "cell_type": "markdown",
   "id": "8cfebdef",
   "metadata": {},
   "source": [
    "Using the health-related features of recreational facilities, number of mental health providers, and percentage of adult population that received mental health services in the last year, I was able to create a model to predict prevalence of diabetes. \n",
    "\n",
    "The scores above show that the majority of counties were predicted correctly, though low prevalence was predicted more accurately than high prevalence.\n",
    "\n",
    "Because the Health dataset has been shown to be predictive, I will use Random Forest Classification with Grid Search in order to maximize its predictive power. "
   ]
  },
  {
   "cell_type": "markdown",
   "id": "b2ebd277",
   "metadata": {},
   "source": [
    "### Random Forest Classification"
   ]
  },
  {
   "cell_type": "markdown",
   "id": "0d6f8e7e",
   "metadata": {},
   "source": [
    "#### 1. Instantite & Fit the Model"
   ]
  },
  {
   "cell_type": "code",
   "execution_count": 21,
   "id": "34bd1f0d",
   "metadata": {},
   "outputs": [],
   "source": [
    "model = RandomForestClassifier(n_estimators=100, random_state=42)"
   ]
  },
  {
   "cell_type": "code",
   "execution_count": 22,
   "id": "c1d564f8",
   "metadata": {},
   "outputs": [
    {
     "data": {
      "text/plain": [
       "RandomForestClassifier(random_state=42)"
      ]
     },
     "execution_count": 22,
     "metadata": {},
     "output_type": "execute_result"
    }
   ],
   "source": [
    "model.fit(X_train, y_train)"
   ]
  },
  {
   "cell_type": "markdown",
   "id": "33629b79",
   "metadata": {},
   "source": [
    "#### 2. Generate initial score"
   ]
  },
  {
   "cell_type": "code",
   "execution_count": 23,
   "id": "d18ccfdf",
   "metadata": {},
   "outputs": [
    {
     "data": {
      "text/plain": [
       "(0.9456706281833617, 0.7366412213740458)"
      ]
     },
     "execution_count": 23,
     "metadata": {},
     "output_type": "execute_result"
    }
   ],
   "source": [
    "model.score(X_train, y_train), model.score(X_test, y_test)"
   ]
  },
  {
   "cell_type": "markdown",
   "id": "8d207c56",
   "metadata": {},
   "source": [
    "There is a great deal of overfit, but the accuracy score is 0.737."
   ]
  },
  {
   "cell_type": "markdown",
   "id": "b7142fc8",
   "metadata": {},
   "source": [
    "#### 3. Grid search for best parameters"
   ]
  },
  {
   "cell_type": "code",
   "execution_count": 24,
   "id": "cebb27c9",
   "metadata": {},
   "outputs": [
    {
     "name": "stdout",
     "output_type": "stream",
     "text": [
      "Fitting 5 folds for each of 320 candidates, totalling 1600 fits\n"
     ]
    },
    {
     "data": {
      "text/plain": [
       "GridSearchCV(cv=5, estimator=RandomForestClassifier(random_state=6789),\n",
       "             param_grid={'max_depth': [2, 8, 12, 16],\n",
       "                         'min_samples_leaf': [2, 3, 4, 5, 6],\n",
       "                         'min_samples_split': [2, 4, 6, 8],\n",
       "                         'n_estimators': [20, 80, 120, 240]},\n",
       "             verbose=1)"
      ]
     },
     "execution_count": 24,
     "metadata": {},
     "output_type": "execute_result"
    }
   ],
   "source": [
    "grid = GridSearchCV(estimator = RandomForestClassifier(random_state = 6789),\n",
    "                    param_grid = {'max_depth': [2, 8, 12, 16],\n",
    "                                  'n_estimators':[20, 80, 120, 240],\n",
    "                                 'min_samples_split': [2, 4, 6, 8],\n",
    "                                 'min_samples_leaf': [2, 3, 4, 5, 6]},\n",
    "                    \n",
    "                                  cv=5, verbose=1)\n",
    "\n",
    "grid.fit(X_train, y_train)"
   ]
  },
  {
   "cell_type": "code",
   "execution_count": 25,
   "id": "092937b6",
   "metadata": {},
   "outputs": [
    {
     "data": {
      "text/plain": [
       "RandomForestClassifier(max_depth=8, min_samples_leaf=2, n_estimators=120,\n",
       "                       random_state=6789)"
      ]
     },
     "execution_count": 25,
     "metadata": {},
     "output_type": "execute_result"
    }
   ],
   "source": [
    "grid.best_estimator_"
   ]
  },
  {
   "cell_type": "markdown",
   "id": "cb92dea3",
   "metadata": {},
   "source": [
    "**Estimator shown above leads to an F1 score of 0.694. A previous grid search led to a higher F1 score under the following parameters: **\n",
    "\n",
    "**max depth = 12, min_samples leaf = 3, min_samples split = 8, n_estimators = 240, random_state = 6789. These parameters will be used in order to maximize the F1 score.**"
   ]
  },
  {
   "cell_type": "markdown",
   "id": "5bdb00bc",
   "metadata": {},
   "source": [
    "#### 4. Instantiate & fit with new parameters"
   ]
  },
  {
   "cell_type": "code",
   "execution_count": 26,
   "id": "b7bcb9d7",
   "metadata": {},
   "outputs": [
    {
     "data": {
      "text/plain": [
       "RandomForestClassifier(max_depth=12, min_samples_leaf=3, min_samples_split=8,\n",
       "                       n_estimators=240, random_state=6789)"
      ]
     },
     "execution_count": 26,
     "metadata": {},
     "output_type": "execute_result"
    }
   ],
   "source": [
    "rfc = RandomForestClassifier(max_depth=12, min_samples_leaf=3, min_samples_split = 8, n_estimators=240,\n",
    "                       random_state=6789)\n",
    "\n",
    "rfc.fit(X_train, y_train)"
   ]
  },
  {
   "cell_type": "markdown",
   "id": "3e1c1ece",
   "metadata": {},
   "source": [
    "#### 5. Evaluate"
   ]
  },
  {
   "cell_type": "code",
   "execution_count": 27,
   "id": "a69af87c",
   "metadata": {},
   "outputs": [
    {
     "data": {
      "text/plain": [
       "(0.8404074702886248, 0.7569974554707379)"
      ]
     },
     "execution_count": 27,
     "metadata": {},
     "output_type": "execute_result"
    }
   ],
   "source": [
    "rfc.score(X_train, y_train), rfc.score(X_test, y_test)"
   ]
  },
  {
   "cell_type": "code",
   "execution_count": 29,
   "id": "446f7026",
   "metadata": {},
   "outputs": [
    {
     "data": {
      "image/png": "[encoded data removed]",
      "text/plain": [
       "<Figure size 640x480 with 2 Axes>"
      ]
     },
     "metadata": {},
     "output_type": "display_data"
    }
   ],
   "source": [
    "ConfusionMatrixDisplay.from_estimator(rfc, X_test, y_test, normalize = 'pred');"
   ]
  },
  {
   "cell_type": "code",
   "execution_count": 30,
   "id": "8c80d786",
   "metadata": {},
   "outputs": [],
   "source": [
    "preds = rfc.predict(X_test)"
   ]
  },
  {
   "cell_type": "code",
   "execution_count": 31,
   "id": "d50cd16e",
   "metadata": {},
   "outputs": [
    {
     "data": {
      "text/plain": [
       "array([371,  87, 104, 224])"
      ]
     },
     "execution_count": 31,
     "metadata": {},
     "output_type": "execute_result"
    }
   ],
   "source": [
    "confusion_matrix(y_test, preds).ravel()"
   ]
  },
  {
   "cell_type": "code",
   "execution_count": 32,
   "id": "864c7ae8",
   "metadata": {},
   "outputs": [
    {
     "data": {
      "text/plain": [
       "(371, 87, 104, 224)"
      ]
     },
     "execution_count": 32,
     "metadata": {},
     "output_type": "execute_result"
    }
   ],
   "source": [
    "tn, fp, fn, tp = confusion_matrix(y_test, preds).ravel()\n",
    "\n",
    "tn, fp, fn, tp #(true negative, false positive, false negative, true positive)"
   ]
  },
  {
   "cell_type": "markdown",
   "id": "05ff12e3",
   "metadata": {},
   "source": [
    "##### Metrics"
   ]
  },
  {
   "cell_type": "code",
   "execution_count": 33,
   "id": "b3f6727f",
   "metadata": {},
   "outputs": [
    {
     "name": "stdout",
     "output_type": "stream",
     "text": [
      "Accuracy: , 0.7569974554707379\n",
      "Specificity:  0.8100436681222707\n",
      "Sensitivity:  0.6829268292682927\n",
      "Precision:  0.7202572347266881\n",
      "F1:  0.701095461658842\n"
     ]
    }
   ],
   "source": [
    "accuracy = rfc.score(X_test, y_test)\n",
    "specificity = tn / (tn + fp)\n",
    "sensitivity = tp / (tp + fn)\n",
    "precision = tp / (tp + fp)\n",
    "f1 = 2 * (precision*sensitivity) / (precision+sensitivity)\n",
    "\n",
    "\n",
    "print (\"Accuracy: ,\" , rfc.score(X_test, y_test))\n",
    "print (\"Specificity: \", specificity)\n",
    "print (\"Sensitivity: \", sensitivity)\n",
    "print (\"Precision: \", precision)\n",
    "print (\"F1: \", f1)"
   ]
  },
  {
   "cell_type": "markdown",
   "id": "f9cb4b32",
   "metadata": {},
   "source": [
    "#### Discussion"
   ]
  },
  {
   "cell_type": "markdown",
   "id": "292cb3b7",
   "metadata": {},
   "source": [
    "Using a Random Forest Classifier with grid search led to improved scores on all metrics above. The F1 score remains above baseline, indicating that this model (using health-based variables) can be used to predict prevalence of diabetes in counties."
   ]
  },
  {
   "cell_type": "markdown",
   "id": "895ba6cf",
   "metadata": {},
   "source": [
    "## II. Access (2010)"
   ]
  },
  {
   "cell_type": "code",
   "execution_count": 34,
   "id": "a8192d0f",
   "metadata": {},
   "outputs": [],
   "source": [
    "file_path = '../data/FoodEnvironmentAtlas.xls.ACCESS10_Modeling.csv'\n",
    "\n",
    "access10 = pd.read_csv(file_path)"
   ]
  },
  {
   "cell_type": "code",
   "execution_count": 35,
   "id": "5e6f0c02",
   "metadata": {},
   "outputs": [
    {
     "data": {
      "text/html": [
       "<div>\n",
       "<style scoped>\n",
       "    .dataframe tbody tr th:only-of-type {\n",
       "        vertical-align: middle;\n",
       "    }\n",
       "\n",
       "    .dataframe tbody tr th {\n",
       "        vertical-align: top;\n",
       "    }\n",
       "\n",
       "    .dataframe thead th {\n",
       "        text-align: right;\n",
       "    }\n",
       "</style>\n",
       "<table border=\"1\" class=\"dataframe\">\n",
       "  <thead>\n",
       "    <tr style=\"text-align: right;\">\n",
       "      <th></th>\n",
       "      <th>fips</th>\n",
       "      <th>state</th>\n",
       "      <th>county</th>\n",
       "      <th>pct_laccess_pop10</th>\n",
       "      <th>pct_laccess_lowi10</th>\n",
       "      <th>pct_laccess_hhnv10</th>\n",
       "      <th>pct_laccess_child10</th>\n",
       "      <th>pct_laccess_seniors10</th>\n",
       "      <th>pct_diabetes18</th>\n",
       "      <th>class</th>\n",
       "    </tr>\n",
       "  </thead>\n",
       "  <tbody>\n",
       "    <tr>\n",
       "      <th>0</th>\n",
       "      <td>1001</td>\n",
       "      <td>AL</td>\n",
       "      <td>Autauga</td>\n",
       "      <td>33.769657</td>\n",
       "      <td>9.793530</td>\n",
       "      <td>3.284786</td>\n",
       "      <td>8.837112</td>\n",
       "      <td>4.376378</td>\n",
       "      <td>9.5</td>\n",
       "      <td>1.0</td>\n",
       "    </tr>\n",
       "    <tr>\n",
       "      <th>1</th>\n",
       "      <td>1003</td>\n",
       "      <td>AL</td>\n",
       "      <td>Baldwin</td>\n",
       "      <td>19.318473</td>\n",
       "      <td>5.460261</td>\n",
       "      <td>2.147827</td>\n",
       "      <td>4.343199</td>\n",
       "      <td>3.513570</td>\n",
       "      <td>8.4</td>\n",
       "      <td>0.0</td>\n",
       "    </tr>\n",
       "    <tr>\n",
       "      <th>2</th>\n",
       "      <td>1005</td>\n",
       "      <td>AL</td>\n",
       "      <td>Barbour</td>\n",
       "      <td>20.840972</td>\n",
       "      <td>11.420316</td>\n",
       "      <td>4.135869</td>\n",
       "      <td>3.425062</td>\n",
       "      <td>2.805166</td>\n",
       "      <td>13.5</td>\n",
       "      <td>1.0</td>\n",
       "    </tr>\n",
       "    <tr>\n",
       "      <th>3</th>\n",
       "      <td>1007</td>\n",
       "      <td>AL</td>\n",
       "      <td>Bibb</td>\n",
       "      <td>4.559753</td>\n",
       "      <td>2.144661</td>\n",
       "      <td>3.458580</td>\n",
       "      <td>1.087518</td>\n",
       "      <td>0.657008</td>\n",
       "      <td>10.2</td>\n",
       "      <td>1.0</td>\n",
       "    </tr>\n",
       "    <tr>\n",
       "      <th>4</th>\n",
       "      <td>1009</td>\n",
       "      <td>AL</td>\n",
       "      <td>Blount</td>\n",
       "      <td>2.700840</td>\n",
       "      <td>1.062468</td>\n",
       "      <td>3.269380</td>\n",
       "      <td>0.671490</td>\n",
       "      <td>0.340269</td>\n",
       "      <td>10.5</td>\n",
       "      <td>1.0</td>\n",
       "    </tr>\n",
       "  </tbody>\n",
       "</table>\n",
       "</div>"
      ],
      "text/plain": [
       "   fips state   county  pct_laccess_pop10  pct_laccess_lowi10  \\\n",
       "0  1001    AL  Autauga          33.769657            9.793530   \n",
       "1  1003    AL  Baldwin          19.318473            5.460261   \n",
       "2  1005    AL  Barbour          20.840972           11.420316   \n",
       "3  1007    AL     Bibb           4.559753            2.144661   \n",
       "4  1009    AL   Blount           2.700840            1.062468   \n",
       "\n",
       "   pct_laccess_hhnv10  pct_laccess_child10  pct_laccess_seniors10  \\\n",
       "0            3.284786             8.837112               4.376378   \n",
       "1            2.147827             4.343199               3.513570   \n",
       "2            4.135869             3.425062               2.805166   \n",
       "3            3.458580             1.087518               0.657008   \n",
       "4            3.269380             0.671490               0.340269   \n",
       "\n",
       "   pct_diabetes18  class  \n",
       "0             9.5    1.0  \n",
       "1             8.4    0.0  \n",
       "2            13.5    1.0  \n",
       "3            10.2    1.0  \n",
       "4            10.5    1.0  "
      ]
     },
     "execution_count": 35,
     "metadata": {},
     "output_type": "execute_result"
    }
   ],
   "source": [
    "access10.head()"
   ]
  },
  {
   "cell_type": "code",
   "execution_count": 36,
   "id": "58b383ee",
   "metadata": {},
   "outputs": [
    {
     "data": {
      "text/html": [
       "<div>\n",
       "<style scoped>\n",
       "    .dataframe tbody tr th:only-of-type {\n",
       "        vertical-align: middle;\n",
       "    }\n",
       "\n",
       "    .dataframe tbody tr th {\n",
       "        vertical-align: top;\n",
       "    }\n",
       "\n",
       "    .dataframe thead th {\n",
       "        text-align: right;\n",
       "    }\n",
       "</style>\n",
       "<table border=\"1\" class=\"dataframe\">\n",
       "  <thead>\n",
       "    <tr style=\"text-align: right;\">\n",
       "      <th></th>\n",
       "      <th>fips</th>\n",
       "      <th>pct_laccess_pop10</th>\n",
       "      <th>pct_laccess_lowi10</th>\n",
       "      <th>pct_laccess_hhnv10</th>\n",
       "      <th>pct_laccess_child10</th>\n",
       "      <th>pct_laccess_seniors10</th>\n",
       "      <th>pct_diabetes18</th>\n",
       "      <th>class</th>\n",
       "    </tr>\n",
       "  </thead>\n",
       "  <tbody>\n",
       "    <tr>\n",
       "      <th>fips</th>\n",
       "      <td>1.000000</td>\n",
       "      <td>0.042381</td>\n",
       "      <td>0.015372</td>\n",
       "      <td>-0.088925</td>\n",
       "      <td>0.038996</td>\n",
       "      <td>0.063841</td>\n",
       "      <td>-0.083778</td>\n",
       "      <td>-0.084537</td>\n",
       "    </tr>\n",
       "    <tr>\n",
       "      <th>pct_laccess_pop10</th>\n",
       "      <td>0.042381</td>\n",
       "      <td>1.000000</td>\n",
       "      <td>0.901990</td>\n",
       "      <td>0.120230</td>\n",
       "      <td>0.960288</td>\n",
       "      <td>0.919708</td>\n",
       "      <td>-0.134409</td>\n",
       "      <td>-0.137711</td>\n",
       "    </tr>\n",
       "    <tr>\n",
       "      <th>pct_laccess_lowi10</th>\n",
       "      <td>0.015372</td>\n",
       "      <td>0.901990</td>\n",
       "      <td>1.000000</td>\n",
       "      <td>0.278589</td>\n",
       "      <td>0.890427</td>\n",
       "      <td>0.826800</td>\n",
       "      <td>-0.031133</td>\n",
       "      <td>-0.067593</td>\n",
       "    </tr>\n",
       "    <tr>\n",
       "      <th>pct_laccess_hhnv10</th>\n",
       "      <td>-0.088925</td>\n",
       "      <td>0.120230</td>\n",
       "      <td>0.278589</td>\n",
       "      <td>1.000000</td>\n",
       "      <td>0.162575</td>\n",
       "      <td>0.043447</td>\n",
       "      <td>0.173692</td>\n",
       "      <td>0.110627</td>\n",
       "    </tr>\n",
       "    <tr>\n",
       "      <th>pct_laccess_child10</th>\n",
       "      <td>0.038996</td>\n",
       "      <td>0.960288</td>\n",
       "      <td>0.890427</td>\n",
       "      <td>0.162575</td>\n",
       "      <td>1.000000</td>\n",
       "      <td>0.823629</td>\n",
       "      <td>-0.086022</td>\n",
       "      <td>-0.103810</td>\n",
       "    </tr>\n",
       "    <tr>\n",
       "      <th>pct_laccess_seniors10</th>\n",
       "      <td>0.063841</td>\n",
       "      <td>0.919708</td>\n",
       "      <td>0.826800</td>\n",
       "      <td>0.043447</td>\n",
       "      <td>0.823629</td>\n",
       "      <td>1.000000</td>\n",
       "      <td>-0.190457</td>\n",
       "      <td>-0.185915</td>\n",
       "    </tr>\n",
       "    <tr>\n",
       "      <th>pct_diabetes18</th>\n",
       "      <td>-0.083778</td>\n",
       "      <td>-0.134409</td>\n",
       "      <td>-0.031133</td>\n",
       "      <td>0.173692</td>\n",
       "      <td>-0.086022</td>\n",
       "      <td>-0.190457</td>\n",
       "      <td>1.000000</td>\n",
       "      <td>0.799640</td>\n",
       "    </tr>\n",
       "    <tr>\n",
       "      <th>class</th>\n",
       "      <td>-0.084537</td>\n",
       "      <td>-0.137711</td>\n",
       "      <td>-0.067593</td>\n",
       "      <td>0.110627</td>\n",
       "      <td>-0.103810</td>\n",
       "      <td>-0.185915</td>\n",
       "      <td>0.799640</td>\n",
       "      <td>1.000000</td>\n",
       "    </tr>\n",
       "  </tbody>\n",
       "</table>\n",
       "</div>"
      ],
      "text/plain": [
       "                           fips  pct_laccess_pop10  pct_laccess_lowi10  \\\n",
       "fips                   1.000000           0.042381            0.015372   \n",
       "pct_laccess_pop10      0.042381           1.000000            0.901990   \n",
       "pct_laccess_lowi10     0.015372           0.901990            1.000000   \n",
       "pct_laccess_hhnv10    -0.088925           0.120230            0.278589   \n",
       "pct_laccess_child10    0.038996           0.960288            0.890427   \n",
       "pct_laccess_seniors10  0.063841           0.919708            0.826800   \n",
       "pct_diabetes18        -0.083778          -0.134409           -0.031133   \n",
       "class                 -0.084537          -0.137711           -0.067593   \n",
       "\n",
       "                       pct_laccess_hhnv10  pct_laccess_child10  \\\n",
       "fips                            -0.088925             0.038996   \n",
       "pct_laccess_pop10                0.120230             0.960288   \n",
       "pct_laccess_lowi10               0.278589             0.890427   \n",
       "pct_laccess_hhnv10               1.000000             0.162575   \n",
       "pct_laccess_child10              0.162575             1.000000   \n",
       "pct_laccess_seniors10            0.043447             0.823629   \n",
       "pct_diabetes18                   0.173692            -0.086022   \n",
       "class                            0.110627            -0.103810   \n",
       "\n",
       "                       pct_laccess_seniors10  pct_diabetes18     class  \n",
       "fips                                0.063841       -0.083778 -0.084537  \n",
       "pct_laccess_pop10                   0.919708       -0.134409 -0.137711  \n",
       "pct_laccess_lowi10                  0.826800       -0.031133 -0.067593  \n",
       "pct_laccess_hhnv10                  0.043447        0.173692  0.110627  \n",
       "pct_laccess_child10                 0.823629       -0.086022 -0.103810  \n",
       "pct_laccess_seniors10               1.000000       -0.190457 -0.185915  \n",
       "pct_diabetes18                     -0.190457        1.000000  0.799640  \n",
       "class                              -0.185915        0.799640  1.000000  "
      ]
     },
     "execution_count": 36,
     "metadata": {},
     "output_type": "execute_result"
    }
   ],
   "source": [
    "access10.corr()"
   ]
  },
  {
   "cell_type": "markdown",
   "id": "79381071",
   "metadata": {},
   "source": [
    "### KNN Classification"
   ]
  },
  {
   "cell_type": "markdown",
   "id": "2bfe61ea",
   "metadata": {},
   "source": [
    "#### 1. Create X and y"
   ]
  },
  {
   "cell_type": "code",
   "execution_count": 37,
   "id": "d926fb4d",
   "metadata": {},
   "outputs": [],
   "source": [
    "X = access10.drop(columns = ['fips', 'state', 'county', 'pct_diabetes18', 'class'])\n",
    "\n",
    "y= access10['class']"
   ]
  },
  {
   "cell_type": "markdown",
   "id": "accc0b79",
   "metadata": {},
   "source": [
    "#### 2. Determine baseline accuracy"
   ]
  },
  {
   "cell_type": "code",
   "execution_count": 38,
   "id": "8fbf39dc",
   "metadata": {},
   "outputs": [
    {
     "data": {
      "text/plain": [
       "0.0    0.58275\n",
       "1.0    0.41725\n",
       "Name: class, dtype: float64"
      ]
     },
     "execution_count": 38,
     "metadata": {},
     "output_type": "execute_result"
    }
   ],
   "source": [
    "access10['class'].value_counts(normalize=True)"
   ]
  },
  {
   "cell_type": "markdown",
   "id": "04140069",
   "metadata": {},
   "source": [
    "Baseline is 0.349."
   ]
  },
  {
   "cell_type": "markdown",
   "id": "2ea1c330",
   "metadata": {},
   "source": [
    "#### 3. Scale features"
   ]
  },
  {
   "cell_type": "code",
   "execution_count": 39,
   "id": "df69fc41",
   "metadata": {},
   "outputs": [],
   "source": [
    "ss = StandardScaler()\n",
    "\n",
    "X = ss.fit_transform(X)"
   ]
  },
  {
   "cell_type": "markdown",
   "id": "4542893b",
   "metadata": {},
   "source": [
    "#### 4. Train, test, split"
   ]
  },
  {
   "cell_type": "code",
   "execution_count": 40,
   "id": "27b5c677",
   "metadata": {},
   "outputs": [],
   "source": [
    "X_train, X_test, y_train, y_test = train_test_split(X, y, random_state = 42, stratify = y)"
   ]
  },
  {
   "cell_type": "markdown",
   "id": "c6496ef0",
   "metadata": {},
   "source": [
    "#### 5. Instantiate model"
   ]
  },
  {
   "cell_type": "code",
   "execution_count": 41,
   "id": "02951d97",
   "metadata": {},
   "outputs": [
    {
     "name": "stdout",
     "output_type": "stream",
     "text": [
      "0.7215619694397284 0.6157760814249363\n"
     ]
    }
   ],
   "source": [
    "with warnings.catch_warnings():\n",
    "    warnings.simplefilter(\"ignore\", category = FutureWarning)\n",
    "\n",
    "# Instantiate\n",
    "    knn = KNeighborsClassifier(n_neighbors= 7)\n",
    "\n",
    "# Fit\n",
    "    knn.fit(X_train, y_train)\n",
    "\n",
    "# Evaluate\n",
    "    print(knn.score(X_train, y_train), knn.score(X_test, y_test))"
   ]
  },
  {
   "cell_type": "markdown",
   "id": "56079709",
   "metadata": {},
   "source": [
    "#### 6. Generate predictions"
   ]
  },
  {
   "cell_type": "code",
   "execution_count": 42,
   "id": "08ba54b0",
   "metadata": {},
   "outputs": [],
   "source": [
    "with warnings.catch_warnings():\n",
    "    warnings.simplefilter(\"ignore\", category = FutureWarning)\n",
    "\n",
    "    knn_preds = knn.predict(X_test)"
   ]
  },
  {
   "cell_type": "markdown",
   "id": "f19f1b27",
   "metadata": {},
   "source": [
    "#### 7. Evaluate"
   ]
  },
  {
   "cell_type": "code",
   "execution_count": 43,
   "id": "21116ce4",
   "metadata": {},
   "outputs": [
    {
     "data": {
      "image/png": "[encoded data removed]",
      "text/plain": [
       "<Figure size 640x480 with 2 Axes>"
      ]
     },
     "metadata": {},
     "output_type": "display_data"
    }
   ],
   "source": [
    "with warnings.catch_warnings():\n",
    "    warnings.simplefilter(\"ignore\", category = FutureWarning)\n",
    "\n",
    "    ConfusionMatrixDisplay.from_estimator(knn, X_test, y_test, normalize = 'pred');"
   ]
  },
  {
   "cell_type": "code",
   "execution_count": 44,
   "id": "494d39c1",
   "metadata": {},
   "outputs": [],
   "source": [
    "with warnings.catch_warnings():\n",
    "    warnings.simplefilter(\"ignore\", category = FutureWarning)\n",
    "\n",
    "    preds = knn.predict(X_test) #generates predictions"
   ]
  },
  {
   "cell_type": "code",
   "execution_count": 45,
   "id": "d379c0be",
   "metadata": {},
   "outputs": [
    {
     "data": {
      "text/plain": [
       "array([309, 149, 153, 175])"
      ]
     },
     "execution_count": 45,
     "metadata": {},
     "output_type": "execute_result"
    }
   ],
   "source": [
    "confusion_matrix(y_test, preds).ravel()"
   ]
  },
  {
   "cell_type": "code",
   "execution_count": 46,
   "id": "ad4d4c38",
   "metadata": {},
   "outputs": [],
   "source": [
    "tn, fp, fn, tp = confusion_matrix(y_test, preds).ravel()"
   ]
  },
  {
   "cell_type": "code",
   "execution_count": 47,
   "id": "ab53e18d",
   "metadata": {},
   "outputs": [
    {
     "data": {
      "text/plain": [
       "(309, 149, 153, 175)"
      ]
     },
     "execution_count": 47,
     "metadata": {},
     "output_type": "execute_result"
    }
   ],
   "source": [
    "tn, fp, fn, tp #(true negative, false positive, false negative, true positive)"
   ]
  },
  {
   "cell_type": "markdown",
   "id": "7f232ea7",
   "metadata": {},
   "source": [
    "##### Accuracy (previously determined above)"
   ]
  },
  {
   "cell_type": "code",
   "execution_count": 48,
   "id": "a1fa0c62",
   "metadata": {},
   "outputs": [
    {
     "name": "stdout",
     "output_type": "stream",
     "text": [
      "0.6157760814249363\n"
     ]
    }
   ],
   "source": [
    "with warnings.catch_warnings():\n",
    "    warnings.simplefilter(\"ignore\", category = FutureWarning)\n",
    "\n",
    "    print(knn.score(X_test, y_test))"
   ]
  },
  {
   "cell_type": "markdown",
   "id": "5a56d985",
   "metadata": {},
   "source": [
    "This the proportion of total predictions that are correct. The accuracy is 0.616, which is higher than baseline."
   ]
  },
  {
   "cell_type": "markdown",
   "id": "f93f5240",
   "metadata": {},
   "source": [
    "##### Specificity"
   ]
  },
  {
   "cell_type": "code",
   "execution_count": 49,
   "id": "252c97e7",
   "metadata": {},
   "outputs": [
    {
     "data": {
      "text/plain": [
       "0.6746724890829694"
      ]
     },
     "execution_count": 49,
     "metadata": {},
     "output_type": "execute_result"
    }
   ],
   "source": [
    "specificity = tn / (tn + fp)\n",
    "\n",
    "specificity"
   ]
  },
  {
   "cell_type": "markdown",
   "id": "10c7b141",
   "metadata": {},
   "source": [
    "This is the proportion of total negatives that were predicted correctly. The specificity score is 0.675."
   ]
  },
  {
   "cell_type": "markdown",
   "id": "ffd434d8",
   "metadata": {},
   "source": [
    "##### Sensitivity"
   ]
  },
  {
   "cell_type": "code",
   "execution_count": 50,
   "id": "610cbcaf",
   "metadata": {},
   "outputs": [
    {
     "data": {
      "text/plain": [
       "0.5335365853658537"
      ]
     },
     "execution_count": 50,
     "metadata": {},
     "output_type": "execute_result"
    }
   ],
   "source": [
    "sensitivity = tp / (tp + fn)\n",
    "\n",
    "sensitivity"
   ]
  },
  {
   "cell_type": "markdown",
   "id": "a2eb27da",
   "metadata": {},
   "source": [
    "This is the proportion of total positives that were predicted correctly. The sensitivity score here of 0.534 would ideally be higher."
   ]
  },
  {
   "cell_type": "markdown",
   "id": "3f63bfc0",
   "metadata": {},
   "source": [
    "##### Precision"
   ]
  },
  {
   "cell_type": "code",
   "execution_count": 51,
   "id": "b7731782",
   "metadata": {},
   "outputs": [
    {
     "data": {
      "text/plain": [
       "0.5401234567901234"
      ]
     },
     "execution_count": 51,
     "metadata": {},
     "output_type": "execute_result"
    }
   ],
   "source": [
    "precision = tp / (tp + fp)\n",
    "\n",
    "precision"
   ]
  },
  {
   "cell_type": "markdown",
   "id": "de097a5a",
   "metadata": {},
   "source": [
    "This is the proportion of predicted positives that are actually positives. Ideally, the score would be higher than the 0.540 seen here."
   ]
  },
  {
   "cell_type": "markdown",
   "id": "777a92f7",
   "metadata": {},
   "source": [
    "##### F1"
   ]
  },
  {
   "cell_type": "code",
   "execution_count": 52,
   "id": "91170517",
   "metadata": {},
   "outputs": [
    {
     "data": {
      "text/plain": [
       "0.5368098159509201"
      ]
     },
     "execution_count": 52,
     "metadata": {},
     "output_type": "execute_result"
    }
   ],
   "source": [
    "f1 = 2 * (precision*sensitivity) / (precision+sensitivity)\n",
    "\n",
    "f1"
   ]
  },
  {
   "cell_type": "markdown",
   "id": "13fb0839",
   "metadata": {},
   "source": [
    "The F1 score combines the precicsion and sensitivity scores, and gives us an overall score through which to evaluate the model. Unfortunately, the model's score is below the baseline of 0.583."
   ]
  },
  {
   "cell_type": "markdown",
   "id": "4380575e",
   "metadata": {},
   "source": [
    "#### Discussion"
   ]
  },
  {
   "cell_type": "markdown",
   "id": "c64840cb",
   "metadata": {},
   "source": [
    "This model, which used data from 2010, did not effectively predict high or low prevalence of diabetes based on factors involving access to stores. Perhaps data collected closer to the time period of the target data would produce more predictive results."
   ]
  },
  {
   "cell_type": "markdown",
   "id": "5707c343",
   "metadata": {},
   "source": [
    "## Access"
   ]
  },
  {
   "cell_type": "code",
   "execution_count": 53,
   "id": "cafe95ea",
   "metadata": {},
   "outputs": [],
   "source": [
    "file_path = '../data/FoodEnvironmentAtlas.xls.ACCESS_Modeling.csv'\n",
    "\n",
    "access = pd.read_csv(file_path)"
   ]
  },
  {
   "cell_type": "code",
   "execution_count": 54,
   "id": "45935815",
   "metadata": {},
   "outputs": [
    {
     "data": {
      "text/html": [
       "<div>\n",
       "<style scoped>\n",
       "    .dataframe tbody tr th:only-of-type {\n",
       "        vertical-align: middle;\n",
       "    }\n",
       "\n",
       "    .dataframe tbody tr th {\n",
       "        vertical-align: top;\n",
       "    }\n",
       "\n",
       "    .dataframe thead th {\n",
       "        text-align: right;\n",
       "    }\n",
       "</style>\n",
       "<table border=\"1\" class=\"dataframe\">\n",
       "  <thead>\n",
       "    <tr style=\"text-align: right;\">\n",
       "      <th></th>\n",
       "      <th>fips</th>\n",
       "      <th>state</th>\n",
       "      <th>county</th>\n",
       "      <th>pct_laccess_pop10</th>\n",
       "      <th>pct_laccess_pop15</th>\n",
       "      <th>pct_laccess_lowi10</th>\n",
       "      <th>pct_laccess_lowi15</th>\n",
       "      <th>pct_laccess_hhnv10</th>\n",
       "      <th>pct_laccess_hhnv15</th>\n",
       "      <th>pct_laccess_snap15</th>\n",
       "      <th>pct_laccess_child10</th>\n",
       "      <th>pct_laccess_child15</th>\n",
       "      <th>pct_laccess_seniors10</th>\n",
       "      <th>pct_laccess_seniors15</th>\n",
       "      <th>pct_diabetes18</th>\n",
       "      <th>class</th>\n",
       "    </tr>\n",
       "  </thead>\n",
       "  <tbody>\n",
       "    <tr>\n",
       "      <th>0</th>\n",
       "      <td>1001</td>\n",
       "      <td>AL</td>\n",
       "      <td>Autauga</td>\n",
       "      <td>33.769657</td>\n",
       "      <td>32.062255</td>\n",
       "      <td>9.793530</td>\n",
       "      <td>11.991125</td>\n",
       "      <td>3.284786</td>\n",
       "      <td>3.351332</td>\n",
       "      <td>4.608749</td>\n",
       "      <td>8.837112</td>\n",
       "      <td>8.460485</td>\n",
       "      <td>4.376378</td>\n",
       "      <td>3.996279</td>\n",
       "      <td>9.5</td>\n",
       "      <td>1.0</td>\n",
       "    </tr>\n",
       "    <tr>\n",
       "      <th>1</th>\n",
       "      <td>1003</td>\n",
       "      <td>AL</td>\n",
       "      <td>Baldwin</td>\n",
       "      <td>19.318473</td>\n",
       "      <td>16.767489</td>\n",
       "      <td>5.460261</td>\n",
       "      <td>5.424427</td>\n",
       "      <td>2.147827</td>\n",
       "      <td>1.905114</td>\n",
       "      <td>1.298900</td>\n",
       "      <td>4.343199</td>\n",
       "      <td>3.844936</td>\n",
       "      <td>3.513570</td>\n",
       "      <td>3.061840</td>\n",
       "      <td>8.4</td>\n",
       "      <td>0.0</td>\n",
       "    </tr>\n",
       "    <tr>\n",
       "      <th>2</th>\n",
       "      <td>1005</td>\n",
       "      <td>AL</td>\n",
       "      <td>Barbour</td>\n",
       "      <td>20.840972</td>\n",
       "      <td>22.105560</td>\n",
       "      <td>11.420316</td>\n",
       "      <td>10.739667</td>\n",
       "      <td>4.135869</td>\n",
       "      <td>4.329378</td>\n",
       "      <td>4.303147</td>\n",
       "      <td>3.425062</td>\n",
       "      <td>3.758341</td>\n",
       "      <td>2.805166</td>\n",
       "      <td>3.001695</td>\n",
       "      <td>13.5</td>\n",
       "      <td>1.0</td>\n",
       "    </tr>\n",
       "    <tr>\n",
       "      <th>3</th>\n",
       "      <td>1007</td>\n",
       "      <td>AL</td>\n",
       "      <td>Bibb</td>\n",
       "      <td>4.559753</td>\n",
       "      <td>4.230324</td>\n",
       "      <td>2.144661</td>\n",
       "      <td>2.601627</td>\n",
       "      <td>3.458580</td>\n",
       "      <td>2.821427</td>\n",
       "      <td>0.676710</td>\n",
       "      <td>1.087518</td>\n",
       "      <td>1.015242</td>\n",
       "      <td>0.657008</td>\n",
       "      <td>0.600865</td>\n",
       "      <td>10.2</td>\n",
       "      <td>1.0</td>\n",
       "    </tr>\n",
       "    <tr>\n",
       "      <th>4</th>\n",
       "      <td>1009</td>\n",
       "      <td>AL</td>\n",
       "      <td>Blount</td>\n",
       "      <td>2.700840</td>\n",
       "      <td>6.497380</td>\n",
       "      <td>1.062468</td>\n",
       "      <td>2.880150</td>\n",
       "      <td>3.269380</td>\n",
       "      <td>3.336414</td>\n",
       "      <td>0.812727</td>\n",
       "      <td>0.671490</td>\n",
       "      <td>1.588720</td>\n",
       "      <td>0.340269</td>\n",
       "      <td>0.882583</td>\n",
       "      <td>10.5</td>\n",
       "      <td>1.0</td>\n",
       "    </tr>\n",
       "  </tbody>\n",
       "</table>\n",
       "</div>"
      ],
      "text/plain": [
       "   fips state   county  pct_laccess_pop10  pct_laccess_pop15  \\\n",
       "0  1001    AL  Autauga          33.769657          32.062255   \n",
       "1  1003    AL  Baldwin          19.318473          16.767489   \n",
       "2  1005    AL  Barbour          20.840972          22.105560   \n",
       "3  1007    AL     Bibb           4.559753           4.230324   \n",
       "4  1009    AL   Blount           2.700840           6.497380   \n",
       "\n",
       "   pct_laccess_lowi10  pct_laccess_lowi15  pct_laccess_hhnv10  \\\n",
       "0            9.793530           11.991125            3.284786   \n",
       "1            5.460261            5.424427            2.147827   \n",
       "2           11.420316           10.739667            4.135869   \n",
       "3            2.144661            2.601627            3.458580   \n",
       "4            1.062468            2.880150            3.269380   \n",
       "\n",
       "   pct_laccess_hhnv15  pct_laccess_snap15  pct_laccess_child10  \\\n",
       "0            3.351332            4.608749             8.837112   \n",
       "1            1.905114            1.298900             4.343199   \n",
       "2            4.329378            4.303147             3.425062   \n",
       "3            2.821427            0.676710             1.087518   \n",
       "4            3.336414            0.812727             0.671490   \n",
       "\n",
       "   pct_laccess_child15  pct_laccess_seniors10  pct_laccess_seniors15  \\\n",
       "0             8.460485               4.376378               3.996279   \n",
       "1             3.844936               3.513570               3.061840   \n",
       "2             3.758341               2.805166               3.001695   \n",
       "3             1.015242               0.657008               0.600865   \n",
       "4             1.588720               0.340269               0.882583   \n",
       "\n",
       "   pct_diabetes18  class  \n",
       "0             9.5    1.0  \n",
       "1             8.4    0.0  \n",
       "2            13.5    1.0  \n",
       "3            10.2    1.0  \n",
       "4            10.5    1.0  "
      ]
     },
     "execution_count": 54,
     "metadata": {},
     "output_type": "execute_result"
    }
   ],
   "source": [
    "access.head()"
   ]
  },
  {
   "cell_type": "code",
   "execution_count": 55,
   "id": "a22ef0d9",
   "metadata": {},
   "outputs": [
    {
     "data": {
      "text/html": [
       "<div>\n",
       "<style scoped>\n",
       "    .dataframe tbody tr th:only-of-type {\n",
       "        vertical-align: middle;\n",
       "    }\n",
       "\n",
       "    .dataframe tbody tr th {\n",
       "        vertical-align: top;\n",
       "    }\n",
       "\n",
       "    .dataframe thead th {\n",
       "        text-align: right;\n",
       "    }\n",
       "</style>\n",
       "<table border=\"1\" class=\"dataframe\">\n",
       "  <thead>\n",
       "    <tr style=\"text-align: right;\">\n",
       "      <th></th>\n",
       "      <th>fips</th>\n",
       "      <th>pct_laccess_pop10</th>\n",
       "      <th>pct_laccess_pop15</th>\n",
       "      <th>pct_laccess_lowi10</th>\n",
       "      <th>pct_laccess_lowi15</th>\n",
       "      <th>pct_laccess_hhnv10</th>\n",
       "      <th>pct_laccess_hhnv15</th>\n",
       "      <th>pct_laccess_snap15</th>\n",
       "      <th>pct_laccess_child10</th>\n",
       "      <th>pct_laccess_child15</th>\n",
       "      <th>pct_laccess_seniors10</th>\n",
       "      <th>pct_laccess_seniors15</th>\n",
       "      <th>pct_diabetes18</th>\n",
       "      <th>class</th>\n",
       "    </tr>\n",
       "  </thead>\n",
       "  <tbody>\n",
       "    <tr>\n",
       "      <th>fips</th>\n",
       "      <td>1.000000</td>\n",
       "      <td>0.044676</td>\n",
       "      <td>0.047202</td>\n",
       "      <td>0.017171</td>\n",
       "      <td>0.012524</td>\n",
       "      <td>-0.089955</td>\n",
       "      <td>-0.098144</td>\n",
       "      <td>-0.008702</td>\n",
       "      <td>0.041220</td>\n",
       "      <td>0.041755</td>\n",
       "      <td>0.065787</td>\n",
       "      <td>0.069672</td>\n",
       "      <td>-0.083215</td>\n",
       "      <td>-0.084746</td>\n",
       "    </tr>\n",
       "    <tr>\n",
       "      <th>pct_laccess_pop10</th>\n",
       "      <td>0.044676</td>\n",
       "      <td>1.000000</td>\n",
       "      <td>0.853414</td>\n",
       "      <td>0.901380</td>\n",
       "      <td>0.743295</td>\n",
       "      <td>0.122078</td>\n",
       "      <td>0.054158</td>\n",
       "      <td>0.469834</td>\n",
       "      <td>0.959989</td>\n",
       "      <td>0.807716</td>\n",
       "      <td>0.919354</td>\n",
       "      <td>0.794706</td>\n",
       "      <td>-0.136624</td>\n",
       "      <td>-0.141467</td>\n",
       "    </tr>\n",
       "    <tr>\n",
       "      <th>pct_laccess_pop15</th>\n",
       "      <td>0.047202</td>\n",
       "      <td>0.853414</td>\n",
       "      <td>1.000000</td>\n",
       "      <td>0.778225</td>\n",
       "      <td>0.902763</td>\n",
       "      <td>0.126787</td>\n",
       "      <td>0.149968</td>\n",
       "      <td>0.636900</td>\n",
       "      <td>0.822633</td>\n",
       "      <td>0.956227</td>\n",
       "      <td>0.766747</td>\n",
       "      <td>0.908728</td>\n",
       "      <td>-0.113586</td>\n",
       "      <td>-0.126183</td>\n",
       "    </tr>\n",
       "    <tr>\n",
       "      <th>pct_laccess_lowi10</th>\n",
       "      <td>0.017171</td>\n",
       "      <td>0.901380</td>\n",
       "      <td>0.778225</td>\n",
       "      <td>1.000000</td>\n",
       "      <td>0.818331</td>\n",
       "      <td>0.280986</td>\n",
       "      <td>0.210646</td>\n",
       "      <td>0.625093</td>\n",
       "      <td>0.889739</td>\n",
       "      <td>0.761005</td>\n",
       "      <td>0.825874</td>\n",
       "      <td>0.722729</td>\n",
       "      <td>-0.032367</td>\n",
       "      <td>-0.070412</td>\n",
       "    </tr>\n",
       "    <tr>\n",
       "      <th>pct_laccess_lowi15</th>\n",
       "      <td>0.012524</td>\n",
       "      <td>0.743295</td>\n",
       "      <td>0.902763</td>\n",
       "      <td>0.818331</td>\n",
       "      <td>1.000000</td>\n",
       "      <td>0.286250</td>\n",
       "      <td>0.325036</td>\n",
       "      <td>0.825737</td>\n",
       "      <td>0.738435</td>\n",
       "      <td>0.890612</td>\n",
       "      <td>0.652591</td>\n",
       "      <td>0.801443</td>\n",
       "      <td>0.004368</td>\n",
       "      <td>-0.040942</td>\n",
       "    </tr>\n",
       "    <tr>\n",
       "      <th>pct_laccess_hhnv10</th>\n",
       "      <td>-0.089955</td>\n",
       "      <td>0.122078</td>\n",
       "      <td>0.126787</td>\n",
       "      <td>0.280986</td>\n",
       "      <td>0.286250</td>\n",
       "      <td>1.000000</td>\n",
       "      <td>0.898404</td>\n",
       "      <td>0.469096</td>\n",
       "      <td>0.164697</td>\n",
       "      <td>0.167128</td>\n",
       "      <td>0.044491</td>\n",
       "      <td>0.042016</td>\n",
       "      <td>0.171463</td>\n",
       "      <td>0.110415</td>\n",
       "    </tr>\n",
       "    <tr>\n",
       "      <th>pct_laccess_hhnv15</th>\n",
       "      <td>-0.098144</td>\n",
       "      <td>0.054158</td>\n",
       "      <td>0.149968</td>\n",
       "      <td>0.210646</td>\n",
       "      <td>0.325036</td>\n",
       "      <td>0.898404</td>\n",
       "      <td>1.000000</td>\n",
       "      <td>0.529472</td>\n",
       "      <td>0.087083</td>\n",
       "      <td>0.179918</td>\n",
       "      <td>-0.010279</td>\n",
       "      <td>0.067063</td>\n",
       "      <td>0.183477</td>\n",
       "      <td>0.112943</td>\n",
       "    </tr>\n",
       "    <tr>\n",
       "      <th>pct_laccess_snap15</th>\n",
       "      <td>-0.008702</td>\n",
       "      <td>0.469834</td>\n",
       "      <td>0.636900</td>\n",
       "      <td>0.625093</td>\n",
       "      <td>0.825737</td>\n",
       "      <td>0.469096</td>\n",
       "      <td>0.529472</td>\n",
       "      <td>1.000000</td>\n",
       "      <td>0.514461</td>\n",
       "      <td>0.683914</td>\n",
       "      <td>0.350932</td>\n",
       "      <td>0.493608</td>\n",
       "      <td>0.160010</td>\n",
       "      <td>0.077076</td>\n",
       "    </tr>\n",
       "    <tr>\n",
       "      <th>pct_laccess_child10</th>\n",
       "      <td>0.041220</td>\n",
       "      <td>0.959989</td>\n",
       "      <td>0.822633</td>\n",
       "      <td>0.889739</td>\n",
       "      <td>0.738435</td>\n",
       "      <td>0.164697</td>\n",
       "      <td>0.087083</td>\n",
       "      <td>0.514461</td>\n",
       "      <td>1.000000</td>\n",
       "      <td>0.854632</td>\n",
       "      <td>0.822657</td>\n",
       "      <td>0.705932</td>\n",
       "      <td>-0.087828</td>\n",
       "      <td>-0.107267</td>\n",
       "    </tr>\n",
       "    <tr>\n",
       "      <th>pct_laccess_child15</th>\n",
       "      <td>0.041755</td>\n",
       "      <td>0.807716</td>\n",
       "      <td>0.956227</td>\n",
       "      <td>0.761005</td>\n",
       "      <td>0.890612</td>\n",
       "      <td>0.167128</td>\n",
       "      <td>0.179918</td>\n",
       "      <td>0.683914</td>\n",
       "      <td>0.854632</td>\n",
       "      <td>1.000000</td>\n",
       "      <td>0.666923</td>\n",
       "      <td>0.802065</td>\n",
       "      <td>-0.063638</td>\n",
       "      <td>-0.092573</td>\n",
       "    </tr>\n",
       "    <tr>\n",
       "      <th>pct_laccess_seniors10</th>\n",
       "      <td>0.065787</td>\n",
       "      <td>0.919354</td>\n",
       "      <td>0.766747</td>\n",
       "      <td>0.825874</td>\n",
       "      <td>0.652591</td>\n",
       "      <td>0.044491</td>\n",
       "      <td>-0.010279</td>\n",
       "      <td>0.350932</td>\n",
       "      <td>0.822657</td>\n",
       "      <td>0.666923</td>\n",
       "      <td>1.000000</td>\n",
       "      <td>0.865330</td>\n",
       "      <td>-0.192573</td>\n",
       "      <td>-0.189129</td>\n",
       "    </tr>\n",
       "    <tr>\n",
       "      <th>pct_laccess_seniors15</th>\n",
       "      <td>0.069672</td>\n",
       "      <td>0.794706</td>\n",
       "      <td>0.908728</td>\n",
       "      <td>0.722729</td>\n",
       "      <td>0.801443</td>\n",
       "      <td>0.042016</td>\n",
       "      <td>0.067063</td>\n",
       "      <td>0.493608</td>\n",
       "      <td>0.705932</td>\n",
       "      <td>0.802065</td>\n",
       "      <td>0.865330</td>\n",
       "      <td>1.000000</td>\n",
       "      <td>-0.178666</td>\n",
       "      <td>-0.178768</td>\n",
       "    </tr>\n",
       "    <tr>\n",
       "      <th>pct_diabetes18</th>\n",
       "      <td>-0.083215</td>\n",
       "      <td>-0.136624</td>\n",
       "      <td>-0.113586</td>\n",
       "      <td>-0.032367</td>\n",
       "      <td>0.004368</td>\n",
       "      <td>0.171463</td>\n",
       "      <td>0.183477</td>\n",
       "      <td>0.160010</td>\n",
       "      <td>-0.087828</td>\n",
       "      <td>-0.063638</td>\n",
       "      <td>-0.192573</td>\n",
       "      <td>-0.178666</td>\n",
       "      <td>1.000000</td>\n",
       "      <td>0.799974</td>\n",
       "    </tr>\n",
       "    <tr>\n",
       "      <th>class</th>\n",
       "      <td>-0.084746</td>\n",
       "      <td>-0.141467</td>\n",
       "      <td>-0.126183</td>\n",
       "      <td>-0.070412</td>\n",
       "      <td>-0.040942</td>\n",
       "      <td>0.110415</td>\n",
       "      <td>0.112943</td>\n",
       "      <td>0.077076</td>\n",
       "      <td>-0.107267</td>\n",
       "      <td>-0.092573</td>\n",
       "      <td>-0.189129</td>\n",
       "      <td>-0.178768</td>\n",
       "      <td>0.799974</td>\n",
       "      <td>1.000000</td>\n",
       "    </tr>\n",
       "  </tbody>\n",
       "</table>\n",
       "</div>"
      ],
      "text/plain": [
       "                           fips  pct_laccess_pop10  pct_laccess_pop15  \\\n",
       "fips                   1.000000           0.044676           0.047202   \n",
       "pct_laccess_pop10      0.044676           1.000000           0.853414   \n",
       "pct_laccess_pop15      0.047202           0.853414           1.000000   \n",
       "pct_laccess_lowi10     0.017171           0.901380           0.778225   \n",
       "pct_laccess_lowi15     0.012524           0.743295           0.902763   \n",
       "pct_laccess_hhnv10    -0.089955           0.122078           0.126787   \n",
       "pct_laccess_hhnv15    -0.098144           0.054158           0.149968   \n",
       "pct_laccess_snap15    -0.008702           0.469834           0.636900   \n",
       "pct_laccess_child10    0.041220           0.959989           0.822633   \n",
       "pct_laccess_child15    0.041755           0.807716           0.956227   \n",
       "pct_laccess_seniors10  0.065787           0.919354           0.766747   \n",
       "pct_laccess_seniors15  0.069672           0.794706           0.908728   \n",
       "pct_diabetes18        -0.083215          -0.136624          -0.113586   \n",
       "class                 -0.084746          -0.141467          -0.126183   \n",
       "\n",
       "                       pct_laccess_lowi10  pct_laccess_lowi15  \\\n",
       "fips                             0.017171            0.012524   \n",
       "pct_laccess_pop10                0.901380            0.743295   \n",
       "pct_laccess_pop15                0.778225            0.902763   \n",
       "pct_laccess_lowi10               1.000000            0.818331   \n",
       "pct_laccess_lowi15               0.818331            1.000000   \n",
       "pct_laccess_hhnv10               0.280986            0.286250   \n",
       "pct_laccess_hhnv15               0.210646            0.325036   \n",
       "pct_laccess_snap15               0.625093            0.825737   \n",
       "pct_laccess_child10              0.889739            0.738435   \n",
       "pct_laccess_child15              0.761005            0.890612   \n",
       "pct_laccess_seniors10            0.825874            0.652591   \n",
       "pct_laccess_seniors15            0.722729            0.801443   \n",
       "pct_diabetes18                  -0.032367            0.004368   \n",
       "class                           -0.070412           -0.040942   \n",
       "\n",
       "                       pct_laccess_hhnv10  pct_laccess_hhnv15  \\\n",
       "fips                            -0.089955           -0.098144   \n",
       "pct_laccess_pop10                0.122078            0.054158   \n",
       "pct_laccess_pop15                0.126787            0.149968   \n",
       "pct_laccess_lowi10               0.280986            0.210646   \n",
       "pct_laccess_lowi15               0.286250            0.325036   \n",
       "pct_laccess_hhnv10               1.000000            0.898404   \n",
       "pct_laccess_hhnv15               0.898404            1.000000   \n",
       "pct_laccess_snap15               0.469096            0.529472   \n",
       "pct_laccess_child10              0.164697            0.087083   \n",
       "pct_laccess_child15              0.167128            0.179918   \n",
       "pct_laccess_seniors10            0.044491           -0.010279   \n",
       "pct_laccess_seniors15            0.042016            0.067063   \n",
       "pct_diabetes18                   0.171463            0.183477   \n",
       "class                            0.110415            0.112943   \n",
       "\n",
       "                       pct_laccess_snap15  pct_laccess_child10  \\\n",
       "fips                            -0.008702             0.041220   \n",
       "pct_laccess_pop10                0.469834             0.959989   \n",
       "pct_laccess_pop15                0.636900             0.822633   \n",
       "pct_laccess_lowi10               0.625093             0.889739   \n",
       "pct_laccess_lowi15               0.825737             0.738435   \n",
       "pct_laccess_hhnv10               0.469096             0.164697   \n",
       "pct_laccess_hhnv15               0.529472             0.087083   \n",
       "pct_laccess_snap15               1.000000             0.514461   \n",
       "pct_laccess_child10              0.514461             1.000000   \n",
       "pct_laccess_child15              0.683914             0.854632   \n",
       "pct_laccess_seniors10            0.350932             0.822657   \n",
       "pct_laccess_seniors15            0.493608             0.705932   \n",
       "pct_diabetes18                   0.160010            -0.087828   \n",
       "class                            0.077076            -0.107267   \n",
       "\n",
       "                       pct_laccess_child15  pct_laccess_seniors10  \\\n",
       "fips                              0.041755               0.065787   \n",
       "pct_laccess_pop10                 0.807716               0.919354   \n",
       "pct_laccess_pop15                 0.956227               0.766747   \n",
       "pct_laccess_lowi10                0.761005               0.825874   \n",
       "pct_laccess_lowi15                0.890612               0.652591   \n",
       "pct_laccess_hhnv10                0.167128               0.044491   \n",
       "pct_laccess_hhnv15                0.179918              -0.010279   \n",
       "pct_laccess_snap15                0.683914               0.350932   \n",
       "pct_laccess_child10               0.854632               0.822657   \n",
       "pct_laccess_child15               1.000000               0.666923   \n",
       "pct_laccess_seniors10             0.666923               1.000000   \n",
       "pct_laccess_seniors15             0.802065               0.865330   \n",
       "pct_diabetes18                   -0.063638              -0.192573   \n",
       "class                            -0.092573              -0.189129   \n",
       "\n",
       "                       pct_laccess_seniors15  pct_diabetes18     class  \n",
       "fips                                0.069672       -0.083215 -0.084746  \n",
       "pct_laccess_pop10                   0.794706       -0.136624 -0.141467  \n",
       "pct_laccess_pop15                   0.908728       -0.113586 -0.126183  \n",
       "pct_laccess_lowi10                  0.722729       -0.032367 -0.070412  \n",
       "pct_laccess_lowi15                  0.801443        0.004368 -0.040942  \n",
       "pct_laccess_hhnv10                  0.042016        0.171463  0.110415  \n",
       "pct_laccess_hhnv15                  0.067063        0.183477  0.112943  \n",
       "pct_laccess_snap15                  0.493608        0.160010  0.077076  \n",
       "pct_laccess_child10                 0.705932       -0.087828 -0.107267  \n",
       "pct_laccess_child15                 0.802065       -0.063638 -0.092573  \n",
       "pct_laccess_seniors10               0.865330       -0.192573 -0.189129  \n",
       "pct_laccess_seniors15               1.000000       -0.178666 -0.178768  \n",
       "pct_diabetes18                     -0.178666        1.000000  0.799974  \n",
       "class                              -0.178768        0.799974  1.000000  "
      ]
     },
     "execution_count": 55,
     "metadata": {},
     "output_type": "execute_result"
    }
   ],
   "source": [
    "access.corr()"
   ]
  },
  {
   "cell_type": "markdown",
   "id": "57f140e9",
   "metadata": {},
   "source": [
    "### KNN Classification"
   ]
  },
  {
   "cell_type": "markdown",
   "id": "18510116",
   "metadata": {},
   "source": [
    "#### 1. Create X and y"
   ]
  },
  {
   "cell_type": "code",
   "execution_count": 56,
   "id": "1d6197f0",
   "metadata": {},
   "outputs": [],
   "source": [
    "X = access.drop(columns = ['fips', 'state', 'county', 'pct_diabetes18', 'class'])\n",
    "\n",
    "y = access['class']"
   ]
  },
  {
   "cell_type": "markdown",
   "id": "a727ceb4",
   "metadata": {},
   "source": [
    "#### 2. Determine baseline"
   ]
  },
  {
   "cell_type": "code",
   "execution_count": 57,
   "id": "212ef865",
   "metadata": {},
   "outputs": [
    {
     "data": {
      "text/plain": [
       "0.0    0.581492\n",
       "1.0    0.418508\n",
       "Name: class, dtype: float64"
      ]
     },
     "execution_count": 57,
     "metadata": {},
     "output_type": "execute_result"
    }
   ],
   "source": [
    "access['class'].value_counts(normalize = True)"
   ]
  },
  {
   "cell_type": "markdown",
   "id": "5b0e66f8",
   "metadata": {},
   "source": [
    "Baseline is 0.581."
   ]
  },
  {
   "cell_type": "markdown",
   "id": "ccf3172f",
   "metadata": {},
   "source": [
    "#### 3. Scale features"
   ]
  },
  {
   "cell_type": "code",
   "execution_count": 58,
   "id": "c8de6a29",
   "metadata": {},
   "outputs": [],
   "source": [
    "ss = StandardScaler()\n",
    "\n",
    "X = ss.fit_transform(X)"
   ]
  },
  {
   "cell_type": "markdown",
   "id": "0cc3e297",
   "metadata": {},
   "source": [
    "#### 4. Train, test, split"
   ]
  },
  {
   "cell_type": "code",
   "execution_count": 59,
   "id": "bcd805c4",
   "metadata": {},
   "outputs": [],
   "source": [
    "X_train, X_test, y_train, y_test = train_test_split(X, y, random_state = 42, stratify = y)"
   ]
  },
  {
   "cell_type": "markdown",
   "id": "995aa342",
   "metadata": {},
   "source": [
    "#### 5. Instantiate, fit, and evaluate the model"
   ]
  },
  {
   "cell_type": "code",
   "execution_count": 60,
   "id": "3dcef58f",
   "metadata": {},
   "outputs": [
    {
     "name": "stdout",
     "output_type": "stream",
     "text": [
      "0.6912894961571306 0.6325224071702945\n"
     ]
    }
   ],
   "source": [
    "with warnings.catch_warnings():\n",
    "    warnings.simplefilter(\"ignore\", category = FutureWarning)\n",
    "    \n",
    "# Instantiate\n",
    "    knn = KNeighborsClassifier(n_neighbors= 24)\n",
    "\n",
    "# Fit\n",
    "    knn.fit(X_train, y_train)\n",
    "\n",
    "# Evaluate\n",
    "    print(knn.score(X_train, y_train), knn.score(X_test, y_test))"
   ]
  },
  {
   "cell_type": "markdown",
   "id": "c752f2bb",
   "metadata": {},
   "source": [
    "#### 6. Evaluate"
   ]
  },
  {
   "cell_type": "code",
   "execution_count": 61,
   "id": "976e73b1",
   "metadata": {},
   "outputs": [
    {
     "data": {
      "image/png": "[encoded data removed]",
      "text/plain": [
       "<Figure size 640x480 with 2 Axes>"
      ]
     },
     "metadata": {},
     "output_type": "display_data"
    }
   ],
   "source": [
    "with warnings.catch_warnings():\n",
    "    warnings.simplefilter(\"ignore\", category = FutureWarning)\n",
    "\n",
    "    ConfusionMatrixDisplay.from_estimator(knn, X_test, y_test, normalize = 'pred');"
   ]
  },
  {
   "cell_type": "code",
   "execution_count": 62,
   "id": "2ac4c7f1",
   "metadata": {},
   "outputs": [],
   "source": [
    "with warnings.catch_warnings():\n",
    "    warnings.simplefilter(\"ignore\", category = FutureWarning)\n",
    "\n",
    "    preds = knn.predict(X_test) #generates predictions"
   ]
  },
  {
   "cell_type": "code",
   "execution_count": 63,
   "id": "091685fe",
   "metadata": {},
   "outputs": [
    {
     "data": {
      "text/plain": [
       "array([318, 136, 151, 176])"
      ]
     },
     "execution_count": 63,
     "metadata": {},
     "output_type": "execute_result"
    }
   ],
   "source": [
    "confusion_matrix(y_test, preds).ravel()"
   ]
  },
  {
   "cell_type": "code",
   "execution_count": 64,
   "id": "6dcec2dd",
   "metadata": {},
   "outputs": [],
   "source": [
    "tn, fp, fn, tp = confusion_matrix(y_test, preds).ravel()"
   ]
  },
  {
   "cell_type": "code",
   "execution_count": 65,
   "id": "bb2efc52",
   "metadata": {},
   "outputs": [
    {
     "data": {
      "text/plain": [
       "(318, 136, 151, 176)"
      ]
     },
     "execution_count": 65,
     "metadata": {},
     "output_type": "execute_result"
    }
   ],
   "source": [
    "tn, fp, fn, tp #(true negative, false positive, false negative, true positive)"
   ]
  },
  {
   "cell_type": "markdown",
   "id": "877500f0",
   "metadata": {},
   "source": [
    "##### Accuracy"
   ]
  },
  {
   "cell_type": "code",
   "execution_count": 66,
   "id": "8bf35cdc",
   "metadata": {},
   "outputs": [
    {
     "name": "stdout",
     "output_type": "stream",
     "text": [
      "0.6325224071702945\n"
     ]
    }
   ],
   "source": [
    "with warnings.catch_warnings():\n",
    "    warnings.simplefilter(\"ignore\", category = FutureWarning)\n",
    "\n",
    "    print(knn.score(X_test, y_test))"
   ]
  },
  {
   "cell_type": "markdown",
   "id": "cf21b045",
   "metadata": {},
   "source": [
    "This is the proportion of total predictions that were correct. The score of 0.633 is above the baseline (which was 0.583.) \n"
   ]
  },
  {
   "cell_type": "markdown",
   "id": "c98f94a8",
   "metadata": {},
   "source": [
    "##### Specificity"
   ]
  },
  {
   "cell_type": "code",
   "execution_count": 67,
   "id": "8088e87d",
   "metadata": {},
   "outputs": [
    {
     "data": {
      "text/plain": [
       "0.7004405286343612"
      ]
     },
     "execution_count": 67,
     "metadata": {},
     "output_type": "execute_result"
    }
   ],
   "source": [
    "specificity = tn / (tn + fp)\n",
    "\n",
    "specificity\n"
   ]
  },
  {
   "cell_type": "markdown",
   "id": "9a782aee",
   "metadata": {},
   "source": [
    "This is the proportion of total negatives that were predicted correctly. As far as the current study, the score of 0.700 is relatively high."
   ]
  },
  {
   "cell_type": "markdown",
   "id": "3508ca38",
   "metadata": {},
   "source": [
    "##### Sensitivity"
   ]
  },
  {
   "cell_type": "code",
   "execution_count": 68,
   "id": "3277c07b",
   "metadata": {},
   "outputs": [
    {
     "data": {
      "text/plain": [
       "0.5382262996941896"
      ]
     },
     "execution_count": 68,
     "metadata": {},
     "output_type": "execute_result"
    }
   ],
   "source": [
    "sensitivity = tp / (tp + fn)\n",
    "\n",
    "sensitivity"
   ]
  },
  {
   "cell_type": "markdown",
   "id": "5ab17610",
   "metadata": {},
   "source": [
    "This is the proportion of total positives that were predicted correctly. The sensitivity score here of 0.538 would ideally be higher."
   ]
  },
  {
   "cell_type": "code",
   "execution_count": 69,
   "id": "9fa99a78",
   "metadata": {},
   "outputs": [
    {
     "data": {
      "text/plain": [
       "0.5641025641025641"
      ]
     },
     "execution_count": 69,
     "metadata": {},
     "output_type": "execute_result"
    }
   ],
   "source": [
    "precision = tp / (tp + fp)\n",
    "\n",
    "precision\n"
   ]
  },
  {
   "cell_type": "markdown",
   "id": "33451bd4",
   "metadata": {},
   "source": [
    "This is the proportion of predicted positives that are actually positives. Ideally, the score would be higher than the 0.564 seen here."
   ]
  },
  {
   "cell_type": "markdown",
   "id": "faca3f32",
   "metadata": {},
   "source": [
    "##### F1"
   ]
  },
  {
   "cell_type": "code",
   "execution_count": 70,
   "id": "a5ee690e",
   "metadata": {},
   "outputs": [
    {
     "data": {
      "text/plain": [
       "0.5508607198748043"
      ]
     },
     "execution_count": 70,
     "metadata": {},
     "output_type": "execute_result"
    }
   ],
   "source": [
    "f1 = 2 * (precision*sensitivity) / (precision+sensitivity)\n",
    "\n",
    "f1"
   ]
  },
  {
   "cell_type": "markdown",
   "id": "daa50e1d",
   "metadata": {},
   "source": [
    "The F1 score combines the precicsion and sensitivity scores, and gives us an overall score through which to evaluate the model. Unfortunately, the model's score is below the baseline of 0.581."
   ]
  },
  {
   "cell_type": "markdown",
   "id": "08901d56",
   "metadata": {},
   "source": [
    "## Assistance"
   ]
  },
  {
   "cell_type": "code",
   "execution_count": 71,
   "id": "06c4090c",
   "metadata": {},
   "outputs": [],
   "source": [
    "file_path = '../data/FoodEnvironmentAtlas.xls.ASSISTANCE_Modeling.csv'\n",
    "\n",
    "assistance = pd.read_csv(file_path)"
   ]
  },
  {
   "cell_type": "code",
   "execution_count": 72,
   "id": "148a6293",
   "metadata": {},
   "outputs": [
    {
     "data": {
      "text/html": [
       "<div>\n",
       "<style scoped>\n",
       "    .dataframe tbody tr th:only-of-type {\n",
       "        vertical-align: middle;\n",
       "    }\n",
       "\n",
       "    .dataframe tbody tr th {\n",
       "        vertical-align: top;\n",
       "    }\n",
       "\n",
       "    .dataframe thead th {\n",
       "        text-align: right;\n",
       "    }\n",
       "</style>\n",
       "<table border=\"1\" class=\"dataframe\">\n",
       "  <thead>\n",
       "    <tr style=\"text-align: right;\">\n",
       "      <th></th>\n",
       "      <th>fips</th>\n",
       "      <th>state</th>\n",
       "      <th>county</th>\n",
       "      <th>pct_snap12</th>\n",
       "      <th>pct_snap17</th>\n",
       "      <th>snap_part_rate11</th>\n",
       "      <th>snap_part_rate16</th>\n",
       "      <th>pct_nslp12</th>\n",
       "      <th>pct_nslp17</th>\n",
       "      <th>pct_sbp12</th>\n",
       "      <th>...</th>\n",
       "      <th>pct_wicinfantchild16</th>\n",
       "      <th>pct_wicwomen14</th>\n",
       "      <th>pct_wicwomen16</th>\n",
       "      <th>pct_cacfp12</th>\n",
       "      <th>pct_cacfp17</th>\n",
       "      <th>fdpir12</th>\n",
       "      <th>fdpir15</th>\n",
       "      <th>food_banks18</th>\n",
       "      <th>pct_diabetes18</th>\n",
       "      <th>class</th>\n",
       "    </tr>\n",
       "  </thead>\n",
       "  <tbody>\n",
       "    <tr>\n",
       "      <th>0</th>\n",
       "      <td>1001</td>\n",
       "      <td>AL</td>\n",
       "      <td>Autauga</td>\n",
       "      <td>18.908476</td>\n",
       "      <td>16.500056</td>\n",
       "      <td>84.02</td>\n",
       "      <td>86.898</td>\n",
       "      <td>68.226043</td>\n",
       "      <td>63.12659</td>\n",
       "      <td>27.206328</td>\n",
       "      <td>...</td>\n",
       "      <td>32.910876</td>\n",
       "      <td>3.318827</td>\n",
       "      <td>3.309759</td>\n",
       "      <td>0.891239</td>\n",
       "      <td>1.258763</td>\n",
       "      <td>0</td>\n",
       "      <td>0</td>\n",
       "      <td>0</td>\n",
       "      <td>9.5</td>\n",
       "      <td>1.0</td>\n",
       "    </tr>\n",
       "    <tr>\n",
       "      <th>1</th>\n",
       "      <td>1003</td>\n",
       "      <td>AL</td>\n",
       "      <td>Baldwin</td>\n",
       "      <td>18.908476</td>\n",
       "      <td>16.500056</td>\n",
       "      <td>84.02</td>\n",
       "      <td>86.898</td>\n",
       "      <td>68.226043</td>\n",
       "      <td>63.12659</td>\n",
       "      <td>27.206328</td>\n",
       "      <td>...</td>\n",
       "      <td>32.910876</td>\n",
       "      <td>3.318827</td>\n",
       "      <td>3.309759</td>\n",
       "      <td>0.891239</td>\n",
       "      <td>1.258763</td>\n",
       "      <td>0</td>\n",
       "      <td>0</td>\n",
       "      <td>0</td>\n",
       "      <td>8.4</td>\n",
       "      <td>0.0</td>\n",
       "    </tr>\n",
       "    <tr>\n",
       "      <th>2</th>\n",
       "      <td>1005</td>\n",
       "      <td>AL</td>\n",
       "      <td>Barbour</td>\n",
       "      <td>18.908476</td>\n",
       "      <td>16.500056</td>\n",
       "      <td>84.02</td>\n",
       "      <td>86.898</td>\n",
       "      <td>68.226043</td>\n",
       "      <td>63.12659</td>\n",
       "      <td>27.206328</td>\n",
       "      <td>...</td>\n",
       "      <td>32.910876</td>\n",
       "      <td>3.318827</td>\n",
       "      <td>3.309759</td>\n",
       "      <td>0.891239</td>\n",
       "      <td>1.258763</td>\n",
       "      <td>0</td>\n",
       "      <td>0</td>\n",
       "      <td>0</td>\n",
       "      <td>13.5</td>\n",
       "      <td>1.0</td>\n",
       "    </tr>\n",
       "    <tr>\n",
       "      <th>3</th>\n",
       "      <td>1007</td>\n",
       "      <td>AL</td>\n",
       "      <td>Bibb</td>\n",
       "      <td>18.908476</td>\n",
       "      <td>16.500056</td>\n",
       "      <td>84.02</td>\n",
       "      <td>86.898</td>\n",
       "      <td>68.226043</td>\n",
       "      <td>63.12659</td>\n",
       "      <td>27.206328</td>\n",
       "      <td>...</td>\n",
       "      <td>32.910876</td>\n",
       "      <td>3.318827</td>\n",
       "      <td>3.309759</td>\n",
       "      <td>0.891239</td>\n",
       "      <td>1.258763</td>\n",
       "      <td>0</td>\n",
       "      <td>0</td>\n",
       "      <td>0</td>\n",
       "      <td>10.2</td>\n",
       "      <td>1.0</td>\n",
       "    </tr>\n",
       "    <tr>\n",
       "      <th>4</th>\n",
       "      <td>1009</td>\n",
       "      <td>AL</td>\n",
       "      <td>Blount</td>\n",
       "      <td>18.908476</td>\n",
       "      <td>16.500056</td>\n",
       "      <td>84.02</td>\n",
       "      <td>86.898</td>\n",
       "      <td>68.226043</td>\n",
       "      <td>63.12659</td>\n",
       "      <td>27.206328</td>\n",
       "      <td>...</td>\n",
       "      <td>32.910876</td>\n",
       "      <td>3.318827</td>\n",
       "      <td>3.309759</td>\n",
       "      <td>0.891239</td>\n",
       "      <td>1.258763</td>\n",
       "      <td>0</td>\n",
       "      <td>0</td>\n",
       "      <td>0</td>\n",
       "      <td>10.5</td>\n",
       "      <td>1.0</td>\n",
       "    </tr>\n",
       "  </tbody>\n",
       "</table>\n",
       "<p>5 rows × 24 columns</p>\n",
       "</div>"
      ],
      "text/plain": [
       "   fips state   county  pct_snap12  pct_snap17  snap_part_rate11  \\\n",
       "0  1001    AL  Autauga   18.908476   16.500056             84.02   \n",
       "1  1003    AL  Baldwin   18.908476   16.500056             84.02   \n",
       "2  1005    AL  Barbour   18.908476   16.500056             84.02   \n",
       "3  1007    AL     Bibb   18.908476   16.500056             84.02   \n",
       "4  1009    AL   Blount   18.908476   16.500056             84.02   \n",
       "\n",
       "   snap_part_rate16  pct_nslp12  pct_nslp17  pct_sbp12  ...  \\\n",
       "0            86.898   68.226043    63.12659  27.206328  ...   \n",
       "1            86.898   68.226043    63.12659  27.206328  ...   \n",
       "2            86.898   68.226043    63.12659  27.206328  ...   \n",
       "3            86.898   68.226043    63.12659  27.206328  ...   \n",
       "4            86.898   68.226043    63.12659  27.206328  ...   \n",
       "\n",
       "   pct_wicinfantchild16  pct_wicwomen14  pct_wicwomen16  pct_cacfp12  \\\n",
       "0             32.910876        3.318827        3.309759     0.891239   \n",
       "1             32.910876        3.318827        3.309759     0.891239   \n",
       "2             32.910876        3.318827        3.309759     0.891239   \n",
       "3             32.910876        3.318827        3.309759     0.891239   \n",
       "4             32.910876        3.318827        3.309759     0.891239   \n",
       "\n",
       "   pct_cacfp17  fdpir12  fdpir15  food_banks18  pct_diabetes18  class  \n",
       "0     1.258763        0        0             0             9.5    1.0  \n",
       "1     1.258763        0        0             0             8.4    0.0  \n",
       "2     1.258763        0        0             0            13.5    1.0  \n",
       "3     1.258763        0        0             0            10.2    1.0  \n",
       "4     1.258763        0        0             0            10.5    1.0  \n",
       "\n",
       "[5 rows x 24 columns]"
      ]
     },
     "execution_count": 72,
     "metadata": {},
     "output_type": "execute_result"
    }
   ],
   "source": [
    "assistance.head()"
   ]
  },
  {
   "cell_type": "code",
   "execution_count": 73,
   "id": "39e18f83",
   "metadata": {},
   "outputs": [
    {
     "data": {
      "text/html": [
       "<div>\n",
       "<style scoped>\n",
       "    .dataframe tbody tr th:only-of-type {\n",
       "        vertical-align: middle;\n",
       "    }\n",
       "\n",
       "    .dataframe tbody tr th {\n",
       "        vertical-align: top;\n",
       "    }\n",
       "\n",
       "    .dataframe thead th {\n",
       "        text-align: right;\n",
       "    }\n",
       "</style>\n",
       "<table border=\"1\" class=\"dataframe\">\n",
       "  <thead>\n",
       "    <tr style=\"text-align: right;\">\n",
       "      <th></th>\n",
       "      <th>fips</th>\n",
       "      <th>pct_snap12</th>\n",
       "      <th>pct_snap17</th>\n",
       "      <th>snap_part_rate11</th>\n",
       "      <th>snap_part_rate16</th>\n",
       "      <th>pct_nslp12</th>\n",
       "      <th>pct_nslp17</th>\n",
       "      <th>pct_sbp12</th>\n",
       "      <th>pct_sbp17</th>\n",
       "      <th>pct_wic12</th>\n",
       "      <th>...</th>\n",
       "      <th>pct_wicinfantchild16</th>\n",
       "      <th>pct_wicwomen14</th>\n",
       "      <th>pct_wicwomen16</th>\n",
       "      <th>pct_cacfp12</th>\n",
       "      <th>pct_cacfp17</th>\n",
       "      <th>fdpir12</th>\n",
       "      <th>fdpir15</th>\n",
       "      <th>food_banks18</th>\n",
       "      <th>pct_diabetes18</th>\n",
       "      <th>class</th>\n",
       "    </tr>\n",
       "  </thead>\n",
       "  <tbody>\n",
       "    <tr>\n",
       "      <th>fips</th>\n",
       "      <td>1.000000</td>\n",
       "      <td>-0.065836</td>\n",
       "      <td>-0.024371</td>\n",
       "      <td>0.095117</td>\n",
       "      <td>0.012169</td>\n",
       "      <td>0.012683</td>\n",
       "      <td>-0.012620</td>\n",
       "      <td>0.072848</td>\n",
       "      <td>0.032185</td>\n",
       "      <td>-0.096930</td>\n",
       "      <td>...</td>\n",
       "      <td>-0.158105</td>\n",
       "      <td>-0.010247</td>\n",
       "      <td>-0.033690</td>\n",
       "      <td>0.058130</td>\n",
       "      <td>0.090656</td>\n",
       "      <td>-0.041026</td>\n",
       "      <td>-0.039256</td>\n",
       "      <td>-0.064933</td>\n",
       "      <td>-0.083778</td>\n",
       "      <td>-0.084537</td>\n",
       "    </tr>\n",
       "    <tr>\n",
       "      <th>pct_snap12</th>\n",
       "      <td>-0.065836</td>\n",
       "      <td>1.000000</td>\n",
       "      <td>0.899788</td>\n",
       "      <td>0.590054</td>\n",
       "      <td>0.413769</td>\n",
       "      <td>0.162293</td>\n",
       "      <td>0.174770</td>\n",
       "      <td>0.699636</td>\n",
       "      <td>0.670335</td>\n",
       "      <td>0.442245</td>\n",
       "      <td>...</td>\n",
       "      <td>0.651738</td>\n",
       "      <td>0.508047</td>\n",
       "      <td>0.521729</td>\n",
       "      <td>-0.231417</td>\n",
       "      <td>-0.065182</td>\n",
       "      <td>-0.014038</td>\n",
       "      <td>-0.008983</td>\n",
       "      <td>0.003890</td>\n",
       "      <td>0.340205</td>\n",
       "      <td>0.295504</td>\n",
       "    </tr>\n",
       "    <tr>\n",
       "      <th>pct_snap17</th>\n",
       "      <td>-0.024371</td>\n",
       "      <td>0.899788</td>\n",
       "      <td>1.000000</td>\n",
       "      <td>0.416246</td>\n",
       "      <td>0.467602</td>\n",
       "      <td>0.115223</td>\n",
       "      <td>0.160991</td>\n",
       "      <td>0.672529</td>\n",
       "      <td>0.670124</td>\n",
       "      <td>0.456017</td>\n",
       "      <td>...</td>\n",
       "      <td>0.647687</td>\n",
       "      <td>0.502725</td>\n",
       "      <td>0.531860</td>\n",
       "      <td>-0.142570</td>\n",
       "      <td>0.034026</td>\n",
       "      <td>0.016961</td>\n",
       "      <td>0.019590</td>\n",
       "      <td>0.035177</td>\n",
       "      <td>0.298066</td>\n",
       "      <td>0.261004</td>\n",
       "    </tr>\n",
       "    <tr>\n",
       "      <th>snap_part_rate11</th>\n",
       "      <td>0.095117</td>\n",
       "      <td>0.590054</td>\n",
       "      <td>0.416246</td>\n",
       "      <td>1.000000</td>\n",
       "      <td>0.724734</td>\n",
       "      <td>-0.120176</td>\n",
       "      <td>-0.107168</td>\n",
       "      <td>0.027750</td>\n",
       "      <td>0.023506</td>\n",
       "      <td>-0.203255</td>\n",
       "      <td>...</td>\n",
       "      <td>0.082773</td>\n",
       "      <td>-0.127578</td>\n",
       "      <td>-0.138246</td>\n",
       "      <td>-0.315755</td>\n",
       "      <td>-0.412990</td>\n",
       "      <td>-0.053537</td>\n",
       "      <td>-0.052754</td>\n",
       "      <td>-0.015711</td>\n",
       "      <td>0.098802</td>\n",
       "      <td>0.072936</td>\n",
       "    </tr>\n",
       "    <tr>\n",
       "      <th>snap_part_rate16</th>\n",
       "      <td>0.012169</td>\n",
       "      <td>0.413769</td>\n",
       "      <td>0.467602</td>\n",
       "      <td>0.724734</td>\n",
       "      <td>1.000000</td>\n",
       "      <td>-0.350059</td>\n",
       "      <td>-0.298113</td>\n",
       "      <td>-0.162272</td>\n",
       "      <td>-0.090308</td>\n",
       "      <td>-0.302008</td>\n",
       "      <td>...</td>\n",
       "      <td>0.064593</td>\n",
       "      <td>-0.253558</td>\n",
       "      <td>-0.255669</td>\n",
       "      <td>-0.277594</td>\n",
       "      <td>-0.417987</td>\n",
       "      <td>-0.027869</td>\n",
       "      <td>-0.023757</td>\n",
       "      <td>0.049047</td>\n",
       "      <td>0.031606</td>\n",
       "      <td>0.022534</td>\n",
       "    </tr>\n",
       "    <tr>\n",
       "      <th>pct_nslp12</th>\n",
       "      <td>0.012683</td>\n",
       "      <td>0.162293</td>\n",
       "      <td>0.115223</td>\n",
       "      <td>-0.120176</td>\n",
       "      <td>-0.350059</td>\n",
       "      <td>1.000000</td>\n",
       "      <td>0.980218</td>\n",
       "      <td>0.525948</td>\n",
       "      <td>0.455802</td>\n",
       "      <td>0.275249</td>\n",
       "      <td>...</td>\n",
       "      <td>0.158656</td>\n",
       "      <td>0.322004</td>\n",
       "      <td>0.351336</td>\n",
       "      <td>0.608529</td>\n",
       "      <td>0.615432</td>\n",
       "      <td>-0.079195</td>\n",
       "      <td>-0.082215</td>\n",
       "      <td>-0.156954</td>\n",
       "      <td>0.139776</td>\n",
       "      <td>0.096602</td>\n",
       "    </tr>\n",
       "    <tr>\n",
       "      <th>pct_nslp17</th>\n",
       "      <td>-0.012620</td>\n",
       "      <td>0.174770</td>\n",
       "      <td>0.160991</td>\n",
       "      <td>-0.107168</td>\n",
       "      <td>-0.298113</td>\n",
       "      <td>0.980218</td>\n",
       "      <td>1.000000</td>\n",
       "      <td>0.525543</td>\n",
       "      <td>0.481496</td>\n",
       "      <td>0.277652</td>\n",
       "      <td>...</td>\n",
       "      <td>0.201660</td>\n",
       "      <td>0.321451</td>\n",
       "      <td>0.352929</td>\n",
       "      <td>0.614057</td>\n",
       "      <td>0.636005</td>\n",
       "      <td>-0.065767</td>\n",
       "      <td>-0.068455</td>\n",
       "      <td>-0.136452</td>\n",
       "      <td>0.152817</td>\n",
       "      <td>0.106235</td>\n",
       "    </tr>\n",
       "    <tr>\n",
       "      <th>pct_sbp12</th>\n",
       "      <td>0.072848</td>\n",
       "      <td>0.699636</td>\n",
       "      <td>0.672529</td>\n",
       "      <td>0.027750</td>\n",
       "      <td>-0.162272</td>\n",
       "      <td>0.525948</td>\n",
       "      <td>0.525543</td>\n",
       "      <td>1.000000</td>\n",
       "      <td>0.938356</td>\n",
       "      <td>0.707665</td>\n",
       "      <td>...</td>\n",
       "      <td>0.646858</td>\n",
       "      <td>0.776889</td>\n",
       "      <td>0.780938</td>\n",
       "      <td>0.099363</td>\n",
       "      <td>0.388383</td>\n",
       "      <td>-0.022657</td>\n",
       "      <td>-0.022979</td>\n",
       "      <td>-0.063133</td>\n",
       "      <td>0.268517</td>\n",
       "      <td>0.226464</td>\n",
       "    </tr>\n",
       "    <tr>\n",
       "      <th>pct_sbp17</th>\n",
       "      <td>0.032185</td>\n",
       "      <td>0.670335</td>\n",
       "      <td>0.670124</td>\n",
       "      <td>0.023506</td>\n",
       "      <td>-0.090308</td>\n",
       "      <td>0.455802</td>\n",
       "      <td>0.481496</td>\n",
       "      <td>0.938356</td>\n",
       "      <td>1.000000</td>\n",
       "      <td>0.604882</td>\n",
       "      <td>...</td>\n",
       "      <td>0.637767</td>\n",
       "      <td>0.665698</td>\n",
       "      <td>0.687573</td>\n",
       "      <td>0.047400</td>\n",
       "      <td>0.323816</td>\n",
       "      <td>-0.028168</td>\n",
       "      <td>-0.029278</td>\n",
       "      <td>-0.047754</td>\n",
       "      <td>0.302243</td>\n",
       "      <td>0.265341</td>\n",
       "    </tr>\n",
       "    <tr>\n",
       "      <th>pct_wic12</th>\n",
       "      <td>-0.096930</td>\n",
       "      <td>0.442245</td>\n",
       "      <td>0.456017</td>\n",
       "      <td>-0.203255</td>\n",
       "      <td>-0.302008</td>\n",
       "      <td>0.275249</td>\n",
       "      <td>0.277652</td>\n",
       "      <td>0.707665</td>\n",
       "      <td>0.604882</td>\n",
       "      <td>1.000000</td>\n",
       "      <td>...</td>\n",
       "      <td>0.803883</td>\n",
       "      <td>0.952579</td>\n",
       "      <td>0.932442</td>\n",
       "      <td>0.104504</td>\n",
       "      <td>0.459863</td>\n",
       "      <td>0.088728</td>\n",
       "      <td>0.094273</td>\n",
       "      <td>0.058988</td>\n",
       "      <td>0.102278</td>\n",
       "      <td>0.080138</td>\n",
       "    </tr>\n",
       "    <tr>\n",
       "      <th>pct_wic17</th>\n",
       "      <td>-0.097118</td>\n",
       "      <td>0.505985</td>\n",
       "      <td>0.524154</td>\n",
       "      <td>-0.133809</td>\n",
       "      <td>-0.231224</td>\n",
       "      <td>0.365670</td>\n",
       "      <td>0.381362</td>\n",
       "      <td>0.725417</td>\n",
       "      <td>0.636569</td>\n",
       "      <td>0.946314</td>\n",
       "      <td>...</td>\n",
       "      <td>0.883264</td>\n",
       "      <td>0.949706</td>\n",
       "      <td>0.962753</td>\n",
       "      <td>0.153887</td>\n",
       "      <td>0.505018</td>\n",
       "      <td>0.059638</td>\n",
       "      <td>0.064708</td>\n",
       "      <td>0.041821</td>\n",
       "      <td>0.155249</td>\n",
       "      <td>0.125105</td>\n",
       "    </tr>\n",
       "    <tr>\n",
       "      <th>pct_wicinfantchild14</th>\n",
       "      <td>-0.123071</td>\n",
       "      <td>0.623168</td>\n",
       "      <td>0.630529</td>\n",
       "      <td>0.063299</td>\n",
       "      <td>0.072604</td>\n",
       "      <td>0.102659</td>\n",
       "      <td>0.146440</td>\n",
       "      <td>0.637783</td>\n",
       "      <td>0.626390</td>\n",
       "      <td>0.834173</td>\n",
       "      <td>...</td>\n",
       "      <td>0.979840</td>\n",
       "      <td>0.820518</td>\n",
       "      <td>0.818575</td>\n",
       "      <td>-0.074975</td>\n",
       "      <td>0.281204</td>\n",
       "      <td>0.080272</td>\n",
       "      <td>0.090928</td>\n",
       "      <td>0.126763</td>\n",
       "      <td>0.188968</td>\n",
       "      <td>0.159713</td>\n",
       "    </tr>\n",
       "    <tr>\n",
       "      <th>pct_wicinfantchild16</th>\n",
       "      <td>-0.158105</td>\n",
       "      <td>0.651738</td>\n",
       "      <td>0.647687</td>\n",
       "      <td>0.082773</td>\n",
       "      <td>0.064593</td>\n",
       "      <td>0.158656</td>\n",
       "      <td>0.201660</td>\n",
       "      <td>0.646858</td>\n",
       "      <td>0.637767</td>\n",
       "      <td>0.803883</td>\n",
       "      <td>...</td>\n",
       "      <td>1.000000</td>\n",
       "      <td>0.808466</td>\n",
       "      <td>0.831747</td>\n",
       "      <td>-0.041716</td>\n",
       "      <td>0.286031</td>\n",
       "      <td>0.069791</td>\n",
       "      <td>0.078498</td>\n",
       "      <td>0.108180</td>\n",
       "      <td>0.241392</td>\n",
       "      <td>0.204624</td>\n",
       "    </tr>\n",
       "    <tr>\n",
       "      <th>pct_wicwomen14</th>\n",
       "      <td>-0.010247</td>\n",
       "      <td>0.508047</td>\n",
       "      <td>0.502725</td>\n",
       "      <td>-0.127578</td>\n",
       "      <td>-0.253558</td>\n",
       "      <td>0.322004</td>\n",
       "      <td>0.321451</td>\n",
       "      <td>0.776889</td>\n",
       "      <td>0.665698</td>\n",
       "      <td>0.952579</td>\n",
       "      <td>...</td>\n",
       "      <td>0.808466</td>\n",
       "      <td>1.000000</td>\n",
       "      <td>0.985536</td>\n",
       "      <td>0.074709</td>\n",
       "      <td>0.452345</td>\n",
       "      <td>0.047606</td>\n",
       "      <td>0.050725</td>\n",
       "      <td>0.026634</td>\n",
       "      <td>0.118257</td>\n",
       "      <td>0.091471</td>\n",
       "    </tr>\n",
       "    <tr>\n",
       "      <th>pct_wicwomen16</th>\n",
       "      <td>-0.033690</td>\n",
       "      <td>0.521729</td>\n",
       "      <td>0.531860</td>\n",
       "      <td>-0.138246</td>\n",
       "      <td>-0.255669</td>\n",
       "      <td>0.351336</td>\n",
       "      <td>0.352929</td>\n",
       "      <td>0.780938</td>\n",
       "      <td>0.687573</td>\n",
       "      <td>0.932442</td>\n",
       "      <td>...</td>\n",
       "      <td>0.831747</td>\n",
       "      <td>0.985536</td>\n",
       "      <td>1.000000</td>\n",
       "      <td>0.121282</td>\n",
       "      <td>0.492226</td>\n",
       "      <td>0.030202</td>\n",
       "      <td>0.032288</td>\n",
       "      <td>0.020384</td>\n",
       "      <td>0.157833</td>\n",
       "      <td>0.128438</td>\n",
       "    </tr>\n",
       "    <tr>\n",
       "      <th>pct_cacfp12</th>\n",
       "      <td>0.058130</td>\n",
       "      <td>-0.231417</td>\n",
       "      <td>-0.142570</td>\n",
       "      <td>-0.315755</td>\n",
       "      <td>-0.277594</td>\n",
       "      <td>0.608529</td>\n",
       "      <td>0.614057</td>\n",
       "      <td>0.099363</td>\n",
       "      <td>0.047400</td>\n",
       "      <td>0.104504</td>\n",
       "      <td>...</td>\n",
       "      <td>-0.041716</td>\n",
       "      <td>0.074709</td>\n",
       "      <td>0.121282</td>\n",
       "      <td>1.000000</td>\n",
       "      <td>0.765313</td>\n",
       "      <td>-0.030373</td>\n",
       "      <td>-0.031048</td>\n",
       "      <td>-0.082928</td>\n",
       "      <td>-0.058275</td>\n",
       "      <td>-0.056216</td>\n",
       "    </tr>\n",
       "    <tr>\n",
       "      <th>pct_cacfp17</th>\n",
       "      <td>0.090656</td>\n",
       "      <td>-0.065182</td>\n",
       "      <td>0.034026</td>\n",
       "      <td>-0.412990</td>\n",
       "      <td>-0.417987</td>\n",
       "      <td>0.615432</td>\n",
       "      <td>0.636005</td>\n",
       "      <td>0.388383</td>\n",
       "      <td>0.323816</td>\n",
       "      <td>0.459863</td>\n",
       "      <td>...</td>\n",
       "      <td>0.286031</td>\n",
       "      <td>0.452345</td>\n",
       "      <td>0.492226</td>\n",
       "      <td>0.765313</td>\n",
       "      <td>1.000000</td>\n",
       "      <td>-0.053718</td>\n",
       "      <td>-0.051033</td>\n",
       "      <td>-0.040244</td>\n",
       "      <td>-0.037825</td>\n",
       "      <td>-0.042746</td>\n",
       "    </tr>\n",
       "    <tr>\n",
       "      <th>fdpir12</th>\n",
       "      <td>-0.041026</td>\n",
       "      <td>-0.014038</td>\n",
       "      <td>0.016961</td>\n",
       "      <td>-0.053537</td>\n",
       "      <td>-0.027869</td>\n",
       "      <td>-0.079195</td>\n",
       "      <td>-0.065767</td>\n",
       "      <td>-0.022657</td>\n",
       "      <td>-0.028168</td>\n",
       "      <td>0.088728</td>\n",
       "      <td>...</td>\n",
       "      <td>0.069791</td>\n",
       "      <td>0.047606</td>\n",
       "      <td>0.030202</td>\n",
       "      <td>-0.030373</td>\n",
       "      <td>-0.053718</td>\n",
       "      <td>1.000000</td>\n",
       "      <td>0.985110</td>\n",
       "      <td>0.076568</td>\n",
       "      <td>0.065895</td>\n",
       "      <td>0.031859</td>\n",
       "    </tr>\n",
       "    <tr>\n",
       "      <th>fdpir15</th>\n",
       "      <td>-0.039256</td>\n",
       "      <td>-0.008983</td>\n",
       "      <td>0.019590</td>\n",
       "      <td>-0.052754</td>\n",
       "      <td>-0.023757</td>\n",
       "      <td>-0.082215</td>\n",
       "      <td>-0.068455</td>\n",
       "      <td>-0.022979</td>\n",
       "      <td>-0.029278</td>\n",
       "      <td>0.094273</td>\n",
       "      <td>...</td>\n",
       "      <td>0.078498</td>\n",
       "      <td>0.050725</td>\n",
       "      <td>0.032288</td>\n",
       "      <td>-0.031048</td>\n",
       "      <td>-0.051033</td>\n",
       "      <td>0.985110</td>\n",
       "      <td>1.000000</td>\n",
       "      <td>0.083917</td>\n",
       "      <td>0.066625</td>\n",
       "      <td>0.030991</td>\n",
       "    </tr>\n",
       "    <tr>\n",
       "      <th>food_banks18</th>\n",
       "      <td>-0.064933</td>\n",
       "      <td>0.003890</td>\n",
       "      <td>0.035177</td>\n",
       "      <td>-0.015711</td>\n",
       "      <td>0.049047</td>\n",
       "      <td>-0.156954</td>\n",
       "      <td>-0.136452</td>\n",
       "      <td>-0.063133</td>\n",
       "      <td>-0.047754</td>\n",
       "      <td>0.058988</td>\n",
       "      <td>...</td>\n",
       "      <td>0.108180</td>\n",
       "      <td>0.026634</td>\n",
       "      <td>0.020384</td>\n",
       "      <td>-0.082928</td>\n",
       "      <td>-0.040244</td>\n",
       "      <td>0.076568</td>\n",
       "      <td>0.083917</td>\n",
       "      <td>1.000000</td>\n",
       "      <td>0.066073</td>\n",
       "      <td>0.054357</td>\n",
       "    </tr>\n",
       "    <tr>\n",
       "      <th>pct_diabetes18</th>\n",
       "      <td>-0.083778</td>\n",
       "      <td>0.340205</td>\n",
       "      <td>0.298066</td>\n",
       "      <td>0.098802</td>\n",
       "      <td>0.031606</td>\n",
       "      <td>0.139776</td>\n",
       "      <td>0.152817</td>\n",
       "      <td>0.268517</td>\n",
       "      <td>0.302243</td>\n",
       "      <td>0.102278</td>\n",
       "      <td>...</td>\n",
       "      <td>0.241392</td>\n",
       "      <td>0.118257</td>\n",
       "      <td>0.157833</td>\n",
       "      <td>-0.058275</td>\n",
       "      <td>-0.037825</td>\n",
       "      <td>0.065895</td>\n",
       "      <td>0.066625</td>\n",
       "      <td>0.066073</td>\n",
       "      <td>1.000000</td>\n",
       "      <td>0.799640</td>\n",
       "    </tr>\n",
       "    <tr>\n",
       "      <th>class</th>\n",
       "      <td>-0.084537</td>\n",
       "      <td>0.295504</td>\n",
       "      <td>0.261004</td>\n",
       "      <td>0.072936</td>\n",
       "      <td>0.022534</td>\n",
       "      <td>0.096602</td>\n",
       "      <td>0.106235</td>\n",
       "      <td>0.226464</td>\n",
       "      <td>0.265341</td>\n",
       "      <td>0.080138</td>\n",
       "      <td>...</td>\n",
       "      <td>0.204624</td>\n",
       "      <td>0.091471</td>\n",
       "      <td>0.128438</td>\n",
       "      <td>-0.056216</td>\n",
       "      <td>-0.042746</td>\n",
       "      <td>0.031859</td>\n",
       "      <td>0.030991</td>\n",
       "      <td>0.054357</td>\n",
       "      <td>0.799640</td>\n",
       "      <td>1.000000</td>\n",
       "    </tr>\n",
       "  </tbody>\n",
       "</table>\n",
       "<p>22 rows × 22 columns</p>\n",
       "</div>"
      ],
      "text/plain": [
       "                          fips  pct_snap12  pct_snap17  snap_part_rate11  \\\n",
       "fips                  1.000000   -0.065836   -0.024371          0.095117   \n",
       "pct_snap12           -0.065836    1.000000    0.899788          0.590054   \n",
       "pct_snap17           -0.024371    0.899788    1.000000          0.416246   \n",
       "snap_part_rate11      0.095117    0.590054    0.416246          1.000000   \n",
       "snap_part_rate16      0.012169    0.413769    0.467602          0.724734   \n",
       "pct_nslp12            0.012683    0.162293    0.115223         -0.120176   \n",
       "pct_nslp17           -0.012620    0.174770    0.160991         -0.107168   \n",
       "pct_sbp12             0.072848    0.699636    0.672529          0.027750   \n",
       "pct_sbp17             0.032185    0.670335    0.670124          0.023506   \n",
       "pct_wic12            -0.096930    0.442245    0.456017         -0.203255   \n",
       "pct_wic17            -0.097118    0.505985    0.524154         -0.133809   \n",
       "pct_wicinfantchild14 -0.123071    0.623168    0.630529          0.063299   \n",
       "pct_wicinfantchild16 -0.158105    0.651738    0.647687          0.082773   \n",
       "pct_wicwomen14       -0.010247    0.508047    0.502725         -0.127578   \n",
       "pct_wicwomen16       -0.033690    0.521729    0.531860         -0.138246   \n",
       "pct_cacfp12           0.058130   -0.231417   -0.142570         -0.315755   \n",
       "pct_cacfp17           0.090656   -0.065182    0.034026         -0.412990   \n",
       "fdpir12              -0.041026   -0.014038    0.016961         -0.053537   \n",
       "fdpir15              -0.039256   -0.008983    0.019590         -0.052754   \n",
       "food_banks18         -0.064933    0.003890    0.035177         -0.015711   \n",
       "pct_diabetes18       -0.083778    0.340205    0.298066          0.098802   \n",
       "class                -0.084537    0.295504    0.261004          0.072936   \n",
       "\n",
       "                      snap_part_rate16  pct_nslp12  pct_nslp17  pct_sbp12  \\\n",
       "fips                          0.012169    0.012683   -0.012620   0.072848   \n",
       "pct_snap12                    0.413769    0.162293    0.174770   0.699636   \n",
       "pct_snap17                    0.467602    0.115223    0.160991   0.672529   \n",
       "snap_part_rate11              0.724734   -0.120176   -0.107168   0.027750   \n",
       "snap_part_rate16              1.000000   -0.350059   -0.298113  -0.162272   \n",
       "pct_nslp12                   -0.350059    1.000000    0.980218   0.525948   \n",
       "pct_nslp17                   -0.298113    0.980218    1.000000   0.525543   \n",
       "pct_sbp12                    -0.162272    0.525948    0.525543   1.000000   \n",
       "pct_sbp17                    -0.090308    0.455802    0.481496   0.938356   \n",
       "pct_wic12                    -0.302008    0.275249    0.277652   0.707665   \n",
       "pct_wic17                    -0.231224    0.365670    0.381362   0.725417   \n",
       "pct_wicinfantchild14          0.072604    0.102659    0.146440   0.637783   \n",
       "pct_wicinfantchild16          0.064593    0.158656    0.201660   0.646858   \n",
       "pct_wicwomen14               -0.253558    0.322004    0.321451   0.776889   \n",
       "pct_wicwomen16               -0.255669    0.351336    0.352929   0.780938   \n",
       "pct_cacfp12                  -0.277594    0.608529    0.614057   0.099363   \n",
       "pct_cacfp17                  -0.417987    0.615432    0.636005   0.388383   \n",
       "fdpir12                      -0.027869   -0.079195   -0.065767  -0.022657   \n",
       "fdpir15                      -0.023757   -0.082215   -0.068455  -0.022979   \n",
       "food_banks18                  0.049047   -0.156954   -0.136452  -0.063133   \n",
       "pct_diabetes18                0.031606    0.139776    0.152817   0.268517   \n",
       "class                         0.022534    0.096602    0.106235   0.226464   \n",
       "\n",
       "                      pct_sbp17  pct_wic12  ...  pct_wicinfantchild16  \\\n",
       "fips                   0.032185  -0.096930  ...             -0.158105   \n",
       "pct_snap12             0.670335   0.442245  ...              0.651738   \n",
       "pct_snap17             0.670124   0.456017  ...              0.647687   \n",
       "snap_part_rate11       0.023506  -0.203255  ...              0.082773   \n",
       "snap_part_rate16      -0.090308  -0.302008  ...              0.064593   \n",
       "pct_nslp12             0.455802   0.275249  ...              0.158656   \n",
       "pct_nslp17             0.481496   0.277652  ...              0.201660   \n",
       "pct_sbp12              0.938356   0.707665  ...              0.646858   \n",
       "pct_sbp17              1.000000   0.604882  ...              0.637767   \n",
       "pct_wic12              0.604882   1.000000  ...              0.803883   \n",
       "pct_wic17              0.636569   0.946314  ...              0.883264   \n",
       "pct_wicinfantchild14   0.626390   0.834173  ...              0.979840   \n",
       "pct_wicinfantchild16   0.637767   0.803883  ...              1.000000   \n",
       "pct_wicwomen14         0.665698   0.952579  ...              0.808466   \n",
       "pct_wicwomen16         0.687573   0.932442  ...              0.831747   \n",
       "pct_cacfp12            0.047400   0.104504  ...             -0.041716   \n",
       "pct_cacfp17            0.323816   0.459863  ...              0.286031   \n",
       "fdpir12               -0.028168   0.088728  ...              0.069791   \n",
       "fdpir15               -0.029278   0.094273  ...              0.078498   \n",
       "food_banks18          -0.047754   0.058988  ...              0.108180   \n",
       "pct_diabetes18         0.302243   0.102278  ...              0.241392   \n",
       "class                  0.265341   0.080138  ...              0.204624   \n",
       "\n",
       "                      pct_wicwomen14  pct_wicwomen16  pct_cacfp12  \\\n",
       "fips                       -0.010247       -0.033690     0.058130   \n",
       "pct_snap12                  0.508047        0.521729    -0.231417   \n",
       "pct_snap17                  0.502725        0.531860    -0.142570   \n",
       "snap_part_rate11           -0.127578       -0.138246    -0.315755   \n",
       "snap_part_rate16           -0.253558       -0.255669    -0.277594   \n",
       "pct_nslp12                  0.322004        0.351336     0.608529   \n",
       "pct_nslp17                  0.321451        0.352929     0.614057   \n",
       "pct_sbp12                   0.776889        0.780938     0.099363   \n",
       "pct_sbp17                   0.665698        0.687573     0.047400   \n",
       "pct_wic12                   0.952579        0.932442     0.104504   \n",
       "pct_wic17                   0.949706        0.962753     0.153887   \n",
       "pct_wicinfantchild14        0.820518        0.818575    -0.074975   \n",
       "pct_wicinfantchild16        0.808466        0.831747    -0.041716   \n",
       "pct_wicwomen14              1.000000        0.985536     0.074709   \n",
       "pct_wicwomen16              0.985536        1.000000     0.121282   \n",
       "pct_cacfp12                 0.074709        0.121282     1.000000   \n",
       "pct_cacfp17                 0.452345        0.492226     0.765313   \n",
       "fdpir12                     0.047606        0.030202    -0.030373   \n",
       "fdpir15                     0.050725        0.032288    -0.031048   \n",
       "food_banks18                0.026634        0.020384    -0.082928   \n",
       "pct_diabetes18              0.118257        0.157833    -0.058275   \n",
       "class                       0.091471        0.128438    -0.056216   \n",
       "\n",
       "                      pct_cacfp17   fdpir12   fdpir15  food_banks18  \\\n",
       "fips                     0.090656 -0.041026 -0.039256     -0.064933   \n",
       "pct_snap12              -0.065182 -0.014038 -0.008983      0.003890   \n",
       "pct_snap17               0.034026  0.016961  0.019590      0.035177   \n",
       "snap_part_rate11        -0.412990 -0.053537 -0.052754     -0.015711   \n",
       "snap_part_rate16        -0.417987 -0.027869 -0.023757      0.049047   \n",
       "pct_nslp12               0.615432 -0.079195 -0.082215     -0.156954   \n",
       "pct_nslp17               0.636005 -0.065767 -0.068455     -0.136452   \n",
       "pct_sbp12                0.388383 -0.022657 -0.022979     -0.063133   \n",
       "pct_sbp17                0.323816 -0.028168 -0.029278     -0.047754   \n",
       "pct_wic12                0.459863  0.088728  0.094273      0.058988   \n",
       "pct_wic17                0.505018  0.059638  0.064708      0.041821   \n",
       "pct_wicinfantchild14     0.281204  0.080272  0.090928      0.126763   \n",
       "pct_wicinfantchild16     0.286031  0.069791  0.078498      0.108180   \n",
       "pct_wicwomen14           0.452345  0.047606  0.050725      0.026634   \n",
       "pct_wicwomen16           0.492226  0.030202  0.032288      0.020384   \n",
       "pct_cacfp12              0.765313 -0.030373 -0.031048     -0.082928   \n",
       "pct_cacfp17              1.000000 -0.053718 -0.051033     -0.040244   \n",
       "fdpir12                 -0.053718  1.000000  0.985110      0.076568   \n",
       "fdpir15                 -0.051033  0.985110  1.000000      0.083917   \n",
       "food_banks18            -0.040244  0.076568  0.083917      1.000000   \n",
       "pct_diabetes18          -0.037825  0.065895  0.066625      0.066073   \n",
       "class                   -0.042746  0.031859  0.030991      0.054357   \n",
       "\n",
       "                      pct_diabetes18     class  \n",
       "fips                       -0.083778 -0.084537  \n",
       "pct_snap12                  0.340205  0.295504  \n",
       "pct_snap17                  0.298066  0.261004  \n",
       "snap_part_rate11            0.098802  0.072936  \n",
       "snap_part_rate16            0.031606  0.022534  \n",
       "pct_nslp12                  0.139776  0.096602  \n",
       "pct_nslp17                  0.152817  0.106235  \n",
       "pct_sbp12                   0.268517  0.226464  \n",
       "pct_sbp17                   0.302243  0.265341  \n",
       "pct_wic12                   0.102278  0.080138  \n",
       "pct_wic17                   0.155249  0.125105  \n",
       "pct_wicinfantchild14        0.188968  0.159713  \n",
       "pct_wicinfantchild16        0.241392  0.204624  \n",
       "pct_wicwomen14              0.118257  0.091471  \n",
       "pct_wicwomen16              0.157833  0.128438  \n",
       "pct_cacfp12                -0.058275 -0.056216  \n",
       "pct_cacfp17                -0.037825 -0.042746  \n",
       "fdpir12                     0.065895  0.031859  \n",
       "fdpir15                     0.066625  0.030991  \n",
       "food_banks18                0.066073  0.054357  \n",
       "pct_diabetes18              1.000000  0.799640  \n",
       "class                       0.799640  1.000000  \n",
       "\n",
       "[22 rows x 22 columns]"
      ]
     },
     "execution_count": 73,
     "metadata": {},
     "output_type": "execute_result"
    }
   ],
   "source": [
    "assistance.corr()"
   ]
  },
  {
   "cell_type": "markdown",
   "id": "35d0dbd0",
   "metadata": {},
   "source": [
    "## KNN Classification"
   ]
  },
  {
   "cell_type": "markdown",
   "id": "a0cd1a0d",
   "metadata": {},
   "source": [
    "#### 1. Create X and y"
   ]
  },
  {
   "cell_type": "code",
   "execution_count": 74,
   "id": "804bc591",
   "metadata": {},
   "outputs": [],
   "source": [
    "X = assistance.drop(columns = ['fips', 'state', 'county', 'pct_diabetes18', 'class'])\n",
    "\n",
    "y = assistance['class']"
   ]
  },
  {
   "cell_type": "markdown",
   "id": "146096bd",
   "metadata": {},
   "source": [
    "#### 2. Determine baseline"
   ]
  },
  {
   "cell_type": "code",
   "execution_count": 75,
   "id": "1c0f0520",
   "metadata": {},
   "outputs": [
    {
     "data": {
      "text/plain": [
       "0.0    0.58275\n",
       "1.0    0.41725\n",
       "Name: class, dtype: float64"
      ]
     },
     "execution_count": 75,
     "metadata": {},
     "output_type": "execute_result"
    }
   ],
   "source": [
    "assistance['class'].value_counts(normalize=True)"
   ]
  },
  {
   "cell_type": "markdown",
   "id": "53dc6509",
   "metadata": {},
   "source": [
    "#### 3. Scale features"
   ]
  },
  {
   "cell_type": "code",
   "execution_count": 76,
   "id": "04636a25",
   "metadata": {},
   "outputs": [],
   "source": [
    "ss = StandardScaler()\n",
    "\n",
    "X = ss.fit_transform(X)"
   ]
  },
  {
   "cell_type": "markdown",
   "id": "a3f5ff6d",
   "metadata": {},
   "source": [
    "#### 4. Train, test, split"
   ]
  },
  {
   "cell_type": "code",
   "execution_count": 77,
   "id": "7f5df409",
   "metadata": {},
   "outputs": [],
   "source": [
    "X_train, X_test, y_train, y_test = train_test_split(X, y, random_state = 42, stratify=y)"
   ]
  },
  {
   "cell_type": "markdown",
   "id": "b5528ea7",
   "metadata": {},
   "source": [
    "#### 5. Instantiate, fit, evaluate model"
   ]
  },
  {
   "cell_type": "code",
   "execution_count": 78,
   "id": "324fe331",
   "metadata": {},
   "outputs": [
    {
     "name": "stdout",
     "output_type": "stream",
     "text": [
      "0.7279286926994907 0.6908396946564885\n"
     ]
    }
   ],
   "source": [
    "with warnings.catch_warnings():\n",
    "    warnings.simplefilter(\"ignore\", category = FutureWarning)\n",
    "\n",
    "# Instantiate\n",
    "    knn = KNeighborsClassifier(n_neighbors= 7)\n",
    "\n",
    "# Fit\n",
    "    knn.fit(X_train, y_train)\n",
    "\n",
    "# Evaluate\n",
    "    print(knn.score(X_train, y_train), knn.score(X_test, y_test))"
   ]
  },
  {
   "cell_type": "code",
   "execution_count": 79,
   "id": "55174f66",
   "metadata": {},
   "outputs": [
    {
     "data": {
      "image/png": "[encoded data removed]",
      "text/plain": [
       "<Figure size 640x480 with 2 Axes>"
      ]
     },
     "metadata": {},
     "output_type": "display_data"
    }
   ],
   "source": [
    "with warnings.catch_warnings():\n",
    "    warnings.simplefilter(\"ignore\", category = FutureWarning)\n",
    "\n",
    "    ConfusionMatrixDisplay.from_estimator(knn, X_test, y_test, normalize = 'pred');"
   ]
  },
  {
   "cell_type": "code",
   "execution_count": 80,
   "id": "66e5a526",
   "metadata": {},
   "outputs": [],
   "source": [
    "with warnings.catch_warnings():\n",
    "    warnings.simplefilter(\"ignore\", category = FutureWarning)\n",
    "\n",
    "    preds = knn.predict(X_test) #generates predictions"
   ]
  },
  {
   "cell_type": "code",
   "execution_count": 81,
   "id": "83170ab9",
   "metadata": {},
   "outputs": [
    {
     "data": {
      "text/plain": [
       "array([340, 118, 125, 203])"
      ]
     },
     "execution_count": 81,
     "metadata": {},
     "output_type": "execute_result"
    }
   ],
   "source": [
    "confusion_matrix(y_test, preds).ravel()"
   ]
  },
  {
   "cell_type": "code",
   "execution_count": 82,
   "id": "51b80578",
   "metadata": {},
   "outputs": [],
   "source": [
    "tn, fp, fn, tp = confusion_matrix(y_test, preds).ravel()"
   ]
  },
  {
   "cell_type": "code",
   "execution_count": 83,
   "id": "4efb4ea0",
   "metadata": {},
   "outputs": [
    {
     "data": {
      "text/plain": [
       "(340, 118, 125, 203)"
      ]
     },
     "execution_count": 83,
     "metadata": {},
     "output_type": "execute_result"
    }
   ],
   "source": [
    "tn, fp, fn, tp #(true negative, false positive, false negative, true positive)"
   ]
  },
  {
   "cell_type": "markdown",
   "id": "2dd44c12",
   "metadata": {},
   "source": [
    "##### Accuracy (pre-determined above)"
   ]
  },
  {
   "cell_type": "code",
   "execution_count": 84,
   "id": "afe4b6b7",
   "metadata": {},
   "outputs": [
    {
     "name": "stdout",
     "output_type": "stream",
     "text": [
      "0.6908396946564885\n"
     ]
    }
   ],
   "source": [
    "with warnings.catch_warnings():\n",
    "    warnings.simplefilter(\"ignore\", category = FutureWarning)\n",
    "\n",
    "    print(knn.score(X_test, y_test))\n"
   ]
  },
  {
   "cell_type": "markdown",
   "id": "b3b896e4",
   "metadata": {},
   "source": [
    "##### Additional Metrics"
   ]
  },
  {
   "cell_type": "code",
   "execution_count": 85,
   "id": "4bcc6a1b",
   "metadata": {},
   "outputs": [
    {
     "name": "stdout",
     "output_type": "stream",
     "text": [
      "Specificity:  0.74235807860262\n",
      "Sensitivity:  0.6189024390243902\n",
      "Precision:  0.632398753894081\n",
      "F1:  0.6255778120184899\n"
     ]
    }
   ],
   "source": [
    "specificity = tn / (tn + fp)\n",
    "sensitivity = tp / (tp + fn)\n",
    "precision = tp / (tp + fp)\n",
    "f1 = 2 * (precision*sensitivity) / (precision+sensitivity)\n",
    "\n",
    "\n",
    "print (\"Specificity: \", specificity)\n",
    "print (\"Sensitivity: \", sensitivity)\n",
    "print (\"Precision: \", precision)\n",
    "print (\"F1: \", f1)"
   ]
  },
  {
   "cell_type": "markdown",
   "id": "0004c8f3",
   "metadata": {},
   "source": [
    "Again, the specificity is higher than the sensitivity. Still, at 0.619, the sensitivity is high enough to combine with precision to create an F1 score (0.626) that exceeds baseline.\n",
    "\n",
    "It appears that the Assistance variables, including information about public benefits, food banks, and so on, can be used to predict high or low prevalence of diabetes in counties."
   ]
  },
  {
   "cell_type": "markdown",
   "id": "eda89608",
   "metadata": {},
   "source": [
    "## Insecurity"
   ]
  },
  {
   "cell_type": "code",
   "execution_count": 86,
   "id": "e69f517c",
   "metadata": {},
   "outputs": [],
   "source": [
    "file_path = '../data/FoodEnvironmentAtlas.xls.INSECURITY_Modeling.csv'\n",
    "\n",
    "insecurity = pd.read_csv(file_path)"
   ]
  },
  {
   "cell_type": "code",
   "execution_count": 87,
   "id": "c8709c72",
   "metadata": {},
   "outputs": [
    {
     "data": {
      "text/html": [
       "<div>\n",
       "<style scoped>\n",
       "    .dataframe tbody tr th:only-of-type {\n",
       "        vertical-align: middle;\n",
       "    }\n",
       "\n",
       "    .dataframe tbody tr th {\n",
       "        vertical-align: top;\n",
       "    }\n",
       "\n",
       "    .dataframe thead th {\n",
       "        text-align: right;\n",
       "    }\n",
       "</style>\n",
       "<table border=\"1\" class=\"dataframe\">\n",
       "  <thead>\n",
       "    <tr style=\"text-align: right;\">\n",
       "      <th></th>\n",
       "      <th>fips</th>\n",
       "      <th>state</th>\n",
       "      <th>county</th>\n",
       "      <th>foodinsec_12_14</th>\n",
       "      <th>foodinsec_15_17</th>\n",
       "      <th>ch_foodinsec_14_17</th>\n",
       "      <th>vlfoodsec_12_14</th>\n",
       "      <th>vlfoodsec_15_17</th>\n",
       "      <th>ch_vlfoodsec_14_17</th>\n",
       "      <th>pct_diabetes18</th>\n",
       "      <th>class</th>\n",
       "    </tr>\n",
       "  </thead>\n",
       "  <tbody>\n",
       "    <tr>\n",
       "      <th>0</th>\n",
       "      <td>1001</td>\n",
       "      <td>AL</td>\n",
       "      <td>Autauga</td>\n",
       "      <td>16.8</td>\n",
       "      <td>16.3</td>\n",
       "      <td>-0.5</td>\n",
       "      <td>7.2</td>\n",
       "      <td>7.1</td>\n",
       "      <td>-0.1</td>\n",
       "      <td>9.5</td>\n",
       "      <td>1.0</td>\n",
       "    </tr>\n",
       "    <tr>\n",
       "      <th>1</th>\n",
       "      <td>1003</td>\n",
       "      <td>AL</td>\n",
       "      <td>Baldwin</td>\n",
       "      <td>16.8</td>\n",
       "      <td>16.3</td>\n",
       "      <td>-0.5</td>\n",
       "      <td>7.2</td>\n",
       "      <td>7.1</td>\n",
       "      <td>-0.1</td>\n",
       "      <td>8.4</td>\n",
       "      <td>0.0</td>\n",
       "    </tr>\n",
       "    <tr>\n",
       "      <th>2</th>\n",
       "      <td>1005</td>\n",
       "      <td>AL</td>\n",
       "      <td>Barbour</td>\n",
       "      <td>16.8</td>\n",
       "      <td>16.3</td>\n",
       "      <td>-0.5</td>\n",
       "      <td>7.2</td>\n",
       "      <td>7.1</td>\n",
       "      <td>-0.1</td>\n",
       "      <td>13.5</td>\n",
       "      <td>1.0</td>\n",
       "    </tr>\n",
       "    <tr>\n",
       "      <th>3</th>\n",
       "      <td>1007</td>\n",
       "      <td>AL</td>\n",
       "      <td>Bibb</td>\n",
       "      <td>16.8</td>\n",
       "      <td>16.3</td>\n",
       "      <td>-0.5</td>\n",
       "      <td>7.2</td>\n",
       "      <td>7.1</td>\n",
       "      <td>-0.1</td>\n",
       "      <td>10.2</td>\n",
       "      <td>1.0</td>\n",
       "    </tr>\n",
       "    <tr>\n",
       "      <th>4</th>\n",
       "      <td>1009</td>\n",
       "      <td>AL</td>\n",
       "      <td>Blount</td>\n",
       "      <td>16.8</td>\n",
       "      <td>16.3</td>\n",
       "      <td>-0.5</td>\n",
       "      <td>7.2</td>\n",
       "      <td>7.1</td>\n",
       "      <td>-0.1</td>\n",
       "      <td>10.5</td>\n",
       "      <td>1.0</td>\n",
       "    </tr>\n",
       "  </tbody>\n",
       "</table>\n",
       "</div>"
      ],
      "text/plain": [
       "   fips state   county  foodinsec_12_14  foodinsec_15_17  ch_foodinsec_14_17  \\\n",
       "0  1001    AL  Autauga             16.8             16.3                -0.5   \n",
       "1  1003    AL  Baldwin             16.8             16.3                -0.5   \n",
       "2  1005    AL  Barbour             16.8             16.3                -0.5   \n",
       "3  1007    AL     Bibb             16.8             16.3                -0.5   \n",
       "4  1009    AL   Blount             16.8             16.3                -0.5   \n",
       "\n",
       "   vlfoodsec_12_14  vlfoodsec_15_17  ch_vlfoodsec_14_17  pct_diabetes18  class  \n",
       "0              7.2              7.1                -0.1             9.5    1.0  \n",
       "1              7.2              7.1                -0.1             8.4    0.0  \n",
       "2              7.2              7.1                -0.1            13.5    1.0  \n",
       "3              7.2              7.1                -0.1            10.2    1.0  \n",
       "4              7.2              7.1                -0.1            10.5    1.0  "
      ]
     },
     "execution_count": 87,
     "metadata": {},
     "output_type": "execute_result"
    }
   ],
   "source": [
    "insecurity.head()"
   ]
  },
  {
   "cell_type": "code",
   "execution_count": 88,
   "id": "7866bab0",
   "metadata": {},
   "outputs": [
    {
     "data": {
      "text/html": [
       "<div>\n",
       "<style scoped>\n",
       "    .dataframe tbody tr th:only-of-type {\n",
       "        vertical-align: middle;\n",
       "    }\n",
       "\n",
       "    .dataframe tbody tr th {\n",
       "        vertical-align: top;\n",
       "    }\n",
       "\n",
       "    .dataframe thead th {\n",
       "        text-align: right;\n",
       "    }\n",
       "</style>\n",
       "<table border=\"1\" class=\"dataframe\">\n",
       "  <thead>\n",
       "    <tr style=\"text-align: right;\">\n",
       "      <th></th>\n",
       "      <th>fips</th>\n",
       "      <th>foodinsec_12_14</th>\n",
       "      <th>foodinsec_15_17</th>\n",
       "      <th>ch_foodinsec_14_17</th>\n",
       "      <th>vlfoodsec_12_14</th>\n",
       "      <th>vlfoodsec_15_17</th>\n",
       "      <th>ch_vlfoodsec_14_17</th>\n",
       "      <th>pct_diabetes18</th>\n",
       "      <th>class</th>\n",
       "    </tr>\n",
       "  </thead>\n",
       "  <tbody>\n",
       "    <tr>\n",
       "      <th>fips</th>\n",
       "      <td>1.000000</td>\n",
       "      <td>-0.038613</td>\n",
       "      <td>-0.056442</td>\n",
       "      <td>-0.013781</td>\n",
       "      <td>-0.062002</td>\n",
       "      <td>-0.020681</td>\n",
       "      <td>0.047586</td>\n",
       "      <td>-0.083778</td>\n",
       "      <td>-0.084537</td>\n",
       "    </tr>\n",
       "    <tr>\n",
       "      <th>foodinsec_12_14</th>\n",
       "      <td>-0.038613</td>\n",
       "      <td>1.000000</td>\n",
       "      <td>0.761057</td>\n",
       "      <td>-0.547192</td>\n",
       "      <td>0.856936</td>\n",
       "      <td>0.736792</td>\n",
       "      <td>-0.076648</td>\n",
       "      <td>0.068574</td>\n",
       "      <td>0.050881</td>\n",
       "    </tr>\n",
       "    <tr>\n",
       "      <th>foodinsec_15_17</th>\n",
       "      <td>-0.056442</td>\n",
       "      <td>0.761057</td>\n",
       "      <td>1.000000</td>\n",
       "      <td>0.126510</td>\n",
       "      <td>0.648272</td>\n",
       "      <td>0.928311</td>\n",
       "      <td>0.419945</td>\n",
       "      <td>0.104409</td>\n",
       "      <td>0.086580</td>\n",
       "    </tr>\n",
       "    <tr>\n",
       "      <th>ch_foodinsec_14_17</th>\n",
       "      <td>-0.013781</td>\n",
       "      <td>-0.547192</td>\n",
       "      <td>0.126510</td>\n",
       "      <td>1.000000</td>\n",
       "      <td>-0.473948</td>\n",
       "      <td>0.071115</td>\n",
       "      <td>0.659070</td>\n",
       "      <td>0.029856</td>\n",
       "      <td>0.033909</td>\n",
       "    </tr>\n",
       "    <tr>\n",
       "      <th>vlfoodsec_12_14</th>\n",
       "      <td>-0.062002</td>\n",
       "      <td>0.856936</td>\n",
       "      <td>0.648272</td>\n",
       "      <td>-0.473948</td>\n",
       "      <td>1.000000</td>\n",
       "      <td>0.678575</td>\n",
       "      <td>-0.322943</td>\n",
       "      <td>0.184652</td>\n",
       "      <td>0.155868</td>\n",
       "    </tr>\n",
       "    <tr>\n",
       "      <th>vlfoodsec_15_17</th>\n",
       "      <td>-0.020681</td>\n",
       "      <td>0.736792</td>\n",
       "      <td>0.928311</td>\n",
       "      <td>0.071115</td>\n",
       "      <td>0.678575</td>\n",
       "      <td>1.000000</td>\n",
       "      <td>0.476032</td>\n",
       "      <td>0.088081</td>\n",
       "      <td>0.074817</td>\n",
       "    </tr>\n",
       "    <tr>\n",
       "      <th>ch_vlfoodsec_14_17</th>\n",
       "      <td>0.047586</td>\n",
       "      <td>-0.076648</td>\n",
       "      <td>0.419945</td>\n",
       "      <td>0.659070</td>\n",
       "      <td>-0.322943</td>\n",
       "      <td>0.476032</td>\n",
       "      <td>1.000000</td>\n",
       "      <td>-0.107588</td>\n",
       "      <td>-0.090216</td>\n",
       "    </tr>\n",
       "    <tr>\n",
       "      <th>pct_diabetes18</th>\n",
       "      <td>-0.083778</td>\n",
       "      <td>0.068574</td>\n",
       "      <td>0.104409</td>\n",
       "      <td>0.029856</td>\n",
       "      <td>0.184652</td>\n",
       "      <td>0.088081</td>\n",
       "      <td>-0.107588</td>\n",
       "      <td>1.000000</td>\n",
       "      <td>0.799640</td>\n",
       "    </tr>\n",
       "    <tr>\n",
       "      <th>class</th>\n",
       "      <td>-0.084537</td>\n",
       "      <td>0.050881</td>\n",
       "      <td>0.086580</td>\n",
       "      <td>0.033909</td>\n",
       "      <td>0.155868</td>\n",
       "      <td>0.074817</td>\n",
       "      <td>-0.090216</td>\n",
       "      <td>0.799640</td>\n",
       "      <td>1.000000</td>\n",
       "    </tr>\n",
       "  </tbody>\n",
       "</table>\n",
       "</div>"
      ],
      "text/plain": [
       "                        fips  foodinsec_12_14  foodinsec_15_17  \\\n",
       "fips                1.000000        -0.038613        -0.056442   \n",
       "foodinsec_12_14    -0.038613         1.000000         0.761057   \n",
       "foodinsec_15_17    -0.056442         0.761057         1.000000   \n",
       "ch_foodinsec_14_17 -0.013781        -0.547192         0.126510   \n",
       "vlfoodsec_12_14    -0.062002         0.856936         0.648272   \n",
       "vlfoodsec_15_17    -0.020681         0.736792         0.928311   \n",
       "ch_vlfoodsec_14_17  0.047586        -0.076648         0.419945   \n",
       "pct_diabetes18     -0.083778         0.068574         0.104409   \n",
       "class              -0.084537         0.050881         0.086580   \n",
       "\n",
       "                    ch_foodinsec_14_17  vlfoodsec_12_14  vlfoodsec_15_17  \\\n",
       "fips                         -0.013781        -0.062002        -0.020681   \n",
       "foodinsec_12_14              -0.547192         0.856936         0.736792   \n",
       "foodinsec_15_17               0.126510         0.648272         0.928311   \n",
       "ch_foodinsec_14_17            1.000000        -0.473948         0.071115   \n",
       "vlfoodsec_12_14              -0.473948         1.000000         0.678575   \n",
       "vlfoodsec_15_17               0.071115         0.678575         1.000000   \n",
       "ch_vlfoodsec_14_17            0.659070        -0.322943         0.476032   \n",
       "pct_diabetes18                0.029856         0.184652         0.088081   \n",
       "class                         0.033909         0.155868         0.074817   \n",
       "\n",
       "                    ch_vlfoodsec_14_17  pct_diabetes18     class  \n",
       "fips                          0.047586       -0.083778 -0.084537  \n",
       "foodinsec_12_14              -0.076648        0.068574  0.050881  \n",
       "foodinsec_15_17               0.419945        0.104409  0.086580  \n",
       "ch_foodinsec_14_17            0.659070        0.029856  0.033909  \n",
       "vlfoodsec_12_14              -0.322943        0.184652  0.155868  \n",
       "vlfoodsec_15_17               0.476032        0.088081  0.074817  \n",
       "ch_vlfoodsec_14_17            1.000000       -0.107588 -0.090216  \n",
       "pct_diabetes18               -0.107588        1.000000  0.799640  \n",
       "class                        -0.090216        0.799640  1.000000  "
      ]
     },
     "execution_count": 88,
     "metadata": {},
     "output_type": "execute_result"
    }
   ],
   "source": [
    "insecurity.corr()"
   ]
  },
  {
   "cell_type": "markdown",
   "id": "4d658c58",
   "metadata": {},
   "source": [
    "### KNN Classification"
   ]
  },
  {
   "cell_type": "markdown",
   "id": "52fa40b2",
   "metadata": {},
   "source": [
    "#### 1. Create X and y"
   ]
  },
  {
   "cell_type": "code",
   "execution_count": 89,
   "id": "9b9ba665",
   "metadata": {},
   "outputs": [],
   "source": [
    "X = insecurity.drop(columns = ['fips', 'state', 'county', 'pct_diabetes18', 'class'])\n",
    "\n",
    "y = insecurity['class']"
   ]
  },
  {
   "cell_type": "markdown",
   "id": "ba0120bc",
   "metadata": {},
   "source": [
    "#### 2. Determine baseline"
   ]
  },
  {
   "cell_type": "code",
   "execution_count": 90,
   "id": "e6690808",
   "metadata": {},
   "outputs": [
    {
     "data": {
      "text/plain": [
       "0.0    0.58275\n",
       "1.0    0.41725\n",
       "Name: class, dtype: float64"
      ]
     },
     "execution_count": 90,
     "metadata": {},
     "output_type": "execute_result"
    }
   ],
   "source": [
    "insecurity['class'].value_counts(normalize = True)"
   ]
  },
  {
   "cell_type": "markdown",
   "id": "7d8b63bc",
   "metadata": {},
   "source": [
    "Baseline is 0.583."
   ]
  },
  {
   "cell_type": "markdown",
   "id": "2315074a",
   "metadata": {},
   "source": [
    "#### 3. Scale features"
   ]
  },
  {
   "cell_type": "code",
   "execution_count": 91,
   "id": "0f15356a",
   "metadata": {},
   "outputs": [],
   "source": [
    "ss = StandardScaler()\n",
    "\n",
    "X = ss.fit_transform(X)"
   ]
  },
  {
   "cell_type": "markdown",
   "id": "2ae9862d",
   "metadata": {},
   "source": [
    "#### 4. Train, test, split"
   ]
  },
  {
   "cell_type": "code",
   "execution_count": 92,
   "id": "34fca00e",
   "metadata": {},
   "outputs": [],
   "source": [
    "X_train, X_test, y_train, y_test = train_test_split(X, y, random_state = 42, stratify = y)"
   ]
  },
  {
   "cell_type": "markdown",
   "id": "947c199d",
   "metadata": {},
   "source": [
    "#### 5. Instantiate, fit, and evaluate"
   ]
  },
  {
   "cell_type": "code",
   "execution_count": 93,
   "id": "8502fbcd",
   "metadata": {},
   "outputs": [
    {
     "name": "stdout",
     "output_type": "stream",
     "text": [
      "0.719439728353141 0.6997455470737913\n"
     ]
    }
   ],
   "source": [
    "with warnings.catch_warnings():\n",
    "    warnings.simplefilter(\"ignore\", category = FutureWarning)\n",
    "\n",
    "# Instantiate\n",
    "    knn = KNeighborsClassifier(n_neighbors= 7)\n",
    "\n",
    "# Fit\n",
    "    knn.fit(X_train, y_train)\n",
    "\n",
    "# Evaluate\n",
    "    print(knn.score(X_train, y_train), knn.score(X_test, y_test))"
   ]
  },
  {
   "cell_type": "code",
   "execution_count": 94,
   "id": "61b04906",
   "metadata": {},
   "outputs": [
    {
     "data": {
      "image/png": "[encoded data removed]",
      "text/plain": [
       "<Figure size 640x480 with 2 Axes>"
      ]
     },
     "metadata": {},
     "output_type": "display_data"
    }
   ],
   "source": [
    "with warnings.catch_warnings():\n",
    "    warnings.simplefilter(\"ignore\", category = FutureWarning)\n",
    "\n",
    "    ConfusionMatrixDisplay.from_estimator(knn, X_test, y_test, normalize = 'pred');"
   ]
  },
  {
   "cell_type": "code",
   "execution_count": 95,
   "id": "66872f83",
   "metadata": {},
   "outputs": [],
   "source": [
    "with warnings.catch_warnings():\n",
    "    warnings.simplefilter(\"ignore\", category = FutureWarning)\n",
    "    \n",
    "    preds = knn.predict(X_test) #generates predictions"
   ]
  },
  {
   "cell_type": "code",
   "execution_count": 96,
   "id": "152c98af",
   "metadata": {},
   "outputs": [
    {
     "data": {
      "text/plain": [
       "array([357, 101, 135, 193])"
      ]
     },
     "execution_count": 96,
     "metadata": {},
     "output_type": "execute_result"
    }
   ],
   "source": [
    "confusion_matrix(y_test, preds).ravel()"
   ]
  },
  {
   "cell_type": "code",
   "execution_count": 97,
   "id": "b71fa75a",
   "metadata": {},
   "outputs": [
    {
     "data": {
      "text/plain": [
       "(340, 118, 125, 203)"
      ]
     },
     "execution_count": 97,
     "metadata": {},
     "output_type": "execute_result"
    }
   ],
   "source": [
    "tn, fp, fn, tp #(true negative, false positive, false negative, true positive)"
   ]
  },
  {
   "cell_type": "markdown",
   "id": "269b3139",
   "metadata": {},
   "source": [
    "##### Accuracy (pre-determined above)"
   ]
  },
  {
   "cell_type": "code",
   "execution_count": 98,
   "id": "e793f415",
   "metadata": {},
   "outputs": [
    {
     "name": "stdout",
     "output_type": "stream",
     "text": [
      "0.6997455470737913\n"
     ]
    }
   ],
   "source": [
    "with warnings.catch_warnings():\n",
    "    warnings.simplefilter(\"ignore\", category = FutureWarning)\n",
    "\n",
    "    print(knn.score(X_test, y_test))\n"
   ]
  },
  {
   "cell_type": "markdown",
   "id": "5856b6d9",
   "metadata": {},
   "source": [
    "This is the proportion of total predictions that were correct. "
   ]
  },
  {
   "cell_type": "markdown",
   "id": "379050ec",
   "metadata": {},
   "source": [
    "##### Additional Metrics"
   ]
  },
  {
   "cell_type": "code",
   "execution_count": 99,
   "id": "119b5d9b",
   "metadata": {},
   "outputs": [
    {
     "name": "stdout",
     "output_type": "stream",
     "text": [
      "Specificity:  0.74235807860262\n",
      "Sensitivity:  0.6189024390243902\n",
      "Precision:  0.632398753894081\n",
      "F1:  0.6255778120184899\n"
     ]
    }
   ],
   "source": [
    "specificity = tn / (tn + fp)\n",
    "sensitivity = tp / (tp + fn)\n",
    "precision = tp / (tp + fp)\n",
    "f1 = 2 * (precision*sensitivity) / (precision+sensitivity)\n",
    "\n",
    "\n",
    "print (\"Specificity: \", specificity)\n",
    "print (\"Sensitivity: \", sensitivity)\n",
    "print (\"Precision: \", precision)\n",
    "print (\"F1: \", f1)"
   ]
  },
  {
   "cell_type": "markdown",
   "id": "3eacaf24",
   "metadata": {},
   "source": [
    "##### Discussion"
   ]
  },
  {
   "cell_type": "markdown",
   "id": "7190ac57",
   "metadata": {},
   "source": [
    "The F1 score is above baseline, suggesting that this model can be used to a certain degree to predict prevalence of diabetes using food insecurity."
   ]
  },
  {
   "cell_type": "markdown",
   "id": "6f6f73a0",
   "metadata": {},
   "source": [
    "## Local - Farmer's Market - Payment"
   ]
  },
  {
   "cell_type": "code",
   "execution_count": 100,
   "id": "998d717a",
   "metadata": {},
   "outputs": [],
   "source": [
    "file_path = '../data/FoodEnvironmentAtlas.xls.LOCAL_Modeling_FrmrktP.csv'\n",
    "\n",
    "local_fmp = pd.read_csv(file_path)"
   ]
  },
  {
   "cell_type": "code",
   "execution_count": 101,
   "id": "2bc0f6cb",
   "metadata": {},
   "outputs": [
    {
     "data": {
      "text/html": [
       "<div>\n",
       "<style scoped>\n",
       "    .dataframe tbody tr th:only-of-type {\n",
       "        vertical-align: middle;\n",
       "    }\n",
       "\n",
       "    .dataframe tbody tr th {\n",
       "        vertical-align: top;\n",
       "    }\n",
       "\n",
       "    .dataframe thead th {\n",
       "        text-align: right;\n",
       "    }\n",
       "</style>\n",
       "<table border=\"1\" class=\"dataframe\">\n",
       "  <thead>\n",
       "    <tr style=\"text-align: right;\">\n",
       "      <th></th>\n",
       "      <th>fips</th>\n",
       "      <th>state</th>\n",
       "      <th>county</th>\n",
       "      <th>fmrkt13</th>\n",
       "      <th>fmrkt18</th>\n",
       "      <th>fmrktpth13</th>\n",
       "      <th>fmrktpth18</th>\n",
       "      <th>fmrkt_snap18</th>\n",
       "      <th>pct_fmrkt_snap18</th>\n",
       "      <th>fmrkt_wic18</th>\n",
       "      <th>pct_fmrkt_wic18</th>\n",
       "      <th>fmrkt_wiccash18</th>\n",
       "      <th>pct_fmrkt_wiccash18</th>\n",
       "      <th>fmrkt_sfmnp18</th>\n",
       "      <th>pct_fmrkt_sfmnp18</th>\n",
       "      <th>fmrkt_credit18</th>\n",
       "      <th>pct_fmrkt_credit18</th>\n",
       "      <th>pct_diabetes18</th>\n",
       "      <th>class</th>\n",
       "    </tr>\n",
       "  </thead>\n",
       "  <tbody>\n",
       "    <tr>\n",
       "      <th>0</th>\n",
       "      <td>1001</td>\n",
       "      <td>AL</td>\n",
       "      <td>Autauga</td>\n",
       "      <td>1.0</td>\n",
       "      <td>1.0</td>\n",
       "      <td>0.018277</td>\n",
       "      <td>0.017985</td>\n",
       "      <td>0.0</td>\n",
       "      <td>0.0</td>\n",
       "      <td>0.0</td>\n",
       "      <td>0.0</td>\n",
       "      <td>0.0</td>\n",
       "      <td>0.0</td>\n",
       "      <td>0.0</td>\n",
       "      <td>0.0</td>\n",
       "      <td>0.0</td>\n",
       "      <td>0.0</td>\n",
       "      <td>9.5</td>\n",
       "      <td>1.0</td>\n",
       "    </tr>\n",
       "    <tr>\n",
       "      <th>1</th>\n",
       "      <td>1003</td>\n",
       "      <td>AL</td>\n",
       "      <td>Baldwin</td>\n",
       "      <td>4.0</td>\n",
       "      <td>4.0</td>\n",
       "      <td>0.020525</td>\n",
       "      <td>0.018347</td>\n",
       "      <td>0.0</td>\n",
       "      <td>0.0</td>\n",
       "      <td>0.0</td>\n",
       "      <td>0.0</td>\n",
       "      <td>0.0</td>\n",
       "      <td>0.0</td>\n",
       "      <td>4.0</td>\n",
       "      <td>100.0</td>\n",
       "      <td>2.0</td>\n",
       "      <td>50.0</td>\n",
       "      <td>8.4</td>\n",
       "      <td>0.0</td>\n",
       "    </tr>\n",
       "    <tr>\n",
       "      <th>2</th>\n",
       "      <td>1005</td>\n",
       "      <td>AL</td>\n",
       "      <td>Barbour</td>\n",
       "      <td>3.0</td>\n",
       "      <td>4.0</td>\n",
       "      <td>0.111342</td>\n",
       "      <td>0.160765</td>\n",
       "      <td>2.0</td>\n",
       "      <td>50.0</td>\n",
       "      <td>0.0</td>\n",
       "      <td>0.0</td>\n",
       "      <td>0.0</td>\n",
       "      <td>0.0</td>\n",
       "      <td>2.0</td>\n",
       "      <td>50.0</td>\n",
       "      <td>2.0</td>\n",
       "      <td>50.0</td>\n",
       "      <td>13.5</td>\n",
       "      <td>1.0</td>\n",
       "    </tr>\n",
       "    <tr>\n",
       "      <th>3</th>\n",
       "      <td>1007</td>\n",
       "      <td>AL</td>\n",
       "      <td>Bibb</td>\n",
       "      <td>1.0</td>\n",
       "      <td>1.0</td>\n",
       "      <td>0.044413</td>\n",
       "      <td>0.044643</td>\n",
       "      <td>0.0</td>\n",
       "      <td>0.0</td>\n",
       "      <td>0.0</td>\n",
       "      <td>0.0</td>\n",
       "      <td>0.0</td>\n",
       "      <td>0.0</td>\n",
       "      <td>0.0</td>\n",
       "      <td>0.0</td>\n",
       "      <td>0.0</td>\n",
       "      <td>0.0</td>\n",
       "      <td>10.2</td>\n",
       "      <td>1.0</td>\n",
       "    </tr>\n",
       "    <tr>\n",
       "      <th>4</th>\n",
       "      <td>1009</td>\n",
       "      <td>AL</td>\n",
       "      <td>Blount</td>\n",
       "      <td>1.0</td>\n",
       "      <td>1.0</td>\n",
       "      <td>0.017358</td>\n",
       "      <td>0.017289</td>\n",
       "      <td>0.0</td>\n",
       "      <td>0.0</td>\n",
       "      <td>1.0</td>\n",
       "      <td>100.0</td>\n",
       "      <td>0.0</td>\n",
       "      <td>0.0</td>\n",
       "      <td>1.0</td>\n",
       "      <td>100.0</td>\n",
       "      <td>0.0</td>\n",
       "      <td>0.0</td>\n",
       "      <td>10.5</td>\n",
       "      <td>1.0</td>\n",
       "    </tr>\n",
       "  </tbody>\n",
       "</table>\n",
       "</div>"
      ],
      "text/plain": [
       "   fips state   county  fmrkt13  fmrkt18  fmrktpth13  fmrktpth18  \\\n",
       "0  1001    AL  Autauga      1.0      1.0    0.018277    0.017985   \n",
       "1  1003    AL  Baldwin      4.0      4.0    0.020525    0.018347   \n",
       "2  1005    AL  Barbour      3.0      4.0    0.111342    0.160765   \n",
       "3  1007    AL     Bibb      1.0      1.0    0.044413    0.044643   \n",
       "4  1009    AL   Blount      1.0      1.0    0.017358    0.017289   \n",
       "\n",
       "   fmrkt_snap18  pct_fmrkt_snap18  fmrkt_wic18  pct_fmrkt_wic18  \\\n",
       "0           0.0               0.0          0.0              0.0   \n",
       "1           0.0               0.0          0.0              0.0   \n",
       "2           2.0              50.0          0.0              0.0   \n",
       "3           0.0               0.0          0.0              0.0   \n",
       "4           0.0               0.0          1.0            100.0   \n",
       "\n",
       "   fmrkt_wiccash18  pct_fmrkt_wiccash18  fmrkt_sfmnp18  pct_fmrkt_sfmnp18  \\\n",
       "0              0.0                  0.0            0.0                0.0   \n",
       "1              0.0                  0.0            4.0              100.0   \n",
       "2              0.0                  0.0            2.0               50.0   \n",
       "3              0.0                  0.0            0.0                0.0   \n",
       "4              0.0                  0.0            1.0              100.0   \n",
       "\n",
       "   fmrkt_credit18  pct_fmrkt_credit18  pct_diabetes18  class  \n",
       "0             0.0                 0.0             9.5    1.0  \n",
       "1             2.0                50.0             8.4    0.0  \n",
       "2             2.0                50.0            13.5    1.0  \n",
       "3             0.0                 0.0            10.2    1.0  \n",
       "4             0.0                 0.0            10.5    1.0  "
      ]
     },
     "execution_count": 101,
     "metadata": {},
     "output_type": "execute_result"
    }
   ],
   "source": [
    "local_fmp.head()"
   ]
  },
  {
   "cell_type": "code",
   "execution_count": 102,
   "id": "3627a3f8",
   "metadata": {},
   "outputs": [
    {
     "data": {
      "text/html": [
       "<div>\n",
       "<style scoped>\n",
       "    .dataframe tbody tr th:only-of-type {\n",
       "        vertical-align: middle;\n",
       "    }\n",
       "\n",
       "    .dataframe tbody tr th {\n",
       "        vertical-align: top;\n",
       "    }\n",
       "\n",
       "    .dataframe thead th {\n",
       "        text-align: right;\n",
       "    }\n",
       "</style>\n",
       "<table border=\"1\" class=\"dataframe\">\n",
       "  <thead>\n",
       "    <tr style=\"text-align: right;\">\n",
       "      <th></th>\n",
       "      <th>fips</th>\n",
       "      <th>fmrkt13</th>\n",
       "      <th>fmrkt18</th>\n",
       "      <th>fmrktpth13</th>\n",
       "      <th>fmrktpth18</th>\n",
       "      <th>fmrkt_snap18</th>\n",
       "      <th>pct_fmrkt_snap18</th>\n",
       "      <th>fmrkt_wic18</th>\n",
       "      <th>pct_fmrkt_wic18</th>\n",
       "      <th>fmrkt_wiccash18</th>\n",
       "      <th>pct_fmrkt_wiccash18</th>\n",
       "      <th>fmrkt_sfmnp18</th>\n",
       "      <th>pct_fmrkt_sfmnp18</th>\n",
       "      <th>fmrkt_credit18</th>\n",
       "      <th>pct_fmrkt_credit18</th>\n",
       "      <th>pct_diabetes18</th>\n",
       "      <th>class</th>\n",
       "    </tr>\n",
       "  </thead>\n",
       "  <tbody>\n",
       "    <tr>\n",
       "      <th>fips</th>\n",
       "      <td>1.000000</td>\n",
       "      <td>-0.064896</td>\n",
       "      <td>-0.064521</td>\n",
       "      <td>0.010376</td>\n",
       "      <td>-0.010518</td>\n",
       "      <td>-0.043122</td>\n",
       "      <td>0.005278</td>\n",
       "      <td>-0.038357</td>\n",
       "      <td>-0.022642</td>\n",
       "      <td>-0.019658</td>\n",
       "      <td>-0.009443</td>\n",
       "      <td>-0.038578</td>\n",
       "      <td>-0.029703</td>\n",
       "      <td>-0.044176</td>\n",
       "      <td>0.016178</td>\n",
       "      <td>-0.084269</td>\n",
       "      <td>-0.085095</td>\n",
       "    </tr>\n",
       "    <tr>\n",
       "      <th>fmrkt13</th>\n",
       "      <td>-0.064896</td>\n",
       "      <td>1.000000</td>\n",
       "      <td>0.982315</td>\n",
       "      <td>0.042276</td>\n",
       "      <td>0.007840</td>\n",
       "      <td>0.863959</td>\n",
       "      <td>0.198284</td>\n",
       "      <td>0.770162</td>\n",
       "      <td>0.227590</td>\n",
       "      <td>0.659893</td>\n",
       "      <td>0.156866</td>\n",
       "      <td>0.789742</td>\n",
       "      <td>0.179823</td>\n",
       "      <td>0.915505</td>\n",
       "      <td>0.202214</td>\n",
       "      <td>-0.011735</td>\n",
       "      <td>0.013676</td>\n",
       "    </tr>\n",
       "    <tr>\n",
       "      <th>fmrkt18</th>\n",
       "      <td>-0.064521</td>\n",
       "      <td>0.982315</td>\n",
       "      <td>1.000000</td>\n",
       "      <td>0.022077</td>\n",
       "      <td>0.017971</td>\n",
       "      <td>0.890982</td>\n",
       "      <td>0.210496</td>\n",
       "      <td>0.805827</td>\n",
       "      <td>0.229237</td>\n",
       "      <td>0.693473</td>\n",
       "      <td>0.157372</td>\n",
       "      <td>0.822833</td>\n",
       "      <td>0.182496</td>\n",
       "      <td>0.945125</td>\n",
       "      <td>0.228749</td>\n",
       "      <td>-0.008823</td>\n",
       "      <td>0.014474</td>\n",
       "    </tr>\n",
       "    <tr>\n",
       "      <th>fmrktpth13</th>\n",
       "      <td>0.010376</td>\n",
       "      <td>0.042276</td>\n",
       "      <td>0.022077</td>\n",
       "      <td>1.000000</td>\n",
       "      <td>0.821297</td>\n",
       "      <td>-0.023195</td>\n",
       "      <td>0.000799</td>\n",
       "      <td>-0.006913</td>\n",
       "      <td>0.063429</td>\n",
       "      <td>-0.000172</td>\n",
       "      <td>0.066867</td>\n",
       "      <td>-0.003692</td>\n",
       "      <td>0.086102</td>\n",
       "      <td>-0.027752</td>\n",
       "      <td>0.011829</td>\n",
       "      <td>-0.142234</td>\n",
       "      <td>-0.126007</td>\n",
       "    </tr>\n",
       "    <tr>\n",
       "      <th>fmrktpth18</th>\n",
       "      <td>-0.010518</td>\n",
       "      <td>0.007840</td>\n",
       "      <td>0.017971</td>\n",
       "      <td>0.821297</td>\n",
       "      <td>1.000000</td>\n",
       "      <td>-0.024859</td>\n",
       "      <td>0.016888</td>\n",
       "      <td>-0.014503</td>\n",
       "      <td>0.048088</td>\n",
       "      <td>-0.005978</td>\n",
       "      <td>0.053150</td>\n",
       "      <td>-0.007543</td>\n",
       "      <td>0.077718</td>\n",
       "      <td>-0.022835</td>\n",
       "      <td>0.068773</td>\n",
       "      <td>-0.139789</td>\n",
       "      <td>-0.122163</td>\n",
       "    </tr>\n",
       "    <tr>\n",
       "      <th>fmrkt_snap18</th>\n",
       "      <td>-0.043122</td>\n",
       "      <td>0.863959</td>\n",
       "      <td>0.890982</td>\n",
       "      <td>-0.023195</td>\n",
       "      <td>-0.024859</td>\n",
       "      <td>1.000000</td>\n",
       "      <td>0.377634</td>\n",
       "      <td>0.882219</td>\n",
       "      <td>0.282937</td>\n",
       "      <td>0.752915</td>\n",
       "      <td>0.200157</td>\n",
       "      <td>0.897440</td>\n",
       "      <td>0.235160</td>\n",
       "      <td>0.926167</td>\n",
       "      <td>0.255734</td>\n",
       "      <td>-0.005570</td>\n",
       "      <td>0.004265</td>\n",
       "    </tr>\n",
       "    <tr>\n",
       "      <th>pct_fmrkt_snap18</th>\n",
       "      <td>0.005278</td>\n",
       "      <td>0.198284</td>\n",
       "      <td>0.210496</td>\n",
       "      <td>0.000799</td>\n",
       "      <td>0.016888</td>\n",
       "      <td>0.377634</td>\n",
       "      <td>1.000000</td>\n",
       "      <td>0.252225</td>\n",
       "      <td>0.425053</td>\n",
       "      <td>0.221067</td>\n",
       "      <td>0.345934</td>\n",
       "      <td>0.255549</td>\n",
       "      <td>0.423707</td>\n",
       "      <td>0.285141</td>\n",
       "      <td>0.589652</td>\n",
       "      <td>0.087393</td>\n",
       "      <td>0.099007</td>\n",
       "    </tr>\n",
       "    <tr>\n",
       "      <th>fmrkt_wic18</th>\n",
       "      <td>-0.038357</td>\n",
       "      <td>0.770162</td>\n",
       "      <td>0.805827</td>\n",
       "      <td>-0.006913</td>\n",
       "      <td>-0.014503</td>\n",
       "      <td>0.882219</td>\n",
       "      <td>0.252225</td>\n",
       "      <td>1.000000</td>\n",
       "      <td>0.430175</td>\n",
       "      <td>0.818606</td>\n",
       "      <td>0.249730</td>\n",
       "      <td>0.941715</td>\n",
       "      <td>0.306525</td>\n",
       "      <td>0.821152</td>\n",
       "      <td>0.193343</td>\n",
       "      <td>-0.014262</td>\n",
       "      <td>-0.008709</td>\n",
       "    </tr>\n",
       "    <tr>\n",
       "      <th>pct_fmrkt_wic18</th>\n",
       "      <td>-0.022642</td>\n",
       "      <td>0.227590</td>\n",
       "      <td>0.229237</td>\n",
       "      <td>0.063429</td>\n",
       "      <td>0.048088</td>\n",
       "      <td>0.282937</td>\n",
       "      <td>0.425053</td>\n",
       "      <td>0.430175</td>\n",
       "      <td>1.000000</td>\n",
       "      <td>0.308641</td>\n",
       "      <td>0.465882</td>\n",
       "      <td>0.364767</td>\n",
       "      <td>0.678735</td>\n",
       "      <td>0.255302</td>\n",
       "      <td>0.344950</td>\n",
       "      <td>0.044540</td>\n",
       "      <td>0.064511</td>\n",
       "    </tr>\n",
       "    <tr>\n",
       "      <th>fmrkt_wiccash18</th>\n",
       "      <td>-0.019658</td>\n",
       "      <td>0.659893</td>\n",
       "      <td>0.693473</td>\n",
       "      <td>-0.000172</td>\n",
       "      <td>-0.005978</td>\n",
       "      <td>0.752915</td>\n",
       "      <td>0.221067</td>\n",
       "      <td>0.818606</td>\n",
       "      <td>0.308641</td>\n",
       "      <td>1.000000</td>\n",
       "      <td>0.429310</td>\n",
       "      <td>0.807422</td>\n",
       "      <td>0.264310</td>\n",
       "      <td>0.708364</td>\n",
       "      <td>0.171278</td>\n",
       "      <td>-0.008831</td>\n",
       "      <td>-0.000391</td>\n",
       "    </tr>\n",
       "    <tr>\n",
       "      <th>pct_fmrkt_wiccash18</th>\n",
       "      <td>-0.009443</td>\n",
       "      <td>0.156866</td>\n",
       "      <td>0.157372</td>\n",
       "      <td>0.066867</td>\n",
       "      <td>0.053150</td>\n",
       "      <td>0.200157</td>\n",
       "      <td>0.345934</td>\n",
       "      <td>0.249730</td>\n",
       "      <td>0.465882</td>\n",
       "      <td>0.429310</td>\n",
       "      <td>1.000000</td>\n",
       "      <td>0.254279</td>\n",
       "      <td>0.489590</td>\n",
       "      <td>0.180993</td>\n",
       "      <td>0.267118</td>\n",
       "      <td>0.037515</td>\n",
       "      <td>0.047870</td>\n",
       "    </tr>\n",
       "    <tr>\n",
       "      <th>fmrkt_sfmnp18</th>\n",
       "      <td>-0.038578</td>\n",
       "      <td>0.789742</td>\n",
       "      <td>0.822833</td>\n",
       "      <td>-0.003692</td>\n",
       "      <td>-0.007543</td>\n",
       "      <td>0.897440</td>\n",
       "      <td>0.255549</td>\n",
       "      <td>0.941715</td>\n",
       "      <td>0.364767</td>\n",
       "      <td>0.807422</td>\n",
       "      <td>0.254279</td>\n",
       "      <td>1.000000</td>\n",
       "      <td>0.391952</td>\n",
       "      <td>0.835580</td>\n",
       "      <td>0.200513</td>\n",
       "      <td>0.014444</td>\n",
       "      <td>0.020025</td>\n",
       "    </tr>\n",
       "    <tr>\n",
       "      <th>pct_fmrkt_sfmnp18</th>\n",
       "      <td>-0.029703</td>\n",
       "      <td>0.179823</td>\n",
       "      <td>0.182496</td>\n",
       "      <td>0.086102</td>\n",
       "      <td>0.077718</td>\n",
       "      <td>0.235160</td>\n",
       "      <td>0.423707</td>\n",
       "      <td>0.306525</td>\n",
       "      <td>0.678735</td>\n",
       "      <td>0.264310</td>\n",
       "      <td>0.489590</td>\n",
       "      <td>0.391952</td>\n",
       "      <td>1.000000</td>\n",
       "      <td>0.208497</td>\n",
       "      <td>0.359712</td>\n",
       "      <td>0.126223</td>\n",
       "      <td>0.123745</td>\n",
       "    </tr>\n",
       "    <tr>\n",
       "      <th>fmrkt_credit18</th>\n",
       "      <td>-0.044176</td>\n",
       "      <td>0.915505</td>\n",
       "      <td>0.945125</td>\n",
       "      <td>-0.027752</td>\n",
       "      <td>-0.022835</td>\n",
       "      <td>0.926167</td>\n",
       "      <td>0.285141</td>\n",
       "      <td>0.821152</td>\n",
       "      <td>0.255302</td>\n",
       "      <td>0.708364</td>\n",
       "      <td>0.180993</td>\n",
       "      <td>0.835580</td>\n",
       "      <td>0.208497</td>\n",
       "      <td>1.000000</td>\n",
       "      <td>0.353666</td>\n",
       "      <td>-0.015326</td>\n",
       "      <td>0.003153</td>\n",
       "    </tr>\n",
       "    <tr>\n",
       "      <th>pct_fmrkt_credit18</th>\n",
       "      <td>0.016178</td>\n",
       "      <td>0.202214</td>\n",
       "      <td>0.228749</td>\n",
       "      <td>0.011829</td>\n",
       "      <td>0.068773</td>\n",
       "      <td>0.255734</td>\n",
       "      <td>0.589652</td>\n",
       "      <td>0.193343</td>\n",
       "      <td>0.344950</td>\n",
       "      <td>0.171278</td>\n",
       "      <td>0.267118</td>\n",
       "      <td>0.200513</td>\n",
       "      <td>0.359712</td>\n",
       "      <td>0.353666</td>\n",
       "      <td>1.000000</td>\n",
       "      <td>0.064974</td>\n",
       "      <td>0.098028</td>\n",
       "    </tr>\n",
       "    <tr>\n",
       "      <th>pct_diabetes18</th>\n",
       "      <td>-0.084269</td>\n",
       "      <td>-0.011735</td>\n",
       "      <td>-0.008823</td>\n",
       "      <td>-0.142234</td>\n",
       "      <td>-0.139789</td>\n",
       "      <td>-0.005570</td>\n",
       "      <td>0.087393</td>\n",
       "      <td>-0.014262</td>\n",
       "      <td>0.044540</td>\n",
       "      <td>-0.008831</td>\n",
       "      <td>0.037515</td>\n",
       "      <td>0.014444</td>\n",
       "      <td>0.126223</td>\n",
       "      <td>-0.015326</td>\n",
       "      <td>0.064974</td>\n",
       "      <td>1.000000</td>\n",
       "      <td>0.799601</td>\n",
       "    </tr>\n",
       "    <tr>\n",
       "      <th>class</th>\n",
       "      <td>-0.085095</td>\n",
       "      <td>0.013676</td>\n",
       "      <td>0.014474</td>\n",
       "      <td>-0.126007</td>\n",
       "      <td>-0.122163</td>\n",
       "      <td>0.004265</td>\n",
       "      <td>0.099007</td>\n",
       "      <td>-0.008709</td>\n",
       "      <td>0.064511</td>\n",
       "      <td>-0.000391</td>\n",
       "      <td>0.047870</td>\n",
       "      <td>0.020025</td>\n",
       "      <td>0.123745</td>\n",
       "      <td>0.003153</td>\n",
       "      <td>0.098028</td>\n",
       "      <td>0.799601</td>\n",
       "      <td>1.000000</td>\n",
       "    </tr>\n",
       "  </tbody>\n",
       "</table>\n",
       "</div>"
      ],
      "text/plain": [
       "                         fips   fmrkt13   fmrkt18  fmrktpth13  fmrktpth18  \\\n",
       "fips                 1.000000 -0.064896 -0.064521    0.010376   -0.010518   \n",
       "fmrkt13             -0.064896  1.000000  0.982315    0.042276    0.007840   \n",
       "fmrkt18             -0.064521  0.982315  1.000000    0.022077    0.017971   \n",
       "fmrktpth13           0.010376  0.042276  0.022077    1.000000    0.821297   \n",
       "fmrktpth18          -0.010518  0.007840  0.017971    0.821297    1.000000   \n",
       "fmrkt_snap18        -0.043122  0.863959  0.890982   -0.023195   -0.024859   \n",
       "pct_fmrkt_snap18     0.005278  0.198284  0.210496    0.000799    0.016888   \n",
       "fmrkt_wic18         -0.038357  0.770162  0.805827   -0.006913   -0.014503   \n",
       "pct_fmrkt_wic18     -0.022642  0.227590  0.229237    0.063429    0.048088   \n",
       "fmrkt_wiccash18     -0.019658  0.659893  0.693473   -0.000172   -0.005978   \n",
       "pct_fmrkt_wiccash18 -0.009443  0.156866  0.157372    0.066867    0.053150   \n",
       "fmrkt_sfmnp18       -0.038578  0.789742  0.822833   -0.003692   -0.007543   \n",
       "pct_fmrkt_sfmnp18   -0.029703  0.179823  0.182496    0.086102    0.077718   \n",
       "fmrkt_credit18      -0.044176  0.915505  0.945125   -0.027752   -0.022835   \n",
       "pct_fmrkt_credit18   0.016178  0.202214  0.228749    0.011829    0.068773   \n",
       "pct_diabetes18      -0.084269 -0.011735 -0.008823   -0.142234   -0.139789   \n",
       "class               -0.085095  0.013676  0.014474   -0.126007   -0.122163   \n",
       "\n",
       "                     fmrkt_snap18  pct_fmrkt_snap18  fmrkt_wic18  \\\n",
       "fips                    -0.043122          0.005278    -0.038357   \n",
       "fmrkt13                  0.863959          0.198284     0.770162   \n",
       "fmrkt18                  0.890982          0.210496     0.805827   \n",
       "fmrktpth13              -0.023195          0.000799    -0.006913   \n",
       "fmrktpth18              -0.024859          0.016888    -0.014503   \n",
       "fmrkt_snap18             1.000000          0.377634     0.882219   \n",
       "pct_fmrkt_snap18         0.377634          1.000000     0.252225   \n",
       "fmrkt_wic18              0.882219          0.252225     1.000000   \n",
       "pct_fmrkt_wic18          0.282937          0.425053     0.430175   \n",
       "fmrkt_wiccash18          0.752915          0.221067     0.818606   \n",
       "pct_fmrkt_wiccash18      0.200157          0.345934     0.249730   \n",
       "fmrkt_sfmnp18            0.897440          0.255549     0.941715   \n",
       "pct_fmrkt_sfmnp18        0.235160          0.423707     0.306525   \n",
       "fmrkt_credit18           0.926167          0.285141     0.821152   \n",
       "pct_fmrkt_credit18       0.255734          0.589652     0.193343   \n",
       "pct_diabetes18          -0.005570          0.087393    -0.014262   \n",
       "class                    0.004265          0.099007    -0.008709   \n",
       "\n",
       "                     pct_fmrkt_wic18  fmrkt_wiccash18  pct_fmrkt_wiccash18  \\\n",
       "fips                       -0.022642        -0.019658            -0.009443   \n",
       "fmrkt13                     0.227590         0.659893             0.156866   \n",
       "fmrkt18                     0.229237         0.693473             0.157372   \n",
       "fmrktpth13                  0.063429        -0.000172             0.066867   \n",
       "fmrktpth18                  0.048088        -0.005978             0.053150   \n",
       "fmrkt_snap18                0.282937         0.752915             0.200157   \n",
       "pct_fmrkt_snap18            0.425053         0.221067             0.345934   \n",
       "fmrkt_wic18                 0.430175         0.818606             0.249730   \n",
       "pct_fmrkt_wic18             1.000000         0.308641             0.465882   \n",
       "fmrkt_wiccash18             0.308641         1.000000             0.429310   \n",
       "pct_fmrkt_wiccash18         0.465882         0.429310             1.000000   \n",
       "fmrkt_sfmnp18               0.364767         0.807422             0.254279   \n",
       "pct_fmrkt_sfmnp18           0.678735         0.264310             0.489590   \n",
       "fmrkt_credit18              0.255302         0.708364             0.180993   \n",
       "pct_fmrkt_credit18          0.344950         0.171278             0.267118   \n",
       "pct_diabetes18              0.044540        -0.008831             0.037515   \n",
       "class                       0.064511        -0.000391             0.047870   \n",
       "\n",
       "                     fmrkt_sfmnp18  pct_fmrkt_sfmnp18  fmrkt_credit18  \\\n",
       "fips                     -0.038578          -0.029703       -0.044176   \n",
       "fmrkt13                   0.789742           0.179823        0.915505   \n",
       "fmrkt18                   0.822833           0.182496        0.945125   \n",
       "fmrktpth13               -0.003692           0.086102       -0.027752   \n",
       "fmrktpth18               -0.007543           0.077718       -0.022835   \n",
       "fmrkt_snap18              0.897440           0.235160        0.926167   \n",
       "pct_fmrkt_snap18          0.255549           0.423707        0.285141   \n",
       "fmrkt_wic18               0.941715           0.306525        0.821152   \n",
       "pct_fmrkt_wic18           0.364767           0.678735        0.255302   \n",
       "fmrkt_wiccash18           0.807422           0.264310        0.708364   \n",
       "pct_fmrkt_wiccash18       0.254279           0.489590        0.180993   \n",
       "fmrkt_sfmnp18             1.000000           0.391952        0.835580   \n",
       "pct_fmrkt_sfmnp18         0.391952           1.000000        0.208497   \n",
       "fmrkt_credit18            0.835580           0.208497        1.000000   \n",
       "pct_fmrkt_credit18        0.200513           0.359712        0.353666   \n",
       "pct_diabetes18            0.014444           0.126223       -0.015326   \n",
       "class                     0.020025           0.123745        0.003153   \n",
       "\n",
       "                     pct_fmrkt_credit18  pct_diabetes18     class  \n",
       "fips                           0.016178       -0.084269 -0.085095  \n",
       "fmrkt13                        0.202214       -0.011735  0.013676  \n",
       "fmrkt18                        0.228749       -0.008823  0.014474  \n",
       "fmrktpth13                     0.011829       -0.142234 -0.126007  \n",
       "fmrktpth18                     0.068773       -0.139789 -0.122163  \n",
       "fmrkt_snap18                   0.255734       -0.005570  0.004265  \n",
       "pct_fmrkt_snap18               0.589652        0.087393  0.099007  \n",
       "fmrkt_wic18                    0.193343       -0.014262 -0.008709  \n",
       "pct_fmrkt_wic18                0.344950        0.044540  0.064511  \n",
       "fmrkt_wiccash18                0.171278       -0.008831 -0.000391  \n",
       "pct_fmrkt_wiccash18            0.267118        0.037515  0.047870  \n",
       "fmrkt_sfmnp18                  0.200513        0.014444  0.020025  \n",
       "pct_fmrkt_sfmnp18              0.359712        0.126223  0.123745  \n",
       "fmrkt_credit18                 0.353666       -0.015326  0.003153  \n",
       "pct_fmrkt_credit18             1.000000        0.064974  0.098028  \n",
       "pct_diabetes18                 0.064974        1.000000  0.799601  \n",
       "class                          0.098028        0.799601  1.000000  "
      ]
     },
     "execution_count": 102,
     "metadata": {},
     "output_type": "execute_result"
    }
   ],
   "source": [
    "local_fmp.corr()"
   ]
  },
  {
   "cell_type": "markdown",
   "id": "f3846b94",
   "metadata": {},
   "source": [
    "### KNN Classification"
   ]
  },
  {
   "cell_type": "markdown",
   "id": "d426a7d4",
   "metadata": {},
   "source": [
    "#### 1. Create X and y"
   ]
  },
  {
   "cell_type": "code",
   "execution_count": 103,
   "id": "c4d5716d",
   "metadata": {},
   "outputs": [],
   "source": [
    "X = local_fmp.drop(columns = ['fips', 'state', 'county', 'pct_diabetes18', 'class'])\n",
    "\n",
    "y = local_fmp['class']"
   ]
  },
  {
   "cell_type": "markdown",
   "id": "d0e476ae",
   "metadata": {},
   "source": [
    "#### 2. Determine baseline"
   ]
  },
  {
   "cell_type": "code",
   "execution_count": 104,
   "id": "eb8247df",
   "metadata": {},
   "outputs": [
    {
     "data": {
      "text/plain": [
       "0.0    0.582617\n",
       "1.0    0.417383\n",
       "Name: class, dtype: float64"
      ]
     },
     "execution_count": 104,
     "metadata": {},
     "output_type": "execute_result"
    }
   ],
   "source": [
    "local_fmp['class'].value_counts(normalize = True)"
   ]
  },
  {
   "cell_type": "markdown",
   "id": "464ce53e",
   "metadata": {},
   "source": [
    "Baseline is 0.583."
   ]
  },
  {
   "cell_type": "markdown",
   "id": "d81c8fda",
   "metadata": {},
   "source": [
    "#### 3. Scale features"
   ]
  },
  {
   "cell_type": "code",
   "execution_count": 105,
   "id": "6315860d",
   "metadata": {},
   "outputs": [],
   "source": [
    "ss = StandardScaler()\n",
    "\n",
    "X = ss.fit_transform(X)"
   ]
  },
  {
   "cell_type": "markdown",
   "id": "5f9fb78b",
   "metadata": {},
   "source": [
    "#### 4. Train, test, split"
   ]
  },
  {
   "cell_type": "code",
   "execution_count": 106,
   "id": "2c97e65b",
   "metadata": {},
   "outputs": [],
   "source": [
    "X_train, X_test, y_train, y_test = train_test_split(X, y, random_state = 42, stratify = y)"
   ]
  },
  {
   "cell_type": "markdown",
   "id": "855a82d9",
   "metadata": {},
   "source": [
    "#### 5. Instantiate, fit, evaluate model"
   ]
  },
  {
   "cell_type": "code",
   "execution_count": 107,
   "id": "7403d19d",
   "metadata": {},
   "outputs": [
    {
     "name": "stdout",
     "output_type": "stream",
     "text": [
      "0.6530785562632696 0.6653944020356234\n"
     ]
    }
   ],
   "source": [
    "with warnings.catch_warnings():\n",
    "    warnings.simplefilter(\"ignore\", category = FutureWarning)\n",
    "\n",
    "# Instantiate\n",
    "    knn = KNeighborsClassifier(n_neighbors = 17)\n",
    "\n",
    "# Fit\n",
    "    knn.fit(X_train, y_train)\n",
    "\n",
    "# Evaluate\n",
    "    print(knn.score(X_train, y_train), knn.score(X_test, y_test))"
   ]
  },
  {
   "cell_type": "code",
   "execution_count": 108,
   "id": "47d4d69b",
   "metadata": {},
   "outputs": [
    {
     "data": {
      "image/png": "[encoded data removed]",
      "text/plain": [
       "<Figure size 640x480 with 2 Axes>"
      ]
     },
     "metadata": {},
     "output_type": "display_data"
    }
   ],
   "source": [
    "with warnings.catch_warnings():\n",
    "    warnings.simplefilter(\"ignore\", category = FutureWarning)\n",
    "\n",
    "    ConfusionMatrixDisplay.from_estimator(knn, X_test, y_test, normalize = 'pred');"
   ]
  },
  {
   "cell_type": "code",
   "execution_count": 109,
   "id": "5be0a194",
   "metadata": {},
   "outputs": [],
   "source": [
    "with warnings.catch_warnings():\n",
    "    warnings.simplefilter(\"ignore\", category = FutureWarning)\n",
    "\n",
    "    preds = knn.predict(X_test) #generates predictions\n"
   ]
  },
  {
   "cell_type": "code",
   "execution_count": 110,
   "id": "705be7fc",
   "metadata": {},
   "outputs": [
    {
     "data": {
      "text/plain": [
       "array([351, 107, 156, 172])"
      ]
     },
     "execution_count": 110,
     "metadata": {},
     "output_type": "execute_result"
    }
   ],
   "source": [
    "confusion_matrix(y_test, preds).ravel()"
   ]
  },
  {
   "cell_type": "code",
   "execution_count": 111,
   "id": "b967a898",
   "metadata": {},
   "outputs": [
    {
     "data": {
      "text/plain": [
       "(351, 107, 156, 172)"
      ]
     },
     "execution_count": 111,
     "metadata": {},
     "output_type": "execute_result"
    }
   ],
   "source": [
    "tn, fp, fn, tp = confusion_matrix(y_test, preds).ravel()\n",
    "\n",
    "tn, fp, fn, tp #(true negative, false positive, false negative, true positive)"
   ]
  },
  {
   "cell_type": "markdown",
   "id": "a15221ff",
   "metadata": {},
   "source": [
    "##### Accuracy"
   ]
  },
  {
   "cell_type": "code",
   "execution_count": 112,
   "id": "fe36f668",
   "metadata": {},
   "outputs": [
    {
     "name": "stdout",
     "output_type": "stream",
     "text": [
      "0.6653944020356234\n"
     ]
    }
   ],
   "source": [
    "with warnings.catch_warnings():\n",
    "    warnings.simplefilter(\"ignore\", category = FutureWarning)\n",
    "\n",
    "    print(knn.score(X_test, y_test))"
   ]
  },
  {
   "cell_type": "markdown",
   "id": "3dc41c14",
   "metadata": {},
   "source": [
    "This is the proportion of total predictions that were correct. The score of 0.665 is above the baseline (which was 0.583.) "
   ]
  },
  {
   "cell_type": "code",
   "execution_count": 113,
   "id": "ff974e7e",
   "metadata": {},
   "outputs": [
    {
     "name": "stdout",
     "output_type": "stream",
     "text": [
      "Specificity:  0.7663755458515283\n",
      "Sensitivity:  0.524390243902439\n",
      "Precision:  0.6164874551971327\n",
      "F1:  0.5667215815485998\n"
     ]
    }
   ],
   "source": [
    "specificity = tn / (tn + fp)\n",
    "sensitivity = tp / (tp + fn)\n",
    "precision = tp / (tp + fp)\n",
    "f1 = 2 * (precision*sensitivity) / (precision+sensitivity)\n",
    "\n",
    "\n",
    "print (\"Specificity: \", specificity)\n",
    "print (\"Sensitivity: \", sensitivity)\n",
    "print (\"Precision: \", precision)\n",
    "print (\"F1: \", f1)"
   ]
  },
  {
   "cell_type": "markdown",
   "id": "c754b2f2",
   "metadata": {},
   "source": [
    "#### Discussion"
   ]
  },
  {
   "cell_type": "markdown",
   "id": "d1cde4ff",
   "metadata": {},
   "source": [
    "This is the only model created that uses predictor data from 2018, which matches the target data. Specificity is fairly high at 0.766. Just as in all previous models, sensitivity is lower at 0.524. While the accuracy score is above baseline, the F1 score is not, suggesting that overall, this model cannot effectively be used to predict prevalence of diabetes in counties."
   ]
  },
  {
   "cell_type": "markdown",
   "id": "065aa680",
   "metadata": {},
   "source": [
    "## Farmer's Markets - Foods"
   ]
  },
  {
   "cell_type": "code",
   "execution_count": 114,
   "id": "2a69ef37",
   "metadata": {},
   "outputs": [],
   "source": [
    "file_path = '../data/FoodEnvironmentAtlas.xls.LOCAL_Modeling_FrmrktF.csv'\n",
    "\n",
    "local_fmf = pd.read_csv(file_path)"
   ]
  },
  {
   "cell_type": "code",
   "execution_count": 115,
   "id": "bcee3998",
   "metadata": {},
   "outputs": [
    {
     "data": {
      "text/html": [
       "<div>\n",
       "<style scoped>\n",
       "    .dataframe tbody tr th:only-of-type {\n",
       "        vertical-align: middle;\n",
       "    }\n",
       "\n",
       "    .dataframe tbody tr th {\n",
       "        vertical-align: top;\n",
       "    }\n",
       "\n",
       "    .dataframe thead th {\n",
       "        text-align: right;\n",
       "    }\n",
       "</style>\n",
       "<table border=\"1\" class=\"dataframe\">\n",
       "  <thead>\n",
       "    <tr style=\"text-align: right;\">\n",
       "      <th></th>\n",
       "      <th>fips</th>\n",
       "      <th>state</th>\n",
       "      <th>county</th>\n",
       "      <th>fmrkt_frveg18</th>\n",
       "      <th>pct_fmrkt_frveg18</th>\n",
       "      <th>fmrkt_anmlprod18</th>\n",
       "      <th>pct_fmrkt_anmlprod18</th>\n",
       "      <th>fmrkt_baked18</th>\n",
       "      <th>pct_fmrkt_baked18</th>\n",
       "      <th>fmrkt_otherfood18</th>\n",
       "      <th>pct_fmrkt_otherfood18</th>\n",
       "      <th>pct_diabetes18</th>\n",
       "      <th>class</th>\n",
       "    </tr>\n",
       "  </thead>\n",
       "  <tbody>\n",
       "    <tr>\n",
       "      <th>0</th>\n",
       "      <td>1001</td>\n",
       "      <td>AL</td>\n",
       "      <td>Autauga</td>\n",
       "      <td>1.0</td>\n",
       "      <td>100.0</td>\n",
       "      <td>0.0</td>\n",
       "      <td>0.0</td>\n",
       "      <td>1.0</td>\n",
       "      <td>100.0</td>\n",
       "      <td>1.0</td>\n",
       "      <td>100.0</td>\n",
       "      <td>9.5</td>\n",
       "      <td>1.0</td>\n",
       "    </tr>\n",
       "    <tr>\n",
       "      <th>1</th>\n",
       "      <td>1003</td>\n",
       "      <td>AL</td>\n",
       "      <td>Baldwin</td>\n",
       "      <td>3.0</td>\n",
       "      <td>75.0</td>\n",
       "      <td>4.0</td>\n",
       "      <td>100.0</td>\n",
       "      <td>3.0</td>\n",
       "      <td>75.0</td>\n",
       "      <td>3.0</td>\n",
       "      <td>75.0</td>\n",
       "      <td>8.4</td>\n",
       "      <td>0.0</td>\n",
       "    </tr>\n",
       "    <tr>\n",
       "      <th>2</th>\n",
       "      <td>1005</td>\n",
       "      <td>AL</td>\n",
       "      <td>Barbour</td>\n",
       "      <td>2.0</td>\n",
       "      <td>50.0</td>\n",
       "      <td>0.0</td>\n",
       "      <td>0.0</td>\n",
       "      <td>2.0</td>\n",
       "      <td>50.0</td>\n",
       "      <td>2.0</td>\n",
       "      <td>50.0</td>\n",
       "      <td>13.5</td>\n",
       "      <td>1.0</td>\n",
       "    </tr>\n",
       "    <tr>\n",
       "      <th>3</th>\n",
       "      <td>1007</td>\n",
       "      <td>AL</td>\n",
       "      <td>Bibb</td>\n",
       "      <td>0.0</td>\n",
       "      <td>0.0</td>\n",
       "      <td>0.0</td>\n",
       "      <td>0.0</td>\n",
       "      <td>0.0</td>\n",
       "      <td>0.0</td>\n",
       "      <td>0.0</td>\n",
       "      <td>0.0</td>\n",
       "      <td>10.2</td>\n",
       "      <td>1.0</td>\n",
       "    </tr>\n",
       "    <tr>\n",
       "      <th>4</th>\n",
       "      <td>1009</td>\n",
       "      <td>AL</td>\n",
       "      <td>Blount</td>\n",
       "      <td>1.0</td>\n",
       "      <td>100.0</td>\n",
       "      <td>1.0</td>\n",
       "      <td>100.0</td>\n",
       "      <td>1.0</td>\n",
       "      <td>100.0</td>\n",
       "      <td>1.0</td>\n",
       "      <td>100.0</td>\n",
       "      <td>10.5</td>\n",
       "      <td>1.0</td>\n",
       "    </tr>\n",
       "  </tbody>\n",
       "</table>\n",
       "</div>"
      ],
      "text/plain": [
       "   fips state   county  fmrkt_frveg18  pct_fmrkt_frveg18  fmrkt_anmlprod18  \\\n",
       "0  1001    AL  Autauga            1.0              100.0               0.0   \n",
       "1  1003    AL  Baldwin            3.0               75.0               4.0   \n",
       "2  1005    AL  Barbour            2.0               50.0               0.0   \n",
       "3  1007    AL     Bibb            0.0                0.0               0.0   \n",
       "4  1009    AL   Blount            1.0              100.0               1.0   \n",
       "\n",
       "   pct_fmrkt_anmlprod18  fmrkt_baked18  pct_fmrkt_baked18  fmrkt_otherfood18  \\\n",
       "0                   0.0            1.0              100.0                1.0   \n",
       "1                 100.0            3.0               75.0                3.0   \n",
       "2                   0.0            2.0               50.0                2.0   \n",
       "3                   0.0            0.0                0.0                0.0   \n",
       "4                 100.0            1.0              100.0                1.0   \n",
       "\n",
       "   pct_fmrkt_otherfood18  pct_diabetes18  class  \n",
       "0                  100.0             9.5    1.0  \n",
       "1                   75.0             8.4    0.0  \n",
       "2                   50.0            13.5    1.0  \n",
       "3                    0.0            10.2    1.0  \n",
       "4                  100.0            10.5    1.0  "
      ]
     },
     "execution_count": 115,
     "metadata": {},
     "output_type": "execute_result"
    }
   ],
   "source": [
    "local_fmf.head()"
   ]
  },
  {
   "cell_type": "code",
   "execution_count": 116,
   "id": "d2039e69",
   "metadata": {},
   "outputs": [
    {
     "data": {
      "text/html": [
       "<div>\n",
       "<style scoped>\n",
       "    .dataframe tbody tr th:only-of-type {\n",
       "        vertical-align: middle;\n",
       "    }\n",
       "\n",
       "    .dataframe tbody tr th {\n",
       "        vertical-align: top;\n",
       "    }\n",
       "\n",
       "    .dataframe thead th {\n",
       "        text-align: right;\n",
       "    }\n",
       "</style>\n",
       "<table border=\"1\" class=\"dataframe\">\n",
       "  <thead>\n",
       "    <tr style=\"text-align: right;\">\n",
       "      <th></th>\n",
       "      <th>fips</th>\n",
       "      <th>fmrkt_frveg18</th>\n",
       "      <th>pct_fmrkt_frveg18</th>\n",
       "      <th>fmrkt_anmlprod18</th>\n",
       "      <th>pct_fmrkt_anmlprod18</th>\n",
       "      <th>fmrkt_baked18</th>\n",
       "      <th>pct_fmrkt_baked18</th>\n",
       "      <th>fmrkt_otherfood18</th>\n",
       "      <th>pct_fmrkt_otherfood18</th>\n",
       "      <th>pct_diabetes18</th>\n",
       "      <th>class</th>\n",
       "    </tr>\n",
       "  </thead>\n",
       "  <tbody>\n",
       "    <tr>\n",
       "      <th>fips</th>\n",
       "      <td>1.000000</td>\n",
       "      <td>-0.046552</td>\n",
       "      <td>-0.022577</td>\n",
       "      <td>-0.036520</td>\n",
       "      <td>0.022439</td>\n",
       "      <td>-0.048480</td>\n",
       "      <td>-0.011937</td>\n",
       "      <td>-0.044779</td>\n",
       "      <td>-0.012988</td>\n",
       "      <td>-0.084269</td>\n",
       "      <td>-0.085095</td>\n",
       "    </tr>\n",
       "    <tr>\n",
       "      <th>fmrkt_frveg18</th>\n",
       "      <td>-0.046552</td>\n",
       "      <td>1.000000</td>\n",
       "      <td>0.325315</td>\n",
       "      <td>0.972522</td>\n",
       "      <td>0.286643</td>\n",
       "      <td>0.985173</td>\n",
       "      <td>0.301507</td>\n",
       "      <td>0.978605</td>\n",
       "      <td>0.297266</td>\n",
       "      <td>-0.009251</td>\n",
       "      <td>0.008945</td>\n",
       "    </tr>\n",
       "    <tr>\n",
       "      <th>pct_fmrkt_frveg18</th>\n",
       "      <td>-0.022577</td>\n",
       "      <td>0.325315</td>\n",
       "      <td>1.000000</td>\n",
       "      <td>0.323371</td>\n",
       "      <td>0.881300</td>\n",
       "      <td>0.326062</td>\n",
       "      <td>0.931402</td>\n",
       "      <td>0.333000</td>\n",
       "      <td>0.945291</td>\n",
       "      <td>0.087403</td>\n",
       "      <td>0.107022</td>\n",
       "    </tr>\n",
       "    <tr>\n",
       "      <th>fmrkt_anmlprod18</th>\n",
       "      <td>-0.036520</td>\n",
       "      <td>0.972522</td>\n",
       "      <td>0.323371</td>\n",
       "      <td>1.000000</td>\n",
       "      <td>0.337224</td>\n",
       "      <td>0.984152</td>\n",
       "      <td>0.315571</td>\n",
       "      <td>0.989712</td>\n",
       "      <td>0.312699</td>\n",
       "      <td>-0.025192</td>\n",
       "      <td>-0.001922</td>\n",
       "    </tr>\n",
       "    <tr>\n",
       "      <th>pct_fmrkt_anmlprod18</th>\n",
       "      <td>0.022439</td>\n",
       "      <td>0.286643</td>\n",
       "      <td>0.881300</td>\n",
       "      <td>0.337224</td>\n",
       "      <td>1.000000</td>\n",
       "      <td>0.302499</td>\n",
       "      <td>0.874917</td>\n",
       "      <td>0.310236</td>\n",
       "      <td>0.881012</td>\n",
       "      <td>0.044859</td>\n",
       "      <td>0.077123</td>\n",
       "    </tr>\n",
       "    <tr>\n",
       "      <th>fmrkt_baked18</th>\n",
       "      <td>-0.048480</td>\n",
       "      <td>0.985173</td>\n",
       "      <td>0.326062</td>\n",
       "      <td>0.984152</td>\n",
       "      <td>0.302499</td>\n",
       "      <td>1.000000</td>\n",
       "      <td>0.331532</td>\n",
       "      <td>0.988419</td>\n",
       "      <td>0.312487</td>\n",
       "      <td>-0.021024</td>\n",
       "      <td>0.000696</td>\n",
       "    </tr>\n",
       "    <tr>\n",
       "      <th>pct_fmrkt_baked18</th>\n",
       "      <td>-0.011937</td>\n",
       "      <td>0.301507</td>\n",
       "      <td>0.931402</td>\n",
       "      <td>0.315571</td>\n",
       "      <td>0.874917</td>\n",
       "      <td>0.331532</td>\n",
       "      <td>1.000000</td>\n",
       "      <td>0.323463</td>\n",
       "      <td>0.933550</td>\n",
       "      <td>0.054235</td>\n",
       "      <td>0.077147</td>\n",
       "    </tr>\n",
       "    <tr>\n",
       "      <th>fmrkt_otherfood18</th>\n",
       "      <td>-0.044779</td>\n",
       "      <td>0.978605</td>\n",
       "      <td>0.333000</td>\n",
       "      <td>0.989712</td>\n",
       "      <td>0.310236</td>\n",
       "      <td>0.988419</td>\n",
       "      <td>0.323463</td>\n",
       "      <td>1.000000</td>\n",
       "      <td>0.332290</td>\n",
       "      <td>-0.017419</td>\n",
       "      <td>0.004156</td>\n",
       "    </tr>\n",
       "    <tr>\n",
       "      <th>pct_fmrkt_otherfood18</th>\n",
       "      <td>-0.012988</td>\n",
       "      <td>0.297266</td>\n",
       "      <td>0.945291</td>\n",
       "      <td>0.312699</td>\n",
       "      <td>0.881012</td>\n",
       "      <td>0.312487</td>\n",
       "      <td>0.933550</td>\n",
       "      <td>0.332290</td>\n",
       "      <td>1.000000</td>\n",
       "      <td>0.070930</td>\n",
       "      <td>0.091617</td>\n",
       "    </tr>\n",
       "    <tr>\n",
       "      <th>pct_diabetes18</th>\n",
       "      <td>-0.084269</td>\n",
       "      <td>-0.009251</td>\n",
       "      <td>0.087403</td>\n",
       "      <td>-0.025192</td>\n",
       "      <td>0.044859</td>\n",
       "      <td>-0.021024</td>\n",
       "      <td>0.054235</td>\n",
       "      <td>-0.017419</td>\n",
       "      <td>0.070930</td>\n",
       "      <td>1.000000</td>\n",
       "      <td>0.799601</td>\n",
       "    </tr>\n",
       "    <tr>\n",
       "      <th>class</th>\n",
       "      <td>-0.085095</td>\n",
       "      <td>0.008945</td>\n",
       "      <td>0.107022</td>\n",
       "      <td>-0.001922</td>\n",
       "      <td>0.077123</td>\n",
       "      <td>0.000696</td>\n",
       "      <td>0.077147</td>\n",
       "      <td>0.004156</td>\n",
       "      <td>0.091617</td>\n",
       "      <td>0.799601</td>\n",
       "      <td>1.000000</td>\n",
       "    </tr>\n",
       "  </tbody>\n",
       "</table>\n",
       "</div>"
      ],
      "text/plain": [
       "                           fips  fmrkt_frveg18  pct_fmrkt_frveg18  \\\n",
       "fips                   1.000000      -0.046552          -0.022577   \n",
       "fmrkt_frveg18         -0.046552       1.000000           0.325315   \n",
       "pct_fmrkt_frveg18     -0.022577       0.325315           1.000000   \n",
       "fmrkt_anmlprod18      -0.036520       0.972522           0.323371   \n",
       "pct_fmrkt_anmlprod18   0.022439       0.286643           0.881300   \n",
       "fmrkt_baked18         -0.048480       0.985173           0.326062   \n",
       "pct_fmrkt_baked18     -0.011937       0.301507           0.931402   \n",
       "fmrkt_otherfood18     -0.044779       0.978605           0.333000   \n",
       "pct_fmrkt_otherfood18 -0.012988       0.297266           0.945291   \n",
       "pct_diabetes18        -0.084269      -0.009251           0.087403   \n",
       "class                 -0.085095       0.008945           0.107022   \n",
       "\n",
       "                       fmrkt_anmlprod18  pct_fmrkt_anmlprod18  fmrkt_baked18  \\\n",
       "fips                          -0.036520              0.022439      -0.048480   \n",
       "fmrkt_frveg18                  0.972522              0.286643       0.985173   \n",
       "pct_fmrkt_frveg18              0.323371              0.881300       0.326062   \n",
       "fmrkt_anmlprod18               1.000000              0.337224       0.984152   \n",
       "pct_fmrkt_anmlprod18           0.337224              1.000000       0.302499   \n",
       "fmrkt_baked18                  0.984152              0.302499       1.000000   \n",
       "pct_fmrkt_baked18              0.315571              0.874917       0.331532   \n",
       "fmrkt_otherfood18              0.989712              0.310236       0.988419   \n",
       "pct_fmrkt_otherfood18          0.312699              0.881012       0.312487   \n",
       "pct_diabetes18                -0.025192              0.044859      -0.021024   \n",
       "class                         -0.001922              0.077123       0.000696   \n",
       "\n",
       "                       pct_fmrkt_baked18  fmrkt_otherfood18  \\\n",
       "fips                           -0.011937          -0.044779   \n",
       "fmrkt_frveg18                   0.301507           0.978605   \n",
       "pct_fmrkt_frveg18               0.931402           0.333000   \n",
       "fmrkt_anmlprod18                0.315571           0.989712   \n",
       "pct_fmrkt_anmlprod18            0.874917           0.310236   \n",
       "fmrkt_baked18                   0.331532           0.988419   \n",
       "pct_fmrkt_baked18               1.000000           0.323463   \n",
       "fmrkt_otherfood18               0.323463           1.000000   \n",
       "pct_fmrkt_otherfood18           0.933550           0.332290   \n",
       "pct_diabetes18                  0.054235          -0.017419   \n",
       "class                           0.077147           0.004156   \n",
       "\n",
       "                       pct_fmrkt_otherfood18  pct_diabetes18     class  \n",
       "fips                               -0.012988       -0.084269 -0.085095  \n",
       "fmrkt_frveg18                       0.297266       -0.009251  0.008945  \n",
       "pct_fmrkt_frveg18                   0.945291        0.087403  0.107022  \n",
       "fmrkt_anmlprod18                    0.312699       -0.025192 -0.001922  \n",
       "pct_fmrkt_anmlprod18                0.881012        0.044859  0.077123  \n",
       "fmrkt_baked18                       0.312487       -0.021024  0.000696  \n",
       "pct_fmrkt_baked18                   0.933550        0.054235  0.077147  \n",
       "fmrkt_otherfood18                   0.332290       -0.017419  0.004156  \n",
       "pct_fmrkt_otherfood18               1.000000        0.070930  0.091617  \n",
       "pct_diabetes18                      0.070930        1.000000  0.799601  \n",
       "class                               0.091617        0.799601  1.000000  "
      ]
     },
     "execution_count": 116,
     "metadata": {},
     "output_type": "execute_result"
    }
   ],
   "source": [
    "local_fmf.corr()"
   ]
  },
  {
   "cell_type": "markdown",
   "id": "df5f27f3",
   "metadata": {},
   "source": [
    "Although the years of the target value and most of this dataset match, the correlation between prevalence of diabetes as shown here is much lower than when the 2013 values, which were a part of the Food Environment Atlas, were used."
   ]
  },
  {
   "cell_type": "markdown",
   "id": "04786074",
   "metadata": {},
   "source": [
    "#### 1. Create X and y"
   ]
  },
  {
   "cell_type": "code",
   "execution_count": 117,
   "id": "1b0834a3",
   "metadata": {},
   "outputs": [],
   "source": [
    "X = local_fmf.drop(columns = ['fips', 'state', 'county', 'pct_diabetes18', 'class'])\n",
    "\n",
    "y = local_fmf['class']"
   ]
  },
  {
   "cell_type": "markdown",
   "id": "4939bb96",
   "metadata": {},
   "source": [
    "#### 2. Determine baseline"
   ]
  },
  {
   "cell_type": "code",
   "execution_count": 118,
   "id": "6586ff24",
   "metadata": {},
   "outputs": [
    {
     "data": {
      "text/plain": [
       "0.0    0.582617\n",
       "1.0    0.417383\n",
       "Name: class, dtype: float64"
      ]
     },
     "execution_count": 118,
     "metadata": {},
     "output_type": "execute_result"
    }
   ],
   "source": [
    "local_fmf['class'].value_counts(normalize = True)"
   ]
  },
  {
   "cell_type": "markdown",
   "id": "75ff29a4",
   "metadata": {},
   "source": [
    "Baseline is 0.583."
   ]
  },
  {
   "cell_type": "markdown",
   "id": "30ed6410",
   "metadata": {},
   "source": [
    "#### 3. Scale features"
   ]
  },
  {
   "cell_type": "code",
   "execution_count": 119,
   "id": "39104091",
   "metadata": {},
   "outputs": [],
   "source": [
    "ss = StandardScaler()\n",
    "\n",
    "X = ss.fit_transform(X)"
   ]
  },
  {
   "cell_type": "markdown",
   "id": "9783bb07",
   "metadata": {},
   "source": [
    "#### 4. Train, test, split"
   ]
  },
  {
   "cell_type": "code",
   "execution_count": 120,
   "id": "9cb8c233",
   "metadata": {},
   "outputs": [],
   "source": [
    "X_train, X_test, y_train, y_test = train_test_split(X, y, random_state = 42, stratify = y)"
   ]
  },
  {
   "cell_type": "markdown",
   "id": "07cb911d",
   "metadata": {},
   "source": [
    "#### 5. Instantiate, fit, evaluate"
   ]
  },
  {
   "cell_type": "code",
   "execution_count": 121,
   "id": "9eb9e246",
   "metadata": {},
   "outputs": [
    {
     "name": "stdout",
     "output_type": "stream",
     "text": [
      "0.6033970276008492 0.6043256997455471\n"
     ]
    }
   ],
   "source": [
    "with warnings.catch_warnings():\n",
    "    warnings.simplefilter(\"ignore\", category = FutureWarning)\n",
    "\n",
    "# Instantiate\n",
    "    knn = KNeighborsClassifier(n_neighbors = 15)\n",
    "\n",
    "# Fit\n",
    "    knn.fit(X_train, y_train)\n",
    "\n",
    "# Evaluate\n",
    "    print(knn.score(X_train, y_train), knn.score(X_test, y_test))"
   ]
  },
  {
   "cell_type": "code",
   "execution_count": 122,
   "id": "cb20a5af",
   "metadata": {},
   "outputs": [
    {
     "data": {
      "image/png": "[encoded data removed]",
      "text/plain": [
       "<Figure size 640x480 with 2 Axes>"
      ]
     },
     "metadata": {},
     "output_type": "display_data"
    }
   ],
   "source": [
    "with warnings.catch_warnings():\n",
    "    warnings.simplefilter(\"ignore\", category = FutureWarning)\n",
    "\n",
    "    ConfusionMatrixDisplay.from_estimator(knn, X_test, y_test, normalize = 'pred');"
   ]
  },
  {
   "cell_type": "code",
   "execution_count": 123,
   "id": "67fd1b09",
   "metadata": {},
   "outputs": [],
   "source": [
    "with warnings.catch_warnings():\n",
    "    warnings.simplefilter(\"ignore\", category = FutureWarning)\n",
    "\n",
    "    preds = knn.predict(X_test) #generates predictions"
   ]
  },
  {
   "cell_type": "code",
   "execution_count": 124,
   "id": "5b13036a",
   "metadata": {},
   "outputs": [
    {
     "data": {
      "text/plain": [
       "array([404,  54, 257,  71])"
      ]
     },
     "execution_count": 124,
     "metadata": {},
     "output_type": "execute_result"
    }
   ],
   "source": [
    "confusion_matrix(y_test, preds).ravel()"
   ]
  },
  {
   "cell_type": "code",
   "execution_count": 125,
   "id": "4607e662",
   "metadata": {},
   "outputs": [
    {
     "data": {
      "text/plain": [
       "(404, 54, 257, 71)"
      ]
     },
     "execution_count": 125,
     "metadata": {},
     "output_type": "execute_result"
    }
   ],
   "source": [
    "tn, fp, fn, tp = confusion_matrix(y_test, preds).ravel()\n",
    "\n",
    "tn, fp, fn, tp #(true negative, false positive, false negative, true positive)"
   ]
  },
  {
   "cell_type": "markdown",
   "id": "752a12cd",
   "metadata": {},
   "source": [
    "##### Accuracy"
   ]
  },
  {
   "cell_type": "code",
   "execution_count": 126,
   "id": "9dd7f909",
   "metadata": {},
   "outputs": [
    {
     "name": "stdout",
     "output_type": "stream",
     "text": [
      "0.6043256997455471\n"
     ]
    }
   ],
   "source": [
    "with warnings.catch_warnings():\n",
    "    warnings.simplefilter(\"ignore\", category = FutureWarning)\n",
    "\n",
    "    print(knn.score(X_test, y_test))"
   ]
  },
  {
   "cell_type": "markdown",
   "id": "9c13c66f",
   "metadata": {},
   "source": [
    "##### Additional metrics"
   ]
  },
  {
   "cell_type": "code",
   "execution_count": 127,
   "id": "07b6e011",
   "metadata": {},
   "outputs": [
    {
     "name": "stdout",
     "output_type": "stream",
     "text": [
      "Specificity:  0.8820960698689956\n",
      "Sensitivity:  0.21646341463414634\n",
      "Precision:  0.568\n",
      "F1:  0.31346578366445915\n"
     ]
    }
   ],
   "source": [
    "specificity = tn / (tn + fp)\n",
    "sensitivity = tp / (tp + fn)\n",
    "precision = tp / (tp + fp)\n",
    "f1 = 2 * (precision*sensitivity) / (precision+sensitivity)\n",
    "\n",
    "\n",
    "print (\"Specificity: \", specificity)\n",
    "print (\"Sensitivity: \", sensitivity)\n",
    "print (\"Precision: \", precision)\n",
    "print (\"F1: \", f1)"
   ]
  },
  {
   "cell_type": "markdown",
   "id": "1105907b",
   "metadata": {},
   "source": [
    "#### Discussion"
   ]
  },
  {
   "cell_type": "markdown",
   "id": "334dafe8",
   "metadata": {},
   "source": [
    "While the accuracy, or overall rate of correct predictions is 0.604, the low sensitivity and precision scores create a low F1 score at 0.313.\n",
    "\n",
    "This model failed to effectively predict high or low prevalence of diabetes in counties."
   ]
  },
  {
   "cell_type": "markdown",
   "id": "81e9b168",
   "metadata": {},
   "source": [
    "## Restaurants"
   ]
  },
  {
   "cell_type": "code",
   "execution_count": 128,
   "id": "20a1900a",
   "metadata": {},
   "outputs": [],
   "source": [
    "file_path = ('../data/FoodEnvironmentAtlas.xls.RESTAURANTS_Modeling.csv')\n",
    "\n",
    "restaurants = pd.read_csv(file_path)"
   ]
  },
  {
   "cell_type": "code",
   "execution_count": 129,
   "id": "0d523eb7",
   "metadata": {},
   "outputs": [
    {
     "data": {
      "text/html": [
       "<div>\n",
       "<style scoped>\n",
       "    .dataframe tbody tr th:only-of-type {\n",
       "        vertical-align: middle;\n",
       "    }\n",
       "\n",
       "    .dataframe tbody tr th {\n",
       "        vertical-align: top;\n",
       "    }\n",
       "\n",
       "    .dataframe thead th {\n",
       "        text-align: right;\n",
       "    }\n",
       "</style>\n",
       "<table border=\"1\" class=\"dataframe\">\n",
       "  <thead>\n",
       "    <tr style=\"text-align: right;\">\n",
       "      <th></th>\n",
       "      <th>fips</th>\n",
       "      <th>state</th>\n",
       "      <th>county</th>\n",
       "      <th>ffr11</th>\n",
       "      <th>ffr16</th>\n",
       "      <th>ffrpth11</th>\n",
       "      <th>ffrpth16</th>\n",
       "      <th>fsr11</th>\n",
       "      <th>fsr16</th>\n",
       "      <th>fsrpth11</th>\n",
       "      <th>fsrpth16</th>\n",
       "      <th>pc_ffrsales07</th>\n",
       "      <th>pc_ffrsales12</th>\n",
       "      <th>pc_fsrsales07</th>\n",
       "      <th>pc_fsrsales12</th>\n",
       "      <th>pct_diabetes18</th>\n",
       "      <th>class</th>\n",
       "    </tr>\n",
       "  </thead>\n",
       "  <tbody>\n",
       "    <tr>\n",
       "      <th>0</th>\n",
       "      <td>1001</td>\n",
       "      <td>AL</td>\n",
       "      <td>Autauga</td>\n",
       "      <td>34</td>\n",
       "      <td>44</td>\n",
       "      <td>0.615953</td>\n",
       "      <td>0.795977</td>\n",
       "      <td>32</td>\n",
       "      <td>31</td>\n",
       "      <td>0.579721</td>\n",
       "      <td>0.560802</td>\n",
       "      <td>649.511367</td>\n",
       "      <td>674.80272</td>\n",
       "      <td>484.381507</td>\n",
       "      <td>512.280987</td>\n",
       "      <td>9.5</td>\n",
       "      <td>1.0</td>\n",
       "    </tr>\n",
       "    <tr>\n",
       "      <th>1</th>\n",
       "      <td>1003</td>\n",
       "      <td>AL</td>\n",
       "      <td>Baldwin</td>\n",
       "      <td>121</td>\n",
       "      <td>156</td>\n",
       "      <td>0.648675</td>\n",
       "      <td>0.751775</td>\n",
       "      <td>216</td>\n",
       "      <td>236</td>\n",
       "      <td>1.157966</td>\n",
       "      <td>1.137300</td>\n",
       "      <td>649.511367</td>\n",
       "      <td>674.80272</td>\n",
       "      <td>484.381507</td>\n",
       "      <td>512.280987</td>\n",
       "      <td>8.4</td>\n",
       "      <td>0.0</td>\n",
       "    </tr>\n",
       "    <tr>\n",
       "      <th>2</th>\n",
       "      <td>1005</td>\n",
       "      <td>AL</td>\n",
       "      <td>Barbour</td>\n",
       "      <td>19</td>\n",
       "      <td>23</td>\n",
       "      <td>0.694673</td>\n",
       "      <td>0.892372</td>\n",
       "      <td>17</td>\n",
       "      <td>14</td>\n",
       "      <td>0.621549</td>\n",
       "      <td>0.543183</td>\n",
       "      <td>649.511367</td>\n",
       "      <td>674.80272</td>\n",
       "      <td>484.381507</td>\n",
       "      <td>512.280987</td>\n",
       "      <td>13.5</td>\n",
       "      <td>1.0</td>\n",
       "    </tr>\n",
       "    <tr>\n",
       "      <th>3</th>\n",
       "      <td>1007</td>\n",
       "      <td>AL</td>\n",
       "      <td>Bibb</td>\n",
       "      <td>6</td>\n",
       "      <td>7</td>\n",
       "      <td>0.263794</td>\n",
       "      <td>0.309283</td>\n",
       "      <td>5</td>\n",
       "      <td>7</td>\n",
       "      <td>0.219829</td>\n",
       "      <td>0.309283</td>\n",
       "      <td>649.511367</td>\n",
       "      <td>674.80272</td>\n",
       "      <td>484.381507</td>\n",
       "      <td>512.280987</td>\n",
       "      <td>10.2</td>\n",
       "      <td>1.0</td>\n",
       "    </tr>\n",
       "    <tr>\n",
       "      <th>4</th>\n",
       "      <td>1009</td>\n",
       "      <td>AL</td>\n",
       "      <td>Blount</td>\n",
       "      <td>20</td>\n",
       "      <td>23</td>\n",
       "      <td>0.347451</td>\n",
       "      <td>0.399569</td>\n",
       "      <td>15</td>\n",
       "      <td>12</td>\n",
       "      <td>0.260589</td>\n",
       "      <td>0.208471</td>\n",
       "      <td>649.511367</td>\n",
       "      <td>674.80272</td>\n",
       "      <td>484.381507</td>\n",
       "      <td>512.280987</td>\n",
       "      <td>10.5</td>\n",
       "      <td>1.0</td>\n",
       "    </tr>\n",
       "  </tbody>\n",
       "</table>\n",
       "</div>"
      ],
      "text/plain": [
       "   fips state   county  ffr11  ffr16  ffrpth11  ffrpth16  fsr11  fsr16  \\\n",
       "0  1001    AL  Autauga     34     44  0.615953  0.795977     32     31   \n",
       "1  1003    AL  Baldwin    121    156  0.648675  0.751775    216    236   \n",
       "2  1005    AL  Barbour     19     23  0.694673  0.892372     17     14   \n",
       "3  1007    AL     Bibb      6      7  0.263794  0.309283      5      7   \n",
       "4  1009    AL   Blount     20     23  0.347451  0.399569     15     12   \n",
       "\n",
       "   fsrpth11  fsrpth16  pc_ffrsales07  pc_ffrsales12  pc_fsrsales07  \\\n",
       "0  0.579721  0.560802     649.511367      674.80272     484.381507   \n",
       "1  1.157966  1.137300     649.511367      674.80272     484.381507   \n",
       "2  0.621549  0.543183     649.511367      674.80272     484.381507   \n",
       "3  0.219829  0.309283     649.511367      674.80272     484.381507   \n",
       "4  0.260589  0.208471     649.511367      674.80272     484.381507   \n",
       "\n",
       "   pc_fsrsales12  pct_diabetes18  class  \n",
       "0     512.280987             9.5    1.0  \n",
       "1     512.280987             8.4    0.0  \n",
       "2     512.280987            13.5    1.0  \n",
       "3     512.280987            10.2    1.0  \n",
       "4     512.280987            10.5    1.0  "
      ]
     },
     "execution_count": 129,
     "metadata": {},
     "output_type": "execute_result"
    }
   ],
   "source": [
    "restaurants.head()"
   ]
  },
  {
   "cell_type": "code",
   "execution_count": 130,
   "id": "9dd116ad",
   "metadata": {},
   "outputs": [
    {
     "data": {
      "text/html": [
       "<div>\n",
       "<style scoped>\n",
       "    .dataframe tbody tr th:only-of-type {\n",
       "        vertical-align: middle;\n",
       "    }\n",
       "\n",
       "    .dataframe tbody tr th {\n",
       "        vertical-align: top;\n",
       "    }\n",
       "\n",
       "    .dataframe thead th {\n",
       "        text-align: right;\n",
       "    }\n",
       "</style>\n",
       "<table border=\"1\" class=\"dataframe\">\n",
       "  <thead>\n",
       "    <tr style=\"text-align: right;\">\n",
       "      <th></th>\n",
       "      <th>fips</th>\n",
       "      <th>ffr11</th>\n",
       "      <th>ffr16</th>\n",
       "      <th>ffrpth11</th>\n",
       "      <th>ffrpth16</th>\n",
       "      <th>fsr11</th>\n",
       "      <th>fsr16</th>\n",
       "      <th>fsrpth11</th>\n",
       "      <th>fsrpth16</th>\n",
       "      <th>pc_ffrsales07</th>\n",
       "      <th>pc_ffrsales12</th>\n",
       "      <th>pc_fsrsales07</th>\n",
       "      <th>pc_fsrsales12</th>\n",
       "      <th>pct_diabetes18</th>\n",
       "      <th>class</th>\n",
       "    </tr>\n",
       "  </thead>\n",
       "  <tbody>\n",
       "    <tr>\n",
       "      <th>fips</th>\n",
       "      <td>1.000000</td>\n",
       "      <td>-0.048146</td>\n",
       "      <td>-0.050784</td>\n",
       "      <td>0.062618</td>\n",
       "      <td>0.052454</td>\n",
       "      <td>-0.052690</td>\n",
       "      <td>-0.050941</td>\n",
       "      <td>0.035546</td>\n",
       "      <td>0.049219</td>\n",
       "      <td>0.046978</td>\n",
       "      <td>0.029869</td>\n",
       "      <td>-0.012558</td>\n",
       "      <td>0.046849</td>\n",
       "      <td>-0.083778</td>\n",
       "      <td>-0.084537</td>\n",
       "    </tr>\n",
       "    <tr>\n",
       "      <th>ffr11</th>\n",
       "      <td>-0.048146</td>\n",
       "      <td>1.000000</td>\n",
       "      <td>0.998708</td>\n",
       "      <td>0.168785</td>\n",
       "      <td>0.179611</td>\n",
       "      <td>0.974328</td>\n",
       "      <td>0.977887</td>\n",
       "      <td>-0.003491</td>\n",
       "      <td>0.014214</td>\n",
       "      <td>0.045710</td>\n",
       "      <td>-0.028006</td>\n",
       "      <td>0.150684</td>\n",
       "      <td>0.170639</td>\n",
       "      <td>0.035731</td>\n",
       "      <td>0.052164</td>\n",
       "    </tr>\n",
       "    <tr>\n",
       "      <th>ffr16</th>\n",
       "      <td>-0.050784</td>\n",
       "      <td>0.998708</td>\n",
       "      <td>1.000000</td>\n",
       "      <td>0.160782</td>\n",
       "      <td>0.176991</td>\n",
       "      <td>0.971885</td>\n",
       "      <td>0.975939</td>\n",
       "      <td>-0.004206</td>\n",
       "      <td>0.012611</td>\n",
       "      <td>0.050873</td>\n",
       "      <td>-0.021006</td>\n",
       "      <td>0.148485</td>\n",
       "      <td>0.166465</td>\n",
       "      <td>0.033664</td>\n",
       "      <td>0.049865</td>\n",
       "    </tr>\n",
       "    <tr>\n",
       "      <th>ffrpth11</th>\n",
       "      <td>0.062618</td>\n",
       "      <td>0.168785</td>\n",
       "      <td>0.160782</td>\n",
       "      <td>1.000000</td>\n",
       "      <td>0.841815</td>\n",
       "      <td>0.168807</td>\n",
       "      <td>0.165711</td>\n",
       "      <td>0.387793</td>\n",
       "      <td>0.400447</td>\n",
       "      <td>0.102388</td>\n",
       "      <td>0.056905</td>\n",
       "      <td>0.114904</td>\n",
       "      <td>0.111655</td>\n",
       "      <td>0.031197</td>\n",
       "      <td>0.055297</td>\n",
       "    </tr>\n",
       "    <tr>\n",
       "      <th>ffrpth16</th>\n",
       "      <td>0.052454</td>\n",
       "      <td>0.179611</td>\n",
       "      <td>0.176991</td>\n",
       "      <td>0.841815</td>\n",
       "      <td>1.000000</td>\n",
       "      <td>0.181560</td>\n",
       "      <td>0.177318</td>\n",
       "      <td>0.354601</td>\n",
       "      <td>0.352283</td>\n",
       "      <td>0.110794</td>\n",
       "      <td>0.081774</td>\n",
       "      <td>0.091191</td>\n",
       "      <td>0.085421</td>\n",
       "      <td>0.064640</td>\n",
       "      <td>0.078264</td>\n",
       "    </tr>\n",
       "    <tr>\n",
       "      <th>fsr11</th>\n",
       "      <td>-0.052690</td>\n",
       "      <td>0.974328</td>\n",
       "      <td>0.971885</td>\n",
       "      <td>0.168807</td>\n",
       "      <td>0.181560</td>\n",
       "      <td>1.000000</td>\n",
       "      <td>0.998644</td>\n",
       "      <td>0.039930</td>\n",
       "      <td>0.057712</td>\n",
       "      <td>0.027764</td>\n",
       "      <td>-0.064144</td>\n",
       "      <td>0.169761</td>\n",
       "      <td>0.197033</td>\n",
       "      <td>0.002134</td>\n",
       "      <td>0.022614</td>\n",
       "    </tr>\n",
       "    <tr>\n",
       "      <th>fsr16</th>\n",
       "      <td>-0.050941</td>\n",
       "      <td>0.977887</td>\n",
       "      <td>0.975939</td>\n",
       "      <td>0.165711</td>\n",
       "      <td>0.177318</td>\n",
       "      <td>0.998644</td>\n",
       "      <td>1.000000</td>\n",
       "      <td>0.035307</td>\n",
       "      <td>0.056703</td>\n",
       "      <td>0.031696</td>\n",
       "      <td>-0.058916</td>\n",
       "      <td>0.170381</td>\n",
       "      <td>0.196276</td>\n",
       "      <td>0.001985</td>\n",
       "      <td>0.023014</td>\n",
       "    </tr>\n",
       "    <tr>\n",
       "      <th>fsrpth11</th>\n",
       "      <td>0.035546</td>\n",
       "      <td>-0.003491</td>\n",
       "      <td>-0.004206</td>\n",
       "      <td>0.387793</td>\n",
       "      <td>0.354601</td>\n",
       "      <td>0.039930</td>\n",
       "      <td>0.035307</td>\n",
       "      <td>1.000000</td>\n",
       "      <td>0.895938</td>\n",
       "      <td>-0.080765</td>\n",
       "      <td>-0.181403</td>\n",
       "      <td>0.145395</td>\n",
       "      <td>0.169245</td>\n",
       "      <td>-0.268432</td>\n",
       "      <td>-0.219609</td>\n",
       "    </tr>\n",
       "    <tr>\n",
       "      <th>fsrpth16</th>\n",
       "      <td>0.049219</td>\n",
       "      <td>0.014214</td>\n",
       "      <td>0.012611</td>\n",
       "      <td>0.400447</td>\n",
       "      <td>0.352283</td>\n",
       "      <td>0.057712</td>\n",
       "      <td>0.056703</td>\n",
       "      <td>0.895938</td>\n",
       "      <td>1.000000</td>\n",
       "      <td>-0.098219</td>\n",
       "      <td>-0.213586</td>\n",
       "      <td>0.154553</td>\n",
       "      <td>0.178681</td>\n",
       "      <td>-0.273591</td>\n",
       "      <td>-0.218704</td>\n",
       "    </tr>\n",
       "    <tr>\n",
       "      <th>pc_ffrsales07</th>\n",
       "      <td>0.046978</td>\n",
       "      <td>0.045710</td>\n",
       "      <td>0.050873</td>\n",
       "      <td>0.102388</td>\n",
       "      <td>0.110794</td>\n",
       "      <td>0.027764</td>\n",
       "      <td>0.031696</td>\n",
       "      <td>-0.080765</td>\n",
       "      <td>-0.098219</td>\n",
       "      <td>1.000000</td>\n",
       "      <td>0.805304</td>\n",
       "      <td>0.498485</td>\n",
       "      <td>0.290445</td>\n",
       "      <td>0.005859</td>\n",
       "      <td>0.017653</td>\n",
       "    </tr>\n",
       "    <tr>\n",
       "      <th>pc_ffrsales12</th>\n",
       "      <td>0.029869</td>\n",
       "      <td>-0.028006</td>\n",
       "      <td>-0.021006</td>\n",
       "      <td>0.056905</td>\n",
       "      <td>0.081774</td>\n",
       "      <td>-0.064144</td>\n",
       "      <td>-0.058916</td>\n",
       "      <td>-0.181403</td>\n",
       "      <td>-0.213586</td>\n",
       "      <td>0.805304</td>\n",
       "      <td>1.000000</td>\n",
       "      <td>0.064011</td>\n",
       "      <td>-0.032720</td>\n",
       "      <td>0.135892</td>\n",
       "      <td>0.121937</td>\n",
       "    </tr>\n",
       "    <tr>\n",
       "      <th>pc_fsrsales07</th>\n",
       "      <td>-0.012558</td>\n",
       "      <td>0.150684</td>\n",
       "      <td>0.148485</td>\n",
       "      <td>0.114904</td>\n",
       "      <td>0.091191</td>\n",
       "      <td>0.169761</td>\n",
       "      <td>0.170381</td>\n",
       "      <td>0.145395</td>\n",
       "      <td>0.154553</td>\n",
       "      <td>0.498485</td>\n",
       "      <td>0.064011</td>\n",
       "      <td>1.000000</td>\n",
       "      <td>0.911621</td>\n",
       "      <td>-0.151348</td>\n",
       "      <td>-0.119875</td>\n",
       "    </tr>\n",
       "    <tr>\n",
       "      <th>pc_fsrsales12</th>\n",
       "      <td>0.046849</td>\n",
       "      <td>0.170639</td>\n",
       "      <td>0.166465</td>\n",
       "      <td>0.111655</td>\n",
       "      <td>0.085421</td>\n",
       "      <td>0.197033</td>\n",
       "      <td>0.196276</td>\n",
       "      <td>0.169245</td>\n",
       "      <td>0.178681</td>\n",
       "      <td>0.290445</td>\n",
       "      <td>-0.032720</td>\n",
       "      <td>0.911621</td>\n",
       "      <td>1.000000</td>\n",
       "      <td>-0.160740</td>\n",
       "      <td>-0.127591</td>\n",
       "    </tr>\n",
       "    <tr>\n",
       "      <th>pct_diabetes18</th>\n",
       "      <td>-0.083778</td>\n",
       "      <td>0.035731</td>\n",
       "      <td>0.033664</td>\n",
       "      <td>0.031197</td>\n",
       "      <td>0.064640</td>\n",
       "      <td>0.002134</td>\n",
       "      <td>0.001985</td>\n",
       "      <td>-0.268432</td>\n",
       "      <td>-0.273591</td>\n",
       "      <td>0.005859</td>\n",
       "      <td>0.135892</td>\n",
       "      <td>-0.151348</td>\n",
       "      <td>-0.160740</td>\n",
       "      <td>1.000000</td>\n",
       "      <td>0.799640</td>\n",
       "    </tr>\n",
       "    <tr>\n",
       "      <th>class</th>\n",
       "      <td>-0.084537</td>\n",
       "      <td>0.052164</td>\n",
       "      <td>0.049865</td>\n",
       "      <td>0.055297</td>\n",
       "      <td>0.078264</td>\n",
       "      <td>0.022614</td>\n",
       "      <td>0.023014</td>\n",
       "      <td>-0.219609</td>\n",
       "      <td>-0.218704</td>\n",
       "      <td>0.017653</td>\n",
       "      <td>0.121937</td>\n",
       "      <td>-0.119875</td>\n",
       "      <td>-0.127591</td>\n",
       "      <td>0.799640</td>\n",
       "      <td>1.000000</td>\n",
       "    </tr>\n",
       "  </tbody>\n",
       "</table>\n",
       "</div>"
      ],
      "text/plain": [
       "                    fips     ffr11     ffr16  ffrpth11  ffrpth16     fsr11  \\\n",
       "fips            1.000000 -0.048146 -0.050784  0.062618  0.052454 -0.052690   \n",
       "ffr11          -0.048146  1.000000  0.998708  0.168785  0.179611  0.974328   \n",
       "ffr16          -0.050784  0.998708  1.000000  0.160782  0.176991  0.971885   \n",
       "ffrpth11        0.062618  0.168785  0.160782  1.000000  0.841815  0.168807   \n",
       "ffrpth16        0.052454  0.179611  0.176991  0.841815  1.000000  0.181560   \n",
       "fsr11          -0.052690  0.974328  0.971885  0.168807  0.181560  1.000000   \n",
       "fsr16          -0.050941  0.977887  0.975939  0.165711  0.177318  0.998644   \n",
       "fsrpth11        0.035546 -0.003491 -0.004206  0.387793  0.354601  0.039930   \n",
       "fsrpth16        0.049219  0.014214  0.012611  0.400447  0.352283  0.057712   \n",
       "pc_ffrsales07   0.046978  0.045710  0.050873  0.102388  0.110794  0.027764   \n",
       "pc_ffrsales12   0.029869 -0.028006 -0.021006  0.056905  0.081774 -0.064144   \n",
       "pc_fsrsales07  -0.012558  0.150684  0.148485  0.114904  0.091191  0.169761   \n",
       "pc_fsrsales12   0.046849  0.170639  0.166465  0.111655  0.085421  0.197033   \n",
       "pct_diabetes18 -0.083778  0.035731  0.033664  0.031197  0.064640  0.002134   \n",
       "class          -0.084537  0.052164  0.049865  0.055297  0.078264  0.022614   \n",
       "\n",
       "                   fsr16  fsrpth11  fsrpth16  pc_ffrsales07  pc_ffrsales12  \\\n",
       "fips           -0.050941  0.035546  0.049219       0.046978       0.029869   \n",
       "ffr11           0.977887 -0.003491  0.014214       0.045710      -0.028006   \n",
       "ffr16           0.975939 -0.004206  0.012611       0.050873      -0.021006   \n",
       "ffrpth11        0.165711  0.387793  0.400447       0.102388       0.056905   \n",
       "ffrpth16        0.177318  0.354601  0.352283       0.110794       0.081774   \n",
       "fsr11           0.998644  0.039930  0.057712       0.027764      -0.064144   \n",
       "fsr16           1.000000  0.035307  0.056703       0.031696      -0.058916   \n",
       "fsrpth11        0.035307  1.000000  0.895938      -0.080765      -0.181403   \n",
       "fsrpth16        0.056703  0.895938  1.000000      -0.098219      -0.213586   \n",
       "pc_ffrsales07   0.031696 -0.080765 -0.098219       1.000000       0.805304   \n",
       "pc_ffrsales12  -0.058916 -0.181403 -0.213586       0.805304       1.000000   \n",
       "pc_fsrsales07   0.170381  0.145395  0.154553       0.498485       0.064011   \n",
       "pc_fsrsales12   0.196276  0.169245  0.178681       0.290445      -0.032720   \n",
       "pct_diabetes18  0.001985 -0.268432 -0.273591       0.005859       0.135892   \n",
       "class           0.023014 -0.219609 -0.218704       0.017653       0.121937   \n",
       "\n",
       "                pc_fsrsales07  pc_fsrsales12  pct_diabetes18     class  \n",
       "fips                -0.012558       0.046849       -0.083778 -0.084537  \n",
       "ffr11                0.150684       0.170639        0.035731  0.052164  \n",
       "ffr16                0.148485       0.166465        0.033664  0.049865  \n",
       "ffrpth11             0.114904       0.111655        0.031197  0.055297  \n",
       "ffrpth16             0.091191       0.085421        0.064640  0.078264  \n",
       "fsr11                0.169761       0.197033        0.002134  0.022614  \n",
       "fsr16                0.170381       0.196276        0.001985  0.023014  \n",
       "fsrpth11             0.145395       0.169245       -0.268432 -0.219609  \n",
       "fsrpth16             0.154553       0.178681       -0.273591 -0.218704  \n",
       "pc_ffrsales07        0.498485       0.290445        0.005859  0.017653  \n",
       "pc_ffrsales12        0.064011      -0.032720        0.135892  0.121937  \n",
       "pc_fsrsales07        1.000000       0.911621       -0.151348 -0.119875  \n",
       "pc_fsrsales12        0.911621       1.000000       -0.160740 -0.127591  \n",
       "pct_diabetes18      -0.151348      -0.160740        1.000000  0.799640  \n",
       "class               -0.119875      -0.127591        0.799640  1.000000  "
      ]
     },
     "execution_count": 130,
     "metadata": {},
     "output_type": "execute_result"
    }
   ],
   "source": [
    "restaurants.corr()"
   ]
  },
  {
   "cell_type": "markdown",
   "id": "8b752d35",
   "metadata": {},
   "source": [
    "### KNN Classification"
   ]
  },
  {
   "cell_type": "markdown",
   "id": "cfba76eb",
   "metadata": {},
   "source": [
    "#### 1. Create X and y"
   ]
  },
  {
   "cell_type": "code",
   "execution_count": 131,
   "id": "7ac31659",
   "metadata": {},
   "outputs": [],
   "source": [
    "X = restaurants.drop(columns = ['fips', 'state', 'county', 'pct_diabetes18', 'class'])\n",
    "\n",
    "y = restaurants['class']"
   ]
  },
  {
   "cell_type": "markdown",
   "id": "a84654cb",
   "metadata": {},
   "source": [
    "#### 2. Determine baseline"
   ]
  },
  {
   "cell_type": "code",
   "execution_count": 132,
   "id": "6c503e7b",
   "metadata": {},
   "outputs": [
    {
     "data": {
      "text/plain": [
       "0.0    0.58275\n",
       "1.0    0.41725\n",
       "Name: class, dtype: float64"
      ]
     },
     "execution_count": 132,
     "metadata": {},
     "output_type": "execute_result"
    }
   ],
   "source": [
    "restaurants['class'].value_counts(normalize = True)"
   ]
  },
  {
   "cell_type": "markdown",
   "id": "d4240698",
   "metadata": {},
   "source": [
    "#### 3. Scale features"
   ]
  },
  {
   "cell_type": "code",
   "execution_count": 133,
   "id": "f084608a",
   "metadata": {},
   "outputs": [],
   "source": [
    "ss = StandardScaler()\n",
    "\n",
    "X = ss.fit_transform(X)"
   ]
  },
  {
   "cell_type": "markdown",
   "id": "d33bab4a",
   "metadata": {},
   "source": [
    "#### 4. Train, test, split"
   ]
  },
  {
   "cell_type": "code",
   "execution_count": 134,
   "id": "ce4f9553",
   "metadata": {},
   "outputs": [],
   "source": [
    "X_train, X_test, y_train, y_test = train_test_split(X, y, random_state = 42, stratify = y)"
   ]
  },
  {
   "cell_type": "markdown",
   "id": "4661d2c0",
   "metadata": {},
   "source": [
    "#### 5. Instantiate, fit, evaluate"
   ]
  },
  {
   "cell_type": "code",
   "execution_count": 135,
   "id": "5f9424d8",
   "metadata": {},
   "outputs": [
    {
     "name": "stdout",
     "output_type": "stream",
     "text": [
      "0.7529711375212224 0.7290076335877863\n"
     ]
    }
   ],
   "source": [
    "with warnings.catch_warnings():\n",
    "    warnings.simplefilter(\"ignore\", category = FutureWarning)\n",
    "\n",
    "# Instantiate\n",
    "    knn = KNeighborsClassifier(n_neighbors = 14)\n",
    "\n",
    "# Fit\n",
    "    knn.fit(X_train, y_train)\n",
    "\n",
    "# Evaluate\n",
    "    print(knn.score(X_train, y_train), knn.score(X_test, y_test))"
   ]
  },
  {
   "cell_type": "code",
   "execution_count": 136,
   "id": "64033805",
   "metadata": {},
   "outputs": [
    {
     "data": {
      "image/png": "[encoded data removed]",
      "text/plain": [
       "<Figure size 640x480 with 2 Axes>"
      ]
     },
     "metadata": {},
     "output_type": "display_data"
    }
   ],
   "source": [
    "with warnings.catch_warnings():\n",
    "    warnings.simplefilter(\"ignore\", category = FutureWarning)\n",
    "\n",
    "    ConfusionMatrixDisplay.from_estimator(knn, X_test, y_test, normalize = 'pred');"
   ]
  },
  {
   "cell_type": "code",
   "execution_count": 137,
   "id": "9a5836a4",
   "metadata": {},
   "outputs": [],
   "source": [
    "with warnings.catch_warnings():\n",
    "    warnings.simplefilter(\"ignore\", category = FutureWarning)\n",
    "\n",
    "    preds = knn.predict(X_test) #generates predictions"
   ]
  },
  {
   "cell_type": "code",
   "execution_count": 138,
   "id": "a1e16e35",
   "metadata": {},
   "outputs": [
    {
     "data": {
      "text/plain": [
       "array([372,  86, 127, 201])"
      ]
     },
     "execution_count": 138,
     "metadata": {},
     "output_type": "execute_result"
    }
   ],
   "source": [
    "confusion_matrix(y_test, preds).ravel()\n",
    "\n"
   ]
  },
  {
   "cell_type": "code",
   "execution_count": 139,
   "id": "8a3f8591",
   "metadata": {},
   "outputs": [],
   "source": [
    "tn, fp, fn, tp = confusion_matrix(y_test, preds).ravel()\n",
    "\n"
   ]
  },
  {
   "cell_type": "code",
   "execution_count": 140,
   "id": "e5027c59",
   "metadata": {},
   "outputs": [
    {
     "data": {
      "text/plain": [
       "(372, 86, 127, 201)"
      ]
     },
     "execution_count": 140,
     "metadata": {},
     "output_type": "execute_result"
    }
   ],
   "source": [
    "tn, fp, fn, tp #(true negative, false positive, false negative, true positive)"
   ]
  },
  {
   "cell_type": "markdown",
   "id": "61aea06c",
   "metadata": {},
   "source": [
    "##### Accuracy"
   ]
  },
  {
   "cell_type": "code",
   "execution_count": 141,
   "id": "b678aed8",
   "metadata": {},
   "outputs": [
    {
     "name": "stdout",
     "output_type": "stream",
     "text": [
      "0.7290076335877863\n"
     ]
    }
   ],
   "source": [
    "with warnings.catch_warnings():\n",
    "    warnings.simplefilter(\"ignore\", category = FutureWarning)\n",
    "\n",
    "    print(knn.score(X_test, y_test))"
   ]
  },
  {
   "cell_type": "markdown",
   "id": "aab77228",
   "metadata": {},
   "source": [
    "##### Additional metrics"
   ]
  },
  {
   "cell_type": "code",
   "execution_count": 142,
   "id": "3b0d0ed9",
   "metadata": {},
   "outputs": [
    {
     "name": "stdout",
     "output_type": "stream",
     "text": [
      "Specificity:  0.8122270742358079\n",
      "Sensitivity:  0.6128048780487805\n",
      "Precision:  0.7003484320557491\n",
      "F1:  0.6536585365853659\n"
     ]
    }
   ],
   "source": [
    "specificity = tn / (tn + fp)\n",
    "sensitivity = tp / (tp + fn)\n",
    "precision = tp / (tp + fp)\n",
    "f1 = 2 * (precision*sensitivity) / (precision+sensitivity)\n",
    "\n",
    "\n",
    "print (\"Specificity: \", specificity)\n",
    "print (\"Sensitivity: \", sensitivity)\n",
    "print (\"Precision: \", precision)\n",
    "print (\"F1: \", f1)"
   ]
  },
  {
   "cell_type": "markdown",
   "id": "b491ef60",
   "metadata": {},
   "source": [
    "##### Discussion"
   ]
  },
  {
   "cell_type": "markdown",
   "id": "91893d81",
   "metadata": {},
   "source": [
    "In this model, specificity was high at 0.812. Sensitivity, while still lower at 0.612, is higher than in previous models in this study. When combined with precision, the generated F1 score is 0.654, which exceeds baseline. This suggests that the numbers of each types of restaurant, and how much residents spend at them, can be used to predict prevalence of diabetes within counties.\n",
    "\n",
    "Because the Restaurants dataset is shown to have predictive power, I will use Random Forest Classification with Grid Search in order to maximize its predictive power."
   ]
  },
  {
   "cell_type": "markdown",
   "id": "1f113e7f",
   "metadata": {},
   "source": [
    "### Random Forest Classification"
   ]
  },
  {
   "cell_type": "markdown",
   "id": "d92f6270",
   "metadata": {},
   "source": [
    "#### 1. Instantiate & fit the model"
   ]
  },
  {
   "cell_type": "code",
   "execution_count": 143,
   "id": "80277a6c",
   "metadata": {},
   "outputs": [
    {
     "data": {
      "text/plain": [
       "RandomForestClassifier(random_state=42)"
      ]
     },
     "execution_count": 143,
     "metadata": {},
     "output_type": "execute_result"
    }
   ],
   "source": [
    "model = RandomForestClassifier(n_estimators=100, random_state=42)\n",
    "\n",
    "model.fit(X_train, y_train)"
   ]
  },
  {
   "cell_type": "markdown",
   "id": "c67b2de3",
   "metadata": {},
   "source": [
    "#### 2. Generate initial score"
   ]
  },
  {
   "cell_type": "code",
   "execution_count": 144,
   "id": "b5dc6331",
   "metadata": {},
   "outputs": [
    {
     "data": {
      "text/plain": [
       "(0.9995755517826825, 0.7353689567430025)"
      ]
     },
     "execution_count": 144,
     "metadata": {},
     "output_type": "execute_result"
    }
   ],
   "source": [
    "model.score(X_train, y_train), model.score(X_test, y_test)"
   ]
  },
  {
   "cell_type": "markdown",
   "id": "884b9413",
   "metadata": {},
   "source": [
    "There is a great deal of overfit, but the accuracy score is 0.735."
   ]
  },
  {
   "cell_type": "markdown",
   "id": "fe8d4024",
   "metadata": {},
   "source": [
    "#### 3. Grid search for best parameters"
   ]
  },
  {
   "cell_type": "code",
   "execution_count": 145,
   "id": "e881de29",
   "metadata": {},
   "outputs": [
    {
     "name": "stdout",
     "output_type": "stream",
     "text": [
      "Fitting 5 folds for each of 320 candidates, totalling 1600 fits\n"
     ]
    },
    {
     "data": {
      "text/plain": [
       "GridSearchCV(cv=5, estimator=RandomForestClassifier(random_state=6789),\n",
       "             param_grid={'max_depth': [2, 8, 12, 16],\n",
       "                         'min_samples_leaf': [2, 3, 4, 5, 6],\n",
       "                         'min_samples_split': [2, 4, 6, 8],\n",
       "                         'n_estimators': [20, 80, 120, 240]},\n",
       "             verbose=1)"
      ]
     },
     "execution_count": 145,
     "metadata": {},
     "output_type": "execute_result"
    }
   ],
   "source": [
    "grid = GridSearchCV(estimator = RandomForestClassifier(random_state = 6789),\n",
    "                    param_grid = {'max_depth': [2, 8, 12, 16],\n",
    "                                  'n_estimators':[20, 80, 120, 240],\n",
    "                                 'min_samples_split': [2, 4, 6, 8],\n",
    "                                 'min_samples_leaf': [2, 3, 4, 5, 6]},\n",
    "                    \n",
    "                                  cv=5, verbose=1)\n",
    "\n",
    "grid.fit(X_train, y_train)"
   ]
  },
  {
   "cell_type": "code",
   "execution_count": 146,
   "id": "9afac0cf",
   "metadata": {},
   "outputs": [
    {
     "data": {
      "text/plain": [
       "RandomForestClassifier(max_depth=8, min_samples_leaf=4, n_estimators=240,\n",
       "                       random_state=6789)"
      ]
     },
     "execution_count": 146,
     "metadata": {},
     "output_type": "execute_result"
    }
   ],
   "source": [
    "grid.best_estimator_"
   ]
  },
  {
   "cell_type": "markdown",
   "id": "749634aa",
   "metadata": {},
   "source": [
    "*Estimator shown above leads to an F1 score of 0.672. A previous grid search led to a higher F1 score under the following parameters:*\n",
    "\n",
    "**max depth = 12, min_samples leaf = 5, min_samples split = 8, n_estimators = 240, random_state = 6789** \n",
    "\n",
    "\n",
    "**These parameters will be used in order to maximize the F1 score.**"
   ]
  },
  {
   "cell_type": "markdown",
   "id": "88e4ead0",
   "metadata": {},
   "source": [
    "#### 4. Instantiate & fit with new parameters"
   ]
  },
  {
   "cell_type": "code",
   "execution_count": 147,
   "id": "f181a941",
   "metadata": {},
   "outputs": [
    {
     "data": {
      "text/plain": [
       "RandomForestClassifier(max_depth=12, min_samples_leaf=5, min_samples_split=8,\n",
       "                       n_estimators=240, random_state=6789)"
      ]
     },
     "execution_count": 147,
     "metadata": {},
     "output_type": "execute_result"
    }
   ],
   "source": [
    "rfc = RandomForestClassifier(max_depth=12, min_samples_leaf=5, min_samples_split = 8, n_estimators=240,\n",
    "                       random_state=6789)\n",
    "\n",
    "rfc.fit(X_train, y_train)"
   ]
  },
  {
   "cell_type": "markdown",
   "id": "e50bff0e",
   "metadata": {},
   "source": [
    "#### 5. Evaluate"
   ]
  },
  {
   "cell_type": "code",
   "execution_count": 148,
   "id": "c08df054",
   "metadata": {},
   "outputs": [
    {
     "data": {
      "text/plain": [
       "(0.879881154499151, 0.7417302798982188)"
      ]
     },
     "execution_count": 148,
     "metadata": {},
     "output_type": "execute_result"
    }
   ],
   "source": [
    "rfc.score(X_train, y_train), rfc.score(X_test, y_test)"
   ]
  },
  {
   "cell_type": "code",
   "execution_count": 149,
   "id": "d4c23a76",
   "metadata": {},
   "outputs": [
    {
     "data": {
      "image/png": "[encoded data removed]",
      "text/plain": [
       "<Figure size 640x480 with 2 Axes>"
      ]
     },
     "metadata": {},
     "output_type": "display_data"
    }
   ],
   "source": [
    "ConfusionMatrixDisplay.from_estimator(rfc, X_test, y_test, normalize = 'pred');"
   ]
  },
  {
   "cell_type": "code",
   "execution_count": 150,
   "id": "37738784",
   "metadata": {},
   "outputs": [],
   "source": [
    "preds = rfc.predict(X_test)"
   ]
  },
  {
   "cell_type": "code",
   "execution_count": 151,
   "id": "33bac0b7",
   "metadata": {},
   "outputs": [
    {
     "data": {
      "text/plain": [
       "array([371,  87, 116, 212])"
      ]
     },
     "execution_count": 151,
     "metadata": {},
     "output_type": "execute_result"
    }
   ],
   "source": [
    "confusion_matrix(y_test, preds).ravel()"
   ]
  },
  {
   "cell_type": "code",
   "execution_count": 152,
   "id": "889002ee",
   "metadata": {},
   "outputs": [
    {
     "data": {
      "text/plain": [
       "(371, 87, 116, 212)"
      ]
     },
     "execution_count": 152,
     "metadata": {},
     "output_type": "execute_result"
    }
   ],
   "source": [
    "tn, fp, fn, tp = confusion_matrix(y_test, preds).ravel()\n",
    "\n",
    "tn, fp, fn, tp #(true negative, false positive, false negative, true positive)"
   ]
  },
  {
   "cell_type": "markdown",
   "id": "a857d7d7",
   "metadata": {},
   "source": [
    "##### Metrics"
   ]
  },
  {
   "cell_type": "code",
   "execution_count": 153,
   "id": "0cc1babf",
   "metadata": {},
   "outputs": [
    {
     "name": "stdout",
     "output_type": "stream",
     "text": [
      "Accuracy: , 0.7417302798982188\n",
      "Specificity:  0.8100436681222707\n",
      "Sensitivity:  0.6463414634146342\n",
      "Precision:  0.7090301003344481\n",
      "F1:  0.6762360446570972\n"
     ]
    }
   ],
   "source": [
    "accuracy = rfc.score(X_test, y_test)\n",
    "specificity = tn / (tn + fp)\n",
    "sensitivity = tp / (tp + fn)\n",
    "precision = tp / (tp + fp)\n",
    "f1 = 2 * (precision*sensitivity) / (precision+sensitivity)\n",
    "\n",
    "\n",
    "print (\"Accuracy: ,\" , rfc.score(X_test, y_test))\n",
    "print (\"Specificity: \", specificity)\n",
    "print (\"Sensitivity: \", sensitivity)\n",
    "print (\"Precision: \", precision)\n",
    "print (\"F1: \", f1)\n"
   ]
  },
  {
   "cell_type": "markdown",
   "id": "5072ef24",
   "metadata": {},
   "source": [
    "### Discussion"
   ]
  },
  {
   "cell_type": "markdown",
   "id": "a098491d",
   "metadata": {},
   "source": [
    "The Random Forest Classifier, fit with the best hyperparameters following a Grid Search, led to an increased F1 score of 0.676 (0.654 using KNN.) These findings confirm that the Restaurants dataset can be used to predict prevalence of diabetes in counties."
   ]
  },
  {
   "cell_type": "markdown",
   "id": "702313ac",
   "metadata": {},
   "source": [
    "## Socioeconomic"
   ]
  },
  {
   "cell_type": "code",
   "execution_count": 154,
   "id": "0cc2a738",
   "metadata": {},
   "outputs": [],
   "source": [
    "file_path = '../data/FoodEnvironmentAtlas.xls.SOCIOECONOMIC_Modeling.csv'\n",
    "\n",
    "sec = pd.read_csv(file_path)"
   ]
  },
  {
   "cell_type": "code",
   "execution_count": 155,
   "id": "dc108c4c",
   "metadata": {},
   "outputs": [
    {
     "data": {
      "text/html": [
       "<div>\n",
       "<style scoped>\n",
       "    .dataframe tbody tr th:only-of-type {\n",
       "        vertical-align: middle;\n",
       "    }\n",
       "\n",
       "    .dataframe tbody tr th {\n",
       "        vertical-align: top;\n",
       "    }\n",
       "\n",
       "    .dataframe thead th {\n",
       "        text-align: right;\n",
       "    }\n",
       "</style>\n",
       "<table border=\"1\" class=\"dataframe\">\n",
       "  <thead>\n",
       "    <tr style=\"text-align: right;\">\n",
       "      <th></th>\n",
       "      <th>fips</th>\n",
       "      <th>state</th>\n",
       "      <th>county</th>\n",
       "      <th>pct_65older10</th>\n",
       "      <th>pct_18younger10</th>\n",
       "      <th>medhhinc15</th>\n",
       "      <th>povrate15</th>\n",
       "      <th>perpov10</th>\n",
       "      <th>childpovrate15</th>\n",
       "      <th>perchldpov10</th>\n",
       "      <th>metro13</th>\n",
       "      <th>poploss10</th>\n",
       "      <th>pct_diabetes18</th>\n",
       "      <th>class</th>\n",
       "    </tr>\n",
       "  </thead>\n",
       "  <tbody>\n",
       "    <tr>\n",
       "      <th>0</th>\n",
       "      <td>1001</td>\n",
       "      <td>AL</td>\n",
       "      <td>Autauga</td>\n",
       "      <td>11.995382</td>\n",
       "      <td>26.777959</td>\n",
       "      <td>56580.0</td>\n",
       "      <td>12.7</td>\n",
       "      <td>0</td>\n",
       "      <td>18.8</td>\n",
       "      <td>0</td>\n",
       "      <td>1</td>\n",
       "      <td>0.0</td>\n",
       "      <td>9.5</td>\n",
       "      <td>1.0</td>\n",
       "    </tr>\n",
       "    <tr>\n",
       "      <th>1</th>\n",
       "      <td>1003</td>\n",
       "      <td>AL</td>\n",
       "      <td>Baldwin</td>\n",
       "      <td>16.771185</td>\n",
       "      <td>22.987408</td>\n",
       "      <td>52387.0</td>\n",
       "      <td>12.9</td>\n",
       "      <td>0</td>\n",
       "      <td>19.6</td>\n",
       "      <td>0</td>\n",
       "      <td>1</td>\n",
       "      <td>0.0</td>\n",
       "      <td>8.4</td>\n",
       "      <td>0.0</td>\n",
       "    </tr>\n",
       "    <tr>\n",
       "      <th>2</th>\n",
       "      <td>1005</td>\n",
       "      <td>AL</td>\n",
       "      <td>Barbour</td>\n",
       "      <td>14.236807</td>\n",
       "      <td>21.906982</td>\n",
       "      <td>31433.0</td>\n",
       "      <td>32.0</td>\n",
       "      <td>1</td>\n",
       "      <td>45.2</td>\n",
       "      <td>1</td>\n",
       "      <td>0</td>\n",
       "      <td>0.0</td>\n",
       "      <td>13.5</td>\n",
       "      <td>1.0</td>\n",
       "    </tr>\n",
       "    <tr>\n",
       "      <th>3</th>\n",
       "      <td>1007</td>\n",
       "      <td>AL</td>\n",
       "      <td>Bibb</td>\n",
       "      <td>12.681650</td>\n",
       "      <td>22.696923</td>\n",
       "      <td>40767.0</td>\n",
       "      <td>22.2</td>\n",
       "      <td>0</td>\n",
       "      <td>29.3</td>\n",
       "      <td>1</td>\n",
       "      <td>1</td>\n",
       "      <td>0.0</td>\n",
       "      <td>10.2</td>\n",
       "      <td>1.0</td>\n",
       "    </tr>\n",
       "    <tr>\n",
       "      <th>4</th>\n",
       "      <td>1009</td>\n",
       "      <td>AL</td>\n",
       "      <td>Blount</td>\n",
       "      <td>14.722096</td>\n",
       "      <td>24.608353</td>\n",
       "      <td>50487.0</td>\n",
       "      <td>14.7</td>\n",
       "      <td>0</td>\n",
       "      <td>22.2</td>\n",
       "      <td>0</td>\n",
       "      <td>1</td>\n",
       "      <td>0.0</td>\n",
       "      <td>10.5</td>\n",
       "      <td>1.0</td>\n",
       "    </tr>\n",
       "  </tbody>\n",
       "</table>\n",
       "</div>"
      ],
      "text/plain": [
       "   fips state   county  pct_65older10  pct_18younger10  medhhinc15  povrate15  \\\n",
       "0  1001    AL  Autauga      11.995382        26.777959     56580.0       12.7   \n",
       "1  1003    AL  Baldwin      16.771185        22.987408     52387.0       12.9   \n",
       "2  1005    AL  Barbour      14.236807        21.906982     31433.0       32.0   \n",
       "3  1007    AL     Bibb      12.681650        22.696923     40767.0       22.2   \n",
       "4  1009    AL   Blount      14.722096        24.608353     50487.0       14.7   \n",
       "\n",
       "   perpov10  childpovrate15  perchldpov10  metro13  poploss10  pct_diabetes18  \\\n",
       "0         0            18.8             0        1        0.0             9.5   \n",
       "1         0            19.6             0        1        0.0             8.4   \n",
       "2         1            45.2             1        0        0.0            13.5   \n",
       "3         0            29.3             1        1        0.0            10.2   \n",
       "4         0            22.2             0        1        0.0            10.5   \n",
       "\n",
       "   class  \n",
       "0    1.0  \n",
       "1    0.0  \n",
       "2    1.0  \n",
       "3    1.0  \n",
       "4    1.0  "
      ]
     },
     "execution_count": 155,
     "metadata": {},
     "output_type": "execute_result"
    }
   ],
   "source": [
    "sec.head()"
   ]
  },
  {
   "cell_type": "code",
   "execution_count": 156,
   "id": "1bda549c",
   "metadata": {},
   "outputs": [
    {
     "data": {
      "text/html": [
       "<div>\n",
       "<style scoped>\n",
       "    .dataframe tbody tr th:only-of-type {\n",
       "        vertical-align: middle;\n",
       "    }\n",
       "\n",
       "    .dataframe tbody tr th {\n",
       "        vertical-align: top;\n",
       "    }\n",
       "\n",
       "    .dataframe thead th {\n",
       "        text-align: right;\n",
       "    }\n",
       "</style>\n",
       "<table border=\"1\" class=\"dataframe\">\n",
       "  <thead>\n",
       "    <tr style=\"text-align: right;\">\n",
       "      <th></th>\n",
       "      <th>fips</th>\n",
       "      <th>pct_65older10</th>\n",
       "      <th>pct_18younger10</th>\n",
       "      <th>medhhinc15</th>\n",
       "      <th>povrate15</th>\n",
       "      <th>perpov10</th>\n",
       "      <th>childpovrate15</th>\n",
       "      <th>perchldpov10</th>\n",
       "      <th>metro13</th>\n",
       "      <th>poploss10</th>\n",
       "      <th>pct_diabetes18</th>\n",
       "      <th>class</th>\n",
       "    </tr>\n",
       "  </thead>\n",
       "  <tbody>\n",
       "    <tr>\n",
       "      <th>fips</th>\n",
       "      <td>1.000000</td>\n",
       "      <td>0.075028</td>\n",
       "      <td>-0.037885</td>\n",
       "      <td>0.068247</td>\n",
       "      <td>-0.119573</td>\n",
       "      <td>-0.076247</td>\n",
       "      <td>-0.125123</td>\n",
       "      <td>-0.072814</td>\n",
       "      <td>0.001259</td>\n",
       "      <td>-0.015492</td>\n",
       "      <td>-0.086405</td>\n",
       "      <td>-0.085816</td>\n",
       "    </tr>\n",
       "    <tr>\n",
       "      <th>pct_65older10</th>\n",
       "      <td>0.075028</td>\n",
       "      <td>1.000000</td>\n",
       "      <td>-0.524088</td>\n",
       "      <td>-0.291583</td>\n",
       "      <td>-0.074526</td>\n",
       "      <td>-0.105146</td>\n",
       "      <td>0.069784</td>\n",
       "      <td>-0.037954</td>\n",
       "      <td>-0.393456</td>\n",
       "      <td>0.356602</td>\n",
       "      <td>-0.229171</td>\n",
       "      <td>-0.213884</td>\n",
       "    </tr>\n",
       "    <tr>\n",
       "      <th>pct_18younger10</th>\n",
       "      <td>-0.037885</td>\n",
       "      <td>-0.524088</td>\n",
       "      <td>1.000000</td>\n",
       "      <td>0.145593</td>\n",
       "      <td>-0.008683</td>\n",
       "      <td>0.113820</td>\n",
       "      <td>-0.009211</td>\n",
       "      <td>0.101100</td>\n",
       "      <td>0.128559</td>\n",
       "      <td>-0.098572</td>\n",
       "      <td>0.164118</td>\n",
       "      <td>0.117197</td>\n",
       "    </tr>\n",
       "    <tr>\n",
       "      <th>medhhinc15</th>\n",
       "      <td>0.068247</td>\n",
       "      <td>-0.291583</td>\n",
       "      <td>0.145593</td>\n",
       "      <td>1.000000</td>\n",
       "      <td>-0.783640</td>\n",
       "      <td>-0.419987</td>\n",
       "      <td>-0.814689</td>\n",
       "      <td>-0.493237</td>\n",
       "      <td>0.398813</td>\n",
       "      <td>-0.117775</td>\n",
       "      <td>-0.296772</td>\n",
       "      <td>-0.217528</td>\n",
       "    </tr>\n",
       "    <tr>\n",
       "      <th>povrate15</th>\n",
       "      <td>-0.119573</td>\n",
       "      <td>-0.074526</td>\n",
       "      <td>-0.008683</td>\n",
       "      <td>-0.783640</td>\n",
       "      <td>1.000000</td>\n",
       "      <td>0.646645</td>\n",
       "      <td>0.938094</td>\n",
       "      <td>0.674762</td>\n",
       "      <td>-0.217190</td>\n",
       "      <td>0.006335</td>\n",
       "      <td>0.408704</td>\n",
       "      <td>0.299918</td>\n",
       "    </tr>\n",
       "    <tr>\n",
       "      <th>perpov10</th>\n",
       "      <td>-0.076247</td>\n",
       "      <td>-0.105146</td>\n",
       "      <td>0.113820</td>\n",
       "      <td>-0.419987</td>\n",
       "      <td>0.646645</td>\n",
       "      <td>1.000000</td>\n",
       "      <td>0.604077</td>\n",
       "      <td>0.641734</td>\n",
       "      <td>-0.163774</td>\n",
       "      <td>0.042797</td>\n",
       "      <td>0.261195</td>\n",
       "      <td>0.173258</td>\n",
       "    </tr>\n",
       "    <tr>\n",
       "      <th>childpovrate15</th>\n",
       "      <td>-0.125123</td>\n",
       "      <td>0.069784</td>\n",
       "      <td>-0.009211</td>\n",
       "      <td>-0.814689</td>\n",
       "      <td>0.938094</td>\n",
       "      <td>0.604077</td>\n",
       "      <td>1.000000</td>\n",
       "      <td>0.678418</td>\n",
       "      <td>-0.241876</td>\n",
       "      <td>0.015399</td>\n",
       "      <td>0.390596</td>\n",
       "      <td>0.293059</td>\n",
       "    </tr>\n",
       "    <tr>\n",
       "      <th>perchldpov10</th>\n",
       "      <td>-0.072814</td>\n",
       "      <td>-0.037954</td>\n",
       "      <td>0.101100</td>\n",
       "      <td>-0.493237</td>\n",
       "      <td>0.674762</td>\n",
       "      <td>0.641734</td>\n",
       "      <td>0.678418</td>\n",
       "      <td>1.000000</td>\n",
       "      <td>-0.176925</td>\n",
       "      <td>0.022465</td>\n",
       "      <td>0.279556</td>\n",
       "      <td>0.201714</td>\n",
       "    </tr>\n",
       "    <tr>\n",
       "      <th>metro13</th>\n",
       "      <td>0.001259</td>\n",
       "      <td>-0.393456</td>\n",
       "      <td>0.128559</td>\n",
       "      <td>0.398813</td>\n",
       "      <td>-0.217190</td>\n",
       "      <td>-0.163774</td>\n",
       "      <td>-0.241876</td>\n",
       "      <td>-0.176925</td>\n",
       "      <td>1.000000</td>\n",
       "      <td>-0.236638</td>\n",
       "      <td>0.114235</td>\n",
       "      <td>0.129459</td>\n",
       "    </tr>\n",
       "    <tr>\n",
       "      <th>poploss10</th>\n",
       "      <td>-0.015492</td>\n",
       "      <td>0.356602</td>\n",
       "      <td>-0.098572</td>\n",
       "      <td>-0.117775</td>\n",
       "      <td>0.006335</td>\n",
       "      <td>0.042797</td>\n",
       "      <td>0.015399</td>\n",
       "      <td>0.022465</td>\n",
       "      <td>-0.236638</td>\n",
       "      <td>1.000000</td>\n",
       "      <td>-0.052658</td>\n",
       "      <td>-0.075536</td>\n",
       "    </tr>\n",
       "    <tr>\n",
       "      <th>pct_diabetes18</th>\n",
       "      <td>-0.086405</td>\n",
       "      <td>-0.229171</td>\n",
       "      <td>0.164118</td>\n",
       "      <td>-0.296772</td>\n",
       "      <td>0.408704</td>\n",
       "      <td>0.261195</td>\n",
       "      <td>0.390596</td>\n",
       "      <td>0.279556</td>\n",
       "      <td>0.114235</td>\n",
       "      <td>-0.052658</td>\n",
       "      <td>1.000000</td>\n",
       "      <td>0.801244</td>\n",
       "    </tr>\n",
       "    <tr>\n",
       "      <th>class</th>\n",
       "      <td>-0.085816</td>\n",
       "      <td>-0.213884</td>\n",
       "      <td>0.117197</td>\n",
       "      <td>-0.217528</td>\n",
       "      <td>0.299918</td>\n",
       "      <td>0.173258</td>\n",
       "      <td>0.293059</td>\n",
       "      <td>0.201714</td>\n",
       "      <td>0.129459</td>\n",
       "      <td>-0.075536</td>\n",
       "      <td>0.801244</td>\n",
       "      <td>1.000000</td>\n",
       "    </tr>\n",
       "  </tbody>\n",
       "</table>\n",
       "</div>"
      ],
      "text/plain": [
       "                     fips  pct_65older10  pct_18younger10  medhhinc15  \\\n",
       "fips             1.000000       0.075028        -0.037885    0.068247   \n",
       "pct_65older10    0.075028       1.000000        -0.524088   -0.291583   \n",
       "pct_18younger10 -0.037885      -0.524088         1.000000    0.145593   \n",
       "medhhinc15       0.068247      -0.291583         0.145593    1.000000   \n",
       "povrate15       -0.119573      -0.074526        -0.008683   -0.783640   \n",
       "perpov10        -0.076247      -0.105146         0.113820   -0.419987   \n",
       "childpovrate15  -0.125123       0.069784        -0.009211   -0.814689   \n",
       "perchldpov10    -0.072814      -0.037954         0.101100   -0.493237   \n",
       "metro13          0.001259      -0.393456         0.128559    0.398813   \n",
       "poploss10       -0.015492       0.356602        -0.098572   -0.117775   \n",
       "pct_diabetes18  -0.086405      -0.229171         0.164118   -0.296772   \n",
       "class           -0.085816      -0.213884         0.117197   -0.217528   \n",
       "\n",
       "                 povrate15  perpov10  childpovrate15  perchldpov10   metro13  \\\n",
       "fips             -0.119573 -0.076247       -0.125123     -0.072814  0.001259   \n",
       "pct_65older10    -0.074526 -0.105146        0.069784     -0.037954 -0.393456   \n",
       "pct_18younger10  -0.008683  0.113820       -0.009211      0.101100  0.128559   \n",
       "medhhinc15       -0.783640 -0.419987       -0.814689     -0.493237  0.398813   \n",
       "povrate15         1.000000  0.646645        0.938094      0.674762 -0.217190   \n",
       "perpov10          0.646645  1.000000        0.604077      0.641734 -0.163774   \n",
       "childpovrate15    0.938094  0.604077        1.000000      0.678418 -0.241876   \n",
       "perchldpov10      0.674762  0.641734        0.678418      1.000000 -0.176925   \n",
       "metro13          -0.217190 -0.163774       -0.241876     -0.176925  1.000000   \n",
       "poploss10         0.006335  0.042797        0.015399      0.022465 -0.236638   \n",
       "pct_diabetes18    0.408704  0.261195        0.390596      0.279556  0.114235   \n",
       "class             0.299918  0.173258        0.293059      0.201714  0.129459   \n",
       "\n",
       "                 poploss10  pct_diabetes18     class  \n",
       "fips             -0.015492       -0.086405 -0.085816  \n",
       "pct_65older10     0.356602       -0.229171 -0.213884  \n",
       "pct_18younger10  -0.098572        0.164118  0.117197  \n",
       "medhhinc15       -0.117775       -0.296772 -0.217528  \n",
       "povrate15         0.006335        0.408704  0.299918  \n",
       "perpov10          0.042797        0.261195  0.173258  \n",
       "childpovrate15    0.015399        0.390596  0.293059  \n",
       "perchldpov10      0.022465        0.279556  0.201714  \n",
       "metro13          -0.236638        0.114235  0.129459  \n",
       "poploss10         1.000000       -0.052658 -0.075536  \n",
       "pct_diabetes18   -0.052658        1.000000  0.801244  \n",
       "class            -0.075536        0.801244  1.000000  "
      ]
     },
     "execution_count": 156,
     "metadata": {},
     "output_type": "execute_result"
    }
   ],
   "source": [
    "sec.corr()"
   ]
  },
  {
   "cell_type": "markdown",
   "id": "6aed93e5",
   "metadata": {},
   "source": [
    "These appear to be the most strongly correlated with diabetes prevalence & class than any of the others. \n",
    "\n",
    "We will see how the model will perform."
   ]
  },
  {
   "cell_type": "markdown",
   "id": "25022146",
   "metadata": {},
   "source": [
    "### KNN Classification"
   ]
  },
  {
   "cell_type": "markdown",
   "id": "ec800a24",
   "metadata": {},
   "source": [
    "#### 1. Create X and y"
   ]
  },
  {
   "cell_type": "code",
   "execution_count": 157,
   "id": "1b1a4b73",
   "metadata": {},
   "outputs": [],
   "source": [
    "X = sec.drop(columns = ['fips', 'state', 'county', 'pct_diabetes18', 'class'])\n",
    "\n",
    "y = sec['class']"
   ]
  },
  {
   "cell_type": "markdown",
   "id": "4aacae37",
   "metadata": {},
   "source": [
    "#### 2. Determine baseline"
   ]
  },
  {
   "cell_type": "code",
   "execution_count": 158,
   "id": "60db07bd",
   "metadata": {},
   "outputs": [
    {
     "data": {
      "text/plain": [
       "0.0    0.58267\n",
       "1.0    0.41733\n",
       "Name: class, dtype: float64"
      ]
     },
     "execution_count": 158,
     "metadata": {},
     "output_type": "execute_result"
    }
   ],
   "source": [
    "sec['class'].value_counts(normalize = True)"
   ]
  },
  {
   "cell_type": "markdown",
   "id": "13c29a70",
   "metadata": {},
   "source": [
    "Baseline is 0.583. "
   ]
  },
  {
   "cell_type": "markdown",
   "id": "3479e09f",
   "metadata": {},
   "source": [
    "#### 3. Scale features"
   ]
  },
  {
   "cell_type": "code",
   "execution_count": 159,
   "id": "d2a72218",
   "metadata": {},
   "outputs": [],
   "source": [
    "ss = StandardScaler()\n",
    "\n",
    "X = ss.fit_transform(X)"
   ]
  },
  {
   "cell_type": "markdown",
   "id": "bd5e4fb4",
   "metadata": {},
   "source": [
    "#### 4. Train, test, split"
   ]
  },
  {
   "cell_type": "code",
   "execution_count": 160,
   "id": "6977d0df",
   "metadata": {},
   "outputs": [],
   "source": [
    "X_train, X_test, y_train, y_test = train_test_split(X, y, random_state = 42, stratify = y)"
   ]
  },
  {
   "cell_type": "markdown",
   "id": "3d947857",
   "metadata": {},
   "source": [
    "#### 5. Instantiate, fit, evaluate"
   ]
  },
  {
   "cell_type": "code",
   "execution_count": 161,
   "id": "fa4b4c4a",
   "metadata": {},
   "outputs": [
    {
     "name": "stdout",
     "output_type": "stream",
     "text": [
      "0.7230246389124894 0.6802547770700637\n"
     ]
    }
   ],
   "source": [
    "with warnings.catch_warnings():\n",
    "    warnings.simplefilter(\"ignore\", category = FutureWarning)\n",
    "\n",
    "# Instantiate\n",
    "    knn = KNeighborsClassifier(n_neighbors = 20)\n",
    "\n",
    "# Fit\n",
    "    knn.fit(X_train, y_train)\n",
    "\n",
    "# Evaluate\n",
    "    print(knn.score(X_train, y_train), knn.score(X_test, y_test))"
   ]
  },
  {
   "cell_type": "code",
   "execution_count": 162,
   "id": "da9a8fa4",
   "metadata": {},
   "outputs": [
    {
     "data": {
      "image/png": "[encoded data removed]",
      "text/plain": [
       "<Figure size 640x480 with 2 Axes>"
      ]
     },
     "metadata": {},
     "output_type": "display_data"
    }
   ],
   "source": [
    "with warnings.catch_warnings():\n",
    "    warnings.simplefilter(\"ignore\", category = FutureWarning)\n",
    "\n",
    "    ConfusionMatrixDisplay.from_estimator(knn, X_test, y_test, normalize = 'pred');"
   ]
  },
  {
   "cell_type": "code",
   "execution_count": 163,
   "id": "4813cccf",
   "metadata": {},
   "outputs": [],
   "source": [
    "with warnings.catch_warnings():\n",
    "    warnings.simplefilter(\"ignore\", category = FutureWarning)\n",
    "\n",
    "    preds = knn.predict(X_test) #generates predictions"
   ]
  },
  {
   "cell_type": "code",
   "execution_count": 164,
   "id": "562ade20",
   "metadata": {},
   "outputs": [
    {
     "data": {
      "text/plain": [
       "array([352, 105, 146, 182])"
      ]
     },
     "execution_count": 164,
     "metadata": {},
     "output_type": "execute_result"
    }
   ],
   "source": [
    "confusion_matrix(y_test, preds).ravel()"
   ]
  },
  {
   "cell_type": "code",
   "execution_count": 165,
   "id": "d985627f",
   "metadata": {},
   "outputs": [
    {
     "data": {
      "text/plain": [
       "(352, 105, 146, 182)"
      ]
     },
     "execution_count": 165,
     "metadata": {},
     "output_type": "execute_result"
    }
   ],
   "source": [
    "tn, fp, fn, tp = confusion_matrix(y_test, preds).ravel()\n",
    "\n",
    "tn, fp, fn, tp #(true negative, false positive, false negative, true positive)"
   ]
  },
  {
   "cell_type": "markdown",
   "id": "567d1b57",
   "metadata": {},
   "source": [
    "##### Accuracy (pre-determined above)"
   ]
  },
  {
   "cell_type": "code",
   "execution_count": 166,
   "id": "87f3c242",
   "metadata": {},
   "outputs": [
    {
     "name": "stdout",
     "output_type": "stream",
     "text": [
      "0.6802547770700637\n"
     ]
    }
   ],
   "source": [
    "with warnings.catch_warnings():\n",
    "    warnings.simplefilter(\"ignore\", category = FutureWarning)\n",
    "\n",
    "    print(knn.score(X_test, y_test))"
   ]
  },
  {
   "cell_type": "markdown",
   "id": "376a1463",
   "metadata": {},
   "source": [
    "##### Additional Metrics"
   ]
  },
  {
   "cell_type": "code",
   "execution_count": 167,
   "id": "ef3f2ea7",
   "metadata": {},
   "outputs": [
    {
     "name": "stdout",
     "output_type": "stream",
     "text": [
      "Specificity:  0.7702407002188184\n",
      "Sensitivity:  0.5548780487804879\n",
      "Precision:  0.6341463414634146\n",
      "F1:  0.5918699186991871\n"
     ]
    }
   ],
   "source": [
    "specificity = tn / (tn + fp)\n",
    "sensitivity = tp / (tp + fn)\n",
    "precision = tp / (tp + fp)\n",
    "f1 = 2 * (precision*sensitivity) / (precision+sensitivity)\n",
    "\n",
    "\n",
    "print (\"Specificity: \", specificity)\n",
    "print (\"Sensitivity: \", sensitivity)\n",
    "print (\"Precision: \", precision)\n",
    "print (\"F1: \", f1)"
   ]
  },
  {
   "cell_type": "markdown",
   "id": "039459d3",
   "metadata": {},
   "source": [
    "##### Discussion"
   ]
  },
  {
   "cell_type": "markdown",
   "id": "0a06a981",
   "metadata": {},
   "source": [
    "The combined precision and sensitivity are enough to create an F1 score of 0.592, which just barely exceeds baseline. \n",
    "\n",
    "Overall, this model is not so effective at predicting prevalence of diabetes in counties."
   ]
  },
  {
   "cell_type": "markdown",
   "id": "ae4c3edf",
   "metadata": {},
   "source": [
    "## Stores - Convenience & Specialized"
   ]
  },
  {
   "cell_type": "code",
   "execution_count": 168,
   "id": "44fe2b2f",
   "metadata": {},
   "outputs": [],
   "source": [
    "file_path = '../data/FoodEnvironmentAtlas.xls.STORES_Modeling_ConSpec.csv'\n",
    "\n",
    "stores_cs = pd.read_csv(file_path)"
   ]
  },
  {
   "cell_type": "code",
   "execution_count": 169,
   "id": "99f5d8c0",
   "metadata": {},
   "outputs": [
    {
     "data": {
      "text/html": [
       "<div>\n",
       "<style scoped>\n",
       "    .dataframe tbody tr th:only-of-type {\n",
       "        vertical-align: middle;\n",
       "    }\n",
       "\n",
       "    .dataframe tbody tr th {\n",
       "        vertical-align: top;\n",
       "    }\n",
       "\n",
       "    .dataframe thead th {\n",
       "        text-align: right;\n",
       "    }\n",
       "</style>\n",
       "<table border=\"1\" class=\"dataframe\">\n",
       "  <thead>\n",
       "    <tr style=\"text-align: right;\">\n",
       "      <th></th>\n",
       "      <th>fips</th>\n",
       "      <th>state</th>\n",
       "      <th>county</th>\n",
       "      <th>convs11</th>\n",
       "      <th>convs16</th>\n",
       "      <th>convspth11</th>\n",
       "      <th>convspth16</th>\n",
       "      <th>specs11</th>\n",
       "      <th>specs16</th>\n",
       "      <th>specspth11</th>\n",
       "      <th>specspth16</th>\n",
       "      <th>pct_diabetes18</th>\n",
       "      <th>class</th>\n",
       "    </tr>\n",
       "  </thead>\n",
       "  <tbody>\n",
       "    <tr>\n",
       "      <th>0</th>\n",
       "      <td>1001</td>\n",
       "      <td>AL</td>\n",
       "      <td>Autauga</td>\n",
       "      <td>31</td>\n",
       "      <td>31</td>\n",
       "      <td>0.561604</td>\n",
       "      <td>0.560802</td>\n",
       "      <td>1</td>\n",
       "      <td>1</td>\n",
       "      <td>0.018116</td>\n",
       "      <td>0.018090</td>\n",
       "      <td>9.5</td>\n",
       "      <td>1.0</td>\n",
       "    </tr>\n",
       "    <tr>\n",
       "      <th>1</th>\n",
       "      <td>1003</td>\n",
       "      <td>AL</td>\n",
       "      <td>Baldwin</td>\n",
       "      <td>107</td>\n",
       "      <td>118</td>\n",
       "      <td>0.573622</td>\n",
       "      <td>0.568650</td>\n",
       "      <td>20</td>\n",
       "      <td>27</td>\n",
       "      <td>0.107219</td>\n",
       "      <td>0.130115</td>\n",
       "      <td>8.4</td>\n",
       "      <td>0.0</td>\n",
       "    </tr>\n",
       "    <tr>\n",
       "      <th>2</th>\n",
       "      <td>1005</td>\n",
       "      <td>AL</td>\n",
       "      <td>Barbour</td>\n",
       "      <td>22</td>\n",
       "      <td>19</td>\n",
       "      <td>0.804358</td>\n",
       "      <td>0.737177</td>\n",
       "      <td>3</td>\n",
       "      <td>2</td>\n",
       "      <td>0.109685</td>\n",
       "      <td>0.077598</td>\n",
       "      <td>13.5</td>\n",
       "      <td>1.0</td>\n",
       "    </tr>\n",
       "    <tr>\n",
       "      <th>3</th>\n",
       "      <td>1007</td>\n",
       "      <td>AL</td>\n",
       "      <td>Bibb</td>\n",
       "      <td>19</td>\n",
       "      <td>15</td>\n",
       "      <td>0.835348</td>\n",
       "      <td>0.662749</td>\n",
       "      <td>0</td>\n",
       "      <td>0</td>\n",
       "      <td>0.000000</td>\n",
       "      <td>0.000000</td>\n",
       "      <td>10.2</td>\n",
       "      <td>1.0</td>\n",
       "    </tr>\n",
       "    <tr>\n",
       "      <th>4</th>\n",
       "      <td>1009</td>\n",
       "      <td>AL</td>\n",
       "      <td>Blount</td>\n",
       "      <td>30</td>\n",
       "      <td>27</td>\n",
       "      <td>0.521177</td>\n",
       "      <td>0.469059</td>\n",
       "      <td>1</td>\n",
       "      <td>0</td>\n",
       "      <td>0.017373</td>\n",
       "      <td>0.000000</td>\n",
       "      <td>10.5</td>\n",
       "      <td>1.0</td>\n",
       "    </tr>\n",
       "  </tbody>\n",
       "</table>\n",
       "</div>"
      ],
      "text/plain": [
       "   fips state   county  convs11  convs16  convspth11  convspth16  specs11  \\\n",
       "0  1001    AL  Autauga       31       31    0.561604    0.560802        1   \n",
       "1  1003    AL  Baldwin      107      118    0.573622    0.568650       20   \n",
       "2  1005    AL  Barbour       22       19    0.804358    0.737177        3   \n",
       "3  1007    AL     Bibb       19       15    0.835348    0.662749        0   \n",
       "4  1009    AL   Blount       30       27    0.521177    0.469059        1   \n",
       "\n",
       "   specs16  specspth11  specspth16  pct_diabetes18  class  \n",
       "0        1    0.018116    0.018090             9.5    1.0  \n",
       "1       27    0.107219    0.130115             8.4    0.0  \n",
       "2        2    0.109685    0.077598            13.5    1.0  \n",
       "3        0    0.000000    0.000000            10.2    1.0  \n",
       "4        0    0.017373    0.000000            10.5    1.0  "
      ]
     },
     "execution_count": 169,
     "metadata": {},
     "output_type": "execute_result"
    }
   ],
   "source": [
    "stores_cs.head()"
   ]
  },
  {
   "cell_type": "markdown",
   "id": "f3ffb347",
   "metadata": {},
   "source": [
    "### KNN Classification"
   ]
  },
  {
   "cell_type": "markdown",
   "id": "19f1d7d4",
   "metadata": {},
   "source": [
    "#### 1. Create X and y"
   ]
  },
  {
   "cell_type": "code",
   "execution_count": 170,
   "id": "28dc8e3d",
   "metadata": {},
   "outputs": [],
   "source": [
    "X = stores_cs.drop(columns = ['fips', 'state', 'county', 'pct_diabetes18', 'class'])\n",
    "\n",
    "y = stores_cs['class']"
   ]
  },
  {
   "cell_type": "markdown",
   "id": "4fd08082",
   "metadata": {},
   "source": [
    "#### 2. Determine baseline"
   ]
  },
  {
   "cell_type": "code",
   "execution_count": 171,
   "id": "1f722a9d",
   "metadata": {},
   "outputs": [
    {
     "data": {
      "text/plain": [
       "0.0    0.58275\n",
       "1.0    0.41725\n",
       "Name: class, dtype: float64"
      ]
     },
     "execution_count": 171,
     "metadata": {},
     "output_type": "execute_result"
    }
   ],
   "source": [
    "stores_cs['class'].value_counts(normalize = True)"
   ]
  },
  {
   "cell_type": "markdown",
   "id": "63182d22",
   "metadata": {},
   "source": [
    "Baseline is 0.583."
   ]
  },
  {
   "cell_type": "markdown",
   "id": "eb299978",
   "metadata": {},
   "source": [
    "#### 3. Scale features"
   ]
  },
  {
   "cell_type": "code",
   "execution_count": 172,
   "id": "3b41879c",
   "metadata": {},
   "outputs": [],
   "source": [
    "ss = StandardScaler()\n",
    "\n",
    "X = ss.fit_transform(X)"
   ]
  },
  {
   "cell_type": "markdown",
   "id": "bce714a3",
   "metadata": {},
   "source": [
    "#### 4. Train, test, split"
   ]
  },
  {
   "cell_type": "code",
   "execution_count": 173,
   "id": "0eaad178",
   "metadata": {},
   "outputs": [],
   "source": [
    "X_train, X_test, y_train, y_test = train_test_split(X, y, random_state = 42, stratify = y)"
   ]
  },
  {
   "cell_type": "markdown",
   "id": "4b8246f5",
   "metadata": {},
   "source": [
    "#### 5. Instantiate, fit, evaluate"
   ]
  },
  {
   "cell_type": "code",
   "execution_count": 174,
   "id": "bf51f846",
   "metadata": {},
   "outputs": [
    {
     "name": "stdout",
     "output_type": "stream",
     "text": [
      "0.6786926994906621 0.6564885496183206\n"
     ]
    }
   ],
   "source": [
    "with warnings.catch_warnings():\n",
    "    warnings.simplefilter(\"ignore\", category = FutureWarning)\n",
    "\n",
    "# Instantiate\n",
    "    knn = KNeighborsClassifier(n_neighbors = 25)\n",
    "\n",
    "# Fit\n",
    "    knn.fit(X_train, y_train)\n",
    "\n",
    "# Evaluate\n",
    "    print(knn.score(X_train, y_train), knn.score(X_test, y_test))"
   ]
  },
  {
   "cell_type": "code",
   "execution_count": 175,
   "id": "46425c09",
   "metadata": {},
   "outputs": [
    {
     "data": {
      "image/png": "[encoded data removed]",
      "text/plain": [
       "<Figure size 640x480 with 2 Axes>"
      ]
     },
     "metadata": {},
     "output_type": "display_data"
    }
   ],
   "source": [
    "with warnings.catch_warnings():\n",
    "    warnings.simplefilter(\"ignore\", category = FutureWarning)\n",
    "\n",
    "    ConfusionMatrixDisplay.from_estimator(knn, X_test, y_test, normalize = 'pred');"
   ]
  },
  {
   "cell_type": "code",
   "execution_count": 176,
   "id": "6efd2840",
   "metadata": {},
   "outputs": [],
   "source": [
    "with warnings.catch_warnings():\n",
    "    warnings.simplefilter(\"ignore\", category = FutureWarning)\n",
    "\n",
    "    preds = knn.predict(X_test) #generates predictions\n",
    "\n"
   ]
  },
  {
   "cell_type": "code",
   "execution_count": 177,
   "id": "a5face61",
   "metadata": {},
   "outputs": [
    {
     "data": {
      "text/plain": [
       "array([377,  81, 189, 139])"
      ]
     },
     "execution_count": 177,
     "metadata": {},
     "output_type": "execute_result"
    }
   ],
   "source": [
    "confusion_matrix(y_test, preds).ravel()"
   ]
  },
  {
   "cell_type": "code",
   "execution_count": 178,
   "id": "84edf61e",
   "metadata": {},
   "outputs": [
    {
     "data": {
      "text/plain": [
       "(377, 81, 189, 139)"
      ]
     },
     "execution_count": 178,
     "metadata": {},
     "output_type": "execute_result"
    }
   ],
   "source": [
    "tn, fp, fn, tp = confusion_matrix(y_test, preds).ravel()\n",
    "\n",
    "tn, fp, fn, tp #(true negative, false positive, false negative, true positive)"
   ]
  },
  {
   "cell_type": "markdown",
   "id": "5d7afb60",
   "metadata": {},
   "source": [
    "##### Accuracy (pre-determined above)"
   ]
  },
  {
   "cell_type": "code",
   "execution_count": 179,
   "id": "73092343",
   "metadata": {},
   "outputs": [
    {
     "name": "stdout",
     "output_type": "stream",
     "text": [
      "0.6564885496183206\n"
     ]
    }
   ],
   "source": [
    "with warnings.catch_warnings():\n",
    "    warnings.simplefilter(\"ignore\", category = FutureWarning)\n",
    "    \n",
    "    print(knn.score(X_test, y_test))"
   ]
  },
  {
   "cell_type": "markdown",
   "id": "39ff9c8f",
   "metadata": {},
   "source": [
    "##### Additional metrics"
   ]
  },
  {
   "cell_type": "code",
   "execution_count": 180,
   "id": "f5df1862",
   "metadata": {},
   "outputs": [
    {
     "name": "stdout",
     "output_type": "stream",
     "text": [
      "Specificity:  0.8231441048034934\n",
      "Sensitivity:  0.42378048780487804\n",
      "Precision:  0.6318181818181818\n",
      "F1:  0.5072992700729927\n"
     ]
    }
   ],
   "source": [
    "specificity = tn / (tn + fp)\n",
    "sensitivity = tp / (tp + fn)\n",
    "precision = tp / (tp + fp)\n",
    "f1 = 2 * (precision*sensitivity) / (precision+sensitivity)\n",
    "\n",
    "\n",
    "print (\"Specificity: \", specificity)\n",
    "print (\"Sensitivity: \", sensitivity)\n",
    "print (\"Precision: \", precision)\n",
    "print (\"F1: \", f1)"
   ]
  },
  {
   "cell_type": "markdown",
   "id": "46e75cba",
   "metadata": {},
   "source": [
    "While the specificity is high at 0.823, the sensitivity is low at only 0.424. The precision and sensitivity scores combine to create an F1 score that is below baseline.\n",
    "\n",
    "This model cannot be used effectively in order to predict prevalence of diabetes in counties."
   ]
  },
  {
   "cell_type": "markdown",
   "id": "e614797f",
   "metadata": {},
   "source": [
    "## Stores - SNAP & WIC"
   ]
  },
  {
   "cell_type": "code",
   "execution_count": 181,
   "id": "3d1ec582",
   "metadata": {},
   "outputs": [],
   "source": [
    "file_path = ('../data/FoodEnvironmentAtlas.xls.STORES_Modeling_SnapWic.csv')\n",
    "\n",
    "stores_sw = pd.read_csv(file_path)"
   ]
  },
  {
   "cell_type": "code",
   "execution_count": 182,
   "id": "6e5b4d1e",
   "metadata": {},
   "outputs": [
    {
     "data": {
      "text/html": [
       "<div>\n",
       "<style scoped>\n",
       "    .dataframe tbody tr th:only-of-type {\n",
       "        vertical-align: middle;\n",
       "    }\n",
       "\n",
       "    .dataframe tbody tr th {\n",
       "        vertical-align: top;\n",
       "    }\n",
       "\n",
       "    .dataframe thead th {\n",
       "        text-align: right;\n",
       "    }\n",
       "</style>\n",
       "<table border=\"1\" class=\"dataframe\">\n",
       "  <thead>\n",
       "    <tr style=\"text-align: right;\">\n",
       "      <th></th>\n",
       "      <th>fips</th>\n",
       "      <th>state</th>\n",
       "      <th>county</th>\n",
       "      <th>snaps12</th>\n",
       "      <th>snaps17</th>\n",
       "      <th>snapspth12</th>\n",
       "      <th>snapspth17</th>\n",
       "      <th>wics11</th>\n",
       "      <th>wics16</th>\n",
       "      <th>wicspth11</th>\n",
       "      <th>wicspth16</th>\n",
       "      <th>pct_diabetes18</th>\n",
       "      <th>class</th>\n",
       "    </tr>\n",
       "  </thead>\n",
       "  <tbody>\n",
       "    <tr>\n",
       "      <th>0</th>\n",
       "      <td>1001</td>\n",
       "      <td>AL</td>\n",
       "      <td>Autauga</td>\n",
       "      <td>37.416667</td>\n",
       "      <td>44.666667</td>\n",
       "      <td>0.674004</td>\n",
       "      <td>0.804747</td>\n",
       "      <td>5.0</td>\n",
       "      <td>5.0</td>\n",
       "      <td>0.090567</td>\n",
       "      <td>0.090511</td>\n",
       "      <td>9.5</td>\n",
       "      <td>1.0</td>\n",
       "    </tr>\n",
       "    <tr>\n",
       "      <th>1</th>\n",
       "      <td>1003</td>\n",
       "      <td>AL</td>\n",
       "      <td>Baldwin</td>\n",
       "      <td>138.333333</td>\n",
       "      <td>189.416667</td>\n",
       "      <td>0.725055</td>\n",
       "      <td>0.890836</td>\n",
       "      <td>26.0</td>\n",
       "      <td>28.0</td>\n",
       "      <td>0.139380</td>\n",
       "      <td>0.134802</td>\n",
       "      <td>8.4</td>\n",
       "      <td>0.0</td>\n",
       "    </tr>\n",
       "    <tr>\n",
       "      <th>2</th>\n",
       "      <td>1005</td>\n",
       "      <td>AL</td>\n",
       "      <td>Barbour</td>\n",
       "      <td>34.833333</td>\n",
       "      <td>36.000000</td>\n",
       "      <td>1.280590</td>\n",
       "      <td>1.424614</td>\n",
       "      <td>7.0</td>\n",
       "      <td>6.0</td>\n",
       "      <td>0.255942</td>\n",
       "      <td>0.232387</td>\n",
       "      <td>13.5</td>\n",
       "      <td>1.0</td>\n",
       "    </tr>\n",
       "    <tr>\n",
       "      <th>3</th>\n",
       "      <td>1007</td>\n",
       "      <td>AL</td>\n",
       "      <td>Bibb</td>\n",
       "      <td>16.250000</td>\n",
       "      <td>18.166667</td>\n",
       "      <td>0.719122</td>\n",
       "      <td>0.801423</td>\n",
       "      <td>6.0</td>\n",
       "      <td>5.0</td>\n",
       "      <td>0.263771</td>\n",
       "      <td>0.221474</td>\n",
       "      <td>10.2</td>\n",
       "      <td>1.0</td>\n",
       "    </tr>\n",
       "    <tr>\n",
       "      <th>4</th>\n",
       "      <td>1009</td>\n",
       "      <td>AL</td>\n",
       "      <td>Blount</td>\n",
       "      <td>38.000000</td>\n",
       "      <td>40.166667</td>\n",
       "      <td>0.657144</td>\n",
       "      <td>0.692374</td>\n",
       "      <td>8.0</td>\n",
       "      <td>8.0</td>\n",
       "      <td>0.139000</td>\n",
       "      <td>0.139089</td>\n",
       "      <td>10.5</td>\n",
       "      <td>1.0</td>\n",
       "    </tr>\n",
       "  </tbody>\n",
       "</table>\n",
       "</div>"
      ],
      "text/plain": [
       "   fips state   county     snaps12     snaps17  snapspth12  snapspth17  \\\n",
       "0  1001    AL  Autauga   37.416667   44.666667    0.674004    0.804747   \n",
       "1  1003    AL  Baldwin  138.333333  189.416667    0.725055    0.890836   \n",
       "2  1005    AL  Barbour   34.833333   36.000000    1.280590    1.424614   \n",
       "3  1007    AL     Bibb   16.250000   18.166667    0.719122    0.801423   \n",
       "4  1009    AL   Blount   38.000000   40.166667    0.657144    0.692374   \n",
       "\n",
       "   wics11  wics16  wicspth11  wicspth16  pct_diabetes18  class  \n",
       "0     5.0     5.0   0.090567   0.090511             9.5    1.0  \n",
       "1    26.0    28.0   0.139380   0.134802             8.4    0.0  \n",
       "2     7.0     6.0   0.255942   0.232387            13.5    1.0  \n",
       "3     6.0     5.0   0.263771   0.221474            10.2    1.0  \n",
       "4     8.0     8.0   0.139000   0.139089            10.5    1.0  "
      ]
     },
     "execution_count": 182,
     "metadata": {},
     "output_type": "execute_result"
    }
   ],
   "source": [
    "stores_sw.head()"
   ]
  },
  {
   "cell_type": "code",
   "execution_count": 183,
   "id": "61ab8b0e",
   "metadata": {},
   "outputs": [
    {
     "data": {
      "text/html": [
       "<div>\n",
       "<style scoped>\n",
       "    .dataframe tbody tr th:only-of-type {\n",
       "        vertical-align: middle;\n",
       "    }\n",
       "\n",
       "    .dataframe tbody tr th {\n",
       "        vertical-align: top;\n",
       "    }\n",
       "\n",
       "    .dataframe thead th {\n",
       "        text-align: right;\n",
       "    }\n",
       "</style>\n",
       "<table border=\"1\" class=\"dataframe\">\n",
       "  <thead>\n",
       "    <tr style=\"text-align: right;\">\n",
       "      <th></th>\n",
       "      <th>fips</th>\n",
       "      <th>snaps12</th>\n",
       "      <th>snaps17</th>\n",
       "      <th>snapspth12</th>\n",
       "      <th>snapspth17</th>\n",
       "      <th>wics11</th>\n",
       "      <th>wics16</th>\n",
       "      <th>wicspth11</th>\n",
       "      <th>wicspth16</th>\n",
       "      <th>pct_diabetes18</th>\n",
       "      <th>class</th>\n",
       "    </tr>\n",
       "  </thead>\n",
       "  <tbody>\n",
       "    <tr>\n",
       "      <th>fips</th>\n",
       "      <td>1.000000</td>\n",
       "      <td>-0.047301</td>\n",
       "      <td>-0.048732</td>\n",
       "      <td>-0.053075</td>\n",
       "      <td>-0.033528</td>\n",
       "      <td>-0.050560</td>\n",
       "      <td>-0.048666</td>\n",
       "      <td>-0.049690</td>\n",
       "      <td>-0.025870</td>\n",
       "      <td>-0.084286</td>\n",
       "      <td>-0.085893</td>\n",
       "    </tr>\n",
       "    <tr>\n",
       "      <th>snaps12</th>\n",
       "      <td>-0.047301</td>\n",
       "      <td>1.000000</td>\n",
       "      <td>0.993537</td>\n",
       "      <td>-0.055011</td>\n",
       "      <td>-0.112162</td>\n",
       "      <td>0.947848</td>\n",
       "      <td>0.951810</td>\n",
       "      <td>-0.108878</td>\n",
       "      <td>-0.109531</td>\n",
       "      <td>0.097236</td>\n",
       "      <td>0.108522</td>\n",
       "    </tr>\n",
       "    <tr>\n",
       "      <th>snaps17</th>\n",
       "      <td>-0.048732</td>\n",
       "      <td>0.993537</td>\n",
       "      <td>1.000000</td>\n",
       "      <td>-0.077579</td>\n",
       "      <td>-0.126745</td>\n",
       "      <td>0.924346</td>\n",
       "      <td>0.933230</td>\n",
       "      <td>-0.126420</td>\n",
       "      <td>-0.124888</td>\n",
       "      <td>0.097504</td>\n",
       "      <td>0.108188</td>\n",
       "    </tr>\n",
       "    <tr>\n",
       "      <th>snapspth12</th>\n",
       "      <td>-0.053075</td>\n",
       "      <td>-0.055011</td>\n",
       "      <td>-0.077579</td>\n",
       "      <td>1.000000</td>\n",
       "      <td>0.856550</td>\n",
       "      <td>-0.043144</td>\n",
       "      <td>-0.062309</td>\n",
       "      <td>0.460908</td>\n",
       "      <td>0.382925</td>\n",
       "      <td>0.216668</td>\n",
       "      <td>0.159539</td>\n",
       "    </tr>\n",
       "    <tr>\n",
       "      <th>snapspth17</th>\n",
       "      <td>-0.033528</td>\n",
       "      <td>-0.112162</td>\n",
       "      <td>-0.126745</td>\n",
       "      <td>0.856550</td>\n",
       "      <td>1.000000</td>\n",
       "      <td>-0.093938</td>\n",
       "      <td>-0.113534</td>\n",
       "      <td>0.474400</td>\n",
       "      <td>0.425570</td>\n",
       "      <td>0.167903</td>\n",
       "      <td>0.105794</td>\n",
       "    </tr>\n",
       "    <tr>\n",
       "      <th>wics11</th>\n",
       "      <td>-0.050560</td>\n",
       "      <td>0.947848</td>\n",
       "      <td>0.924346</td>\n",
       "      <td>-0.043144</td>\n",
       "      <td>-0.093938</td>\n",
       "      <td>1.000000</td>\n",
       "      <td>0.985100</td>\n",
       "      <td>-0.044047</td>\n",
       "      <td>-0.052848</td>\n",
       "      <td>0.066833</td>\n",
       "      <td>0.078284</td>\n",
       "    </tr>\n",
       "    <tr>\n",
       "      <th>wics16</th>\n",
       "      <td>-0.048666</td>\n",
       "      <td>0.951810</td>\n",
       "      <td>0.933230</td>\n",
       "      <td>-0.062309</td>\n",
       "      <td>-0.113534</td>\n",
       "      <td>0.985100</td>\n",
       "      <td>1.000000</td>\n",
       "      <td>-0.062728</td>\n",
       "      <td>-0.058527</td>\n",
       "      <td>0.062408</td>\n",
       "      <td>0.074619</td>\n",
       "    </tr>\n",
       "    <tr>\n",
       "      <th>wicspth11</th>\n",
       "      <td>-0.049690</td>\n",
       "      <td>-0.108878</td>\n",
       "      <td>-0.126420</td>\n",
       "      <td>0.460908</td>\n",
       "      <td>0.474400</td>\n",
       "      <td>-0.044047</td>\n",
       "      <td>-0.062728</td>\n",
       "      <td>1.000000</td>\n",
       "      <td>0.914845</td>\n",
       "      <td>-0.092404</td>\n",
       "      <td>-0.109671</td>\n",
       "    </tr>\n",
       "    <tr>\n",
       "      <th>wicspth16</th>\n",
       "      <td>-0.025870</td>\n",
       "      <td>-0.109531</td>\n",
       "      <td>-0.124888</td>\n",
       "      <td>0.382925</td>\n",
       "      <td>0.425570</td>\n",
       "      <td>-0.052848</td>\n",
       "      <td>-0.058527</td>\n",
       "      <td>0.914845</td>\n",
       "      <td>1.000000</td>\n",
       "      <td>-0.124212</td>\n",
       "      <td>-0.130868</td>\n",
       "    </tr>\n",
       "    <tr>\n",
       "      <th>pct_diabetes18</th>\n",
       "      <td>-0.084286</td>\n",
       "      <td>0.097236</td>\n",
       "      <td>0.097504</td>\n",
       "      <td>0.216668</td>\n",
       "      <td>0.167903</td>\n",
       "      <td>0.066833</td>\n",
       "      <td>0.062408</td>\n",
       "      <td>-0.092404</td>\n",
       "      <td>-0.124212</td>\n",
       "      <td>1.000000</td>\n",
       "      <td>0.798752</td>\n",
       "    </tr>\n",
       "    <tr>\n",
       "      <th>class</th>\n",
       "      <td>-0.085893</td>\n",
       "      <td>0.108522</td>\n",
       "      <td>0.108188</td>\n",
       "      <td>0.159539</td>\n",
       "      <td>0.105794</td>\n",
       "      <td>0.078284</td>\n",
       "      <td>0.074619</td>\n",
       "      <td>-0.109671</td>\n",
       "      <td>-0.130868</td>\n",
       "      <td>0.798752</td>\n",
       "      <td>1.000000</td>\n",
       "    </tr>\n",
       "  </tbody>\n",
       "</table>\n",
       "</div>"
      ],
      "text/plain": [
       "                    fips   snaps12   snaps17  snapspth12  snapspth17  \\\n",
       "fips            1.000000 -0.047301 -0.048732   -0.053075   -0.033528   \n",
       "snaps12        -0.047301  1.000000  0.993537   -0.055011   -0.112162   \n",
       "snaps17        -0.048732  0.993537  1.000000   -0.077579   -0.126745   \n",
       "snapspth12     -0.053075 -0.055011 -0.077579    1.000000    0.856550   \n",
       "snapspth17     -0.033528 -0.112162 -0.126745    0.856550    1.000000   \n",
       "wics11         -0.050560  0.947848  0.924346   -0.043144   -0.093938   \n",
       "wics16         -0.048666  0.951810  0.933230   -0.062309   -0.113534   \n",
       "wicspth11      -0.049690 -0.108878 -0.126420    0.460908    0.474400   \n",
       "wicspth16      -0.025870 -0.109531 -0.124888    0.382925    0.425570   \n",
       "pct_diabetes18 -0.084286  0.097236  0.097504    0.216668    0.167903   \n",
       "class          -0.085893  0.108522  0.108188    0.159539    0.105794   \n",
       "\n",
       "                  wics11    wics16  wicspth11  wicspth16  pct_diabetes18  \\\n",
       "fips           -0.050560 -0.048666  -0.049690  -0.025870       -0.084286   \n",
       "snaps12         0.947848  0.951810  -0.108878  -0.109531        0.097236   \n",
       "snaps17         0.924346  0.933230  -0.126420  -0.124888        0.097504   \n",
       "snapspth12     -0.043144 -0.062309   0.460908   0.382925        0.216668   \n",
       "snapspth17     -0.093938 -0.113534   0.474400   0.425570        0.167903   \n",
       "wics11          1.000000  0.985100  -0.044047  -0.052848        0.066833   \n",
       "wics16          0.985100  1.000000  -0.062728  -0.058527        0.062408   \n",
       "wicspth11      -0.044047 -0.062728   1.000000   0.914845       -0.092404   \n",
       "wicspth16      -0.052848 -0.058527   0.914845   1.000000       -0.124212   \n",
       "pct_diabetes18  0.066833  0.062408  -0.092404  -0.124212        1.000000   \n",
       "class           0.078284  0.074619  -0.109671  -0.130868        0.798752   \n",
       "\n",
       "                   class  \n",
       "fips           -0.085893  \n",
       "snaps12         0.108522  \n",
       "snaps17         0.108188  \n",
       "snapspth12      0.159539  \n",
       "snapspth17      0.105794  \n",
       "wics11          0.078284  \n",
       "wics16          0.074619  \n",
       "wicspth11      -0.109671  \n",
       "wicspth16      -0.130868  \n",
       "pct_diabetes18  0.798752  \n",
       "class           1.000000  "
      ]
     },
     "execution_count": 183,
     "metadata": {},
     "output_type": "execute_result"
    }
   ],
   "source": [
    "stores_sw.corr()"
   ]
  },
  {
   "cell_type": "markdown",
   "id": "4a6182bf",
   "metadata": {},
   "source": [
    "### KNN Classification"
   ]
  },
  {
   "cell_type": "markdown",
   "id": "9e0d02c9",
   "metadata": {},
   "source": [
    "#### 1. Create X and y"
   ]
  },
  {
   "cell_type": "code",
   "execution_count": 184,
   "id": "0fead17c",
   "metadata": {},
   "outputs": [],
   "source": [
    "X = stores_sw.drop(columns = ['fips', 'state', 'county', 'pct_diabetes18', 'class'])\n",
    "\n",
    "y = stores_sw['class']"
   ]
  },
  {
   "cell_type": "markdown",
   "id": "56b8217f",
   "metadata": {},
   "source": [
    "#### 2. Determine baseline"
   ]
  },
  {
   "cell_type": "code",
   "execution_count": 185,
   "id": "ff19ab94",
   "metadata": {},
   "outputs": [
    {
     "data": {
      "text/plain": [
       "0.0    0.585964\n",
       "1.0    0.414036\n",
       "Name: class, dtype: float64"
      ]
     },
     "execution_count": 185,
     "metadata": {},
     "output_type": "execute_result"
    }
   ],
   "source": [
    "stores_sw['class'].value_counts(normalize = True)"
   ]
  },
  {
   "cell_type": "markdown",
   "id": "34c1bdb5",
   "metadata": {},
   "source": [
    "Baseline is 0.586."
   ]
  },
  {
   "cell_type": "markdown",
   "id": "83a9089b",
   "metadata": {},
   "source": [
    "#### 3. Scale features"
   ]
  },
  {
   "cell_type": "code",
   "execution_count": 186,
   "id": "310c6dc0",
   "metadata": {},
   "outputs": [],
   "source": [
    "ss = StandardScaler()\n",
    "\n",
    "X = ss.fit_transform(X)"
   ]
  },
  {
   "cell_type": "markdown",
   "id": "09258b0a",
   "metadata": {},
   "source": [
    "#### 4. Train, test, split"
   ]
  },
  {
   "cell_type": "code",
   "execution_count": 187,
   "id": "c0475660",
   "metadata": {},
   "outputs": [],
   "source": [
    "X_train, X_test, y_train, y_test = train_test_split(X, y, random_state = 42, stratify = y)"
   ]
  },
  {
   "cell_type": "markdown",
   "id": "808047b5",
   "metadata": {},
   "source": [
    "#### 5. Instantiate, fit, evaluate"
   ]
  },
  {
   "cell_type": "code",
   "execution_count": 188,
   "id": "d42ecd4e",
   "metadata": {},
   "outputs": [
    {
     "name": "stdout",
     "output_type": "stream",
     "text": [
      "0.6923421406180027 0.6523489932885906\n"
     ]
    }
   ],
   "source": [
    "with warnings.catch_warnings():\n",
    "    warnings.simplefilter(\"ignore\", category = FutureWarning)\n",
    "\n",
    "# Instantiate\n",
    "    knn = KNeighborsClassifier(n_neighbors = 33)\n",
    "\n",
    "# Fit\n",
    "    knn.fit(X_train, y_train)\n",
    "\n",
    "# Evaluate\n",
    "    print(knn.score(X_train, y_train), knn.score(X_test, y_test))"
   ]
  },
  {
   "cell_type": "code",
   "execution_count": 189,
   "id": "06c24672",
   "metadata": {},
   "outputs": [
    {
     "data": {
      "image/png": "[encoded data removed]",
      "text/plain": [
       "<Figure size 640x480 with 2 Axes>"
      ]
     },
     "metadata": {},
     "output_type": "display_data"
    }
   ],
   "source": [
    "with warnings.catch_warnings():\n",
    "    warnings.simplefilter(\"ignore\", category = FutureWarning)\n",
    "\n",
    "    ConfusionMatrixDisplay.from_estimator(knn, X_test, y_test, normalize = 'pred');"
   ]
  },
  {
   "cell_type": "code",
   "execution_count": 190,
   "id": "8f15ae74",
   "metadata": {},
   "outputs": [],
   "source": [
    "with warnings.catch_warnings():\n",
    "    warnings.simplefilter(\"ignore\", category = FutureWarning)\n",
    "\n",
    "    preds = knn.predict(X_test) #generates predictions"
   ]
  },
  {
   "cell_type": "code",
   "execution_count": 191,
   "id": "4ccae78e",
   "metadata": {},
   "outputs": [
    {
     "data": {
      "text/plain": [
       "array([327, 110, 149, 159])"
      ]
     },
     "execution_count": 191,
     "metadata": {},
     "output_type": "execute_result"
    }
   ],
   "source": [
    "confusion_matrix(y_test, preds).ravel()"
   ]
  },
  {
   "cell_type": "code",
   "execution_count": 192,
   "id": "9099b6a4",
   "metadata": {},
   "outputs": [],
   "source": [
    "tn, fp, fn, tp = confusion_matrix(y_test, preds).ravel()"
   ]
  },
  {
   "cell_type": "code",
   "execution_count": 193,
   "id": "9cb411d1",
   "metadata": {},
   "outputs": [
    {
     "data": {
      "text/plain": [
       "(327, 110, 149, 159)"
      ]
     },
     "execution_count": 193,
     "metadata": {},
     "output_type": "execute_result"
    }
   ],
   "source": [
    "tn, fp, fn, tp #(true negative, false positive, false negative, true positive)"
   ]
  },
  {
   "cell_type": "code",
   "execution_count": 194,
   "id": "f93dd3ef",
   "metadata": {},
   "outputs": [
    {
     "name": "stdout",
     "output_type": "stream",
     "text": [
      "Specificity:  0.7482837528604119\n",
      "Sensitivity:  0.5162337662337663\n",
      "Precision:  0.5910780669144982\n",
      "F1:  0.5511265164644715\n"
     ]
    }
   ],
   "source": [
    "specificity = tn / (tn + fp)\n",
    "sensitivity = tp / (tp + fn)\n",
    "precision = tp / (tp + fp)\n",
    "f1 = 2 * (precision*sensitivity) / (precision+sensitivity)\n",
    "\n",
    "\n",
    "print (\"Specificity: \", specificity)\n",
    "print (\"Sensitivity: \", sensitivity)\n",
    "print (\"Precision: \", precision)\n",
    "print (\"F1: \", f1)"
   ]
  },
  {
   "cell_type": "markdown",
   "id": "8201f4d3",
   "metadata": {},
   "source": [
    "##### Discussion"
   ]
  },
  {
   "cell_type": "markdown",
   "id": "80f003ef",
   "metadata": {},
   "source": [
    "I tested many k values, and most led to a sensitivity score of less than 0.5. Even with the k value selected above, the F1 score does not exceed baseline.\n",
    "\n",
    "This model cannot be used effectively to predict prevalence of diabetes."
   ]
  },
  {
   "cell_type": "markdown",
   "id": "be336e45",
   "metadata": {},
   "source": [
    "## Taxes"
   ]
  },
  {
   "cell_type": "code",
   "execution_count": 195,
   "id": "74c6c9de",
   "metadata": {},
   "outputs": [],
   "source": [
    "file_path = '../data/FoodEnvironmentAtlas.xls.TAXES_Modeling.csv'\n",
    "\n",
    "taxes = pd.read_csv(file_path)"
   ]
  },
  {
   "cell_type": "code",
   "execution_count": 196,
   "id": "ee41a104",
   "metadata": {},
   "outputs": [
    {
     "data": {
      "text/html": [
       "<div>\n",
       "<style scoped>\n",
       "    .dataframe tbody tr th:only-of-type {\n",
       "        vertical-align: middle;\n",
       "    }\n",
       "\n",
       "    .dataframe tbody tr th {\n",
       "        vertical-align: top;\n",
       "    }\n",
       "\n",
       "    .dataframe thead th {\n",
       "        text-align: right;\n",
       "    }\n",
       "</style>\n",
       "<table border=\"1\" class=\"dataframe\">\n",
       "  <thead>\n",
       "    <tr style=\"text-align: right;\">\n",
       "      <th></th>\n",
       "      <th>fips</th>\n",
       "      <th>state</th>\n",
       "      <th>county</th>\n",
       "      <th>sodatax_stores14</th>\n",
       "      <th>sodatax_vendm14</th>\n",
       "      <th>chipstax_stores14</th>\n",
       "      <th>chipstax_vendm14</th>\n",
       "      <th>food_tax14</th>\n",
       "      <th>pct_diabetes18</th>\n",
       "      <th>class</th>\n",
       "    </tr>\n",
       "  </thead>\n",
       "  <tbody>\n",
       "    <tr>\n",
       "      <th>0</th>\n",
       "      <td>1001</td>\n",
       "      <td>AL</td>\n",
       "      <td>Autauga</td>\n",
       "      <td>4.0</td>\n",
       "      <td>4.0</td>\n",
       "      <td>4.0</td>\n",
       "      <td>4.0</td>\n",
       "      <td>4.0</td>\n",
       "      <td>9.5</td>\n",
       "      <td>1.0</td>\n",
       "    </tr>\n",
       "    <tr>\n",
       "      <th>1</th>\n",
       "      <td>1003</td>\n",
       "      <td>AL</td>\n",
       "      <td>Baldwin</td>\n",
       "      <td>4.0</td>\n",
       "      <td>4.0</td>\n",
       "      <td>4.0</td>\n",
       "      <td>4.0</td>\n",
       "      <td>4.0</td>\n",
       "      <td>8.4</td>\n",
       "      <td>0.0</td>\n",
       "    </tr>\n",
       "    <tr>\n",
       "      <th>2</th>\n",
       "      <td>1005</td>\n",
       "      <td>AL</td>\n",
       "      <td>Barbour</td>\n",
       "      <td>4.0</td>\n",
       "      <td>4.0</td>\n",
       "      <td>4.0</td>\n",
       "      <td>4.0</td>\n",
       "      <td>4.0</td>\n",
       "      <td>13.5</td>\n",
       "      <td>1.0</td>\n",
       "    </tr>\n",
       "    <tr>\n",
       "      <th>3</th>\n",
       "      <td>1007</td>\n",
       "      <td>AL</td>\n",
       "      <td>Bibb</td>\n",
       "      <td>4.0</td>\n",
       "      <td>4.0</td>\n",
       "      <td>4.0</td>\n",
       "      <td>4.0</td>\n",
       "      <td>4.0</td>\n",
       "      <td>10.2</td>\n",
       "      <td>1.0</td>\n",
       "    </tr>\n",
       "    <tr>\n",
       "      <th>4</th>\n",
       "      <td>1009</td>\n",
       "      <td>AL</td>\n",
       "      <td>Blount</td>\n",
       "      <td>4.0</td>\n",
       "      <td>4.0</td>\n",
       "      <td>4.0</td>\n",
       "      <td>4.0</td>\n",
       "      <td>4.0</td>\n",
       "      <td>10.5</td>\n",
       "      <td>1.0</td>\n",
       "    </tr>\n",
       "  </tbody>\n",
       "</table>\n",
       "</div>"
      ],
      "text/plain": [
       "   fips state   county  sodatax_stores14  sodatax_vendm14  chipstax_stores14  \\\n",
       "0  1001    AL  Autauga               4.0              4.0                4.0   \n",
       "1  1003    AL  Baldwin               4.0              4.0                4.0   \n",
       "2  1005    AL  Barbour               4.0              4.0                4.0   \n",
       "3  1007    AL     Bibb               4.0              4.0                4.0   \n",
       "4  1009    AL   Blount               4.0              4.0                4.0   \n",
       "\n",
       "   chipstax_vendm14  food_tax14  pct_diabetes18  class  \n",
       "0               4.0         4.0             9.5    1.0  \n",
       "1               4.0         4.0             8.4    0.0  \n",
       "2               4.0         4.0            13.5    1.0  \n",
       "3               4.0         4.0            10.2    1.0  \n",
       "4               4.0         4.0            10.5    1.0  "
      ]
     },
     "execution_count": 196,
     "metadata": {},
     "output_type": "execute_result"
    }
   ],
   "source": [
    "taxes.head()"
   ]
  },
  {
   "cell_type": "code",
   "execution_count": 197,
   "id": "4d66108f",
   "metadata": {},
   "outputs": [
    {
     "data": {
      "text/html": [
       "<div>\n",
       "<style scoped>\n",
       "    .dataframe tbody tr th:only-of-type {\n",
       "        vertical-align: middle;\n",
       "    }\n",
       "\n",
       "    .dataframe tbody tr th {\n",
       "        vertical-align: top;\n",
       "    }\n",
       "\n",
       "    .dataframe thead th {\n",
       "        text-align: right;\n",
       "    }\n",
       "</style>\n",
       "<table border=\"1\" class=\"dataframe\">\n",
       "  <thead>\n",
       "    <tr style=\"text-align: right;\">\n",
       "      <th></th>\n",
       "      <th>fips</th>\n",
       "      <th>sodatax_stores14</th>\n",
       "      <th>sodatax_vendm14</th>\n",
       "      <th>chipstax_stores14</th>\n",
       "      <th>chipstax_vendm14</th>\n",
       "      <th>food_tax14</th>\n",
       "      <th>pct_diabetes18</th>\n",
       "      <th>class</th>\n",
       "    </tr>\n",
       "  </thead>\n",
       "  <tbody>\n",
       "    <tr>\n",
       "      <th>fips</th>\n",
       "      <td>1.000000</td>\n",
       "      <td>0.080223</td>\n",
       "      <td>0.164036</td>\n",
       "      <td>-0.039005</td>\n",
       "      <td>0.077601</td>\n",
       "      <td>-0.039005</td>\n",
       "      <td>-0.083778</td>\n",
       "      <td>-0.084537</td>\n",
       "    </tr>\n",
       "    <tr>\n",
       "      <th>sodatax_stores14</th>\n",
       "      <td>0.080223</td>\n",
       "      <td>1.000000</td>\n",
       "      <td>0.776077</td>\n",
       "      <td>0.205402</td>\n",
       "      <td>0.457413</td>\n",
       "      <td>0.205402</td>\n",
       "      <td>-0.011687</td>\n",
       "      <td>-0.012025</td>\n",
       "    </tr>\n",
       "    <tr>\n",
       "      <th>sodatax_vendm14</th>\n",
       "      <td>0.164036</td>\n",
       "      <td>0.776077</td>\n",
       "      <td>1.000000</td>\n",
       "      <td>0.162108</td>\n",
       "      <td>0.704764</td>\n",
       "      <td>0.162108</td>\n",
       "      <td>0.050979</td>\n",
       "      <td>0.037553</td>\n",
       "    </tr>\n",
       "    <tr>\n",
       "      <th>chipstax_stores14</th>\n",
       "      <td>-0.039005</td>\n",
       "      <td>0.205402</td>\n",
       "      <td>0.162108</td>\n",
       "      <td>1.000000</td>\n",
       "      <td>0.266015</td>\n",
       "      <td>1.000000</td>\n",
       "      <td>0.157554</td>\n",
       "      <td>0.121925</td>\n",
       "    </tr>\n",
       "    <tr>\n",
       "      <th>chipstax_vendm14</th>\n",
       "      <td>0.077601</td>\n",
       "      <td>0.457413</td>\n",
       "      <td>0.704764</td>\n",
       "      <td>0.266015</td>\n",
       "      <td>1.000000</td>\n",
       "      <td>0.266015</td>\n",
       "      <td>0.119217</td>\n",
       "      <td>0.093480</td>\n",
       "    </tr>\n",
       "    <tr>\n",
       "      <th>food_tax14</th>\n",
       "      <td>-0.039005</td>\n",
       "      <td>0.205402</td>\n",
       "      <td>0.162108</td>\n",
       "      <td>1.000000</td>\n",
       "      <td>0.266015</td>\n",
       "      <td>1.000000</td>\n",
       "      <td>0.157554</td>\n",
       "      <td>0.121925</td>\n",
       "    </tr>\n",
       "    <tr>\n",
       "      <th>pct_diabetes18</th>\n",
       "      <td>-0.083778</td>\n",
       "      <td>-0.011687</td>\n",
       "      <td>0.050979</td>\n",
       "      <td>0.157554</td>\n",
       "      <td>0.119217</td>\n",
       "      <td>0.157554</td>\n",
       "      <td>1.000000</td>\n",
       "      <td>0.799640</td>\n",
       "    </tr>\n",
       "    <tr>\n",
       "      <th>class</th>\n",
       "      <td>-0.084537</td>\n",
       "      <td>-0.012025</td>\n",
       "      <td>0.037553</td>\n",
       "      <td>0.121925</td>\n",
       "      <td>0.093480</td>\n",
       "      <td>0.121925</td>\n",
       "      <td>0.799640</td>\n",
       "      <td>1.000000</td>\n",
       "    </tr>\n",
       "  </tbody>\n",
       "</table>\n",
       "</div>"
      ],
      "text/plain": [
       "                       fips  sodatax_stores14  sodatax_vendm14  \\\n",
       "fips               1.000000          0.080223         0.164036   \n",
       "sodatax_stores14   0.080223          1.000000         0.776077   \n",
       "sodatax_vendm14    0.164036          0.776077         1.000000   \n",
       "chipstax_stores14 -0.039005          0.205402         0.162108   \n",
       "chipstax_vendm14   0.077601          0.457413         0.704764   \n",
       "food_tax14        -0.039005          0.205402         0.162108   \n",
       "pct_diabetes18    -0.083778         -0.011687         0.050979   \n",
       "class             -0.084537         -0.012025         0.037553   \n",
       "\n",
       "                   chipstax_stores14  chipstax_vendm14  food_tax14  \\\n",
       "fips                       -0.039005          0.077601   -0.039005   \n",
       "sodatax_stores14            0.205402          0.457413    0.205402   \n",
       "sodatax_vendm14             0.162108          0.704764    0.162108   \n",
       "chipstax_stores14           1.000000          0.266015    1.000000   \n",
       "chipstax_vendm14            0.266015          1.000000    0.266015   \n",
       "food_tax14                  1.000000          0.266015    1.000000   \n",
       "pct_diabetes18              0.157554          0.119217    0.157554   \n",
       "class                       0.121925          0.093480    0.121925   \n",
       "\n",
       "                   pct_diabetes18     class  \n",
       "fips                    -0.083778 -0.084537  \n",
       "sodatax_stores14        -0.011687 -0.012025  \n",
       "sodatax_vendm14          0.050979  0.037553  \n",
       "chipstax_stores14        0.157554  0.121925  \n",
       "chipstax_vendm14         0.119217  0.093480  \n",
       "food_tax14               0.157554  0.121925  \n",
       "pct_diabetes18           1.000000  0.799640  \n",
       "class                    0.799640  1.000000  "
      ]
     },
     "execution_count": 197,
     "metadata": {},
     "output_type": "execute_result"
    }
   ],
   "source": [
    "taxes.corr()"
   ]
  },
  {
   "cell_type": "markdown",
   "id": "778d1d1d",
   "metadata": {},
   "source": [
    "### KNN Classification"
   ]
  },
  {
   "cell_type": "markdown",
   "id": "9b1dc450",
   "metadata": {},
   "source": [
    "#### 1. Create X and y"
   ]
  },
  {
   "cell_type": "code",
   "execution_count": 198,
   "id": "21345fe4",
   "metadata": {},
   "outputs": [],
   "source": [
    "X = taxes.drop(columns = ['fips', 'state', 'county', 'pct_diabetes18', 'class'])\n",
    "\n",
    "y = taxes['class']"
   ]
  },
  {
   "cell_type": "markdown",
   "id": "9c65d486",
   "metadata": {},
   "source": [
    "#### 2. Determine baseline"
   ]
  },
  {
   "cell_type": "code",
   "execution_count": 199,
   "id": "c57b50ab",
   "metadata": {},
   "outputs": [
    {
     "data": {
      "text/plain": [
       "0.0    0.58275\n",
       "1.0    0.41725\n",
       "Name: class, dtype: float64"
      ]
     },
     "execution_count": 199,
     "metadata": {},
     "output_type": "execute_result"
    }
   ],
   "source": [
    "taxes['class'].value_counts(normalize = True)"
   ]
  },
  {
   "cell_type": "markdown",
   "id": "dcfd0d16",
   "metadata": {},
   "source": [
    "#### 3. Scale features"
   ]
  },
  {
   "cell_type": "code",
   "execution_count": 200,
   "id": "5dd6412b",
   "metadata": {},
   "outputs": [],
   "source": [
    "ss = StandardScaler()\n",
    "\n",
    "X = ss.fit_transform(X)"
   ]
  },
  {
   "cell_type": "markdown",
   "id": "d3ad8fac",
   "metadata": {},
   "source": [
    "#### 4. Train, test, split"
   ]
  },
  {
   "cell_type": "code",
   "execution_count": 201,
   "id": "de3a1762",
   "metadata": {},
   "outputs": [],
   "source": [
    "X_train, X_test, y_train, y_test = train_test_split(X, y, random_state= 42, stratify = y)"
   ]
  },
  {
   "cell_type": "markdown",
   "id": "5a04dd0e",
   "metadata": {},
   "source": [
    "#### 5. Instantiate, fit, evaluate"
   ]
  },
  {
   "cell_type": "code",
   "execution_count": 202,
   "id": "4dfdc7b1",
   "metadata": {},
   "outputs": [
    {
     "name": "stdout",
     "output_type": "stream",
     "text": [
      "0.6608658743633277 0.6552162849872774\n"
     ]
    }
   ],
   "source": [
    "with warnings.catch_warnings():\n",
    "    warnings.simplefilter(\"ignore\", category = FutureWarning)\n",
    "\n",
    "# Instantiate\n",
    "    knn = KNeighborsClassifier(n_neighbors = 17)\n",
    "\n",
    "# Fit\n",
    "    knn.fit(X_train, y_train)\n",
    "\n",
    "# Evaluate\n",
    "    print(knn.score(X_train, y_train), knn.score(X_test, y_test))"
   ]
  },
  {
   "cell_type": "code",
   "execution_count": 203,
   "id": "209f29b4",
   "metadata": {},
   "outputs": [
    {
     "data": {
      "image/png": "[encoded data removed]",
      "text/plain": [
       "<Figure size 640x480 with 2 Axes>"
      ]
     },
     "metadata": {},
     "output_type": "display_data"
    }
   ],
   "source": [
    "with warnings.catch_warnings():\n",
    "    warnings.simplefilter(\"ignore\", category = FutureWarning)\n",
    "\n",
    "    ConfusionMatrixDisplay.from_estimator(knn, X_test, y_test, normalize = 'pred');"
   ]
  },
  {
   "cell_type": "code",
   "execution_count": 204,
   "id": "5840ada4",
   "metadata": {},
   "outputs": [],
   "source": [
    "with warnings.catch_warnings():\n",
    "    warnings.simplefilter(\"ignore\", category = FutureWarning)\n",
    "\n",
    "    preds = knn.predict(X_test) #generates predictions"
   ]
  },
  {
   "cell_type": "code",
   "execution_count": 205,
   "id": "14a9abe2",
   "metadata": {},
   "outputs": [
    {
     "data": {
      "text/plain": [
       "array([334, 124, 147, 181])"
      ]
     },
     "execution_count": 205,
     "metadata": {},
     "output_type": "execute_result"
    }
   ],
   "source": [
    "confusion_matrix(y_test, preds).ravel()"
   ]
  },
  {
   "cell_type": "code",
   "execution_count": 206,
   "id": "9753e90d",
   "metadata": {},
   "outputs": [],
   "source": [
    "tn, fp, fn, tp = confusion_matrix(y_test, preds).ravel()"
   ]
  },
  {
   "cell_type": "code",
   "execution_count": 207,
   "id": "3c46c139",
   "metadata": {},
   "outputs": [
    {
     "data": {
      "text/plain": [
       "(334, 124, 147, 181)"
      ]
     },
     "execution_count": 207,
     "metadata": {},
     "output_type": "execute_result"
    }
   ],
   "source": [
    "tn, fp, fn, tp #(true negative, false positive, false negative, true positive)"
   ]
  },
  {
   "cell_type": "markdown",
   "id": "b42a9837",
   "metadata": {},
   "source": [
    "##### Accuracy (pre-determined above)"
   ]
  },
  {
   "cell_type": "code",
   "execution_count": 208,
   "id": "670a39c6",
   "metadata": {},
   "outputs": [
    {
     "name": "stdout",
     "output_type": "stream",
     "text": [
      "0.6552162849872774\n"
     ]
    }
   ],
   "source": [
    "with warnings.catch_warnings():\n",
    "    warnings.simplefilter(\"ignore\", category = FutureWarning)\n",
    "    \n",
    "    print(knn.score(X_test, y_test))"
   ]
  },
  {
   "cell_type": "markdown",
   "id": "b84231f2",
   "metadata": {},
   "source": [
    "##### Additional Metrics"
   ]
  },
  {
   "cell_type": "code",
   "execution_count": 209,
   "id": "86f0b838",
   "metadata": {},
   "outputs": [
    {
     "name": "stdout",
     "output_type": "stream",
     "text": [
      "Specificity:  0.7292576419213974\n",
      "Sensitivity:  0.551829268292683\n",
      "Precision:  0.5934426229508196\n",
      "F1:  0.5718799368088467\n"
     ]
    }
   ],
   "source": [
    "specificity = tn / (tn + fp)\n",
    "sensitivity = tp / (tp + fn)\n",
    "precision = tp / (tp + fp)\n",
    "f1 = 2 * (precision*sensitivity) / (precision+sensitivity)\n",
    "\n",
    "\n",
    "print (\"Specificity: \", specificity)\n",
    "print (\"Sensitivity: \", sensitivity)\n",
    "print (\"Precision: \", precision)\n",
    "print (\"F1: \", f1)"
   ]
  },
  {
   "cell_type": "markdown",
   "id": "7d4055ac",
   "metadata": {},
   "source": [
    "#### Discussion"
   ]
  },
  {
   "cell_type": "markdown",
   "id": "7e854ee5",
   "metadata": {},
   "source": [
    "After many attempts to find the optimal k-value, this model's F1 score still does not exceed baseline.\n",
    "\n",
    "This model cannot be used effectively to predict prevalence of diabetes."
   ]
  },
  {
   "cell_type": "markdown",
   "id": "b6c6bcd0",
   "metadata": {},
   "source": [
    "### Summary"
   ]
  },
  {
   "cell_type": "markdown",
   "id": "eed231fc",
   "metadata": {},
   "source": [
    "There were two models whose F1 scores significantly exceed baseline: the ones created from the Health and Restaurants datasets respectively. The scores derived from these models were obtained easily, without any specific attempt to raise sensitivity/F1 scores. In contrast, I attempted many times to raise the sensitivity and F1 scores of the other datasets through changing the k-value. Following this, the F1 scores of the Assistance and Insecurity datasets also exceeded baseline at 0.623 each. While these scores are above baseline, I will focus on the Health and Restaurants datasets, which were shown to have even higher predictive power (0.706 and 0.675 respectively, following a Random Forest Classifier Grid Search.)\n",
    "\n",
    "The Health dataset incorporates information regarding number of mental health providers, use of mental health services, and the number of recreational facilities in the county. Meanwhile, the Restauarants dataset contains information about the number of full service and fast food restaurants, along with the per capita spending on each. This indicates that perhaps these should be target areas to address for any counties hoping to lower their prevalence of diabetes. "
   ]
  },
  {
   "cell_type": "markdown",
   "id": "6a06d92e",
   "metadata": {},
   "source": [
    "# Part II - Combining Datasets"
   ]
  },
  {
   "cell_type": "markdown",
   "id": "4d7bb11c",
   "metadata": {},
   "source": [
    "As it has been established that the Health and Restaurants datasets can be predictive of diabetes prevalence in counties, my next step will be to see if their combined usage leads to increaed predictive power.\n",
    "\n",
    "In order to do this, I will combine the two datasets into one, and then use Random Forest Classification with a Grid Search."
   ]
  },
  {
   "cell_type": "markdown",
   "id": "c575034d",
   "metadata": {},
   "source": [
    "### Combining Health & Restaurant Datasets"
   ]
  },
  {
   "cell_type": "code",
   "execution_count": 210,
   "id": "39966082",
   "metadata": {},
   "outputs": [
    {
     "data": {
      "text/html": [
       "<div>\n",
       "<style scoped>\n",
       "    .dataframe tbody tr th:only-of-type {\n",
       "        vertical-align: middle;\n",
       "    }\n",
       "\n",
       "    .dataframe tbody tr th {\n",
       "        vertical-align: top;\n",
       "    }\n",
       "\n",
       "    .dataframe thead th {\n",
       "        text-align: right;\n",
       "    }\n",
       "</style>\n",
       "<table border=\"1\" class=\"dataframe\">\n",
       "  <thead>\n",
       "    <tr style=\"text-align: right;\">\n",
       "      <th></th>\n",
       "      <th>fips</th>\n",
       "      <th>state</th>\n",
       "      <th>county</th>\n",
       "      <th>recfac11</th>\n",
       "      <th>recfac16</th>\n",
       "      <th>recfacpth11</th>\n",
       "      <th>recfacpth16</th>\n",
       "      <th>pct_mhs18</th>\n",
       "      <th>pct_mhs1825</th>\n",
       "      <th>pct_mhs26</th>\n",
       "      <th>...</th>\n",
       "      <th>fsr11</th>\n",
       "      <th>fsr16</th>\n",
       "      <th>fsrpth11</th>\n",
       "      <th>fsrpth16</th>\n",
       "      <th>pc_ffrsales07</th>\n",
       "      <th>pc_ffrsales12</th>\n",
       "      <th>pc_fsrsales07</th>\n",
       "      <th>pc_fsrsales12</th>\n",
       "      <th>pct_diabetes18</th>\n",
       "      <th>class</th>\n",
       "    </tr>\n",
       "  </thead>\n",
       "  <tbody>\n",
       "    <tr>\n",
       "      <th>0</th>\n",
       "      <td>1001</td>\n",
       "      <td>AL</td>\n",
       "      <td>Autauga</td>\n",
       "      <td>4</td>\n",
       "      <td>6</td>\n",
       "      <td>0.072465</td>\n",
       "      <td>0.108542</td>\n",
       "      <td>13.0</td>\n",
       "      <td>11.0</td>\n",
       "      <td>13.0</td>\n",
       "      <td>...</td>\n",
       "      <td>32</td>\n",
       "      <td>31</td>\n",
       "      <td>0.579721</td>\n",
       "      <td>0.560802</td>\n",
       "      <td>649.511367</td>\n",
       "      <td>674.80272</td>\n",
       "      <td>484.381507</td>\n",
       "      <td>512.280987</td>\n",
       "      <td>9.5</td>\n",
       "      <td>1.0</td>\n",
       "    </tr>\n",
       "    <tr>\n",
       "      <th>1</th>\n",
       "      <td>1003</td>\n",
       "      <td>AL</td>\n",
       "      <td>Baldwin</td>\n",
       "      <td>16</td>\n",
       "      <td>21</td>\n",
       "      <td>0.085775</td>\n",
       "      <td>0.101200</td>\n",
       "      <td>13.0</td>\n",
       "      <td>11.0</td>\n",
       "      <td>13.0</td>\n",
       "      <td>...</td>\n",
       "      <td>216</td>\n",
       "      <td>236</td>\n",
       "      <td>1.157966</td>\n",
       "      <td>1.137300</td>\n",
       "      <td>649.511367</td>\n",
       "      <td>674.80272</td>\n",
       "      <td>484.381507</td>\n",
       "      <td>512.280987</td>\n",
       "      <td>8.4</td>\n",
       "      <td>0.0</td>\n",
       "    </tr>\n",
       "    <tr>\n",
       "      <th>2</th>\n",
       "      <td>1005</td>\n",
       "      <td>AL</td>\n",
       "      <td>Barbour</td>\n",
       "      <td>2</td>\n",
       "      <td>0</td>\n",
       "      <td>0.073123</td>\n",
       "      <td>0.000000</td>\n",
       "      <td>13.0</td>\n",
       "      <td>11.0</td>\n",
       "      <td>13.0</td>\n",
       "      <td>...</td>\n",
       "      <td>17</td>\n",
       "      <td>14</td>\n",
       "      <td>0.621549</td>\n",
       "      <td>0.543183</td>\n",
       "      <td>649.511367</td>\n",
       "      <td>674.80272</td>\n",
       "      <td>484.381507</td>\n",
       "      <td>512.280987</td>\n",
       "      <td>13.5</td>\n",
       "      <td>1.0</td>\n",
       "    </tr>\n",
       "    <tr>\n",
       "      <th>3</th>\n",
       "      <td>1007</td>\n",
       "      <td>AL</td>\n",
       "      <td>Bibb</td>\n",
       "      <td>0</td>\n",
       "      <td>1</td>\n",
       "      <td>0.000000</td>\n",
       "      <td>0.044183</td>\n",
       "      <td>13.0</td>\n",
       "      <td>11.0</td>\n",
       "      <td>13.0</td>\n",
       "      <td>...</td>\n",
       "      <td>5</td>\n",
       "      <td>7</td>\n",
       "      <td>0.219829</td>\n",
       "      <td>0.309283</td>\n",
       "      <td>649.511367</td>\n",
       "      <td>674.80272</td>\n",
       "      <td>484.381507</td>\n",
       "      <td>512.280987</td>\n",
       "      <td>10.2</td>\n",
       "      <td>1.0</td>\n",
       "    </tr>\n",
       "    <tr>\n",
       "      <th>4</th>\n",
       "      <td>1009</td>\n",
       "      <td>AL</td>\n",
       "      <td>Blount</td>\n",
       "      <td>3</td>\n",
       "      <td>4</td>\n",
       "      <td>0.052118</td>\n",
       "      <td>0.069490</td>\n",
       "      <td>13.0</td>\n",
       "      <td>11.0</td>\n",
       "      <td>13.0</td>\n",
       "      <td>...</td>\n",
       "      <td>15</td>\n",
       "      <td>12</td>\n",
       "      <td>0.260589</td>\n",
       "      <td>0.208471</td>\n",
       "      <td>649.511367</td>\n",
       "      <td>674.80272</td>\n",
       "      <td>484.381507</td>\n",
       "      <td>512.280987</td>\n",
       "      <td>10.5</td>\n",
       "      <td>1.0</td>\n",
       "    </tr>\n",
       "  </tbody>\n",
       "</table>\n",
       "<p>5 rows × 33 columns</p>\n",
       "</div>"
      ],
      "text/plain": [
       "   fips state   county  recfac11  recfac16  recfacpth11  recfacpth16  \\\n",
       "0  1001    AL  Autauga         4         6     0.072465     0.108542   \n",
       "1  1003    AL  Baldwin        16        21     0.085775     0.101200   \n",
       "2  1005    AL  Barbour         2         0     0.073123     0.000000   \n",
       "3  1007    AL     Bibb         0         1     0.000000     0.044183   \n",
       "4  1009    AL   Blount         3         4     0.052118     0.069490   \n",
       "\n",
       "   pct_mhs18  pct_mhs1825  pct_mhs26  ...  fsr11  fsr16  fsrpth11  fsrpth16  \\\n",
       "0       13.0         11.0       13.0  ...     32     31  0.579721  0.560802   \n",
       "1       13.0         11.0       13.0  ...    216    236  1.157966  1.137300   \n",
       "2       13.0         11.0       13.0  ...     17     14  0.621549  0.543183   \n",
       "3       13.0         11.0       13.0  ...      5      7  0.219829  0.309283   \n",
       "4       13.0         11.0       13.0  ...     15     12  0.260589  0.208471   \n",
       "\n",
       "   pc_ffrsales07  pc_ffrsales12  pc_fsrsales07 pc_fsrsales12 pct_diabetes18  \\\n",
       "0     649.511367      674.80272     484.381507    512.280987            9.5   \n",
       "1     649.511367      674.80272     484.381507    512.280987            8.4   \n",
       "2     649.511367      674.80272     484.381507    512.280987           13.5   \n",
       "3     649.511367      674.80272     484.381507    512.280987           10.2   \n",
       "4     649.511367      674.80272     484.381507    512.280987           10.5   \n",
       "\n",
       "   class  \n",
       "0    1.0  \n",
       "1    0.0  \n",
       "2    1.0  \n",
       "3    1.0  \n",
       "4    1.0  \n",
       "\n",
       "[5 rows x 33 columns]"
      ]
     },
     "execution_count": 210,
     "metadata": {},
     "output_type": "execute_result"
    }
   ],
   "source": [
    "health_restaurants = pd.concat([health, restaurants], axis = 1)\n",
    "\n",
    "health_restaurants.head()"
   ]
  },
  {
   "cell_type": "code",
   "execution_count": 211,
   "id": "f969fbb9",
   "metadata": {},
   "outputs": [
    {
     "data": {
      "text/html": [
       "<div>\n",
       "<style scoped>\n",
       "    .dataframe tbody tr th:only-of-type {\n",
       "        vertical-align: middle;\n",
       "    }\n",
       "\n",
       "    .dataframe tbody tr th {\n",
       "        vertical-align: top;\n",
       "    }\n",
       "\n",
       "    .dataframe thead th {\n",
       "        text-align: right;\n",
       "    }\n",
       "</style>\n",
       "<table border=\"1\" class=\"dataframe\">\n",
       "  <thead>\n",
       "    <tr style=\"text-align: right;\">\n",
       "      <th></th>\n",
       "      <th>ffr11</th>\n",
       "      <th>ffr16</th>\n",
       "      <th>ffrpth11</th>\n",
       "      <th>ffrpth16</th>\n",
       "      <th>fsr11</th>\n",
       "      <th>fsr16</th>\n",
       "      <th>fsrpth11</th>\n",
       "      <th>fsrpth16</th>\n",
       "      <th>pc_ffrsales07</th>\n",
       "      <th>pc_ffrsales12</th>\n",
       "      <th>pc_fsrsales07</th>\n",
       "      <th>pc_fsrsales12</th>\n",
       "    </tr>\n",
       "  </thead>\n",
       "  <tbody>\n",
       "    <tr>\n",
       "      <th>0</th>\n",
       "      <td>34</td>\n",
       "      <td>44</td>\n",
       "      <td>0.615953</td>\n",
       "      <td>0.795977</td>\n",
       "      <td>32</td>\n",
       "      <td>31</td>\n",
       "      <td>0.579721</td>\n",
       "      <td>0.560802</td>\n",
       "      <td>649.511367</td>\n",
       "      <td>674.80272</td>\n",
       "      <td>484.381507</td>\n",
       "      <td>512.280987</td>\n",
       "    </tr>\n",
       "    <tr>\n",
       "      <th>1</th>\n",
       "      <td>121</td>\n",
       "      <td>156</td>\n",
       "      <td>0.648675</td>\n",
       "      <td>0.751775</td>\n",
       "      <td>216</td>\n",
       "      <td>236</td>\n",
       "      <td>1.157966</td>\n",
       "      <td>1.137300</td>\n",
       "      <td>649.511367</td>\n",
       "      <td>674.80272</td>\n",
       "      <td>484.381507</td>\n",
       "      <td>512.280987</td>\n",
       "    </tr>\n",
       "    <tr>\n",
       "      <th>2</th>\n",
       "      <td>19</td>\n",
       "      <td>23</td>\n",
       "      <td>0.694673</td>\n",
       "      <td>0.892372</td>\n",
       "      <td>17</td>\n",
       "      <td>14</td>\n",
       "      <td>0.621549</td>\n",
       "      <td>0.543183</td>\n",
       "      <td>649.511367</td>\n",
       "      <td>674.80272</td>\n",
       "      <td>484.381507</td>\n",
       "      <td>512.280987</td>\n",
       "    </tr>\n",
       "    <tr>\n",
       "      <th>3</th>\n",
       "      <td>6</td>\n",
       "      <td>7</td>\n",
       "      <td>0.263794</td>\n",
       "      <td>0.309283</td>\n",
       "      <td>5</td>\n",
       "      <td>7</td>\n",
       "      <td>0.219829</td>\n",
       "      <td>0.309283</td>\n",
       "      <td>649.511367</td>\n",
       "      <td>674.80272</td>\n",
       "      <td>484.381507</td>\n",
       "      <td>512.280987</td>\n",
       "    </tr>\n",
       "    <tr>\n",
       "      <th>4</th>\n",
       "      <td>20</td>\n",
       "      <td>23</td>\n",
       "      <td>0.347451</td>\n",
       "      <td>0.399569</td>\n",
       "      <td>15</td>\n",
       "      <td>12</td>\n",
       "      <td>0.260589</td>\n",
       "      <td>0.208471</td>\n",
       "      <td>649.511367</td>\n",
       "      <td>674.80272</td>\n",
       "      <td>484.381507</td>\n",
       "      <td>512.280987</td>\n",
       "    </tr>\n",
       "  </tbody>\n",
       "</table>\n",
       "</div>"
      ],
      "text/plain": [
       "   ffr11  ffr16  ffrpth11  ffrpth16  fsr11  fsr16  fsrpth11  fsrpth16  \\\n",
       "0     34     44  0.615953  0.795977     32     31  0.579721  0.560802   \n",
       "1    121    156  0.648675  0.751775    216    236  1.157966  1.137300   \n",
       "2     19     23  0.694673  0.892372     17     14  0.621549  0.543183   \n",
       "3      6      7  0.263794  0.309283      5      7  0.219829  0.309283   \n",
       "4     20     23  0.347451  0.399569     15     12  0.260589  0.208471   \n",
       "\n",
       "   pc_ffrsales07  pc_ffrsales12  pc_fsrsales07  pc_fsrsales12  \n",
       "0     649.511367      674.80272     484.381507     512.280987  \n",
       "1     649.511367      674.80272     484.381507     512.280987  \n",
       "2     649.511367      674.80272     484.381507     512.280987  \n",
       "3     649.511367      674.80272     484.381507     512.280987  \n",
       "4     649.511367      674.80272     484.381507     512.280987  "
      ]
     },
     "execution_count": 211,
     "metadata": {},
     "output_type": "execute_result"
    }
   ],
   "source": [
    "restaurants_copy = restaurants.drop(columns = ['fips', 'state', 'county', 'pct_diabetes18', 'class'] )\n",
    "\n",
    "restaurants_copy.head()"
   ]
  },
  {
   "cell_type": "markdown",
   "id": "496e162b",
   "metadata": {},
   "source": [
    "I can now combine this with the Health dataset."
   ]
  },
  {
   "cell_type": "code",
   "execution_count": 212,
   "id": "1dea4c29",
   "metadata": {},
   "outputs": [
    {
     "data": {
      "text/html": [
       "<div>\n",
       "<style scoped>\n",
       "    .dataframe tbody tr th:only-of-type {\n",
       "        vertical-align: middle;\n",
       "    }\n",
       "\n",
       "    .dataframe tbody tr th {\n",
       "        vertical-align: top;\n",
       "    }\n",
       "\n",
       "    .dataframe thead th {\n",
       "        text-align: right;\n",
       "    }\n",
       "</style>\n",
       "<table border=\"1\" class=\"dataframe\">\n",
       "  <thead>\n",
       "    <tr style=\"text-align: right;\">\n",
       "      <th></th>\n",
       "      <th>fips</th>\n",
       "      <th>state</th>\n",
       "      <th>county</th>\n",
       "      <th>recfac11</th>\n",
       "      <th>recfac16</th>\n",
       "      <th>recfacpth11</th>\n",
       "      <th>recfacpth16</th>\n",
       "      <th>pct_mhs18</th>\n",
       "      <th>pct_mhs1825</th>\n",
       "      <th>pct_mhs26</th>\n",
       "      <th>...</th>\n",
       "      <th>ffrpth11</th>\n",
       "      <th>ffrpth16</th>\n",
       "      <th>fsr11</th>\n",
       "      <th>fsr16</th>\n",
       "      <th>fsrpth11</th>\n",
       "      <th>fsrpth16</th>\n",
       "      <th>pc_ffrsales07</th>\n",
       "      <th>pc_ffrsales12</th>\n",
       "      <th>pc_fsrsales07</th>\n",
       "      <th>pc_fsrsales12</th>\n",
       "    </tr>\n",
       "  </thead>\n",
       "  <tbody>\n",
       "    <tr>\n",
       "      <th>0</th>\n",
       "      <td>1001</td>\n",
       "      <td>AL</td>\n",
       "      <td>Autauga</td>\n",
       "      <td>4</td>\n",
       "      <td>6</td>\n",
       "      <td>0.072465</td>\n",
       "      <td>0.108542</td>\n",
       "      <td>13.0</td>\n",
       "      <td>11.0</td>\n",
       "      <td>13.0</td>\n",
       "      <td>...</td>\n",
       "      <td>0.615953</td>\n",
       "      <td>0.795977</td>\n",
       "      <td>32</td>\n",
       "      <td>31</td>\n",
       "      <td>0.579721</td>\n",
       "      <td>0.560802</td>\n",
       "      <td>649.511367</td>\n",
       "      <td>674.80272</td>\n",
       "      <td>484.381507</td>\n",
       "      <td>512.280987</td>\n",
       "    </tr>\n",
       "    <tr>\n",
       "      <th>1</th>\n",
       "      <td>1003</td>\n",
       "      <td>AL</td>\n",
       "      <td>Baldwin</td>\n",
       "      <td>16</td>\n",
       "      <td>21</td>\n",
       "      <td>0.085775</td>\n",
       "      <td>0.101200</td>\n",
       "      <td>13.0</td>\n",
       "      <td>11.0</td>\n",
       "      <td>13.0</td>\n",
       "      <td>...</td>\n",
       "      <td>0.648675</td>\n",
       "      <td>0.751775</td>\n",
       "      <td>216</td>\n",
       "      <td>236</td>\n",
       "      <td>1.157966</td>\n",
       "      <td>1.137300</td>\n",
       "      <td>649.511367</td>\n",
       "      <td>674.80272</td>\n",
       "      <td>484.381507</td>\n",
       "      <td>512.280987</td>\n",
       "    </tr>\n",
       "    <tr>\n",
       "      <th>2</th>\n",
       "      <td>1005</td>\n",
       "      <td>AL</td>\n",
       "      <td>Barbour</td>\n",
       "      <td>2</td>\n",
       "      <td>0</td>\n",
       "      <td>0.073123</td>\n",
       "      <td>0.000000</td>\n",
       "      <td>13.0</td>\n",
       "      <td>11.0</td>\n",
       "      <td>13.0</td>\n",
       "      <td>...</td>\n",
       "      <td>0.694673</td>\n",
       "      <td>0.892372</td>\n",
       "      <td>17</td>\n",
       "      <td>14</td>\n",
       "      <td>0.621549</td>\n",
       "      <td>0.543183</td>\n",
       "      <td>649.511367</td>\n",
       "      <td>674.80272</td>\n",
       "      <td>484.381507</td>\n",
       "      <td>512.280987</td>\n",
       "    </tr>\n",
       "    <tr>\n",
       "      <th>3</th>\n",
       "      <td>1007</td>\n",
       "      <td>AL</td>\n",
       "      <td>Bibb</td>\n",
       "      <td>0</td>\n",
       "      <td>1</td>\n",
       "      <td>0.000000</td>\n",
       "      <td>0.044183</td>\n",
       "      <td>13.0</td>\n",
       "      <td>11.0</td>\n",
       "      <td>13.0</td>\n",
       "      <td>...</td>\n",
       "      <td>0.263794</td>\n",
       "      <td>0.309283</td>\n",
       "      <td>5</td>\n",
       "      <td>7</td>\n",
       "      <td>0.219829</td>\n",
       "      <td>0.309283</td>\n",
       "      <td>649.511367</td>\n",
       "      <td>674.80272</td>\n",
       "      <td>484.381507</td>\n",
       "      <td>512.280987</td>\n",
       "    </tr>\n",
       "    <tr>\n",
       "      <th>4</th>\n",
       "      <td>1009</td>\n",
       "      <td>AL</td>\n",
       "      <td>Blount</td>\n",
       "      <td>3</td>\n",
       "      <td>4</td>\n",
       "      <td>0.052118</td>\n",
       "      <td>0.069490</td>\n",
       "      <td>13.0</td>\n",
       "      <td>11.0</td>\n",
       "      <td>13.0</td>\n",
       "      <td>...</td>\n",
       "      <td>0.347451</td>\n",
       "      <td>0.399569</td>\n",
       "      <td>15</td>\n",
       "      <td>12</td>\n",
       "      <td>0.260589</td>\n",
       "      <td>0.208471</td>\n",
       "      <td>649.511367</td>\n",
       "      <td>674.80272</td>\n",
       "      <td>484.381507</td>\n",
       "      <td>512.280987</td>\n",
       "    </tr>\n",
       "  </tbody>\n",
       "</table>\n",
       "<p>5 rows × 28 columns</p>\n",
       "</div>"
      ],
      "text/plain": [
       "   fips state   county  recfac11  recfac16  recfacpth11  recfacpth16  \\\n",
       "0  1001    AL  Autauga         4         6     0.072465     0.108542   \n",
       "1  1003    AL  Baldwin        16        21     0.085775     0.101200   \n",
       "2  1005    AL  Barbour         2         0     0.073123     0.000000   \n",
       "3  1007    AL     Bibb         0         1     0.000000     0.044183   \n",
       "4  1009    AL   Blount         3         4     0.052118     0.069490   \n",
       "\n",
       "   pct_mhs18  pct_mhs1825  pct_mhs26  ...  ffrpth11  ffrpth16  fsr11  fsr16  \\\n",
       "0       13.0         11.0       13.0  ...  0.615953  0.795977     32     31   \n",
       "1       13.0         11.0       13.0  ...  0.648675  0.751775    216    236   \n",
       "2       13.0         11.0       13.0  ...  0.694673  0.892372     17     14   \n",
       "3       13.0         11.0       13.0  ...  0.263794  0.309283      5      7   \n",
       "4       13.0         11.0       13.0  ...  0.347451  0.399569     15     12   \n",
       "\n",
       "   fsrpth11  fsrpth16  pc_ffrsales07  pc_ffrsales12  pc_fsrsales07  \\\n",
       "0  0.579721  0.560802     649.511367      674.80272     484.381507   \n",
       "1  1.157966  1.137300     649.511367      674.80272     484.381507   \n",
       "2  0.621549  0.543183     649.511367      674.80272     484.381507   \n",
       "3  0.219829  0.309283     649.511367      674.80272     484.381507   \n",
       "4  0.260589  0.208471     649.511367      674.80272     484.381507   \n",
       "\n",
       "   pc_fsrsales12  \n",
       "0     512.280987  \n",
       "1     512.280987  \n",
       "2     512.280987  \n",
       "3     512.280987  \n",
       "4     512.280987  \n",
       "\n",
       "[5 rows x 28 columns]"
      ]
     },
     "execution_count": 212,
     "metadata": {},
     "output_type": "execute_result"
    }
   ],
   "source": [
    "health_restaurants = pd.concat([health, restaurants_copy], axis=1)\n",
    "\n",
    "health_restaurants.head()"
   ]
  },
  {
   "cell_type": "code",
   "execution_count": 213,
   "id": "3a8b400e",
   "metadata": {},
   "outputs": [
    {
     "data": {
      "text/plain": [
       "Index(['fips', 'state', 'county', 'recfac11', 'recfac16', 'recfacpth11',\n",
       "       'recfacpth16', 'pct_mhs18', 'pct_mhs1825', 'pct_mhs26', 'rank18',\n",
       "       'per100th18', 'rank17', 'per100th17', 'pct_diabetes18', 'class',\n",
       "       'ffr11', 'ffr16', 'ffrpth11', 'ffrpth16', 'fsr11', 'fsr16', 'fsrpth11',\n",
       "       'fsrpth16', 'pc_ffrsales07', 'pc_ffrsales12', 'pc_fsrsales07',\n",
       "       'pc_fsrsales12'],\n",
       "      dtype='object')"
      ]
     },
     "execution_count": 213,
     "metadata": {},
     "output_type": "execute_result"
    }
   ],
   "source": [
    "health_restaurants.columns"
   ]
  },
  {
   "cell_type": "markdown",
   "id": "2548bf96",
   "metadata": {},
   "source": [
    "The columns are correct. I will check for null values."
   ]
  },
  {
   "cell_type": "code",
   "execution_count": 214,
   "id": "15938e55",
   "metadata": {},
   "outputs": [
    {
     "data": {
      "text/plain": [
       "fips              0\n",
       "state             0\n",
       "county            0\n",
       "recfac11          0\n",
       "recfac16          0\n",
       "recfacpth11       0\n",
       "recfacpth16       0\n",
       "pct_mhs18         0\n",
       "pct_mhs1825       0\n",
       "pct_mhs26         0\n",
       "rank18            0\n",
       "per100th18        0\n",
       "rank17            0\n",
       "per100th17        0\n",
       "pct_diabetes18    0\n",
       "class             0\n",
       "ffr11             0\n",
       "ffr16             0\n",
       "ffrpth11          0\n",
       "ffrpth16          0\n",
       "fsr11             0\n",
       "fsr16             0\n",
       "fsrpth11          0\n",
       "fsrpth16          0\n",
       "pc_ffrsales07     0\n",
       "pc_ffrsales12     0\n",
       "pc_fsrsales07     0\n",
       "pc_fsrsales12     0\n",
       "dtype: int64"
      ]
     },
     "execution_count": 214,
     "metadata": {},
     "output_type": "execute_result"
    }
   ],
   "source": [
    "health_restaurants.isnull().sum()"
   ]
  },
  {
   "cell_type": "markdown",
   "id": "392cdfa3",
   "metadata": {},
   "source": [
    "This appears correct. I will check the layout of the dataframe."
   ]
  },
  {
   "cell_type": "code",
   "execution_count": 215,
   "id": "690a03b5",
   "metadata": {},
   "outputs": [
    {
     "data": {
      "text/plain": [
       "(3142, 28)"
      ]
     },
     "execution_count": 215,
     "metadata": {},
     "output_type": "execute_result"
    }
   ],
   "source": [
    "health_restaurants.shape"
   ]
  },
  {
   "cell_type": "markdown",
   "id": "0dbdc11a",
   "metadata": {},
   "source": [
    "Both datasets contained all 3,142 counties, so this shape is correct.\n",
    "\n",
    "I will now create the Random Forest Classifier."
   ]
  },
  {
   "cell_type": "markdown",
   "id": "03c04530",
   "metadata": {},
   "source": [
    "### Random Forest Classifier"
   ]
  },
  {
   "cell_type": "markdown",
   "id": "c1210e18",
   "metadata": {},
   "source": [
    "#### 1. Create X and y"
   ]
  },
  {
   "cell_type": "code",
   "execution_count": 216,
   "id": "0de0eb57",
   "metadata": {},
   "outputs": [],
   "source": [
    "X = health_restaurants.drop(columns = ['fips', 'state', 'county', 'pct_diabetes18', 'class'])\n",
    "\n",
    "y = health_restaurants['class']"
   ]
  },
  {
   "cell_type": "markdown",
   "id": "7a1fbc21",
   "metadata": {},
   "source": [
    "#### 2. Determine baseline"
   ]
  },
  {
   "cell_type": "code",
   "execution_count": 217,
   "id": "bddeb590",
   "metadata": {},
   "outputs": [
    {
     "data": {
      "text/plain": [
       "0.0    0.58275\n",
       "1.0    0.41725\n",
       "Name: class, dtype: float64"
      ]
     },
     "execution_count": 217,
     "metadata": {},
     "output_type": "execute_result"
    }
   ],
   "source": [
    "health_restaurants['class'].value_counts(normalize = True)"
   ]
  },
  {
   "cell_type": "markdown",
   "id": "e30026bb",
   "metadata": {},
   "source": [
    "Baseline is 0.583."
   ]
  },
  {
   "cell_type": "markdown",
   "id": "ab62aa03",
   "metadata": {},
   "source": [
    "#### 3. Scale features"
   ]
  },
  {
   "cell_type": "code",
   "execution_count": 218,
   "id": "958c0e2d",
   "metadata": {},
   "outputs": [],
   "source": [
    "ss = StandardScaler()\n",
    "\n",
    "X = ss.fit_transform(X)"
   ]
  },
  {
   "cell_type": "markdown",
   "id": "6f8fa856",
   "metadata": {},
   "source": [
    "#### 4. Train, test, split"
   ]
  },
  {
   "cell_type": "code",
   "execution_count": 219,
   "id": "82251f22",
   "metadata": {},
   "outputs": [],
   "source": [
    "X_train, X_test, y_train, y_test = train_test_split(X, y, random_state = 42)"
   ]
  },
  {
   "cell_type": "markdown",
   "id": "9e59ccbe",
   "metadata": {},
   "source": [
    "#### 5. Instantiate & fit a preliminary model"
   ]
  },
  {
   "cell_type": "code",
   "execution_count": 220,
   "id": "d9e57a00",
   "metadata": {},
   "outputs": [
    {
     "data": {
      "text/plain": [
       "RandomForestClassifier(random_state=42)"
      ]
     },
     "execution_count": 220,
     "metadata": {},
     "output_type": "execute_result"
    }
   ],
   "source": [
    "model = RandomForestClassifier(n_estimators=100, random_state=42)\n",
    "\n",
    "model.fit(X_train, y_train)"
   ]
  },
  {
   "cell_type": "markdown",
   "id": "0f9fada3",
   "metadata": {},
   "source": [
    "#### 6. Generate initial score"
   ]
  },
  {
   "cell_type": "code",
   "execution_count": 221,
   "id": "dd72c3b4",
   "metadata": {},
   "outputs": [
    {
     "data": {
      "text/plain": [
       "(0.9991511035653651, 0.7531806615776081)"
      ]
     },
     "execution_count": 221,
     "metadata": {},
     "output_type": "execute_result"
    }
   ],
   "source": [
    "model.score(X_train, y_train), model.score(X_test, y_test)"
   ]
  },
  {
   "cell_type": "markdown",
   "id": "512f07d4",
   "metadata": {},
   "source": [
    "This model is highly overfit, but the accuracy score is 0.753."
   ]
  },
  {
   "cell_type": "markdown",
   "id": "4227aefa",
   "metadata": {},
   "source": [
    "#### 7. Grid search for best parameters"
   ]
  },
  {
   "cell_type": "code",
   "execution_count": 222,
   "id": "9d6f3851",
   "metadata": {},
   "outputs": [
    {
     "name": "stdout",
     "output_type": "stream",
     "text": [
      "Fitting 5 folds for each of 320 candidates, totalling 1600 fits\n"
     ]
    },
    {
     "data": {
      "text/plain": [
       "GridSearchCV(cv=5, estimator=RandomForestClassifier(random_state=6789),\n",
       "             param_grid={'max_depth': [2, 8, 12, 16],\n",
       "                         'min_samples_leaf': [2, 3, 4, 5, 6],\n",
       "                         'min_samples_split': [2, 4, 6, 8],\n",
       "                         'n_estimators': [20, 80, 120, 240]},\n",
       "             verbose=1)"
      ]
     },
     "execution_count": 222,
     "metadata": {},
     "output_type": "execute_result"
    }
   ],
   "source": [
    "grid = GridSearchCV(estimator = RandomForestClassifier(random_state = 6789),\n",
    "                    param_grid = {'max_depth': [2, 8, 12, 16],\n",
    "                                  'n_estimators':[20, 80, 120, 240],\n",
    "                                 'min_samples_split': [2, 4, 6, 8],\n",
    "                                 'min_samples_leaf': [2, 3, 4, 5, 6]},\n",
    "                    \n",
    "                                  cv=5, verbose=1)\n",
    "\n",
    "grid.fit(X_train, y_train)"
   ]
  },
  {
   "cell_type": "code",
   "execution_count": 223,
   "id": "ccd12e22",
   "metadata": {},
   "outputs": [
    {
     "data": {
      "text/plain": [
       "RandomForestClassifier(max_depth=12, min_samples_leaf=2, min_samples_split=8,\n",
       "                       n_estimators=120, random_state=6789)"
      ]
     },
     "execution_count": 223,
     "metadata": {},
     "output_type": "execute_result"
    }
   ],
   "source": [
    "grid.best_estimator_"
   ]
  },
  {
   "cell_type": "markdown",
   "id": "28a2a5a2",
   "metadata": {},
   "source": [
    "#### 4. Instantiate & fit with new parameters"
   ]
  },
  {
   "cell_type": "code",
   "execution_count": 224,
   "id": "1d235d9e",
   "metadata": {},
   "outputs": [
    {
     "data": {
      "text/plain": [
       "RandomForestClassifier(max_depth=12, min_samples_leaf=2, min_samples_split=8,\n",
       "                       n_estimators=120, random_state=6789)"
      ]
     },
     "execution_count": 224,
     "metadata": {},
     "output_type": "execute_result"
    }
   ],
   "source": [
    "rfc = RandomForestClassifier(max_depth=12, min_samples_leaf=2, min_samples_split=8,\n",
    "                       n_estimators=120, random_state=6789)\n",
    "\n",
    "rfc.fit(X_train, y_train)"
   ]
  },
  {
   "cell_type": "markdown",
   "id": "af86d34c",
   "metadata": {},
   "source": [
    "#### 5. Evaluate"
   ]
  },
  {
   "cell_type": "code",
   "execution_count": 225,
   "id": "75608edd",
   "metadata": {},
   "outputs": [
    {
     "data": {
      "text/plain": [
       "(0.9121392190152802, 0.7608142493638677)"
      ]
     },
     "execution_count": 225,
     "metadata": {},
     "output_type": "execute_result"
    }
   ],
   "source": [
    "rfc.score(X_train, y_train), rfc.score(X_test, y_test)"
   ]
  },
  {
   "cell_type": "markdown",
   "id": "f3d14be2",
   "metadata": {},
   "source": [
    "This is lower than the original score, however the F1 score is the metric of interest. I will proceed with the rest of the evaluation.\n",
    "\n",
    "On this occassion, I will check the F1 score, then compare it to the F1 score of the model with the original parameters."
   ]
  },
  {
   "cell_type": "code",
   "execution_count": 226,
   "id": "c5b3d81a",
   "metadata": {},
   "outputs": [
    {
     "data": {
      "image/png": "[encoded data removed]",
      "text/plain": [
       "<Figure size 640x480 with 2 Axes>"
      ]
     },
     "metadata": {},
     "output_type": "display_data"
    }
   ],
   "source": [
    "ConfusionMatrixDisplay.from_estimator(rfc, X_test, y_test, normalize = 'pred');"
   ]
  },
  {
   "cell_type": "code",
   "execution_count": 227,
   "id": "416e61e9",
   "metadata": {},
   "outputs": [],
   "source": [
    "preds = rfc.predict(X_test)"
   ]
  },
  {
   "cell_type": "code",
   "execution_count": 228,
   "id": "fe7c29c9",
   "metadata": {},
   "outputs": [
    {
     "data": {
      "text/plain": [
       "0.7134146341463415"
      ]
     },
     "execution_count": 228,
     "metadata": {},
     "output_type": "execute_result"
    }
   ],
   "source": [
    "f1_score(y_test, preds, pos_label=1)"
   ]
  },
  {
   "cell_type": "markdown",
   "id": "b0c4f1fe",
   "metadata": {},
   "source": [
    "The f1 score is 0.713, which is higher than the F1 scores derived from Random Forest Classifiers created with the two datasets individually. Now, I will check the model that had the original parameters."
   ]
  },
  {
   "cell_type": "markdown",
   "id": "0175316f",
   "metadata": {},
   "source": [
    "#### Discussion"
   ]
  },
  {
   "cell_type": "markdown",
   "id": "ac581fe5",
   "metadata": {},
   "source": [
    "Combining the two datasets led to an F1 score of 0.706, which is higher than the 0.701 which resulted from the Health Random Forest Classifier and the 0.676 which resulted from the Restaurants Random Forest Classifier.\n",
    "\n",
    "For my last model, I will observe the predictive power of all datasets combined that have been used for modeling in this study (with the exception of Access10, as the full Access dataset will be used instead): Health, Access, Assistance, Insecurity, Local-Farmer's Market Payment, Local Farmer's Market - Foods, Restaurants, Socioeconomic, Stores- Convenience & Specialized, Stores - SNAP & WIC, and Taxes."
   ]
  },
  {
   "cell_type": "markdown",
   "id": "4a56fdb1",
   "metadata": {},
   "source": [
    "### Combining All Modified Food Environment Atlas Datasets"
   ]
  },
  {
   "cell_type": "code",
   "execution_count": 229,
   "id": "e7812eb5",
   "metadata": {},
   "outputs": [],
   "source": [
    "access_copy = access.drop(columns = ['fips', 'state', 'county', 'pct_diabetes18', 'class'] )\n",
    "\n",
    "assistance_copy = assistance.drop(columns = ['fips', 'state', 'county', 'pct_diabetes18', 'class'] )\n",
    "\n",
    "insecurity_copy = insecurity.drop(columns = ['fips', 'state', 'county', 'pct_diabetes18', 'class'] )\n",
    "\n",
    "local_fmp_copy = local_fmp.drop(columns = ['fips', 'state', 'county', 'pct_diabetes18', 'class'] )\n",
    "\n",
    "local_fmf_copy = local_fmf.drop(columns = ['fips', 'state', 'county', 'pct_diabetes18', 'class'] )\n",
    "\n",
    "sec_copy = sec.drop(columns = ['fips', 'state', 'county', 'pct_diabetes18', 'class'] )\n",
    "\n",
    "stores_cs_copy = stores_cs.drop(columns = ['fips', 'state', 'county', 'pct_diabetes18', 'class'] )\n",
    "\n",
    "stores_sw_copy = stores_sw.drop(columns = ['fips', 'state', 'county', 'pct_diabetes18', 'class'] )\n",
    "\n",
    "taxes_copy = taxes.drop(columns = ['fips', 'state', 'county', 'pct_diabetes18', 'class'] )"
   ]
  },
  {
   "cell_type": "markdown",
   "id": "825b816d",
   "metadata": {},
   "source": [
    "Now, I will combine the datasets."
   ]
  },
  {
   "cell_type": "code",
   "execution_count": 230,
   "id": "95fa23ff",
   "metadata": {},
   "outputs": [
    {
     "data": {
      "text/html": [
       "<div>\n",
       "<style scoped>\n",
       "    .dataframe tbody tr th:only-of-type {\n",
       "        vertical-align: middle;\n",
       "    }\n",
       "\n",
       "    .dataframe tbody tr th {\n",
       "        vertical-align: top;\n",
       "    }\n",
       "\n",
       "    .dataframe thead th {\n",
       "        text-align: right;\n",
       "    }\n",
       "</style>\n",
       "<table border=\"1\" class=\"dataframe\">\n",
       "  <thead>\n",
       "    <tr style=\"text-align: right;\">\n",
       "      <th></th>\n",
       "      <th>fips</th>\n",
       "      <th>state</th>\n",
       "      <th>county</th>\n",
       "      <th>recfac11</th>\n",
       "      <th>recfac16</th>\n",
       "      <th>recfacpth11</th>\n",
       "      <th>recfacpth16</th>\n",
       "      <th>pct_mhs18</th>\n",
       "      <th>pct_mhs1825</th>\n",
       "      <th>pct_mhs26</th>\n",
       "      <th>...</th>\n",
       "      <th>snapspth17</th>\n",
       "      <th>wics11</th>\n",
       "      <th>wics16</th>\n",
       "      <th>wicspth11</th>\n",
       "      <th>wicspth16</th>\n",
       "      <th>sodatax_stores14</th>\n",
       "      <th>sodatax_vendm14</th>\n",
       "      <th>chipstax_stores14</th>\n",
       "      <th>chipstax_vendm14</th>\n",
       "      <th>food_tax14</th>\n",
       "    </tr>\n",
       "  </thead>\n",
       "  <tbody>\n",
       "    <tr>\n",
       "      <th>0</th>\n",
       "      <td>1001</td>\n",
       "      <td>AL</td>\n",
       "      <td>Autauga</td>\n",
       "      <td>4</td>\n",
       "      <td>6</td>\n",
       "      <td>0.072465</td>\n",
       "      <td>0.108542</td>\n",
       "      <td>13.0</td>\n",
       "      <td>11.0</td>\n",
       "      <td>13.0</td>\n",
       "      <td>...</td>\n",
       "      <td>0.804747</td>\n",
       "      <td>5.0</td>\n",
       "      <td>5.0</td>\n",
       "      <td>0.090567</td>\n",
       "      <td>0.090511</td>\n",
       "      <td>4.0</td>\n",
       "      <td>4.0</td>\n",
       "      <td>4.0</td>\n",
       "      <td>4.0</td>\n",
       "      <td>4.0</td>\n",
       "    </tr>\n",
       "    <tr>\n",
       "      <th>1</th>\n",
       "      <td>1003</td>\n",
       "      <td>AL</td>\n",
       "      <td>Baldwin</td>\n",
       "      <td>16</td>\n",
       "      <td>21</td>\n",
       "      <td>0.085775</td>\n",
       "      <td>0.101200</td>\n",
       "      <td>13.0</td>\n",
       "      <td>11.0</td>\n",
       "      <td>13.0</td>\n",
       "      <td>...</td>\n",
       "      <td>0.890836</td>\n",
       "      <td>26.0</td>\n",
       "      <td>28.0</td>\n",
       "      <td>0.139380</td>\n",
       "      <td>0.134802</td>\n",
       "      <td>4.0</td>\n",
       "      <td>4.0</td>\n",
       "      <td>4.0</td>\n",
       "      <td>4.0</td>\n",
       "      <td>4.0</td>\n",
       "    </tr>\n",
       "    <tr>\n",
       "      <th>2</th>\n",
       "      <td>1005</td>\n",
       "      <td>AL</td>\n",
       "      <td>Barbour</td>\n",
       "      <td>2</td>\n",
       "      <td>0</td>\n",
       "      <td>0.073123</td>\n",
       "      <td>0.000000</td>\n",
       "      <td>13.0</td>\n",
       "      <td>11.0</td>\n",
       "      <td>13.0</td>\n",
       "      <td>...</td>\n",
       "      <td>1.424614</td>\n",
       "      <td>7.0</td>\n",
       "      <td>6.0</td>\n",
       "      <td>0.255942</td>\n",
       "      <td>0.232387</td>\n",
       "      <td>4.0</td>\n",
       "      <td>4.0</td>\n",
       "      <td>4.0</td>\n",
       "      <td>4.0</td>\n",
       "      <td>4.0</td>\n",
       "    </tr>\n",
       "    <tr>\n",
       "      <th>3</th>\n",
       "      <td>1007</td>\n",
       "      <td>AL</td>\n",
       "      <td>Bibb</td>\n",
       "      <td>0</td>\n",
       "      <td>1</td>\n",
       "      <td>0.000000</td>\n",
       "      <td>0.044183</td>\n",
       "      <td>13.0</td>\n",
       "      <td>11.0</td>\n",
       "      <td>13.0</td>\n",
       "      <td>...</td>\n",
       "      <td>0.801423</td>\n",
       "      <td>6.0</td>\n",
       "      <td>5.0</td>\n",
       "      <td>0.263771</td>\n",
       "      <td>0.221474</td>\n",
       "      <td>4.0</td>\n",
       "      <td>4.0</td>\n",
       "      <td>4.0</td>\n",
       "      <td>4.0</td>\n",
       "      <td>4.0</td>\n",
       "    </tr>\n",
       "    <tr>\n",
       "      <th>4</th>\n",
       "      <td>1009</td>\n",
       "      <td>AL</td>\n",
       "      <td>Blount</td>\n",
       "      <td>3</td>\n",
       "      <td>4</td>\n",
       "      <td>0.052118</td>\n",
       "      <td>0.069490</td>\n",
       "      <td>13.0</td>\n",
       "      <td>11.0</td>\n",
       "      <td>13.0</td>\n",
       "      <td>...</td>\n",
       "      <td>0.692374</td>\n",
       "      <td>8.0</td>\n",
       "      <td>8.0</td>\n",
       "      <td>0.139000</td>\n",
       "      <td>0.139089</td>\n",
       "      <td>4.0</td>\n",
       "      <td>4.0</td>\n",
       "      <td>4.0</td>\n",
       "      <td>4.0</td>\n",
       "      <td>4.0</td>\n",
       "    </tr>\n",
       "  </tbody>\n",
       "</table>\n",
       "<p>5 rows × 116 columns</p>\n",
       "</div>"
      ],
      "text/plain": [
       "   fips state   county  recfac11  recfac16  recfacpth11  recfacpth16  \\\n",
       "0  1001    AL  Autauga         4         6     0.072465     0.108542   \n",
       "1  1003    AL  Baldwin        16        21     0.085775     0.101200   \n",
       "2  1005    AL  Barbour         2         0     0.073123     0.000000   \n",
       "3  1007    AL     Bibb         0         1     0.000000     0.044183   \n",
       "4  1009    AL   Blount         3         4     0.052118     0.069490   \n",
       "\n",
       "   pct_mhs18  pct_mhs1825  pct_mhs26  ...  snapspth17  wics11  wics16  \\\n",
       "0       13.0         11.0       13.0  ...    0.804747     5.0     5.0   \n",
       "1       13.0         11.0       13.0  ...    0.890836    26.0    28.0   \n",
       "2       13.0         11.0       13.0  ...    1.424614     7.0     6.0   \n",
       "3       13.0         11.0       13.0  ...    0.801423     6.0     5.0   \n",
       "4       13.0         11.0       13.0  ...    0.692374     8.0     8.0   \n",
       "\n",
       "   wicspth11  wicspth16  sodatax_stores14  sodatax_vendm14  chipstax_stores14  \\\n",
       "0   0.090567   0.090511               4.0              4.0                4.0   \n",
       "1   0.139380   0.134802               4.0              4.0                4.0   \n",
       "2   0.255942   0.232387               4.0              4.0                4.0   \n",
       "3   0.263771   0.221474               4.0              4.0                4.0   \n",
       "4   0.139000   0.139089               4.0              4.0                4.0   \n",
       "\n",
       "   chipstax_vendm14  food_tax14  \n",
       "0               4.0         4.0  \n",
       "1               4.0         4.0  \n",
       "2               4.0         4.0  \n",
       "3               4.0         4.0  \n",
       "4               4.0         4.0  \n",
       "\n",
       "[5 rows x 116 columns]"
      ]
     },
     "execution_count": 230,
     "metadata": {},
     "output_type": "execute_result"
    }
   ],
   "source": [
    "all = pd.concat([health_restaurants, access_copy, assistance_copy, insecurity_copy, local_fmp_copy, local_fmf_copy,\n",
    "                 sec_copy, stores_cs_copy, stores_sw_copy, taxes_copy], axis=1)\n",
    "\n",
    "all.head()"
   ]
  },
  {
   "cell_type": "code",
   "execution_count": 231,
   "id": "9d994b87",
   "metadata": {},
   "outputs": [
    {
     "data": {
      "text/plain": [
       "(3142, 116)"
      ]
     },
     "execution_count": 231,
     "metadata": {},
     "output_type": "execute_result"
    }
   ],
   "source": [
    "all.shape"
   ]
  },
  {
   "cell_type": "code",
   "execution_count": 232,
   "id": "62bf8435",
   "metadata": {},
   "outputs": [
    {
     "data": {
      "text/plain": [
       "['fips',\n",
       " 'state',\n",
       " 'county',\n",
       " 'recfac11',\n",
       " 'recfac16',\n",
       " 'recfacpth11',\n",
       " 'recfacpth16',\n",
       " 'pct_mhs18',\n",
       " 'pct_mhs1825',\n",
       " 'pct_mhs26',\n",
       " 'rank18',\n",
       " 'per100th18',\n",
       " 'rank17',\n",
       " 'per100th17',\n",
       " 'pct_diabetes18',\n",
       " 'class',\n",
       " 'ffr11',\n",
       " 'ffr16',\n",
       " 'ffrpth11',\n",
       " 'ffrpth16',\n",
       " 'fsr11',\n",
       " 'fsr16',\n",
       " 'fsrpth11',\n",
       " 'fsrpth16',\n",
       " 'pc_ffrsales07',\n",
       " 'pc_ffrsales12',\n",
       " 'pc_fsrsales07',\n",
       " 'pc_fsrsales12',\n",
       " 'pct_laccess_pop10',\n",
       " 'pct_laccess_pop15',\n",
       " 'pct_laccess_lowi10',\n",
       " 'pct_laccess_lowi15',\n",
       " 'pct_laccess_hhnv10',\n",
       " 'pct_laccess_hhnv15',\n",
       " 'pct_laccess_snap15',\n",
       " 'pct_laccess_child10',\n",
       " 'pct_laccess_child15',\n",
       " 'pct_laccess_seniors10',\n",
       " 'pct_laccess_seniors15',\n",
       " 'pct_snap12',\n",
       " 'pct_snap17',\n",
       " 'snap_part_rate11',\n",
       " 'snap_part_rate16',\n",
       " 'pct_nslp12',\n",
       " 'pct_nslp17',\n",
       " 'pct_sbp12',\n",
       " 'pct_sbp17',\n",
       " 'pct_wic12',\n",
       " 'pct_wic17',\n",
       " 'pct_wicinfantchild14',\n",
       " 'pct_wicinfantchild16',\n",
       " 'pct_wicwomen14',\n",
       " 'pct_wicwomen16',\n",
       " 'pct_cacfp12',\n",
       " 'pct_cacfp17',\n",
       " 'fdpir12',\n",
       " 'fdpir15',\n",
       " 'food_banks18',\n",
       " 'foodinsec_12_14',\n",
       " 'foodinsec_15_17',\n",
       " 'ch_foodinsec_14_17',\n",
       " 'vlfoodsec_12_14',\n",
       " 'vlfoodsec_15_17',\n",
       " 'ch_vlfoodsec_14_17',\n",
       " 'fmrkt13',\n",
       " 'fmrkt18',\n",
       " 'fmrktpth13',\n",
       " 'fmrktpth18',\n",
       " 'fmrkt_snap18',\n",
       " 'pct_fmrkt_snap18',\n",
       " 'fmrkt_wic18',\n",
       " 'pct_fmrkt_wic18',\n",
       " 'fmrkt_wiccash18',\n",
       " 'pct_fmrkt_wiccash18',\n",
       " 'fmrkt_sfmnp18',\n",
       " 'pct_fmrkt_sfmnp18',\n",
       " 'fmrkt_credit18',\n",
       " 'pct_fmrkt_credit18',\n",
       " 'fmrkt_frveg18',\n",
       " 'pct_fmrkt_frveg18',\n",
       " 'fmrkt_anmlprod18',\n",
       " 'pct_fmrkt_anmlprod18',\n",
       " 'fmrkt_baked18',\n",
       " 'pct_fmrkt_baked18',\n",
       " 'fmrkt_otherfood18',\n",
       " 'pct_fmrkt_otherfood18',\n",
       " 'pct_65older10',\n",
       " 'pct_18younger10',\n",
       " 'medhhinc15',\n",
       " 'povrate15',\n",
       " 'perpov10',\n",
       " 'childpovrate15',\n",
       " 'perchldpov10',\n",
       " 'metro13',\n",
       " 'poploss10',\n",
       " 'convs11',\n",
       " 'convs16',\n",
       " 'convspth11',\n",
       " 'convspth16',\n",
       " 'specs11',\n",
       " 'specs16',\n",
       " 'specspth11',\n",
       " 'specspth16',\n",
       " 'snaps12',\n",
       " 'snaps17',\n",
       " 'snapspth12',\n",
       " 'snapspth17',\n",
       " 'wics11',\n",
       " 'wics16',\n",
       " 'wicspth11',\n",
       " 'wicspth16',\n",
       " 'sodatax_stores14',\n",
       " 'sodatax_vendm14',\n",
       " 'chipstax_stores14',\n",
       " 'chipstax_vendm14',\n",
       " 'food_tax14']"
      ]
     },
     "execution_count": 232,
     "metadata": {},
     "output_type": "execute_result"
    }
   ],
   "source": [
    "all.columns.values.tolist()"
   ]
  },
  {
   "cell_type": "markdown",
   "id": "4ba62f5d",
   "metadata": {},
   "source": [
    "The columns look correct. I will need to drop rows with null values, so unfortunately, I will not be able to predict for all counties."
   ]
  },
  {
   "cell_type": "code",
   "execution_count": 233,
   "id": "c1e9be07",
   "metadata": {},
   "outputs": [
    {
     "data": {
      "text/plain": [
       "[0,\n",
       " 0,\n",
       " 0,\n",
       " 0,\n",
       " 0,\n",
       " 0,\n",
       " 0,\n",
       " 0,\n",
       " 0,\n",
       " 0,\n",
       " 0,\n",
       " 0,\n",
       " 0,\n",
       " 0,\n",
       " 0,\n",
       " 0,\n",
       " 0,\n",
       " 0,\n",
       " 0,\n",
       " 0,\n",
       " 0,\n",
       " 0,\n",
       " 0,\n",
       " 0,\n",
       " 0,\n",
       " 0,\n",
       " 0,\n",
       " 0,\n",
       " 19,\n",
       " 19,\n",
       " 19,\n",
       " 19,\n",
       " 19,\n",
       " 19,\n",
       " 19,\n",
       " 19,\n",
       " 19,\n",
       " 19,\n",
       " 19,\n",
       " 0,\n",
       " 0,\n",
       " 0,\n",
       " 0,\n",
       " 0,\n",
       " 0,\n",
       " 0,\n",
       " 0,\n",
       " 0,\n",
       " 0,\n",
       " 0,\n",
       " 0,\n",
       " 0,\n",
       " 0,\n",
       " 0,\n",
       " 0,\n",
       " 0,\n",
       " 0,\n",
       " 0,\n",
       " 0,\n",
       " 0,\n",
       " 0,\n",
       " 0,\n",
       " 0,\n",
       " 0,\n",
       " 1,\n",
       " 1,\n",
       " 1,\n",
       " 1,\n",
       " 1,\n",
       " 1,\n",
       " 1,\n",
       " 1,\n",
       " 1,\n",
       " 1,\n",
       " 1,\n",
       " 1,\n",
       " 1,\n",
       " 1,\n",
       " 1,\n",
       " 1,\n",
       " 1,\n",
       " 1,\n",
       " 1,\n",
       " 1,\n",
       " 1,\n",
       " 1,\n",
       " 3,\n",
       " 3,\n",
       " 3,\n",
       " 3,\n",
       " 3,\n",
       " 3,\n",
       " 3,\n",
       " 3,\n",
       " 3,\n",
       " 0,\n",
       " 0,\n",
       " 0,\n",
       " 0,\n",
       " 0,\n",
       " 0,\n",
       " 0,\n",
       " 0,\n",
       " 164,\n",
       " 164,\n",
       " 164,\n",
       " 164,\n",
       " 164,\n",
       " 164,\n",
       " 164,\n",
       " 164,\n",
       " 0,\n",
       " 0,\n",
       " 0,\n",
       " 0,\n",
       " 0]"
      ]
     },
     "execution_count": 233,
     "metadata": {},
     "output_type": "execute_result"
    }
   ],
   "source": [
    "all.isnull().sum().values.tolist() #shows list of number of missing values"
   ]
  },
  {
   "cell_type": "markdown",
   "id": "9b37eb09",
   "metadata": {},
   "source": [
    "It is confirmed that there are null values. I will drop them below."
   ]
  },
  {
   "cell_type": "code",
   "execution_count": 234,
   "id": "d6c7bb83",
   "metadata": {},
   "outputs": [],
   "source": [
    "all = all.dropna()"
   ]
  },
  {
   "cell_type": "code",
   "execution_count": 235,
   "id": "74ff5f15",
   "metadata": {},
   "outputs": [
    {
     "data": {
      "text/plain": [
       "(2978, 116)"
      ]
     },
     "execution_count": 235,
     "metadata": {},
     "output_type": "execute_result"
    }
   ],
   "source": [
    "all.shape"
   ]
  },
  {
   "cell_type": "markdown",
   "id": "bb77abbf",
   "metadata": {},
   "source": [
    "Everything is in place. I will now create a Random Forest Classifier using the data."
   ]
  },
  {
   "cell_type": "markdown",
   "id": "1d7e1345",
   "metadata": {},
   "source": [
    "### Random Forest Classification"
   ]
  },
  {
   "cell_type": "markdown",
   "id": "22a0f5fd",
   "metadata": {},
   "source": [
    "#### 1.Create X and y"
   ]
  },
  {
   "cell_type": "code",
   "execution_count": 236,
   "id": "233c48c1",
   "metadata": {},
   "outputs": [],
   "source": [
    "X = all.drop(columns = ['fips', 'state', 'county', 'pct_diabetes18', 'class'])\n",
    "\n",
    "y = all['class']"
   ]
  },
  {
   "cell_type": "markdown",
   "id": "dc88580a",
   "metadata": {},
   "source": [
    "#### 2. Determine baseline"
   ]
  },
  {
   "cell_type": "code",
   "execution_count": 237,
   "id": "3e99ced9",
   "metadata": {},
   "outputs": [
    {
     "data": {
      "text/plain": [
       "0.0    0.579584\n",
       "1.0    0.420416\n",
       "Name: class, dtype: float64"
      ]
     },
     "execution_count": 237,
     "metadata": {},
     "output_type": "execute_result"
    }
   ],
   "source": [
    "all['class'].value_counts(normalize = True)"
   ]
  },
  {
   "cell_type": "markdown",
   "id": "8ba05bbc",
   "metadata": {},
   "source": [
    "Baseline is 0.580."
   ]
  },
  {
   "cell_type": "markdown",
   "id": "8cc51e30",
   "metadata": {},
   "source": [
    "#### 3. Scale features"
   ]
  },
  {
   "cell_type": "code",
   "execution_count": 238,
   "id": "6ce0d9d9",
   "metadata": {},
   "outputs": [],
   "source": [
    "ss = StandardScaler()\n",
    "\n",
    "X = ss.fit_transform(X)"
   ]
  },
  {
   "cell_type": "markdown",
   "id": "b93ad016",
   "metadata": {},
   "source": [
    "#### 4. Train, test, split"
   ]
  },
  {
   "cell_type": "code",
   "execution_count": 239,
   "id": "9c3db2a0",
   "metadata": {},
   "outputs": [],
   "source": [
    "X_train, X_test, y_train, y_test = train_test_split(X, y, random_state = 42, stratify = y)"
   ]
  },
  {
   "cell_type": "code",
   "execution_count": 240,
   "id": "fd8e7ef1",
   "metadata": {},
   "outputs": [
    {
     "data": {
      "text/plain": [
       "((2233, 111), (745, 111), (2233,), (745,))"
      ]
     },
     "execution_count": 240,
     "metadata": {},
     "output_type": "execute_result"
    }
   ],
   "source": [
    "X_train.shape, X_test.shape, y_train.shape, y_test.shape"
   ]
  },
  {
   "cell_type": "markdown",
   "id": "7775655e",
   "metadata": {},
   "source": [
    "#### 5. Instantiate & fit the model"
   ]
  },
  {
   "cell_type": "code",
   "execution_count": 241,
   "id": "147f5fc2",
   "metadata": {},
   "outputs": [
    {
     "data": {
      "text/plain": [
       "RandomForestClassifier(random_state=42)"
      ]
     },
     "execution_count": 241,
     "metadata": {},
     "output_type": "execute_result"
    }
   ],
   "source": [
    "model = RandomForestClassifier(n_estimators=100, random_state=42)\n",
    "\n",
    "model.fit(X_train, y_train)"
   ]
  },
  {
   "cell_type": "markdown",
   "id": "b5a71a22",
   "metadata": {},
   "source": [
    "#### 6. Generate initial score"
   ]
  },
  {
   "cell_type": "code",
   "execution_count": 242,
   "id": "21839654",
   "metadata": {},
   "outputs": [
    {
     "data": {
      "text/plain": [
       "(1.0, 0.7543624161073825)"
      ]
     },
     "execution_count": 242,
     "metadata": {},
     "output_type": "execute_result"
    }
   ],
   "source": [
    "model.score(X_train, y_train), model.score(X_test, y_test)"
   ]
  },
  {
   "cell_type": "markdown",
   "id": "121bf751",
   "metadata": {},
   "source": [
    "With a train score of 1.0, the overfit is extreme, however the accuracy score is 0.754."
   ]
  },
  {
   "cell_type": "markdown",
   "id": "2809694c",
   "metadata": {},
   "source": [
    "#### 7. Grid search for best parameters"
   ]
  },
  {
   "cell_type": "code",
   "execution_count": 243,
   "id": "aad64dfe",
   "metadata": {},
   "outputs": [
    {
     "name": "stdout",
     "output_type": "stream",
     "text": [
      "Fitting 5 folds for each of 320 candidates, totalling 1600 fits\n"
     ]
    },
    {
     "data": {
      "text/plain": [
       "GridSearchCV(cv=5, estimator=RandomForestClassifier(random_state=6789),\n",
       "             param_grid={'max_depth': [2, 8, 12, 16],\n",
       "                         'min_samples_leaf': [2, 3, 4, 5, 6],\n",
       "                         'min_samples_split': [2, 4, 6, 8],\n",
       "                         'n_estimators': [20, 80, 120, 240]},\n",
       "             verbose=1)"
      ]
     },
     "execution_count": 243,
     "metadata": {},
     "output_type": "execute_result"
    }
   ],
   "source": [
    "grid = GridSearchCV(estimator = RandomForestClassifier(random_state = 6789),\n",
    "                    param_grid = {'max_depth': [2, 8, 12, 16],\n",
    "                                  'n_estimators':[20, 80, 120, 240],\n",
    "                                 'min_samples_split': [2, 4, 6, 8],\n",
    "                                 'min_samples_leaf': [2, 3, 4, 5, 6]},\n",
    "                    \n",
    "                                  cv=5, verbose=1)\n",
    "\n",
    "grid.fit(X_train, y_train)"
   ]
  },
  {
   "cell_type": "code",
   "execution_count": 244,
   "id": "72d867bc",
   "metadata": {},
   "outputs": [
    {
     "data": {
      "text/plain": [
       "RandomForestClassifier(max_depth=16, min_samples_leaf=4, n_estimators=240,\n",
       "                       random_state=6789)"
      ]
     },
     "execution_count": 244,
     "metadata": {},
     "output_type": "execute_result"
    }
   ],
   "source": [
    "grid.best_estimator_"
   ]
  },
  {
   "cell_type": "markdown",
   "id": "112f3ce2",
   "metadata": {},
   "source": [
    "#### 4. Instantiate & fit with new parameters"
   ]
  },
  {
   "cell_type": "code",
   "execution_count": 245,
   "id": "cda3ff4e",
   "metadata": {},
   "outputs": [
    {
     "data": {
      "text/plain": [
       "RandomForestClassifier(max_depth=16, min_samples_leaf=4, n_estimators=240,\n",
       "                       random_state=6789)"
      ]
     },
     "execution_count": 245,
     "metadata": {},
     "output_type": "execute_result"
    }
   ],
   "source": [
    "rfc = RandomForestClassifier(max_depth=16, min_samples_leaf=4, n_estimators=240,\n",
    "                       random_state=6789)\n",
    "\n",
    "rfc.fit(X_train, y_train)"
   ]
  },
  {
   "cell_type": "markdown",
   "id": "8b9a77bf",
   "metadata": {},
   "source": [
    "#### 5. Evaluate"
   ]
  },
  {
   "cell_type": "code",
   "execution_count": 246,
   "id": "a7b4ad93",
   "metadata": {},
   "outputs": [
    {
     "data": {
      "text/plain": [
       "(0.9583519928347515, 0.748993288590604)"
      ]
     },
     "execution_count": 246,
     "metadata": {},
     "output_type": "execute_result"
    }
   ],
   "source": [
    "rfc.score(X_train, y_train), rfc.score(X_test, y_test)"
   ]
  },
  {
   "cell_type": "code",
   "execution_count": 247,
   "id": "96a6163f",
   "metadata": {},
   "outputs": [
    {
     "data": {
      "image/png": "[encoded data removed]",
      "text/plain": [
       "<Figure size 640x480 with 2 Axes>"
      ]
     },
     "metadata": {},
     "output_type": "display_data"
    }
   ],
   "source": [
    "ConfusionMatrixDisplay.from_estimator(rfc, X_test, y_test, normalize = 'pred');"
   ]
  },
  {
   "cell_type": "code",
   "execution_count": 248,
   "id": "2be5f888",
   "metadata": {},
   "outputs": [],
   "source": [
    "preds = rfc.predict(X_test)"
   ]
  },
  {
   "cell_type": "code",
   "execution_count": 249,
   "id": "931ac944",
   "metadata": {},
   "outputs": [
    {
     "data": {
      "text/plain": [
       "0.6792452830188679"
      ]
     },
     "execution_count": 249,
     "metadata": {},
     "output_type": "execute_result"
    }
   ],
   "source": [
    "f1_score(y_test, preds, pos_label=1)"
   ]
  },
  {
   "cell_type": "markdown",
   "id": "e2760892",
   "metadata": {},
   "source": [
    "##### Discussion"
   ]
  },
  {
   "cell_type": "markdown",
   "id": "bef7d0d2",
   "metadata": {},
   "source": [
    "The F1 score for the entire dataset is is lower than that of the Random Forest Classifier using solely the Health and Restaurant datasets. The model including all datasets also seems to have a high amount of overfit, as seen in the large difference between the train (0.958) and test (0.749) sets.\n",
    "\n",
    "However, at 0.679, the model still exceeds the baseline value of 0.580. Thus, it can be said that overall, a county's Food Environment can be used to predict high or low prevalence of diabetes."
   ]
  },
  {
   "cell_type": "markdown",
   "id": "76f3c73f",
   "metadata": {},
   "source": [
    "# III. Conclusion, Recommendations, & Next Steps"
   ]
  },
  {
   "cell_type": "markdown",
   "id": "5cd0f7fb",
   "metadata": {},
   "source": [
    "In completing this study, I set out to determine how well I could predict prevalence of diabetes in U.S. counties using food environmental features. As it turns out, some of these factors are fairly predictive of diabetes. For example, in the Random Forest Classification model combining Health and Restaurants datasets, when the model predicts that a county is low prevalence, it is correct 76% of the time. When the model predicts that a county is high prevalence, it is correct 77% of the time. These datasets are older, with the most recent information being 5 years old. However, what can be learned from these models is that there are in fact certain aspects of a community that can be predictive of diabetes. \n",
    "\n",
    "It was interesting to note that the Health dataset produced the most predictive model. Specifically, the Health dataset included information about recreational/fitness facilities, mental health providers, and percentage of the adult population receiving mental health services. This suggests that community leaders can work toward decreasing prevalence of diabetes by encouraging use/presence of recreational facilities. Communities can also stress the importance of receving proper mental health care, and encourage young community members to select career choices that involve mental health care. I stress the mental health care part of this specifically, because the connection between mind and body is something that is often not fully appreciated. The results of this study indicate that full importance should be placed on mental health treatment.\n",
    "\n",
    "Additionally, the second highest-scoring individual model was the Restaurants dataset. This suggests that communities could stress the benefits of limiting fast food spending, and perhaps engage in outreach and education regarding healthier food options that fit within a limited budget. While information regarding reprsentation of ethnic groups within counties was not included in the current study, disparities between ethnic groups can be seen [here](https://diabetes.org/newsroom/press-releases/2021/income-related-inequalities-in-diabetes-have-widened-over-past-decade-cdc-study-finds). Therefore, it becomes important for community leaders to provide interventions tailored to the specific population they serve, its customs, cultural foods, and so on.\n",
    "\n",
    "Finally, while I did not stress their presence in the overall findings, I do want to note that the Food Insecurity and Assistance datasets produced models that were an improvement over baseline. This seems indicative of the overall connection between low income and diabetes, also addressed [here](https://diabetes.org/newsroom/press-releases/2021/income-related-inequalities-in-diabetes-have-widened-over-past-decade-cdc-study-finds). Given the fact that the federal minimum wage is not enough to meet living expenses (see this [website](https://livingwage.mit.edu/articles/99-a-calculation-of-the-living-wage)), those who are very low income might experience limited food options and high levels of chronic stress. It is sensible, then, that they might experience higher rates of diabetes.  \n",
    "\n",
    "If continuing to research this topic, I have multiple thoughts about the next steps I could take. Firstly, I would like to continue to research the impact of mental health and mental health services on the prevention and treatment of physical disease states. Additionally, I would like to conduct further research on the potential savings of preventative healthcare, both in terms of lives, and healthcare costs (see this [website](https://diabetes.org/about-us/statistics/about-diabetes), reporting $327 billion costs on diagnosed diabetes in 2017.) Finally, I would like to research the potential benefits in terms of overall health in raising minimum wage. My hope in doings so is that community leaders will become empowered to promote effective change."
   ]
  }
 ],
 "metadata": {
  "kernelspec": {
   "display_name": "Python 3 (ipykernel)",
   "language": "python",
   "name": "python3"
  },
  "language_info": {
   "codemirror_mode": {
    "name": "ipython",
    "version": 3
   },
   "file_extension": ".py",
   "mimetype": "text/x-python",
   "name": "python",
   "nbconvert_exporter": "python",
   "pygments_lexer": "ipython3",
   "version": "3.9.13"
  }
 },
 "nbformat": 4,
 "nbformat_minor": 5
}
