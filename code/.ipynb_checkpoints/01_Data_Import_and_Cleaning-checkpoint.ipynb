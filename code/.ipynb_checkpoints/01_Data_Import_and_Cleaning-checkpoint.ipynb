{
 "cells": [
  {
   "cell_type": "markdown",
   "id": "025447d7",
   "metadata": {},
   "source": [
    "# Capstone Project - 01 - Data Import & Cleaning"
   ]
  },
  {
   "cell_type": "markdown",
   "id": "3f7c0a07",
   "metadata": {},
   "source": [
    "### Data Sources \n",
    "\n",
    "1. [Economic Research Service (ERS), U.S. Department of Agriculture (USDA). Food Environment Atlas (2020).](https://www.ers.usda.gov/data-products/food-environment-atlas/data-access-and-documentation-downloads/)\n",
    "\n",
    "2. [Center for Disease Control (CDC). Diagnosed Diabetes- National, Natural Breaks, 2018; Social Vulnerability Index (SVI), Overall SVI.](https://gis.cdc.gov/grasp/diabetes/diabetesatlas-sdoh.html#)\n",
    "\n",
    "3. [American Health Rankings - United Health Foundation. National Health Providers (2017).](https://www.americashealthrankings.org/explore/annual/measure/MHP?edition-year=2017)\n",
    "\n",
    "4. [American Health Rankings - United Health Foundation. National Health Providers (2018).](https://www.americashealthrankings.org/explore/annual/measure/MHP?edition-year=2018)\n",
    "\n",
    "5. [NSDUH State Estimates – Individual Excel and CSV Files by Outcome (2015-2016).](https://www.samhsa.gov/data/report/2015-2016-nsduh-state-estimates-individual-excel-and-csv-files-outcome)"
   ]
  },
  {
   "cell_type": "markdown",
   "id": "e2aeb61c",
   "metadata": {},
   "source": [
    "## Introduction\n",
    "\n"
   ]
  },
  {
   "cell_type": "markdown",
   "id": "741e92e9",
   "metadata": {},
   "source": [
    "In this notebook, I create dataframes of the data and conduct preliminary analysis in order to observe for issues. Additionally, I begin cleaning the data by removing certain unneeded columns and revising column names, and then observe for issues that will need to be corrected after further analysis.\n",
    "\n",
    "*I recommend opening the Variable List as part of the Food Environment Atlas spreadsheet while reading through these notebooks in order to understand the variable names as listed below.*"
   ]
  },
  {
   "cell_type": "markdown",
   "id": "ce8c21de",
   "metadata": {},
   "source": [
    "## I. Food Environmental Atlas - Variable List"
   ]
  },
  {
   "cell_type": "markdown",
   "id": "a4943b62",
   "metadata": {},
   "source": [
    "This is essentially a Data Dictionary containing the many variables present within the Food Environmental Atlas.\n",
    "\n",
    "I will observe for any issues."
   ]
  },
  {
   "cell_type": "markdown",
   "id": "4e77b59e",
   "metadata": {},
   "source": [
    "### 1. Data Import"
   ]
  },
  {
   "cell_type": "code",
   "execution_count": 1,
   "id": "1c8f3ee8",
   "metadata": {},
   "outputs": [],
   "source": [
    "import pandas as pd\n",
    "import numpy as np"
   ]
  },
  {
   "cell_type": "code",
   "execution_count": 2,
   "id": "055c51d8",
   "metadata": {},
   "outputs": [],
   "source": [
    "#importing the data\n",
    "\n",
    "file_path = '../data/FoodEnvironmentAtlas.xls.VariableList.csv'\n",
    "\n",
    "variables = pd.read_csv(file_path)"
   ]
  },
  {
   "cell_type": "markdown",
   "id": "bd12d041",
   "metadata": {},
   "source": [
    "### 2. Preliminary Observations"
   ]
  },
  {
   "cell_type": "code",
   "execution_count": 3,
   "id": "00c7ceba",
   "metadata": {},
   "outputs": [
    {
     "data": {
      "text/plain": [
       "(281, 7)"
      ]
     },
     "execution_count": 3,
     "metadata": {},
     "output_type": "execute_result"
    }
   ],
   "source": [
    "variables.shape #shows the layout of the dataframe"
   ]
  },
  {
   "cell_type": "code",
   "execution_count": 4,
   "id": "1026882c",
   "metadata": {},
   "outputs": [
    {
     "data": {
      "text/plain": [
       "Category Name       0\n",
       "Category Code       0\n",
       "Subcategory Name    0\n",
       "Variable Name       0\n",
       "Variable Code       0\n",
       "Geography           0\n",
       "Units               0\n",
       "dtype: int64"
      ]
     },
     "execution_count": 4,
     "metadata": {},
     "output_type": "execute_result"
    }
   ],
   "source": [
    "variables.isnull().sum() #shows the number of missing values per column"
   ]
  },
  {
   "cell_type": "markdown",
   "id": "2c95acb6",
   "metadata": {},
   "source": [
    "As anticipated, no values are missing. However, the spaces in the column names might present an issue. Meanwhile, pressing \"shift\" for upper case letters in undesirable. The column names will be edited."
   ]
  },
  {
   "cell_type": "code",
   "execution_count": 5,
   "id": "e4ae3620",
   "metadata": {},
   "outputs": [
    {
     "data": {
      "text/plain": [
       "Index(['category_name', 'category_code', 'subcategory_name', 'variable_name',\n",
       "       'variable_code', 'geography', 'units'],\n",
       "      dtype='object')"
      ]
     },
     "execution_count": 5,
     "metadata": {},
     "output_type": "execute_result"
    }
   ],
   "source": [
    "variables.columns = [col.lower() for col in variables.columns] #makes all letters in column names lowercase\n",
    "\n",
    "variables.columns = variables.columns.str.replace(\" \" , \"_\") #replaces spaces in column names with underscore\n",
    "\n",
    "variables.columns"
   ]
  },
  {
   "cell_type": "code",
   "execution_count": 6,
   "id": "ab2001ee",
   "metadata": {},
   "outputs": [
    {
     "data": {
      "text/plain": [
       "category_name       object\n",
       "category_code       object\n",
       "subcategory_name    object\n",
       "variable_name       object\n",
       "variable_code       object\n",
       "geography           object\n",
       "units               object\n",
       "dtype: object"
      ]
     },
     "execution_count": 6,
     "metadata": {},
     "output_type": "execute_result"
    }
   ],
   "source": [
    "variables.dtypes #shows datatypes of the columns"
   ]
  },
  {
   "cell_type": "markdown",
   "id": "8dd886d1",
   "metadata": {},
   "source": [
    "The issues have been resolved. I do not anticipate that any other issues would be present. The cleaned dataframe will be saved as a csv, then uploaded into the diabetes database for storage."
   ]
  },
  {
   "cell_type": "markdown",
   "id": "67940633",
   "metadata": {},
   "source": [
    "#### 3. Saving Clean File to a csv"
   ]
  },
  {
   "cell_type": "code",
   "execution_count": 7,
   "id": "1682c072",
   "metadata": {},
   "outputs": [],
   "source": [
    "variables.to_csv('../data/FoodEnvironmentAtlas.xls.VariableList_CLEAN.csv', index = False) #saves clean dataframe to a new csv"
   ]
  },
  {
   "cell_type": "markdown",
   "id": "f7347ee6",
   "metadata": {},
   "source": [
    "## II. Food Environmental Atlas - HEALTH"
   ]
  },
  {
   "cell_type": "markdown",
   "id": "297581b4",
   "metadata": {},
   "source": [
    "This dataset contains information regarding physical health, such as prevalence of diabetes in 2008 and 2013, prevalence of obesity, recreational facilities, and percentage of high schoolers that are physically active. \n",
    "\n",
    "I will import the data, and observe for any issues."
   ]
  },
  {
   "cell_type": "markdown",
   "id": "8907c024",
   "metadata": {},
   "source": [
    "### 1. Data Import"
   ]
  },
  {
   "cell_type": "code",
   "execution_count": 8,
   "id": "87eaf3ab",
   "metadata": {},
   "outputs": [],
   "source": [
    "#importing the data\n",
    "\n",
    "file_path = '../data/FoodEnvironmentAtlas.xls.HEALTH.csv'\n",
    "\n",
    "health = pd.read_csv(file_path)"
   ]
  },
  {
   "cell_type": "markdown",
   "id": "e30adfcc",
   "metadata": {},
   "source": [
    "### 2. Preliminary Observations"
   ]
  },
  {
   "cell_type": "code",
   "execution_count": 9,
   "id": "c777fee4",
   "metadata": {},
   "outputs": [
    {
     "data": {
      "text/html": [
       "<div>\n",
       "<style scoped>\n",
       "    .dataframe tbody tr th:only-of-type {\n",
       "        vertical-align: middle;\n",
       "    }\n",
       "\n",
       "    .dataframe tbody tr th {\n",
       "        vertical-align: top;\n",
       "    }\n",
       "\n",
       "    .dataframe thead th {\n",
       "        text-align: right;\n",
       "    }\n",
       "</style>\n",
       "<table border=\"1\" class=\"dataframe\">\n",
       "  <thead>\n",
       "    <tr style=\"text-align: right;\">\n",
       "      <th></th>\n",
       "      <th>FIPS</th>\n",
       "      <th>State</th>\n",
       "      <th>County</th>\n",
       "      <th>PCT_DIABETES_ADULTS08</th>\n",
       "      <th>PCT_DIABETES_ADULTS13</th>\n",
       "      <th>PCT_OBESE_ADULTS12</th>\n",
       "      <th>PCT_OBESE_ADULTS17</th>\n",
       "      <th>PCT_HSPA17</th>\n",
       "      <th>RECFAC11</th>\n",
       "      <th>RECFAC16</th>\n",
       "      <th>PCH_RECFAC_11_16</th>\n",
       "      <th>RECFACPTH11</th>\n",
       "      <th>RECFACPTH16</th>\n",
       "      <th>PCH_RECFACPTH_11_16</th>\n",
       "    </tr>\n",
       "  </thead>\n",
       "  <tbody>\n",
       "    <tr>\n",
       "      <th>0</th>\n",
       "      <td>1001</td>\n",
       "      <td>AL</td>\n",
       "      <td>Autauga</td>\n",
       "      <td>11.4</td>\n",
       "      <td>13.0</td>\n",
       "      <td>33.0</td>\n",
       "      <td>36.3</td>\n",
       "      <td>NaN</td>\n",
       "      <td>4</td>\n",
       "      <td>6</td>\n",
       "      <td>50.000000</td>\n",
       "      <td>0.072465</td>\n",
       "      <td>0.108542</td>\n",
       "      <td>49.785629</td>\n",
       "    </tr>\n",
       "    <tr>\n",
       "      <th>1</th>\n",
       "      <td>1003</td>\n",
       "      <td>AL</td>\n",
       "      <td>Baldwin</td>\n",
       "      <td>9.8</td>\n",
       "      <td>10.4</td>\n",
       "      <td>33.0</td>\n",
       "      <td>36.3</td>\n",
       "      <td>NaN</td>\n",
       "      <td>16</td>\n",
       "      <td>21</td>\n",
       "      <td>31.250000</td>\n",
       "      <td>0.085775</td>\n",
       "      <td>0.101200</td>\n",
       "      <td>17.983256</td>\n",
       "    </tr>\n",
       "    <tr>\n",
       "      <th>2</th>\n",
       "      <td>1005</td>\n",
       "      <td>AL</td>\n",
       "      <td>Barbour</td>\n",
       "      <td>13.6</td>\n",
       "      <td>18.4</td>\n",
       "      <td>33.0</td>\n",
       "      <td>36.3</td>\n",
       "      <td>NaN</td>\n",
       "      <td>2</td>\n",
       "      <td>0</td>\n",
       "      <td>-100.000000</td>\n",
       "      <td>0.073123</td>\n",
       "      <td>0.000000</td>\n",
       "      <td>-100.000000</td>\n",
       "    </tr>\n",
       "    <tr>\n",
       "      <th>3</th>\n",
       "      <td>1007</td>\n",
       "      <td>AL</td>\n",
       "      <td>Bibb</td>\n",
       "      <td>11.1</td>\n",
       "      <td>14.8</td>\n",
       "      <td>33.0</td>\n",
       "      <td>36.3</td>\n",
       "      <td>NaN</td>\n",
       "      <td>0</td>\n",
       "      <td>1</td>\n",
       "      <td>NaN</td>\n",
       "      <td>0.000000</td>\n",
       "      <td>0.044183</td>\n",
       "      <td>NaN</td>\n",
       "    </tr>\n",
       "    <tr>\n",
       "      <th>4</th>\n",
       "      <td>1009</td>\n",
       "      <td>AL</td>\n",
       "      <td>Blount</td>\n",
       "      <td>11.4</td>\n",
       "      <td>14.1</td>\n",
       "      <td>33.0</td>\n",
       "      <td>36.3</td>\n",
       "      <td>NaN</td>\n",
       "      <td>3</td>\n",
       "      <td>4</td>\n",
       "      <td>33.333333</td>\n",
       "      <td>0.052118</td>\n",
       "      <td>0.069490</td>\n",
       "      <td>33.333333</td>\n",
       "    </tr>\n",
       "  </tbody>\n",
       "</table>\n",
       "</div>"
      ],
      "text/plain": [
       "   FIPS State   County  PCT_DIABETES_ADULTS08  PCT_DIABETES_ADULTS13  \\\n",
       "0  1001    AL  Autauga                   11.4                   13.0   \n",
       "1  1003    AL  Baldwin                    9.8                   10.4   \n",
       "2  1005    AL  Barbour                   13.6                   18.4   \n",
       "3  1007    AL     Bibb                   11.1                   14.8   \n",
       "4  1009    AL   Blount                   11.4                   14.1   \n",
       "\n",
       "   PCT_OBESE_ADULTS12  PCT_OBESE_ADULTS17  PCT_HSPA17  RECFAC11  RECFAC16  \\\n",
       "0                33.0                36.3         NaN         4         6   \n",
       "1                33.0                36.3         NaN        16        21   \n",
       "2                33.0                36.3         NaN         2         0   \n",
       "3                33.0                36.3         NaN         0         1   \n",
       "4                33.0                36.3         NaN         3         4   \n",
       "\n",
       "   PCH_RECFAC_11_16  RECFACPTH11  RECFACPTH16  PCH_RECFACPTH_11_16  \n",
       "0         50.000000     0.072465     0.108542            49.785629  \n",
       "1         31.250000     0.085775     0.101200            17.983256  \n",
       "2       -100.000000     0.073123     0.000000          -100.000000  \n",
       "3               NaN     0.000000     0.044183                  NaN  \n",
       "4         33.333333     0.052118     0.069490            33.333333  "
      ]
     },
     "execution_count": 9,
     "metadata": {},
     "output_type": "execute_result"
    }
   ],
   "source": [
    "health.head() #displays the top 5 rows of the dataframe"
   ]
  },
  {
   "cell_type": "code",
   "execution_count": 10,
   "id": "bb70de10",
   "metadata": {},
   "outputs": [
    {
     "data": {
      "text/plain": [
       "(3143, 14)"
      ]
     },
     "execution_count": 10,
     "metadata": {},
     "output_type": "execute_result"
    }
   ],
   "source": [
    "health.shape #displays the layout of the dataframe"
   ]
  },
  {
   "cell_type": "code",
   "execution_count": 11,
   "id": "530f95a0",
   "metadata": {},
   "outputs": [
    {
     "data": {
      "text/plain": [
       "Index(['FIPS', 'State', 'County', 'PCT_DIABETES_ADULTS08',\n",
       "       'PCT_DIABETES_ADULTS13', 'PCT_OBESE_ADULTS12', 'PCT_OBESE_ADULTS17',\n",
       "       'PCT_HSPA17', 'RECFAC11', 'RECFAC16', 'PCH_RECFAC_11_16', 'RECFACPTH11',\n",
       "       'RECFACPTH16', 'PCH_RECFACPTH_11_16'],\n",
       "      dtype='object')"
      ]
     },
     "execution_count": 11,
     "metadata": {},
     "output_type": "execute_result"
    }
   ],
   "source": [
    "health.columns #displays column names"
   ]
  },
  {
   "cell_type": "markdown",
   "id": "6432b172",
   "metadata": {},
   "source": [
    "These capital letters will become bothersome. I wil change them to all lowercase."
   ]
  },
  {
   "cell_type": "code",
   "execution_count": 12,
   "id": "60be9ccd",
   "metadata": {},
   "outputs": [
    {
     "data": {
      "text/plain": [
       "Index(['fips', 'state', 'county', 'pct_diabetes_adults08',\n",
       "       'pct_diabetes_adults13', 'pct_obese_adults12', 'pct_obese_adults17',\n",
       "       'pct_hspa17', 'recfac11', 'recfac16', 'pch_recfac_11_16', 'recfacpth11',\n",
       "       'recfacpth16', 'pch_recfacpth_11_16'],\n",
       "      dtype='object')"
      ]
     },
     "execution_count": 12,
     "metadata": {},
     "output_type": "execute_result"
    }
   ],
   "source": [
    "health.columns = [col.lower() for col in health.columns]\n",
    "\n",
    "health.columns"
   ]
  },
  {
   "cell_type": "code",
   "execution_count": 13,
   "id": "3b1cb8f6",
   "metadata": {},
   "outputs": [
    {
     "data": {
      "text/plain": [
       "fips                       0\n",
       "state                      0\n",
       "county                     0\n",
       "pct_diabetes_adults08      5\n",
       "pct_diabetes_adults13      1\n",
       "pct_obese_adults12         0\n",
       "pct_obese_adults17         0\n",
       "pct_hspa17               760\n",
       "recfac11                   0\n",
       "recfac16                   0\n",
       "pch_recfac_11_16         143\n",
       "recfacpth11                0\n",
       "recfacpth16                0\n",
       "pch_recfacpth_11_16      143\n",
       "dtype: int64"
      ]
     },
     "execution_count": 13,
     "metadata": {},
     "output_type": "execute_result"
    }
   ],
   "source": [
    "health.isnull().sum() #shows the number of missing values per column"
   ]
  },
  {
   "cell_type": "markdown",
   "id": "de71f5fd",
   "metadata": {},
   "source": [
    "I see that there are missing values. I will determine what to do about this after viewing more information during EDA."
   ]
  },
  {
   "cell_type": "code",
   "execution_count": 14,
   "id": "7bff8874",
   "metadata": {},
   "outputs": [
    {
     "data": {
      "text/plain": [
       "fips                       int64\n",
       "state                     object\n",
       "county                    object\n",
       "pct_diabetes_adults08    float64\n",
       "pct_diabetes_adults13    float64\n",
       "pct_obese_adults12       float64\n",
       "pct_obese_adults17       float64\n",
       "pct_hspa17               float64\n",
       "recfac11                   int64\n",
       "recfac16                   int64\n",
       "pch_recfac_11_16         float64\n",
       "recfacpth11              float64\n",
       "recfacpth16              float64\n",
       "pch_recfacpth_11_16      float64\n",
       "dtype: object"
      ]
     },
     "execution_count": 14,
     "metadata": {},
     "output_type": "execute_result"
    }
   ],
   "source": [
    "health.dtypes #shows the datatype for each row"
   ]
  },
  {
   "cell_type": "markdown",
   "id": "bb7c6bc6",
   "metadata": {},
   "source": [
    "These are the appropriate data types."
   ]
  },
  {
   "cell_type": "markdown",
   "id": "23ea16f4",
   "metadata": {},
   "source": [
    "### 3. Data Cleaning by Column"
   ]
  },
  {
   "cell_type": "markdown",
   "id": "8acf69a6",
   "metadata": {},
   "source": [
    "It appears that this information is reviewed, and seems unlikely to contain errors. Still, I will observe statistics for each column."
   ]
  },
  {
   "cell_type": "code",
   "execution_count": 15,
   "id": "a0817acb",
   "metadata": {},
   "outputs": [
    {
     "data": {
      "text/plain": [
       "count    3138.000000\n",
       "mean        9.913257\n",
       "std         2.058922\n",
       "min         3.000000\n",
       "25%         8.500000\n",
       "50%         9.800000\n",
       "75%        11.300000\n",
       "max        18.200000\n",
       "Name: pct_diabetes_adults08, dtype: float64"
      ]
     },
     "execution_count": 15,
     "metadata": {},
     "output_type": "execute_result"
    }
   ],
   "source": [
    "health.pct_diabetes_adults08.describe() #displays a statistical summary of this column"
   ]
  },
  {
   "cell_type": "markdown",
   "id": "1b81aa35",
   "metadata": {},
   "source": [
    "No issues observed."
   ]
  },
  {
   "cell_type": "code",
   "execution_count": 16,
   "id": "b85b099a",
   "metadata": {},
   "outputs": [
    {
     "data": {
      "text/plain": [
       "count    3142.000000\n",
       "mean       11.236123\n",
       "std         2.485537\n",
       "min         3.300000\n",
       "25%         9.500000\n",
       "50%        11.100000\n",
       "75%        12.900000\n",
       "max        23.500000\n",
       "Name: pct_diabetes_adults13, dtype: float64"
      ]
     },
     "execution_count": 16,
     "metadata": {},
     "output_type": "execute_result"
    }
   ],
   "source": [
    "health.pct_diabetes_adults13.describe() #displays a statistical summary of this column"
   ]
  },
  {
   "cell_type": "markdown",
   "id": "83afc45b",
   "metadata": {},
   "source": [
    "No issues observed."
   ]
  },
  {
   "cell_type": "code",
   "execution_count": 17,
   "id": "ddba0d64",
   "metadata": {},
   "outputs": [
    {
     "data": {
      "text/plain": [
       "count    3143.000000\n",
       "mean       29.056570\n",
       "std         2.979568\n",
       "min        20.500000\n",
       "25%        27.400000\n",
       "50%        29.200000\n",
       "75%        31.100000\n",
       "max        34.700000\n",
       "Name: pct_obese_adults12, dtype: float64"
      ]
     },
     "execution_count": 17,
     "metadata": {},
     "output_type": "execute_result"
    }
   ],
   "source": [
    "health.pct_obese_adults12.describe() #displays a statistical summary of this column"
   ]
  },
  {
   "cell_type": "code",
   "execution_count": 18,
   "id": "4c8edd4c",
   "metadata": {},
   "outputs": [
    {
     "data": {
      "text/plain": [
       "count    3143.000000\n",
       "mean       31.862965\n",
       "std         3.329267\n",
       "min        22.600000\n",
       "25%        30.100000\n",
       "50%        32.400000\n",
       "75%        33.800000\n",
       "max        38.100000\n",
       "Name: pct_obese_adults17, dtype: float64"
      ]
     },
     "execution_count": 18,
     "metadata": {},
     "output_type": "execute_result"
    }
   ],
   "source": [
    "health.pct_obese_adults17.describe() #displays a statistical summary of this column"
   ]
  },
  {
   "cell_type": "code",
   "execution_count": 19,
   "id": "661d1821",
   "metadata": {},
   "outputs": [
    {
     "data": {
      "text/plain": [
       "count    2383.000000\n",
       "mean       24.620520\n",
       "std         2.822971\n",
       "min        13.400000\n",
       "25%        22.400000\n",
       "50%        24.700000\n",
       "75%        26.500000\n",
       "max        30.800000\n",
       "Name: pct_hspa17, dtype: float64"
      ]
     },
     "execution_count": 19,
     "metadata": {},
     "output_type": "execute_result"
    }
   ],
   "source": [
    "health.pct_hspa17.describe() #displays a statistical summary of this column"
   ]
  },
  {
   "cell_type": "code",
   "execution_count": 20,
   "id": "a04695d0",
   "metadata": {},
   "outputs": [
    {
     "data": {
      "text/plain": [
       "count    3143.000000\n",
       "mean        9.382755\n",
       "std        29.677411\n",
       "min         0.000000\n",
       "25%         0.000000\n",
       "50%         2.000000\n",
       "75%         6.000000\n",
       "max       714.000000\n",
       "Name: recfac11, dtype: float64"
      ]
     },
     "execution_count": 20,
     "metadata": {},
     "output_type": "execute_result"
    }
   ],
   "source": [
    "health.recfac11.describe() #displays a statistical summary of the column"
   ]
  },
  {
   "cell_type": "code",
   "execution_count": 21,
   "id": "af78b1be",
   "metadata": {},
   "outputs": [
    {
     "data": {
      "text/plain": [
       "count    3143.000000\n",
       "mean       10.807509\n",
       "std        36.985652\n",
       "min         0.000000\n",
       "25%         0.000000\n",
       "50%         2.000000\n",
       "75%         6.000000\n",
       "max       939.000000\n",
       "Name: recfac16, dtype: float64"
      ]
     },
     "execution_count": 21,
     "metadata": {},
     "output_type": "execute_result"
    }
   ],
   "source": [
    "health.recfac16.describe() #displays a statistical summary of the column"
   ]
  },
  {
   "cell_type": "code",
   "execution_count": 22,
   "id": "b8462250",
   "metadata": {},
   "outputs": [
    {
     "data": {
      "text/plain": [
       "count    3000.000000\n",
       "mean        1.030283\n",
       "std        50.972792\n",
       "min      -100.000000\n",
       "25%       -10.051020\n",
       "50%         0.000000\n",
       "75%         9.942748\n",
       "max       600.000000\n",
       "Name: pch_recfac_11_16, dtype: float64"
      ]
     },
     "execution_count": 22,
     "metadata": {},
     "output_type": "execute_result"
    }
   ],
   "source": [
    "health.pch_recfac_11_16.describe() #displays a statistical summary of the column"
   ]
  },
  {
   "cell_type": "markdown",
   "id": "eaac9daa",
   "metadata": {},
   "source": [
    "Negative values here could be appropriate, as this value refers to a percent change. Seeing a percent change of -100% is surprising, but certainly not impossible.\n",
    "\n",
    "No issues observed."
   ]
  },
  {
   "cell_type": "code",
   "execution_count": 23,
   "id": "0c4aa6b9",
   "metadata": {},
   "outputs": [
    {
     "data": {
      "text/plain": [
       "count    3143.000000\n",
       "mean        0.071337\n",
       "std         0.073805\n",
       "min         0.000000\n",
       "25%         0.000000\n",
       "50%         0.064726\n",
       "75%         0.107117\n",
       "max         0.628141\n",
       "Name: recfacpth11, dtype: float64"
      ]
     },
     "execution_count": 23,
     "metadata": {},
     "output_type": "execute_result"
    }
   ],
   "source": [
    "health.recfacpth11.describe() #displays a statisical summary of the column"
   ]
  },
  {
   "cell_type": "code",
   "execution_count": 24,
   "id": "4cc2159d",
   "metadata": {},
   "outputs": [
    {
     "data": {
      "text/plain": [
       "count    3143.000000\n",
       "mean        0.071337\n",
       "std         0.073805\n",
       "min         0.000000\n",
       "25%         0.000000\n",
       "50%         0.064726\n",
       "75%         0.107117\n",
       "max         0.628141\n",
       "Name: recfacpth11, dtype: float64"
      ]
     },
     "execution_count": 24,
     "metadata": {},
     "output_type": "execute_result"
    }
   ],
   "source": [
    "health.recfacpth11.describe() #displays a statisical summary of the column"
   ]
  },
  {
   "cell_type": "code",
   "execution_count": 25,
   "id": "4d153f9d",
   "metadata": {},
   "outputs": [
    {
     "data": {
      "text/plain": [
       "count    3143.000000\n",
       "mean        0.070300\n",
       "std         0.075829\n",
       "min         0.000000\n",
       "25%         0.000000\n",
       "50%         0.061983\n",
       "75%         0.108090\n",
       "max         1.053741\n",
       "Name: recfacpth16, dtype: float64"
      ]
     },
     "execution_count": 25,
     "metadata": {},
     "output_type": "execute_result"
    }
   ],
   "source": [
    "health.recfacpth16.describe() #displays a statistical summary of the column"
   ]
  },
  {
   "cell_type": "code",
   "execution_count": 26,
   "id": "7fe3e367",
   "metadata": {},
   "outputs": [
    {
     "data": {
      "text/plain": [
       "count    3000.000000\n",
       "mean       -0.095421\n",
       "std        50.007496\n",
       "min      -100.000000\n",
       "25%       -12.143966\n",
       "50%         0.000000\n",
       "75%         6.399759\n",
       "max       626.403236\n",
       "Name: pch_recfacpth_11_16, dtype: float64"
      ]
     },
     "execution_count": 26,
     "metadata": {},
     "output_type": "execute_result"
    }
   ],
   "source": [
    "health.pch_recfacpth_11_16.describe() #displays a statistical summary of the column"
   ]
  },
  {
   "cell_type": "markdown",
   "id": "a19a91e6",
   "metadata": {},
   "source": [
    "Again, negative percent changes are entirely possible.\n",
    "\n",
    "No issues observed."
   ]
  },
  {
   "cell_type": "markdown",
   "id": "2818913e",
   "metadata": {},
   "source": [
    "#### Discussion"
   ]
  },
  {
   "cell_type": "markdown",
   "id": "722779a8",
   "metadata": {},
   "source": [
    "I had hoped to use the data regarding physically active high schoolers (2017), however, there are too many missing values (760 out of 3143.) I will still analyze whatever information is present, however I will not use this variable for modeling.\n",
    "\n",
    "The percent change columns are also missing data (143 each), but these can be calculated if necessary. \n",
    "\n",
    "The prevalence of diabetes columns from 2008 and 2013 are missing 5 values and 1 value respectively. These variables, of course, will not be used for modeling. There is sufficient information within the 2 columns to gain understanding of how the other variables within the Food Environment Atlas affect prevalence of diabetes in general.\n",
    "\n",
    "Therefore, no additional changes will be made to the Health dataset at ths time."
   ]
  },
  {
   "cell_type": "markdown",
   "id": "41feb411",
   "metadata": {},
   "source": [
    "### 4. Saving Clean Dataframe to a CSV"
   ]
  },
  {
   "cell_type": "code",
   "execution_count": 27,
   "id": "9a02266f",
   "metadata": {},
   "outputs": [],
   "source": [
    "health.to_csv('../data/FoodEnvironmentAtlas.xls.HEALTH_CLEAN.csv', index = False) #saves clean dataframe to a new csv"
   ]
  },
  {
   "cell_type": "markdown",
   "id": "6c2d50f1",
   "metadata": {},
   "source": [
    "## III. Food Environmental Atlas - ACCESS "
   ]
  },
  {
   "cell_type": "markdown",
   "id": "d298e2be",
   "metadata": {},
   "source": [
    "This dataset contains information about access to stores, including percentages of the population that has low access to stores, along with being low income, who do not have a vehicle, and so on."
   ]
  },
  {
   "cell_type": "markdown",
   "id": "3dac8688",
   "metadata": {},
   "source": [
    "### 1. Data Import"
   ]
  },
  {
   "cell_type": "code",
   "execution_count": 28,
   "id": "8901a92d",
   "metadata": {},
   "outputs": [],
   "source": [
    "#importing the data\n",
    "\n",
    "file_path = '../data/FoodEnvironmentAtlas.xls.ACCESS.csv'\n",
    "\n",
    "access = pd.read_csv(file_path)"
   ]
  },
  {
   "cell_type": "markdown",
   "id": "cd22311b",
   "metadata": {},
   "source": [
    "### 2. Preliminary Analysis"
   ]
  },
  {
   "cell_type": "code",
   "execution_count": 29,
   "id": "6411222f",
   "metadata": {},
   "outputs": [
    {
     "data": {
      "text/html": [
       "<div>\n",
       "<style scoped>\n",
       "    .dataframe tbody tr th:only-of-type {\n",
       "        vertical-align: middle;\n",
       "    }\n",
       "\n",
       "    .dataframe tbody tr th {\n",
       "        vertical-align: top;\n",
       "    }\n",
       "\n",
       "    .dataframe thead th {\n",
       "        text-align: right;\n",
       "    }\n",
       "</style>\n",
       "<table border=\"1\" class=\"dataframe\">\n",
       "  <thead>\n",
       "    <tr style=\"text-align: right;\">\n",
       "      <th></th>\n",
       "      <th>FIPS</th>\n",
       "      <th>State</th>\n",
       "      <th>County</th>\n",
       "      <th>LACCESS_POP10</th>\n",
       "      <th>LACCESS_POP15</th>\n",
       "      <th>PCH_LACCESS_POP_10_15</th>\n",
       "      <th>PCT_LACCESS_POP10</th>\n",
       "      <th>PCT_LACCESS_POP15</th>\n",
       "      <th>LACCESS_LOWI10</th>\n",
       "      <th>LACCESS_LOWI15</th>\n",
       "      <th>...</th>\n",
       "      <th>LACCESS_HISP15</th>\n",
       "      <th>PCT_LACCESS_HISP15</th>\n",
       "      <th>LACCESS_NHASIAN15</th>\n",
       "      <th>PCT_LACCESS_NHASIAN15</th>\n",
       "      <th>LACCESS_NHNA15</th>\n",
       "      <th>PCT_LACCESS_NHNA15</th>\n",
       "      <th>LACCESS_NHPI15</th>\n",
       "      <th>PCT_LACCESS_NHPI15</th>\n",
       "      <th>LACCESS_MULTIR15</th>\n",
       "      <th>PCT_LACCESS_MULTIR15</th>\n",
       "    </tr>\n",
       "  </thead>\n",
       "  <tbody>\n",
       "    <tr>\n",
       "      <th>0</th>\n",
       "      <td>1001</td>\n",
       "      <td>AL</td>\n",
       "      <td>Autauga</td>\n",
       "      <td>18428.439690</td>\n",
       "      <td>17496.693040</td>\n",
       "      <td>-5.056026</td>\n",
       "      <td>33.769657</td>\n",
       "      <td>32.062255</td>\n",
       "      <td>5344.427472</td>\n",
       "      <td>6543.676824</td>\n",
       "      <td>...</td>\n",
       "      <td>471.136164</td>\n",
       "      <td>0.863345</td>\n",
       "      <td>86.767975</td>\n",
       "      <td>0.159000</td>\n",
       "      <td>61.169869</td>\n",
       "      <td>0.112092</td>\n",
       "      <td>8.817961</td>\n",
       "      <td>0.016159</td>\n",
       "      <td>482.848633</td>\n",
       "      <td>0.884808</td>\n",
       "    </tr>\n",
       "    <tr>\n",
       "      <th>1</th>\n",
       "      <td>1003</td>\n",
       "      <td>AL</td>\n",
       "      <td>Baldwin</td>\n",
       "      <td>35210.814080</td>\n",
       "      <td>30561.264430</td>\n",
       "      <td>-13.204891</td>\n",
       "      <td>19.318473</td>\n",
       "      <td>16.767489</td>\n",
       "      <td>9952.144027</td>\n",
       "      <td>9886.831137</td>\n",
       "      <td>...</td>\n",
       "      <td>1377.874834</td>\n",
       "      <td>0.755973</td>\n",
       "      <td>212.946378</td>\n",
       "      <td>0.116833</td>\n",
       "      <td>181.649648</td>\n",
       "      <td>0.099662</td>\n",
       "      <td>14.819634</td>\n",
       "      <td>0.008131</td>\n",
       "      <td>1127.696098</td>\n",
       "      <td>0.618712</td>\n",
       "    </tr>\n",
       "    <tr>\n",
       "      <th>2</th>\n",
       "      <td>1005</td>\n",
       "      <td>AL</td>\n",
       "      <td>Barbour</td>\n",
       "      <td>5722.305602</td>\n",
       "      <td>6069.523628</td>\n",
       "      <td>6.067799</td>\n",
       "      <td>20.840972</td>\n",
       "      <td>22.105560</td>\n",
       "      <td>3135.676086</td>\n",
       "      <td>2948.790251</td>\n",
       "      <td>...</td>\n",
       "      <td>509.377525</td>\n",
       "      <td>1.855183</td>\n",
       "      <td>17.096410</td>\n",
       "      <td>0.062266</td>\n",
       "      <td>39.960527</td>\n",
       "      <td>0.145539</td>\n",
       "      <td>8.082376</td>\n",
       "      <td>0.029436</td>\n",
       "      <td>462.382655</td>\n",
       "      <td>1.684025</td>\n",
       "    </tr>\n",
       "    <tr>\n",
       "      <th>3</th>\n",
       "      <td>1007</td>\n",
       "      <td>AL</td>\n",
       "      <td>Bibb</td>\n",
       "      <td>1044.867327</td>\n",
       "      <td>969.378841</td>\n",
       "      <td>-7.224696</td>\n",
       "      <td>4.559753</td>\n",
       "      <td>4.230324</td>\n",
       "      <td>491.449066</td>\n",
       "      <td>596.162829</td>\n",
       "      <td>...</td>\n",
       "      <td>8.596762</td>\n",
       "      <td>0.037516</td>\n",
       "      <td>1.994318</td>\n",
       "      <td>0.008703</td>\n",
       "      <td>2.513097</td>\n",
       "      <td>0.010967</td>\n",
       "      <td>0.000000</td>\n",
       "      <td>0.000000</td>\n",
       "      <td>5.259244</td>\n",
       "      <td>0.022951</td>\n",
       "    </tr>\n",
       "    <tr>\n",
       "      <th>4</th>\n",
       "      <td>1009</td>\n",
       "      <td>AL</td>\n",
       "      <td>Blount</td>\n",
       "      <td>1548.175559</td>\n",
       "      <td>3724.428242</td>\n",
       "      <td>140.568857</td>\n",
       "      <td>2.700840</td>\n",
       "      <td>6.497380</td>\n",
       "      <td>609.027708</td>\n",
       "      <td>1650.959482</td>\n",
       "      <td>...</td>\n",
       "      <td>497.489891</td>\n",
       "      <td>0.867886</td>\n",
       "      <td>8.428994</td>\n",
       "      <td>0.014705</td>\n",
       "      <td>28.938242</td>\n",
       "      <td>0.050484</td>\n",
       "      <td>1.062851</td>\n",
       "      <td>0.001854</td>\n",
       "      <td>202.914186</td>\n",
       "      <td>0.353990</td>\n",
       "    </tr>\n",
       "  </tbody>\n",
       "</table>\n",
       "<p>5 rows × 44 columns</p>\n",
       "</div>"
      ],
      "text/plain": [
       "   FIPS State   County  LACCESS_POP10  LACCESS_POP15  PCH_LACCESS_POP_10_15  \\\n",
       "0  1001    AL  Autauga   18428.439690   17496.693040              -5.056026   \n",
       "1  1003    AL  Baldwin   35210.814080   30561.264430             -13.204891   \n",
       "2  1005    AL  Barbour    5722.305602    6069.523628               6.067799   \n",
       "3  1007    AL     Bibb    1044.867327     969.378841              -7.224696   \n",
       "4  1009    AL   Blount    1548.175559    3724.428242             140.568857   \n",
       "\n",
       "   PCT_LACCESS_POP10  PCT_LACCESS_POP15  LACCESS_LOWI10  LACCESS_LOWI15  ...  \\\n",
       "0          33.769657          32.062255     5344.427472     6543.676824  ...   \n",
       "1          19.318473          16.767489     9952.144027     9886.831137  ...   \n",
       "2          20.840972          22.105560     3135.676086     2948.790251  ...   \n",
       "3           4.559753           4.230324      491.449066      596.162829  ...   \n",
       "4           2.700840           6.497380      609.027708     1650.959482  ...   \n",
       "\n",
       "   LACCESS_HISP15  PCT_LACCESS_HISP15  LACCESS_NHASIAN15  \\\n",
       "0      471.136164            0.863345          86.767975   \n",
       "1     1377.874834            0.755973         212.946378   \n",
       "2      509.377525            1.855183          17.096410   \n",
       "3        8.596762            0.037516           1.994318   \n",
       "4      497.489891            0.867886           8.428994   \n",
       "\n",
       "   PCT_LACCESS_NHASIAN15  LACCESS_NHNA15  PCT_LACCESS_NHNA15  LACCESS_NHPI15  \\\n",
       "0               0.159000       61.169869            0.112092        8.817961   \n",
       "1               0.116833      181.649648            0.099662       14.819634   \n",
       "2               0.062266       39.960527            0.145539        8.082376   \n",
       "3               0.008703        2.513097            0.010967        0.000000   \n",
       "4               0.014705       28.938242            0.050484        1.062851   \n",
       "\n",
       "   PCT_LACCESS_NHPI15  LACCESS_MULTIR15  PCT_LACCESS_MULTIR15  \n",
       "0            0.016159        482.848633              0.884808  \n",
       "1            0.008131       1127.696098              0.618712  \n",
       "2            0.029436        462.382655              1.684025  \n",
       "3            0.000000          5.259244              0.022951  \n",
       "4            0.001854        202.914186              0.353990  \n",
       "\n",
       "[5 rows x 44 columns]"
      ]
     },
     "execution_count": 29,
     "metadata": {},
     "output_type": "execute_result"
    }
   ],
   "source": [
    "access.head() #displays top 5 rows of dataframe"
   ]
  },
  {
   "cell_type": "code",
   "execution_count": 30,
   "id": "8e5272d4",
   "metadata": {},
   "outputs": [
    {
     "data": {
      "text/plain": [
       "(3143, 44)"
      ]
     },
     "execution_count": 30,
     "metadata": {},
     "output_type": "execute_result"
    }
   ],
   "source": [
    "access.shape #shows layout of dataframe"
   ]
  },
  {
   "cell_type": "code",
   "execution_count": 31,
   "id": "59405661",
   "metadata": {},
   "outputs": [
    {
     "data": {
      "text/plain": [
       "FIPS                          0\n",
       "State                         0\n",
       "County                        0\n",
       "LACCESS_POP10                 0\n",
       "LACCESS_POP15                19\n",
       "PCH_LACCESS_POP_10_15        26\n",
       "PCT_LACCESS_POP10             0\n",
       "PCT_LACCESS_POP15            19\n",
       "LACCESS_LOWI10                0\n",
       "LACCESS_LOWI15               20\n",
       "PCH_LACCESS_LOWI_10_15       28\n",
       "PCT_LACCESS_LOWI10            0\n",
       "PCT_LACCESS_LOWI15           20\n",
       "LACCESS_HHNV10                0\n",
       "LACCESS_HHNV15                3\n",
       "PCH_LACCESS_HHNV_10_15       14\n",
       "PCT_LACCESS_HHNV10            0\n",
       "PCT_LACCESS_HHNV15            3\n",
       "LACCESS_SNAP15               20\n",
       "PCT_LACCESS_SNAP15           20\n",
       "LACCESS_CHILD10               0\n",
       "LACCESS_CHILD15              19\n",
       "LACCESS_CHILD_10_15          28\n",
       "PCT_LACCESS_CHILD10           0\n",
       "PCT_LACCESS_CHILD15          19\n",
       "LACCESS_SENIORS10             0\n",
       "LACCESS_SENIORS15            19\n",
       "PCH_LACCESS_SENIORS_10_15    26\n",
       "PCT_LACCESS_SENIORS10         0\n",
       "PCT_LACCESS_SENIORS15        19\n",
       "LACCESS_WHITE15              19\n",
       "PCT_LACCESS_WHITE15          19\n",
       "LACCESS_BLACK15              19\n",
       "PCT_LACCESS_BLACK15          19\n",
       "LACCESS_HISP15               19\n",
       "PCT_LACCESS_HISP15           19\n",
       "LACCESS_NHASIAN15            19\n",
       "PCT_LACCESS_NHASIAN15        19\n",
       "LACCESS_NHNA15               19\n",
       "PCT_LACCESS_NHNA15           19\n",
       "LACCESS_NHPI15               19\n",
       "PCT_LACCESS_NHPI15           19\n",
       "LACCESS_MULTIR15             19\n",
       "PCT_LACCESS_MULTIR15         19\n",
       "dtype: int64"
      ]
     },
     "execution_count": 31,
     "metadata": {},
     "output_type": "execute_result"
    }
   ],
   "source": [
    "access.isnull().sum() #shows number of null values for each column"
   ]
  },
  {
   "cell_type": "markdown",
   "id": "9bb7be44",
   "metadata": {},
   "source": [
    "At this time, no null values will be filled. If they need to be filled at a later time in order to faciliate analysis, that will be decided at the time."
   ]
  },
  {
   "cell_type": "code",
   "execution_count": 32,
   "id": "a88b69f1",
   "metadata": {},
   "outputs": [
    {
     "data": {
      "text/plain": [
       "Index(['FIPS', 'State', 'County', 'LACCESS_POP10', 'LACCESS_POP15',\n",
       "       'PCH_LACCESS_POP_10_15', 'PCT_LACCESS_POP10', 'PCT_LACCESS_POP15',\n",
       "       'LACCESS_LOWI10', 'LACCESS_LOWI15', 'PCH_LACCESS_LOWI_10_15',\n",
       "       'PCT_LACCESS_LOWI10', 'PCT_LACCESS_LOWI15', 'LACCESS_HHNV10',\n",
       "       'LACCESS_HHNV15', 'PCH_LACCESS_HHNV_10_15', 'PCT_LACCESS_HHNV10',\n",
       "       'PCT_LACCESS_HHNV15', 'LACCESS_SNAP15', 'PCT_LACCESS_SNAP15',\n",
       "       'LACCESS_CHILD10', 'LACCESS_CHILD15', 'LACCESS_CHILD_10_15',\n",
       "       'PCT_LACCESS_CHILD10', 'PCT_LACCESS_CHILD15', 'LACCESS_SENIORS10',\n",
       "       'LACCESS_SENIORS15', 'PCH_LACCESS_SENIORS_10_15',\n",
       "       'PCT_LACCESS_SENIORS10', 'PCT_LACCESS_SENIORS15', 'LACCESS_WHITE15',\n",
       "       'PCT_LACCESS_WHITE15', 'LACCESS_BLACK15', 'PCT_LACCESS_BLACK15',\n",
       "       'LACCESS_HISP15', 'PCT_LACCESS_HISP15', 'LACCESS_NHASIAN15',\n",
       "       'PCT_LACCESS_NHASIAN15', 'LACCESS_NHNA15', 'PCT_LACCESS_NHNA15',\n",
       "       'LACCESS_NHPI15', 'PCT_LACCESS_NHPI15', 'LACCESS_MULTIR15',\n",
       "       'PCT_LACCESS_MULTIR15'],\n",
       "      dtype='object')"
      ]
     },
     "execution_count": 32,
     "metadata": {},
     "output_type": "execute_result"
    }
   ],
   "source": [
    "access.columns #shows names of all columns"
   ]
  },
  {
   "cell_type": "markdown",
   "id": "08d820aa",
   "metadata": {},
   "source": [
    "There are many columns here! I am not certain that all of these are needed...\n",
    "\n",
    "For example, I am uncertain that I would like to use ethnicity to predict prevalence of diabetes. My intention in the current study is to demonstrate how aspects of food environment can affect prevalence of diabetes, not how \"certain\" ethnic groups are more or less prone to disease.\n",
    "\n",
    "(I.e. if populations with certain ethnic groups had higher prevalence of diabetes, I would not like for anyone to conclude that it is because there are \"too many of THOSE people\" living there.)\n",
    "\n",
    "For now, I will not include the columns related to ethnicity in additional analysis. Additionally, I will include percentages instead of raw numbers so as to be able to generalize to counties of any population size.\n",
    "\n"
   ]
  },
  {
   "cell_type": "code",
   "execution_count": 33,
   "id": "5c4f0eb9",
   "metadata": {},
   "outputs": [
    {
     "data": {
      "text/plain": [
       "Index(['FIPS', 'State', 'County', 'PCT_LACCESS_POP10', 'PCT_LACCESS_POP15',\n",
       "       'PCT_LACCESS_LOWI10', 'PCT_LACCESS_LOWI15', 'PCT_LACCESS_HHNV10',\n",
       "       'PCT_LACCESS_HHNV15', 'PCT_LACCESS_SNAP15', 'PCT_LACCESS_CHILD10',\n",
       "       'PCT_LACCESS_CHILD15', 'PCT_LACCESS_SENIORS10',\n",
       "       'PCT_LACCESS_SENIORS15'],\n",
       "      dtype='object')"
      ]
     },
     "execution_count": 33,
     "metadata": {},
     "output_type": "execute_result"
    }
   ],
   "source": [
    "#redefines dataset as described above\n",
    "\n",
    "access = access[['FIPS', 'State', 'County', 'PCT_LACCESS_POP10', 'PCT_LACCESS_POP15', 'PCT_LACCESS_LOWI10', 'PCT_LACCESS_LOWI15', 'PCT_LACCESS_HHNV10', 'PCT_LACCESS_HHNV15', 'PCT_LACCESS_SNAP15', 'PCT_LACCESS_CHILD10', 'PCT_LACCESS_CHILD15', 'PCT_LACCESS_SENIORS10' , 'PCT_LACCESS_SENIORS15']]\n",
    "\n",
    "access.columns #displays revised list of columns\n",
    "          "
   ]
  },
  {
   "cell_type": "markdown",
   "id": "5bffa575",
   "metadata": {},
   "source": [
    "This list of columns is much less intimidating! I included the percentages and not the raw numbers or percent changes. I excluded the columns with data about ethnicity.\n",
    "\n",
    "Next, I would like to make the columns lowercase for ease of use."
   ]
  },
  {
   "cell_type": "code",
   "execution_count": 34,
   "id": "543decef",
   "metadata": {},
   "outputs": [
    {
     "data": {
      "text/plain": [
       "Index(['fips', 'state', 'county', 'pct_laccess_pop10', 'pct_laccess_pop15',\n",
       "       'pct_laccess_lowi10', 'pct_laccess_lowi15', 'pct_laccess_hhnv10',\n",
       "       'pct_laccess_hhnv15', 'pct_laccess_snap15', 'pct_laccess_child10',\n",
       "       'pct_laccess_child15', 'pct_laccess_seniors10',\n",
       "       'pct_laccess_seniors15'],\n",
       "      dtype='object')"
      ]
     },
     "execution_count": 34,
     "metadata": {},
     "output_type": "execute_result"
    }
   ],
   "source": [
    "access.columns = [col.lower() for col in access.columns] #makes letters in column names lowercase\n",
    "\n",
    "access.columns #displays revised column names"
   ]
  },
  {
   "cell_type": "code",
   "execution_count": 35,
   "id": "7ad610cc",
   "metadata": {},
   "outputs": [
    {
     "data": {
      "text/plain": [
       "fips                       int64\n",
       "state                     object\n",
       "county                    object\n",
       "pct_laccess_pop10        float64\n",
       "pct_laccess_pop15        float64\n",
       "pct_laccess_lowi10       float64\n",
       "pct_laccess_lowi15       float64\n",
       "pct_laccess_hhnv10       float64\n",
       "pct_laccess_hhnv15       float64\n",
       "pct_laccess_snap15       float64\n",
       "pct_laccess_child10      float64\n",
       "pct_laccess_child15      float64\n",
       "pct_laccess_seniors10    float64\n",
       "pct_laccess_seniors15    float64\n",
       "dtype: object"
      ]
     },
     "execution_count": 35,
     "metadata": {},
     "output_type": "execute_result"
    }
   ],
   "source": [
    "access.dtypes #displays the datatypes of the columns"
   ]
  },
  {
   "cell_type": "markdown",
   "id": "1d4ff34f",
   "metadata": {},
   "source": [
    "#### 3. Data Cleaning By Column"
   ]
  },
  {
   "cell_type": "markdown",
   "id": "405b1431",
   "metadata": {},
   "source": [
    "##### Pct low access pop 10"
   ]
  },
  {
   "cell_type": "code",
   "execution_count": 36,
   "id": "3e539aa3",
   "metadata": {},
   "outputs": [
    {
     "data": {
      "text/plain": [
       "3091"
      ]
     },
     "execution_count": 36,
     "metadata": {},
     "output_type": "execute_result"
    }
   ],
   "source": [
    "access.pct_laccess_pop10.nunique() #shows number of unique values for this column"
   ]
  },
  {
   "cell_type": "code",
   "execution_count": 37,
   "id": "c962d83d",
   "metadata": {},
   "outputs": [
    {
     "data": {
      "text/plain": [
       "0.000000      28\n",
       "100.000000     8\n",
       "100.000000     6\n",
       "100.000000     4\n",
       "100.000000     3\n",
       "              ..\n",
       "16.642450      1\n",
       "0.189767       1\n",
       "17.752938      1\n",
       "8.928767       1\n",
       "17.209949      1\n",
       "Name: pct_laccess_pop10, Length: 3091, dtype: int64"
      ]
     },
     "execution_count": 37,
     "metadata": {},
     "output_type": "execute_result"
    }
   ],
   "source": [
    "access.pct_laccess_pop10.value_counts() #shows value counts"
   ]
  },
  {
   "cell_type": "markdown",
   "id": "47a5e607",
   "metadata": {},
   "source": [
    "It appears there are 28 counties in which the low access is 0."
   ]
  },
  {
   "cell_type": "markdown",
   "id": "3bf7ce96",
   "metadata": {},
   "source": [
    "This dataframe is sufficiently clean for the moment. If the blank values must be filled, I will do this at a later time."
   ]
  },
  {
   "cell_type": "markdown",
   "id": "106ef015",
   "metadata": {},
   "source": [
    "### 3. Saving Clean Dataframe to a CSV"
   ]
  },
  {
   "cell_type": "code",
   "execution_count": 38,
   "id": "c7fe208b",
   "metadata": {},
   "outputs": [],
   "source": [
    "access.to_csv('../data/FoodEnvironmentAtlas.xls.ACCESS_CLEAN.csv', index = False) #saves clean dataframe to a new csv"
   ]
  },
  {
   "cell_type": "markdown",
   "id": "14dfba1d",
   "metadata": {},
   "source": [
    "## III. Food Environmental Atlas - ASSISTANCE"
   ]
  },
  {
   "cell_type": "markdown",
   "id": "a165fb3a",
   "metadata": {},
   "source": [
    "This dataset contains information regarding recipients of public benefits related to food including SNAP (Supplemental Nutrition Assistance Program,) WIC, and also the number of Food Banks within a county."
   ]
  },
  {
   "cell_type": "markdown",
   "id": "732dc827",
   "metadata": {},
   "source": [
    "### 1. Data Import"
   ]
  },
  {
   "cell_type": "code",
   "execution_count": 39,
   "id": "c37f050b",
   "metadata": {},
   "outputs": [],
   "source": [
    "file_path = '../data/FoodEnvironmentAtlas.xls.ASSISTANCE.csv'\n",
    "\n",
    "assistance = pd.read_csv(file_path)"
   ]
  },
  {
   "cell_type": "markdown",
   "id": "f39a881f",
   "metadata": {},
   "source": [
    "### 2. Preliminary Analysis"
   ]
  },
  {
   "cell_type": "code",
   "execution_count": 40,
   "id": "fd1a42bd",
   "metadata": {},
   "outputs": [
    {
     "data": {
      "text/html": [
       "<div>\n",
       "<style scoped>\n",
       "    .dataframe tbody tr th:only-of-type {\n",
       "        vertical-align: middle;\n",
       "    }\n",
       "\n",
       "    .dataframe tbody tr th {\n",
       "        vertical-align: top;\n",
       "    }\n",
       "\n",
       "    .dataframe thead th {\n",
       "        text-align: right;\n",
       "    }\n",
       "</style>\n",
       "<table border=\"1\" class=\"dataframe\">\n",
       "  <thead>\n",
       "    <tr style=\"text-align: right;\">\n",
       "      <th></th>\n",
       "      <th>FIPS</th>\n",
       "      <th>State</th>\n",
       "      <th>County</th>\n",
       "      <th>REDEMP_SNAPS12</th>\n",
       "      <th>REDEMP_SNAPS17</th>\n",
       "      <th>PCH_REDEMP_SNAPS_12_17</th>\n",
       "      <th>PCT_SNAP12</th>\n",
       "      <th>PCT_SNAP17</th>\n",
       "      <th>PCH_SNAP_12_17</th>\n",
       "      <th>PC_SNAPBEN12</th>\n",
       "      <th>...</th>\n",
       "      <th>PCT_WICWOMEN14</th>\n",
       "      <th>PCT_WICWOMEN16</th>\n",
       "      <th>PCH_WICWOMEN_14_16</th>\n",
       "      <th>PCT_CACFP12</th>\n",
       "      <th>PCT_CACFP17</th>\n",
       "      <th>PCH_CACFP_12_17</th>\n",
       "      <th>FDPIR12</th>\n",
       "      <th>FDPIR15</th>\n",
       "      <th>PCH_FDPIR_12_15</th>\n",
       "      <th>FOOD_BANKS18</th>\n",
       "    </tr>\n",
       "  </thead>\n",
       "  <tbody>\n",
       "    <tr>\n",
       "      <th>0</th>\n",
       "      <td>1001</td>\n",
       "      <td>AL</td>\n",
       "      <td>Autauga</td>\n",
       "      <td>301432.0811</td>\n",
       "      <td>223185.6784</td>\n",
       "      <td>-25.958220</td>\n",
       "      <td>18.908476</td>\n",
       "      <td>16.500056</td>\n",
       "      <td>-2.40842</td>\n",
       "      <td>18.471487</td>\n",
       "      <td>...</td>\n",
       "      <td>3.318827</td>\n",
       "      <td>3.309759</td>\n",
       "      <td>-0.009068</td>\n",
       "      <td>0.891239</td>\n",
       "      <td>1.258763</td>\n",
       "      <td>0.367524</td>\n",
       "      <td>0</td>\n",
       "      <td>0</td>\n",
       "      <td>0.0</td>\n",
       "      <td>0</td>\n",
       "    </tr>\n",
       "    <tr>\n",
       "      <th>1</th>\n",
       "      <td>1003</td>\n",
       "      <td>AL</td>\n",
       "      <td>Baldwin</td>\n",
       "      <td>274394.5037</td>\n",
       "      <td>157623.1336</td>\n",
       "      <td>-42.556016</td>\n",
       "      <td>18.908476</td>\n",
       "      <td>16.500056</td>\n",
       "      <td>-2.40842</td>\n",
       "      <td>15.890722</td>\n",
       "      <td>...</td>\n",
       "      <td>3.318827</td>\n",
       "      <td>3.309759</td>\n",
       "      <td>-0.009068</td>\n",
       "      <td>0.891239</td>\n",
       "      <td>1.258763</td>\n",
       "      <td>0.367524</td>\n",
       "      <td>0</td>\n",
       "      <td>0</td>\n",
       "      <td>0.0</td>\n",
       "      <td>0</td>\n",
       "    </tr>\n",
       "    <tr>\n",
       "      <th>2</th>\n",
       "      <td>1005</td>\n",
       "      <td>AL</td>\n",
       "      <td>Barbour</td>\n",
       "      <td>325496.5608</td>\n",
       "      <td>257032.0789</td>\n",
       "      <td>-21.033857</td>\n",
       "      <td>18.908476</td>\n",
       "      <td>16.500056</td>\n",
       "      <td>-2.40842</td>\n",
       "      <td>31.116222</td>\n",
       "      <td>...</td>\n",
       "      <td>3.318827</td>\n",
       "      <td>3.309759</td>\n",
       "      <td>-0.009068</td>\n",
       "      <td>0.891239</td>\n",
       "      <td>1.258763</td>\n",
       "      <td>0.367524</td>\n",
       "      <td>0</td>\n",
       "      <td>0</td>\n",
       "      <td>0.0</td>\n",
       "      <td>0</td>\n",
       "    </tr>\n",
       "    <tr>\n",
       "      <th>3</th>\n",
       "      <td>1007</td>\n",
       "      <td>AL</td>\n",
       "      <td>Bibb</td>\n",
       "      <td>356444.0320</td>\n",
       "      <td>227725.2451</td>\n",
       "      <td>-36.111921</td>\n",
       "      <td>18.908476</td>\n",
       "      <td>16.500056</td>\n",
       "      <td>-2.40842</td>\n",
       "      <td>22.435049</td>\n",
       "      <td>...</td>\n",
       "      <td>3.318827</td>\n",
       "      <td>3.309759</td>\n",
       "      <td>-0.009068</td>\n",
       "      <td>0.891239</td>\n",
       "      <td>1.258763</td>\n",
       "      <td>0.367524</td>\n",
       "      <td>0</td>\n",
       "      <td>0</td>\n",
       "      <td>0.0</td>\n",
       "      <td>0</td>\n",
       "    </tr>\n",
       "    <tr>\n",
       "      <th>4</th>\n",
       "      <td>1009</td>\n",
       "      <td>AL</td>\n",
       "      <td>Blount</td>\n",
       "      <td>229730.0226</td>\n",
       "      <td>142860.8256</td>\n",
       "      <td>-37.813602</td>\n",
       "      <td>18.908476</td>\n",
       "      <td>16.500056</td>\n",
       "      <td>-2.40842</td>\n",
       "      <td>20.272305</td>\n",
       "      <td>...</td>\n",
       "      <td>3.318827</td>\n",
       "      <td>3.309759</td>\n",
       "      <td>-0.009068</td>\n",
       "      <td>0.891239</td>\n",
       "      <td>1.258763</td>\n",
       "      <td>0.367524</td>\n",
       "      <td>0</td>\n",
       "      <td>0</td>\n",
       "      <td>0.0</td>\n",
       "      <td>0</td>\n",
       "    </tr>\n",
       "  </tbody>\n",
       "</table>\n",
       "<p>5 rows × 57 columns</p>\n",
       "</div>"
      ],
      "text/plain": [
       "   FIPS State   County  REDEMP_SNAPS12  REDEMP_SNAPS17  \\\n",
       "0  1001    AL  Autauga     301432.0811     223185.6784   \n",
       "1  1003    AL  Baldwin     274394.5037     157623.1336   \n",
       "2  1005    AL  Barbour     325496.5608     257032.0789   \n",
       "3  1007    AL     Bibb     356444.0320     227725.2451   \n",
       "4  1009    AL   Blount     229730.0226     142860.8256   \n",
       "\n",
       "   PCH_REDEMP_SNAPS_12_17  PCT_SNAP12  PCT_SNAP17  PCH_SNAP_12_17  \\\n",
       "0              -25.958220   18.908476   16.500056        -2.40842   \n",
       "1              -42.556016   18.908476   16.500056        -2.40842   \n",
       "2              -21.033857   18.908476   16.500056        -2.40842   \n",
       "3              -36.111921   18.908476   16.500056        -2.40842   \n",
       "4              -37.813602   18.908476   16.500056        -2.40842   \n",
       "\n",
       "   PC_SNAPBEN12  ...  PCT_WICWOMEN14  PCT_WICWOMEN16  PCH_WICWOMEN_14_16  \\\n",
       "0     18.471487  ...        3.318827        3.309759           -0.009068   \n",
       "1     15.890722  ...        3.318827        3.309759           -0.009068   \n",
       "2     31.116222  ...        3.318827        3.309759           -0.009068   \n",
       "3     22.435049  ...        3.318827        3.309759           -0.009068   \n",
       "4     20.272305  ...        3.318827        3.309759           -0.009068   \n",
       "\n",
       "   PCT_CACFP12  PCT_CACFP17  PCH_CACFP_12_17  FDPIR12  FDPIR15  \\\n",
       "0     0.891239     1.258763         0.367524        0        0   \n",
       "1     0.891239     1.258763         0.367524        0        0   \n",
       "2     0.891239     1.258763         0.367524        0        0   \n",
       "3     0.891239     1.258763         0.367524        0        0   \n",
       "4     0.891239     1.258763         0.367524        0        0   \n",
       "\n",
       "   PCH_FDPIR_12_15  FOOD_BANKS18  \n",
       "0              0.0             0  \n",
       "1              0.0             0  \n",
       "2              0.0             0  \n",
       "3              0.0             0  \n",
       "4              0.0             0  \n",
       "\n",
       "[5 rows x 57 columns]"
      ]
     },
     "execution_count": 40,
     "metadata": {},
     "output_type": "execute_result"
    }
   ],
   "source": [
    "assistance.head() #shows top 5 rows of dataframe"
   ]
  },
  {
   "cell_type": "code",
   "execution_count": 41,
   "id": "a3508495",
   "metadata": {},
   "outputs": [
    {
     "data": {
      "text/plain": [
       "(3143, 57)"
      ]
     },
     "execution_count": 41,
     "metadata": {},
     "output_type": "execute_result"
    }
   ],
   "source": [
    "assistance.shape #shows layout of dataframe"
   ]
  },
  {
   "cell_type": "markdown",
   "id": "35499869",
   "metadata": {},
   "source": [
    "There are 57 columns in this dataset!\n",
    "\n",
    "I will need to use a model that does well with high-dimension datasets."
   ]
  },
  {
   "cell_type": "code",
   "execution_count": 42,
   "id": "85d9e177",
   "metadata": {},
   "outputs": [
    {
     "data": {
      "text/plain": [
       "FIPS                          int64\n",
       "State                        object\n",
       "County                       object\n",
       "REDEMP_SNAPS12              float64\n",
       "REDEMP_SNAPS17              float64\n",
       "PCH_REDEMP_SNAPS_12_17      float64\n",
       "PCT_SNAP12                  float64\n",
       "PCT_SNAP17                  float64\n",
       "PCH_SNAP_12_17              float64\n",
       "PC_SNAPBEN12                float64\n",
       "PC_SNAPBEN17                float64\n",
       "PCH_PC_SNAPBEN_12_17        float64\n",
       "SNAP_PART_RATE11            float64\n",
       "SNAP_PART_RATE16            float64\n",
       "SNAP_OAPP09                 float64\n",
       "SNAP_OAPP16                 float64\n",
       "SNAP_CAP09                    int64\n",
       "SNAP_CAP16                    int64\n",
       "SNAP_BBCE09                   int64\n",
       "SNAP_BBCE16                   int64\n",
       "SNAP_REPORTSIMPLE09           int64\n",
       "SNAP_REPORTSIMPLE16           int64\n",
       "PCT_NSLP12                  float64\n",
       "PCT_NSLP17                  float64\n",
       "PCH_NSLP_12_17              float64\n",
       "PCT_FREE_LUNCH10            float64\n",
       "PCT_FREE_LUNCH15            float64\n",
       "PCT_REDUCED_LUNCH10         float64\n",
       "PCT_REDUCED_LUNCH15         float64\n",
       "PCT_SBP12                   float64\n",
       "PCT_SBP17                   float64\n",
       "PCH_SBP_12_17               float64\n",
       "PCT_SFSP12                  float64\n",
       "PCT_SFSP17                  float64\n",
       "PCH_SFSP_12_17              float64\n",
       "PC_WIC_REDEMP11             float64\n",
       "PC_WIC_REDEMP16             float64\n",
       "PCH_PC_WIC_REDEMP_11_16     float64\n",
       "REDEMP_WICS11               float64\n",
       "REDEMP_WICS16               float64\n",
       "PCH_REDEMP_WICS_11_16       float64\n",
       "PCT_WIC12                   float64\n",
       "PCT_WIC17                   float64\n",
       "PCH_WIC_12_17               float64\n",
       "PCT_WICINFANTCHILD14        float64\n",
       "PCT_WICINFANTCHILD16        float64\n",
       "PCH_WICINFANTCHILD_14_16    float64\n",
       "PCT_WICWOMEN14              float64\n",
       "PCT_WICWOMEN16              float64\n",
       "PCH_WICWOMEN_14_16          float64\n",
       "PCT_CACFP12                 float64\n",
       "PCT_CACFP17                 float64\n",
       "PCH_CACFP_12_17             float64\n",
       "FDPIR12                       int64\n",
       "FDPIR15                       int64\n",
       "PCH_FDPIR_12_15             float64\n",
       "FOOD_BANKS18                  int64\n",
       "dtype: object"
      ]
     },
     "execution_count": 42,
     "metadata": {},
     "output_type": "execute_result"
    }
   ],
   "source": [
    "assistance.dtypes #displays datatypes for the columns"
   ]
  },
  {
   "cell_type": "code",
   "execution_count": 43,
   "id": "b2af1c6f",
   "metadata": {},
   "outputs": [
    {
     "data": {
      "text/plain": [
       "FIPS                           0\n",
       "State                          0\n",
       "County                         0\n",
       "REDEMP_SNAPS12               242\n",
       "REDEMP_SNAPS17               248\n",
       "PCH_REDEMP_SNAPS_12_17       299\n",
       "PCT_SNAP12                     0\n",
       "PCT_SNAP17                     0\n",
       "PCH_SNAP_12_17                 0\n",
       "PC_SNAPBEN12                  56\n",
       "PC_SNAPBEN17                  56\n",
       "PCH_PC_SNAPBEN_12_17          56\n",
       "SNAP_PART_RATE11               0\n",
       "SNAP_PART_RATE16               0\n",
       "SNAP_OAPP09                    0\n",
       "SNAP_OAPP16                    0\n",
       "SNAP_CAP09                     0\n",
       "SNAP_CAP16                     0\n",
       "SNAP_BBCE09                    0\n",
       "SNAP_BBCE16                    0\n",
       "SNAP_REPORTSIMPLE09            0\n",
       "SNAP_REPORTSIMPLE16            0\n",
       "PCT_NSLP12                     0\n",
       "PCT_NSLP17                     0\n",
       "PCH_NSLP_12_17                 0\n",
       "PCT_FREE_LUNCH10              21\n",
       "PCT_FREE_LUNCH15             289\n",
       "PCT_REDUCED_LUNCH10           31\n",
       "PCT_REDUCED_LUNCH15          289\n",
       "PCT_SBP12                      0\n",
       "PCT_SBP17                      0\n",
       "PCH_SBP_12_17                  0\n",
       "PCT_SFSP12                     0\n",
       "PCT_SFSP17                     0\n",
       "PCH_SFSP_12_17                 0\n",
       "PC_WIC_REDEMP11             1109\n",
       "PC_WIC_REDEMP16             1286\n",
       "PCH_PC_WIC_REDEMP_11_16     1335\n",
       "REDEMP_WICS11                132\n",
       "REDEMP_WICS16                158\n",
       "PCH_REDEMP_WICS_11_16        160\n",
       "PCT_WIC12                      0\n",
       "PCT_WIC17                      0\n",
       "PCH_WIC_12_17                  0\n",
       "PCT_WICINFANTCHILD14           0\n",
       "PCT_WICINFANTCHILD16           0\n",
       "PCH_WICINFANTCHILD_14_16       0\n",
       "PCT_WICWOMEN14                 0\n",
       "PCT_WICWOMEN16                 0\n",
       "PCH_WICWOMEN_14_16             0\n",
       "PCT_CACFP12                    0\n",
       "PCT_CACFP17                    0\n",
       "PCH_CACFP_12_17                0\n",
       "FDPIR12                        0\n",
       "FDPIR15                        0\n",
       "PCH_FDPIR_12_15                7\n",
       "FOOD_BANKS18                   0\n",
       "dtype: int64"
      ]
     },
     "execution_count": 43,
     "metadata": {},
     "output_type": "execute_result"
    }
   ],
   "source": [
    "assistance.isnull().sum() #displays number of missing values"
   ]
  },
  {
   "cell_type": "markdown",
   "id": "e94fd1b1",
   "metadata": {},
   "source": [
    "Some of the columns are missing values. Additionally, this is a great deal of information...\n",
    "\n",
    "Meanwhile, according to [this reference](https://www.dshs.wa.gov/sites/default/files/ESA/csd/documents/Basic%20Food_Q_and_A.pdf), eligibility for SNAP, WIC, and free meals at schools seem to be related.\n",
    "\n",
    "For now, I will focus on columns that contain fewest missing values, while retaining as much information as possible. I will retain the following columns:\n",
    "\n",
    "FIPS\n",
    "\n",
    "State\n",
    "\n",
    "County\n",
    "\n",
    "pct_snap_12\n",
    "\n",
    "pct_snap_17\n",
    "\n",
    "snap_part_rate11\n",
    "\n",
    "snap_part_rate16\n",
    "\n",
    "pct_nslp12\n",
    "\n",
    "pct_nslp17\n",
    "\n",
    "pct_sbp12\n",
    "\n",
    "pct_sbp17\n",
    "\n",
    "pct_wic12\n",
    "\n",
    "pct_wic17\n",
    "\n",
    "pct_wicinfantchild14\n",
    "\n",
    "pct_wicinfantchild16\n",
    "\n",
    "pct_wicwomen14\n",
    "\n",
    "pct_wicwomen16\n",
    "\n",
    "pct_cacfp12\n",
    "\n",
    "pct_cacfp17\n",
    "\n",
    "fdpir12\n",
    "\n",
    "fdpir15\n",
    "\n",
    "food_banks18"
   ]
  },
  {
   "cell_type": "code",
   "execution_count": 44,
   "id": "1142eb5d",
   "metadata": {},
   "outputs": [
    {
     "data": {
      "text/plain": [
       "Index(['fips', 'state', 'county', 'redemp_snaps12', 'redemp_snaps17',\n",
       "       'pch_redemp_snaps_12_17', 'pct_snap12', 'pct_snap17', 'pch_snap_12_17',\n",
       "       'pc_snapben12', 'pc_snapben17', 'pch_pc_snapben_12_17',\n",
       "       'snap_part_rate11', 'snap_part_rate16', 'snap_oapp09', 'snap_oapp16',\n",
       "       'snap_cap09', 'snap_cap16', 'snap_bbce09', 'snap_bbce16',\n",
       "       'snap_reportsimple09', 'snap_reportsimple16', 'pct_nslp12',\n",
       "       'pct_nslp17', 'pch_nslp_12_17', 'pct_free_lunch10', 'pct_free_lunch15',\n",
       "       'pct_reduced_lunch10', 'pct_reduced_lunch15', 'pct_sbp12', 'pct_sbp17',\n",
       "       'pch_sbp_12_17', 'pct_sfsp12', 'pct_sfsp17', 'pch_sfsp_12_17',\n",
       "       'pc_wic_redemp11', 'pc_wic_redemp16', 'pch_pc_wic_redemp_11_16',\n",
       "       'redemp_wics11', 'redemp_wics16', 'pch_redemp_wics_11_16', 'pct_wic12',\n",
       "       'pct_wic17', 'pch_wic_12_17', 'pct_wicinfantchild14',\n",
       "       'pct_wicinfantchild16', 'pch_wicinfantchild_14_16', 'pct_wicwomen14',\n",
       "       'pct_wicwomen16', 'pch_wicwomen_14_16', 'pct_cacfp12', 'pct_cacfp17',\n",
       "       'pch_cacfp_12_17', 'fdpir12', 'fdpir15', 'pch_fdpir_12_15',\n",
       "       'food_banks18'],\n",
       "      dtype='object')"
      ]
     },
     "execution_count": 44,
     "metadata": {},
     "output_type": "execute_result"
    }
   ],
   "source": [
    "assistance.columns = [col.lower() for col in assistance.columns] #changes column names to lowercase\n",
    "\n",
    "assistance.columns"
   ]
  },
  {
   "cell_type": "markdown",
   "id": "20f06e15",
   "metadata": {},
   "source": [
    "Now, I will trim the dataset to include only those I listed above. This will facilitate some of the analysis I plan to conduct in SQL. However, I may return to using the full dataset at a later time."
   ]
  },
  {
   "cell_type": "code",
   "execution_count": 45,
   "id": "12af7f9a",
   "metadata": {},
   "outputs": [
    {
     "data": {
      "text/html": [
       "<div>\n",
       "<style scoped>\n",
       "    .dataframe tbody tr th:only-of-type {\n",
       "        vertical-align: middle;\n",
       "    }\n",
       "\n",
       "    .dataframe tbody tr th {\n",
       "        vertical-align: top;\n",
       "    }\n",
       "\n",
       "    .dataframe thead th {\n",
       "        text-align: right;\n",
       "    }\n",
       "</style>\n",
       "<table border=\"1\" class=\"dataframe\">\n",
       "  <thead>\n",
       "    <tr style=\"text-align: right;\">\n",
       "      <th></th>\n",
       "      <th>fips</th>\n",
       "      <th>state</th>\n",
       "      <th>county</th>\n",
       "      <th>pct_snap12</th>\n",
       "      <th>pct_snap17</th>\n",
       "      <th>snap_part_rate11</th>\n",
       "      <th>snap_part_rate16</th>\n",
       "      <th>pct_nslp12</th>\n",
       "      <th>pct_nslp17</th>\n",
       "      <th>pct_sbp12</th>\n",
       "      <th>...</th>\n",
       "      <th>pct_wic17</th>\n",
       "      <th>pct_wicinfantchild14</th>\n",
       "      <th>pct_wicinfantchild16</th>\n",
       "      <th>pct_wicwomen14</th>\n",
       "      <th>pct_wicwomen16</th>\n",
       "      <th>pct_cacfp12</th>\n",
       "      <th>pct_cacfp17</th>\n",
       "      <th>fdpir12</th>\n",
       "      <th>fdpir15</th>\n",
       "      <th>food_banks18</th>\n",
       "    </tr>\n",
       "  </thead>\n",
       "  <tbody>\n",
       "    <tr>\n",
       "      <th>0</th>\n",
       "      <td>1001</td>\n",
       "      <td>AL</td>\n",
       "      <td>Autauga</td>\n",
       "      <td>18.908476</td>\n",
       "      <td>16.500056</td>\n",
       "      <td>84.02</td>\n",
       "      <td>86.898</td>\n",
       "      <td>68.226043</td>\n",
       "      <td>63.12659</td>\n",
       "      <td>27.206328</td>\n",
       "      <td>...</td>\n",
       "      <td>2.54357</td>\n",
       "      <td>33.481211</td>\n",
       "      <td>32.910876</td>\n",
       "      <td>3.318827</td>\n",
       "      <td>3.309759</td>\n",
       "      <td>0.891239</td>\n",
       "      <td>1.258763</td>\n",
       "      <td>0</td>\n",
       "      <td>0</td>\n",
       "      <td>0</td>\n",
       "    </tr>\n",
       "    <tr>\n",
       "      <th>1</th>\n",
       "      <td>1003</td>\n",
       "      <td>AL</td>\n",
       "      <td>Baldwin</td>\n",
       "      <td>18.908476</td>\n",
       "      <td>16.500056</td>\n",
       "      <td>84.02</td>\n",
       "      <td>86.898</td>\n",
       "      <td>68.226043</td>\n",
       "      <td>63.12659</td>\n",
       "      <td>27.206328</td>\n",
       "      <td>...</td>\n",
       "      <td>2.54357</td>\n",
       "      <td>33.481211</td>\n",
       "      <td>32.910876</td>\n",
       "      <td>3.318827</td>\n",
       "      <td>3.309759</td>\n",
       "      <td>0.891239</td>\n",
       "      <td>1.258763</td>\n",
       "      <td>0</td>\n",
       "      <td>0</td>\n",
       "      <td>0</td>\n",
       "    </tr>\n",
       "    <tr>\n",
       "      <th>2</th>\n",
       "      <td>1005</td>\n",
       "      <td>AL</td>\n",
       "      <td>Barbour</td>\n",
       "      <td>18.908476</td>\n",
       "      <td>16.500056</td>\n",
       "      <td>84.02</td>\n",
       "      <td>86.898</td>\n",
       "      <td>68.226043</td>\n",
       "      <td>63.12659</td>\n",
       "      <td>27.206328</td>\n",
       "      <td>...</td>\n",
       "      <td>2.54357</td>\n",
       "      <td>33.481211</td>\n",
       "      <td>32.910876</td>\n",
       "      <td>3.318827</td>\n",
       "      <td>3.309759</td>\n",
       "      <td>0.891239</td>\n",
       "      <td>1.258763</td>\n",
       "      <td>0</td>\n",
       "      <td>0</td>\n",
       "      <td>0</td>\n",
       "    </tr>\n",
       "    <tr>\n",
       "      <th>3</th>\n",
       "      <td>1007</td>\n",
       "      <td>AL</td>\n",
       "      <td>Bibb</td>\n",
       "      <td>18.908476</td>\n",
       "      <td>16.500056</td>\n",
       "      <td>84.02</td>\n",
       "      <td>86.898</td>\n",
       "      <td>68.226043</td>\n",
       "      <td>63.12659</td>\n",
       "      <td>27.206328</td>\n",
       "      <td>...</td>\n",
       "      <td>2.54357</td>\n",
       "      <td>33.481211</td>\n",
       "      <td>32.910876</td>\n",
       "      <td>3.318827</td>\n",
       "      <td>3.309759</td>\n",
       "      <td>0.891239</td>\n",
       "      <td>1.258763</td>\n",
       "      <td>0</td>\n",
       "      <td>0</td>\n",
       "      <td>0</td>\n",
       "    </tr>\n",
       "    <tr>\n",
       "      <th>4</th>\n",
       "      <td>1009</td>\n",
       "      <td>AL</td>\n",
       "      <td>Blount</td>\n",
       "      <td>18.908476</td>\n",
       "      <td>16.500056</td>\n",
       "      <td>84.02</td>\n",
       "      <td>86.898</td>\n",
       "      <td>68.226043</td>\n",
       "      <td>63.12659</td>\n",
       "      <td>27.206328</td>\n",
       "      <td>...</td>\n",
       "      <td>2.54357</td>\n",
       "      <td>33.481211</td>\n",
       "      <td>32.910876</td>\n",
       "      <td>3.318827</td>\n",
       "      <td>3.309759</td>\n",
       "      <td>0.891239</td>\n",
       "      <td>1.258763</td>\n",
       "      <td>0</td>\n",
       "      <td>0</td>\n",
       "      <td>0</td>\n",
       "    </tr>\n",
       "  </tbody>\n",
       "</table>\n",
       "<p>5 rows × 22 columns</p>\n",
       "</div>"
      ],
      "text/plain": [
       "   fips state   county  pct_snap12  pct_snap17  snap_part_rate11  \\\n",
       "0  1001    AL  Autauga   18.908476   16.500056             84.02   \n",
       "1  1003    AL  Baldwin   18.908476   16.500056             84.02   \n",
       "2  1005    AL  Barbour   18.908476   16.500056             84.02   \n",
       "3  1007    AL     Bibb   18.908476   16.500056             84.02   \n",
       "4  1009    AL   Blount   18.908476   16.500056             84.02   \n",
       "\n",
       "   snap_part_rate16  pct_nslp12  pct_nslp17  pct_sbp12  ...  pct_wic17  \\\n",
       "0            86.898   68.226043    63.12659  27.206328  ...    2.54357   \n",
       "1            86.898   68.226043    63.12659  27.206328  ...    2.54357   \n",
       "2            86.898   68.226043    63.12659  27.206328  ...    2.54357   \n",
       "3            86.898   68.226043    63.12659  27.206328  ...    2.54357   \n",
       "4            86.898   68.226043    63.12659  27.206328  ...    2.54357   \n",
       "\n",
       "   pct_wicinfantchild14  pct_wicinfantchild16  pct_wicwomen14  pct_wicwomen16  \\\n",
       "0             33.481211             32.910876        3.318827        3.309759   \n",
       "1             33.481211             32.910876        3.318827        3.309759   \n",
       "2             33.481211             32.910876        3.318827        3.309759   \n",
       "3             33.481211             32.910876        3.318827        3.309759   \n",
       "4             33.481211             32.910876        3.318827        3.309759   \n",
       "\n",
       "   pct_cacfp12  pct_cacfp17  fdpir12  fdpir15  food_banks18  \n",
       "0     0.891239     1.258763        0        0             0  \n",
       "1     0.891239     1.258763        0        0             0  \n",
       "2     0.891239     1.258763        0        0             0  \n",
       "3     0.891239     1.258763        0        0             0  \n",
       "4     0.891239     1.258763        0        0             0  \n",
       "\n",
       "[5 rows x 22 columns]"
      ]
     },
     "execution_count": 45,
     "metadata": {},
     "output_type": "execute_result"
    }
   ],
   "source": [
    "#redefines dataframe to include only referenced columns\n",
    "\n",
    "assistance = (assistance[['fips', 'state','county', 'pct_snap12', 'pct_snap17', 'snap_part_rate11', 'snap_part_rate16' , 'pct_nslp12',\n",
    "                         'pct_nslp17', 'pct_sbp12', 'pct_sbp17', 'pct_wic12' , 'pct_wic17', 'pct_wicinfantchild14', 'pct_wicinfantchild16', \n",
    "                          'pct_wicwomen14' , 'pct_wicwomen16' , 'pct_cacfp12', 'pct_cacfp17', 'fdpir12', 'fdpir15', 'food_banks18' ]])\n",
    "\n",
    "assistance.head() #shows the top 5 rows of the revised dataframe"
   ]
  },
  {
   "cell_type": "code",
   "execution_count": 46,
   "id": "d0e0f886",
   "metadata": {},
   "outputs": [
    {
     "data": {
      "text/plain": [
       "(3143, 22)"
      ]
     },
     "execution_count": 46,
     "metadata": {},
     "output_type": "execute_result"
    }
   ],
   "source": [
    "assistance.shape #shows the layout of the revised dataframe"
   ]
  },
  {
   "cell_type": "code",
   "execution_count": 47,
   "id": "f54f6924",
   "metadata": {},
   "outputs": [
    {
     "data": {
      "text/plain": [
       "fips                      int64\n",
       "state                    object\n",
       "county                   object\n",
       "pct_snap12              float64\n",
       "pct_snap17              float64\n",
       "snap_part_rate11        float64\n",
       "snap_part_rate16        float64\n",
       "pct_nslp12              float64\n",
       "pct_nslp17              float64\n",
       "pct_sbp12               float64\n",
       "pct_sbp17               float64\n",
       "pct_wic12               float64\n",
       "pct_wic17               float64\n",
       "pct_wicinfantchild14    float64\n",
       "pct_wicinfantchild16    float64\n",
       "pct_wicwomen14          float64\n",
       "pct_wicwomen16          float64\n",
       "pct_cacfp12             float64\n",
       "pct_cacfp17             float64\n",
       "fdpir12                   int64\n",
       "fdpir15                   int64\n",
       "food_banks18              int64\n",
       "dtype: object"
      ]
     },
     "execution_count": 47,
     "metadata": {},
     "output_type": "execute_result"
    }
   ],
   "source": [
    "assistance.dtypes #displays the datatypes of the remaining columns"
   ]
  },
  {
   "cell_type": "markdown",
   "id": "eac367e2",
   "metadata": {},
   "source": [
    "It appears the change was successful. I will save this revised dataframe as a csv, and enter it into the database."
   ]
  },
  {
   "cell_type": "markdown",
   "id": "f708262e",
   "metadata": {},
   "source": [
    "### 3. Saving clean dataframe as a csv"
   ]
  },
  {
   "cell_type": "code",
   "execution_count": 48,
   "id": "f80e2c70",
   "metadata": {},
   "outputs": [],
   "source": [
    "assistance.to_csv('../data/FoodEnvironmentAtlas.xls.ASSISTANCE_CLEAN.csv', index = False) #saves clean dataframe to a new csv"
   ]
  },
  {
   "cell_type": "markdown",
   "id": "d6595411",
   "metadata": {},
   "source": [
    "## IV. Food Environment Atlas - INSECURITY"
   ]
  },
  {
   "cell_type": "markdown",
   "id": "9a94dff3",
   "metadata": {},
   "source": [
    "This dataset contains information regarding food insecurity in counties, namely prevalence of \"food insecurity\" and \"very low food security.\"\n",
    "\n",
    "I will observe for issues."
   ]
  },
  {
   "cell_type": "markdown",
   "id": "d50afb9b",
   "metadata": {},
   "source": [
    "### 1. Data Import"
   ]
  },
  {
   "cell_type": "code",
   "execution_count": 49,
   "id": "ab88f5a8",
   "metadata": {},
   "outputs": [],
   "source": [
    "file_path = '../data/FoodEnvironmentAtlas.xls.INSECURITY.csv'\n",
    "\n",
    "insecurity = pd.read_csv(file_path)"
   ]
  },
  {
   "cell_type": "markdown",
   "id": "89ce48b3",
   "metadata": {},
   "source": [
    "### 2. Preliminary Analysis & Cleaning"
   ]
  },
  {
   "cell_type": "code",
   "execution_count": 50,
   "id": "71de39dd",
   "metadata": {},
   "outputs": [
    {
     "data": {
      "text/html": [
       "<div>\n",
       "<style scoped>\n",
       "    .dataframe tbody tr th:only-of-type {\n",
       "        vertical-align: middle;\n",
       "    }\n",
       "\n",
       "    .dataframe tbody tr th {\n",
       "        vertical-align: top;\n",
       "    }\n",
       "\n",
       "    .dataframe thead th {\n",
       "        text-align: right;\n",
       "    }\n",
       "</style>\n",
       "<table border=\"1\" class=\"dataframe\">\n",
       "  <thead>\n",
       "    <tr style=\"text-align: right;\">\n",
       "      <th></th>\n",
       "      <th>FIPS</th>\n",
       "      <th>State</th>\n",
       "      <th>County</th>\n",
       "      <th>FOODINSEC_12_14</th>\n",
       "      <th>FOODINSEC_15_17</th>\n",
       "      <th>CH_FOODINSEC_14_17</th>\n",
       "      <th>VLFOODSEC_12_14</th>\n",
       "      <th>VLFOODSEC_15_17</th>\n",
       "      <th>CH_VLFOODSEC_14_17</th>\n",
       "    </tr>\n",
       "  </thead>\n",
       "  <tbody>\n",
       "    <tr>\n",
       "      <th>0</th>\n",
       "      <td>1001</td>\n",
       "      <td>AL</td>\n",
       "      <td>Autauga</td>\n",
       "      <td>16.8</td>\n",
       "      <td>16.3</td>\n",
       "      <td>-0.5</td>\n",
       "      <td>7.2</td>\n",
       "      <td>7.1</td>\n",
       "      <td>-0.1</td>\n",
       "    </tr>\n",
       "    <tr>\n",
       "      <th>1</th>\n",
       "      <td>1003</td>\n",
       "      <td>AL</td>\n",
       "      <td>Baldwin</td>\n",
       "      <td>16.8</td>\n",
       "      <td>16.3</td>\n",
       "      <td>-0.5</td>\n",
       "      <td>7.2</td>\n",
       "      <td>7.1</td>\n",
       "      <td>-0.1</td>\n",
       "    </tr>\n",
       "    <tr>\n",
       "      <th>2</th>\n",
       "      <td>1005</td>\n",
       "      <td>AL</td>\n",
       "      <td>Barbour</td>\n",
       "      <td>16.8</td>\n",
       "      <td>16.3</td>\n",
       "      <td>-0.5</td>\n",
       "      <td>7.2</td>\n",
       "      <td>7.1</td>\n",
       "      <td>-0.1</td>\n",
       "    </tr>\n",
       "    <tr>\n",
       "      <th>3</th>\n",
       "      <td>1007</td>\n",
       "      <td>AL</td>\n",
       "      <td>Bibb</td>\n",
       "      <td>16.8</td>\n",
       "      <td>16.3</td>\n",
       "      <td>-0.5</td>\n",
       "      <td>7.2</td>\n",
       "      <td>7.1</td>\n",
       "      <td>-0.1</td>\n",
       "    </tr>\n",
       "    <tr>\n",
       "      <th>4</th>\n",
       "      <td>1009</td>\n",
       "      <td>AL</td>\n",
       "      <td>Blount</td>\n",
       "      <td>16.8</td>\n",
       "      <td>16.3</td>\n",
       "      <td>-0.5</td>\n",
       "      <td>7.2</td>\n",
       "      <td>7.1</td>\n",
       "      <td>-0.1</td>\n",
       "    </tr>\n",
       "  </tbody>\n",
       "</table>\n",
       "</div>"
      ],
      "text/plain": [
       "   FIPS State   County  FOODINSEC_12_14  FOODINSEC_15_17  CH_FOODINSEC_14_17  \\\n",
       "0  1001    AL  Autauga             16.8             16.3                -0.5   \n",
       "1  1003    AL  Baldwin             16.8             16.3                -0.5   \n",
       "2  1005    AL  Barbour             16.8             16.3                -0.5   \n",
       "3  1007    AL     Bibb             16.8             16.3                -0.5   \n",
       "4  1009    AL   Blount             16.8             16.3                -0.5   \n",
       "\n",
       "   VLFOODSEC_12_14  VLFOODSEC_15_17  CH_VLFOODSEC_14_17  \n",
       "0              7.2              7.1                -0.1  \n",
       "1              7.2              7.1                -0.1  \n",
       "2              7.2              7.1                -0.1  \n",
       "3              7.2              7.1                -0.1  \n",
       "4              7.2              7.1                -0.1  "
      ]
     },
     "execution_count": 50,
     "metadata": {},
     "output_type": "execute_result"
    }
   ],
   "source": [
    "insecurity.head() #shows top 5 rows of dataframe"
   ]
  },
  {
   "cell_type": "code",
   "execution_count": 51,
   "id": "f7e2ff5c",
   "metadata": {},
   "outputs": [
    {
     "data": {
      "text/plain": [
       "(3143, 9)"
      ]
     },
     "execution_count": 51,
     "metadata": {},
     "output_type": "execute_result"
    }
   ],
   "source": [
    "insecurity.shape #shows layout of dataframe"
   ]
  },
  {
   "cell_type": "markdown",
   "id": "1d5ba512",
   "metadata": {},
   "source": [
    "Nine columns are less cumbersome to work with. Furthermore, I am interested to see how food security might be used to predict prevalence of diabetes."
   ]
  },
  {
   "cell_type": "code",
   "execution_count": 52,
   "id": "64e93ab6",
   "metadata": {},
   "outputs": [
    {
     "data": {
      "text/plain": [
       "Index(['fips', 'state', 'county', 'foodinsec_12_14', 'foodinsec_15_17',\n",
       "       'ch_foodinsec_14_17', 'vlfoodsec_12_14', 'vlfoodsec_15_17',\n",
       "       'ch_vlfoodsec_14_17'],\n",
       "      dtype='object')"
      ]
     },
     "execution_count": 52,
     "metadata": {},
     "output_type": "execute_result"
    }
   ],
   "source": [
    "insecurity.columns = [col.lower() for col in insecurity.columns] #changes column names to lowercase\n",
    "\n",
    "insecurity.columns #shows column names"
   ]
  },
  {
   "cell_type": "code",
   "execution_count": 53,
   "id": "fee2ac02",
   "metadata": {},
   "outputs": [
    {
     "data": {
      "text/plain": [
       "fips                  0\n",
       "state                 0\n",
       "county                0\n",
       "foodinsec_12_14       0\n",
       "foodinsec_15_17       0\n",
       "ch_foodinsec_14_17    0\n",
       "vlfoodsec_12_14       0\n",
       "vlfoodsec_15_17       0\n",
       "ch_vlfoodsec_14_17    0\n",
       "dtype: int64"
      ]
     },
     "execution_count": 53,
     "metadata": {},
     "output_type": "execute_result"
    }
   ],
   "source": [
    "insecurity.isnull().sum() #displays number of missing values per column"
   ]
  },
  {
   "cell_type": "markdown",
   "id": "94b0d91f",
   "metadata": {},
   "source": [
    "There are no missing values! However, the README of the Food Environment Atlas contains a statement indicating that blank values may be filled with -9999. It is possible this might exist here (or in any of the numerical columns...)\n",
    "\n",
    "I will observe summary statistics in order to see maximum and minimum values."
   ]
  },
  {
   "cell_type": "markdown",
   "id": "21c1e925",
   "metadata": {},
   "source": [
    "##### Summary Statistics "
   ]
  },
  {
   "cell_type": "code",
   "execution_count": 54,
   "id": "48716f2b",
   "metadata": {},
   "outputs": [
    {
     "data": {
      "text/plain": [
       "count    3143.000000\n",
       "mean       14.863952\n",
       "std         2.599730\n",
       "min         8.400000\n",
       "25%        12.600000\n",
       "50%        15.200000\n",
       "75%        16.800000\n",
       "max        22.000000\n",
       "Name: foodinsec_12_14, dtype: float64"
      ]
     },
     "execution_count": 54,
     "metadata": {},
     "output_type": "execute_result"
    }
   ],
   "source": [
    "insecurity.foodinsec_12_14.describe()"
   ]
  },
  {
   "cell_type": "code",
   "execution_count": 55,
   "id": "9561d4ce",
   "metadata": {},
   "outputs": [
    {
     "data": {
      "text/plain": [
       "count    3143.000000\n",
       "mean       12.833726\n",
       "std         2.194020\n",
       "min         7.400000\n",
       "25%        11.200000\n",
       "50%        13.000000\n",
       "75%        14.000000\n",
       "max        17.900000\n",
       "Name: foodinsec_15_17, dtype: float64"
      ]
     },
     "execution_count": 55,
     "metadata": {},
     "output_type": "execute_result"
    }
   ],
   "source": [
    "insecurity.foodinsec_15_17.describe()"
   ]
  },
  {
   "cell_type": "code",
   "execution_count": 56,
   "id": "96469b6c",
   "metadata": {},
   "outputs": [
    {
     "data": {
      "text/plain": [
       "count    3143.000000\n",
       "mean       -2.030226\n",
       "std         1.699917\n",
       "min        -4.900000\n",
       "25%        -3.200000\n",
       "50%        -2.600000\n",
       "75%        -0.900000\n",
       "max         5.600000\n",
       "Name: ch_foodinsec_14_17, dtype: float64"
      ]
     },
     "execution_count": 56,
     "metadata": {},
     "output_type": "execute_result"
    }
   ],
   "source": [
    "insecurity.ch_foodinsec_14_17.describe()"
   ]
  },
  {
   "cell_type": "markdown",
   "id": "9350a97e",
   "metadata": {},
   "source": [
    "Negative values are acceptable here, as this column represents a change in percentage."
   ]
  },
  {
   "cell_type": "code",
   "execution_count": 57,
   "id": "868c4045",
   "metadata": {},
   "outputs": [
    {
     "data": {
      "text/plain": [
       "count    3143.000000\n",
       "mean        5.915527\n",
       "std         0.980072\n",
       "min         2.900000\n",
       "25%         5.200000\n",
       "50%         6.200000\n",
       "75%         6.400000\n",
       "max         8.100000\n",
       "Name: vlfoodsec_12_14, dtype: float64"
      ]
     },
     "execution_count": 57,
     "metadata": {},
     "output_type": "execute_result"
    }
   ],
   "source": [
    "insecurity.vlfoodsec_12_14.describe()"
   ]
  },
  {
   "cell_type": "code",
   "execution_count": 58,
   "id": "422032c4",
   "metadata": {},
   "outputs": [
    {
     "data": {
      "text/plain": [
       "count    3143.000000\n",
       "mean        5.098027\n",
       "std         1.055067\n",
       "min         2.900000\n",
       "25%         4.100000\n",
       "50%         5.100000\n",
       "75%         5.800000\n",
       "max         7.100000\n",
       "Name: vlfoodsec_15_17, dtype: float64"
      ]
     },
     "execution_count": 58,
     "metadata": {},
     "output_type": "execute_result"
    }
   ],
   "source": [
    "insecurity.vlfoodsec_15_17.describe()"
   ]
  },
  {
   "cell_type": "code",
   "execution_count": 59,
   "id": "ba94df8e",
   "metadata": {},
   "outputs": [
    {
     "data": {
      "text/plain": [
       "count    3143.000000\n",
       "mean       -0.817499\n",
       "std         0.819079\n",
       "min        -3.100000\n",
       "25%        -1.300000\n",
       "50%        -0.800000\n",
       "75%        -0.400000\n",
       "max         2.000000\n",
       "Name: ch_vlfoodsec_14_17, dtype: float64"
      ]
     },
     "execution_count": 59,
     "metadata": {},
     "output_type": "execute_result"
    }
   ],
   "source": [
    "insecurity.ch_vlfoodsec_14_17.describe()"
   ]
  },
  {
   "cell_type": "markdown",
   "id": "277797f1",
   "metadata": {},
   "source": [
    "Negative values are acceptable here, as this column represents a change in percentage.\n",
    "\n",
    "No -9999 values or other issues are apparent in observing summary statistics."
   ]
  },
  {
   "cell_type": "markdown",
   "id": "5ba60c33",
   "metadata": {},
   "source": [
    "#####  Datatypes"
   ]
  },
  {
   "cell_type": "code",
   "execution_count": 60,
   "id": "3e525063",
   "metadata": {},
   "outputs": [
    {
     "data": {
      "text/plain": [
       "fips                    int64\n",
       "state                  object\n",
       "county                 object\n",
       "foodinsec_12_14       float64\n",
       "foodinsec_15_17       float64\n",
       "ch_foodinsec_14_17    float64\n",
       "vlfoodsec_12_14       float64\n",
       "vlfoodsec_15_17       float64\n",
       "ch_vlfoodsec_14_17    float64\n",
       "dtype: object"
      ]
     },
     "execution_count": 60,
     "metadata": {},
     "output_type": "execute_result"
    }
   ],
   "source": [
    "insecurity.dtypes #shows datatypes of the columns"
   ]
  },
  {
   "cell_type": "markdown",
   "id": "f30d3ebe",
   "metadata": {},
   "source": [
    "These are the appropriate datatypes. As I mentioned, I will observe further during later analysis.  For now, the dataframe will be saved as-is."
   ]
  },
  {
   "cell_type": "markdown",
   "id": "0a1b7184",
   "metadata": {},
   "source": [
    "### 3. Saving clean dataframe as a csv"
   ]
  },
  {
   "cell_type": "code",
   "execution_count": 61,
   "id": "5d227d31",
   "metadata": {},
   "outputs": [],
   "source": [
    "insecurity.to_csv('../data/FoodEnvironmentAtlas.xls.INSECURITY_CLEAN.csv', index = False) #saves clean dataframe to a new csv"
   ]
  },
  {
   "cell_type": "markdown",
   "id": "0e489f01",
   "metadata": {},
   "source": [
    "## V. Food Atlas Environment - LOCAL"
   ]
  },
  {
   "cell_type": "markdown",
   "id": "9da86f7a",
   "metadata": {},
   "source": [
    "This dataset contains information regarding local farms within a community, including direct sales, farmer's markets, farm acreage, and much more."
   ]
  },
  {
   "cell_type": "markdown",
   "id": "63e9579f",
   "metadata": {},
   "source": [
    "### 1. Data Import"
   ]
  },
  {
   "cell_type": "code",
   "execution_count": 62,
   "id": "73c91a82",
   "metadata": {},
   "outputs": [],
   "source": [
    "file_path = '../data/FoodEnvironmentAtlas.xls.LOCAL.csv'\n",
    "\n",
    "local = pd.read_csv(file_path)"
   ]
  },
  {
   "cell_type": "markdown",
   "id": "13374a98",
   "metadata": {},
   "source": [
    "### 2. Preliminary Analysis & Cleaning"
   ]
  },
  {
   "cell_type": "code",
   "execution_count": 63,
   "id": "04ae1876",
   "metadata": {},
   "outputs": [
    {
     "data": {
      "text/html": [
       "<div>\n",
       "<style scoped>\n",
       "    .dataframe tbody tr th:only-of-type {\n",
       "        vertical-align: middle;\n",
       "    }\n",
       "\n",
       "    .dataframe tbody tr th {\n",
       "        vertical-align: top;\n",
       "    }\n",
       "\n",
       "    .dataframe thead th {\n",
       "        text-align: right;\n",
       "    }\n",
       "</style>\n",
       "<table border=\"1\" class=\"dataframe\">\n",
       "  <thead>\n",
       "    <tr style=\"text-align: right;\">\n",
       "      <th></th>\n",
       "      <th>FIPS</th>\n",
       "      <th>State</th>\n",
       "      <th>County</th>\n",
       "      <th>DIRSALES_FARMS07</th>\n",
       "      <th>DIRSALES_FARMS12</th>\n",
       "      <th>PCH_DIRSALES_FARMS_07_12</th>\n",
       "      <th>PCT_LOCLFARM07</th>\n",
       "      <th>PCT_LOCLFARM12</th>\n",
       "      <th>PCT_LOCLSALE07</th>\n",
       "      <th>PCT_LOCLSALE12</th>\n",
       "      <th>...</th>\n",
       "      <th>CSA12</th>\n",
       "      <th>PCH_CSA_07_12</th>\n",
       "      <th>AGRITRSM_OPS07</th>\n",
       "      <th>AGRITRSM_OPS12</th>\n",
       "      <th>PCH_AGRITRSM_OPS_07_12</th>\n",
       "      <th>AGRITRSM_RCT07</th>\n",
       "      <th>AGRITRSM_RCT12</th>\n",
       "      <th>PCH_AGRITRSM_RCT_07_12</th>\n",
       "      <th>FARM_TO_SCHOOL13</th>\n",
       "      <th>FARM_TO_SCHOOL15</th>\n",
       "    </tr>\n",
       "  </thead>\n",
       "  <tbody>\n",
       "    <tr>\n",
       "      <th>0</th>\n",
       "      <td>1001.0</td>\n",
       "      <td>AL</td>\n",
       "      <td>Autauga</td>\n",
       "      <td>25.0</td>\n",
       "      <td>51.0</td>\n",
       "      <td>104.000000</td>\n",
       "      <td>6.024096</td>\n",
       "      <td>13.110540</td>\n",
       "      <td>0.596374</td>\n",
       "      <td>1.554692</td>\n",
       "      <td>...</td>\n",
       "      <td>3.0</td>\n",
       "      <td>50.000000</td>\n",
       "      <td>7.0</td>\n",
       "      <td>10.0</td>\n",
       "      <td>42.857143</td>\n",
       "      <td>228000.0</td>\n",
       "      <td>146000.0</td>\n",
       "      <td>-35.964912</td>\n",
       "      <td>NaN</td>\n",
       "      <td>0.0</td>\n",
       "    </tr>\n",
       "    <tr>\n",
       "      <th>1</th>\n",
       "      <td>1003.0</td>\n",
       "      <td>AL</td>\n",
       "      <td>Baldwin</td>\n",
       "      <td>80.0</td>\n",
       "      <td>103.0</td>\n",
       "      <td>28.750000</td>\n",
       "      <td>7.023705</td>\n",
       "      <td>10.414560</td>\n",
       "      <td>0.712634</td>\n",
       "      <td>0.478010</td>\n",
       "      <td>...</td>\n",
       "      <td>7.0</td>\n",
       "      <td>-46.153846</td>\n",
       "      <td>18.0</td>\n",
       "      <td>16.0</td>\n",
       "      <td>-11.111111</td>\n",
       "      <td>124000.0</td>\n",
       "      <td>204000.0</td>\n",
       "      <td>64.516129</td>\n",
       "      <td>0.0</td>\n",
       "      <td>1.0</td>\n",
       "    </tr>\n",
       "    <tr>\n",
       "      <th>2</th>\n",
       "      <td>1005.0</td>\n",
       "      <td>AL</td>\n",
       "      <td>Barbour</td>\n",
       "      <td>18.0</td>\n",
       "      <td>13.0</td>\n",
       "      <td>-27.777778</td>\n",
       "      <td>2.889246</td>\n",
       "      <td>2.276708</td>\n",
       "      <td>0.015403</td>\n",
       "      <td>0.012457</td>\n",
       "      <td>...</td>\n",
       "      <td>0.0</td>\n",
       "      <td>-100.000000</td>\n",
       "      <td>27.0</td>\n",
       "      <td>32.0</td>\n",
       "      <td>18.518519</td>\n",
       "      <td>163000.0</td>\n",
       "      <td>304000.0</td>\n",
       "      <td>86.503067</td>\n",
       "      <td>1.0</td>\n",
       "      <td>0.0</td>\n",
       "    </tr>\n",
       "    <tr>\n",
       "      <th>3</th>\n",
       "      <td>1007.0</td>\n",
       "      <td>AL</td>\n",
       "      <td>Bibb</td>\n",
       "      <td>12.0</td>\n",
       "      <td>13.0</td>\n",
       "      <td>8.333333</td>\n",
       "      <td>5.687204</td>\n",
       "      <td>6.878307</td>\n",
       "      <td>NaN</td>\n",
       "      <td>NaN</td>\n",
       "      <td>...</td>\n",
       "      <td>3.0</td>\n",
       "      <td>50.000000</td>\n",
       "      <td>5.0</td>\n",
       "      <td>6.0</td>\n",
       "      <td>20.000000</td>\n",
       "      <td>NaN</td>\n",
       "      <td>21000.0</td>\n",
       "      <td>NaN</td>\n",
       "      <td>0.0</td>\n",
       "      <td>0.0</td>\n",
       "    </tr>\n",
       "    <tr>\n",
       "      <th>4</th>\n",
       "      <td>1009.0</td>\n",
       "      <td>AL</td>\n",
       "      <td>Blount</td>\n",
       "      <td>84.0</td>\n",
       "      <td>88.0</td>\n",
       "      <td>4.761905</td>\n",
       "      <td>5.940594</td>\n",
       "      <td>7.091056</td>\n",
       "      <td>0.267717</td>\n",
       "      <td>0.277792</td>\n",
       "      <td>...</td>\n",
       "      <td>4.0</td>\n",
       "      <td>-42.857143</td>\n",
       "      <td>10.0</td>\n",
       "      <td>8.0</td>\n",
       "      <td>-20.000000</td>\n",
       "      <td>293000.0</td>\n",
       "      <td>30000.0</td>\n",
       "      <td>-89.761092</td>\n",
       "      <td>1.0</td>\n",
       "      <td>0.0</td>\n",
       "    </tr>\n",
       "  </tbody>\n",
       "</table>\n",
       "<p>5 rows × 100 columns</p>\n",
       "</div>"
      ],
      "text/plain": [
       "     FIPS State   County  DIRSALES_FARMS07  DIRSALES_FARMS12  \\\n",
       "0  1001.0    AL  Autauga              25.0              51.0   \n",
       "1  1003.0    AL  Baldwin              80.0             103.0   \n",
       "2  1005.0    AL  Barbour              18.0              13.0   \n",
       "3  1007.0    AL     Bibb              12.0              13.0   \n",
       "4  1009.0    AL   Blount              84.0              88.0   \n",
       "\n",
       "   PCH_DIRSALES_FARMS_07_12  PCT_LOCLFARM07  PCT_LOCLFARM12  PCT_LOCLSALE07  \\\n",
       "0                104.000000        6.024096       13.110540        0.596374   \n",
       "1                 28.750000        7.023705       10.414560        0.712634   \n",
       "2                -27.777778        2.889246        2.276708        0.015403   \n",
       "3                  8.333333        5.687204        6.878307             NaN   \n",
       "4                  4.761905        5.940594        7.091056        0.267717   \n",
       "\n",
       "   PCT_LOCLSALE12  ...  CSA12  PCH_CSA_07_12  AGRITRSM_OPS07  AGRITRSM_OPS12  \\\n",
       "0        1.554692  ...    3.0      50.000000             7.0            10.0   \n",
       "1        0.478010  ...    7.0     -46.153846            18.0            16.0   \n",
       "2        0.012457  ...    0.0    -100.000000            27.0            32.0   \n",
       "3             NaN  ...    3.0      50.000000             5.0             6.0   \n",
       "4        0.277792  ...    4.0     -42.857143            10.0             8.0   \n",
       "\n",
       "   PCH_AGRITRSM_OPS_07_12  AGRITRSM_RCT07  AGRITRSM_RCT12  \\\n",
       "0               42.857143        228000.0        146000.0   \n",
       "1              -11.111111        124000.0        204000.0   \n",
       "2               18.518519        163000.0        304000.0   \n",
       "3               20.000000             NaN         21000.0   \n",
       "4              -20.000000        293000.0         30000.0   \n",
       "\n",
       "   PCH_AGRITRSM_RCT_07_12  FARM_TO_SCHOOL13  FARM_TO_SCHOOL15  \n",
       "0              -35.964912               NaN               0.0  \n",
       "1               64.516129               0.0               1.0  \n",
       "2               86.503067               1.0               0.0  \n",
       "3                     NaN               0.0               0.0  \n",
       "4              -89.761092               1.0               0.0  \n",
       "\n",
       "[5 rows x 100 columns]"
      ]
     },
     "execution_count": 63,
     "metadata": {},
     "output_type": "execute_result"
    }
   ],
   "source": [
    "local.head() #shows top 5 rows of dataframe"
   ]
  },
  {
   "cell_type": "code",
   "execution_count": 64,
   "id": "77cea664",
   "metadata": {},
   "outputs": [
    {
     "data": {
      "text/plain": [
       "(3144, 100)"
      ]
     },
     "execution_count": 64,
     "metadata": {},
     "output_type": "execute_result"
    }
   ],
   "source": [
    "local.shape #shows layout of dataframe"
   ]
  },
  {
   "cell_type": "markdown",
   "id": "b698cf90",
   "metadata": {},
   "source": [
    "There are 100 columns! I wonder what is most predictive out of these many features. I will explore further during EDA. What must be first assessed is the discrepancy between the number of rows in this dataset (3144) and the others.\n",
    "\n",
    "There could be an empty row here. I will check the missing values."
   ]
  },
  {
   "cell_type": "code",
   "execution_count": 65,
   "id": "f8fba205",
   "metadata": {},
   "outputs": [
    {
     "data": {
      "text/plain": [
       "FIPS                         1\n",
       "State                        1\n",
       "County                       1\n",
       "DIRSALES_FARMS07            64\n",
       "DIRSALES_FARMS12            64\n",
       "                          ... \n",
       "AGRITRSM_RCT07            1170\n",
       "AGRITRSM_RCT12            1025\n",
       "PCH_AGRITRSM_RCT_07_12    1877\n",
       "FARM_TO_SCHOOL13           208\n",
       "FARM_TO_SCHOOL15           219\n",
       "Length: 100, dtype: int64"
      ]
     },
     "execution_count": 65,
     "metadata": {},
     "output_type": "execute_result"
    }
   ],
   "source": [
    "local.isnull().sum() #shows number of missing values in each column"
   ]
  },
  {
   "cell_type": "markdown",
   "id": "e870eaad",
   "metadata": {},
   "source": [
    "There are many missing values! During EDA, I will determine what needs to be filled, what can be dropped, and so on.\n",
    "\n",
    "However, I do notice that one row is missing FIPS, state, and county. These are obviously essential pieces of information. I will observe the row for further information."
   ]
  },
  {
   "cell_type": "code",
   "execution_count": 66,
   "id": "95c044a3",
   "metadata": {},
   "outputs": [
    {
     "data": {
      "text/html": [
       "<div>\n",
       "<style scoped>\n",
       "    .dataframe tbody tr th:only-of-type {\n",
       "        vertical-align: middle;\n",
       "    }\n",
       "\n",
       "    .dataframe tbody tr th {\n",
       "        vertical-align: top;\n",
       "    }\n",
       "\n",
       "    .dataframe thead th {\n",
       "        text-align: right;\n",
       "    }\n",
       "</style>\n",
       "<table border=\"1\" class=\"dataframe\">\n",
       "  <thead>\n",
       "    <tr style=\"text-align: right;\">\n",
       "      <th></th>\n",
       "      <th>FIPS</th>\n",
       "      <th>State</th>\n",
       "      <th>County</th>\n",
       "      <th>DIRSALES_FARMS07</th>\n",
       "      <th>DIRSALES_FARMS12</th>\n",
       "      <th>PCH_DIRSALES_FARMS_07_12</th>\n",
       "      <th>PCT_LOCLFARM07</th>\n",
       "      <th>PCT_LOCLFARM12</th>\n",
       "      <th>PCT_LOCLSALE07</th>\n",
       "      <th>PCT_LOCLSALE12</th>\n",
       "      <th>...</th>\n",
       "      <th>CSA12</th>\n",
       "      <th>PCH_CSA_07_12</th>\n",
       "      <th>AGRITRSM_OPS07</th>\n",
       "      <th>AGRITRSM_OPS12</th>\n",
       "      <th>PCH_AGRITRSM_OPS_07_12</th>\n",
       "      <th>AGRITRSM_RCT07</th>\n",
       "      <th>AGRITRSM_RCT12</th>\n",
       "      <th>PCH_AGRITRSM_RCT_07_12</th>\n",
       "      <th>FARM_TO_SCHOOL13</th>\n",
       "      <th>FARM_TO_SCHOOL15</th>\n",
       "    </tr>\n",
       "  </thead>\n",
       "  <tbody>\n",
       "    <tr>\n",
       "      <th>3143</th>\n",
       "      <td>NaN</td>\n",
       "      <td>NaN</td>\n",
       "      <td>NaN</td>\n",
       "      <td>NaN</td>\n",
       "      <td>NaN</td>\n",
       "      <td>NaN</td>\n",
       "      <td>NaN</td>\n",
       "      <td>NaN</td>\n",
       "      <td>NaN</td>\n",
       "      <td>NaN</td>\n",
       "      <td>...</td>\n",
       "      <td>NaN</td>\n",
       "      <td>NaN</td>\n",
       "      <td>NaN</td>\n",
       "      <td>NaN</td>\n",
       "      <td>NaN</td>\n",
       "      <td>NaN</td>\n",
       "      <td>NaN</td>\n",
       "      <td>NaN</td>\n",
       "      <td>0.618399</td>\n",
       "      <td>NaN</td>\n",
       "    </tr>\n",
       "  </tbody>\n",
       "</table>\n",
       "<p>1 rows × 100 columns</p>\n",
       "</div>"
      ],
      "text/plain": [
       "      FIPS State County  DIRSALES_FARMS07  DIRSALES_FARMS12  \\\n",
       "3143   NaN   NaN    NaN               NaN               NaN   \n",
       "\n",
       "      PCH_DIRSALES_FARMS_07_12  PCT_LOCLFARM07  PCT_LOCLFARM12  \\\n",
       "3143                       NaN             NaN             NaN   \n",
       "\n",
       "      PCT_LOCLSALE07  PCT_LOCLSALE12  ...  CSA12  PCH_CSA_07_12  \\\n",
       "3143             NaN             NaN  ...    NaN            NaN   \n",
       "\n",
       "      AGRITRSM_OPS07  AGRITRSM_OPS12  PCH_AGRITRSM_OPS_07_12  AGRITRSM_RCT07  \\\n",
       "3143             NaN             NaN                     NaN             NaN   \n",
       "\n",
       "      AGRITRSM_RCT12  PCH_AGRITRSM_RCT_07_12  FARM_TO_SCHOOL13  \\\n",
       "3143             NaN                     NaN          0.618399   \n",
       "\n",
       "      FARM_TO_SCHOOL15  \n",
       "3143               NaN  \n",
       "\n",
       "[1 rows x 100 columns]"
      ]
     },
     "execution_count": 66,
     "metadata": {},
     "output_type": "execute_result"
    }
   ],
   "source": [
    "local.loc[local['County'].isnull()] #displays row that is missing the county name"
   ]
  },
  {
   "cell_type": "markdown",
   "id": "00aeaaed",
   "metadata": {},
   "source": [
    "This row contains no county information, and will be dropped."
   ]
  },
  {
   "cell_type": "code",
   "execution_count": 67,
   "id": "0fcaf864",
   "metadata": {},
   "outputs": [
    {
     "data": {
      "text/plain": [
       "(3143, 100)"
      ]
     },
     "execution_count": 67,
     "metadata": {},
     "output_type": "execute_result"
    }
   ],
   "source": [
    "local = local.drop([local.index[3143]]) #drops row at index 3143 (displayed above)\n",
    "\n",
    "local.shape #shows revised layout of dataframe"
   ]
  },
  {
   "cell_type": "markdown",
   "id": "8507d189",
   "metadata": {},
   "source": [
    "This now has the correct number of rows. I will compare this dataset to the Health dataset to ensure that they match."
   ]
  },
  {
   "cell_type": "code",
   "execution_count": 68,
   "id": "0a0b5752",
   "metadata": {},
   "outputs": [
    {
     "data": {
      "text/html": [
       "<div>\n",
       "<style scoped>\n",
       "    .dataframe tbody tr th:only-of-type {\n",
       "        vertical-align: middle;\n",
       "    }\n",
       "\n",
       "    .dataframe tbody tr th {\n",
       "        vertical-align: top;\n",
       "    }\n",
       "\n",
       "    .dataframe thead th {\n",
       "        text-align: right;\n",
       "    }\n",
       "</style>\n",
       "<table border=\"1\" class=\"dataframe\">\n",
       "  <thead>\n",
       "    <tr style=\"text-align: right;\">\n",
       "      <th></th>\n",
       "      <th>FIPS</th>\n",
       "      <th>State</th>\n",
       "      <th>County</th>\n",
       "      <th>DIRSALES_FARMS07</th>\n",
       "      <th>DIRSALES_FARMS12</th>\n",
       "      <th>PCH_DIRSALES_FARMS_07_12</th>\n",
       "      <th>PCT_LOCLFARM07</th>\n",
       "      <th>PCT_LOCLFARM12</th>\n",
       "      <th>PCT_LOCLSALE07</th>\n",
       "      <th>PCT_LOCLSALE12</th>\n",
       "      <th>...</th>\n",
       "      <th>CSA12</th>\n",
       "      <th>PCH_CSA_07_12</th>\n",
       "      <th>AGRITRSM_OPS07</th>\n",
       "      <th>AGRITRSM_OPS12</th>\n",
       "      <th>PCH_AGRITRSM_OPS_07_12</th>\n",
       "      <th>AGRITRSM_RCT07</th>\n",
       "      <th>AGRITRSM_RCT12</th>\n",
       "      <th>PCH_AGRITRSM_RCT_07_12</th>\n",
       "      <th>FARM_TO_SCHOOL13</th>\n",
       "      <th>FARM_TO_SCHOOL15</th>\n",
       "    </tr>\n",
       "  </thead>\n",
       "  <tbody>\n",
       "    <tr>\n",
       "      <th>3138</th>\n",
       "      <td>56037.0</td>\n",
       "      <td>WY</td>\n",
       "      <td>Sweetwater</td>\n",
       "      <td>15.0</td>\n",
       "      <td>22.0</td>\n",
       "      <td>46.666667</td>\n",
       "      <td>6.147541</td>\n",
       "      <td>8.627451</td>\n",
       "      <td>1.089204</td>\n",
       "      <td>0.444697</td>\n",
       "      <td>...</td>\n",
       "      <td>0.0</td>\n",
       "      <td>NaN</td>\n",
       "      <td>1.0</td>\n",
       "      <td>2.0</td>\n",
       "      <td>100.000000</td>\n",
       "      <td>NaN</td>\n",
       "      <td>NaN</td>\n",
       "      <td>NaN</td>\n",
       "      <td>0.0</td>\n",
       "      <td>0.0</td>\n",
       "    </tr>\n",
       "    <tr>\n",
       "      <th>3139</th>\n",
       "      <td>56039.0</td>\n",
       "      <td>WY</td>\n",
       "      <td>Teton</td>\n",
       "      <td>4.0</td>\n",
       "      <td>11.0</td>\n",
       "      <td>175.000000</td>\n",
       "      <td>2.222222</td>\n",
       "      <td>7.142857</td>\n",
       "      <td>0.021817</td>\n",
       "      <td>0.265604</td>\n",
       "      <td>...</td>\n",
       "      <td>0.0</td>\n",
       "      <td>NaN</td>\n",
       "      <td>5.0</td>\n",
       "      <td>12.0</td>\n",
       "      <td>140.000000</td>\n",
       "      <td>1614000.0</td>\n",
       "      <td>NaN</td>\n",
       "      <td>NaN</td>\n",
       "      <td>0.0</td>\n",
       "      <td>0.0</td>\n",
       "    </tr>\n",
       "    <tr>\n",
       "      <th>3140</th>\n",
       "      <td>56041.0</td>\n",
       "      <td>WY</td>\n",
       "      <td>Uinta</td>\n",
       "      <td>13.0</td>\n",
       "      <td>24.0</td>\n",
       "      <td>84.615385</td>\n",
       "      <td>3.779070</td>\n",
       "      <td>7.619048</td>\n",
       "      <td>NaN</td>\n",
       "      <td>0.445308</td>\n",
       "      <td>...</td>\n",
       "      <td>0.0</td>\n",
       "      <td>-100.0</td>\n",
       "      <td>5.0</td>\n",
       "      <td>9.0</td>\n",
       "      <td>80.000000</td>\n",
       "      <td>105000.0</td>\n",
       "      <td>NaN</td>\n",
       "      <td>NaN</td>\n",
       "      <td>0.0</td>\n",
       "      <td>0.0</td>\n",
       "    </tr>\n",
       "    <tr>\n",
       "      <th>3141</th>\n",
       "      <td>56043.0</td>\n",
       "      <td>WY</td>\n",
       "      <td>Washakie</td>\n",
       "      <td>25.0</td>\n",
       "      <td>5.0</td>\n",
       "      <td>-80.000000</td>\n",
       "      <td>11.682243</td>\n",
       "      <td>2.392344</td>\n",
       "      <td>0.154231</td>\n",
       "      <td>NaN</td>\n",
       "      <td>...</td>\n",
       "      <td>1.0</td>\n",
       "      <td>NaN</td>\n",
       "      <td>8.0</td>\n",
       "      <td>6.0</td>\n",
       "      <td>-25.000000</td>\n",
       "      <td>70000.0</td>\n",
       "      <td>62000.0</td>\n",
       "      <td>-11.428571</td>\n",
       "      <td>0.0</td>\n",
       "      <td>0.0</td>\n",
       "    </tr>\n",
       "    <tr>\n",
       "      <th>3142</th>\n",
       "      <td>56045.0</td>\n",
       "      <td>WY</td>\n",
       "      <td>Weston</td>\n",
       "      <td>15.0</td>\n",
       "      <td>3.0</td>\n",
       "      <td>-80.000000</td>\n",
       "      <td>6.329114</td>\n",
       "      <td>1.136364</td>\n",
       "      <td>NaN</td>\n",
       "      <td>NaN</td>\n",
       "      <td>...</td>\n",
       "      <td>0.0</td>\n",
       "      <td>NaN</td>\n",
       "      <td>14.0</td>\n",
       "      <td>9.0</td>\n",
       "      <td>-35.714286</td>\n",
       "      <td>147000.0</td>\n",
       "      <td>71000.0</td>\n",
       "      <td>-51.700680</td>\n",
       "      <td>0.0</td>\n",
       "      <td>0.0</td>\n",
       "    </tr>\n",
       "  </tbody>\n",
       "</table>\n",
       "<p>5 rows × 100 columns</p>\n",
       "</div>"
      ],
      "text/plain": [
       "         FIPS State      County  DIRSALES_FARMS07  DIRSALES_FARMS12  \\\n",
       "3138  56037.0    WY  Sweetwater              15.0              22.0   \n",
       "3139  56039.0    WY       Teton               4.0              11.0   \n",
       "3140  56041.0    WY       Uinta              13.0              24.0   \n",
       "3141  56043.0    WY    Washakie              25.0               5.0   \n",
       "3142  56045.0    WY      Weston              15.0               3.0   \n",
       "\n",
       "      PCH_DIRSALES_FARMS_07_12  PCT_LOCLFARM07  PCT_LOCLFARM12  \\\n",
       "3138                 46.666667        6.147541        8.627451   \n",
       "3139                175.000000        2.222222        7.142857   \n",
       "3140                 84.615385        3.779070        7.619048   \n",
       "3141                -80.000000       11.682243        2.392344   \n",
       "3142                -80.000000        6.329114        1.136364   \n",
       "\n",
       "      PCT_LOCLSALE07  PCT_LOCLSALE12  ...  CSA12  PCH_CSA_07_12  \\\n",
       "3138        1.089204        0.444697  ...    0.0            NaN   \n",
       "3139        0.021817        0.265604  ...    0.0            NaN   \n",
       "3140             NaN        0.445308  ...    0.0         -100.0   \n",
       "3141        0.154231             NaN  ...    1.0            NaN   \n",
       "3142             NaN             NaN  ...    0.0            NaN   \n",
       "\n",
       "      AGRITRSM_OPS07  AGRITRSM_OPS12  PCH_AGRITRSM_OPS_07_12  AGRITRSM_RCT07  \\\n",
       "3138             1.0             2.0              100.000000             NaN   \n",
       "3139             5.0            12.0              140.000000       1614000.0   \n",
       "3140             5.0             9.0               80.000000        105000.0   \n",
       "3141             8.0             6.0              -25.000000         70000.0   \n",
       "3142            14.0             9.0              -35.714286        147000.0   \n",
       "\n",
       "      AGRITRSM_RCT12  PCH_AGRITRSM_RCT_07_12  FARM_TO_SCHOOL13  \\\n",
       "3138             NaN                     NaN               0.0   \n",
       "3139             NaN                     NaN               0.0   \n",
       "3140             NaN                     NaN               0.0   \n",
       "3141         62000.0              -11.428571               0.0   \n",
       "3142         71000.0              -51.700680               0.0   \n",
       "\n",
       "      FARM_TO_SCHOOL15  \n",
       "3138               0.0  \n",
       "3139               0.0  \n",
       "3140               0.0  \n",
       "3141               0.0  \n",
       "3142               0.0  \n",
       "\n",
       "[5 rows x 100 columns]"
      ]
     },
     "execution_count": 68,
     "metadata": {},
     "output_type": "execute_result"
    }
   ],
   "source": [
    "local.tail() #shows last 5 rows of dataframe"
   ]
  },
  {
   "cell_type": "code",
   "execution_count": 69,
   "id": "93ced81f",
   "metadata": {},
   "outputs": [
    {
     "data": {
      "text/html": [
       "<div>\n",
       "<style scoped>\n",
       "    .dataframe tbody tr th:only-of-type {\n",
       "        vertical-align: middle;\n",
       "    }\n",
       "\n",
       "    .dataframe tbody tr th {\n",
       "        vertical-align: top;\n",
       "    }\n",
       "\n",
       "    .dataframe thead th {\n",
       "        text-align: right;\n",
       "    }\n",
       "</style>\n",
       "<table border=\"1\" class=\"dataframe\">\n",
       "  <thead>\n",
       "    <tr style=\"text-align: right;\">\n",
       "      <th></th>\n",
       "      <th>fips</th>\n",
       "      <th>state</th>\n",
       "      <th>county</th>\n",
       "      <th>pct_diabetes_adults08</th>\n",
       "      <th>pct_diabetes_adults13</th>\n",
       "      <th>pct_obese_adults12</th>\n",
       "      <th>pct_obese_adults17</th>\n",
       "      <th>pct_hspa17</th>\n",
       "      <th>recfac11</th>\n",
       "      <th>recfac16</th>\n",
       "      <th>pch_recfac_11_16</th>\n",
       "      <th>recfacpth11</th>\n",
       "      <th>recfacpth16</th>\n",
       "      <th>pch_recfacpth_11_16</th>\n",
       "    </tr>\n",
       "  </thead>\n",
       "  <tbody>\n",
       "    <tr>\n",
       "      <th>3138</th>\n",
       "      <td>56037</td>\n",
       "      <td>WY</td>\n",
       "      <td>Sweetwater</td>\n",
       "      <td>6.8</td>\n",
       "      <td>8.1</td>\n",
       "      <td>24.6</td>\n",
       "      <td>28.8</td>\n",
       "      <td>NaN</td>\n",
       "      <td>4</td>\n",
       "      <td>6</td>\n",
       "      <td>50.000000</td>\n",
       "      <td>0.090882</td>\n",
       "      <td>0.135609</td>\n",
       "      <td>49.213470</td>\n",
       "    </tr>\n",
       "    <tr>\n",
       "      <th>3139</th>\n",
       "      <td>56039</td>\n",
       "      <td>WY</td>\n",
       "      <td>Teton</td>\n",
       "      <td>4.1</td>\n",
       "      <td>4.8</td>\n",
       "      <td>24.6</td>\n",
       "      <td>28.8</td>\n",
       "      <td>NaN</td>\n",
       "      <td>9</td>\n",
       "      <td>13</td>\n",
       "      <td>44.444444</td>\n",
       "      <td>0.419072</td>\n",
       "      <td>0.560828</td>\n",
       "      <td>33.826095</td>\n",
       "    </tr>\n",
       "    <tr>\n",
       "      <th>3140</th>\n",
       "      <td>56041</td>\n",
       "      <td>WY</td>\n",
       "      <td>Uinta</td>\n",
       "      <td>6.3</td>\n",
       "      <td>9.0</td>\n",
       "      <td>24.6</td>\n",
       "      <td>28.8</td>\n",
       "      <td>NaN</td>\n",
       "      <td>3</td>\n",
       "      <td>2</td>\n",
       "      <td>-33.333333</td>\n",
       "      <td>0.143548</td>\n",
       "      <td>0.096567</td>\n",
       "      <td>-32.728180</td>\n",
       "    </tr>\n",
       "    <tr>\n",
       "      <th>3141</th>\n",
       "      <td>56043</td>\n",
       "      <td>WY</td>\n",
       "      <td>Washakie</td>\n",
       "      <td>10.5</td>\n",
       "      <td>12.0</td>\n",
       "      <td>24.6</td>\n",
       "      <td>28.8</td>\n",
       "      <td>NaN</td>\n",
       "      <td>1</td>\n",
       "      <td>1</td>\n",
       "      <td>0.000000</td>\n",
       "      <td>0.118203</td>\n",
       "      <td>0.122130</td>\n",
       "      <td>3.321935</td>\n",
       "    </tr>\n",
       "    <tr>\n",
       "      <th>3142</th>\n",
       "      <td>56045</td>\n",
       "      <td>WY</td>\n",
       "      <td>Weston</td>\n",
       "      <td>7.1</td>\n",
       "      <td>10.0</td>\n",
       "      <td>24.6</td>\n",
       "      <td>28.8</td>\n",
       "      <td>NaN</td>\n",
       "      <td>1</td>\n",
       "      <td>0</td>\n",
       "      <td>-100.000000</td>\n",
       "      <td>0.140036</td>\n",
       "      <td>0.000000</td>\n",
       "      <td>-100.000000</td>\n",
       "    </tr>\n",
       "  </tbody>\n",
       "</table>\n",
       "</div>"
      ],
      "text/plain": [
       "       fips state      county  pct_diabetes_adults08  pct_diabetes_adults13  \\\n",
       "3138  56037    WY  Sweetwater                    6.8                    8.1   \n",
       "3139  56039    WY       Teton                    4.1                    4.8   \n",
       "3140  56041    WY       Uinta                    6.3                    9.0   \n",
       "3141  56043    WY    Washakie                   10.5                   12.0   \n",
       "3142  56045    WY      Weston                    7.1                   10.0   \n",
       "\n",
       "      pct_obese_adults12  pct_obese_adults17  pct_hspa17  recfac11  recfac16  \\\n",
       "3138                24.6                28.8         NaN         4         6   \n",
       "3139                24.6                28.8         NaN         9        13   \n",
       "3140                24.6                28.8         NaN         3         2   \n",
       "3141                24.6                28.8         NaN         1         1   \n",
       "3142                24.6                28.8         NaN         1         0   \n",
       "\n",
       "      pch_recfac_11_16  recfacpth11  recfacpth16  pch_recfacpth_11_16  \n",
       "3138         50.000000     0.090882     0.135609            49.213470  \n",
       "3139         44.444444     0.419072     0.560828            33.826095  \n",
       "3140        -33.333333     0.143548     0.096567           -32.728180  \n",
       "3141          0.000000     0.118203     0.122130             3.321935  \n",
       "3142       -100.000000     0.140036     0.000000          -100.000000  "
      ]
     },
     "execution_count": 69,
     "metadata": {},
     "output_type": "execute_result"
    }
   ],
   "source": [
    "health.tail() #shows last 5 rows of dataframe"
   ]
  },
  {
   "cell_type": "code",
   "execution_count": 70,
   "id": "fad597ee",
   "metadata": {},
   "outputs": [
    {
     "data": {
      "text/html": [
       "<div>\n",
       "<style scoped>\n",
       "    .dataframe tbody tr th:only-of-type {\n",
       "        vertical-align: middle;\n",
       "    }\n",
       "\n",
       "    .dataframe tbody tr th {\n",
       "        vertical-align: top;\n",
       "    }\n",
       "\n",
       "    .dataframe thead th {\n",
       "        text-align: right;\n",
       "    }\n",
       "</style>\n",
       "<table border=\"1\" class=\"dataframe\">\n",
       "  <thead>\n",
       "    <tr style=\"text-align: right;\">\n",
       "      <th></th>\n",
       "      <th>FIPS</th>\n",
       "      <th>State</th>\n",
       "      <th>County</th>\n",
       "      <th>DIRSALES_FARMS07</th>\n",
       "      <th>DIRSALES_FARMS12</th>\n",
       "      <th>PCH_DIRSALES_FARMS_07_12</th>\n",
       "      <th>PCT_LOCLFARM07</th>\n",
       "      <th>PCT_LOCLFARM12</th>\n",
       "      <th>PCT_LOCLSALE07</th>\n",
       "      <th>PCT_LOCLSALE12</th>\n",
       "      <th>...</th>\n",
       "      <th>CSA12</th>\n",
       "      <th>PCH_CSA_07_12</th>\n",
       "      <th>AGRITRSM_OPS07</th>\n",
       "      <th>AGRITRSM_OPS12</th>\n",
       "      <th>PCH_AGRITRSM_OPS_07_12</th>\n",
       "      <th>AGRITRSM_RCT07</th>\n",
       "      <th>AGRITRSM_RCT12</th>\n",
       "      <th>PCH_AGRITRSM_RCT_07_12</th>\n",
       "      <th>FARM_TO_SCHOOL13</th>\n",
       "      <th>FARM_TO_SCHOOL15</th>\n",
       "    </tr>\n",
       "  </thead>\n",
       "  <tbody>\n",
       "    <tr>\n",
       "      <th>0</th>\n",
       "      <td>1001.0</td>\n",
       "      <td>AL</td>\n",
       "      <td>Autauga</td>\n",
       "      <td>25.0</td>\n",
       "      <td>51.0</td>\n",
       "      <td>104.000000</td>\n",
       "      <td>6.024096</td>\n",
       "      <td>13.110540</td>\n",
       "      <td>0.596374</td>\n",
       "      <td>1.554692</td>\n",
       "      <td>...</td>\n",
       "      <td>3.0</td>\n",
       "      <td>50.000000</td>\n",
       "      <td>7.0</td>\n",
       "      <td>10.0</td>\n",
       "      <td>42.857143</td>\n",
       "      <td>228000.0</td>\n",
       "      <td>146000.0</td>\n",
       "      <td>-35.964912</td>\n",
       "      <td>NaN</td>\n",
       "      <td>0.0</td>\n",
       "    </tr>\n",
       "    <tr>\n",
       "      <th>1</th>\n",
       "      <td>1003.0</td>\n",
       "      <td>AL</td>\n",
       "      <td>Baldwin</td>\n",
       "      <td>80.0</td>\n",
       "      <td>103.0</td>\n",
       "      <td>28.750000</td>\n",
       "      <td>7.023705</td>\n",
       "      <td>10.414560</td>\n",
       "      <td>0.712634</td>\n",
       "      <td>0.478010</td>\n",
       "      <td>...</td>\n",
       "      <td>7.0</td>\n",
       "      <td>-46.153846</td>\n",
       "      <td>18.0</td>\n",
       "      <td>16.0</td>\n",
       "      <td>-11.111111</td>\n",
       "      <td>124000.0</td>\n",
       "      <td>204000.0</td>\n",
       "      <td>64.516129</td>\n",
       "      <td>0.0</td>\n",
       "      <td>1.0</td>\n",
       "    </tr>\n",
       "    <tr>\n",
       "      <th>2</th>\n",
       "      <td>1005.0</td>\n",
       "      <td>AL</td>\n",
       "      <td>Barbour</td>\n",
       "      <td>18.0</td>\n",
       "      <td>13.0</td>\n",
       "      <td>-27.777778</td>\n",
       "      <td>2.889246</td>\n",
       "      <td>2.276708</td>\n",
       "      <td>0.015403</td>\n",
       "      <td>0.012457</td>\n",
       "      <td>...</td>\n",
       "      <td>0.0</td>\n",
       "      <td>-100.000000</td>\n",
       "      <td>27.0</td>\n",
       "      <td>32.0</td>\n",
       "      <td>18.518519</td>\n",
       "      <td>163000.0</td>\n",
       "      <td>304000.0</td>\n",
       "      <td>86.503067</td>\n",
       "      <td>1.0</td>\n",
       "      <td>0.0</td>\n",
       "    </tr>\n",
       "    <tr>\n",
       "      <th>3</th>\n",
       "      <td>1007.0</td>\n",
       "      <td>AL</td>\n",
       "      <td>Bibb</td>\n",
       "      <td>12.0</td>\n",
       "      <td>13.0</td>\n",
       "      <td>8.333333</td>\n",
       "      <td>5.687204</td>\n",
       "      <td>6.878307</td>\n",
       "      <td>NaN</td>\n",
       "      <td>NaN</td>\n",
       "      <td>...</td>\n",
       "      <td>3.0</td>\n",
       "      <td>50.000000</td>\n",
       "      <td>5.0</td>\n",
       "      <td>6.0</td>\n",
       "      <td>20.000000</td>\n",
       "      <td>NaN</td>\n",
       "      <td>21000.0</td>\n",
       "      <td>NaN</td>\n",
       "      <td>0.0</td>\n",
       "      <td>0.0</td>\n",
       "    </tr>\n",
       "    <tr>\n",
       "      <th>4</th>\n",
       "      <td>1009.0</td>\n",
       "      <td>AL</td>\n",
       "      <td>Blount</td>\n",
       "      <td>84.0</td>\n",
       "      <td>88.0</td>\n",
       "      <td>4.761905</td>\n",
       "      <td>5.940594</td>\n",
       "      <td>7.091056</td>\n",
       "      <td>0.267717</td>\n",
       "      <td>0.277792</td>\n",
       "      <td>...</td>\n",
       "      <td>4.0</td>\n",
       "      <td>-42.857143</td>\n",
       "      <td>10.0</td>\n",
       "      <td>8.0</td>\n",
       "      <td>-20.000000</td>\n",
       "      <td>293000.0</td>\n",
       "      <td>30000.0</td>\n",
       "      <td>-89.761092</td>\n",
       "      <td>1.0</td>\n",
       "      <td>0.0</td>\n",
       "    </tr>\n",
       "  </tbody>\n",
       "</table>\n",
       "<p>5 rows × 100 columns</p>\n",
       "</div>"
      ],
      "text/plain": [
       "     FIPS State   County  DIRSALES_FARMS07  DIRSALES_FARMS12  \\\n",
       "0  1001.0    AL  Autauga              25.0              51.0   \n",
       "1  1003.0    AL  Baldwin              80.0             103.0   \n",
       "2  1005.0    AL  Barbour              18.0              13.0   \n",
       "3  1007.0    AL     Bibb              12.0              13.0   \n",
       "4  1009.0    AL   Blount              84.0              88.0   \n",
       "\n",
       "   PCH_DIRSALES_FARMS_07_12  PCT_LOCLFARM07  PCT_LOCLFARM12  PCT_LOCLSALE07  \\\n",
       "0                104.000000        6.024096       13.110540        0.596374   \n",
       "1                 28.750000        7.023705       10.414560        0.712634   \n",
       "2                -27.777778        2.889246        2.276708        0.015403   \n",
       "3                  8.333333        5.687204        6.878307             NaN   \n",
       "4                  4.761905        5.940594        7.091056        0.267717   \n",
       "\n",
       "   PCT_LOCLSALE12  ...  CSA12  PCH_CSA_07_12  AGRITRSM_OPS07  AGRITRSM_OPS12  \\\n",
       "0        1.554692  ...    3.0      50.000000             7.0            10.0   \n",
       "1        0.478010  ...    7.0     -46.153846            18.0            16.0   \n",
       "2        0.012457  ...    0.0    -100.000000            27.0            32.0   \n",
       "3             NaN  ...    3.0      50.000000             5.0             6.0   \n",
       "4        0.277792  ...    4.0     -42.857143            10.0             8.0   \n",
       "\n",
       "   PCH_AGRITRSM_OPS_07_12  AGRITRSM_RCT07  AGRITRSM_RCT12  \\\n",
       "0               42.857143        228000.0        146000.0   \n",
       "1              -11.111111        124000.0        204000.0   \n",
       "2               18.518519        163000.0        304000.0   \n",
       "3               20.000000             NaN         21000.0   \n",
       "4              -20.000000        293000.0         30000.0   \n",
       "\n",
       "   PCH_AGRITRSM_RCT_07_12  FARM_TO_SCHOOL13  FARM_TO_SCHOOL15  \n",
       "0              -35.964912               NaN               0.0  \n",
       "1               64.516129               0.0               1.0  \n",
       "2               86.503067               1.0               0.0  \n",
       "3                     NaN               0.0               0.0  \n",
       "4              -89.761092               1.0               0.0  \n",
       "\n",
       "[5 rows x 100 columns]"
      ]
     },
     "execution_count": 70,
     "metadata": {},
     "output_type": "execute_result"
    }
   ],
   "source": [
    "local.head() #shows top 5 rows of dataframe"
   ]
  },
  {
   "cell_type": "code",
   "execution_count": 71,
   "id": "c4bd4f74",
   "metadata": {},
   "outputs": [
    {
     "data": {
      "text/html": [
       "<div>\n",
       "<style scoped>\n",
       "    .dataframe tbody tr th:only-of-type {\n",
       "        vertical-align: middle;\n",
       "    }\n",
       "\n",
       "    .dataframe tbody tr th {\n",
       "        vertical-align: top;\n",
       "    }\n",
       "\n",
       "    .dataframe thead th {\n",
       "        text-align: right;\n",
       "    }\n",
       "</style>\n",
       "<table border=\"1\" class=\"dataframe\">\n",
       "  <thead>\n",
       "    <tr style=\"text-align: right;\">\n",
       "      <th></th>\n",
       "      <th>fips</th>\n",
       "      <th>state</th>\n",
       "      <th>county</th>\n",
       "      <th>pct_diabetes_adults08</th>\n",
       "      <th>pct_diabetes_adults13</th>\n",
       "      <th>pct_obese_adults12</th>\n",
       "      <th>pct_obese_adults17</th>\n",
       "      <th>pct_hspa17</th>\n",
       "      <th>recfac11</th>\n",
       "      <th>recfac16</th>\n",
       "      <th>pch_recfac_11_16</th>\n",
       "      <th>recfacpth11</th>\n",
       "      <th>recfacpth16</th>\n",
       "      <th>pch_recfacpth_11_16</th>\n",
       "    </tr>\n",
       "  </thead>\n",
       "  <tbody>\n",
       "    <tr>\n",
       "      <th>0</th>\n",
       "      <td>1001</td>\n",
       "      <td>AL</td>\n",
       "      <td>Autauga</td>\n",
       "      <td>11.4</td>\n",
       "      <td>13.0</td>\n",
       "      <td>33.0</td>\n",
       "      <td>36.3</td>\n",
       "      <td>NaN</td>\n",
       "      <td>4</td>\n",
       "      <td>6</td>\n",
       "      <td>50.000000</td>\n",
       "      <td>0.072465</td>\n",
       "      <td>0.108542</td>\n",
       "      <td>49.785629</td>\n",
       "    </tr>\n",
       "    <tr>\n",
       "      <th>1</th>\n",
       "      <td>1003</td>\n",
       "      <td>AL</td>\n",
       "      <td>Baldwin</td>\n",
       "      <td>9.8</td>\n",
       "      <td>10.4</td>\n",
       "      <td>33.0</td>\n",
       "      <td>36.3</td>\n",
       "      <td>NaN</td>\n",
       "      <td>16</td>\n",
       "      <td>21</td>\n",
       "      <td>31.250000</td>\n",
       "      <td>0.085775</td>\n",
       "      <td>0.101200</td>\n",
       "      <td>17.983256</td>\n",
       "    </tr>\n",
       "    <tr>\n",
       "      <th>2</th>\n",
       "      <td>1005</td>\n",
       "      <td>AL</td>\n",
       "      <td>Barbour</td>\n",
       "      <td>13.6</td>\n",
       "      <td>18.4</td>\n",
       "      <td>33.0</td>\n",
       "      <td>36.3</td>\n",
       "      <td>NaN</td>\n",
       "      <td>2</td>\n",
       "      <td>0</td>\n",
       "      <td>-100.000000</td>\n",
       "      <td>0.073123</td>\n",
       "      <td>0.000000</td>\n",
       "      <td>-100.000000</td>\n",
       "    </tr>\n",
       "    <tr>\n",
       "      <th>3</th>\n",
       "      <td>1007</td>\n",
       "      <td>AL</td>\n",
       "      <td>Bibb</td>\n",
       "      <td>11.1</td>\n",
       "      <td>14.8</td>\n",
       "      <td>33.0</td>\n",
       "      <td>36.3</td>\n",
       "      <td>NaN</td>\n",
       "      <td>0</td>\n",
       "      <td>1</td>\n",
       "      <td>NaN</td>\n",
       "      <td>0.000000</td>\n",
       "      <td>0.044183</td>\n",
       "      <td>NaN</td>\n",
       "    </tr>\n",
       "    <tr>\n",
       "      <th>4</th>\n",
       "      <td>1009</td>\n",
       "      <td>AL</td>\n",
       "      <td>Blount</td>\n",
       "      <td>11.4</td>\n",
       "      <td>14.1</td>\n",
       "      <td>33.0</td>\n",
       "      <td>36.3</td>\n",
       "      <td>NaN</td>\n",
       "      <td>3</td>\n",
       "      <td>4</td>\n",
       "      <td>33.333333</td>\n",
       "      <td>0.052118</td>\n",
       "      <td>0.069490</td>\n",
       "      <td>33.333333</td>\n",
       "    </tr>\n",
       "  </tbody>\n",
       "</table>\n",
       "</div>"
      ],
      "text/plain": [
       "   fips state   county  pct_diabetes_adults08  pct_diabetes_adults13  \\\n",
       "0  1001    AL  Autauga                   11.4                   13.0   \n",
       "1  1003    AL  Baldwin                    9.8                   10.4   \n",
       "2  1005    AL  Barbour                   13.6                   18.4   \n",
       "3  1007    AL     Bibb                   11.1                   14.8   \n",
       "4  1009    AL   Blount                   11.4                   14.1   \n",
       "\n",
       "   pct_obese_adults12  pct_obese_adults17  pct_hspa17  recfac11  recfac16  \\\n",
       "0                33.0                36.3         NaN         4         6   \n",
       "1                33.0                36.3         NaN        16        21   \n",
       "2                33.0                36.3         NaN         2         0   \n",
       "3                33.0                36.3         NaN         0         1   \n",
       "4                33.0                36.3         NaN         3         4   \n",
       "\n",
       "   pch_recfac_11_16  recfacpth11  recfacpth16  pch_recfacpth_11_16  \n",
       "0         50.000000     0.072465     0.108542            49.785629  \n",
       "1         31.250000     0.085775     0.101200            17.983256  \n",
       "2       -100.000000     0.073123     0.000000          -100.000000  \n",
       "3               NaN     0.000000     0.044183                  NaN  \n",
       "4         33.333333     0.052118     0.069490            33.333333  "
      ]
     },
     "execution_count": 71,
     "metadata": {},
     "output_type": "execute_result"
    }
   ],
   "source": [
    "health.head() #shows top 5 rows of dataframe"
   ]
  },
  {
   "cell_type": "code",
   "execution_count": 72,
   "id": "6170a5f6",
   "metadata": {},
   "outputs": [
    {
     "data": {
      "text/plain": [
       "count     3143.000000\n",
       "mean     30390.411709\n",
       "std      15164.717720\n",
       "min       1001.000000\n",
       "25%      18178.000000\n",
       "50%      29177.000000\n",
       "75%      45082.000000\n",
       "max      56045.000000\n",
       "Name: FIPS, dtype: float64"
      ]
     },
     "execution_count": 72,
     "metadata": {},
     "output_type": "execute_result"
    }
   ],
   "source": [
    "local.FIPS.describe() #shows a statistical summary of the fips codes"
   ]
  },
  {
   "cell_type": "code",
   "execution_count": 73,
   "id": "87f7f45d",
   "metadata": {},
   "outputs": [
    {
     "data": {
      "text/plain": [
       "count     3143.000000\n",
       "mean     30390.411709\n",
       "std      15164.717720\n",
       "min       1001.000000\n",
       "25%      18178.000000\n",
       "50%      29177.000000\n",
       "75%      45082.000000\n",
       "max      56045.000000\n",
       "Name: fips, dtype: float64"
      ]
     },
     "execution_count": 73,
     "metadata": {},
     "output_type": "execute_result"
    }
   ],
   "source": [
    "health.fips.describe() #shows a statistical summary of the fips codes"
   ]
  },
  {
   "cell_type": "markdown",
   "id": "203278b3",
   "metadata": {},
   "source": [
    "The top and bottom 5 rows of the 2 datasets show the same counties. The statistical summaries of the fips codes are identical. The number of rows is now the same in the 2 datasets.\n",
    "\n",
    "It seems the discrepancy has been resolved. Next, I will make the columns in the Local dataset lowercase."
   ]
  },
  {
   "cell_type": "code",
   "execution_count": 74,
   "id": "46a1ce3c",
   "metadata": {},
   "outputs": [
    {
     "data": {
      "text/plain": [
       "Index(['fips', 'state', 'county', 'dirsales_farms07', 'dirsales_farms12',\n",
       "       'pch_dirsales_farms_07_12', 'pct_loclfarm07', 'pct_loclfarm12',\n",
       "       'pct_loclsale07', 'pct_loclsale12', 'dirsales07', 'dirsales12',\n",
       "       'pch_dirsales_07_12', 'pc_dirsales07', 'pc_dirsales12',\n",
       "       'pch_pc_dirsales_07_12', 'fmrkt13', 'fmrkt18', 'pch_fmrkt_13_18',\n",
       "       'fmrktpth13', 'fmrktpth18', 'pch_fmrktpth_13_18', 'fmrkt_snap18',\n",
       "       'pct_fmrkt_snap18', 'fmrkt_wic18', 'pct_fmrkt_wic18', 'fmrkt_wiccash18',\n",
       "       'pct_fmrkt_wiccash18', 'fmrkt_sfmnp18', 'pct_fmrkt_sfmnp18',\n",
       "       'fmrkt_credit18', 'pct_fmrkt_credit18', 'fmrkt_frveg18',\n",
       "       'pct_fmrkt_frveg18', 'fmrkt_anmlprod18', 'pct_fmrkt_anmlprod18',\n",
       "       'fmrkt_baked18', 'pct_fmrkt_baked18', 'fmrkt_otherfood18',\n",
       "       'pct_fmrkt_otherfood18', 'veg_farms07', 'veg_farms12',\n",
       "       'pch_veg_farms_07_12', 'veg_acres07', 'veg_acres12',\n",
       "       'pch_veg_acres_07_12', 'veg_acrespth07', 'veg_acrespth12',\n",
       "       'pch_veg_acrespth_07_12', 'freshveg_farms07', 'freshveg_farms12',\n",
       "       'pch_freshveg_farms_07_12', 'freshveg_acres07', 'freshveg_acres12',\n",
       "       'pch_freshveg_acres_07_12', 'freshveg_acrespth07',\n",
       "       'freshveg_acrespth12', 'pch_freshveg_acrespth_07_12', 'orchard_farms07',\n",
       "       'orchard_farms12', 'pch_orchard_farms_07_12', 'orchard_acres07',\n",
       "       'orchard_acres12', 'pch_orchard_acres_07_12', 'orchard_acrespth07',\n",
       "       'orchard_acrespth12', 'pch_orchard_acrespth_07_12', 'berry_farms07',\n",
       "       'berry_farms12', 'pch_berry_farms_07_12', 'berry_acres07',\n",
       "       'berry_acres12', 'pch_berry_acres_07_12', 'berry_acrespth07',\n",
       "       'berry_acrespth12', 'pch_berry_acrespth_07_12', 'slhouse07',\n",
       "       'slhouse12', 'pch_slhouse_07_12', 'ghveg_farms07', 'ghveg_farms12',\n",
       "       'pch_ghveg_farms_07_12', 'ghveg_sqft07', 'ghveg_sqft12',\n",
       "       'pch_ghveg_sqft_07_12', 'ghveg_sqftpth07', 'ghveg_sqftpth12',\n",
       "       'pch_ghveg_sqftpth_07_12', 'foodhub18', 'csa07', 'csa12',\n",
       "       'pch_csa_07_12', 'agritrsm_ops07', 'agritrsm_ops12',\n",
       "       'pch_agritrsm_ops_07_12', 'agritrsm_rct07', 'agritrsm_rct12',\n",
       "       'pch_agritrsm_rct_07_12', 'farm_to_school13', 'farm_to_school15'],\n",
       "      dtype='object')"
      ]
     },
     "execution_count": 74,
     "metadata": {},
     "output_type": "execute_result"
    }
   ],
   "source": [
    "local.columns = [col.lower() for col in local.columns] #changes column names to all-lowercase\n",
    "\n",
    "local.columns #shows revised column names"
   ]
  },
  {
   "cell_type": "markdown",
   "id": "953d06f4",
   "metadata": {},
   "source": [
    "This dataframe will be saved for now. As I mentioned, I will look into which missing values must be replaced and the best method for doing so."
   ]
  },
  {
   "cell_type": "markdown",
   "id": "34a53cdf",
   "metadata": {},
   "source": [
    "### 3. Saving clean dataframe as a csv"
   ]
  },
  {
   "cell_type": "code",
   "execution_count": 75,
   "id": "5ad9ffe2",
   "metadata": {},
   "outputs": [],
   "source": [
    "local.to_csv('../data/FoodEnvironmentAtlas.xls.LOCAL_CLEAN.csv', index = False) #saves clean dataframe to a new csv"
   ]
  },
  {
   "cell_type": "markdown",
   "id": "5e49f059",
   "metadata": {},
   "source": [
    "### VI. Food Environment Atlas - RESTAURANTS"
   ]
  },
  {
   "cell_type": "markdown",
   "id": "59d77b81",
   "metadata": {},
   "source": [
    "This dataset contains information regarding number of restaurants and per capita spending on Full-Service and Fast Food restaurants."
   ]
  },
  {
   "cell_type": "markdown",
   "id": "9a04b50b",
   "metadata": {},
   "source": [
    "### 1. Data Import"
   ]
  },
  {
   "cell_type": "code",
   "execution_count": 76,
   "id": "476f363c",
   "metadata": {},
   "outputs": [],
   "source": [
    "file_path = '../data/FoodEnvironmentAtlas.xls.RESTAURANTS.csv'\n",
    "\n",
    "restaurants = pd.read_csv(file_path)"
   ]
  },
  {
   "cell_type": "code",
   "execution_count": 77,
   "id": "2f52b6d3",
   "metadata": {},
   "outputs": [
    {
     "data": {
      "text/html": [
       "<div>\n",
       "<style scoped>\n",
       "    .dataframe tbody tr th:only-of-type {\n",
       "        vertical-align: middle;\n",
       "    }\n",
       "\n",
       "    .dataframe tbody tr th {\n",
       "        vertical-align: top;\n",
       "    }\n",
       "\n",
       "    .dataframe thead th {\n",
       "        text-align: right;\n",
       "    }\n",
       "</style>\n",
       "<table border=\"1\" class=\"dataframe\">\n",
       "  <thead>\n",
       "    <tr style=\"text-align: right;\">\n",
       "      <th></th>\n",
       "      <th>FIPS</th>\n",
       "      <th>State</th>\n",
       "      <th>County</th>\n",
       "      <th>FFR11</th>\n",
       "      <th>FFR16</th>\n",
       "      <th>PCH_FFR_11_16</th>\n",
       "      <th>FFRPTH11</th>\n",
       "      <th>FFRPTH16</th>\n",
       "      <th>PCH_FFRPTH_11_16</th>\n",
       "      <th>FSR11</th>\n",
       "      <th>FSR16</th>\n",
       "      <th>PCH_FSR_11_16</th>\n",
       "      <th>FSRPTH11</th>\n",
       "      <th>FSRPTH16</th>\n",
       "      <th>PCH_FSRPTH_11_16</th>\n",
       "      <th>PC_FFRSALES07</th>\n",
       "      <th>PC_FFRSALES12</th>\n",
       "      <th>PC_FSRSALES07</th>\n",
       "      <th>PC_FSRSALES12</th>\n",
       "    </tr>\n",
       "  </thead>\n",
       "  <tbody>\n",
       "    <tr>\n",
       "      <th>0</th>\n",
       "      <td>1001</td>\n",
       "      <td>AL</td>\n",
       "      <td>Autauga</td>\n",
       "      <td>34</td>\n",
       "      <td>44</td>\n",
       "      <td>29.411765</td>\n",
       "      <td>0.615953</td>\n",
       "      <td>0.795977</td>\n",
       "      <td>29.226817</td>\n",
       "      <td>32</td>\n",
       "      <td>31</td>\n",
       "      <td>-3.125000</td>\n",
       "      <td>0.579721</td>\n",
       "      <td>0.560802</td>\n",
       "      <td>-3.263448</td>\n",
       "      <td>649.511367</td>\n",
       "      <td>674.80272</td>\n",
       "      <td>484.381507</td>\n",
       "      <td>512.280987</td>\n",
       "    </tr>\n",
       "    <tr>\n",
       "      <th>1</th>\n",
       "      <td>1003</td>\n",
       "      <td>AL</td>\n",
       "      <td>Baldwin</td>\n",
       "      <td>121</td>\n",
       "      <td>156</td>\n",
       "      <td>28.925620</td>\n",
       "      <td>0.648675</td>\n",
       "      <td>0.751775</td>\n",
       "      <td>15.893824</td>\n",
       "      <td>216</td>\n",
       "      <td>236</td>\n",
       "      <td>9.259259</td>\n",
       "      <td>1.157966</td>\n",
       "      <td>1.137300</td>\n",
       "      <td>-1.784662</td>\n",
       "      <td>649.511367</td>\n",
       "      <td>674.80272</td>\n",
       "      <td>484.381507</td>\n",
       "      <td>512.280987</td>\n",
       "    </tr>\n",
       "    <tr>\n",
       "      <th>2</th>\n",
       "      <td>1005</td>\n",
       "      <td>AL</td>\n",
       "      <td>Barbour</td>\n",
       "      <td>19</td>\n",
       "      <td>23</td>\n",
       "      <td>21.052632</td>\n",
       "      <td>0.694673</td>\n",
       "      <td>0.892372</td>\n",
       "      <td>28.459320</td>\n",
       "      <td>17</td>\n",
       "      <td>14</td>\n",
       "      <td>-17.647059</td>\n",
       "      <td>0.621549</td>\n",
       "      <td>0.543183</td>\n",
       "      <td>-12.608237</td>\n",
       "      <td>649.511367</td>\n",
       "      <td>674.80272</td>\n",
       "      <td>484.381507</td>\n",
       "      <td>512.280987</td>\n",
       "    </tr>\n",
       "    <tr>\n",
       "      <th>3</th>\n",
       "      <td>1007</td>\n",
       "      <td>AL</td>\n",
       "      <td>Bibb</td>\n",
       "      <td>6</td>\n",
       "      <td>7</td>\n",
       "      <td>16.666667</td>\n",
       "      <td>0.263794</td>\n",
       "      <td>0.309283</td>\n",
       "      <td>17.243995</td>\n",
       "      <td>5</td>\n",
       "      <td>7</td>\n",
       "      <td>40.000000</td>\n",
       "      <td>0.219829</td>\n",
       "      <td>0.309283</td>\n",
       "      <td>40.692794</td>\n",
       "      <td>649.511367</td>\n",
       "      <td>674.80272</td>\n",
       "      <td>484.381507</td>\n",
       "      <td>512.280987</td>\n",
       "    </tr>\n",
       "    <tr>\n",
       "      <th>4</th>\n",
       "      <td>1009</td>\n",
       "      <td>AL</td>\n",
       "      <td>Blount</td>\n",
       "      <td>20</td>\n",
       "      <td>23</td>\n",
       "      <td>15.000000</td>\n",
       "      <td>0.347451</td>\n",
       "      <td>0.399569</td>\n",
       "      <td>15.000000</td>\n",
       "      <td>15</td>\n",
       "      <td>12</td>\n",
       "      <td>-20.000000</td>\n",
       "      <td>0.260589</td>\n",
       "      <td>0.208471</td>\n",
       "      <td>-20.000000</td>\n",
       "      <td>649.511367</td>\n",
       "      <td>674.80272</td>\n",
       "      <td>484.381507</td>\n",
       "      <td>512.280987</td>\n",
       "    </tr>\n",
       "  </tbody>\n",
       "</table>\n",
       "</div>"
      ],
      "text/plain": [
       "   FIPS State   County  FFR11  FFR16  PCH_FFR_11_16  FFRPTH11  FFRPTH16  \\\n",
       "0  1001    AL  Autauga     34     44      29.411765  0.615953  0.795977   \n",
       "1  1003    AL  Baldwin    121    156      28.925620  0.648675  0.751775   \n",
       "2  1005    AL  Barbour     19     23      21.052632  0.694673  0.892372   \n",
       "3  1007    AL     Bibb      6      7      16.666667  0.263794  0.309283   \n",
       "4  1009    AL   Blount     20     23      15.000000  0.347451  0.399569   \n",
       "\n",
       "   PCH_FFRPTH_11_16  FSR11  FSR16  PCH_FSR_11_16  FSRPTH11  FSRPTH16  \\\n",
       "0         29.226817     32     31      -3.125000  0.579721  0.560802   \n",
       "1         15.893824    216    236       9.259259  1.157966  1.137300   \n",
       "2         28.459320     17     14     -17.647059  0.621549  0.543183   \n",
       "3         17.243995      5      7      40.000000  0.219829  0.309283   \n",
       "4         15.000000     15     12     -20.000000  0.260589  0.208471   \n",
       "\n",
       "   PCH_FSRPTH_11_16  PC_FFRSALES07  PC_FFRSALES12  PC_FSRSALES07  \\\n",
       "0         -3.263448     649.511367      674.80272     484.381507   \n",
       "1         -1.784662     649.511367      674.80272     484.381507   \n",
       "2        -12.608237     649.511367      674.80272     484.381507   \n",
       "3         40.692794     649.511367      674.80272     484.381507   \n",
       "4        -20.000000     649.511367      674.80272     484.381507   \n",
       "\n",
       "   PC_FSRSALES12  \n",
       "0     512.280987  \n",
       "1     512.280987  \n",
       "2     512.280987  \n",
       "3     512.280987  \n",
       "4     512.280987  "
      ]
     },
     "execution_count": 77,
     "metadata": {},
     "output_type": "execute_result"
    }
   ],
   "source": [
    "restaurants.head() #displays top 5 rows of dataframe"
   ]
  },
  {
   "cell_type": "code",
   "execution_count": 78,
   "id": "1315a439",
   "metadata": {},
   "outputs": [
    {
     "data": {
      "text/plain": [
       "(3143, 19)"
      ]
     },
     "execution_count": 78,
     "metadata": {},
     "output_type": "execute_result"
    }
   ],
   "source": [
    "restaurants.shape #shows layout of dataframe"
   ]
  },
  {
   "cell_type": "markdown",
   "id": "64c41edb",
   "metadata": {},
   "source": [
    "With only 19 columns, I will retain the full dataset for now.\n",
    "\n",
    "I am particularly interested to see how the number of fast food restaurants might impact prevalence of diabetes."
   ]
  },
  {
   "cell_type": "code",
   "execution_count": 79,
   "id": "b3182e59",
   "metadata": {},
   "outputs": [
    {
     "data": {
      "text/plain": [
       "FIPS                  int64\n",
       "State                object\n",
       "County               object\n",
       "FFR11                 int64\n",
       "FFR16                 int64\n",
       "PCH_FFR_11_16       float64\n",
       "FFRPTH11            float64\n",
       "FFRPTH16            float64\n",
       "PCH_FFRPTH_11_16    float64\n",
       "FSR11                 int64\n",
       "FSR16                 int64\n",
       "PCH_FSR_11_16       float64\n",
       "FSRPTH11            float64\n",
       "FSRPTH16            float64\n",
       "PCH_FSRPTH_11_16    float64\n",
       "PC_FFRSALES07       float64\n",
       "PC_FFRSALES12       float64\n",
       "PC_FSRSALES07       float64\n",
       "PC_FSRSALES12       float64\n",
       "dtype: object"
      ]
     },
     "execution_count": 79,
     "metadata": {},
     "output_type": "execute_result"
    }
   ],
   "source": [
    "restaurants.dtypes"
   ]
  },
  {
   "cell_type": "markdown",
   "id": "7e9db3b1",
   "metadata": {},
   "source": [
    "These all seem to be the appropriate datatypes."
   ]
  },
  {
   "cell_type": "code",
   "execution_count": 80,
   "id": "2ae5d60e",
   "metadata": {},
   "outputs": [
    {
     "data": {
      "text/plain": [
       "FIPS                 0\n",
       "State                0\n",
       "County               0\n",
       "FFR11                0\n",
       "FFR16                0\n",
       "PCH_FFR_11_16       57\n",
       "FFRPTH11             0\n",
       "FFRPTH16             0\n",
       "PCH_FFRPTH_11_16    52\n",
       "FSR11                0\n",
       "FSR16                0\n",
       "PCH_FSR_11_16       28\n",
       "FSRPTH11             0\n",
       "FSRPTH16             0\n",
       "PCH_FSRPTH_11_16    23\n",
       "PC_FFRSALES07        0\n",
       "PC_FFRSALES12        0\n",
       "PC_FSRSALES07        0\n",
       "PC_FSRSALES12        0\n",
       "dtype: int64"
      ]
     },
     "execution_count": 80,
     "metadata": {},
     "output_type": "execute_result"
    }
   ],
   "source": [
    "restaurants.isnull().sum() #shows the number of missing values per column"
   ]
  },
  {
   "cell_type": "markdown",
   "id": "06357269",
   "metadata": {},
   "source": [
    "The only missing values are in columns with calculated percent changes - since the respective 2011 and 2016 columns are complete, I can use the information to derive the percent changes.\n",
    "\n",
    "I will remove the percent change columns after I make the columns lowercase."
   ]
  },
  {
   "cell_type": "code",
   "execution_count": 81,
   "id": "35c784d1",
   "metadata": {},
   "outputs": [
    {
     "data": {
      "text/plain": [
       "Index(['fips', 'state', 'county', 'ffr11', 'ffr16', 'pch_ffr_11_16',\n",
       "       'ffrpth11', 'ffrpth16', 'pch_ffrpth_11_16', 'fsr11', 'fsr16',\n",
       "       'pch_fsr_11_16', 'fsrpth11', 'fsrpth16', 'pch_fsrpth_11_16',\n",
       "       'pc_ffrsales07', 'pc_ffrsales12', 'pc_fsrsales07', 'pc_fsrsales12'],\n",
       "      dtype='object')"
      ]
     },
     "execution_count": 81,
     "metadata": {},
     "output_type": "execute_result"
    }
   ],
   "source": [
    "restaurants.columns = [col.lower() for col in restaurants.columns] #makes the columns lowercase\n",
    "\n",
    "restaurants.columns #displays revised column names"
   ]
  },
  {
   "cell_type": "code",
   "execution_count": 82,
   "id": "788950cd",
   "metadata": {},
   "outputs": [
    {
     "data": {
      "text/plain": [
       "fips             0\n",
       "state            0\n",
       "county           0\n",
       "ffr11            0\n",
       "ffr16            0\n",
       "ffrpth11         0\n",
       "ffrpth16         0\n",
       "fsr11            0\n",
       "fsr16            0\n",
       "fsrpth11         0\n",
       "fsrpth16         0\n",
       "pc_ffrsales07    0\n",
       "pc_ffrsales12    0\n",
       "pc_fsrsales07    0\n",
       "pc_fsrsales12    0\n",
       "dtype: int64"
      ]
     },
     "execution_count": 82,
     "metadata": {},
     "output_type": "execute_result"
    }
   ],
   "source": [
    "#drops the percent change columns\n",
    "\n",
    "restaurants = restaurants.drop(columns = ['pch_ffr_11_16', 'pch_ffrpth_11_16', 'pch_fsr_11_16', 'pch_fsrpth_11_16'])\n",
    "\n",
    "restaurants.isnull().sum() #displays the revised list of columns with count of missing values"
   ]
  },
  {
   "cell_type": "markdown",
   "id": "87b154e3",
   "metadata": {},
   "source": [
    "The respective columns and missing values have been removed.\n",
    "\n",
    "I will observe summary statistics for the numerical columns to observe for issues."
   ]
  },
  {
   "cell_type": "code",
   "execution_count": 83,
   "id": "98513f34",
   "metadata": {},
   "outputs": [
    {
     "data": {
      "text/plain": [
       "count     3143.000000\n",
       "mean     30390.411709\n",
       "std      15164.717720\n",
       "min       1001.000000\n",
       "25%      18178.000000\n",
       "50%      29177.000000\n",
       "75%      45082.000000\n",
       "max      56045.000000\n",
       "Name: fips, dtype: float64"
      ]
     },
     "execution_count": 83,
     "metadata": {},
     "output_type": "execute_result"
    }
   ],
   "source": [
    "restaurants.fips.describe()"
   ]
  },
  {
   "cell_type": "code",
   "execution_count": 84,
   "id": "de9869c0",
   "metadata": {},
   "outputs": [
    {
     "data": {
      "text/plain": [
       "count    3143.000000\n",
       "mean       68.797327\n",
       "std       237.039266\n",
       "min         0.000000\n",
       "25%         5.000000\n",
       "50%        15.000000\n",
       "75%        42.500000\n",
       "max      7211.000000\n",
       "Name: ffr11, dtype: float64"
      ]
     },
     "execution_count": 84,
     "metadata": {},
     "output_type": "execute_result"
    }
   ],
   "source": [
    "restaurants.ffr11.describe()"
   ]
  },
  {
   "cell_type": "code",
   "execution_count": 85,
   "id": "015828c4",
   "metadata": {},
   "outputs": [
    {
     "data": {
      "text/plain": [
       "count    3143.000000\n",
       "mean       75.696787\n",
       "std       268.845823\n",
       "min         0.000000\n",
       "25%         5.000000\n",
       "50%        15.000000\n",
       "75%        45.000000\n",
       "max      8264.000000\n",
       "Name: ffr16, dtype: float64"
      ]
     },
     "execution_count": 85,
     "metadata": {},
     "output_type": "execute_result"
    }
   ],
   "source": [
    "restaurants.ffr16.describe()"
   ]
  },
  {
   "cell_type": "code",
   "execution_count": 86,
   "id": "d545b382",
   "metadata": {},
   "outputs": [
    {
     "data": {
      "text/plain": [
       "count    3143.000000\n",
       "mean        0.560159\n",
       "std         0.301338\n",
       "min         0.000000\n",
       "25%         0.395000\n",
       "50%         0.562491\n",
       "75%         0.709595\n",
       "max         5.797101\n",
       "Name: ffrpth11, dtype: float64"
      ]
     },
     "execution_count": 86,
     "metadata": {},
     "output_type": "execute_result"
    }
   ],
   "source": [
    "restaurants.ffrpth11.describe()"
   ]
  },
  {
   "cell_type": "code",
   "execution_count": 87,
   "id": "cf9f6032",
   "metadata": {},
   "outputs": [
    {
     "data": {
      "text/plain": [
       "count    3143.000000\n",
       "mean        0.584822\n",
       "std         0.307703\n",
       "min         0.000000\n",
       "25%         0.418769\n",
       "50%         0.588565\n",
       "75%         0.748136\n",
       "max         5.805515\n",
       "Name: ffrpth16, dtype: float64"
      ]
     },
     "execution_count": 87,
     "metadata": {},
     "output_type": "execute_result"
    }
   ],
   "source": [
    "restaurants.ffrpth16.describe()"
   ]
  },
  {
   "cell_type": "code",
   "execution_count": 88,
   "id": "58fefad3",
   "metadata": {},
   "outputs": [
    {
     "data": {
      "text/plain": [
       "count    3143.00000\n",
       "mean       72.26917\n",
       "std       239.76644\n",
       "min         0.00000\n",
       "25%         7.00000\n",
       "50%        17.00000\n",
       "75%        48.00000\n",
       "max      7125.00000\n",
       "Name: fsr11, dtype: float64"
      ]
     },
     "execution_count": 88,
     "metadata": {},
     "output_type": "execute_result"
    }
   ],
   "source": [
    "restaurants.fsr11.describe()"
   ]
  },
  {
   "cell_type": "code",
   "execution_count": 89,
   "id": "99c2dbc9",
   "metadata": {},
   "outputs": [
    {
     "data": {
      "text/plain": [
       "count    3143.000000\n",
       "mean       78.551066\n",
       "std       269.993476\n",
       "min         0.000000\n",
       "25%         7.000000\n",
       "50%        18.000000\n",
       "75%        48.000000\n",
       "max      8113.000000\n",
       "Name: fsr16, dtype: float64"
      ]
     },
     "execution_count": 89,
     "metadata": {},
     "output_type": "execute_result"
    }
   ],
   "source": [
    "restaurants.fsr16.describe()"
   ]
  },
  {
   "cell_type": "code",
   "execution_count": 90,
   "id": "275f49cd",
   "metadata": {},
   "outputs": [
    {
     "data": {
      "text/plain": [
       "count    3143.000000\n",
       "mean        0.772666\n",
       "std         0.594496\n",
       "min         0.000000\n",
       "25%         0.492174\n",
       "50%         0.665266\n",
       "75%         0.893799\n",
       "max        15.942029\n",
       "Name: fsrpth11, dtype: float64"
      ]
     },
     "execution_count": 90,
     "metadata": {},
     "output_type": "execute_result"
    }
   ],
   "source": [
    "restaurants.fsrpth11.describe()"
   ]
  },
  {
   "cell_type": "code",
   "execution_count": 91,
   "id": "1ae210a5",
   "metadata": {},
   "outputs": [
    {
     "data": {
      "text/plain": [
       "count    3143.000000\n",
       "mean        0.775831\n",
       "std         0.567851\n",
       "min         0.000000\n",
       "25%         0.495050\n",
       "50%         0.672495\n",
       "75%         0.894307\n",
       "max        11.611030\n",
       "Name: fsrpth16, dtype: float64"
      ]
     },
     "execution_count": 91,
     "metadata": {},
     "output_type": "execute_result"
    }
   ],
   "source": [
    "restaurants.fsrpth16.describe()"
   ]
  },
  {
   "cell_type": "code",
   "execution_count": 92,
   "id": "e8b68046",
   "metadata": {},
   "outputs": [
    {
     "data": {
      "text/plain": [
       "count    3143.000000\n",
       "mean      641.617910\n",
       "std        96.641980\n",
       "min       402.097804\n",
       "25%       576.210444\n",
       "50%       632.337378\n",
       "75%       721.823151\n",
       "max      1043.860861\n",
       "Name: pc_ffrsales07, dtype: float64"
      ]
     },
     "execution_count": 92,
     "metadata": {},
     "output_type": "execute_result"
    }
   ],
   "source": [
    "restaurants.pc_ffrsales07.describe()"
   ]
  },
  {
   "cell_type": "code",
   "execution_count": 93,
   "id": "7b697e9b",
   "metadata": {},
   "outputs": [
    {
     "data": {
      "text/plain": [
       "count    3143.000000\n",
       "mean      599.639926\n",
       "std        78.735909\n",
       "min       364.112002\n",
       "25%       530.267589\n",
       "50%       611.294779\n",
       "75%       650.723556\n",
       "max      1035.391608\n",
       "Name: pc_ffrsales12, dtype: float64"
      ]
     },
     "execution_count": 93,
     "metadata": {},
     "output_type": "execute_result"
    }
   ],
   "source": [
    "restaurants.pc_ffrsales12.describe()"
   ]
  },
  {
   "cell_type": "code",
   "execution_count": 94,
   "id": "187b6006",
   "metadata": {},
   "outputs": [
    {
     "data": {
      "text/plain": [
       "count    3143.000000\n",
       "mean      624.523725\n",
       "std       128.070842\n",
       "min       371.845051\n",
       "25%       534.383583\n",
       "50%       617.339006\n",
       "75%       711.769798\n",
       "max      1930.155806\n",
       "Name: pc_fsrsales07, dtype: float64"
      ]
     },
     "execution_count": 94,
     "metadata": {},
     "output_type": "execute_result"
    }
   ],
   "source": [
    "restaurants.pc_fsrsales07.describe()"
   ]
  },
  {
   "cell_type": "code",
   "execution_count": 95,
   "id": "d95d944d",
   "metadata": {},
   "outputs": [
    {
     "data": {
      "text/plain": [
       "count    3143.000000\n",
       "mean      599.639926\n",
       "std        78.735909\n",
       "min       364.112002\n",
       "25%       530.267589\n",
       "50%       611.294779\n",
       "75%       650.723556\n",
       "max      1035.391608\n",
       "Name: pc_ffrsales12, dtype: float64"
      ]
     },
     "execution_count": 95,
     "metadata": {},
     "output_type": "execute_result"
    }
   ],
   "source": [
    "restaurants.pc_ffrsales12.describe()"
   ]
  },
  {
   "cell_type": "code",
   "execution_count": 96,
   "id": "91ab4398",
   "metadata": {},
   "outputs": [
    {
     "data": {
      "text/plain": [
       "count    3143.000000\n",
       "mean      624.523725\n",
       "std       128.070842\n",
       "min       371.845051\n",
       "25%       534.383583\n",
       "50%       617.339006\n",
       "75%       711.769798\n",
       "max      1930.155806\n",
       "Name: pc_fsrsales07, dtype: float64"
      ]
     },
     "execution_count": 96,
     "metadata": {},
     "output_type": "execute_result"
    }
   ],
   "source": [
    "restaurants.pc_fsrsales07.describe()"
   ]
  },
  {
   "cell_type": "code",
   "execution_count": 97,
   "id": "5aef0560",
   "metadata": {},
   "outputs": [
    {
     "data": {
      "text/plain": [
       "count    3143.000000\n",
       "mean      651.969675\n",
       "std       116.536765\n",
       "min       439.731454\n",
       "25%       573.685136\n",
       "50%       643.144903\n",
       "75%       697.649988\n",
       "max      2160.503105\n",
       "Name: pc_fsrsales12, dtype: float64"
      ]
     },
     "execution_count": 97,
     "metadata": {},
     "output_type": "execute_result"
    }
   ],
   "source": [
    "restaurants.pc_fsrsales12.describe()"
   ]
  },
  {
   "cell_type": "markdown",
   "id": "4ff3c9a0",
   "metadata": {},
   "source": [
    "I see no -9999 values or other issues here. The cleaned dataframe will be saved as a csv."
   ]
  },
  {
   "cell_type": "markdown",
   "id": "79090d4e",
   "metadata": {},
   "source": [
    "### 3. Saving clean dataframe to a csv"
   ]
  },
  {
   "cell_type": "code",
   "execution_count": 98,
   "id": "1e9d55a3",
   "metadata": {},
   "outputs": [],
   "source": [
    "restaurants.to_csv('../data/FoodEnvironmentAtlas.xls.RESTAURANTS_CLEAN.csv', index = False) #saves clean dataframe to a new csv"
   ]
  },
  {
   "cell_type": "markdown",
   "id": "79faeff5",
   "metadata": {},
   "source": [
    "## VII. Food Environment - SOCIOECONOMIC"
   ]
  },
  {
   "cell_type": "markdown",
   "id": "1e44374d",
   "metadata": {},
   "source": [
    "This dataset contains information regarding poverty, ethnicity, and metroplolitan description of the counties."
   ]
  },
  {
   "cell_type": "markdown",
   "id": "d5151999",
   "metadata": {},
   "source": [
    "### 1. Data Import"
   ]
  },
  {
   "cell_type": "code",
   "execution_count": 99,
   "id": "cca92ffe",
   "metadata": {},
   "outputs": [],
   "source": [
    "file_path = '../data/FoodEnvironmentAtlas.xls.SOCIOECONOMIC.csv'\n",
    "\n",
    "socioeconomic = pd.read_csv(file_path)"
   ]
  },
  {
   "cell_type": "markdown",
   "id": "a2e06c98",
   "metadata": {},
   "source": [
    "### 2. Preliminary Data Analysis & Cleaning"
   ]
  },
  {
   "cell_type": "code",
   "execution_count": 100,
   "id": "971602c7",
   "metadata": {},
   "outputs": [
    {
     "data": {
      "text/html": [
       "<div>\n",
       "<style scoped>\n",
       "    .dataframe tbody tr th:only-of-type {\n",
       "        vertical-align: middle;\n",
       "    }\n",
       "\n",
       "    .dataframe tbody tr th {\n",
       "        vertical-align: top;\n",
       "    }\n",
       "\n",
       "    .dataframe thead th {\n",
       "        text-align: right;\n",
       "    }\n",
       "</style>\n",
       "<table border=\"1\" class=\"dataframe\">\n",
       "  <thead>\n",
       "    <tr style=\"text-align: right;\">\n",
       "      <th></th>\n",
       "      <th>FIPS</th>\n",
       "      <th>State</th>\n",
       "      <th>County</th>\n",
       "      <th>PCT_NHWHITE10</th>\n",
       "      <th>PCT_NHBLACK10</th>\n",
       "      <th>PCT_HISP10</th>\n",
       "      <th>PCT_NHASIAN10</th>\n",
       "      <th>PCT_NHNA10</th>\n",
       "      <th>PCT_NHPI10</th>\n",
       "      <th>PCT_65OLDER10</th>\n",
       "      <th>PCT_18YOUNGER10</th>\n",
       "      <th>MEDHHINC15</th>\n",
       "      <th>POVRATE15</th>\n",
       "      <th>PERPOV10</th>\n",
       "      <th>CHILDPOVRATE15</th>\n",
       "      <th>PERCHLDPOV10</th>\n",
       "      <th>METRO13</th>\n",
       "      <th>POPLOSS10</th>\n",
       "    </tr>\n",
       "  </thead>\n",
       "  <tbody>\n",
       "    <tr>\n",
       "      <th>0</th>\n",
       "      <td>1001</td>\n",
       "      <td>AL</td>\n",
       "      <td>Autauga</td>\n",
       "      <td>77.246156</td>\n",
       "      <td>17.582599</td>\n",
       "      <td>2.400542</td>\n",
       "      <td>0.855766</td>\n",
       "      <td>0.397647</td>\n",
       "      <td>0.040314</td>\n",
       "      <td>11.995382</td>\n",
       "      <td>26.777959</td>\n",
       "      <td>56580.0</td>\n",
       "      <td>12.7</td>\n",
       "      <td>0</td>\n",
       "      <td>18.8</td>\n",
       "      <td>0</td>\n",
       "      <td>1</td>\n",
       "      <td>0.0</td>\n",
       "    </tr>\n",
       "    <tr>\n",
       "      <th>1</th>\n",
       "      <td>1003</td>\n",
       "      <td>AL</td>\n",
       "      <td>Baldwin</td>\n",
       "      <td>83.504787</td>\n",
       "      <td>9.308425</td>\n",
       "      <td>4.384824</td>\n",
       "      <td>0.735193</td>\n",
       "      <td>0.628755</td>\n",
       "      <td>0.043343</td>\n",
       "      <td>16.771185</td>\n",
       "      <td>22.987408</td>\n",
       "      <td>52387.0</td>\n",
       "      <td>12.9</td>\n",
       "      <td>0</td>\n",
       "      <td>19.6</td>\n",
       "      <td>0</td>\n",
       "      <td>1</td>\n",
       "      <td>0.0</td>\n",
       "    </tr>\n",
       "    <tr>\n",
       "      <th>2</th>\n",
       "      <td>1005</td>\n",
       "      <td>AL</td>\n",
       "      <td>Barbour</td>\n",
       "      <td>46.753105</td>\n",
       "      <td>46.691190</td>\n",
       "      <td>5.051535</td>\n",
       "      <td>0.389700</td>\n",
       "      <td>0.218524</td>\n",
       "      <td>0.087409</td>\n",
       "      <td>14.236807</td>\n",
       "      <td>21.906982</td>\n",
       "      <td>31433.0</td>\n",
       "      <td>32.0</td>\n",
       "      <td>1</td>\n",
       "      <td>45.2</td>\n",
       "      <td>1</td>\n",
       "      <td>0</td>\n",
       "      <td>0.0</td>\n",
       "    </tr>\n",
       "    <tr>\n",
       "      <th>3</th>\n",
       "      <td>1007</td>\n",
       "      <td>AL</td>\n",
       "      <td>Bibb</td>\n",
       "      <td>75.020729</td>\n",
       "      <td>21.924504</td>\n",
       "      <td>1.771765</td>\n",
       "      <td>0.096007</td>\n",
       "      <td>0.279293</td>\n",
       "      <td>0.030548</td>\n",
       "      <td>12.681650</td>\n",
       "      <td>22.696923</td>\n",
       "      <td>40767.0</td>\n",
       "      <td>22.2</td>\n",
       "      <td>0</td>\n",
       "      <td>29.3</td>\n",
       "      <td>1</td>\n",
       "      <td>1</td>\n",
       "      <td>0.0</td>\n",
       "    </tr>\n",
       "    <tr>\n",
       "      <th>4</th>\n",
       "      <td>1009</td>\n",
       "      <td>AL</td>\n",
       "      <td>Blount</td>\n",
       "      <td>88.887338</td>\n",
       "      <td>1.263040</td>\n",
       "      <td>8.070200</td>\n",
       "      <td>0.200621</td>\n",
       "      <td>0.497191</td>\n",
       "      <td>0.031402</td>\n",
       "      <td>14.722096</td>\n",
       "      <td>24.608353</td>\n",
       "      <td>50487.0</td>\n",
       "      <td>14.7</td>\n",
       "      <td>0</td>\n",
       "      <td>22.2</td>\n",
       "      <td>0</td>\n",
       "      <td>1</td>\n",
       "      <td>0.0</td>\n",
       "    </tr>\n",
       "  </tbody>\n",
       "</table>\n",
       "</div>"
      ],
      "text/plain": [
       "   FIPS State   County  PCT_NHWHITE10  PCT_NHBLACK10  PCT_HISP10  \\\n",
       "0  1001    AL  Autauga      77.246156      17.582599    2.400542   \n",
       "1  1003    AL  Baldwin      83.504787       9.308425    4.384824   \n",
       "2  1005    AL  Barbour      46.753105      46.691190    5.051535   \n",
       "3  1007    AL     Bibb      75.020729      21.924504    1.771765   \n",
       "4  1009    AL   Blount      88.887338       1.263040    8.070200   \n",
       "\n",
       "   PCT_NHASIAN10  PCT_NHNA10  PCT_NHPI10  PCT_65OLDER10  PCT_18YOUNGER10  \\\n",
       "0       0.855766    0.397647    0.040314      11.995382        26.777959   \n",
       "1       0.735193    0.628755    0.043343      16.771185        22.987408   \n",
       "2       0.389700    0.218524    0.087409      14.236807        21.906982   \n",
       "3       0.096007    0.279293    0.030548      12.681650        22.696923   \n",
       "4       0.200621    0.497191    0.031402      14.722096        24.608353   \n",
       "\n",
       "   MEDHHINC15  POVRATE15  PERPOV10  CHILDPOVRATE15  PERCHLDPOV10  METRO13  \\\n",
       "0     56580.0       12.7         0            18.8             0        1   \n",
       "1     52387.0       12.9         0            19.6             0        1   \n",
       "2     31433.0       32.0         1            45.2             1        0   \n",
       "3     40767.0       22.2         0            29.3             1        1   \n",
       "4     50487.0       14.7         0            22.2             0        1   \n",
       "\n",
       "   POPLOSS10  \n",
       "0        0.0  \n",
       "1        0.0  \n",
       "2        0.0  \n",
       "3        0.0  \n",
       "4        0.0  "
      ]
     },
     "execution_count": 100,
     "metadata": {},
     "output_type": "execute_result"
    }
   ],
   "source": [
    "socioeconomic.head() #shows first 5 rows of dataframe"
   ]
  },
  {
   "cell_type": "code",
   "execution_count": 101,
   "id": "c177e230",
   "metadata": {},
   "outputs": [
    {
     "data": {
      "text/plain": [
       "FIPS                 int64\n",
       "State               object\n",
       "County              object\n",
       "PCT_NHWHITE10      float64\n",
       "PCT_NHBLACK10      float64\n",
       "PCT_HISP10         float64\n",
       "PCT_NHASIAN10      float64\n",
       "PCT_NHNA10         float64\n",
       "PCT_NHPI10         float64\n",
       "PCT_65OLDER10      float64\n",
       "PCT_18YOUNGER10    float64\n",
       "MEDHHINC15         float64\n",
       "POVRATE15          float64\n",
       "PERPOV10             int64\n",
       "CHILDPOVRATE15     float64\n",
       "PERCHLDPOV10         int64\n",
       "METRO13              int64\n",
       "POPLOSS10          float64\n",
       "dtype: object"
      ]
     },
     "execution_count": 101,
     "metadata": {},
     "output_type": "execute_result"
    }
   ],
   "source": [
    "socioeconomic.dtypes #shows the datatype of each column"
   ]
  },
  {
   "cell_type": "markdown",
   "id": "810b1fdc",
   "metadata": {},
   "source": [
    "The datatypes seem appropriate, as expected."
   ]
  },
  {
   "cell_type": "code",
   "execution_count": 102,
   "id": "565ec742",
   "metadata": {},
   "outputs": [
    {
     "data": {
      "text/plain": [
       "FIPS               0\n",
       "State              0\n",
       "County             0\n",
       "PCT_NHWHITE10      0\n",
       "PCT_NHBLACK10      0\n",
       "PCT_HISP10         0\n",
       "PCT_NHASIAN10      0\n",
       "PCT_NHNA10         0\n",
       "PCT_NHPI10         0\n",
       "PCT_65OLDER10      0\n",
       "PCT_18YOUNGER10    0\n",
       "MEDHHINC15         4\n",
       "POVRATE15          4\n",
       "PERPOV10           0\n",
       "CHILDPOVRATE15     4\n",
       "PERCHLDPOV10       0\n",
       "METRO13            0\n",
       "POPLOSS10          2\n",
       "dtype: int64"
      ]
     },
     "execution_count": 102,
     "metadata": {},
     "output_type": "execute_result"
    }
   ],
   "source": [
    "socioeconomic.isnull().sum() #shows missing values in each column"
   ]
  },
  {
   "cell_type": "markdown",
   "id": "353089ce",
   "metadata": {},
   "source": [
    "This is a small number of missing values. Missing values entered as \"-9999\" will be explored at a later time.\n",
    "\n",
    "I will revise the column names to make all letters lowercase."
   ]
  },
  {
   "cell_type": "code",
   "execution_count": 103,
   "id": "3daafe6c",
   "metadata": {},
   "outputs": [
    {
     "data": {
      "text/plain": [
       "Index(['fips', 'state', 'county', 'pct_nhwhite10', 'pct_nhblack10',\n",
       "       'pct_hisp10', 'pct_nhasian10', 'pct_nhna10', 'pct_nhpi10',\n",
       "       'pct_65older10', 'pct_18younger10', 'medhhinc15', 'povrate15',\n",
       "       'perpov10', 'childpovrate15', 'perchldpov10', 'metro13', 'poploss10'],\n",
       "      dtype='object')"
      ]
     },
     "execution_count": 103,
     "metadata": {},
     "output_type": "execute_result"
    }
   ],
   "source": [
    "socioeconomic.columns = [col.lower() for col in socioeconomic.columns] #makes letters in column names lowercase\n",
    "\n",
    "socioeconomic.columns #shows revised column names"
   ]
  },
  {
   "cell_type": "markdown",
   "id": "30fa4944",
   "metadata": {},
   "source": [
    "The column names have been revised.\n",
    "\n",
    "Meanwhile, I am uncertain about how I feel about making predictions based on the ethnic makeup of the population...\n",
    "\n",
    "While measures can be taken to improve people's access to certain foods, stores, financial resources and so on, it is not possible (or necessary) to change people's ethnicity.\n",
    "\n",
    "What I would like to avoid is predicting county prevalence of diabetes based on ethnicity, as someone might decide that the prevalence is high in some areas due to having too many of \"those\" people living there.\n",
    "\n",
    "I will remove the columns pertaining to ethnicity."
   ]
  },
  {
   "cell_type": "code",
   "execution_count": 104,
   "id": "60740fea",
   "metadata": {},
   "outputs": [
    {
     "data": {
      "text/plain": [
       "Index(['fips', 'state', 'county', 'pct_65older10', 'pct_18younger10',\n",
       "       'medhhinc15', 'povrate15', 'perpov10', 'childpovrate15', 'perchldpov10',\n",
       "       'metro13', 'poploss10'],\n",
       "      dtype='object')"
      ]
     },
     "execution_count": 104,
     "metadata": {},
     "output_type": "execute_result"
    }
   ],
   "source": [
    "#removes ethnicity columns\n",
    "\n",
    "socioeconomic = socioeconomic.drop(columns = ['pct_nhwhite10', 'pct_nhblack10', 'pct_hisp10', \n",
    "                                              'pct_nhasian10', 'pct_nhna10', 'pct_nhpi10'])\n",
    "\n",
    "socioeconomic.columns #shows revised list of columns"
   ]
  },
  {
   "cell_type": "markdown",
   "id": "eb726b1e",
   "metadata": {},
   "source": [
    "I will now observe summary statistics of the numerical columns to look for any issues."
   ]
  },
  {
   "cell_type": "code",
   "execution_count": 105,
   "id": "b76b9e64",
   "metadata": {},
   "outputs": [
    {
     "data": {
      "text/plain": [
       "count     3143.000000\n",
       "mean     30390.411709\n",
       "std      15164.717720\n",
       "min       1001.000000\n",
       "25%      18178.000000\n",
       "50%      29177.000000\n",
       "75%      45082.000000\n",
       "max      56045.000000\n",
       "Name: fips, dtype: float64"
      ]
     },
     "execution_count": 105,
     "metadata": {},
     "output_type": "execute_result"
    }
   ],
   "source": [
    "socioeconomic.fips.describe()"
   ]
  },
  {
   "cell_type": "code",
   "execution_count": 106,
   "id": "8b7db442",
   "metadata": {},
   "outputs": [
    {
     "data": {
      "text/plain": [
       "count    3143.000000\n",
       "mean       15.882540\n",
       "std         4.190210\n",
       "min         3.470599\n",
       "25%        13.122703\n",
       "50%        15.568674\n",
       "75%        18.204279\n",
       "max        43.384714\n",
       "Name: pct_65older10, dtype: float64"
      ]
     },
     "execution_count": 106,
     "metadata": {},
     "output_type": "execute_result"
    }
   ],
   "source": [
    "socioeconomic.pct_65older10.describe()"
   ]
  },
  {
   "cell_type": "code",
   "execution_count": 107,
   "id": "aff6e61a",
   "metadata": {},
   "outputs": [
    {
     "data": {
      "text/plain": [
       "count    3143.000000\n",
       "mean       23.419345\n",
       "std         3.375268\n",
       "min         0.000000\n",
       "25%        21.429605\n",
       "50%        23.327538\n",
       "75%        25.102898\n",
       "max        41.573938\n",
       "Name: pct_18younger10, dtype: float64"
      ]
     },
     "execution_count": 107,
     "metadata": {},
     "output_type": "execute_result"
    }
   ],
   "source": [
    "socioeconomic.pct_18younger10.describe()"
   ]
  },
  {
   "cell_type": "code",
   "execution_count": 108,
   "id": "52b5f280",
   "metadata": {},
   "outputs": [
    {
     "data": {
      "text/plain": [
       "count      3139.000000\n",
       "mean      48611.206117\n",
       "std       12351.988288\n",
       "min       22894.000000\n",
       "25%       40438.000000\n",
       "50%       46807.000000\n",
       "75%       54164.000000\n",
       "max      125900.000000\n",
       "Name: medhhinc15, dtype: float64"
      ]
     },
     "execution_count": 108,
     "metadata": {},
     "output_type": "execute_result"
    }
   ],
   "source": [
    "socioeconomic.medhhinc15.describe()"
   ]
  },
  {
   "cell_type": "code",
   "execution_count": 109,
   "id": "40b66b4d",
   "metadata": {},
   "outputs": [
    {
     "data": {
      "text/plain": [
       "count    3139.000000\n",
       "mean       16.260975\n",
       "std         6.442319\n",
       "min         3.400000\n",
       "25%        11.500000\n",
       "50%        15.200000\n",
       "75%        19.700000\n",
       "max        47.400000\n",
       "Name: povrate15, dtype: float64"
      ]
     },
     "execution_count": 109,
     "metadata": {},
     "output_type": "execute_result"
    }
   ],
   "source": [
    "socioeconomic.povrate15.describe()"
   ]
  },
  {
   "cell_type": "code",
   "execution_count": 110,
   "id": "cb47b16f",
   "metadata": {},
   "outputs": [
    {
     "data": {
      "text/plain": [
       "count    3143.000000\n",
       "mean        0.112313\n",
       "std         0.315801\n",
       "min         0.000000\n",
       "25%         0.000000\n",
       "50%         0.000000\n",
       "75%         0.000000\n",
       "max         1.000000\n",
       "Name: perpov10, dtype: float64"
      ]
     },
     "execution_count": 110,
     "metadata": {},
     "output_type": "execute_result"
    }
   ],
   "source": [
    "socioeconomic.perpov10.describe()"
   ]
  },
  {
   "cell_type": "code",
   "execution_count": 111,
   "id": "4049aed9",
   "metadata": {},
   "outputs": [
    {
     "data": {
      "text/plain": [
       "count    3139.000000\n",
       "mean       23.238738\n",
       "std         9.364172\n",
       "min         3.300000\n",
       "25%        16.250000\n",
       "50%        22.300000\n",
       "75%        29.100000\n",
       "max        61.600000\n",
       "Name: childpovrate15, dtype: float64"
      ]
     },
     "execution_count": 111,
     "metadata": {},
     "output_type": "execute_result"
    }
   ],
   "source": [
    "socioeconomic.childpovrate15.describe()"
   ]
  },
  {
   "cell_type": "code",
   "execution_count": 112,
   "id": "aa9d7608",
   "metadata": {},
   "outputs": [
    {
     "data": {
      "text/plain": [
       "count    3143.000000\n",
       "mean        0.225262\n",
       "std         0.417822\n",
       "min         0.000000\n",
       "25%         0.000000\n",
       "50%         0.000000\n",
       "75%         0.000000\n",
       "max         1.000000\n",
       "Name: perchldpov10, dtype: float64"
      ]
     },
     "execution_count": 112,
     "metadata": {},
     "output_type": "execute_result"
    }
   ],
   "source": [
    "socioeconomic.perchldpov10.describe()"
   ]
  },
  {
   "cell_type": "code",
   "execution_count": 113,
   "id": "6e07e190",
   "metadata": {},
   "outputs": [
    {
     "data": {
      "text/plain": [
       "count    3143.000000\n",
       "mean        0.371301\n",
       "std         0.483230\n",
       "min         0.000000\n",
       "25%         0.000000\n",
       "50%         0.000000\n",
       "75%         1.000000\n",
       "max         1.000000\n",
       "Name: metro13, dtype: float64"
      ]
     },
     "execution_count": 113,
     "metadata": {},
     "output_type": "execute_result"
    }
   ],
   "source": [
    "socioeconomic.metro13.describe()"
   ]
  },
  {
   "cell_type": "code",
   "execution_count": 114,
   "id": "0f32f40c",
   "metadata": {},
   "outputs": [
    {
     "data": {
      "text/plain": [
       "count    3141.000000\n",
       "mean        0.168418\n",
       "std         0.374296\n",
       "min         0.000000\n",
       "25%         0.000000\n",
       "50%         0.000000\n",
       "75%         0.000000\n",
       "max         1.000000\n",
       "Name: poploss10, dtype: float64"
      ]
     },
     "execution_count": 114,
     "metadata": {},
     "output_type": "execute_result"
    }
   ],
   "source": [
    "socioeconomic.poploss10.describe()"
   ]
  },
  {
   "cell_type": "code",
   "execution_count": 115,
   "id": "9d8bdd01",
   "metadata": {},
   "outputs": [
    {
     "data": {
      "text/plain": [
       "fips                 int64\n",
       "state               object\n",
       "county              object\n",
       "pct_65older10      float64\n",
       "pct_18younger10    float64\n",
       "medhhinc15         float64\n",
       "povrate15          float64\n",
       "perpov10             int64\n",
       "childpovrate15     float64\n",
       "perchldpov10         int64\n",
       "metro13              int64\n",
       "poploss10          float64\n",
       "dtype: object"
      ]
     },
     "execution_count": 115,
     "metadata": {},
     "output_type": "execute_result"
    }
   ],
   "source": [
    "socioeconomic.dtypes"
   ]
  },
  {
   "cell_type": "markdown",
   "id": "cce81290",
   "metadata": {},
   "source": [
    "There are a small number of missing values in some columns as noted earlier, but no -9999 values or other issues.\n",
    "\n",
    "The dataframe is sufficiently clean, and I will save it as a csv."
   ]
  },
  {
   "cell_type": "markdown",
   "id": "7e5ce50d",
   "metadata": {},
   "source": [
    "### 3. Saving cleaned dataframe as a csv"
   ]
  },
  {
   "cell_type": "code",
   "execution_count": 116,
   "id": "e662783c",
   "metadata": {},
   "outputs": [],
   "source": [
    "socioeconomic.to_csv('../data/FoodEnvironmentAtlas.xls.SOCIOECONOMIC_CLEAN.csv', index = False) #saves clean dataframe to a new csv"
   ]
  },
  {
   "cell_type": "markdown",
   "id": "136c630d",
   "metadata": {},
   "source": [
    "## VII. Food Environment Atlas - STORES "
   ]
  },
  {
   "cell_type": "markdown",
   "id": "d82c6de2",
   "metadata": {},
   "source": [
    "This dataset contains information regarding the numbers and types of food stores within the counties."
   ]
  },
  {
   "cell_type": "markdown",
   "id": "39d26027",
   "metadata": {},
   "source": [
    "### 1. Data Import"
   ]
  },
  {
   "cell_type": "code",
   "execution_count": 117,
   "id": "8df6617a",
   "metadata": {},
   "outputs": [],
   "source": [
    "file_path = '../data/FoodEnvironmentAtlas.xls.STORES.csv'\n",
    "\n",
    "stores = pd.read_csv(file_path)"
   ]
  },
  {
   "cell_type": "markdown",
   "id": "adafbad8",
   "metadata": {},
   "source": [
    "### 2. Preliminary Data Analysis & Cleaning"
   ]
  },
  {
   "cell_type": "code",
   "execution_count": 118,
   "id": "74dff01b",
   "metadata": {},
   "outputs": [
    {
     "data": {
      "text/html": [
       "<div>\n",
       "<style scoped>\n",
       "    .dataframe tbody tr th:only-of-type {\n",
       "        vertical-align: middle;\n",
       "    }\n",
       "\n",
       "    .dataframe tbody tr th {\n",
       "        vertical-align: top;\n",
       "    }\n",
       "\n",
       "    .dataframe thead th {\n",
       "        text-align: right;\n",
       "    }\n",
       "</style>\n",
       "<table border=\"1\" class=\"dataframe\">\n",
       "  <thead>\n",
       "    <tr style=\"text-align: right;\">\n",
       "      <th></th>\n",
       "      <th>FIPS</th>\n",
       "      <th>State</th>\n",
       "      <th>County</th>\n",
       "      <th>GROC11</th>\n",
       "      <th>GROC16</th>\n",
       "      <th>PCH_GROC_11_16</th>\n",
       "      <th>GROCPTH11</th>\n",
       "      <th>GROCPTH16</th>\n",
       "      <th>PCH_GROCPTH_11_16</th>\n",
       "      <th>SUPERC11</th>\n",
       "      <th>...</th>\n",
       "      <th>PCH_SNAPS_12_17</th>\n",
       "      <th>SNAPSPTH12</th>\n",
       "      <th>SNAPSPTH17</th>\n",
       "      <th>PCH_SNAPSPTH_12_17</th>\n",
       "      <th>WICS11</th>\n",
       "      <th>WICS16</th>\n",
       "      <th>PCH_WICS_11_16</th>\n",
       "      <th>WICSPTH11</th>\n",
       "      <th>WICSPTH16</th>\n",
       "      <th>PCH_WICSPTH_11_16</th>\n",
       "    </tr>\n",
       "  </thead>\n",
       "  <tbody>\n",
       "    <tr>\n",
       "      <th>0</th>\n",
       "      <td>1001</td>\n",
       "      <td>AL</td>\n",
       "      <td>Autauga</td>\n",
       "      <td>5</td>\n",
       "      <td>3</td>\n",
       "      <td>-40.000000</td>\n",
       "      <td>0.090581</td>\n",
       "      <td>0.054271</td>\n",
       "      <td>-40.085748</td>\n",
       "      <td>1</td>\n",
       "      <td>...</td>\n",
       "      <td>19.376392</td>\n",
       "      <td>0.674004</td>\n",
       "      <td>0.804747</td>\n",
       "      <td>19.397900</td>\n",
       "      <td>5.0</td>\n",
       "      <td>5.0</td>\n",
       "      <td>0.000000</td>\n",
       "      <td>0.090567</td>\n",
       "      <td>0.090511</td>\n",
       "      <td>-0.061543</td>\n",
       "    </tr>\n",
       "    <tr>\n",
       "      <th>1</th>\n",
       "      <td>1003</td>\n",
       "      <td>AL</td>\n",
       "      <td>Baldwin</td>\n",
       "      <td>27</td>\n",
       "      <td>29</td>\n",
       "      <td>7.407407</td>\n",
       "      <td>0.144746</td>\n",
       "      <td>0.139753</td>\n",
       "      <td>-3.449328</td>\n",
       "      <td>6</td>\n",
       "      <td>...</td>\n",
       "      <td>36.927711</td>\n",
       "      <td>0.725055</td>\n",
       "      <td>0.890836</td>\n",
       "      <td>22.864524</td>\n",
       "      <td>26.0</td>\n",
       "      <td>28.0</td>\n",
       "      <td>7.692307</td>\n",
       "      <td>0.139380</td>\n",
       "      <td>0.134802</td>\n",
       "      <td>-3.284727</td>\n",
       "    </tr>\n",
       "    <tr>\n",
       "      <th>2</th>\n",
       "      <td>1005</td>\n",
       "      <td>AL</td>\n",
       "      <td>Barbour</td>\n",
       "      <td>6</td>\n",
       "      <td>4</td>\n",
       "      <td>-33.333333</td>\n",
       "      <td>0.219370</td>\n",
       "      <td>0.155195</td>\n",
       "      <td>-29.254287</td>\n",
       "      <td>0</td>\n",
       "      <td>...</td>\n",
       "      <td>3.349282</td>\n",
       "      <td>1.280590</td>\n",
       "      <td>1.424614</td>\n",
       "      <td>11.246689</td>\n",
       "      <td>7.0</td>\n",
       "      <td>6.0</td>\n",
       "      <td>-14.285714</td>\n",
       "      <td>0.255942</td>\n",
       "      <td>0.232387</td>\n",
       "      <td>-9.203081</td>\n",
       "    </tr>\n",
       "    <tr>\n",
       "      <th>3</th>\n",
       "      <td>1007</td>\n",
       "      <td>AL</td>\n",
       "      <td>Bibb</td>\n",
       "      <td>6</td>\n",
       "      <td>5</td>\n",
       "      <td>-16.666667</td>\n",
       "      <td>0.263794</td>\n",
       "      <td>0.220916</td>\n",
       "      <td>-16.254289</td>\n",
       "      <td>1</td>\n",
       "      <td>...</td>\n",
       "      <td>11.794872</td>\n",
       "      <td>0.719122</td>\n",
       "      <td>0.801423</td>\n",
       "      <td>11.444711</td>\n",
       "      <td>6.0</td>\n",
       "      <td>5.0</td>\n",
       "      <td>-16.666666</td>\n",
       "      <td>0.263771</td>\n",
       "      <td>0.221474</td>\n",
       "      <td>-16.035471</td>\n",
       "    </tr>\n",
       "    <tr>\n",
       "      <th>4</th>\n",
       "      <td>1009</td>\n",
       "      <td>AL</td>\n",
       "      <td>Blount</td>\n",
       "      <td>7</td>\n",
       "      <td>5</td>\n",
       "      <td>-28.571429</td>\n",
       "      <td>0.121608</td>\n",
       "      <td>0.086863</td>\n",
       "      <td>-28.571429</td>\n",
       "      <td>1</td>\n",
       "      <td>...</td>\n",
       "      <td>5.701754</td>\n",
       "      <td>0.657144</td>\n",
       "      <td>0.692374</td>\n",
       "      <td>5.361034</td>\n",
       "      <td>8.0</td>\n",
       "      <td>8.0</td>\n",
       "      <td>0.000000</td>\n",
       "      <td>0.139000</td>\n",
       "      <td>0.139089</td>\n",
       "      <td>0.064332</td>\n",
       "    </tr>\n",
       "  </tbody>\n",
       "</table>\n",
       "<p>5 rows × 39 columns</p>\n",
       "</div>"
      ],
      "text/plain": [
       "   FIPS State   County  GROC11  GROC16  PCH_GROC_11_16  GROCPTH11  GROCPTH16  \\\n",
       "0  1001    AL  Autauga       5       3      -40.000000   0.090581   0.054271   \n",
       "1  1003    AL  Baldwin      27      29        7.407407   0.144746   0.139753   \n",
       "2  1005    AL  Barbour       6       4      -33.333333   0.219370   0.155195   \n",
       "3  1007    AL     Bibb       6       5      -16.666667   0.263794   0.220916   \n",
       "4  1009    AL   Blount       7       5      -28.571429   0.121608   0.086863   \n",
       "\n",
       "   PCH_GROCPTH_11_16  SUPERC11  ...  PCH_SNAPS_12_17  SNAPSPTH12  SNAPSPTH17  \\\n",
       "0         -40.085748         1  ...        19.376392    0.674004    0.804747   \n",
       "1          -3.449328         6  ...        36.927711    0.725055    0.890836   \n",
       "2         -29.254287         0  ...         3.349282    1.280590    1.424614   \n",
       "3         -16.254289         1  ...        11.794872    0.719122    0.801423   \n",
       "4         -28.571429         1  ...         5.701754    0.657144    0.692374   \n",
       "\n",
       "   PCH_SNAPSPTH_12_17  WICS11  WICS16  PCH_WICS_11_16  WICSPTH11  WICSPTH16  \\\n",
       "0           19.397900     5.0     5.0        0.000000   0.090567   0.090511   \n",
       "1           22.864524    26.0    28.0        7.692307   0.139380   0.134802   \n",
       "2           11.246689     7.0     6.0      -14.285714   0.255942   0.232387   \n",
       "3           11.444711     6.0     5.0      -16.666666   0.263771   0.221474   \n",
       "4            5.361034     8.0     8.0        0.000000   0.139000   0.139089   \n",
       "\n",
       "   PCH_WICSPTH_11_16  \n",
       "0          -0.061543  \n",
       "1          -3.284727  \n",
       "2          -9.203081  \n",
       "3         -16.035471  \n",
       "4           0.064332  \n",
       "\n",
       "[5 rows x 39 columns]"
      ]
     },
     "execution_count": 118,
     "metadata": {},
     "output_type": "execute_result"
    }
   ],
   "source": [
    "stores.head() #displays top 5 rows of dataframe"
   ]
  },
  {
   "cell_type": "code",
   "execution_count": 119,
   "id": "5cb44294",
   "metadata": {},
   "outputs": [
    {
     "data": {
      "text/plain": [
       "(3143, 39)"
      ]
     },
     "execution_count": 119,
     "metadata": {},
     "output_type": "execute_result"
    }
   ],
   "source": [
    "stores.shape #displays layout of dataframe"
   ]
  },
  {
   "cell_type": "code",
   "execution_count": 120,
   "id": "0573e7eb",
   "metadata": {},
   "outputs": [
    {
     "data": {
      "text/plain": [
       "FIPS                     int64\n",
       "State                   object\n",
       "County                  object\n",
       "GROC11                   int64\n",
       "GROC16                   int64\n",
       "PCH_GROC_11_16         float64\n",
       "GROCPTH11              float64\n",
       "GROCPTH16              float64\n",
       "PCH_GROCPTH_11_16      float64\n",
       "SUPERC11                 int64\n",
       "SUPERC16                 int64\n",
       "PCH_SUPERC_11_16       float64\n",
       "SUPERCPTH11            float64\n",
       "SUPERCPTH16            float64\n",
       "PCH_SUPERCPTH_11_16    float64\n",
       "CONVS11                  int64\n",
       "CONVS16                  int64\n",
       "PCH_CONVS_11_16        float64\n",
       "CONVSPTH11             float64\n",
       "CONVSPTH16             float64\n",
       "PCH_CONVSPTH_11_16     float64\n",
       "SPECS11                  int64\n",
       "SPECS16                  int64\n",
       "PCH_SPECS_11_16        float64\n",
       "SPECSPTH11             float64\n",
       "SPECSPTH16             float64\n",
       "PCH_SPECSPTH_11_16     float64\n",
       "SNAPS12                float64\n",
       "SNAPS17                float64\n",
       "PCH_SNAPS_12_17        float64\n",
       "SNAPSPTH12             float64\n",
       "SNAPSPTH17             float64\n",
       "PCH_SNAPSPTH_12_17     float64\n",
       "WICS11                 float64\n",
       "WICS16                 float64\n",
       "PCH_WICS_11_16         float64\n",
       "WICSPTH11              float64\n",
       "WICSPTH16              float64\n",
       "PCH_WICSPTH_11_16      float64\n",
       "dtype: object"
      ]
     },
     "execution_count": 120,
     "metadata": {},
     "output_type": "execute_result"
    }
   ],
   "source": [
    "stores.dtypes #shows datatypes of each column"
   ]
  },
  {
   "cell_type": "markdown",
   "id": "7b7237d6",
   "metadata": {},
   "source": [
    "The datatypes seem appropriate. As with some of the previous dimensions of food environment, I think I may not need all of these columns.\n",
    "\n",
    "A decision will be formulated when the time come. For now, I will leave the information intact. I will, however, make the column names lowercase for ease of use before saving the revised dataframe."
   ]
  },
  {
   "cell_type": "code",
   "execution_count": 121,
   "id": "71dececa",
   "metadata": {},
   "outputs": [
    {
     "data": {
      "text/plain": [
       "Index(['fips', 'state', 'county', 'groc11', 'groc16', 'pch_groc_11_16',\n",
       "       'grocpth11', 'grocpth16', 'pch_grocpth_11_16', 'superc11', 'superc16',\n",
       "       'pch_superc_11_16', 'supercpth11', 'supercpth16', 'pch_supercpth_11_16',\n",
       "       'convs11', 'convs16', 'pch_convs_11_16', 'convspth11', 'convspth16',\n",
       "       'pch_convspth_11_16', 'specs11', 'specs16', 'pch_specs_11_16',\n",
       "       'specspth11', 'specspth16', 'pch_specspth_11_16', 'snaps12', 'snaps17',\n",
       "       'pch_snaps_12_17', 'snapspth12', 'snapspth17', 'pch_snapspth_12_17',\n",
       "       'wics11', 'wics16', 'pch_wics_11_16', 'wicspth11', 'wicspth16',\n",
       "       'pch_wicspth_11_16'],\n",
       "      dtype='object')"
      ]
     },
     "execution_count": 121,
     "metadata": {},
     "output_type": "execute_result"
    }
   ],
   "source": [
    "stores.columns = [col.lower() for col in stores.columns] #makes all letters in column names lowercase\n",
    "\n",
    "stores.columns #shows revised column names"
   ]
  },
  {
   "cell_type": "markdown",
   "id": "964815eb",
   "metadata": {},
   "source": [
    "### 3. Saving clean dataframe as a csv"
   ]
  },
  {
   "cell_type": "code",
   "execution_count": 122,
   "id": "36415beb",
   "metadata": {},
   "outputs": [],
   "source": [
    "stores.to_csv('../data/FoodEnvironmentAtlas.xls.STORES_CLEAN.csv', index = False) #saves clean dataframe to a new csv"
   ]
  },
  {
   "cell_type": "markdown",
   "id": "4960182a",
   "metadata": {},
   "source": [
    "## VIII. Food Environment Atlas - Supplemental Data - COUNTY"
   ]
  },
  {
   "cell_type": "markdown",
   "id": "e9d2c103",
   "metadata": {},
   "source": [
    "According to the README, this dataset contains information that was used for determining the percentages used in the other datasets. Specifically, these appear to be population estimates from 2010 - 2018 for each of the counties."
   ]
  },
  {
   "cell_type": "markdown",
   "id": "cb28306a",
   "metadata": {},
   "source": [
    "### 1. Data Import"
   ]
  },
  {
   "cell_type": "code",
   "execution_count": 123,
   "id": "f83711ed",
   "metadata": {},
   "outputs": [],
   "source": [
    "file_path = '../data/FoodEnvironmentAtlas.xls.Supplemental_Data_County.csv'\n",
    "\n",
    "supp_county = pd.read_csv(file_path)"
   ]
  },
  {
   "cell_type": "markdown",
   "id": "86058a4a",
   "metadata": {},
   "source": [
    "### 2. Preliminary Data Analysis & Cleaning"
   ]
  },
  {
   "cell_type": "code",
   "execution_count": 124,
   "id": "d2592be7",
   "metadata": {},
   "outputs": [
    {
     "data": {
      "text/html": [
       "<div>\n",
       "<style scoped>\n",
       "    .dataframe tbody tr th:only-of-type {\n",
       "        vertical-align: middle;\n",
       "    }\n",
       "\n",
       "    .dataframe tbody tr th {\n",
       "        vertical-align: top;\n",
       "    }\n",
       "\n",
       "    .dataframe thead th {\n",
       "        text-align: right;\n",
       "    }\n",
       "</style>\n",
       "<table border=\"1\" class=\"dataframe\">\n",
       "  <thead>\n",
       "    <tr style=\"text-align: right;\">\n",
       "      <th></th>\n",
       "      <th>FIPS</th>\n",
       "      <th>County</th>\n",
       "      <th>State</th>\n",
       "      <th>2010_Census_Population</th>\n",
       "      <th>Population_Estimate_2011</th>\n",
       "      <th>Population_Estimate_2012</th>\n",
       "      <th>Population_Estimate_2013</th>\n",
       "      <th>Population_Estimate_2014</th>\n",
       "      <th>Population_Estimate_2015</th>\n",
       "      <th>Population_Estimate_2016</th>\n",
       "      <th>Population_Estimate_2017</th>\n",
       "      <th>Population_Estimate_2018</th>\n",
       "    </tr>\n",
       "  </thead>\n",
       "  <tbody>\n",
       "    <tr>\n",
       "      <th>0</th>\n",
       "      <td>1001</td>\n",
       "      <td>Autauga County</td>\n",
       "      <td>Alabama</td>\n",
       "      <td>54,571</td>\n",
       "      <td>55,208</td>\n",
       "      <td>54,936</td>\n",
       "      <td>54,713</td>\n",
       "      <td>54,876</td>\n",
       "      <td>54,838</td>\n",
       "      <td>55,242</td>\n",
       "      <td>55,443</td>\n",
       "      <td>55,601</td>\n",
       "    </tr>\n",
       "    <tr>\n",
       "      <th>1</th>\n",
       "      <td>1003</td>\n",
       "      <td>Baldwin County</td>\n",
       "      <td>Alabama</td>\n",
       "      <td>182,265</td>\n",
       "      <td>186,540</td>\n",
       "      <td>190,143</td>\n",
       "      <td>194,886</td>\n",
       "      <td>199,189</td>\n",
       "      <td>202,995</td>\n",
       "      <td>207,712</td>\n",
       "      <td>212,619</td>\n",
       "      <td>218,022</td>\n",
       "    </tr>\n",
       "    <tr>\n",
       "      <th>2</th>\n",
       "      <td>1005</td>\n",
       "      <td>Barbour County</td>\n",
       "      <td>Alabama</td>\n",
       "      <td>27,457</td>\n",
       "      <td>27,350</td>\n",
       "      <td>27,174</td>\n",
       "      <td>26,944</td>\n",
       "      <td>26,758</td>\n",
       "      <td>26,294</td>\n",
       "      <td>25,819</td>\n",
       "      <td>25,158</td>\n",
       "      <td>24,881</td>\n",
       "    </tr>\n",
       "    <tr>\n",
       "      <th>3</th>\n",
       "      <td>1007</td>\n",
       "      <td>Bibb County</td>\n",
       "      <td>Alabama</td>\n",
       "      <td>22,915</td>\n",
       "      <td>22,747</td>\n",
       "      <td>22,664</td>\n",
       "      <td>22,516</td>\n",
       "      <td>22,541</td>\n",
       "      <td>22,562</td>\n",
       "      <td>22,576</td>\n",
       "      <td>22,555</td>\n",
       "      <td>22,400</td>\n",
       "    </tr>\n",
       "    <tr>\n",
       "      <th>4</th>\n",
       "      <td>1009</td>\n",
       "      <td>Blount County</td>\n",
       "      <td>Alabama</td>\n",
       "      <td>57,322</td>\n",
       "      <td>57,554</td>\n",
       "      <td>57,570</td>\n",
       "      <td>57,611</td>\n",
       "      <td>57,521</td>\n",
       "      <td>57,522</td>\n",
       "      <td>57,517</td>\n",
       "      <td>57,827</td>\n",
       "      <td>57,840</td>\n",
       "    </tr>\n",
       "  </tbody>\n",
       "</table>\n",
       "</div>"
      ],
      "text/plain": [
       "   FIPS          County     State 2010_Census_Population  \\\n",
       "0  1001  Autauga County   Alabama                 54,571   \n",
       "1  1003  Baldwin County   Alabama                182,265   \n",
       "2  1005  Barbour County   Alabama                 27,457   \n",
       "3  1007     Bibb County   Alabama                 22,915   \n",
       "4  1009   Blount County   Alabama                 57,322   \n",
       "\n",
       "  Population_Estimate_2011 Population_Estimate_2012 Population_Estimate_2013  \\\n",
       "0                   55,208                   54,936                   54,713   \n",
       "1                  186,540                  190,143                  194,886   \n",
       "2                   27,350                   27,174                   26,944   \n",
       "3                   22,747                   22,664                   22,516   \n",
       "4                   57,554                   57,570                   57,611   \n",
       "\n",
       "  Population_Estimate_2014 Population_Estimate_2015 Population_Estimate_2016  \\\n",
       "0                   54,876                   54,838                   55,242   \n",
       "1                  199,189                  202,995                  207,712   \n",
       "2                   26,758                   26,294                   25,819   \n",
       "3                   22,541                   22,562                   22,576   \n",
       "4                   57,521                   57,522                   57,517   \n",
       "\n",
       "  Population_Estimate_2017 Population_Estimate_2018  \n",
       "0                   55,443                   55,601  \n",
       "1                  212,619                  218,022  \n",
       "2                   25,158                   24,881  \n",
       "3                   22,555                   22,400  \n",
       "4                   57,827                   57,840  "
      ]
     },
     "execution_count": 124,
     "metadata": {},
     "output_type": "execute_result"
    }
   ],
   "source": [
    "supp_county.head() #shows top 5 rows of dataframe"
   ]
  },
  {
   "cell_type": "code",
   "execution_count": 125,
   "id": "0b1be8d4",
   "metadata": {},
   "outputs": [
    {
     "data": {
      "text/plain": [
       "(3142, 12)"
      ]
     },
     "execution_count": 125,
     "metadata": {},
     "output_type": "execute_result"
    }
   ],
   "source": [
    "supp_county.shape #shows the layout of the dataframe"
   ]
  },
  {
   "cell_type": "code",
   "execution_count": 126,
   "id": "fd9a2482",
   "metadata": {},
   "outputs": [
    {
     "data": {
      "text/plain": [
       "Index(['FIPS', 'County', 'State', '2010_Census_Population',\n",
       "       'Population_Estimate_2011', 'Population_Estimate_2012',\n",
       "       'Population_Estimate_2013', 'Population_Estimate_2014',\n",
       "       'Population_Estimate_2015', 'Population_Estimate_2016',\n",
       "       'Population_Estimate_2017', 'Population_Estimate_2018'],\n",
       "      dtype='object')"
      ]
     },
     "execution_count": 126,
     "metadata": {},
     "output_type": "execute_result"
    }
   ],
   "source": [
    "supp_county.columns #displays column names"
   ]
  },
  {
   "cell_type": "markdown",
   "id": "8c298238",
   "metadata": {},
   "source": [
    "The reason my target is the diabetes prevalence in 2018 is because the data seem to go through 2018 (approximately 2010 - 2018, which is reflected in the column names here.)"
   ]
  },
  {
   "cell_type": "code",
   "execution_count": 127,
   "id": "cd0ebf0c",
   "metadata": {},
   "outputs": [
    {
     "data": {
      "text/plain": [
       "FIPS                        0\n",
       "County                      0\n",
       "State                       0\n",
       "2010_Census_Population      0\n",
       "Population_Estimate_2011    0\n",
       "Population_Estimate_2012    0\n",
       "Population_Estimate_2013    0\n",
       "Population_Estimate_2014    0\n",
       "Population_Estimate_2015    0\n",
       "Population_Estimate_2016    0\n",
       "Population_Estimate_2017    0\n",
       "Population_Estimate_2018    0\n",
       "dtype: int64"
      ]
     },
     "execution_count": 127,
     "metadata": {},
     "output_type": "execute_result"
    }
   ],
   "source": [
    "supp_county.isnull().sum() #displays the number of missing values per column"
   ]
  },
  {
   "cell_type": "markdown",
   "id": "6c5cf2a5",
   "metadata": {},
   "source": [
    "There are no blank values, though missing values may have been filled in with \"-9999.\"\n",
    "\n",
    "It is unlikely that I will analyze or utilize this information moving forward, but may reference it if needed at a later time. For now, I will simply make the columns lowercase, and save the revised dataframe as a CSV."
   ]
  },
  {
   "cell_type": "code",
   "execution_count": 128,
   "id": "48df8aec",
   "metadata": {},
   "outputs": [
    {
     "data": {
      "text/plain": [
       "Index(['fips', 'county', 'state', '2010_census_population',\n",
       "       'population_estimate_2011', 'population_estimate_2012',\n",
       "       'population_estimate_2013', 'population_estimate_2014',\n",
       "       'population_estimate_2015', 'population_estimate_2016',\n",
       "       'population_estimate_2017', 'population_estimate_2018'],\n",
       "      dtype='object')"
      ]
     },
     "execution_count": 128,
     "metadata": {},
     "output_type": "execute_result"
    }
   ],
   "source": [
    "supp_county.columns = [col.lower() for col in supp_county.columns] #changes column names to lowercase\n",
    "\n",
    "supp_county.columns #shows revised column names"
   ]
  },
  {
   "cell_type": "markdown",
   "id": "17a5a07d",
   "metadata": {},
   "source": [
    "### 3. Saving dataframe as a csv"
   ]
  },
  {
   "cell_type": "code",
   "execution_count": 129,
   "id": "1ff5ce0c",
   "metadata": {},
   "outputs": [],
   "source": [
    "supp_county.to_csv('../data/FoodEnvironmentAtlas.xls.SUPP_COUNTY_CLEAN.csv', index = False) #saves clean dataframe to a new csv"
   ]
  },
  {
   "cell_type": "markdown",
   "id": "518ec01a",
   "metadata": {},
   "source": [
    "### IX. Food Environment Atlas -  Supplemental Data - STATE"
   ]
  },
  {
   "cell_type": "markdown",
   "id": "9ca236c6",
   "metadata": {},
   "source": [
    "This dataset contains raw numbers of participants in some of the State programs, such as WIC, and state populations for some of the years within the Food Environment Atlas."
   ]
  },
  {
   "cell_type": "markdown",
   "id": "586ee85f",
   "metadata": {},
   "source": [
    "### 1. Data Import"
   ]
  },
  {
   "cell_type": "code",
   "execution_count": 130,
   "id": "9b2d23c9",
   "metadata": {},
   "outputs": [],
   "source": [
    "file_path = '../data/FoodEnvironmentAtlas.xls.Supplemental_Data_State.csv'\n",
    "\n",
    "supp_state = pd.read_csv(file_path)"
   ]
  },
  {
   "cell_type": "markdown",
   "id": "1d18f751",
   "metadata": {},
   "source": [
    "### 2. Preliminary Analysis & Cleaning"
   ]
  },
  {
   "cell_type": "code",
   "execution_count": 131,
   "id": "244d086a",
   "metadata": {},
   "outputs": [
    {
     "data": {
      "text/html": [
       "<div>\n",
       "<style scoped>\n",
       "    .dataframe tbody tr th:only-of-type {\n",
       "        vertical-align: middle;\n",
       "    }\n",
       "\n",
       "    .dataframe tbody tr th {\n",
       "        vertical-align: top;\n",
       "    }\n",
       "\n",
       "    .dataframe thead th {\n",
       "        text-align: right;\n",
       "    }\n",
       "</style>\n",
       "<table border=\"1\" class=\"dataframe\">\n",
       "  <thead>\n",
       "    <tr style=\"text-align: right;\">\n",
       "      <th></th>\n",
       "      <th>StateFIPS</th>\n",
       "      <th>State</th>\n",
       "      <th>WIC_PART_2012</th>\n",
       "      <th>WIC_PART_2013</th>\n",
       "      <th>WIC_PART_2014</th>\n",
       "      <th>WIC_PART_2015</th>\n",
       "      <th>WIC_PART_2016</th>\n",
       "      <th>WIC_PART_2017</th>\n",
       "      <th>WIC_PART_2018</th>\n",
       "      <th>NSLP_PART_2012</th>\n",
       "      <th>...</th>\n",
       "      <th>SFSP_PART_2016</th>\n",
       "      <th>SFSP_PART_2017</th>\n",
       "      <th>SFSP_PART_2018</th>\n",
       "      <th>State_Population_2012</th>\n",
       "      <th>State_Population_2013</th>\n",
       "      <th>State_Population_2014</th>\n",
       "      <th>State_Population_2015</th>\n",
       "      <th>State_Population_2016</th>\n",
       "      <th>State_Population_2017</th>\n",
       "      <th>State_Population_2018</th>\n",
       "    </tr>\n",
       "  </thead>\n",
       "  <tbody>\n",
       "    <tr>\n",
       "      <th>0</th>\n",
       "      <td>1</td>\n",
       "      <td>Alabama</td>\n",
       "      <td>141,900</td>\n",
       "      <td>139,001</td>\n",
       "      <td>131,046</td>\n",
       "      <td>132,133</td>\n",
       "      <td>129,160</td>\n",
       "      <td>123,993</td>\n",
       "      <td>120,605</td>\n",
       "      <td>562,959</td>\n",
       "      <td>...</td>\n",
       "      <td>48,691</td>\n",
       "      <td>51,622</td>\n",
       "      <td>51,222</td>\n",
       "      <td>4,815,564</td>\n",
       "      <td>4,830,460</td>\n",
       "      <td>4,842,481</td>\n",
       "      <td>4,853,160</td>\n",
       "      <td>4,864,745</td>\n",
       "      <td>4,875,120</td>\n",
       "      <td>4,887,871</td>\n",
       "    </tr>\n",
       "    <tr>\n",
       "      <th>1</th>\n",
       "      <td>2</td>\n",
       "      <td>Alaska</td>\n",
       "      <td>24,969</td>\n",
       "      <td>23,055</td>\n",
       "      <td>19,605</td>\n",
       "      <td>19,682</td>\n",
       "      <td>19,121</td>\n",
       "      <td>18,188</td>\n",
       "      <td>17,092</td>\n",
       "      <td>53,920</td>\n",
       "      <td>...</td>\n",
       "      <td>4,688</td>\n",
       "      <td>4,959</td>\n",
       "      <td>4,266</td>\n",
       "      <td>730,399</td>\n",
       "      <td>737,045</td>\n",
       "      <td>736,307</td>\n",
       "      <td>737,547</td>\n",
       "      <td>741,504</td>\n",
       "      <td>739,786</td>\n",
       "      <td>737,438</td>\n",
       "    </tr>\n",
       "    <tr>\n",
       "      <th>2</th>\n",
       "      <td>4</td>\n",
       "      <td>Arizona</td>\n",
       "      <td>193,214</td>\n",
       "      <td>182,501</td>\n",
       "      <td>173,020</td>\n",
       "      <td>167,072</td>\n",
       "      <td>163,998</td>\n",
       "      <td>153,510</td>\n",
       "      <td>149,513</td>\n",
       "      <td>662,440</td>\n",
       "      <td>...</td>\n",
       "      <td>13,924</td>\n",
       "      <td>12,301</td>\n",
       "      <td>14,701</td>\n",
       "      <td>6,556,629</td>\n",
       "      <td>6,634,999</td>\n",
       "      <td>6,733,840</td>\n",
       "      <td>6,833,596</td>\n",
       "      <td>6,945,452</td>\n",
       "      <td>7,048,876</td>\n",
       "      <td>7,171,646</td>\n",
       "    </tr>\n",
       "    <tr>\n",
       "      <th>3</th>\n",
       "      <td>5</td>\n",
       "      <td>Arkansas</td>\n",
       "      <td>94,293</td>\n",
       "      <td>89,777</td>\n",
       "      <td>83,289</td>\n",
       "      <td>84,220</td>\n",
       "      <td>80,555</td>\n",
       "      <td>76,519</td>\n",
       "      <td>73,607</td>\n",
       "      <td>348,909</td>\n",
       "      <td>...</td>\n",
       "      <td>35,767</td>\n",
       "      <td>23,544</td>\n",
       "      <td>18,211</td>\n",
       "      <td>2,952,109</td>\n",
       "      <td>2,959,549</td>\n",
       "      <td>2,967,726</td>\n",
       "      <td>2,978,407</td>\n",
       "      <td>2,990,410</td>\n",
       "      <td>3,002,997</td>\n",
       "      <td>3,013,825</td>\n",
       "    </tr>\n",
       "    <tr>\n",
       "      <th>4</th>\n",
       "      <td>6</td>\n",
       "      <td>California</td>\n",
       "      <td>1,472,468</td>\n",
       "      <td>1,431,881</td>\n",
       "      <td>1,348,939</td>\n",
       "      <td>1,265,005</td>\n",
       "      <td>1,174,875</td>\n",
       "      <td>1,080,241</td>\n",
       "      <td>1,009,492</td>\n",
       "      <td>3,355,494</td>\n",
       "      <td>...</td>\n",
       "      <td>123,477</td>\n",
       "      <td>152,251</td>\n",
       "      <td>144,780</td>\n",
       "      <td>37,960,782</td>\n",
       "      <td>38,280,824</td>\n",
       "      <td>38,625,139</td>\n",
       "      <td>38,953,142</td>\n",
       "      <td>39,209,127</td>\n",
       "      <td>39,399,349</td>\n",
       "      <td>39,557,045</td>\n",
       "    </tr>\n",
       "  </tbody>\n",
       "</table>\n",
       "<p>5 rows × 44 columns</p>\n",
       "</div>"
      ],
      "text/plain": [
       "   StateFIPS       State WIC_PART_2012 WIC_PART_2013 WIC_PART_2014  \\\n",
       "0          1     Alabama       141,900       139,001       131,046   \n",
       "1          2      Alaska        24,969        23,055        19,605   \n",
       "2          4     Arizona       193,214       182,501       173,020   \n",
       "3          5    Arkansas        94,293        89,777        83,289   \n",
       "4          6  California     1,472,468     1,431,881     1,348,939   \n",
       "\n",
       "  WIC_PART_2015 WIC_PART_2016 WIC_PART_2017 WIC_PART_2018 NSLP_PART_2012  ...  \\\n",
       "0       132,133       129,160       123,993       120,605        562,959  ...   \n",
       "1        19,682        19,121        18,188        17,092         53,920  ...   \n",
       "2       167,072       163,998       153,510       149,513        662,440  ...   \n",
       "3        84,220        80,555        76,519        73,607        348,909  ...   \n",
       "4     1,265,005     1,174,875     1,080,241     1,009,492      3,355,494  ...   \n",
       "\n",
       "  SFSP_PART_2016 SFSP_PART_2017 SFSP_PART_2018 State_Population_2012  \\\n",
       "0         48,691         51,622         51,222             4,815,564   \n",
       "1          4,688          4,959          4,266               730,399   \n",
       "2         13,924         12,301         14,701             6,556,629   \n",
       "3         35,767         23,544         18,211             2,952,109   \n",
       "4        123,477        152,251        144,780            37,960,782   \n",
       "\n",
       "  State_Population_2013 State_Population_2014 State_Population_2015  \\\n",
       "0             4,830,460             4,842,481             4,853,160   \n",
       "1               737,045               736,307               737,547   \n",
       "2             6,634,999             6,733,840             6,833,596   \n",
       "3             2,959,549             2,967,726             2,978,407   \n",
       "4            38,280,824            38,625,139            38,953,142   \n",
       "\n",
       "  State_Population_2016 State_Population_2017 State_Population_2018  \n",
       "0             4,864,745             4,875,120             4,887,871  \n",
       "1               741,504               739,786               737,438  \n",
       "2             6,945,452             7,048,876             7,171,646  \n",
       "3             2,990,410             3,002,997             3,013,825  \n",
       "4            39,209,127            39,399,349            39,557,045  \n",
       "\n",
       "[5 rows x 44 columns]"
      ]
     },
     "execution_count": 131,
     "metadata": {},
     "output_type": "execute_result"
    }
   ],
   "source": [
    "supp_state.head() #shows top 5 rows of dataframe"
   ]
  },
  {
   "cell_type": "markdown",
   "id": "f79ec02e",
   "metadata": {},
   "source": [
    "Most of the factors in the dataset are on the county level, which is why I am predicting prevalence of diabetes on the county level...\n",
    "\n",
    "However, it is possible that the state information could be used somehow.\n",
    "\n",
    "I will reflect on this further as I continue to observe the data."
   ]
  },
  {
   "cell_type": "code",
   "execution_count": 132,
   "id": "2d67c91a",
   "metadata": {},
   "outputs": [
    {
     "data": {
      "text/plain": [
       "(51, 44)"
      ]
     },
     "execution_count": 132,
     "metadata": {},
     "output_type": "execute_result"
    }
   ],
   "source": [
    "supp_state.shape #shows layout of the dataframe"
   ]
  },
  {
   "cell_type": "code",
   "execution_count": 133,
   "id": "f0cac267",
   "metadata": {},
   "outputs": [
    {
     "data": {
      "text/plain": [
       "StateFIPS                0\n",
       "State                    0\n",
       "WIC_PART_2012            0\n",
       "WIC_PART_2013            0\n",
       "WIC_PART_2014            0\n",
       "WIC_PART_2015            0\n",
       "WIC_PART_2016            0\n",
       "WIC_PART_2017            0\n",
       "WIC_PART_2018            0\n",
       "NSLP_PART_2012           0\n",
       "NSLP_PART_2013           0\n",
       "NSLP_PART_2014           0\n",
       "NSLP_PART_2015           0\n",
       "NSLP_PART_2016           0\n",
       "NSLP_PART_2017           0\n",
       "NSLP_PART_2018           0\n",
       "SBP_PART_2012            0\n",
       "SBP_PART_2013            0\n",
       "SBP_PART_2014            0\n",
       "SBP_PART_2015            0\n",
       "SBP_PART_2016            0\n",
       "SBP_PART_2017            0\n",
       "SBP_PART_2018            0\n",
       "CACFP_PART_2012          0\n",
       "CACFP_PART_2013          0\n",
       "CACFP_PART_2014          0\n",
       "CACFP_PART_2015          0\n",
       "CACFP_PART_2016          0\n",
       "CACFP_PART_2017          0\n",
       "CACFP_PART_2018          0\n",
       "SFSP_PART_2012           0\n",
       "SFSP_PART_2013           0\n",
       "SFSP_PART_2014           0\n",
       "SFSP_PART_2015           0\n",
       "SFSP_PART_2016           0\n",
       "SFSP_PART_2017           0\n",
       "SFSP_PART_2018           0\n",
       "State_Population_2012    0\n",
       "State_Population_2013    0\n",
       "State_Population_2014    0\n",
       "State_Population_2015    0\n",
       "State_Population_2016    0\n",
       "State_Population_2017    0\n",
       "State_Population_2018    0\n",
       "dtype: int64"
      ]
     },
     "execution_count": 133,
     "metadata": {},
     "output_type": "execute_result"
    }
   ],
   "source": [
    "supp_state.isnull().sum() #shows number of missing values per column"
   ]
  },
  {
   "cell_type": "markdown",
   "id": "74fe7f94",
   "metadata": {},
   "source": [
    "In looking through the columns, I am fairly certain that I will not use all of these.\n",
    "\n",
    "It is possible that I might add some of the 2018 columns, such as WIC, to other datasets to use in model creation."
   ]
  },
  {
   "cell_type": "code",
   "execution_count": 134,
   "id": "80fec240",
   "metadata": {},
   "outputs": [
    {
     "data": {
      "text/plain": [
       "StateFIPS                 int64\n",
       "State                    object\n",
       "WIC_PART_2012            object\n",
       "WIC_PART_2013            object\n",
       "WIC_PART_2014            object\n",
       "WIC_PART_2015            object\n",
       "WIC_PART_2016            object\n",
       "WIC_PART_2017            object\n",
       "WIC_PART_2018            object\n",
       "NSLP_PART_2012           object\n",
       "NSLP_PART_2013           object\n",
       "NSLP_PART_2014           object\n",
       "NSLP_PART_2015           object\n",
       "NSLP_PART_2016           object\n",
       "NSLP_PART_2017           object\n",
       "NSLP_PART_2018           object\n",
       "SBP_PART_2012            object\n",
       "SBP_PART_2013            object\n",
       "SBP_PART_2014            object\n",
       "SBP_PART_2015            object\n",
       "SBP_PART_2016            object\n",
       "SBP_PART_2017            object\n",
       "SBP_PART_2018            object\n",
       "CACFP_PART_2012          object\n",
       "CACFP_PART_2013          object\n",
       "CACFP_PART_2014          object\n",
       "CACFP_PART_2015          object\n",
       "CACFP_PART_2016          object\n",
       "CACFP_PART_2017          object\n",
       "CACFP_PART_2018          object\n",
       "SFSP_PART_2012           object\n",
       "SFSP_PART_2013           object\n",
       "SFSP_PART_2014           object\n",
       "SFSP_PART_2015           object\n",
       "SFSP_PART_2016           object\n",
       "SFSP_PART_2017           object\n",
       "SFSP_PART_2018           object\n",
       "State_Population_2012    object\n",
       "State_Population_2013    object\n",
       "State_Population_2014    object\n",
       "State_Population_2015    object\n",
       "State_Population_2016    object\n",
       "State_Population_2017    object\n",
       "State_Population_2018    object\n",
       "dtype: object"
      ]
     },
     "execution_count": 134,
     "metadata": {},
     "output_type": "execute_result"
    }
   ],
   "source": [
    "supp_state.dtypes #shows the datatypes for each column"
   ]
  },
  {
   "cell_type": "markdown",
   "id": "5052b9d3",
   "metadata": {},
   "source": [
    "For now, I will simply change the column names to lowercase, then save the revised dataframe as a csv."
   ]
  },
  {
   "cell_type": "code",
   "execution_count": 135,
   "id": "e3286b13",
   "metadata": {},
   "outputs": [
    {
     "data": {
      "text/plain": [
       "Index(['statefips', 'state', 'wic_part_2012', 'wic_part_2013', 'wic_part_2014',\n",
       "       'wic_part_2015', 'wic_part_2016', 'wic_part_2017', 'wic_part_2018',\n",
       "       'nslp_part_2012', 'nslp_part_2013', 'nslp_part_2014', 'nslp_part_2015',\n",
       "       'nslp_part_2016', 'nslp_part_2017', 'nslp_part_2018', 'sbp_part_2012',\n",
       "       'sbp_part_2013', 'sbp_part_2014', 'sbp_part_2015', 'sbp_part_2016',\n",
       "       'sbp_part_2017', 'sbp_part_2018', 'cacfp_part_2012', 'cacfp_part_2013',\n",
       "       'cacfp_part_2014', 'cacfp_part_2015', 'cacfp_part_2016',\n",
       "       'cacfp_part_2017', 'cacfp_part_2018', 'sfsp_part_2012',\n",
       "       'sfsp_part_2013', 'sfsp_part_2014', 'sfsp_part_2015', 'sfsp_part_2016',\n",
       "       'sfsp_part_2017', 'sfsp_part_2018', 'state_population_2012',\n",
       "       'state_population_2013', 'state_population_2014',\n",
       "       'state_population_2015', 'state_population_2016',\n",
       "       'state_population_2017', 'state_population_2018'],\n",
       "      dtype='object')"
      ]
     },
     "execution_count": 135,
     "metadata": {},
     "output_type": "execute_result"
    }
   ],
   "source": [
    "supp_state.columns = [col.lower() for col in supp_state.columns] #changes column names to lowercase\n",
    "\n",
    "supp_state.columns #shows revised column names"
   ]
  },
  {
   "cell_type": "markdown",
   "id": "270e3403",
   "metadata": {},
   "source": [
    "### 3. Saving clean dataframe to a csv"
   ]
  },
  {
   "cell_type": "code",
   "execution_count": 136,
   "id": "57d9f568",
   "metadata": {},
   "outputs": [],
   "source": [
    "supp_state.to_csv('../data/FoodEnvironmentAtlas.xls.SUPP_STATE_CLEAN.csv', index = False) #saves clean dataframe to a new csv"
   ]
  },
  {
   "cell_type": "markdown",
   "id": "6776515b",
   "metadata": {},
   "source": [
    "## X. Food Environment Atlas - TAXES"
   ]
  },
  {
   "cell_type": "markdown",
   "id": "02db4dd0",
   "metadata": {},
   "source": [
    "This dataset contains information regarding taxes on overall food, along with chips and soda.\n",
    "\n",
    "I will oberve for any issues."
   ]
  },
  {
   "cell_type": "markdown",
   "id": "acc4869a",
   "metadata": {},
   "source": [
    "### 1. Data Import"
   ]
  },
  {
   "cell_type": "code",
   "execution_count": 137,
   "id": "3ab37996",
   "metadata": {},
   "outputs": [],
   "source": [
    "file_path = '../data/FoodEnvironmentAtlas.xls.TAXES.csv'\n",
    "\n",
    "taxes = pd.read_csv(file_path)"
   ]
  },
  {
   "cell_type": "markdown",
   "id": "171af400",
   "metadata": {},
   "source": [
    "### 2. Preliminary Data Analysis & Cleaning"
   ]
  },
  {
   "cell_type": "code",
   "execution_count": 138,
   "id": "65773506",
   "metadata": {},
   "outputs": [
    {
     "data": {
      "text/html": [
       "<div>\n",
       "<style scoped>\n",
       "    .dataframe tbody tr th:only-of-type {\n",
       "        vertical-align: middle;\n",
       "    }\n",
       "\n",
       "    .dataframe tbody tr th {\n",
       "        vertical-align: top;\n",
       "    }\n",
       "\n",
       "    .dataframe thead th {\n",
       "        text-align: right;\n",
       "    }\n",
       "</style>\n",
       "<table border=\"1\" class=\"dataframe\">\n",
       "  <thead>\n",
       "    <tr style=\"text-align: right;\">\n",
       "      <th></th>\n",
       "      <th>FIPS</th>\n",
       "      <th>State</th>\n",
       "      <th>County</th>\n",
       "      <th>SODATAX_STORES14</th>\n",
       "      <th>SODATAX_VENDM14</th>\n",
       "      <th>CHIPSTAX_STORES14</th>\n",
       "      <th>CHIPSTAX_VENDM14</th>\n",
       "      <th>FOOD_TAX14</th>\n",
       "    </tr>\n",
       "  </thead>\n",
       "  <tbody>\n",
       "    <tr>\n",
       "      <th>0</th>\n",
       "      <td>1001</td>\n",
       "      <td>AL</td>\n",
       "      <td>Autauga</td>\n",
       "      <td>4.0</td>\n",
       "      <td>4.0</td>\n",
       "      <td>4.0</td>\n",
       "      <td>4.0</td>\n",
       "      <td>4.0</td>\n",
       "    </tr>\n",
       "    <tr>\n",
       "      <th>1</th>\n",
       "      <td>1003</td>\n",
       "      <td>AL</td>\n",
       "      <td>Baldwin</td>\n",
       "      <td>4.0</td>\n",
       "      <td>4.0</td>\n",
       "      <td>4.0</td>\n",
       "      <td>4.0</td>\n",
       "      <td>4.0</td>\n",
       "    </tr>\n",
       "    <tr>\n",
       "      <th>2</th>\n",
       "      <td>1005</td>\n",
       "      <td>AL</td>\n",
       "      <td>Barbour</td>\n",
       "      <td>4.0</td>\n",
       "      <td>4.0</td>\n",
       "      <td>4.0</td>\n",
       "      <td>4.0</td>\n",
       "      <td>4.0</td>\n",
       "    </tr>\n",
       "    <tr>\n",
       "      <th>3</th>\n",
       "      <td>1007</td>\n",
       "      <td>AL</td>\n",
       "      <td>Bibb</td>\n",
       "      <td>4.0</td>\n",
       "      <td>4.0</td>\n",
       "      <td>4.0</td>\n",
       "      <td>4.0</td>\n",
       "      <td>4.0</td>\n",
       "    </tr>\n",
       "    <tr>\n",
       "      <th>4</th>\n",
       "      <td>1009</td>\n",
       "      <td>AL</td>\n",
       "      <td>Blount</td>\n",
       "      <td>4.0</td>\n",
       "      <td>4.0</td>\n",
       "      <td>4.0</td>\n",
       "      <td>4.0</td>\n",
       "      <td>4.0</td>\n",
       "    </tr>\n",
       "    <tr>\n",
       "      <th>5</th>\n",
       "      <td>1011</td>\n",
       "      <td>AL</td>\n",
       "      <td>Bullock</td>\n",
       "      <td>4.0</td>\n",
       "      <td>4.0</td>\n",
       "      <td>4.0</td>\n",
       "      <td>4.0</td>\n",
       "      <td>4.0</td>\n",
       "    </tr>\n",
       "    <tr>\n",
       "      <th>6</th>\n",
       "      <td>1013</td>\n",
       "      <td>AL</td>\n",
       "      <td>Butler</td>\n",
       "      <td>4.0</td>\n",
       "      <td>4.0</td>\n",
       "      <td>4.0</td>\n",
       "      <td>4.0</td>\n",
       "      <td>4.0</td>\n",
       "    </tr>\n",
       "    <tr>\n",
       "      <th>7</th>\n",
       "      <td>1015</td>\n",
       "      <td>AL</td>\n",
       "      <td>Calhoun</td>\n",
       "      <td>4.0</td>\n",
       "      <td>4.0</td>\n",
       "      <td>4.0</td>\n",
       "      <td>4.0</td>\n",
       "      <td>4.0</td>\n",
       "    </tr>\n",
       "    <tr>\n",
       "      <th>8</th>\n",
       "      <td>1017</td>\n",
       "      <td>AL</td>\n",
       "      <td>Chambers</td>\n",
       "      <td>4.0</td>\n",
       "      <td>4.0</td>\n",
       "      <td>4.0</td>\n",
       "      <td>4.0</td>\n",
       "      <td>4.0</td>\n",
       "    </tr>\n",
       "    <tr>\n",
       "      <th>9</th>\n",
       "      <td>1019</td>\n",
       "      <td>AL</td>\n",
       "      <td>Cherokee</td>\n",
       "      <td>4.0</td>\n",
       "      <td>4.0</td>\n",
       "      <td>4.0</td>\n",
       "      <td>4.0</td>\n",
       "      <td>4.0</td>\n",
       "    </tr>\n",
       "  </tbody>\n",
       "</table>\n",
       "</div>"
      ],
      "text/plain": [
       "   FIPS State    County  SODATAX_STORES14  SODATAX_VENDM14  CHIPSTAX_STORES14  \\\n",
       "0  1001    AL   Autauga               4.0              4.0                4.0   \n",
       "1  1003    AL   Baldwin               4.0              4.0                4.0   \n",
       "2  1005    AL   Barbour               4.0              4.0                4.0   \n",
       "3  1007    AL      Bibb               4.0              4.0                4.0   \n",
       "4  1009    AL    Blount               4.0              4.0                4.0   \n",
       "5  1011    AL   Bullock               4.0              4.0                4.0   \n",
       "6  1013    AL    Butler               4.0              4.0                4.0   \n",
       "7  1015    AL   Calhoun               4.0              4.0                4.0   \n",
       "8  1017    AL  Chambers               4.0              4.0                4.0   \n",
       "9  1019    AL  Cherokee               4.0              4.0                4.0   \n",
       "\n",
       "   CHIPSTAX_VENDM14  FOOD_TAX14  \n",
       "0               4.0         4.0  \n",
       "1               4.0         4.0  \n",
       "2               4.0         4.0  \n",
       "3               4.0         4.0  \n",
       "4               4.0         4.0  \n",
       "5               4.0         4.0  \n",
       "6               4.0         4.0  \n",
       "7               4.0         4.0  \n",
       "8               4.0         4.0  \n",
       "9               4.0         4.0  "
      ]
     },
     "execution_count": 138,
     "metadata": {},
     "output_type": "execute_result"
    }
   ],
   "source": [
    "taxes.head(10) #shows top 10 rows of dataframe"
   ]
  },
  {
   "cell_type": "markdown",
   "id": "17378619",
   "metadata": {},
   "source": [
    "In looking through the data, it appears that the tax information is by state as opposed to county (which makes sense.) However, it could still be beneficial (and interesting) to know how taxes placed on certain food items impacts the prevalence of diabetes (with, I suppose, the intermediary of consumption of the food items.) "
   ]
  },
  {
   "cell_type": "code",
   "execution_count": 139,
   "id": "4525df34",
   "metadata": {},
   "outputs": [
    {
     "data": {
      "text/plain": [
       "(3143, 8)"
      ]
     },
     "execution_count": 139,
     "metadata": {},
     "output_type": "execute_result"
    }
   ],
   "source": [
    "taxes.shape #shows the layout of the dataframe"
   ]
  },
  {
   "cell_type": "markdown",
   "id": "74d1a898",
   "metadata": {},
   "source": [
    "Eight is a refreshing number of columns- not overwhelming."
   ]
  },
  {
   "cell_type": "code",
   "execution_count": 140,
   "id": "43f37b93",
   "metadata": {},
   "outputs": [
    {
     "data": {
      "text/plain": [
       "FIPS                 0\n",
       "State                0\n",
       "County               0\n",
       "SODATAX_STORES14     0\n",
       "SODATAX_VENDM14      0\n",
       "CHIPSTAX_STORES14    0\n",
       "CHIPSTAX_VENDM14     0\n",
       "FOOD_TAX14           0\n",
       "dtype: int64"
      ]
     },
     "execution_count": 140,
     "metadata": {},
     "output_type": "execute_result"
    }
   ],
   "source": [
    "taxes.isnull().sum() #shows the number of missing values per column"
   ]
  },
  {
   "cell_type": "markdown",
   "id": "a5e7f958",
   "metadata": {},
   "source": [
    "There are no blank values, though missing values could be entered as \"-9999.\" \n",
    "\n",
    "This will be explored later (if I do use this dataset at all...)"
   ]
  },
  {
   "cell_type": "code",
   "execution_count": 141,
   "id": "fd65bfb0",
   "metadata": {},
   "outputs": [
    {
     "data": {
      "text/plain": [
       "FIPS                   int64\n",
       "State                 object\n",
       "County                object\n",
       "SODATAX_STORES14     float64\n",
       "SODATAX_VENDM14      float64\n",
       "CHIPSTAX_STORES14    float64\n",
       "CHIPSTAX_VENDM14     float64\n",
       "FOOD_TAX14           float64\n",
       "dtype: object"
      ]
     },
     "execution_count": 141,
     "metadata": {},
     "output_type": "execute_result"
    }
   ],
   "source": [
    "taxes.dtypes #shows the datatype of each column"
   ]
  },
  {
   "cell_type": "markdown",
   "id": "6a0b688d",
   "metadata": {},
   "source": [
    "These seem to be the appropriate datatypes. The column names will be changed to lowercase, and then the cleaned dataframe will be saved as a csv."
   ]
  },
  {
   "cell_type": "code",
   "execution_count": 142,
   "id": "376a3306",
   "metadata": {},
   "outputs": [
    {
     "data": {
      "text/plain": [
       "Index(['fips', 'state', 'county', 'sodatax_stores14', 'sodatax_vendm14',\n",
       "       'chipstax_stores14', 'chipstax_vendm14', 'food_tax14'],\n",
       "      dtype='object')"
      ]
     },
     "execution_count": 142,
     "metadata": {},
     "output_type": "execute_result"
    }
   ],
   "source": [
    "taxes.columns = [col.lower() for col in taxes.columns] #changes column names to lowercase\n",
    "\n",
    "taxes.columns #shows revised column names"
   ]
  },
  {
   "cell_type": "markdown",
   "id": "3bb9c9e6",
   "metadata": {},
   "source": [
    "### 3. Saving cleaned dataframe to a csv"
   ]
  },
  {
   "cell_type": "code",
   "execution_count": 143,
   "id": "9ae21f98",
   "metadata": {},
   "outputs": [],
   "source": [
    "taxes.to_csv('../data/FoodEnvironmentAtlas.xls.TAXES_CLEAN.csv', index = False) #saves clean dataframe to a new csv"
   ]
  },
  {
   "cell_type": "markdown",
   "id": "53a9ae8a",
   "metadata": {},
   "source": [
    "## XI. Diabetes Atlas Data - 2018"
   ]
  },
  {
   "cell_type": "markdown",
   "id": "8d15bd49",
   "metadata": {},
   "source": [
    "This is the dataset from which I intend to draw out the target values - the prevalence of diabetes in adults (2018 values). While it can be difficult to determine from the source above that the 2018 values pertain to adults only, see  [here](https://www.cdc.gov/media/releases/2020/p1117-diabetes-surveillance-system.html) and [here](https://www.cdc.gov/diabetes/data/statistics/faqs.html) (*Question: \"Do you have county-level estimates of obesity and diabetes in children and adolescents?)* for confirmation.\n",
    "\n",
    "I will make an initial observation and cleaning of the data."
   ]
  },
  {
   "cell_type": "markdown",
   "id": "edb409b0",
   "metadata": {},
   "source": [
    "#### 1. Data Import"
   ]
  },
  {
   "cell_type": "code",
   "execution_count": 144,
   "id": "1d87a8be",
   "metadata": {},
   "outputs": [],
   "source": [
    "#imports data\n",
    "\n",
    "file_path = '../data/DiabetesAtlasDataRT.csv'\n",
    "\n",
    "d18 = pd.read_csv(file_path)"
   ]
  },
  {
   "cell_type": "code",
   "execution_count": 145,
   "id": "adac9ec9",
   "metadata": {},
   "outputs": [
    {
     "data": {
      "text/html": [
       "<div>\n",
       "<style scoped>\n",
       "    .dataframe tbody tr th:only-of-type {\n",
       "        vertical-align: middle;\n",
       "    }\n",
       "\n",
       "    .dataframe tbody tr th {\n",
       "        vertical-align: top;\n",
       "    }\n",
       "\n",
       "    .dataframe thead th {\n",
       "        text-align: right;\n",
       "    }\n",
       "</style>\n",
       "<table border=\"1\" class=\"dataframe\">\n",
       "  <thead>\n",
       "    <tr style=\"text-align: right;\">\n",
       "      <th></th>\n",
       "      <th>Year</th>\n",
       "      <th>County_FIPS</th>\n",
       "      <th>County</th>\n",
       "      <th>State</th>\n",
       "      <th>Diagnosed Diabetes Percentage</th>\n",
       "      <th>Overall SVI</th>\n",
       "    </tr>\n",
       "  </thead>\n",
       "  <tbody>\n",
       "    <tr>\n",
       "      <th>0</th>\n",
       "      <td>2018</td>\n",
       "      <td>1001.0</td>\n",
       "      <td>Autauga County</td>\n",
       "      <td>Alabama</td>\n",
       "      <td>9.5</td>\n",
       "      <td>0.4354</td>\n",
       "    </tr>\n",
       "    <tr>\n",
       "      <th>1</th>\n",
       "      <td>2018</td>\n",
       "      <td>1003.0</td>\n",
       "      <td>Baldwin County</td>\n",
       "      <td>Alabama</td>\n",
       "      <td>8.4</td>\n",
       "      <td>0.2162</td>\n",
       "    </tr>\n",
       "    <tr>\n",
       "      <th>2</th>\n",
       "      <td>2018</td>\n",
       "      <td>1005.0</td>\n",
       "      <td>Barbour County</td>\n",
       "      <td>Alabama</td>\n",
       "      <td>13.5</td>\n",
       "      <td>0.9959</td>\n",
       "    </tr>\n",
       "    <tr>\n",
       "      <th>3</th>\n",
       "      <td>2018</td>\n",
       "      <td>1007.0</td>\n",
       "      <td>Bibb County</td>\n",
       "      <td>Alabama</td>\n",
       "      <td>10.2</td>\n",
       "      <td>0.6003</td>\n",
       "    </tr>\n",
       "    <tr>\n",
       "      <th>4</th>\n",
       "      <td>2018</td>\n",
       "      <td>1009.0</td>\n",
       "      <td>Blount County</td>\n",
       "      <td>Alabama</td>\n",
       "      <td>10.5</td>\n",
       "      <td>0.4242</td>\n",
       "    </tr>\n",
       "  </tbody>\n",
       "</table>\n",
       "</div>"
      ],
      "text/plain": [
       "   Year  County_FIPS          County    State  Diagnosed Diabetes Percentage  \\\n",
       "0  2018       1001.0  Autauga County  Alabama                            9.5   \n",
       "1  2018       1003.0  Baldwin County  Alabama                            8.4   \n",
       "2  2018       1005.0  Barbour County  Alabama                           13.5   \n",
       "3  2018       1007.0     Bibb County  Alabama                           10.2   \n",
       "4  2018       1009.0   Blount County  Alabama                           10.5   \n",
       "\n",
       "   Overall SVI  \n",
       "0       0.4354  \n",
       "1       0.2162  \n",
       "2       0.9959  \n",
       "3       0.6003  \n",
       "4       0.4242  "
      ]
     },
     "execution_count": 145,
     "metadata": {},
     "output_type": "execute_result"
    }
   ],
   "source": [
    "d18.head() #shows top 5 rows of dataframe"
   ]
  },
  {
   "cell_type": "markdown",
   "id": "8dc8df56",
   "metadata": {},
   "source": [
    "### 2. Preliminary Analysis and Cleaning"
   ]
  },
  {
   "cell_type": "code",
   "execution_count": 146,
   "id": "02a74535",
   "metadata": {},
   "outputs": [
    {
     "data": {
      "text/plain": [
       "(3142, 6)"
      ]
     },
     "execution_count": 146,
     "metadata": {},
     "output_type": "execute_result"
    }
   ],
   "source": [
    "d18.shape #shows the layout of the dataframe"
   ]
  },
  {
   "cell_type": "code",
   "execution_count": 147,
   "id": "c221d433",
   "metadata": {},
   "outputs": [
    {
     "data": {
      "text/plain": [
       "Index(['Year', 'County_FIPS', 'County', 'State',\n",
       "       'Diagnosed Diabetes Percentage', 'Overall SVI'],\n",
       "      dtype='object')"
      ]
     },
     "execution_count": 147,
     "metadata": {},
     "output_type": "execute_result"
    }
   ],
   "source": [
    "d18.columns #shows list of columns"
   ]
  },
  {
   "cell_type": "markdown",
   "id": "2498f316",
   "metadata": {},
   "source": [
    "One of the first things I notice is an \"Overall SVI.\" According to [this website](https://www.atsdr.cdc.gov/placeandhealth/svi/at-a-glance_svi.html), SVI stands for \"Social Vulnerability Index\" and is a score that includes factors pertaining to socioeconomic status, ethnicity, household status and others.\n",
    "\n",
    "Within the Food Environment Atlas, there are many other columns pertaining  socioeconomic status, ethnicity, and related information. The SVI column is not needed, and will be removed.\n",
    "\n",
    "First, however, I will make the columns lowercase."
   ]
  },
  {
   "cell_type": "code",
   "execution_count": 148,
   "id": "90e33d31",
   "metadata": {},
   "outputs": [],
   "source": [
    "d18.columns = [col.lower() for col in d18.columns]"
   ]
  },
  {
   "cell_type": "markdown",
   "id": "a611b184",
   "metadata": {},
   "source": [
    "The 'overall svi' column will now be removed. At this time, I will also remove the 'year' column, as all data is from 2018. However, I will first ensure that this is the case."
   ]
  },
  {
   "cell_type": "code",
   "execution_count": 149,
   "id": "0499eb69",
   "metadata": {},
   "outputs": [
    {
     "data": {
      "text/plain": [
       "array(['2018',\n",
       "       'US Diabetes Surveillance System; www.cdc.gov/diabetes/data; Division of Diabetes Translation - Centers for Disease Control and Prevention.'],\n",
       "      dtype=object)"
      ]
     },
     "execution_count": 149,
     "metadata": {},
     "output_type": "execute_result"
    }
   ],
   "source": [
    "d18.year.unique() #shows unique values in this column"
   ]
  },
  {
   "cell_type": "markdown",
   "id": "78d8611e",
   "metadata": {},
   "source": [
    "It appears that 2018 is the only year present, however there is additional information pertaining to the data download.\n",
    "\n",
    "That factor will be assessed later. First, I will remove the necessary columns: year, and overall svi."
   ]
  },
  {
   "cell_type": "code",
   "execution_count": 150,
   "id": "9458ce71",
   "metadata": {},
   "outputs": [
    {
     "data": {
      "text/plain": [
       "Index(['county_fips', 'county', 'state', 'diagnosed diabetes percentage'], dtype='object')"
      ]
     },
     "execution_count": 150,
     "metadata": {},
     "output_type": "execute_result"
    }
   ],
   "source": [
    "d18 = d18.drop(columns = ['year', 'overall svi'])\n",
    "\n",
    "d18.columns"
   ]
  },
  {
   "cell_type": "markdown",
   "id": "11b7840a",
   "metadata": {},
   "source": [
    "The columns were successfully dropped.\n",
    "\n",
    "At this time, I notice other changes are needed to the columns, so I will make these now."
   ]
  },
  {
   "cell_type": "markdown",
   "id": "24ce2a3a",
   "metadata": {},
   "source": [
    "Below, I will edit the 'diagnosed diabetes percentage' to remove the spaces and make it shorter. Additionally, I will rename the 'county_fips' variable to 'fips' for consistency."
   ]
  },
  {
   "cell_type": "code",
   "execution_count": 151,
   "id": "cdfe6f59",
   "metadata": {},
   "outputs": [
    {
     "data": {
      "text/plain": [
       "Index(['fips', 'county', 'state', 'pct_diabetes18'], dtype='object')"
      ]
     },
     "execution_count": 151,
     "metadata": {},
     "output_type": "execute_result"
    }
   ],
   "source": [
    "d18.rename({'diagnosed diabetes percentage' : 'pct_diabetes18', 'county_fips': 'fips'}, axis = 1, inplace = True) #renames columns\n",
    "\n",
    "d18.columns #shows revised list of columns"
   ]
  },
  {
   "cell_type": "markdown",
   "id": "aa2af9c1",
   "metadata": {},
   "source": [
    "Now, I will assess for null values."
   ]
  },
  {
   "cell_type": "code",
   "execution_count": 152,
   "id": "286b2c4a",
   "metadata": {},
   "outputs": [
    {
     "data": {
      "text/plain": [
       "fips              1\n",
       "county            1\n",
       "state             1\n",
       "pct_diabetes18    1\n",
       "dtype: int64"
      ]
     },
     "execution_count": 152,
     "metadata": {},
     "output_type": "execute_result"
    }
   ],
   "source": [
    "d18.isnull().sum() #shows number of missing values for each column"
   ]
  },
  {
   "cell_type": "markdown",
   "id": "de59c09e",
   "metadata": {},
   "source": [
    "There is exactly 1 null value in each row. My thought is that this may be an empty row.\n",
    "\n",
    "I will assess below."
   ]
  },
  {
   "cell_type": "code",
   "execution_count": 153,
   "id": "7a1fea31",
   "metadata": {},
   "outputs": [
    {
     "data": {
      "text/html": [
       "<div>\n",
       "<style scoped>\n",
       "    .dataframe tbody tr th:only-of-type {\n",
       "        vertical-align: middle;\n",
       "    }\n",
       "\n",
       "    .dataframe tbody tr th {\n",
       "        vertical-align: top;\n",
       "    }\n",
       "\n",
       "    .dataframe thead th {\n",
       "        text-align: right;\n",
       "    }\n",
       "</style>\n",
       "<table border=\"1\" class=\"dataframe\">\n",
       "  <thead>\n",
       "    <tr style=\"text-align: right;\">\n",
       "      <th></th>\n",
       "      <th>fips</th>\n",
       "      <th>county</th>\n",
       "      <th>state</th>\n",
       "      <th>pct_diabetes18</th>\n",
       "    </tr>\n",
       "  </thead>\n",
       "  <tbody>\n",
       "    <tr>\n",
       "      <th>3141</th>\n",
       "      <td>NaN</td>\n",
       "      <td>NaN</td>\n",
       "      <td>NaN</td>\n",
       "      <td>NaN</td>\n",
       "    </tr>\n",
       "  </tbody>\n",
       "</table>\n",
       "</div>"
      ],
      "text/plain": [
       "      fips county state  pct_diabetes18\n",
       "3141   NaN    NaN   NaN             NaN"
      ]
     },
     "execution_count": 153,
     "metadata": {},
     "output_type": "execute_result"
    }
   ],
   "source": [
    "d18.loc[d18['county'].isnull()] #shows the row missing the value in the county column"
   ]
  },
  {
   "cell_type": "markdown",
   "id": "4056394b",
   "metadata": {},
   "source": [
    "Yes, this row is empty. It is likely the row that contained the download information ('US Diabetes Surveillance System...') in the year column.\n",
    "\n",
    "This blank row will be removed."
   ]
  },
  {
   "cell_type": "code",
   "execution_count": 154,
   "id": "9e1df97a",
   "metadata": {},
   "outputs": [
    {
     "data": {
      "text/plain": [
       "(3142, 4)"
      ]
     },
     "execution_count": 154,
     "metadata": {},
     "output_type": "execute_result"
    }
   ],
   "source": [
    "d18.shape #shows the layout of the dataframe"
   ]
  },
  {
   "cell_type": "code",
   "execution_count": 155,
   "id": "cbb3f54c",
   "metadata": {},
   "outputs": [
    {
     "data": {
      "text/plain": [
       "(3141, 4)"
      ]
     },
     "execution_count": 155,
     "metadata": {},
     "output_type": "execute_result"
    }
   ],
   "source": [
    "d18 = d18.dropna() #drops empty row\n",
    "\n",
    "d18.shape #shows revised layout"
   ]
  },
  {
   "cell_type": "markdown",
   "id": "b6f5f8d7",
   "metadata": {},
   "source": [
    "I notice that this dataframe contains 3141 rows, whereas the Health dataframe contained 3143.\n",
    "\n",
    "I will attempt to determine the reason for this below."
   ]
  },
  {
   "cell_type": "code",
   "execution_count": 156,
   "id": "8cd36edd",
   "metadata": {},
   "outputs": [
    {
     "data": {
      "text/html": [
       "<div>\n",
       "<style scoped>\n",
       "    .dataframe tbody tr th:only-of-type {\n",
       "        vertical-align: middle;\n",
       "    }\n",
       "\n",
       "    .dataframe tbody tr th {\n",
       "        vertical-align: top;\n",
       "    }\n",
       "\n",
       "    .dataframe thead th {\n",
       "        text-align: right;\n",
       "    }\n",
       "</style>\n",
       "<table border=\"1\" class=\"dataframe\">\n",
       "  <thead>\n",
       "    <tr style=\"text-align: right;\">\n",
       "      <th></th>\n",
       "      <th>fips</th>\n",
       "      <th>county</th>\n",
       "      <th>state</th>\n",
       "      <th>pct_diabetes18</th>\n",
       "    </tr>\n",
       "  </thead>\n",
       "  <tbody>\n",
       "    <tr>\n",
       "      <th>3136</th>\n",
       "      <td>56037.0</td>\n",
       "      <td>Sweetwater County</td>\n",
       "      <td>Wyoming</td>\n",
       "      <td>7.8</td>\n",
       "    </tr>\n",
       "    <tr>\n",
       "      <th>3137</th>\n",
       "      <td>56039.0</td>\n",
       "      <td>Teton County</td>\n",
       "      <td>Wyoming</td>\n",
       "      <td>3.8</td>\n",
       "    </tr>\n",
       "    <tr>\n",
       "      <th>3138</th>\n",
       "      <td>56041.0</td>\n",
       "      <td>Uinta County</td>\n",
       "      <td>Wyoming</td>\n",
       "      <td>8.4</td>\n",
       "    </tr>\n",
       "    <tr>\n",
       "      <th>3139</th>\n",
       "      <td>56043.0</td>\n",
       "      <td>Washakie County</td>\n",
       "      <td>Wyoming</td>\n",
       "      <td>7.4</td>\n",
       "    </tr>\n",
       "    <tr>\n",
       "      <th>3140</th>\n",
       "      <td>56045.0</td>\n",
       "      <td>Weston County</td>\n",
       "      <td>Wyoming</td>\n",
       "      <td>7.6</td>\n",
       "    </tr>\n",
       "  </tbody>\n",
       "</table>\n",
       "</div>"
      ],
      "text/plain": [
       "         fips             county    state  pct_diabetes18\n",
       "3136  56037.0  Sweetwater County  Wyoming             7.8\n",
       "3137  56039.0       Teton County  Wyoming             3.8\n",
       "3138  56041.0       Uinta County  Wyoming             8.4\n",
       "3139  56043.0    Washakie County  Wyoming             7.4\n",
       "3140  56045.0      Weston County  Wyoming             7.6"
      ]
     },
     "execution_count": 156,
     "metadata": {},
     "output_type": "execute_result"
    }
   ],
   "source": [
    "d18.tail() #shows bottom 5 rows of dataframe"
   ]
  },
  {
   "cell_type": "code",
   "execution_count": 157,
   "id": "1ae82e1e",
   "metadata": {},
   "outputs": [
    {
     "data": {
      "text/html": [
       "<div>\n",
       "<style scoped>\n",
       "    .dataframe tbody tr th:only-of-type {\n",
       "        vertical-align: middle;\n",
       "    }\n",
       "\n",
       "    .dataframe tbody tr th {\n",
       "        vertical-align: top;\n",
       "    }\n",
       "\n",
       "    .dataframe thead th {\n",
       "        text-align: right;\n",
       "    }\n",
       "</style>\n",
       "<table border=\"1\" class=\"dataframe\">\n",
       "  <thead>\n",
       "    <tr style=\"text-align: right;\">\n",
       "      <th></th>\n",
       "      <th>fips</th>\n",
       "      <th>state</th>\n",
       "      <th>county</th>\n",
       "      <th>pct_diabetes_adults08</th>\n",
       "      <th>pct_diabetes_adults13</th>\n",
       "      <th>pct_obese_adults12</th>\n",
       "      <th>pct_obese_adults17</th>\n",
       "      <th>pct_hspa17</th>\n",
       "      <th>recfac11</th>\n",
       "      <th>recfac16</th>\n",
       "      <th>pch_recfac_11_16</th>\n",
       "      <th>recfacpth11</th>\n",
       "      <th>recfacpth16</th>\n",
       "      <th>pch_recfacpth_11_16</th>\n",
       "    </tr>\n",
       "  </thead>\n",
       "  <tbody>\n",
       "    <tr>\n",
       "      <th>3138</th>\n",
       "      <td>56037</td>\n",
       "      <td>WY</td>\n",
       "      <td>Sweetwater</td>\n",
       "      <td>6.8</td>\n",
       "      <td>8.1</td>\n",
       "      <td>24.6</td>\n",
       "      <td>28.8</td>\n",
       "      <td>NaN</td>\n",
       "      <td>4</td>\n",
       "      <td>6</td>\n",
       "      <td>50.000000</td>\n",
       "      <td>0.090882</td>\n",
       "      <td>0.135609</td>\n",
       "      <td>49.213470</td>\n",
       "    </tr>\n",
       "    <tr>\n",
       "      <th>3139</th>\n",
       "      <td>56039</td>\n",
       "      <td>WY</td>\n",
       "      <td>Teton</td>\n",
       "      <td>4.1</td>\n",
       "      <td>4.8</td>\n",
       "      <td>24.6</td>\n",
       "      <td>28.8</td>\n",
       "      <td>NaN</td>\n",
       "      <td>9</td>\n",
       "      <td>13</td>\n",
       "      <td>44.444444</td>\n",
       "      <td>0.419072</td>\n",
       "      <td>0.560828</td>\n",
       "      <td>33.826095</td>\n",
       "    </tr>\n",
       "    <tr>\n",
       "      <th>3140</th>\n",
       "      <td>56041</td>\n",
       "      <td>WY</td>\n",
       "      <td>Uinta</td>\n",
       "      <td>6.3</td>\n",
       "      <td>9.0</td>\n",
       "      <td>24.6</td>\n",
       "      <td>28.8</td>\n",
       "      <td>NaN</td>\n",
       "      <td>3</td>\n",
       "      <td>2</td>\n",
       "      <td>-33.333333</td>\n",
       "      <td>0.143548</td>\n",
       "      <td>0.096567</td>\n",
       "      <td>-32.728180</td>\n",
       "    </tr>\n",
       "    <tr>\n",
       "      <th>3141</th>\n",
       "      <td>56043</td>\n",
       "      <td>WY</td>\n",
       "      <td>Washakie</td>\n",
       "      <td>10.5</td>\n",
       "      <td>12.0</td>\n",
       "      <td>24.6</td>\n",
       "      <td>28.8</td>\n",
       "      <td>NaN</td>\n",
       "      <td>1</td>\n",
       "      <td>1</td>\n",
       "      <td>0.000000</td>\n",
       "      <td>0.118203</td>\n",
       "      <td>0.122130</td>\n",
       "      <td>3.321935</td>\n",
       "    </tr>\n",
       "    <tr>\n",
       "      <th>3142</th>\n",
       "      <td>56045</td>\n",
       "      <td>WY</td>\n",
       "      <td>Weston</td>\n",
       "      <td>7.1</td>\n",
       "      <td>10.0</td>\n",
       "      <td>24.6</td>\n",
       "      <td>28.8</td>\n",
       "      <td>NaN</td>\n",
       "      <td>1</td>\n",
       "      <td>0</td>\n",
       "      <td>-100.000000</td>\n",
       "      <td>0.140036</td>\n",
       "      <td>0.000000</td>\n",
       "      <td>-100.000000</td>\n",
       "    </tr>\n",
       "  </tbody>\n",
       "</table>\n",
       "</div>"
      ],
      "text/plain": [
       "       fips state      county  pct_diabetes_adults08  pct_diabetes_adults13  \\\n",
       "3138  56037    WY  Sweetwater                    6.8                    8.1   \n",
       "3139  56039    WY       Teton                    4.1                    4.8   \n",
       "3140  56041    WY       Uinta                    6.3                    9.0   \n",
       "3141  56043    WY    Washakie                   10.5                   12.0   \n",
       "3142  56045    WY      Weston                    7.1                   10.0   \n",
       "\n",
       "      pct_obese_adults12  pct_obese_adults17  pct_hspa17  recfac11  recfac16  \\\n",
       "3138                24.6                28.8         NaN         4         6   \n",
       "3139                24.6                28.8         NaN         9        13   \n",
       "3140                24.6                28.8         NaN         3         2   \n",
       "3141                24.6                28.8         NaN         1         1   \n",
       "3142                24.6                28.8         NaN         1         0   \n",
       "\n",
       "      pch_recfac_11_16  recfacpth11  recfacpth16  pch_recfacpth_11_16  \n",
       "3138         50.000000     0.090882     0.135609            49.213470  \n",
       "3139         44.444444     0.419072     0.560828            33.826095  \n",
       "3140        -33.333333     0.143548     0.096567           -32.728180  \n",
       "3141          0.000000     0.118203     0.122130             3.321935  \n",
       "3142       -100.000000     0.140036     0.000000          -100.000000  "
      ]
     },
     "execution_count": 157,
     "metadata": {},
     "output_type": "execute_result"
    }
   ],
   "source": [
    "health.tail() #shows bottom 5 rows of health dataframe"
   ]
  },
  {
   "cell_type": "code",
   "execution_count": 158,
   "id": "014cbe79",
   "metadata": {},
   "outputs": [
    {
     "data": {
      "text/plain": [
       "count     3141.000000\n",
       "mean     30382.167144\n",
       "std      15164.694955\n",
       "min       1001.000000\n",
       "25%      18177.000000\n",
       "50%      29175.000000\n",
       "75%      45081.000000\n",
       "max      56045.000000\n",
       "Name: fips, dtype: float64"
      ]
     },
     "execution_count": 158,
     "metadata": {},
     "output_type": "execute_result"
    }
   ],
   "source": [
    "d18.fips.describe() #shows min, max, and other values in county fips (d18)"
   ]
  },
  {
   "cell_type": "code",
   "execution_count": 159,
   "id": "1d778302",
   "metadata": {},
   "outputs": [
    {
     "data": {
      "text/plain": [
       "count     3143.000000\n",
       "mean     30390.411709\n",
       "std      15164.717720\n",
       "min       1001.000000\n",
       "25%      18178.000000\n",
       "50%      29177.000000\n",
       "75%      45082.000000\n",
       "max      56045.000000\n",
       "Name: fips, dtype: float64"
      ]
     },
     "execution_count": 159,
     "metadata": {},
     "output_type": "execute_result"
    }
   ],
   "source": [
    "health.fips.describe() #shows min, max, and other values in county fips (health)"
   ]
  },
  {
   "cell_type": "markdown",
   "id": "1c3cdc0e",
   "metadata": {},
   "source": [
    "The two datasets have the same minimum and maximum fips score, but slightly different count and other information.\n",
    "\n",
    "There may be two rows missing from the diabetes 2018 dataset. I will attempt to determine if this is the case."
   ]
  },
  {
   "cell_type": "code",
   "execution_count": 160,
   "id": "3c1426bc",
   "metadata": {},
   "outputs": [
    {
     "data": {
      "text/plain": [
       "1876"
      ]
     },
     "execution_count": 160,
     "metadata": {},
     "output_type": "execute_result"
    }
   ],
   "source": [
    "d18.county.nunique() #show the number of unique values in the county column (d18)"
   ]
  },
  {
   "cell_type": "code",
   "execution_count": 161,
   "id": "b439d636",
   "metadata": {},
   "outputs": [
    {
     "data": {
      "text/plain": [
       "1832"
      ]
     },
     "execution_count": 161,
     "metadata": {},
     "output_type": "execute_result"
    }
   ],
   "source": [
    "health.county.nunique() #shows the number of unique values in the county column (health)"
   ]
  },
  {
   "cell_type": "code",
   "execution_count": 162,
   "id": "7ce9f6b3",
   "metadata": {},
   "outputs": [
    {
     "data": {
      "text/plain": [
       "array(['Alabama', 'Alaska', 'Arizona', 'Arkansas', 'California',\n",
       "       'Colorado', 'Connecticut', 'Delaware', 'District of Columbia',\n",
       "       'Florida', 'Georgia', 'Hawaii', 'Idaho', 'Illinois', 'Indiana',\n",
       "       'Iowa', 'Kansas', 'Kentucky', 'Louisiana', 'Maine', 'Maryland',\n",
       "       'Massachusetts', 'Michigan', 'Minnesota', 'Mississippi',\n",
       "       'Missouri', 'Montana', 'Nebraska', 'Nevada', 'New Hampshire',\n",
       "       'New Jersey', 'New Mexico', 'New York', 'North Carolina',\n",
       "       'North Dakota', 'Ohio', 'Oklahoma', 'Oregon', 'Pennsylvania',\n",
       "       'Rhode Island', 'South Carolina', 'South Dakota', 'Tennessee',\n",
       "       'Texas', 'Utah', 'Vermont', 'Virginia', 'Washington',\n",
       "       'West Virginia', 'Wisconsin', 'Wyoming'], dtype=object)"
      ]
     },
     "execution_count": 162,
     "metadata": {},
     "output_type": "execute_result"
    }
   ],
   "source": [
    "d18.state.unique() #displays the states (d18)"
   ]
  },
  {
   "cell_type": "code",
   "execution_count": 163,
   "id": "9d5db3c6",
   "metadata": {},
   "outputs": [
    {
     "data": {
      "text/plain": [
       "array(['AL', 'AK', 'AZ', 'AR', 'CA', 'CO', 'CT', 'DE', 'DC', 'FL', 'GA',\n",
       "       'HI', 'ID', 'IL', 'IN', 'IA', 'KS', 'KY', 'LA', 'ME', 'MD', 'MA',\n",
       "       'MI', 'MN', 'MS', 'MO', 'MT', 'NE', 'NV', 'NH', 'NJ', 'NM', 'NY',\n",
       "       'NC', 'ND', 'OH', 'OK', 'OR', 'PA', 'RI', 'SC', 'SD', 'TN', 'TX',\n",
       "       'UT', 'VT', 'VA', 'WA', 'WV', 'WI', 'WY'], dtype=object)"
      ]
     },
     "execution_count": 163,
     "metadata": {},
     "output_type": "execute_result"
    }
   ],
   "source": [
    "health.state.unique() #displays the states (health)"
   ]
  },
  {
   "cell_type": "markdown",
   "id": "80183895",
   "metadata": {},
   "source": [
    "It appears that there are 1876 unique county names in the Diabetes 2018 atlas, and only 1832 in the health dataset. However, both contain the same states. Per earlier analysis, neither dataset is missing values in the county column.\n",
    "\n",
    "I can look for matching or non-matching values in SQL if the counties have the same name. \n",
    "\n",
    "This will require removing \" County\" from the county names in the d18 set."
   ]
  },
  {
   "cell_type": "code",
   "execution_count": 164,
   "id": "7cef49dc",
   "metadata": {},
   "outputs": [
    {
     "data": {
      "text/html": [
       "<div>\n",
       "<style scoped>\n",
       "    .dataframe tbody tr th:only-of-type {\n",
       "        vertical-align: middle;\n",
       "    }\n",
       "\n",
       "    .dataframe tbody tr th {\n",
       "        vertical-align: top;\n",
       "    }\n",
       "\n",
       "    .dataframe thead th {\n",
       "        text-align: right;\n",
       "    }\n",
       "</style>\n",
       "<table border=\"1\" class=\"dataframe\">\n",
       "  <thead>\n",
       "    <tr style=\"text-align: right;\">\n",
       "      <th></th>\n",
       "      <th>fips</th>\n",
       "      <th>county</th>\n",
       "      <th>state</th>\n",
       "      <th>pct_diabetes18</th>\n",
       "    </tr>\n",
       "  </thead>\n",
       "  <tbody>\n",
       "    <tr>\n",
       "      <th>0</th>\n",
       "      <td>1001.0</td>\n",
       "      <td>Autauga County</td>\n",
       "      <td>Alabama</td>\n",
       "      <td>9.5</td>\n",
       "    </tr>\n",
       "    <tr>\n",
       "      <th>1</th>\n",
       "      <td>1003.0</td>\n",
       "      <td>Baldwin County</td>\n",
       "      <td>Alabama</td>\n",
       "      <td>8.4</td>\n",
       "    </tr>\n",
       "  </tbody>\n",
       "</table>\n",
       "</div>"
      ],
      "text/plain": [
       "     fips          county    state  pct_diabetes18\n",
       "0  1001.0  Autauga County  Alabama             9.5\n",
       "1  1003.0  Baldwin County  Alabama             8.4"
      ]
     },
     "execution_count": 164,
     "metadata": {},
     "output_type": "execute_result"
    }
   ],
   "source": [
    "d18.head(2) #shows top 2 rows of dataframe"
   ]
  },
  {
   "cell_type": "code",
   "execution_count": 165,
   "id": "43e24dde",
   "metadata": {},
   "outputs": [
    {
     "data": {
      "text/html": [
       "<div>\n",
       "<style scoped>\n",
       "    .dataframe tbody tr th:only-of-type {\n",
       "        vertical-align: middle;\n",
       "    }\n",
       "\n",
       "    .dataframe tbody tr th {\n",
       "        vertical-align: top;\n",
       "    }\n",
       "\n",
       "    .dataframe thead th {\n",
       "        text-align: right;\n",
       "    }\n",
       "</style>\n",
       "<table border=\"1\" class=\"dataframe\">\n",
       "  <thead>\n",
       "    <tr style=\"text-align: right;\">\n",
       "      <th></th>\n",
       "      <th>fips</th>\n",
       "      <th>county</th>\n",
       "      <th>state</th>\n",
       "      <th>pct_diabetes18</th>\n",
       "    </tr>\n",
       "  </thead>\n",
       "  <tbody>\n",
       "    <tr>\n",
       "      <th>0</th>\n",
       "      <td>1001.0</td>\n",
       "      <td>Autauga</td>\n",
       "      <td>Alabama</td>\n",
       "      <td>9.5</td>\n",
       "    </tr>\n",
       "    <tr>\n",
       "      <th>1</th>\n",
       "      <td>1003.0</td>\n",
       "      <td>Baldwin</td>\n",
       "      <td>Alabama</td>\n",
       "      <td>8.4</td>\n",
       "    </tr>\n",
       "  </tbody>\n",
       "</table>\n",
       "</div>"
      ],
      "text/plain": [
       "     fips   county    state  pct_diabetes18\n",
       "0  1001.0  Autauga  Alabama             9.5\n",
       "1  1003.0  Baldwin  Alabama             8.4"
      ]
     },
     "execution_count": 165,
     "metadata": {},
     "output_type": "execute_result"
    }
   ],
   "source": [
    "d18['county'] = d18['county'].str.replace(\" County\" , \"\") #removes the space + County from values\n",
    "\n",
    "d18.head(2) #shows top 2 rows of revised dataframe"
   ]
  },
  {
   "cell_type": "markdown",
   "id": "7415b97b",
   "metadata": {},
   "source": [
    "The county names have been revised. \n",
    "\n",
    "The states in this dataset are not abbreviated, whereas the ones in the health dataset are. Additionally, the columns are ordered differently between the two datasets...\n",
    "\n",
    "In order to save time and effort, the state names and column order will not be revised, as I will be searching/comparing unique county names using SQL. \n",
    "\n",
    "I will enter the d18 fips codes into SQL as type integer so that they will match with those in the Food Environment Atlas.\n",
    "\n",
    "Before saving the cleaned dataframe as a csv, I will observe the percent diabetes values for any issues."
   ]
  },
  {
   "cell_type": "code",
   "execution_count": 166,
   "id": "98c53f8c",
   "metadata": {},
   "outputs": [
    {
     "data": {
      "text/plain": [
       "dtype('int64')"
      ]
     },
     "execution_count": 166,
     "metadata": {},
     "output_type": "execute_result"
    }
   ],
   "source": [
    "d18.fips = d18['fips'].astype(int) #s\n",
    "\n",
    "d18.fips.dtype"
   ]
  },
  {
   "cell_type": "code",
   "execution_count": 167,
   "id": "221d9289",
   "metadata": {},
   "outputs": [
    {
     "data": {
      "text/plain": [
       "count    3141.000000\n",
       "mean        8.724292\n",
       "std         1.794746\n",
       "min         3.800000\n",
       "25%         7.400000\n",
       "50%         8.400000\n",
       "75%         9.700000\n",
       "max        17.900000\n",
       "Name: pct_diabetes18, dtype: float64"
      ]
     },
     "execution_count": 167,
     "metadata": {},
     "output_type": "execute_result"
    }
   ],
   "source": [
    "d18.pct_diabetes18.describe() #shows a statistical summary for the % diabetes value"
   ]
  },
  {
   "cell_type": "markdown",
   "id": "54bc6e98",
   "metadata": {},
   "source": [
    "No issues are apparent in this column.\n",
    "\n",
    "The cleaned dataframe will be saved as a csv file."
   ]
  },
  {
   "cell_type": "code",
   "execution_count": 168,
   "id": "796f4f1d",
   "metadata": {},
   "outputs": [],
   "source": [
    "d18.to_csv('../data/DiabetesAtlasData_CLEAN.csv', index = False) #saves clean dataframe to a new csv"
   ]
  },
  {
   "cell_type": "markdown",
   "id": "1b9ebe72",
   "metadata": {},
   "source": [
    "## Additional Data - Mental Health Providers"
   ]
  },
  {
   "cell_type": "markdown",
   "id": "7e7be9ae",
   "metadata": {},
   "source": [
    "This dataset contains state-level information regarding mental health (rankings, and the number of mental health providers per 100,000 population.)\n",
    "\n",
    "If there are no issues, I will add this information into the Health dataset for use in modeling."
   ]
  },
  {
   "cell_type": "code",
   "execution_count": 169,
   "id": "3ef11d40",
   "metadata": {},
   "outputs": [],
   "source": [
    "file_path = '../data/state_mh_providers.csv'\n",
    "\n",
    "mhp = pd.read_csv(file_path)"
   ]
  },
  {
   "cell_type": "code",
   "execution_count": 170,
   "id": "59b3f36d",
   "metadata": {},
   "outputs": [
    {
     "data": {
      "text/html": [
       "<div>\n",
       "<style scoped>\n",
       "    .dataframe tbody tr th:only-of-type {\n",
       "        vertical-align: middle;\n",
       "    }\n",
       "\n",
       "    .dataframe tbody tr th {\n",
       "        vertical-align: top;\n",
       "    }\n",
       "\n",
       "    .dataframe thead th {\n",
       "        text-align: right;\n",
       "    }\n",
       "</style>\n",
       "<table border=\"1\" class=\"dataframe\">\n",
       "  <thead>\n",
       "    <tr style=\"text-align: right;\">\n",
       "      <th></th>\n",
       "      <th>state</th>\n",
       "      <th>rank18</th>\n",
       "      <th>per100th18</th>\n",
       "      <th>rank17</th>\n",
       "      <th>per100th17</th>\n",
       "    </tr>\n",
       "  </thead>\n",
       "  <tbody>\n",
       "    <tr>\n",
       "      <th>0</th>\n",
       "      <td>Alabama</td>\n",
       "      <td>50</td>\n",
       "      <td>92.6</td>\n",
       "      <td>50</td>\n",
       "      <td>85.0</td>\n",
       "    </tr>\n",
       "    <tr>\n",
       "      <th>1</th>\n",
       "      <td>Alaska</td>\n",
       "      <td>7</td>\n",
       "      <td>391.2</td>\n",
       "      <td>8</td>\n",
       "      <td>364.2</td>\n",
       "    </tr>\n",
       "    <tr>\n",
       "      <th>2</th>\n",
       "      <td>Arizona</td>\n",
       "      <td>47</td>\n",
       "      <td>129.3</td>\n",
       "      <td>47</td>\n",
       "      <td>121.9</td>\n",
       "    </tr>\n",
       "    <tr>\n",
       "      <th>3</th>\n",
       "      <td>Arkansas</td>\n",
       "      <td>27</td>\n",
       "      <td>226.0</td>\n",
       "      <td>26</td>\n",
       "      <td>213.3</td>\n",
       "    </tr>\n",
       "    <tr>\n",
       "      <th>4</th>\n",
       "      <td>California</td>\n",
       "      <td>11</td>\n",
       "      <td>338.0</td>\n",
       "      <td>10</td>\n",
       "      <td>315.5</td>\n",
       "    </tr>\n",
       "  </tbody>\n",
       "</table>\n",
       "</div>"
      ],
      "text/plain": [
       "        state rank18  per100th18 rank17  per100th17\n",
       "0     Alabama     50        92.6     50        85.0\n",
       "1      Alaska      7       391.2      8       364.2\n",
       "2     Arizona     47       129.3     47       121.9\n",
       "3    Arkansas     27       226.0     26       213.3\n",
       "4  California     11       338.0     10       315.5"
      ]
     },
     "execution_count": 170,
     "metadata": {},
     "output_type": "execute_result"
    }
   ],
   "source": [
    "mhp.head()"
   ]
  },
  {
   "cell_type": "code",
   "execution_count": 171,
   "id": "3b86137e",
   "metadata": {},
   "outputs": [
    {
     "data": {
      "text/plain": [
       "(51, 5)"
      ]
     },
     "execution_count": 171,
     "metadata": {},
     "output_type": "execute_result"
    }
   ],
   "source": [
    "mhp.shape"
   ]
  },
  {
   "cell_type": "code",
   "execution_count": 172,
   "id": "edc42ae5",
   "metadata": {},
   "outputs": [
    {
     "data": {
      "text/plain": [
       "state         0\n",
       "rank18        0\n",
       "per100th18    0\n",
       "rank17        0\n",
       "per100th17    0\n",
       "dtype: int64"
      ]
     },
     "execution_count": 172,
     "metadata": {},
     "output_type": "execute_result"
    }
   ],
   "source": [
    "mhp.isnull().sum()"
   ]
  },
  {
   "cell_type": "markdown",
   "id": "2ef39940",
   "metadata": {},
   "source": [
    "There are the number of expected states, and no null values."
   ]
  },
  {
   "cell_type": "code",
   "execution_count": 173,
   "id": "b5c6d73b",
   "metadata": {},
   "outputs": [
    {
     "data": {
      "text/plain": [
       "state          object\n",
       "rank18         object\n",
       "per100th18    float64\n",
       "rank17         object\n",
       "per100th17    float64\n",
       "dtype: object"
      ]
     },
     "execution_count": 173,
     "metadata": {},
     "output_type": "execute_result"
    }
   ],
   "source": [
    "mhp.dtypes"
   ]
  },
  {
   "cell_type": "markdown",
   "id": "f06546ce",
   "metadata": {},
   "source": [
    "The state column should be an object, however the rank columns should be integers. I will look more closely."
   ]
  },
  {
   "cell_type": "code",
   "execution_count": 174,
   "id": "6cc927a0",
   "metadata": {},
   "outputs": [
    {
     "data": {
      "text/plain": [
       "array(['50', '8', '47', '26', '10', '11', '9', '19', '•', '41', '46',\n",
       "       '22', '29', '28', '42', '44', '34', '27', '18', '3', '23', '1',\n",
       "       '20', '25', '45', '36', '16', '21', '30', '15', '31', '7', '17',\n",
       "       '24', '37', '32', '5', '2', '33', '6', '39', '38', '43', '49',\n",
       "       '14', '4', '40', '13', '48', '35', '12'], dtype=object)"
      ]
     },
     "execution_count": 174,
     "metadata": {},
     "output_type": "execute_result"
    }
   ],
   "source": [
    "mhp.rank17.unique()"
   ]
  },
  {
   "cell_type": "code",
   "execution_count": 175,
   "id": "63913c19",
   "metadata": {},
   "outputs": [
    {
     "data": {
      "text/plain": [
       "array(['50', '7', '47', '27', '11', '10', '9', '20', '•', '41', '46',\n",
       "       '22', '32', '28', '42', '43', '35', '29', '18', '3', '24', '1',\n",
       "       '19', '23', '44', '36', '16', '21', '31', '15', '30', '8', '17',\n",
       "       '25', '37', '26', '6', '2', '33', '5', '39', '38', '45', '49',\n",
       "       '14', '4', '40', '12', '48', '34', '13'], dtype=object)"
      ]
     },
     "execution_count": 175,
     "metadata": {},
     "output_type": "execute_result"
    }
   ],
   "source": [
    "mhp.rank18.unique()"
   ]
  },
  {
   "cell_type": "markdown",
   "id": "50bc5de8",
   "metadata": {},
   "source": [
    "There is a dot value in the rank columns. By observation of the tables online, I do recall that this was used as a placeholder for the District of Columbia, which was not assigned a rank.\n",
    "\n",
    "I will need to assign it one, as I do plan to use the rank columns to see if they are predictive of diabetes."
   ]
  },
  {
   "cell_type": "markdown",
   "id": "04deffd0",
   "metadata": {},
   "source": [
    "During the first phase of EDA, in which I will use SQL, I will order the per100th columns to see where DC fits in, and adjust the ranks accordingly. "
   ]
  },
  {
   "cell_type": "code",
   "execution_count": 176,
   "id": "df38c113",
   "metadata": {},
   "outputs": [
    {
     "data": {
      "text/html": [
       "<div>\n",
       "<style scoped>\n",
       "    .dataframe tbody tr th:only-of-type {\n",
       "        vertical-align: middle;\n",
       "    }\n",
       "\n",
       "    .dataframe tbody tr th {\n",
       "        vertical-align: top;\n",
       "    }\n",
       "\n",
       "    .dataframe thead th {\n",
       "        text-align: right;\n",
       "    }\n",
       "</style>\n",
       "<table border=\"1\" class=\"dataframe\">\n",
       "  <thead>\n",
       "    <tr style=\"text-align: right;\">\n",
       "      <th></th>\n",
       "      <th>per100th18</th>\n",
       "      <th>per100th17</th>\n",
       "    </tr>\n",
       "  </thead>\n",
       "  <tbody>\n",
       "    <tr>\n",
       "      <th>count</th>\n",
       "      <td>51.000000</td>\n",
       "      <td>51.000000</td>\n",
       "    </tr>\n",
       "    <tr>\n",
       "      <th>mean</th>\n",
       "      <td>257.519608</td>\n",
       "      <td>240.937255</td>\n",
       "    </tr>\n",
       "    <tr>\n",
       "      <th>std</th>\n",
       "      <td>112.301669</td>\n",
       "      <td>106.857724</td>\n",
       "    </tr>\n",
       "    <tr>\n",
       "      <th>min</th>\n",
       "      <td>92.600000</td>\n",
       "      <td>85.000000</td>\n",
       "    </tr>\n",
       "    <tr>\n",
       "      <th>25%</th>\n",
       "      <td>174.550000</td>\n",
       "      <td>163.800000</td>\n",
       "    </tr>\n",
       "    <tr>\n",
       "      <th>50%</th>\n",
       "      <td>233.700000</td>\n",
       "      <td>216.800000</td>\n",
       "    </tr>\n",
       "    <tr>\n",
       "      <th>75%</th>\n",
       "      <td>332.350000</td>\n",
       "      <td>309.350000</td>\n",
       "    </tr>\n",
       "    <tr>\n",
       "      <th>max</th>\n",
       "      <td>590.900000</td>\n",
       "      <td>547.300000</td>\n",
       "    </tr>\n",
       "  </tbody>\n",
       "</table>\n",
       "</div>"
      ],
      "text/plain": [
       "       per100th18  per100th17\n",
       "count   51.000000   51.000000\n",
       "mean   257.519608  240.937255\n",
       "std    112.301669  106.857724\n",
       "min     92.600000   85.000000\n",
       "25%    174.550000  163.800000\n",
       "50%    233.700000  216.800000\n",
       "75%    332.350000  309.350000\n",
       "max    590.900000  547.300000"
      ]
     },
     "execution_count": 176,
     "metadata": {},
     "output_type": "execute_result"
    }
   ],
   "source": [
    "mhp.describe()"
   ]
  },
  {
   "cell_type": "markdown",
   "id": "c5a55b55",
   "metadata": {},
   "source": [
    "I see no additional issues. No changes were made, and I will leave the csv as-is."
   ]
  },
  {
   "cell_type": "markdown",
   "id": "b2dc7f86",
   "metadata": {},
   "source": [
    "## Additional Data - Received Mental Health Services in the Past Year- by Age Group & State"
   ]
  },
  {
   "cell_type": "markdown",
   "id": "597cd5e0",
   "metadata": {},
   "source": [
    "As I described the README, I found this information in a table, which I then transferred into a spreadsheet and downloaded as a CSV. Before creating the CSV, however, I completed some of the cleaning in google sheets for ease of processing. (The original information is present and able to be viewed as a csv in the data folder if needed.)\n",
    "\n",
    "First, I removed the Cl upper/lower limit columns. I renamed the remaining columns for ease of use. Next, I removed the \"total U.S.\" row, along with the regional rows (northeast, midwest, e.t.c.) so that only the states remain. I then removed the \"order\" column, which was the index. Afterward, I changed the format to \"number.\"\n",
    "\n",
    "All that should need to be done here is to multiply the numerical columns by 100 in order to match the scale of the  percent values in the Food Environment Atlas."
   ]
  },
  {
   "cell_type": "code",
   "execution_count": 177,
   "id": "260e09c7",
   "metadata": {},
   "outputs": [],
   "source": [
    "file_path = '../data/NSDUH_RcvdMHServes2016.csv'\n",
    "\n",
    "mhs = pd.read_csv(file_path)"
   ]
  },
  {
   "cell_type": "code",
   "execution_count": 178,
   "id": "9f12ff7f",
   "metadata": {},
   "outputs": [
    {
     "data": {
      "text/html": [
       "<div>\n",
       "<style scoped>\n",
       "    .dataframe tbody tr th:only-of-type {\n",
       "        vertical-align: middle;\n",
       "    }\n",
       "\n",
       "    .dataframe tbody tr th {\n",
       "        vertical-align: top;\n",
       "    }\n",
       "\n",
       "    .dataframe thead th {\n",
       "        text-align: right;\n",
       "    }\n",
       "</style>\n",
       "<table border=\"1\" class=\"dataframe\">\n",
       "  <thead>\n",
       "    <tr style=\"text-align: right;\">\n",
       "      <th></th>\n",
       "      <th>state</th>\n",
       "      <th>18plus</th>\n",
       "      <th>18_25</th>\n",
       "      <th>26plus</th>\n",
       "    </tr>\n",
       "  </thead>\n",
       "  <tbody>\n",
       "    <tr>\n",
       "      <th>0</th>\n",
       "      <td>Alabama</td>\n",
       "      <td>0.13</td>\n",
       "      <td>0.11</td>\n",
       "      <td>0.13</td>\n",
       "    </tr>\n",
       "    <tr>\n",
       "      <th>1</th>\n",
       "      <td>Alaska</td>\n",
       "      <td>0.14</td>\n",
       "      <td>0.13</td>\n",
       "      <td>0.14</td>\n",
       "    </tr>\n",
       "    <tr>\n",
       "      <th>2</th>\n",
       "      <td>Arizona</td>\n",
       "      <td>0.12</td>\n",
       "      <td>0.10</td>\n",
       "      <td>0.12</td>\n",
       "    </tr>\n",
       "    <tr>\n",
       "      <th>3</th>\n",
       "      <td>Arkansas</td>\n",
       "      <td>0.16</td>\n",
       "      <td>0.13</td>\n",
       "      <td>0.16</td>\n",
       "    </tr>\n",
       "    <tr>\n",
       "      <th>4</th>\n",
       "      <td>California</td>\n",
       "      <td>0.12</td>\n",
       "      <td>0.10</td>\n",
       "      <td>0.12</td>\n",
       "    </tr>\n",
       "  </tbody>\n",
       "</table>\n",
       "</div>"
      ],
      "text/plain": [
       "        state  18plus  18_25  26plus\n",
       "0     Alabama    0.13   0.11    0.13\n",
       "1      Alaska    0.14   0.13    0.14\n",
       "2     Arizona    0.12   0.10    0.12\n",
       "3    Arkansas    0.16   0.13    0.16\n",
       "4  California    0.12   0.10    0.12"
      ]
     },
     "execution_count": 178,
     "metadata": {},
     "output_type": "execute_result"
    }
   ],
   "source": [
    "mhs.head() #shows top 5 rows of dataframe"
   ]
  },
  {
   "cell_type": "code",
   "execution_count": 179,
   "id": "ec0486d3",
   "metadata": {},
   "outputs": [
    {
     "data": {
      "text/plain": [
       "(51, 4)"
      ]
     },
     "execution_count": 179,
     "metadata": {},
     "output_type": "execute_result"
    }
   ],
   "source": [
    "mhs.shape #shows layout of the dataframe"
   ]
  },
  {
   "cell_type": "code",
   "execution_count": 180,
   "id": "1b0fc6e0",
   "metadata": {},
   "outputs": [
    {
     "data": {
      "text/plain": [
       "state     0\n",
       "18plus    0\n",
       "18_25     0\n",
       "26plus    0\n",
       "dtype: int64"
      ]
     },
     "execution_count": 180,
     "metadata": {},
     "output_type": "execute_result"
    }
   ],
   "source": [
    "mhs.isnull().sum() #shows number of missing values per column"
   ]
  },
  {
   "cell_type": "markdown",
   "id": "5f1c316c",
   "metadata": {},
   "source": [
    "I will now remove multiply the numerical columns by 100 so that they match the Food Environment Atlas percentages."
   ]
  },
  {
   "cell_type": "code",
   "execution_count": 181,
   "id": "51061bec",
   "metadata": {},
   "outputs": [
    {
     "data": {
      "text/html": [
       "<div>\n",
       "<style scoped>\n",
       "    .dataframe tbody tr th:only-of-type {\n",
       "        vertical-align: middle;\n",
       "    }\n",
       "\n",
       "    .dataframe tbody tr th {\n",
       "        vertical-align: top;\n",
       "    }\n",
       "\n",
       "    .dataframe thead th {\n",
       "        text-align: right;\n",
       "    }\n",
       "</style>\n",
       "<table border=\"1\" class=\"dataframe\">\n",
       "  <thead>\n",
       "    <tr style=\"text-align: right;\">\n",
       "      <th></th>\n",
       "      <th>state</th>\n",
       "      <th>18plus</th>\n",
       "      <th>18_25</th>\n",
       "      <th>26plus</th>\n",
       "    </tr>\n",
       "  </thead>\n",
       "  <tbody>\n",
       "    <tr>\n",
       "      <th>0</th>\n",
       "      <td>Alabama</td>\n",
       "      <td>13.0</td>\n",
       "      <td>11.0</td>\n",
       "      <td>13.0</td>\n",
       "    </tr>\n",
       "    <tr>\n",
       "      <th>1</th>\n",
       "      <td>Alaska</td>\n",
       "      <td>14.0</td>\n",
       "      <td>13.0</td>\n",
       "      <td>14.0</td>\n",
       "    </tr>\n",
       "    <tr>\n",
       "      <th>2</th>\n",
       "      <td>Arizona</td>\n",
       "      <td>12.0</td>\n",
       "      <td>10.0</td>\n",
       "      <td>12.0</td>\n",
       "    </tr>\n",
       "    <tr>\n",
       "      <th>3</th>\n",
       "      <td>Arkansas</td>\n",
       "      <td>16.0</td>\n",
       "      <td>13.0</td>\n",
       "      <td>16.0</td>\n",
       "    </tr>\n",
       "    <tr>\n",
       "      <th>4</th>\n",
       "      <td>California</td>\n",
       "      <td>12.0</td>\n",
       "      <td>10.0</td>\n",
       "      <td>12.0</td>\n",
       "    </tr>\n",
       "  </tbody>\n",
       "</table>\n",
       "</div>"
      ],
      "text/plain": [
       "        state  18plus  18_25  26plus\n",
       "0     Alabama    13.0   11.0    13.0\n",
       "1      Alaska    14.0   13.0    14.0\n",
       "2     Arizona    12.0   10.0    12.0\n",
       "3    Arkansas    16.0   13.0    16.0\n",
       "4  California    12.0   10.0    12.0"
      ]
     },
     "execution_count": 181,
     "metadata": {},
     "output_type": "execute_result"
    }
   ],
   "source": [
    "mhs['18plus'] = mhs['18plus'] * 100\n",
    "\n",
    "mhs['18_25'] = mhs['18_25'] * 100\n",
    "\n",
    "mhs['26plus'] = mhs['26plus'] * 100\n",
    "\n",
    "mhs.head()"
   ]
  },
  {
   "cell_type": "code",
   "execution_count": 182,
   "id": "bb40be88",
   "metadata": {},
   "outputs": [
    {
     "data": {
      "text/plain": [
       "state      object\n",
       "18plus    float64\n",
       "18_25     float64\n",
       "26plus    float64\n",
       "dtype: object"
      ]
     },
     "execution_count": 182,
     "metadata": {},
     "output_type": "execute_result"
    }
   ],
   "source": [
    "mhs.dtypes"
   ]
  },
  {
   "cell_type": "markdown",
   "id": "a7597c29",
   "metadata": {},
   "source": [
    "I am remembering now that I cannot enter column names that begin with a number into SQL. I will need to edit the names of the numerical columns."
   ]
  },
  {
   "cell_type": "code",
   "execution_count": 183,
   "id": "308e6801",
   "metadata": {},
   "outputs": [
    {
     "data": {
      "text/plain": [
       "Index(['state', 'age18plus', 'age18_25', 'age26plus'], dtype='object')"
      ]
     },
     "execution_count": 183,
     "metadata": {},
     "output_type": "execute_result"
    }
   ],
   "source": [
    "mhs.rename({'18plus': 'age18plus', '18_25': 'age18_25', '26plus': 'age26plus'}, axis=1, inplace = True)\n",
    "\n",
    "mhs.columns"
   ]
  },
  {
   "cell_type": "markdown",
   "id": "293766bd",
   "metadata": {},
   "source": [
    "The data cleaning is complete. I will save this into a new csv."
   ]
  },
  {
   "cell_type": "code",
   "execution_count": 184,
   "id": "7f0ef6cc",
   "metadata": {},
   "outputs": [],
   "source": [
    "mhs.to_csv('../data/NSDUH_RcvdMHServes2016_CLEAN.csv', index=False)"
   ]
  },
  {
   "cell_type": "markdown",
   "id": "a9fe18bc",
   "metadata": {},
   "source": [
    "## Discussion"
   ]
  },
  {
   "cell_type": "markdown",
   "id": "47a37b57",
   "metadata": {},
   "source": [
    "As mentioned in the Food Environmental Atlas README, there are more than 280 variables in the original dataset. I removed a number of these during preliminary analysis and cleaning. I anticipate that I will remove more before modeling begins. \n",
    "\n",
    "Additionally, I did not observe any -9999 values, but there are missing values in some of the columns. Before I decide on what to impute or remove, I will perform additional EDA. This will be performed beginning in the next notebook, using SQL."
   ]
  }
 ],
 "metadata": {
  "kernelspec": {
   "display_name": "Python 3 (ipykernel)",
   "language": "python",
   "name": "python3"
  },
  "language_info": {
   "codemirror_mode": {
    "name": "ipython",
    "version": 3
   },
   "file_extension": ".py",
   "mimetype": "text/x-python",
   "name": "python",
   "nbconvert_exporter": "python",
   "pygments_lexer": "ipython3",
   "version": "3.9.13"
  }
 },
 "nbformat": 4,
 "nbformat_minor": 5
}
