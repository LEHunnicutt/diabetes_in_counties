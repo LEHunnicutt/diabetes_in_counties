{
 "cells": [
  {
   "cell_type": "markdown",
   "id": "e688f02f",
   "metadata": {},
   "source": [
    "# Capstone Project - 03 - Feature Modification, Selection & Engineering"
   ]
  },
  {
   "cell_type": "markdown",
   "id": "1e3b111f",
   "metadata": {},
   "source": [
    "## Introduction"
   ]
  },
  {
   "cell_type": "markdown",
   "id": "e0fb2180",
   "metadata": {},
   "source": [
    "In this notebook, I make adjustments to the features in preparation for modeling. Following the EDA, I have an idea of which features will be most predictive. I must first face some of the issues such as null values, and the mismatch between counties in the Food Environment Atlas and those in the Diabetes Atlas. Additionally in this notebook, I add the mental health information into the Health dataset; I also create classes for the target diabetes values, and add the target values into all datasets for modeling."
   ]
  },
  {
   "cell_type": "markdown",
   "id": "4fadf7d4",
   "metadata": {},
   "source": [
    "## Data Import"
   ]
  },
  {
   "cell_type": "code",
   "execution_count": 302,
   "id": "8029fe0a",
   "metadata": {},
   "outputs": [],
   "source": [
    "import pandas as pd\n",
    "import numpy as np"
   ]
  },
  {
   "cell_type": "code",
   "execution_count": 303,
   "id": "b79965b0",
   "metadata": {},
   "outputs": [],
   "source": [
    "#imports data\n",
    "\n",
    "file_path = '../data/DiabetesAtlasData_CLEAN.csv'\n",
    "\n",
    "d18 = pd.read_csv(file_path)"
   ]
  },
  {
   "cell_type": "code",
   "execution_count": 304,
   "id": "36775db3",
   "metadata": {},
   "outputs": [],
   "source": [
    "#imports data\n",
    "\n",
    "file_path = '../data/FoodEnvironmentAtlas.xls.HEALTH_CLEAN.csv'\n",
    "\n",
    "health = pd.read_csv(file_path)"
   ]
  },
  {
   "cell_type": "markdown",
   "id": "6fa66a26",
   "metadata": {},
   "source": [
    "## Reconciling Differences between Food Environment Atlas & Diabetes Atlas Counties"
   ]
  },
  {
   "cell_type": "markdown",
   "id": "ef400fdc",
   "metadata": {},
   "source": [
    "Based on the results of EDA, the only columns that will be used in modeling are the recreation facility columns. These columns do not contain null values.\n",
    "\n",
    "However, I will need to add in the target values - those in the Diabetes Atlas 2018 dataset.\n",
    "\n",
    "First, I need to ensure that the counties match. This will be addressed below."
   ]
  },
  {
   "cell_type": "code",
   "execution_count": 305,
   "id": "ad19742c",
   "metadata": {},
   "outputs": [
    {
     "data": {
      "text/plain": [
       "fips                       0\n",
       "state                      0\n",
       "county                     0\n",
       "pct_diabetes_adults08      5\n",
       "pct_diabetes_adults13      1\n",
       "pct_obese_adults12         0\n",
       "pct_obese_adults17         0\n",
       "pct_hspa17               760\n",
       "recfac11                   0\n",
       "recfac16                   0\n",
       "pch_recfac_11_16         143\n",
       "recfacpth11                0\n",
       "recfacpth16                0\n",
       "pch_recfacpth_11_16      143\n",
       "dtype: int64"
      ]
     },
     "execution_count": 305,
     "metadata": {},
     "output_type": "execute_result"
    }
   ],
   "source": [
    "health.isnull().sum()"
   ]
  },
  {
   "cell_type": "code",
   "execution_count": 306,
   "id": "a4b44578",
   "metadata": {},
   "outputs": [
    {
     "data": {
      "text/plain": [
       "(3143, 14)"
      ]
     },
     "execution_count": 306,
     "metadata": {},
     "output_type": "execute_result"
    }
   ],
   "source": [
    "health.shape"
   ]
  },
  {
   "cell_type": "code",
   "execution_count": 307,
   "id": "01fee65c",
   "metadata": {},
   "outputs": [
    {
     "data": {
      "text/plain": [
       "fips              0\n",
       "county            0\n",
       "state             0\n",
       "pct_diabetes18    0\n",
       "dtype: int64"
      ]
     },
     "execution_count": 307,
     "metadata": {},
     "output_type": "execute_result"
    }
   ],
   "source": [
    "d18.isnull().sum()"
   ]
  },
  {
   "cell_type": "code",
   "execution_count": 308,
   "id": "96e6f501",
   "metadata": {},
   "outputs": [
    {
     "data": {
      "text/plain": [
       "(3141, 4)"
      ]
     },
     "execution_count": 308,
     "metadata": {},
     "output_type": "execute_result"
    }
   ],
   "source": [
    "d18.shape"
   ]
  },
  {
   "cell_type": "markdown",
   "id": "e1d27ea3",
   "metadata": {},
   "source": [
    "Ultimately, it will not be possible to predict prevalence of diabetes for any counties that are not within the Food Environmental Atlas. \n",
    "\n",
    "I will begin by confirming which (2) counties are in the Diabetes Atlas, but not the Food Environmental Atlas:\n",
    "\n",
    "46102 South Dakota    Oglala Lakota \n",
    "\n",
    "2158  Alaska          Kusilvak Census Area\n"
   ]
  },
  {
   "cell_type": "markdown",
   "id": "3dd01a0e",
   "metadata": {},
   "source": [
    "##### Ogala Lakota County, SD"
   ]
  },
  {
   "cell_type": "code",
   "execution_count": 309,
   "id": "80704879",
   "metadata": {},
   "outputs": [
    {
     "data": {
      "text/html": [
       "<div>\n",
       "<style scoped>\n",
       "    .dataframe tbody tr th:only-of-type {\n",
       "        vertical-align: middle;\n",
       "    }\n",
       "\n",
       "    .dataframe tbody tr th {\n",
       "        vertical-align: top;\n",
       "    }\n",
       "\n",
       "    .dataframe thead th {\n",
       "        text-align: right;\n",
       "    }\n",
       "</style>\n",
       "<table border=\"1\" class=\"dataframe\">\n",
       "  <thead>\n",
       "    <tr style=\"text-align: right;\">\n",
       "      <th></th>\n",
       "      <th>fips</th>\n",
       "      <th>county</th>\n",
       "      <th>state</th>\n",
       "      <th>pct_diabetes18</th>\n",
       "    </tr>\n",
       "  </thead>\n",
       "  <tbody>\n",
       "    <tr>\n",
       "      <th>2411</th>\n",
       "      <td>46102</td>\n",
       "      <td>Oglala Lakota</td>\n",
       "      <td>South Dakota</td>\n",
       "      <td>17.9</td>\n",
       "    </tr>\n",
       "  </tbody>\n",
       "</table>\n",
       "</div>"
      ],
      "text/plain": [
       "       fips         county         state  pct_diabetes18\n",
       "2411  46102  Oglala Lakota  South Dakota            17.9"
      ]
     },
     "execution_count": 309,
     "metadata": {},
     "output_type": "execute_result"
    }
   ],
   "source": [
    "d18.loc[d18['fips'] == 46102]"
   ]
  },
  {
   "cell_type": "markdown",
   "id": "3ed3fac8",
   "metadata": {},
   "source": [
    "This county does appear in the Diabetes Atlas."
   ]
  },
  {
   "cell_type": "code",
   "execution_count": 310,
   "id": "f2e7ba27",
   "metadata": {},
   "outputs": [
    {
     "data": {
      "text/html": [
       "<div>\n",
       "<style scoped>\n",
       "    .dataframe tbody tr th:only-of-type {\n",
       "        vertical-align: middle;\n",
       "    }\n",
       "\n",
       "    .dataframe tbody tr th {\n",
       "        vertical-align: top;\n",
       "    }\n",
       "\n",
       "    .dataframe thead th {\n",
       "        text-align: right;\n",
       "    }\n",
       "</style>\n",
       "<table border=\"1\" class=\"dataframe\">\n",
       "  <thead>\n",
       "    <tr style=\"text-align: right;\">\n",
       "      <th></th>\n",
       "      <th>fips</th>\n",
       "      <th>state</th>\n",
       "      <th>county</th>\n",
       "      <th>pct_diabetes_adults08</th>\n",
       "      <th>pct_diabetes_adults13</th>\n",
       "      <th>pct_obese_adults12</th>\n",
       "      <th>pct_obese_adults17</th>\n",
       "      <th>pct_hspa17</th>\n",
       "      <th>recfac11</th>\n",
       "      <th>recfac16</th>\n",
       "      <th>pch_recfac_11_16</th>\n",
       "      <th>recfacpth11</th>\n",
       "      <th>recfacpth16</th>\n",
       "      <th>pch_recfacpth_11_16</th>\n",
       "    </tr>\n",
       "  </thead>\n",
       "  <tbody>\n",
       "  </tbody>\n",
       "</table>\n",
       "</div>"
      ],
      "text/plain": [
       "Empty DataFrame\n",
       "Columns: [fips, state, county, pct_diabetes_adults08, pct_diabetes_adults13, pct_obese_adults12, pct_obese_adults17, pct_hspa17, recfac11, recfac16, pch_recfac_11_16, recfacpth11, recfacpth16, pch_recfacpth_11_16]\n",
       "Index: []"
      ]
     },
     "execution_count": 310,
     "metadata": {},
     "output_type": "execute_result"
    }
   ],
   "source": [
    "health.loc[health['fips'] == 46102]"
   ]
  },
  {
   "cell_type": "markdown",
   "id": "2db5f1b3",
   "metadata": {},
   "source": [
    "It appears that this fips code is not within the Food Environment Atlas.\n",
    "\n",
    "I will search more closely to confirm..."
   ]
  },
  {
   "cell_type": "code",
   "execution_count": 311,
   "id": "9d46318b",
   "metadata": {},
   "outputs": [
    {
     "data": {
      "text/html": [
       "<div>\n",
       "<style scoped>\n",
       "    .dataframe tbody tr th:only-of-type {\n",
       "        vertical-align: middle;\n",
       "    }\n",
       "\n",
       "    .dataframe tbody tr th {\n",
       "        vertical-align: top;\n",
       "    }\n",
       "\n",
       "    .dataframe thead th {\n",
       "        text-align: right;\n",
       "    }\n",
       "</style>\n",
       "<table border=\"1\" class=\"dataframe\">\n",
       "  <thead>\n",
       "    <tr style=\"text-align: right;\">\n",
       "      <th></th>\n",
       "      <th>fips</th>\n",
       "      <th>state</th>\n",
       "      <th>county</th>\n",
       "      <th>pct_diabetes_adults08</th>\n",
       "      <th>pct_diabetes_adults13</th>\n",
       "      <th>pct_obese_adults12</th>\n",
       "      <th>pct_obese_adults17</th>\n",
       "      <th>pct_hspa17</th>\n",
       "      <th>recfac11</th>\n",
       "      <th>recfac16</th>\n",
       "      <th>pch_recfac_11_16</th>\n",
       "      <th>recfacpth11</th>\n",
       "      <th>recfacpth16</th>\n",
       "      <th>pch_recfacpth_11_16</th>\n",
       "    </tr>\n",
       "  </thead>\n",
       "  <tbody>\n",
       "    <tr>\n",
       "      <th>2411</th>\n",
       "      <td>46101</td>\n",
       "      <td>SD</td>\n",
       "      <td>Moody</td>\n",
       "      <td>8.3</td>\n",
       "      <td>11.0</td>\n",
       "      <td>28.1</td>\n",
       "      <td>31.9</td>\n",
       "      <td>NaN</td>\n",
       "      <td>0</td>\n",
       "      <td>0</td>\n",
       "      <td>0.0</td>\n",
       "      <td>0.0</td>\n",
       "      <td>0.0</td>\n",
       "      <td>0.0</td>\n",
       "    </tr>\n",
       "  </tbody>\n",
       "</table>\n",
       "</div>"
      ],
      "text/plain": [
       "       fips state county  pct_diabetes_adults08  pct_diabetes_adults13  \\\n",
       "2411  46101    SD  Moody                    8.3                   11.0   \n",
       "\n",
       "      pct_obese_adults12  pct_obese_adults17  pct_hspa17  recfac11  recfac16  \\\n",
       "2411                28.1                31.9         NaN         0         0   \n",
       "\n",
       "      pch_recfac_11_16  recfacpth11  recfacpth16  pch_recfacpth_11_16  \n",
       "2411               0.0          0.0          0.0                  0.0  "
      ]
     },
     "execution_count": 311,
     "metadata": {},
     "output_type": "execute_result"
    }
   ],
   "source": [
    "health.loc[health['fips'] == 46101]"
   ]
  },
  {
   "cell_type": "markdown",
   "id": "a2165edc",
   "metadata": {},
   "source": [
    "FIPS Id 46101 is within the dataset, and it is in South Dakota, just as our first county of interest, Ogala Lakota.\n",
    "\n",
    "The index number of FIPS 46101 is 2411. Because the FIPS id's occur in ascending order, Ogala Lakota should be at index 2412. I will check to see what is there."
   ]
  },
  {
   "cell_type": "code",
   "execution_count": 312,
   "id": "3253151b",
   "metadata": {},
   "outputs": [
    {
     "data": {
      "text/plain": [
       "fips                          46103\n",
       "state                            SD\n",
       "county                   Pennington\n",
       "pct_diabetes_adults08           7.5\n",
       "pct_diabetes_adults13           8.4\n",
       "pct_obese_adults12             28.1\n",
       "pct_obese_adults17             31.9\n",
       "pct_hspa17                      NaN\n",
       "recfac11                         14\n",
       "recfac16                         16\n",
       "pch_recfac_11_16          14.285714\n",
       "recfacpth11                0.136743\n",
       "recfacpth16                 0.14692\n",
       "pch_recfacpth_11_16        7.442403\n",
       "Name: 2412, dtype: object"
      ]
     },
     "execution_count": 312,
     "metadata": {},
     "output_type": "execute_result"
    }
   ],
   "source": [
    "health.iloc[2412]"
   ]
  },
  {
   "cell_type": "markdown",
   "id": "a1296f36",
   "metadata": {},
   "source": [
    "It appears that FIPS 46102 was skipped, and FIPS 46103, Pennington South Dakota is there instead.\n",
    "\n",
    "In order to determine what may have happened here, I went to the following website: https://oglalalakota.sdcounties.org/.\n",
    "\n",
    "Among other things, I learned that Okala Lagota was previously called Shannon County, and was re-named in May 2015.\n",
    "\n",
    "The absence of Shannon County, SD in the 2018 Diabetes Atlas was noticed during previous EDA. I will look more closely..."
   ]
  },
  {
   "cell_type": "code",
   "execution_count": 313,
   "id": "fd04443f",
   "metadata": {},
   "outputs": [
    {
     "data": {
      "text/html": [
       "<div>\n",
       "<style scoped>\n",
       "    .dataframe tbody tr th:only-of-type {\n",
       "        vertical-align: middle;\n",
       "    }\n",
       "\n",
       "    .dataframe tbody tr th {\n",
       "        vertical-align: top;\n",
       "    }\n",
       "\n",
       "    .dataframe thead th {\n",
       "        text-align: right;\n",
       "    }\n",
       "</style>\n",
       "<table border=\"1\" class=\"dataframe\">\n",
       "  <thead>\n",
       "    <tr style=\"text-align: right;\">\n",
       "      <th></th>\n",
       "      <th>fips</th>\n",
       "      <th>state</th>\n",
       "      <th>county</th>\n",
       "      <th>pct_diabetes_adults08</th>\n",
       "      <th>pct_diabetes_adults13</th>\n",
       "      <th>pct_obese_adults12</th>\n",
       "      <th>pct_obese_adults17</th>\n",
       "      <th>pct_hspa17</th>\n",
       "      <th>recfac11</th>\n",
       "      <th>recfac16</th>\n",
       "      <th>pch_recfac_11_16</th>\n",
       "      <th>recfacpth11</th>\n",
       "      <th>recfacpth16</th>\n",
       "      <th>pch_recfacpth_11_16</th>\n",
       "    </tr>\n",
       "  </thead>\n",
       "  <tbody>\n",
       "    <tr>\n",
       "      <th>2417</th>\n",
       "      <td>46113</td>\n",
       "      <td>SD</td>\n",
       "      <td>Shannon</td>\n",
       "      <td>12.4</td>\n",
       "      <td>15.8</td>\n",
       "      <td>28.1</td>\n",
       "      <td>31.9</td>\n",
       "      <td>NaN</td>\n",
       "      <td>0</td>\n",
       "      <td>0</td>\n",
       "      <td>0.0</td>\n",
       "      <td>0.0</td>\n",
       "      <td>0.0</td>\n",
       "      <td>0.0</td>\n",
       "    </tr>\n",
       "  </tbody>\n",
       "</table>\n",
       "</div>"
      ],
      "text/plain": [
       "       fips state   county  pct_diabetes_adults08  pct_diabetes_adults13  \\\n",
       "2417  46113    SD  Shannon                   12.4                   15.8   \n",
       "\n",
       "      pct_obese_adults12  pct_obese_adults17  pct_hspa17  recfac11  recfac16  \\\n",
       "2417                28.1                31.9         NaN         0         0   \n",
       "\n",
       "      pch_recfac_11_16  recfacpth11  recfacpth16  pch_recfacpth_11_16  \n",
       "2417               0.0          0.0          0.0                  0.0  "
      ]
     },
     "execution_count": 313,
     "metadata": {},
     "output_type": "execute_result"
    }
   ],
   "source": [
    "health.loc[(health['county'] == 'Shannon') & (health['state'] == 'SD')]"
   ]
  },
  {
   "cell_type": "markdown",
   "id": "b699f295",
   "metadata": {},
   "source": [
    "Shannon, SD is within the Food Environment Atlas under a different name. \n",
    "\n",
    "I confirmed on the National Association of Counties website: https://www.naco.org/articles/shannon-county-sd-be-renamed-oglala-lakota-county that this county was renamed to Ogala Lakota in 2015.\n",
    "\n",
    "Much of the data within the (most recent) Food Environment Atlas is from years prior to 2015, so the difference makes sense. \n",
    "\n",
    "Additionally, the fips codes appear to go in alphabetical order by state, so it is sensible that with a different name, the county would obtain a different fips code.\n",
    "\n",
    "The question now is how to reconcile this difference within the two datasets...\n",
    "\n",
    "According to the NACO website above, it meant a lot to the residents to rename the county. I will rename the county in the Food Environment Atlas to stay current and to respect their wishes."
   ]
  },
  {
   "cell_type": "markdown",
   "id": "417cd1e0",
   "metadata": {},
   "source": [
    "I will return to the spreadsheet versions of the Food Environment Atlas in order to create this change so that I can easily make this change in each dataset, while also easily correcting the index order."
   ]
  },
  {
   "cell_type": "markdown",
   "id": "a2123442",
   "metadata": {},
   "source": [
    "This has been completed. I will make any other revisions before displaying the results below.\n",
    "\n"
   ]
  },
  {
   "cell_type": "markdown",
   "id": "cad4a960",
   "metadata": {},
   "source": [
    "#####  Kusilvak Census Area, AK"
   ]
  },
  {
   "cell_type": "markdown",
   "id": "ef754b1a",
   "metadata": {},
   "source": [
    "I went on to a the Alaska page on the census.gov website, https://www.census.gov/geographies/reference-files/2010/geo/state-local-geo-guides-2010/alaska.html, which reports the following: \n",
    "\n",
    "\"Alaska has 11 statistical entities called “census areas.” Census areas are statistical areas established in cooperation with state government for reporting data in the portion of the state outside any borough.\"\n",
    "\n",
    "This may again be a case of counties/census areas that are simply named differently in the two sites.\n",
    "\n",
    "I will look more closely below."
   ]
  },
  {
   "cell_type": "code",
   "execution_count": 314,
   "id": "3bef1ddd",
   "metadata": {},
   "outputs": [
    {
     "data": {
      "text/html": [
       "<div>\n",
       "<style scoped>\n",
       "    .dataframe tbody tr th:only-of-type {\n",
       "        vertical-align: middle;\n",
       "    }\n",
       "\n",
       "    .dataframe tbody tr th {\n",
       "        vertical-align: top;\n",
       "    }\n",
       "\n",
       "    .dataframe thead th {\n",
       "        text-align: right;\n",
       "    }\n",
       "</style>\n",
       "<table border=\"1\" class=\"dataframe\">\n",
       "  <thead>\n",
       "    <tr style=\"text-align: right;\">\n",
       "      <th></th>\n",
       "      <th>fips</th>\n",
       "      <th>county</th>\n",
       "      <th>state</th>\n",
       "      <th>pct_diabetes18</th>\n",
       "    </tr>\n",
       "  </thead>\n",
       "  <tbody>\n",
       "    <tr>\n",
       "      <th>81</th>\n",
       "      <td>2158</td>\n",
       "      <td>Kusilvak Census Area</td>\n",
       "      <td>Alaska</td>\n",
       "      <td>7.4</td>\n",
       "    </tr>\n",
       "  </tbody>\n",
       "</table>\n",
       "</div>"
      ],
      "text/plain": [
       "    fips                county   state  pct_diabetes18\n",
       "81  2158  Kusilvak Census Area  Alaska             7.4"
      ]
     },
     "execution_count": 314,
     "metadata": {},
     "output_type": "execute_result"
    }
   ],
   "source": [
    "d18.loc[d18['county'] == 'Kusilvak Census Area']"
   ]
  },
  {
   "cell_type": "markdown",
   "id": "b3282edc",
   "metadata": {},
   "source": [
    "This \"county\" is present within the Diabetes Atlas."
   ]
  },
  {
   "cell_type": "code",
   "execution_count": 315,
   "id": "5af4e3c1",
   "metadata": {},
   "outputs": [
    {
     "data": {
      "text/html": [
       "<div>\n",
       "<style scoped>\n",
       "    .dataframe tbody tr th:only-of-type {\n",
       "        vertical-align: middle;\n",
       "    }\n",
       "\n",
       "    .dataframe tbody tr th {\n",
       "        vertical-align: top;\n",
       "    }\n",
       "\n",
       "    .dataframe thead th {\n",
       "        text-align: right;\n",
       "    }\n",
       "</style>\n",
       "<table border=\"1\" class=\"dataframe\">\n",
       "  <thead>\n",
       "    <tr style=\"text-align: right;\">\n",
       "      <th></th>\n",
       "      <th>fips</th>\n",
       "      <th>state</th>\n",
       "      <th>county</th>\n",
       "      <th>pct_diabetes_adults08</th>\n",
       "      <th>pct_diabetes_adults13</th>\n",
       "      <th>pct_obese_adults12</th>\n",
       "      <th>pct_obese_adults17</th>\n",
       "      <th>pct_hspa17</th>\n",
       "      <th>recfac11</th>\n",
       "      <th>recfac16</th>\n",
       "      <th>pch_recfac_11_16</th>\n",
       "      <th>recfacpth11</th>\n",
       "      <th>recfacpth16</th>\n",
       "      <th>pch_recfacpth_11_16</th>\n",
       "    </tr>\n",
       "  </thead>\n",
       "  <tbody>\n",
       "  </tbody>\n",
       "</table>\n",
       "</div>"
      ],
      "text/plain": [
       "Empty DataFrame\n",
       "Columns: [fips, state, county, pct_diabetes_adults08, pct_diabetes_adults13, pct_obese_adults12, pct_obese_adults17, pct_hspa17, recfac11, recfac16, pch_recfac_11_16, recfacpth11, recfacpth16, pch_recfacpth_11_16]\n",
       "Index: []"
      ]
     },
     "execution_count": 315,
     "metadata": {},
     "output_type": "execute_result"
    }
   ],
   "source": [
    "health.loc[health['fips'] == 2158]"
   ]
  },
  {
   "cell_type": "markdown",
   "id": "ff681f43",
   "metadata": {},
   "source": [
    "It is confirmed that the fips code is not within the Health datset."
   ]
  },
  {
   "cell_type": "code",
   "execution_count": 316,
   "id": "f8241546",
   "metadata": {},
   "outputs": [
    {
     "data": {
      "text/html": [
       "<div>\n",
       "<style scoped>\n",
       "    .dataframe tbody tr th:only-of-type {\n",
       "        vertical-align: middle;\n",
       "    }\n",
       "\n",
       "    .dataframe tbody tr th {\n",
       "        vertical-align: top;\n",
       "    }\n",
       "\n",
       "    .dataframe thead th {\n",
       "        text-align: right;\n",
       "    }\n",
       "</style>\n",
       "<table border=\"1\" class=\"dataframe\">\n",
       "  <thead>\n",
       "    <tr style=\"text-align: right;\">\n",
       "      <th></th>\n",
       "      <th>fips</th>\n",
       "      <th>state</th>\n",
       "      <th>county</th>\n",
       "      <th>pct_diabetes_adults08</th>\n",
       "      <th>pct_diabetes_adults13</th>\n",
       "      <th>pct_obese_adults12</th>\n",
       "      <th>pct_obese_adults17</th>\n",
       "      <th>pct_hspa17</th>\n",
       "      <th>recfac11</th>\n",
       "      <th>recfac16</th>\n",
       "      <th>pch_recfac_11_16</th>\n",
       "      <th>recfacpth11</th>\n",
       "      <th>recfacpth16</th>\n",
       "      <th>pch_recfacpth_11_16</th>\n",
       "    </tr>\n",
       "  </thead>\n",
       "  <tbody>\n",
       "  </tbody>\n",
       "</table>\n",
       "</div>"
      ],
      "text/plain": [
       "Empty DataFrame\n",
       "Columns: [fips, state, county, pct_diabetes_adults08, pct_diabetes_adults13, pct_obese_adults12, pct_obese_adults17, pct_hspa17, recfac11, recfac16, pch_recfac_11_16, recfacpth11, recfacpth16, pch_recfacpth_11_16]\n",
       "Index: []"
      ]
     },
     "execution_count": 316,
     "metadata": {},
     "output_type": "execute_result"
    }
   ],
   "source": [
    "health.loc[(health['county'] == 'Kusilvak Census Area') & (health['state']== 'AK')]"
   ]
  },
  {
   "cell_type": "markdown",
   "id": "8aedd5a7",
   "metadata": {},
   "source": [
    "The Kusilvak Census Area is also not within the dataset."
   ]
  },
  {
   "cell_type": "markdown",
   "id": "49c0e678",
   "metadata": {},
   "source": [
    "According to this news website, https://www.adn.com/alaska-news/article/governor-announces-new-name-alaska-census-area-named-confederate-officer/2015/07/02/,\n",
    "\n",
    "this census area was previously named Wade Hampton Census Area, and was changed in 2015.\n",
    "\n",
    "This was another county that came up in the Health dataset but not in the Diabetes Atlas during EDA. I will observe Wade Hampton Census Area below."
   ]
  },
  {
   "cell_type": "code",
   "execution_count": 317,
   "id": "872b45a6",
   "metadata": {},
   "outputs": [
    {
     "data": {
      "text/html": [
       "<div>\n",
       "<style scoped>\n",
       "    .dataframe tbody tr th:only-of-type {\n",
       "        vertical-align: middle;\n",
       "    }\n",
       "\n",
       "    .dataframe tbody tr th {\n",
       "        vertical-align: top;\n",
       "    }\n",
       "\n",
       "    .dataframe thead th {\n",
       "        text-align: right;\n",
       "    }\n",
       "</style>\n",
       "<table border=\"1\" class=\"dataframe\">\n",
       "  <thead>\n",
       "    <tr style=\"text-align: right;\">\n",
       "      <th></th>\n",
       "      <th>fips</th>\n",
       "      <th>state</th>\n",
       "      <th>county</th>\n",
       "      <th>pct_diabetes_adults08</th>\n",
       "      <th>pct_diabetes_adults13</th>\n",
       "      <th>pct_obese_adults12</th>\n",
       "      <th>pct_obese_adults17</th>\n",
       "      <th>pct_hspa17</th>\n",
       "      <th>recfac11</th>\n",
       "      <th>recfac16</th>\n",
       "      <th>pch_recfac_11_16</th>\n",
       "      <th>recfacpth11</th>\n",
       "      <th>recfacpth16</th>\n",
       "      <th>pch_recfacpth_11_16</th>\n",
       "    </tr>\n",
       "  </thead>\n",
       "  <tbody>\n",
       "    <tr>\n",
       "      <th>92</th>\n",
       "      <td>2270</td>\n",
       "      <td>AK</td>\n",
       "      <td>Wade Hampton</td>\n",
       "      <td>6.4</td>\n",
       "      <td>4.6</td>\n",
       "      <td>25.7</td>\n",
       "      <td>34.2</td>\n",
       "      <td>18.4</td>\n",
       "      <td>0</td>\n",
       "      <td>0</td>\n",
       "      <td>0.0</td>\n",
       "      <td>0.0</td>\n",
       "      <td>0.0</td>\n",
       "      <td>0.0</td>\n",
       "    </tr>\n",
       "  </tbody>\n",
       "</table>\n",
       "</div>"
      ],
      "text/plain": [
       "    fips state        county  pct_diabetes_adults08  pct_diabetes_adults13  \\\n",
       "92  2270    AK  Wade Hampton                    6.4                    4.6   \n",
       "\n",
       "    pct_obese_adults12  pct_obese_adults17  pct_hspa17  recfac11  recfac16  \\\n",
       "92                25.7                34.2        18.4         0         0   \n",
       "\n",
       "    pch_recfac_11_16  recfacpth11  recfacpth16  pch_recfacpth_11_16  \n",
       "92               0.0          0.0          0.0                  0.0  "
      ]
     },
     "execution_count": 317,
     "metadata": {},
     "output_type": "execute_result"
    }
   ],
   "source": [
    "health.loc[(health['county'] == 'Wade Hampton') & (health['state'] == 'AK')]"
   ]
  },
  {
   "cell_type": "markdown",
   "id": "94f61794",
   "metadata": {},
   "source": [
    "It does not contain the \"Census Area\" part of the name, but appears to be the county in reference. Before making change, I will ensure that this is not listed in the Diabetes Atlas."
   ]
  },
  {
   "cell_type": "code",
   "execution_count": 318,
   "id": "fc3cc329",
   "metadata": {},
   "outputs": [
    {
     "data": {
      "text/html": [
       "<div>\n",
       "<style scoped>\n",
       "    .dataframe tbody tr th:only-of-type {\n",
       "        vertical-align: middle;\n",
       "    }\n",
       "\n",
       "    .dataframe tbody tr th {\n",
       "        vertical-align: top;\n",
       "    }\n",
       "\n",
       "    .dataframe thead th {\n",
       "        text-align: right;\n",
       "    }\n",
       "</style>\n",
       "<table border=\"1\" class=\"dataframe\">\n",
       "  <thead>\n",
       "    <tr style=\"text-align: right;\">\n",
       "      <th></th>\n",
       "      <th>fips</th>\n",
       "      <th>county</th>\n",
       "      <th>state</th>\n",
       "      <th>pct_diabetes18</th>\n",
       "    </tr>\n",
       "  </thead>\n",
       "  <tbody>\n",
       "  </tbody>\n",
       "</table>\n",
       "</div>"
      ],
      "text/plain": [
       "Empty DataFrame\n",
       "Columns: [fips, county, state, pct_diabetes18]\n",
       "Index: []"
      ]
     },
     "execution_count": 318,
     "metadata": {},
     "output_type": "execute_result"
    }
   ],
   "source": [
    "d18.loc[d18['fips'] == 2270]"
   ]
  },
  {
   "cell_type": "code",
   "execution_count": 319,
   "id": "6d34d25e",
   "metadata": {},
   "outputs": [
    {
     "data": {
      "text/html": [
       "<div>\n",
       "<style scoped>\n",
       "    .dataframe tbody tr th:only-of-type {\n",
       "        vertical-align: middle;\n",
       "    }\n",
       "\n",
       "    .dataframe tbody tr th {\n",
       "        vertical-align: top;\n",
       "    }\n",
       "\n",
       "    .dataframe thead th {\n",
       "        text-align: right;\n",
       "    }\n",
       "</style>\n",
       "<table border=\"1\" class=\"dataframe\">\n",
       "  <thead>\n",
       "    <tr style=\"text-align: right;\">\n",
       "      <th></th>\n",
       "      <th>fips</th>\n",
       "      <th>county</th>\n",
       "      <th>state</th>\n",
       "      <th>pct_diabetes18</th>\n",
       "    </tr>\n",
       "  </thead>\n",
       "  <tbody>\n",
       "  </tbody>\n",
       "</table>\n",
       "</div>"
      ],
      "text/plain": [
       "Empty DataFrame\n",
       "Columns: [fips, county, state, pct_diabetes18]\n",
       "Index: []"
      ]
     },
     "execution_count": 319,
     "metadata": {},
     "output_type": "execute_result"
    }
   ],
   "source": [
    "d18.loc[(d18['county'] == 'Wade Hampton') & (d18['state'] == 'AK')]"
   ]
  },
  {
   "cell_type": "markdown",
   "id": "27cd7ec1",
   "metadata": {},
   "source": [
    "It is confirmed that this county name and fips are not in the Diabetes Atlas.\n",
    "\n",
    "I will rename the county in the Food Environment Atlas to its current fips code and name. (2158, Kusilvak Census Area)\n",
    "\n",
    "This change has been made. There are only 2 counties in question now, which appear in the Food Environment Atlas, but not the Diabetes Atlas:\n",
    "\n",
    "35039\tNM\tRio Arriba\n",
    "\n",
    "51515\tVA\tBedford"
   ]
  },
  {
   "cell_type": "markdown",
   "id": "5c4a2ebf",
   "metadata": {},
   "source": [
    "##### Rio Arriba, NM"
   ]
  },
  {
   "cell_type": "markdown",
   "id": "9c2081c5",
   "metadata": {},
   "source": [
    "First, I will ensure that these findings are correct:"
   ]
  },
  {
   "cell_type": "code",
   "execution_count": 320,
   "id": "011cd06a",
   "metadata": {},
   "outputs": [
    {
     "data": {
      "text/html": [
       "<div>\n",
       "<style scoped>\n",
       "    .dataframe tbody tr th:only-of-type {\n",
       "        vertical-align: middle;\n",
       "    }\n",
       "\n",
       "    .dataframe tbody tr th {\n",
       "        vertical-align: top;\n",
       "    }\n",
       "\n",
       "    .dataframe thead th {\n",
       "        text-align: right;\n",
       "    }\n",
       "</style>\n",
       "<table border=\"1\" class=\"dataframe\">\n",
       "  <thead>\n",
       "    <tr style=\"text-align: right;\">\n",
       "      <th></th>\n",
       "      <th>fips</th>\n",
       "      <th>state</th>\n",
       "      <th>county</th>\n",
       "      <th>pct_diabetes_adults08</th>\n",
       "      <th>pct_diabetes_adults13</th>\n",
       "      <th>pct_obese_adults12</th>\n",
       "      <th>pct_obese_adults17</th>\n",
       "      <th>pct_hspa17</th>\n",
       "      <th>recfac11</th>\n",
       "      <th>recfac16</th>\n",
       "      <th>pch_recfac_11_16</th>\n",
       "      <th>recfacpth11</th>\n",
       "      <th>recfacpth16</th>\n",
       "      <th>pch_recfacpth_11_16</th>\n",
       "    </tr>\n",
       "  </thead>\n",
       "  <tbody>\n",
       "    <tr>\n",
       "      <th>1816</th>\n",
       "      <td>35039</td>\n",
       "      <td>NM</td>\n",
       "      <td>Rio Arriba</td>\n",
       "      <td>6.4</td>\n",
       "      <td>8.8</td>\n",
       "      <td>27.1</td>\n",
       "      <td>28.4</td>\n",
       "      <td>30.8</td>\n",
       "      <td>2</td>\n",
       "      <td>1</td>\n",
       "      <td>-50.0</td>\n",
       "      <td>0.049708</td>\n",
       "      <td>0.025538</td>\n",
       "      <td>-48.624802</td>\n",
       "    </tr>\n",
       "  </tbody>\n",
       "</table>\n",
       "</div>"
      ],
      "text/plain": [
       "       fips state      county  pct_diabetes_adults08  pct_diabetes_adults13  \\\n",
       "1816  35039    NM  Rio Arriba                    6.4                    8.8   \n",
       "\n",
       "      pct_obese_adults12  pct_obese_adults17  pct_hspa17  recfac11  recfac16  \\\n",
       "1816                27.1                28.4        30.8         2         1   \n",
       "\n",
       "      pch_recfac_11_16  recfacpth11  recfacpth16  pch_recfacpth_11_16  \n",
       "1816             -50.0     0.049708     0.025538           -48.624802  "
      ]
     },
     "execution_count": 320,
     "metadata": {},
     "output_type": "execute_result"
    }
   ],
   "source": [
    "health.loc[health['fips'] == 35039]"
   ]
  },
  {
   "cell_type": "markdown",
   "id": "d9d6a848",
   "metadata": {},
   "source": [
    "The referenced county is within the Health dataset."
   ]
  },
  {
   "cell_type": "code",
   "execution_count": 321,
   "id": "6f88687b",
   "metadata": {},
   "outputs": [
    {
     "data": {
      "text/html": [
       "<div>\n",
       "<style scoped>\n",
       "    .dataframe tbody tr th:only-of-type {\n",
       "        vertical-align: middle;\n",
       "    }\n",
       "\n",
       "    .dataframe tbody tr th {\n",
       "        vertical-align: top;\n",
       "    }\n",
       "\n",
       "    .dataframe thead th {\n",
       "        text-align: right;\n",
       "    }\n",
       "</style>\n",
       "<table border=\"1\" class=\"dataframe\">\n",
       "  <thead>\n",
       "    <tr style=\"text-align: right;\">\n",
       "      <th></th>\n",
       "      <th>fips</th>\n",
       "      <th>county</th>\n",
       "      <th>state</th>\n",
       "      <th>pct_diabetes18</th>\n",
       "    </tr>\n",
       "  </thead>\n",
       "  <tbody>\n",
       "  </tbody>\n",
       "</table>\n",
       "</div>"
      ],
      "text/plain": [
       "Empty DataFrame\n",
       "Columns: [fips, county, state, pct_diabetes18]\n",
       "Index: []"
      ]
     },
     "execution_count": 321,
     "metadata": {},
     "output_type": "execute_result"
    }
   ],
   "source": [
    "d18.loc[d18['fips'] == 35039]"
   ]
  },
  {
   "cell_type": "markdown",
   "id": "d779b4bc",
   "metadata": {},
   "source": [
    "However, the referenced county does not seem to be in the dataset (at least the fips code is not.) I will search for the county by name to make sure."
   ]
  },
  {
   "cell_type": "code",
   "execution_count": 322,
   "id": "87236b39",
   "metadata": {},
   "outputs": [
    {
     "data": {
      "text/html": [
       "<div>\n",
       "<style scoped>\n",
       "    .dataframe tbody tr th:only-of-type {\n",
       "        vertical-align: middle;\n",
       "    }\n",
       "\n",
       "    .dataframe tbody tr th {\n",
       "        vertical-align: top;\n",
       "    }\n",
       "\n",
       "    .dataframe thead th {\n",
       "        text-align: right;\n",
       "    }\n",
       "</style>\n",
       "<table border=\"1\" class=\"dataframe\">\n",
       "  <thead>\n",
       "    <tr style=\"text-align: right;\">\n",
       "      <th></th>\n",
       "      <th>fips</th>\n",
       "      <th>county</th>\n",
       "      <th>state</th>\n",
       "      <th>pct_diabetes18</th>\n",
       "    </tr>\n",
       "  </thead>\n",
       "  <tbody>\n",
       "  </tbody>\n",
       "</table>\n",
       "</div>"
      ],
      "text/plain": [
       "Empty DataFrame\n",
       "Columns: [fips, county, state, pct_diabetes18]\n",
       "Index: []"
      ]
     },
     "execution_count": 322,
     "metadata": {},
     "output_type": "execute_result"
    }
   ],
   "source": [
    "d18.loc[d18['county'] == 'Rio Arriba']"
   ]
  },
  {
   "cell_type": "markdown",
   "id": "213fe13d",
   "metadata": {},
   "source": [
    "This county name does not appear to be within the d18 dataframe at all."
   ]
  },
  {
   "cell_type": "markdown",
   "id": "37052cc0",
   "metadata": {},
   "source": [
    "According to this [website](https://www.ereferencedesk.com/resources/counties/new-mexico/rio-arriba.html),\n",
    "    \n",
    "\"Rio Arriba County comprises the EspaÃ±ola, NM Micropolitan Statistical Area, which is also included in the Albuquerque-Santa Fe-Las Vegas, NM Combined Statistical Area.\" (E-ReferenceDesk.com)\n",
    "\n",
    "I will look through the Diabetes Atlas New Mexico counties to see what I can find."
   ]
  },
  {
   "cell_type": "code",
   "execution_count": 323,
   "id": "c3cde720",
   "metadata": {},
   "outputs": [
    {
     "data": {
      "text/html": [
       "<div>\n",
       "<style scoped>\n",
       "    .dataframe tbody tr th:only-of-type {\n",
       "        vertical-align: middle;\n",
       "    }\n",
       "\n",
       "    .dataframe tbody tr th {\n",
       "        vertical-align: top;\n",
       "    }\n",
       "\n",
       "    .dataframe thead th {\n",
       "        text-align: right;\n",
       "    }\n",
       "</style>\n",
       "<table border=\"1\" class=\"dataframe\">\n",
       "  <thead>\n",
       "    <tr style=\"text-align: right;\">\n",
       "      <th></th>\n",
       "      <th>fips</th>\n",
       "      <th>county</th>\n",
       "      <th>state</th>\n",
       "      <th>pct_diabetes18</th>\n",
       "    </tr>\n",
       "  </thead>\n",
       "  <tbody>\n",
       "    <tr>\n",
       "      <th>1795</th>\n",
       "      <td>35001</td>\n",
       "      <td>Bernalillo</td>\n",
       "      <td>New Mexico</td>\n",
       "      <td>7.4</td>\n",
       "    </tr>\n",
       "    <tr>\n",
       "      <th>1796</th>\n",
       "      <td>35003</td>\n",
       "      <td>Catron</td>\n",
       "      <td>New Mexico</td>\n",
       "      <td>6.6</td>\n",
       "    </tr>\n",
       "    <tr>\n",
       "      <th>1797</th>\n",
       "      <td>35005</td>\n",
       "      <td>Chaves</td>\n",
       "      <td>New Mexico</td>\n",
       "      <td>9.8</td>\n",
       "    </tr>\n",
       "    <tr>\n",
       "      <th>1798</th>\n",
       "      <td>35006</td>\n",
       "      <td>Cibola</td>\n",
       "      <td>New Mexico</td>\n",
       "      <td>12.5</td>\n",
       "    </tr>\n",
       "    <tr>\n",
       "      <th>1799</th>\n",
       "      <td>35007</td>\n",
       "      <td>Colfax</td>\n",
       "      <td>New Mexico</td>\n",
       "      <td>8.0</td>\n",
       "    </tr>\n",
       "    <tr>\n",
       "      <th>1800</th>\n",
       "      <td>35009</td>\n",
       "      <td>Curry</td>\n",
       "      <td>New Mexico</td>\n",
       "      <td>9.9</td>\n",
       "    </tr>\n",
       "    <tr>\n",
       "      <th>1801</th>\n",
       "      <td>35011</td>\n",
       "      <td>De Baca</td>\n",
       "      <td>New Mexico</td>\n",
       "      <td>7.3</td>\n",
       "    </tr>\n",
       "    <tr>\n",
       "      <th>1802</th>\n",
       "      <td>35013</td>\n",
       "      <td>Doña Ana</td>\n",
       "      <td>New Mexico</td>\n",
       "      <td>9.4</td>\n",
       "    </tr>\n",
       "    <tr>\n",
       "      <th>1803</th>\n",
       "      <td>35015</td>\n",
       "      <td>Eddy</td>\n",
       "      <td>New Mexico</td>\n",
       "      <td>11.4</td>\n",
       "    </tr>\n",
       "    <tr>\n",
       "      <th>1804</th>\n",
       "      <td>35017</td>\n",
       "      <td>Grant</td>\n",
       "      <td>New Mexico</td>\n",
       "      <td>7.5</td>\n",
       "    </tr>\n",
       "    <tr>\n",
       "      <th>1805</th>\n",
       "      <td>35019</td>\n",
       "      <td>Guadalupe</td>\n",
       "      <td>New Mexico</td>\n",
       "      <td>7.1</td>\n",
       "    </tr>\n",
       "    <tr>\n",
       "      <th>1806</th>\n",
       "      <td>35021</td>\n",
       "      <td>Harding</td>\n",
       "      <td>New Mexico</td>\n",
       "      <td>6.9</td>\n",
       "    </tr>\n",
       "    <tr>\n",
       "      <th>1807</th>\n",
       "      <td>35023</td>\n",
       "      <td>Hidalgo</td>\n",
       "      <td>New Mexico</td>\n",
       "      <td>7.0</td>\n",
       "    </tr>\n",
       "    <tr>\n",
       "      <th>1808</th>\n",
       "      <td>35025</td>\n",
       "      <td>Lea</td>\n",
       "      <td>New Mexico</td>\n",
       "      <td>11.1</td>\n",
       "    </tr>\n",
       "    <tr>\n",
       "      <th>1809</th>\n",
       "      <td>35027</td>\n",
       "      <td>Lincoln</td>\n",
       "      <td>New Mexico</td>\n",
       "      <td>6.2</td>\n",
       "    </tr>\n",
       "    <tr>\n",
       "      <th>1810</th>\n",
       "      <td>35028</td>\n",
       "      <td>Los Alamos</td>\n",
       "      <td>New Mexico</td>\n",
       "      <td>6.1</td>\n",
       "    </tr>\n",
       "    <tr>\n",
       "      <th>1811</th>\n",
       "      <td>35029</td>\n",
       "      <td>Luna</td>\n",
       "      <td>New Mexico</td>\n",
       "      <td>9.6</td>\n",
       "    </tr>\n",
       "    <tr>\n",
       "      <th>1812</th>\n",
       "      <td>35031</td>\n",
       "      <td>Mckinley</td>\n",
       "      <td>New Mexico</td>\n",
       "      <td>15.9</td>\n",
       "    </tr>\n",
       "    <tr>\n",
       "      <th>1813</th>\n",
       "      <td>35033</td>\n",
       "      <td>Mora</td>\n",
       "      <td>New Mexico</td>\n",
       "      <td>9.5</td>\n",
       "    </tr>\n",
       "    <tr>\n",
       "      <th>1814</th>\n",
       "      <td>35035</td>\n",
       "      <td>Otero</td>\n",
       "      <td>New Mexico</td>\n",
       "      <td>9.1</td>\n",
       "    </tr>\n",
       "    <tr>\n",
       "      <th>1815</th>\n",
       "      <td>35037</td>\n",
       "      <td>Quay</td>\n",
       "      <td>New Mexico</td>\n",
       "      <td>7.4</td>\n",
       "    </tr>\n",
       "    <tr>\n",
       "      <th>1816</th>\n",
       "      <td>35041</td>\n",
       "      <td>Roosevelt</td>\n",
       "      <td>New Mexico</td>\n",
       "      <td>7.9</td>\n",
       "    </tr>\n",
       "    <tr>\n",
       "      <th>1817</th>\n",
       "      <td>35045</td>\n",
       "      <td>San Juan</td>\n",
       "      <td>New Mexico</td>\n",
       "      <td>11.5</td>\n",
       "    </tr>\n",
       "    <tr>\n",
       "      <th>1818</th>\n",
       "      <td>35047</td>\n",
       "      <td>San Miguel</td>\n",
       "      <td>New Mexico</td>\n",
       "      <td>10.5</td>\n",
       "    </tr>\n",
       "    <tr>\n",
       "      <th>1819</th>\n",
       "      <td>35043</td>\n",
       "      <td>Sandoval</td>\n",
       "      <td>New Mexico</td>\n",
       "      <td>8.0</td>\n",
       "    </tr>\n",
       "    <tr>\n",
       "      <th>1820</th>\n",
       "      <td>35049</td>\n",
       "      <td>Santa Fe</td>\n",
       "      <td>New Mexico</td>\n",
       "      <td>5.8</td>\n",
       "    </tr>\n",
       "    <tr>\n",
       "      <th>1821</th>\n",
       "      <td>35051</td>\n",
       "      <td>Sierra</td>\n",
       "      <td>New Mexico</td>\n",
       "      <td>7.6</td>\n",
       "    </tr>\n",
       "    <tr>\n",
       "      <th>1822</th>\n",
       "      <td>35053</td>\n",
       "      <td>Socorro</td>\n",
       "      <td>New Mexico</td>\n",
       "      <td>8.8</td>\n",
       "    </tr>\n",
       "    <tr>\n",
       "      <th>1823</th>\n",
       "      <td>35055</td>\n",
       "      <td>Taos</td>\n",
       "      <td>New Mexico</td>\n",
       "      <td>6.1</td>\n",
       "    </tr>\n",
       "    <tr>\n",
       "      <th>1824</th>\n",
       "      <td>35057</td>\n",
       "      <td>Torrance</td>\n",
       "      <td>New Mexico</td>\n",
       "      <td>9.3</td>\n",
       "    </tr>\n",
       "    <tr>\n",
       "      <th>1825</th>\n",
       "      <td>35059</td>\n",
       "      <td>Union</td>\n",
       "      <td>New Mexico</td>\n",
       "      <td>7.3</td>\n",
       "    </tr>\n",
       "    <tr>\n",
       "      <th>1826</th>\n",
       "      <td>35061</td>\n",
       "      <td>Valencia</td>\n",
       "      <td>New Mexico</td>\n",
       "      <td>9.6</td>\n",
       "    </tr>\n",
       "  </tbody>\n",
       "</table>\n",
       "</div>"
      ],
      "text/plain": [
       "       fips      county       state  pct_diabetes18\n",
       "1795  35001  Bernalillo  New Mexico             7.4\n",
       "1796  35003      Catron  New Mexico             6.6\n",
       "1797  35005      Chaves  New Mexico             9.8\n",
       "1798  35006      Cibola  New Mexico            12.5\n",
       "1799  35007      Colfax  New Mexico             8.0\n",
       "1800  35009       Curry  New Mexico             9.9\n",
       "1801  35011     De Baca  New Mexico             7.3\n",
       "1802  35013    Doña Ana  New Mexico             9.4\n",
       "1803  35015        Eddy  New Mexico            11.4\n",
       "1804  35017       Grant  New Mexico             7.5\n",
       "1805  35019   Guadalupe  New Mexico             7.1\n",
       "1806  35021     Harding  New Mexico             6.9\n",
       "1807  35023     Hidalgo  New Mexico             7.0\n",
       "1808  35025         Lea  New Mexico            11.1\n",
       "1809  35027     Lincoln  New Mexico             6.2\n",
       "1810  35028  Los Alamos  New Mexico             6.1\n",
       "1811  35029        Luna  New Mexico             9.6\n",
       "1812  35031    Mckinley  New Mexico            15.9\n",
       "1813  35033        Mora  New Mexico             9.5\n",
       "1814  35035       Otero  New Mexico             9.1\n",
       "1815  35037        Quay  New Mexico             7.4\n",
       "1816  35041   Roosevelt  New Mexico             7.9\n",
       "1817  35045    San Juan  New Mexico            11.5\n",
       "1818  35047  San Miguel  New Mexico            10.5\n",
       "1819  35043    Sandoval  New Mexico             8.0\n",
       "1820  35049    Santa Fe  New Mexico             5.8\n",
       "1821  35051      Sierra  New Mexico             7.6\n",
       "1822  35053     Socorro  New Mexico             8.8\n",
       "1823  35055        Taos  New Mexico             6.1\n",
       "1824  35057    Torrance  New Mexico             9.3\n",
       "1825  35059       Union  New Mexico             7.3\n",
       "1826  35061    Valencia  New Mexico             9.6"
      ]
     },
     "execution_count": 323,
     "metadata": {},
     "output_type": "execute_result"
    }
   ],
   "source": [
    "d18.loc[d18['state'] == 'New Mexico'] #shows counties in New Mexico"
   ]
  },
  {
   "cell_type": "markdown",
   "id": "70a2093f",
   "metadata": {},
   "source": [
    "I do not see Albuquerque or Las Vegas in this list; however, I do see Santa Fe.\n",
    "\n",
    "I will check to see if Santa Fe is listed as a NM county in the Health dataset."
   ]
  },
  {
   "cell_type": "code",
   "execution_count": 324,
   "id": "ee20bc22",
   "metadata": {},
   "outputs": [
    {
     "data": {
      "text/html": [
       "<div>\n",
       "<style scoped>\n",
       "    .dataframe tbody tr th:only-of-type {\n",
       "        vertical-align: middle;\n",
       "    }\n",
       "\n",
       "    .dataframe tbody tr th {\n",
       "        vertical-align: top;\n",
       "    }\n",
       "\n",
       "    .dataframe thead th {\n",
       "        text-align: right;\n",
       "    }\n",
       "</style>\n",
       "<table border=\"1\" class=\"dataframe\">\n",
       "  <thead>\n",
       "    <tr style=\"text-align: right;\">\n",
       "      <th></th>\n",
       "      <th>fips</th>\n",
       "      <th>state</th>\n",
       "      <th>county</th>\n",
       "      <th>pct_diabetes_adults08</th>\n",
       "      <th>pct_diabetes_adults13</th>\n",
       "      <th>pct_obese_adults12</th>\n",
       "      <th>pct_obese_adults17</th>\n",
       "      <th>pct_hspa17</th>\n",
       "      <th>recfac11</th>\n",
       "      <th>recfac16</th>\n",
       "      <th>pch_recfac_11_16</th>\n",
       "      <th>recfacpth11</th>\n",
       "      <th>recfacpth16</th>\n",
       "      <th>pch_recfacpth_11_16</th>\n",
       "    </tr>\n",
       "  </thead>\n",
       "  <tbody>\n",
       "    <tr>\n",
       "      <th>1821</th>\n",
       "      <td>35049</td>\n",
       "      <td>NM</td>\n",
       "      <td>Santa Fe</td>\n",
       "      <td>4.0</td>\n",
       "      <td>4.7</td>\n",
       "      <td>27.1</td>\n",
       "      <td>28.4</td>\n",
       "      <td>30.8</td>\n",
       "      <td>17</td>\n",
       "      <td>18</td>\n",
       "      <td>5.882353</td>\n",
       "      <td>0.116885</td>\n",
       "      <td>0.121668</td>\n",
       "      <td>4.092395</td>\n",
       "    </tr>\n",
       "  </tbody>\n",
       "</table>\n",
       "</div>"
      ],
      "text/plain": [
       "       fips state    county  pct_diabetes_adults08  pct_diabetes_adults13  \\\n",
       "1821  35049    NM  Santa Fe                    4.0                    4.7   \n",
       "\n",
       "      pct_obese_adults12  pct_obese_adults17  pct_hspa17  recfac11  recfac16  \\\n",
       "1821                27.1                28.4        30.8        17        18   \n",
       "\n",
       "      pch_recfac_11_16  recfacpth11  recfacpth16  pch_recfacpth_11_16  \n",
       "1821          5.882353     0.116885     0.121668             4.092395  "
      ]
     },
     "execution_count": 324,
     "metadata": {},
     "output_type": "execute_result"
    }
   ],
   "source": [
    "health.loc[(health['county'] == 'Santa Fe') & (health['state'] == 'NM')]"
   ]
  },
  {
   "cell_type": "markdown",
   "id": "c3a067b0",
   "metadata": {},
   "source": [
    "Santa Fe County does appear to exist within the Health dataset. \n",
    "\n",
    "Additionally, the presence of this [website](https://datausa.io/profile/geo/rio-arriba-county-nm) suggests that Rio Arriba does still appear to be a current county name.\n",
    "\n",
    "A quick glance through the 2016 [Diabetes Atlas](https://gis.cdc.gov/grasp/diabetes/diabetesatlas-sdoh.html#) table suggests that Rio County IS within it, but it is not included in the 2018 version of the table. \n",
    "\n",
    "However, it is included on the 2018 map version. Rio Arriba County, NM is shown to have a diagnosed diabetes prevalence of 9.4%. I will add the county along with its value.\n",
    "\n",
    "I added the county in on a spreadsheet. I will reload the corrected data as a dataframe below."
   ]
  },
  {
   "cell_type": "code",
   "execution_count": 325,
   "id": "2b348b9d",
   "metadata": {},
   "outputs": [],
   "source": [
    "file_path = '../data/DiabetesAtlasData_REC.csv'\n",
    "\n",
    "d18_rec = pd.read_csv(file_path)"
   ]
  },
  {
   "cell_type": "code",
   "execution_count": 326,
   "id": "6c2e9106",
   "metadata": {},
   "outputs": [
    {
     "data": {
      "text/html": [
       "<div>\n",
       "<style scoped>\n",
       "    .dataframe tbody tr th:only-of-type {\n",
       "        vertical-align: middle;\n",
       "    }\n",
       "\n",
       "    .dataframe tbody tr th {\n",
       "        vertical-align: top;\n",
       "    }\n",
       "\n",
       "    .dataframe thead th {\n",
       "        text-align: right;\n",
       "    }\n",
       "</style>\n",
       "<table border=\"1\" class=\"dataframe\">\n",
       "  <thead>\n",
       "    <tr style=\"text-align: right;\">\n",
       "      <th></th>\n",
       "      <th>fips</th>\n",
       "      <th>county</th>\n",
       "      <th>state</th>\n",
       "      <th>pct_diabetes18</th>\n",
       "    </tr>\n",
       "  </thead>\n",
       "  <tbody>\n",
       "    <tr>\n",
       "      <th>0</th>\n",
       "      <td>1001</td>\n",
       "      <td>Autauga</td>\n",
       "      <td>Alabama</td>\n",
       "      <td>9.5</td>\n",
       "    </tr>\n",
       "    <tr>\n",
       "      <th>1</th>\n",
       "      <td>1003</td>\n",
       "      <td>Baldwin</td>\n",
       "      <td>Alabama</td>\n",
       "      <td>8.4</td>\n",
       "    </tr>\n",
       "    <tr>\n",
       "      <th>2</th>\n",
       "      <td>1005</td>\n",
       "      <td>Barbour</td>\n",
       "      <td>Alabama</td>\n",
       "      <td>13.5</td>\n",
       "    </tr>\n",
       "    <tr>\n",
       "      <th>3</th>\n",
       "      <td>1007</td>\n",
       "      <td>Bibb</td>\n",
       "      <td>Alabama</td>\n",
       "      <td>10.2</td>\n",
       "    </tr>\n",
       "    <tr>\n",
       "      <th>4</th>\n",
       "      <td>1009</td>\n",
       "      <td>Blount</td>\n",
       "      <td>Alabama</td>\n",
       "      <td>10.5</td>\n",
       "    </tr>\n",
       "  </tbody>\n",
       "</table>\n",
       "</div>"
      ],
      "text/plain": [
       "   fips   county    state  pct_diabetes18\n",
       "0  1001  Autauga  Alabama             9.5\n",
       "1  1003  Baldwin  Alabama             8.4\n",
       "2  1005  Barbour  Alabama            13.5\n",
       "3  1007     Bibb  Alabama            10.2\n",
       "4  1009   Blount  Alabama            10.5"
      ]
     },
     "execution_count": 326,
     "metadata": {},
     "output_type": "execute_result"
    }
   ],
   "source": [
    "d18_rec.head()"
   ]
  },
  {
   "cell_type": "code",
   "execution_count": 327,
   "id": "432bae09",
   "metadata": {},
   "outputs": [
    {
     "data": {
      "text/html": [
       "<div>\n",
       "<style scoped>\n",
       "    .dataframe tbody tr th:only-of-type {\n",
       "        vertical-align: middle;\n",
       "    }\n",
       "\n",
       "    .dataframe tbody tr th {\n",
       "        vertical-align: top;\n",
       "    }\n",
       "\n",
       "    .dataframe thead th {\n",
       "        text-align: right;\n",
       "    }\n",
       "</style>\n",
       "<table border=\"1\" class=\"dataframe\">\n",
       "  <thead>\n",
       "    <tr style=\"text-align: right;\">\n",
       "      <th></th>\n",
       "      <th>fips</th>\n",
       "      <th>county</th>\n",
       "      <th>state</th>\n",
       "      <th>pct_diabetes18</th>\n",
       "    </tr>\n",
       "  </thead>\n",
       "  <tbody>\n",
       "    <tr>\n",
       "      <th>3137</th>\n",
       "      <td>56037</td>\n",
       "      <td>Sweetwater</td>\n",
       "      <td>Wyoming</td>\n",
       "      <td>7.8</td>\n",
       "    </tr>\n",
       "    <tr>\n",
       "      <th>3138</th>\n",
       "      <td>56039</td>\n",
       "      <td>Teton</td>\n",
       "      <td>Wyoming</td>\n",
       "      <td>3.8</td>\n",
       "    </tr>\n",
       "    <tr>\n",
       "      <th>3139</th>\n",
       "      <td>56041</td>\n",
       "      <td>Uinta</td>\n",
       "      <td>Wyoming</td>\n",
       "      <td>8.4</td>\n",
       "    </tr>\n",
       "    <tr>\n",
       "      <th>3140</th>\n",
       "      <td>56043</td>\n",
       "      <td>Washakie</td>\n",
       "      <td>Wyoming</td>\n",
       "      <td>7.4</td>\n",
       "    </tr>\n",
       "    <tr>\n",
       "      <th>3141</th>\n",
       "      <td>56045</td>\n",
       "      <td>Weston</td>\n",
       "      <td>Wyoming</td>\n",
       "      <td>7.6</td>\n",
       "    </tr>\n",
       "  </tbody>\n",
       "</table>\n",
       "</div>"
      ],
      "text/plain": [
       "       fips      county    state  pct_diabetes18\n",
       "3137  56037  Sweetwater  Wyoming             7.8\n",
       "3138  56039       Teton  Wyoming             3.8\n",
       "3139  56041       Uinta  Wyoming             8.4\n",
       "3140  56043    Washakie  Wyoming             7.4\n",
       "3141  56045      Weston  Wyoming             7.6"
      ]
     },
     "execution_count": 327,
     "metadata": {},
     "output_type": "execute_result"
    }
   ],
   "source": [
    "d18_rec.tail()"
   ]
  },
  {
   "cell_type": "code",
   "execution_count": 328,
   "id": "b2220bcc",
   "metadata": {},
   "outputs": [
    {
     "data": {
      "text/plain": [
       "(3142, 4)"
      ]
     },
     "execution_count": 328,
     "metadata": {},
     "output_type": "execute_result"
    }
   ],
   "source": [
    "d18_rec.shape"
   ]
  },
  {
   "cell_type": "code",
   "execution_count": 329,
   "id": "31e21c39",
   "metadata": {},
   "outputs": [
    {
     "data": {
      "text/html": [
       "<div>\n",
       "<style scoped>\n",
       "    .dataframe tbody tr th:only-of-type {\n",
       "        vertical-align: middle;\n",
       "    }\n",
       "\n",
       "    .dataframe tbody tr th {\n",
       "        vertical-align: top;\n",
       "    }\n",
       "\n",
       "    .dataframe thead th {\n",
       "        text-align: right;\n",
       "    }\n",
       "</style>\n",
       "<table border=\"1\" class=\"dataframe\">\n",
       "  <thead>\n",
       "    <tr style=\"text-align: right;\">\n",
       "      <th></th>\n",
       "      <th>fips</th>\n",
       "      <th>county</th>\n",
       "      <th>state</th>\n",
       "      <th>pct_diabetes18</th>\n",
       "    </tr>\n",
       "  </thead>\n",
       "  <tbody>\n",
       "    <tr>\n",
       "      <th>1816</th>\n",
       "      <td>35039</td>\n",
       "      <td>Rio Arriba</td>\n",
       "      <td>New Mexico</td>\n",
       "      <td>9.4</td>\n",
       "    </tr>\n",
       "  </tbody>\n",
       "</table>\n",
       "</div>"
      ],
      "text/plain": [
       "       fips      county       state  pct_diabetes18\n",
       "1816  35039  Rio Arriba  New Mexico             9.4"
      ]
     },
     "execution_count": 329,
     "metadata": {},
     "output_type": "execute_result"
    }
   ],
   "source": [
    "d18_rec.loc[d18_rec['county'] == 'Rio Arriba'] #shows row containing Rio Arriba County"
   ]
  },
  {
   "cell_type": "markdown",
   "id": "91080c64",
   "metadata": {},
   "source": [
    "This shows the county was entered correctly with the fips code and diabetes prevalence.\n",
    "\n",
    "I will now move on to address the Bedford County, VA discrepancy."
   ]
  },
  {
   "cell_type": "markdown",
   "id": "69675981",
   "metadata": {},
   "source": [
    "##### Bedford County, VA"
   ]
  },
  {
   "cell_type": "code",
   "execution_count": 330,
   "id": "cb91c768",
   "metadata": {},
   "outputs": [
    {
     "data": {
      "text/html": [
       "<div>\n",
       "<style scoped>\n",
       "    .dataframe tbody tr th:only-of-type {\n",
       "        vertical-align: middle;\n",
       "    }\n",
       "\n",
       "    .dataframe tbody tr th {\n",
       "        vertical-align: top;\n",
       "    }\n",
       "\n",
       "    .dataframe thead th {\n",
       "        text-align: right;\n",
       "    }\n",
       "</style>\n",
       "<table border=\"1\" class=\"dataframe\">\n",
       "  <thead>\n",
       "    <tr style=\"text-align: right;\">\n",
       "      <th></th>\n",
       "      <th>fips</th>\n",
       "      <th>state</th>\n",
       "      <th>county</th>\n",
       "      <th>pct_diabetes_adults08</th>\n",
       "      <th>pct_diabetes_adults13</th>\n",
       "      <th>pct_obese_adults12</th>\n",
       "      <th>pct_obese_adults17</th>\n",
       "      <th>pct_hspa17</th>\n",
       "      <th>recfac11</th>\n",
       "      <th>recfac16</th>\n",
       "      <th>pch_recfac_11_16</th>\n",
       "      <th>recfacpth11</th>\n",
       "      <th>recfacpth16</th>\n",
       "      <th>pch_recfacpth_11_16</th>\n",
       "    </tr>\n",
       "  </thead>\n",
       "  <tbody>\n",
       "    <tr>\n",
       "      <th>2829</th>\n",
       "      <td>51019</td>\n",
       "      <td>VA</td>\n",
       "      <td>Bedford</td>\n",
       "      <td>9.1</td>\n",
       "      <td>11.1</td>\n",
       "      <td>27.4</td>\n",
       "      <td>30.1</td>\n",
       "      <td>22.4</td>\n",
       "      <td>5</td>\n",
       "      <td>5</td>\n",
       "      <td>0.0</td>\n",
       "      <td>0.066173</td>\n",
       "      <td>0.064244</td>\n",
       "      <td>-2.914118</td>\n",
       "    </tr>\n",
       "    <tr>\n",
       "      <th>2916</th>\n",
       "      <td>51515</td>\n",
       "      <td>VA</td>\n",
       "      <td>Bedford</td>\n",
       "      <td>12.6</td>\n",
       "      <td>NaN</td>\n",
       "      <td>27.4</td>\n",
       "      <td>30.1</td>\n",
       "      <td>22.4</td>\n",
       "      <td>0</td>\n",
       "      <td>0</td>\n",
       "      <td>0.0</td>\n",
       "      <td>0.000000</td>\n",
       "      <td>0.000000</td>\n",
       "      <td>0.000000</td>\n",
       "    </tr>\n",
       "  </tbody>\n",
       "</table>\n",
       "</div>"
      ],
      "text/plain": [
       "       fips state   county  pct_diabetes_adults08  pct_diabetes_adults13  \\\n",
       "2829  51019    VA  Bedford                    9.1                   11.1   \n",
       "2916  51515    VA  Bedford                   12.6                    NaN   \n",
       "\n",
       "      pct_obese_adults12  pct_obese_adults17  pct_hspa17  recfac11  recfac16  \\\n",
       "2829                27.4                30.1        22.4         5         5   \n",
       "2916                27.4                30.1        22.4         0         0   \n",
       "\n",
       "      pch_recfac_11_16  recfacpth11  recfacpth16  pch_recfacpth_11_16  \n",
       "2829               0.0     0.066173     0.064244            -2.914118  \n",
       "2916               0.0     0.000000     0.000000             0.000000  "
      ]
     },
     "execution_count": 330,
     "metadata": {},
     "output_type": "execute_result"
    }
   ],
   "source": [
    "health.loc[(health['county'] == 'Bedford') & (health['state'] == 'VA')]"
   ]
  },
  {
   "cell_type": "markdown",
   "id": "adef7c59",
   "metadata": {},
   "source": [
    "Now I see the problem. \n",
    "\n",
    "There are duplicate entries for Bedford County, VA in the Health dataset (and likely, therefore, in the rest of the Food Environment Atlas datasets.) The Bedford County with fips code is missing the 2013 prevalence of diabetes data (this must be the 1 missing value in this column that has been referenced all along!)\n",
    "\n",
    "I will observe the information regarding Bedford County, VA in the Diabetes Atlas."
   ]
  },
  {
   "cell_type": "code",
   "execution_count": 331,
   "id": "75ba6a0d",
   "metadata": {},
   "outputs": [
    {
     "data": {
      "text/html": [
       "<div>\n",
       "<style scoped>\n",
       "    .dataframe tbody tr th:only-of-type {\n",
       "        vertical-align: middle;\n",
       "    }\n",
       "\n",
       "    .dataframe tbody tr th {\n",
       "        vertical-align: top;\n",
       "    }\n",
       "\n",
       "    .dataframe thead th {\n",
       "        text-align: right;\n",
       "    }\n",
       "</style>\n",
       "<table border=\"1\" class=\"dataframe\">\n",
       "  <thead>\n",
       "    <tr style=\"text-align: right;\">\n",
       "      <th></th>\n",
       "      <th>fips</th>\n",
       "      <th>county</th>\n",
       "      <th>state</th>\n",
       "      <th>pct_diabetes18</th>\n",
       "    </tr>\n",
       "  </thead>\n",
       "  <tbody>\n",
       "    <tr>\n",
       "      <th>2830</th>\n",
       "      <td>51019</td>\n",
       "      <td>Bedford</td>\n",
       "      <td>Virginia</td>\n",
       "      <td>10.9</td>\n",
       "    </tr>\n",
       "  </tbody>\n",
       "</table>\n",
       "</div>"
      ],
      "text/plain": [
       "       fips   county     state  pct_diabetes18\n",
       "2830  51019  Bedford  Virginia            10.9"
      ]
     },
     "execution_count": 331,
     "metadata": {},
     "output_type": "execute_result"
    }
   ],
   "source": [
    "d18_rec.loc[(d18_rec['county'] == 'Bedford') & (d18_rec['state'] == 'Virginia')]"
   ]
  },
  {
   "cell_type": "markdown",
   "id": "5e94d820",
   "metadata": {},
   "source": [
    "The fips code of 51019 is what the Diabetes Atlas has for Bedford, VA.\n",
    "\n",
    "According to this [website](https://transition.fcc.gov/oet/info/maps/census/fips/fips.txt#:~:text=FIPS%20codes%20are%20numbers%20which,to%20which%20the%20county%20belongs),\n",
    "\n",
    "51515 is the fips code for \"Bedford City.\" 51019 is listed as Bedford County. \n",
    "\n",
    "I will look for 51515 and Bedford City within the Diabetes Atlas."
   ]
  },
  {
   "cell_type": "code",
   "execution_count": 332,
   "id": "6dce6d3a",
   "metadata": {},
   "outputs": [
    {
     "data": {
      "text/html": [
       "<div>\n",
       "<style scoped>\n",
       "    .dataframe tbody tr th:only-of-type {\n",
       "        vertical-align: middle;\n",
       "    }\n",
       "\n",
       "    .dataframe tbody tr th {\n",
       "        vertical-align: top;\n",
       "    }\n",
       "\n",
       "    .dataframe thead th {\n",
       "        text-align: right;\n",
       "    }\n",
       "</style>\n",
       "<table border=\"1\" class=\"dataframe\">\n",
       "  <thead>\n",
       "    <tr style=\"text-align: right;\">\n",
       "      <th></th>\n",
       "      <th>fips</th>\n",
       "      <th>county</th>\n",
       "      <th>state</th>\n",
       "      <th>pct_diabetes18</th>\n",
       "    </tr>\n",
       "  </thead>\n",
       "  <tbody>\n",
       "  </tbody>\n",
       "</table>\n",
       "</div>"
      ],
      "text/plain": [
       "Empty DataFrame\n",
       "Columns: [fips, county, state, pct_diabetes18]\n",
       "Index: []"
      ]
     },
     "execution_count": 332,
     "metadata": {},
     "output_type": "execute_result"
    }
   ],
   "source": [
    "d18_rec[d18_rec['county'] == 'Bedford City']"
   ]
  },
  {
   "cell_type": "markdown",
   "id": "bcfe3de3",
   "metadata": {},
   "source": [
    "There is no such county within the Diabetes Atlas.\n",
    "\n",
    "I will search for the fips code."
   ]
  },
  {
   "cell_type": "code",
   "execution_count": 333,
   "id": "56147885",
   "metadata": {},
   "outputs": [
    {
     "data": {
      "text/html": [
       "<div>\n",
       "<style scoped>\n",
       "    .dataframe tbody tr th:only-of-type {\n",
       "        vertical-align: middle;\n",
       "    }\n",
       "\n",
       "    .dataframe tbody tr th {\n",
       "        vertical-align: top;\n",
       "    }\n",
       "\n",
       "    .dataframe thead th {\n",
       "        text-align: right;\n",
       "    }\n",
       "</style>\n",
       "<table border=\"1\" class=\"dataframe\">\n",
       "  <thead>\n",
       "    <tr style=\"text-align: right;\">\n",
       "      <th></th>\n",
       "      <th>fips</th>\n",
       "      <th>county</th>\n",
       "      <th>state</th>\n",
       "      <th>pct_diabetes18</th>\n",
       "    </tr>\n",
       "  </thead>\n",
       "  <tbody>\n",
       "  </tbody>\n",
       "</table>\n",
       "</div>"
      ],
      "text/plain": [
       "Empty DataFrame\n",
       "Columns: [fips, county, state, pct_diabetes18]\n",
       "Index: []"
      ]
     },
     "execution_count": 333,
     "metadata": {},
     "output_type": "execute_result"
    }
   ],
   "source": [
    "d18_rec[d18_rec['fips'] == '51019']"
   ]
  },
  {
   "cell_type": "markdown",
   "id": "7965689d",
   "metadata": {},
   "source": [
    "There is no such fips code within the Diabetes Atlas.\n",
    "\n",
    "It is confirmed, then, the extra county within the Food Environment Atlas is Bedford City. (The previously referenced website for fips codes did say that it has codes for independent cities.)\n",
    "\n",
    "In searching for Bedford City, I found this [website](https://www.city-data.com/city/Bedford-Virginia.html), which contains \"Food Environment Statistics\" for Bedford. One of these statistics is prevalence of diabetes, which it shows at 8.6%. This matches the value shown for 51019 Bedford, not that of 51515 Bedford.\n",
    "\n",
    "My thought is that I may need to remove Bedford City from the Food Environment Atlas, because I do not have information regarding prevalence of diabetes after 2008.\n",
    "\n",
    "One option would be to use the 2008 diabetes values, say from Virginia, and calculate the average percent change from 2008 to 2018, and come up with an estimate for Bedford City. (Still, it might be risky, as much may have changed over the 10 year period.)\n",
    "\n",
    "I will consider this as I delve further into the Health dataset. First, I will confirm that the changes made above to the Health and target datasets were completed."
   ]
  },
  {
   "cell_type": "markdown",
   "id": "a75f2a69",
   "metadata": {},
   "source": [
    "##### Confirmation of Changes"
   ]
  },
  {
   "cell_type": "code",
   "execution_count": 334,
   "id": "88e7df8f",
   "metadata": {},
   "outputs": [],
   "source": [
    "file_path = '../data/FoodEnvironmentAtlas.xls.HEALTH_REC.csv'\n",
    "\n",
    "health_rec = pd.read_csv(file_path)"
   ]
  },
  {
   "cell_type": "code",
   "execution_count": 335,
   "id": "e8633145",
   "metadata": {},
   "outputs": [
    {
     "data": {
      "text/html": [
       "<div>\n",
       "<style scoped>\n",
       "    .dataframe tbody tr th:only-of-type {\n",
       "        vertical-align: middle;\n",
       "    }\n",
       "\n",
       "    .dataframe tbody tr th {\n",
       "        vertical-align: top;\n",
       "    }\n",
       "\n",
       "    .dataframe thead th {\n",
       "        text-align: right;\n",
       "    }\n",
       "</style>\n",
       "<table border=\"1\" class=\"dataframe\">\n",
       "  <thead>\n",
       "    <tr style=\"text-align: right;\">\n",
       "      <th></th>\n",
       "      <th>fips</th>\n",
       "      <th>state</th>\n",
       "      <th>county</th>\n",
       "      <th>pct_diabetes_adults08</th>\n",
       "      <th>pct_diabetes_adults13</th>\n",
       "      <th>pct_obese_adults12</th>\n",
       "      <th>pct_obese_adults17</th>\n",
       "      <th>pct_hspa17</th>\n",
       "      <th>recfac11</th>\n",
       "      <th>recfac16</th>\n",
       "      <th>pch_recfac_11_16</th>\n",
       "      <th>recfacpth11</th>\n",
       "      <th>recfacpth16</th>\n",
       "      <th>pch_recfacpth_11_16</th>\n",
       "    </tr>\n",
       "  </thead>\n",
       "  <tbody>\n",
       "    <tr>\n",
       "      <th>2411</th>\n",
       "      <td>46101</td>\n",
       "      <td>SD</td>\n",
       "      <td>Moody</td>\n",
       "      <td>8.3</td>\n",
       "      <td>11.0</td>\n",
       "      <td>28.1</td>\n",
       "      <td>31.9</td>\n",
       "      <td>NaN</td>\n",
       "      <td>0</td>\n",
       "      <td>0</td>\n",
       "      <td>0.000000</td>\n",
       "      <td>0.000000</td>\n",
       "      <td>0.00000</td>\n",
       "      <td>0.000000</td>\n",
       "    </tr>\n",
       "    <tr>\n",
       "      <th>2412</th>\n",
       "      <td>46102</td>\n",
       "      <td>SD</td>\n",
       "      <td>Ogala Lakota</td>\n",
       "      <td>12.4</td>\n",
       "      <td>15.8</td>\n",
       "      <td>28.1</td>\n",
       "      <td>31.9</td>\n",
       "      <td>NaN</td>\n",
       "      <td>0</td>\n",
       "      <td>0</td>\n",
       "      <td>0.000000</td>\n",
       "      <td>0.000000</td>\n",
       "      <td>0.00000</td>\n",
       "      <td>0.000000</td>\n",
       "    </tr>\n",
       "    <tr>\n",
       "      <th>2413</th>\n",
       "      <td>46103</td>\n",
       "      <td>SD</td>\n",
       "      <td>Pennington</td>\n",
       "      <td>7.5</td>\n",
       "      <td>8.4</td>\n",
       "      <td>28.1</td>\n",
       "      <td>31.9</td>\n",
       "      <td>NaN</td>\n",
       "      <td>14</td>\n",
       "      <td>16</td>\n",
       "      <td>14.285714</td>\n",
       "      <td>0.136743</td>\n",
       "      <td>0.14692</td>\n",
       "      <td>7.442403</td>\n",
       "    </tr>\n",
       "  </tbody>\n",
       "</table>\n",
       "</div>"
      ],
      "text/plain": [
       "       fips state        county  pct_diabetes_adults08  pct_diabetes_adults13  \\\n",
       "2411  46101    SD         Moody                    8.3                   11.0   \n",
       "2412  46102    SD  Ogala Lakota                   12.4                   15.8   \n",
       "2413  46103    SD    Pennington                    7.5                    8.4   \n",
       "\n",
       "      pct_obese_adults12  pct_obese_adults17  pct_hspa17  recfac11  recfac16  \\\n",
       "2411                28.1                31.9         NaN         0         0   \n",
       "2412                28.1                31.9         NaN         0         0   \n",
       "2413                28.1                31.9         NaN        14        16   \n",
       "\n",
       "      pch_recfac_11_16  recfacpth11  recfacpth16  pch_recfacpth_11_16  \n",
       "2411          0.000000     0.000000      0.00000             0.000000  \n",
       "2412          0.000000     0.000000      0.00000             0.000000  \n",
       "2413         14.285714     0.136743      0.14692             7.442403  "
      ]
     },
     "execution_count": 335,
     "metadata": {},
     "output_type": "execute_result"
    }
   ],
   "source": [
    "health_rec.iloc[2411:2414]"
   ]
  },
  {
   "cell_type": "markdown",
   "id": "02cc7c41",
   "metadata": {},
   "source": [
    "Oglala Lakota County appears in its correct location.\n",
    "\n",
    "I will now ensure the Kusilvak Census Area is in its correct location:"
   ]
  },
  {
   "cell_type": "code",
   "execution_count": 336,
   "id": "4ee5c3e5",
   "metadata": {},
   "outputs": [
    {
     "data": {
      "text/html": [
       "<div>\n",
       "<style scoped>\n",
       "    .dataframe tbody tr th:only-of-type {\n",
       "        vertical-align: middle;\n",
       "    }\n",
       "\n",
       "    .dataframe tbody tr th {\n",
       "        vertical-align: top;\n",
       "    }\n",
       "\n",
       "    .dataframe thead th {\n",
       "        text-align: right;\n",
       "    }\n",
       "</style>\n",
       "<table border=\"1\" class=\"dataframe\">\n",
       "  <thead>\n",
       "    <tr style=\"text-align: right;\">\n",
       "      <th></th>\n",
       "      <th>fips</th>\n",
       "      <th>state</th>\n",
       "      <th>county</th>\n",
       "      <th>pct_diabetes_adults08</th>\n",
       "      <th>pct_diabetes_adults13</th>\n",
       "      <th>pct_obese_adults12</th>\n",
       "      <th>pct_obese_adults17</th>\n",
       "      <th>pct_hspa17</th>\n",
       "      <th>recfac11</th>\n",
       "      <th>recfac16</th>\n",
       "      <th>pch_recfac_11_16</th>\n",
       "      <th>recfacpth11</th>\n",
       "      <th>recfacpth16</th>\n",
       "      <th>pch_recfacpth_11_16</th>\n",
       "    </tr>\n",
       "  </thead>\n",
       "  <tbody>\n",
       "    <tr>\n",
       "      <th>80</th>\n",
       "      <td>2150</td>\n",
       "      <td>AK</td>\n",
       "      <td>Kodiak Island</td>\n",
       "      <td>6.2</td>\n",
       "      <td>6.6</td>\n",
       "      <td>25.7</td>\n",
       "      <td>34.2</td>\n",
       "      <td>18.4</td>\n",
       "      <td>0</td>\n",
       "      <td>0</td>\n",
       "      <td>0.0</td>\n",
       "      <td>0.0</td>\n",
       "      <td>0.0</td>\n",
       "      <td>0.0</td>\n",
       "    </tr>\n",
       "    <tr>\n",
       "      <th>81</th>\n",
       "      <td>2158</td>\n",
       "      <td>AK</td>\n",
       "      <td>Kusilvak Census Area</td>\n",
       "      <td>6.4</td>\n",
       "      <td>4.6</td>\n",
       "      <td>25.7</td>\n",
       "      <td>34.2</td>\n",
       "      <td>18.4</td>\n",
       "      <td>0</td>\n",
       "      <td>0</td>\n",
       "      <td>0.0</td>\n",
       "      <td>0.0</td>\n",
       "      <td>0.0</td>\n",
       "      <td>0.0</td>\n",
       "    </tr>\n",
       "    <tr>\n",
       "      <th>82</th>\n",
       "      <td>2164</td>\n",
       "      <td>AK</td>\n",
       "      <td>Lake and Peninsula</td>\n",
       "      <td>7.2</td>\n",
       "      <td>7.4</td>\n",
       "      <td>25.7</td>\n",
       "      <td>34.2</td>\n",
       "      <td>18.4</td>\n",
       "      <td>0</td>\n",
       "      <td>0</td>\n",
       "      <td>0.0</td>\n",
       "      <td>0.0</td>\n",
       "      <td>0.0</td>\n",
       "      <td>0.0</td>\n",
       "    </tr>\n",
       "  </tbody>\n",
       "</table>\n",
       "</div>"
      ],
      "text/plain": [
       "    fips state                county  pct_diabetes_adults08  \\\n",
       "80  2150    AK         Kodiak Island                    6.2   \n",
       "81  2158    AK  Kusilvak Census Area                    6.4   \n",
       "82  2164    AK    Lake and Peninsula                    7.2   \n",
       "\n",
       "    pct_diabetes_adults13  pct_obese_adults12  pct_obese_adults17  pct_hspa17  \\\n",
       "80                    6.6                25.7                34.2        18.4   \n",
       "81                    4.6                25.7                34.2        18.4   \n",
       "82                    7.4                25.7                34.2        18.4   \n",
       "\n",
       "    recfac11  recfac16  pch_recfac_11_16  recfacpth11  recfacpth16  \\\n",
       "80         0         0               0.0          0.0          0.0   \n",
       "81         0         0               0.0          0.0          0.0   \n",
       "82         0         0               0.0          0.0          0.0   \n",
       "\n",
       "    pch_recfacpth_11_16  \n",
       "80                  0.0  \n",
       "81                  0.0  \n",
       "82                  0.0  "
      ]
     },
     "execution_count": 336,
     "metadata": {},
     "output_type": "execute_result"
    }
   ],
   "source": [
    "health_rec.iloc[80:83]"
   ]
  },
  {
   "cell_type": "markdown",
   "id": "642e95b0",
   "metadata": {},
   "source": [
    "The county/area does appear in its correct location.\n",
    "\n",
    "I will now ensure these counties are correct in the Diabetes Atlas as well."
   ]
  },
  {
   "cell_type": "code",
   "execution_count": 337,
   "id": "6b750d25",
   "metadata": {},
   "outputs": [
    {
     "data": {
      "text/html": [
       "<div>\n",
       "<style scoped>\n",
       "    .dataframe tbody tr th:only-of-type {\n",
       "        vertical-align: middle;\n",
       "    }\n",
       "\n",
       "    .dataframe tbody tr th {\n",
       "        vertical-align: top;\n",
       "    }\n",
       "\n",
       "    .dataframe thead th {\n",
       "        text-align: right;\n",
       "    }\n",
       "</style>\n",
       "<table border=\"1\" class=\"dataframe\">\n",
       "  <thead>\n",
       "    <tr style=\"text-align: right;\">\n",
       "      <th></th>\n",
       "      <th>fips</th>\n",
       "      <th>county</th>\n",
       "      <th>state</th>\n",
       "      <th>pct_diabetes18</th>\n",
       "    </tr>\n",
       "  </thead>\n",
       "  <tbody>\n",
       "    <tr>\n",
       "      <th>2411</th>\n",
       "      <td>46101</td>\n",
       "      <td>Moody</td>\n",
       "      <td>South Dakota</td>\n",
       "      <td>7.1</td>\n",
       "    </tr>\n",
       "    <tr>\n",
       "      <th>2412</th>\n",
       "      <td>46102</td>\n",
       "      <td>Oglala Lakota</td>\n",
       "      <td>South Dakota</td>\n",
       "      <td>17.9</td>\n",
       "    </tr>\n",
       "    <tr>\n",
       "      <th>2413</th>\n",
       "      <td>46103</td>\n",
       "      <td>Pennington</td>\n",
       "      <td>South Dakota</td>\n",
       "      <td>8.2</td>\n",
       "    </tr>\n",
       "  </tbody>\n",
       "</table>\n",
       "</div>"
      ],
      "text/plain": [
       "       fips         county         state  pct_diabetes18\n",
       "2411  46101          Moody  South Dakota             7.1\n",
       "2412  46102  Oglala Lakota  South Dakota            17.9\n",
       "2413  46103     Pennington  South Dakota             8.2"
      ]
     },
     "execution_count": 337,
     "metadata": {},
     "output_type": "execute_result"
    }
   ],
   "source": [
    "d18_rec.iloc[2411:2414]"
   ]
  },
  {
   "cell_type": "markdown",
   "id": "3afdc825",
   "metadata": {},
   "source": [
    "Ogala Lakota County appears in its correct location."
   ]
  },
  {
   "cell_type": "code",
   "execution_count": 338,
   "id": "dd002ee4",
   "metadata": {},
   "outputs": [
    {
     "data": {
      "text/html": [
       "<div>\n",
       "<style scoped>\n",
       "    .dataframe tbody tr th:only-of-type {\n",
       "        vertical-align: middle;\n",
       "    }\n",
       "\n",
       "    .dataframe tbody tr th {\n",
       "        vertical-align: top;\n",
       "    }\n",
       "\n",
       "    .dataframe thead th {\n",
       "        text-align: right;\n",
       "    }\n",
       "</style>\n",
       "<table border=\"1\" class=\"dataframe\">\n",
       "  <thead>\n",
       "    <tr style=\"text-align: right;\">\n",
       "      <th></th>\n",
       "      <th>fips</th>\n",
       "      <th>county</th>\n",
       "      <th>state</th>\n",
       "      <th>pct_diabetes18</th>\n",
       "    </tr>\n",
       "  </thead>\n",
       "  <tbody>\n",
       "    <tr>\n",
       "      <th>80</th>\n",
       "      <td>2150</td>\n",
       "      <td>Kodiak Island Borough</td>\n",
       "      <td>Alaska</td>\n",
       "      <td>7.0</td>\n",
       "    </tr>\n",
       "    <tr>\n",
       "      <th>81</th>\n",
       "      <td>2158</td>\n",
       "      <td>Kusilvak Census Area</td>\n",
       "      <td>Alaska</td>\n",
       "      <td>7.4</td>\n",
       "    </tr>\n",
       "    <tr>\n",
       "      <th>82</th>\n",
       "      <td>2164</td>\n",
       "      <td>Lake and Peninsula Borough</td>\n",
       "      <td>Alaska</td>\n",
       "      <td>8.5</td>\n",
       "    </tr>\n",
       "  </tbody>\n",
       "</table>\n",
       "</div>"
      ],
      "text/plain": [
       "    fips                      county   state  pct_diabetes18\n",
       "80  2150       Kodiak Island Borough  Alaska             7.0\n",
       "81  2158        Kusilvak Census Area  Alaska             7.4\n",
       "82  2164  Lake and Peninsula Borough  Alaska             8.5"
      ]
     },
     "execution_count": 338,
     "metadata": {},
     "output_type": "execute_result"
    }
   ],
   "source": [
    "d18_rec.iloc[80:83]"
   ]
  },
  {
   "cell_type": "markdown",
   "id": "0f615cc3",
   "metadata": {},
   "source": [
    "Kusilvak does appear in its correct location...however, I notice some differences in how the Kodiak Island and Lake and Penninsula counties are named...\n",
    "\n",
    "However, the row numbers and fips codes match. I will still be able to concatenate the dataframes.\n",
    "\n",
    "I will now move into preparing each individual dataset for modeling.\n",
    "\n",
    "First, I will create the classes for prediction: low, medium, and high prevalence of diabetes."
   ]
  },
  {
   "cell_type": "markdown",
   "id": "ebce7d20",
   "metadata": {},
   "source": [
    "##### Creating classes"
   ]
  },
  {
   "cell_type": "markdown",
   "id": "c13d6888",
   "metadata": {},
   "source": [
    "In this CDC [report](https://www.cdc.gov/diabetes/pdfs/data/statistics/national-diabetes-statistics-report.pdf), it says that the prevalence of diabetes in adults in 2018 was 13.0%. (CDC, 2020)\n",
    "\n",
    "According to the document, \"Estimated percentages and total number of people with\n",
    "diabetes and prediabetes were derived from the National Health and Nutrition Examination Survey\n",
    "(NHANES), National Health Interview Survey (NHIS), IHS National Data Warehouse (NDW), Behavioral Risk\n",
    "Factor Surveillance System (BRFSS), United States Diabetes Surveillance System (USDSS), and US resident\n",
    "population estimates.\" (CDC, 2020)\n",
    "\n",
    "The Diabetes Atlas values are also reported to be from the US Diabetes Surveillance system.\n",
    "\n",
    "However, the report above is a percentage of the total U.S. population, not an average county prevalence. I will determine the average prevalence below."
   ]
  },
  {
   "cell_type": "code",
   "execution_count": 339,
   "id": "87ce283b",
   "metadata": {},
   "outputs": [
    {
     "data": {
      "text/plain": [
       "8.724506683641012"
      ]
     },
     "execution_count": 339,
     "metadata": {},
     "output_type": "execute_result"
    }
   ],
   "source": [
    "d18_rec.pct_diabetes18.mean()"
   ]
  },
  {
   "cell_type": "markdown",
   "id": "db894385",
   "metadata": {},
   "source": [
    "I will use this as the baseline: values above this will be considered high. Values at or below this will be considered low."
   ]
  },
  {
   "cell_type": "code",
   "execution_count": 340,
   "id": "c7a81817",
   "metadata": {},
   "outputs": [],
   "source": [
    "d18_rec['class'] = np.nan"
   ]
  },
  {
   "cell_type": "code",
   "execution_count": 341,
   "id": "8a49b8b6",
   "metadata": {},
   "outputs": [
    {
     "data": {
      "text/html": [
       "<div>\n",
       "<style scoped>\n",
       "    .dataframe tbody tr th:only-of-type {\n",
       "        vertical-align: middle;\n",
       "    }\n",
       "\n",
       "    .dataframe tbody tr th {\n",
       "        vertical-align: top;\n",
       "    }\n",
       "\n",
       "    .dataframe thead th {\n",
       "        text-align: right;\n",
       "    }\n",
       "</style>\n",
       "<table border=\"1\" class=\"dataframe\">\n",
       "  <thead>\n",
       "    <tr style=\"text-align: right;\">\n",
       "      <th></th>\n",
       "      <th>fips</th>\n",
       "      <th>county</th>\n",
       "      <th>state</th>\n",
       "      <th>pct_diabetes18</th>\n",
       "      <th>class</th>\n",
       "    </tr>\n",
       "  </thead>\n",
       "  <tbody>\n",
       "    <tr>\n",
       "      <th>0</th>\n",
       "      <td>1001</td>\n",
       "      <td>Autauga</td>\n",
       "      <td>Alabama</td>\n",
       "      <td>9.5</td>\n",
       "      <td>NaN</td>\n",
       "    </tr>\n",
       "    <tr>\n",
       "      <th>1</th>\n",
       "      <td>1003</td>\n",
       "      <td>Baldwin</td>\n",
       "      <td>Alabama</td>\n",
       "      <td>8.4</td>\n",
       "      <td>NaN</td>\n",
       "    </tr>\n",
       "    <tr>\n",
       "      <th>2</th>\n",
       "      <td>1005</td>\n",
       "      <td>Barbour</td>\n",
       "      <td>Alabama</td>\n",
       "      <td>13.5</td>\n",
       "      <td>NaN</td>\n",
       "    </tr>\n",
       "    <tr>\n",
       "      <th>3</th>\n",
       "      <td>1007</td>\n",
       "      <td>Bibb</td>\n",
       "      <td>Alabama</td>\n",
       "      <td>10.2</td>\n",
       "      <td>NaN</td>\n",
       "    </tr>\n",
       "    <tr>\n",
       "      <th>4</th>\n",
       "      <td>1009</td>\n",
       "      <td>Blount</td>\n",
       "      <td>Alabama</td>\n",
       "      <td>10.5</td>\n",
       "      <td>NaN</td>\n",
       "    </tr>\n",
       "  </tbody>\n",
       "</table>\n",
       "</div>"
      ],
      "text/plain": [
       "   fips   county    state  pct_diabetes18  class\n",
       "0  1001  Autauga  Alabama             9.5    NaN\n",
       "1  1003  Baldwin  Alabama             8.4    NaN\n",
       "2  1005  Barbour  Alabama            13.5    NaN\n",
       "3  1007     Bibb  Alabama            10.2    NaN\n",
       "4  1009   Blount  Alabama            10.5    NaN"
      ]
     },
     "execution_count": 341,
     "metadata": {},
     "output_type": "execute_result"
    }
   ],
   "source": [
    "d18_rec.head()"
   ]
  },
  {
   "cell_type": "code",
   "execution_count": 342,
   "id": "e2464ff4",
   "metadata": {},
   "outputs": [],
   "source": [
    "d18_rec.loc[d18_rec['pct_diabetes18'] <= d18_rec.pct_diabetes18.mean(), 'class' ] = 0\n",
    "\n",
    "d18_rec.loc[d18_rec['pct_diabetes18'] > d18_rec.pct_diabetes18.mean(), 'class'] = 1"
   ]
  },
  {
   "cell_type": "code",
   "execution_count": 343,
   "id": "c5166b6d",
   "metadata": {},
   "outputs": [
    {
     "data": {
      "text/plain": [
       "0.0    0.58275\n",
       "1.0    0.41725\n",
       "Name: class, dtype: float64"
      ]
     },
     "execution_count": 343,
     "metadata": {},
     "output_type": "execute_result"
    }
   ],
   "source": [
    "d18_rec['class'].value_counts(normalize=True)"
   ]
  },
  {
   "cell_type": "markdown",
   "id": "3f3da348",
   "metadata": {},
   "source": [
    "The percentages are sufficiently close. I will leave the classes as they are."
   ]
  },
  {
   "cell_type": "code",
   "execution_count": 344,
   "id": "25578c2b",
   "metadata": {},
   "outputs": [
    {
     "data": {
      "text/plain": [
       "(3142, 5)"
      ]
     },
     "execution_count": 344,
     "metadata": {},
     "output_type": "execute_result"
    }
   ],
   "source": [
    "d18_rec.shape"
   ]
  },
  {
   "cell_type": "code",
   "execution_count": 345,
   "id": "a25f3147",
   "metadata": {},
   "outputs": [
    {
     "data": {
      "text/html": [
       "<div>\n",
       "<style scoped>\n",
       "    .dataframe tbody tr th:only-of-type {\n",
       "        vertical-align: middle;\n",
       "    }\n",
       "\n",
       "    .dataframe tbody tr th {\n",
       "        vertical-align: top;\n",
       "    }\n",
       "\n",
       "    .dataframe thead th {\n",
       "        text-align: right;\n",
       "    }\n",
       "</style>\n",
       "<table border=\"1\" class=\"dataframe\">\n",
       "  <thead>\n",
       "    <tr style=\"text-align: right;\">\n",
       "      <th></th>\n",
       "      <th>fips</th>\n",
       "      <th>county</th>\n",
       "      <th>state</th>\n",
       "      <th>pct_diabetes18</th>\n",
       "      <th>class</th>\n",
       "    </tr>\n",
       "  </thead>\n",
       "  <tbody>\n",
       "    <tr>\n",
       "      <th>3137</th>\n",
       "      <td>56037</td>\n",
       "      <td>Sweetwater</td>\n",
       "      <td>Wyoming</td>\n",
       "      <td>7.8</td>\n",
       "      <td>0.0</td>\n",
       "    </tr>\n",
       "    <tr>\n",
       "      <th>3138</th>\n",
       "      <td>56039</td>\n",
       "      <td>Teton</td>\n",
       "      <td>Wyoming</td>\n",
       "      <td>3.8</td>\n",
       "      <td>0.0</td>\n",
       "    </tr>\n",
       "    <tr>\n",
       "      <th>3139</th>\n",
       "      <td>56041</td>\n",
       "      <td>Uinta</td>\n",
       "      <td>Wyoming</td>\n",
       "      <td>8.4</td>\n",
       "      <td>0.0</td>\n",
       "    </tr>\n",
       "    <tr>\n",
       "      <th>3140</th>\n",
       "      <td>56043</td>\n",
       "      <td>Washakie</td>\n",
       "      <td>Wyoming</td>\n",
       "      <td>7.4</td>\n",
       "      <td>0.0</td>\n",
       "    </tr>\n",
       "    <tr>\n",
       "      <th>3141</th>\n",
       "      <td>56045</td>\n",
       "      <td>Weston</td>\n",
       "      <td>Wyoming</td>\n",
       "      <td>7.6</td>\n",
       "      <td>0.0</td>\n",
       "    </tr>\n",
       "  </tbody>\n",
       "</table>\n",
       "</div>"
      ],
      "text/plain": [
       "       fips      county    state  pct_diabetes18  class\n",
       "3137  56037  Sweetwater  Wyoming             7.8    0.0\n",
       "3138  56039       Teton  Wyoming             3.8    0.0\n",
       "3139  56041       Uinta  Wyoming             8.4    0.0\n",
       "3140  56043    Washakie  Wyoming             7.4    0.0\n",
       "3141  56045      Weston  Wyoming             7.6    0.0"
      ]
     },
     "execution_count": 345,
     "metadata": {},
     "output_type": "execute_result"
    }
   ],
   "source": [
    "d18_rec.tail()"
   ]
  },
  {
   "cell_type": "markdown",
   "id": "76e0284c",
   "metadata": {},
   "source": [
    "## I. Health"
   ]
  },
  {
   "cell_type": "markdown",
   "id": "35c933cb",
   "metadata": {},
   "source": [
    "For this dataset, I will need to find a solution for the missing values listed below. I will also add in the mental health provider and services information."
   ]
  },
  {
   "cell_type": "code",
   "execution_count": 346,
   "id": "869a7406",
   "metadata": {},
   "outputs": [
    {
     "data": {
      "text/plain": [
       "fips                       0\n",
       "state                      0\n",
       "county                     0\n",
       "pct_diabetes_adults08      5\n",
       "pct_diabetes_adults13      0\n",
       "pct_obese_adults12         0\n",
       "pct_obese_adults17         0\n",
       "pct_hspa17               760\n",
       "recfac11                   0\n",
       "recfac16                   0\n",
       "pch_recfac_11_16         143\n",
       "recfacpth11                0\n",
       "recfacpth16                0\n",
       "pch_recfacpth_11_16      143\n",
       "dtype: int64"
      ]
     },
     "execution_count": 346,
     "metadata": {},
     "output_type": "execute_result"
    }
   ],
   "source": [
    "health_rec.isnull().sum()"
   ]
  },
  {
   "cell_type": "markdown",
   "id": "3186ddf0",
   "metadata": {},
   "source": [
    "##### Columns Describing Health Conditions"
   ]
  },
  {
   "cell_type": "markdown",
   "id": "d447d93c",
   "metadata": {},
   "source": [
    "Firstly, I will say that while it would be effective to predict using obesity as a factor, I will not do so in this study. The link between obesity and diabetes is [well-known](https://www.medschool.lsuhsc.edu/genetics/louisiana_genetics_and_hereditary_health_care_obesity_and_diabetes.aspx).\n",
    "\n",
    "I am not attempting to predict diabetes based on health conditions, moreso I would like to look specifically at the environmental factors. (Thus I will not use the prevalence of diabetes in 2008 or 2013 either.)\n",
    "\n",
    "I will drop these columns at this time."
   ]
  },
  {
   "cell_type": "code",
   "execution_count": 347,
   "id": "e72b5ee3",
   "metadata": {},
   "outputs": [
    {
     "data": {
      "text/plain": [
       "Index(['fips', 'state', 'county', 'pct_hspa17', 'recfac11', 'recfac16',\n",
       "       'pch_recfac_11_16', 'recfacpth11', 'recfacpth16',\n",
       "       'pch_recfacpth_11_16'],\n",
       "      dtype='object')"
      ]
     },
     "execution_count": 347,
     "metadata": {},
     "output_type": "execute_result"
    }
   ],
   "source": [
    "health_rec = health_rec.drop(columns = ['pct_diabetes_adults08', 'pct_diabetes_adults13', 'pct_obese_adults12',\n",
    "                                       'pct_obese_adults17'])\n",
    "\n",
    "health_rec.columns"
   ]
  },
  {
   "cell_type": "markdown",
   "id": "913f72f4",
   "metadata": {},
   "source": [
    "The referenced columns have been dropped. I will move on to discuss the High Schoolers Physically Active column."
   ]
  },
  {
   "cell_type": "markdown",
   "id": "da28cf49",
   "metadata": {},
   "source": [
    "##### High Schoolers Physically Active (2017)"
   ]
  },
  {
   "cell_type": "markdown",
   "id": "d31eb5e4",
   "metadata": {},
   "source": [
    "Additionally, I will not be able to utilize columns that are missing many values, such as high schoolers physically active (2017). There are no hspa values from prior years from which to calculate a 2017 value, and I would not wish to impute generalized values for so many rows.\n",
    "\n",
    "I will proceed with removing the column."
   ]
  },
  {
   "cell_type": "code",
   "execution_count": 348,
   "id": "827bc665",
   "metadata": {},
   "outputs": [
    {
     "data": {
      "text/plain": [
       "Index(['fips', 'state', 'county', 'recfac11', 'recfac16', 'pch_recfac_11_16',\n",
       "       'recfacpth11', 'recfacpth16', 'pch_recfacpth_11_16'],\n",
       "      dtype='object')"
      ]
     },
     "execution_count": 348,
     "metadata": {},
     "output_type": "execute_result"
    }
   ],
   "source": [
    "health_rec = health_rec.drop(columns = ['pct_hspa17'])\n",
    "\n",
    "health_rec.columns"
   ]
  },
  {
   "cell_type": "markdown",
   "id": "2121a1d2",
   "metadata": {},
   "source": [
    "##### Percent Change - Recreational Facitilities (2011 - 2016) & Recreational Facilities per 1000 (2011  - 2016)"
   ]
  },
  {
   "cell_type": "markdown",
   "id": "d7ef19b8",
   "metadata": {},
   "source": [
    "These two columns are missing values: however, the actual numbers from which they are derived are not missing.\n",
    "\n",
    "I will attempt to fill in the missing values below."
   ]
  },
  {
   "cell_type": "code",
   "execution_count": 349,
   "id": "e908de67",
   "metadata": {},
   "outputs": [
    {
     "data": {
      "text/html": [
       "<div>\n",
       "<style scoped>\n",
       "    .dataframe tbody tr th:only-of-type {\n",
       "        vertical-align: middle;\n",
       "    }\n",
       "\n",
       "    .dataframe tbody tr th {\n",
       "        vertical-align: top;\n",
       "    }\n",
       "\n",
       "    .dataframe thead th {\n",
       "        text-align: right;\n",
       "    }\n",
       "</style>\n",
       "<table border=\"1\" class=\"dataframe\">\n",
       "  <thead>\n",
       "    <tr style=\"text-align: right;\">\n",
       "      <th></th>\n",
       "      <th>fips</th>\n",
       "      <th>state</th>\n",
       "      <th>county</th>\n",
       "      <th>recfac11</th>\n",
       "      <th>recfac16</th>\n",
       "      <th>pch_recfac_11_16</th>\n",
       "      <th>recfacpth11</th>\n",
       "      <th>recfacpth16</th>\n",
       "      <th>pch_recfacpth_11_16</th>\n",
       "    </tr>\n",
       "  </thead>\n",
       "  <tbody>\n",
       "    <tr>\n",
       "      <th>0</th>\n",
       "      <td>1001</td>\n",
       "      <td>AL</td>\n",
       "      <td>Autauga</td>\n",
       "      <td>4</td>\n",
       "      <td>6</td>\n",
       "      <td>50.000000</td>\n",
       "      <td>0.072465</td>\n",
       "      <td>0.108542</td>\n",
       "      <td>49.785629</td>\n",
       "    </tr>\n",
       "    <tr>\n",
       "      <th>1</th>\n",
       "      <td>1003</td>\n",
       "      <td>AL</td>\n",
       "      <td>Baldwin</td>\n",
       "      <td>16</td>\n",
       "      <td>21</td>\n",
       "      <td>31.250000</td>\n",
       "      <td>0.085775</td>\n",
       "      <td>0.101200</td>\n",
       "      <td>17.983256</td>\n",
       "    </tr>\n",
       "    <tr>\n",
       "      <th>2</th>\n",
       "      <td>1005</td>\n",
       "      <td>AL</td>\n",
       "      <td>Barbour</td>\n",
       "      <td>2</td>\n",
       "      <td>0</td>\n",
       "      <td>-100.000000</td>\n",
       "      <td>0.073123</td>\n",
       "      <td>0.000000</td>\n",
       "      <td>-100.000000</td>\n",
       "    </tr>\n",
       "    <tr>\n",
       "      <th>3</th>\n",
       "      <td>1007</td>\n",
       "      <td>AL</td>\n",
       "      <td>Bibb</td>\n",
       "      <td>0</td>\n",
       "      <td>1</td>\n",
       "      <td>NaN</td>\n",
       "      <td>0.000000</td>\n",
       "      <td>0.044183</td>\n",
       "      <td>NaN</td>\n",
       "    </tr>\n",
       "    <tr>\n",
       "      <th>4</th>\n",
       "      <td>1009</td>\n",
       "      <td>AL</td>\n",
       "      <td>Blount</td>\n",
       "      <td>3</td>\n",
       "      <td>4</td>\n",
       "      <td>33.333333</td>\n",
       "      <td>0.052118</td>\n",
       "      <td>0.069490</td>\n",
       "      <td>33.333333</td>\n",
       "    </tr>\n",
       "  </tbody>\n",
       "</table>\n",
       "</div>"
      ],
      "text/plain": [
       "   fips state   county  recfac11  recfac16  pch_recfac_11_16  recfacpth11  \\\n",
       "0  1001    AL  Autauga         4         6         50.000000     0.072465   \n",
       "1  1003    AL  Baldwin        16        21         31.250000     0.085775   \n",
       "2  1005    AL  Barbour         2         0       -100.000000     0.073123   \n",
       "3  1007    AL     Bibb         0         1               NaN     0.000000   \n",
       "4  1009    AL   Blount         3         4         33.333333     0.052118   \n",
       "\n",
       "   recfacpth16  pch_recfacpth_11_16  \n",
       "0     0.108542            49.785629  \n",
       "1     0.101200            17.983256  \n",
       "2     0.000000          -100.000000  \n",
       "3     0.044183                  NaN  \n",
       "4     0.069490            33.333333  "
      ]
     },
     "execution_count": 349,
     "metadata": {},
     "output_type": "execute_result"
    }
   ],
   "source": [
    "health_rec.head()"
   ]
  },
  {
   "cell_type": "markdown",
   "id": "356fa50f",
   "metadata": {},
   "source": [
    "It appears that the pch_recfac_11_16 column is derived through the following formula:\n",
    "\n",
    "(recfac16 - recfac11) /recfac11 * 100\n",
    "\n",
    "Similarly, the pch_recfacpth_11_16 column is derived through:\n",
    "\n",
    "(recfacpth16 - recfacpth11) /recfacpth11 * 100\n",
    "\n",
    "However, I see why some values are left blank: In some cases this would involve dividing by zero, as shown in Bibb County above.\n",
    "\n",
    "Because we already have the 2011 and 2016 values, I suppose I will go ahead and delete these columns."
   ]
  },
  {
   "cell_type": "code",
   "execution_count": 350,
   "id": "5a71cba3",
   "metadata": {},
   "outputs": [
    {
     "data": {
      "text/plain": [
       "Index(['fips', 'state', 'county', 'recfac11', 'recfac16', 'recfacpth11',\n",
       "       'recfacpth16'],\n",
       "      dtype='object')"
      ]
     },
     "execution_count": 350,
     "metadata": {},
     "output_type": "execute_result"
    }
   ],
   "source": [
    "health_rec = health_rec.drop(columns = ['pch_recfac_11_16', 'pch_recfacpth_11_16'])\n",
    "\n",
    "health_rec.columns"
   ]
  },
  {
   "cell_type": "code",
   "execution_count": 351,
   "id": "41d4b4af",
   "metadata": {},
   "outputs": [
    {
     "data": {
      "text/plain": [
       "fips           0\n",
       "state          0\n",
       "county         0\n",
       "recfac11       0\n",
       "recfac16       0\n",
       "recfacpth11    0\n",
       "recfacpth16    0\n",
       "dtype: int64"
      ]
     },
     "execution_count": 351,
     "metadata": {},
     "output_type": "execute_result"
    }
   ],
   "source": [
    "health_rec.isnull().sum()"
   ]
  },
  {
   "cell_type": "markdown",
   "id": "b120d25c",
   "metadata": {},
   "source": [
    "Now, there are no missing values. I will need to add in the columns from the Diabetes Atlas...\n",
    "\n",
    "First, however, I must still come up with a solution for the Bedford City discrepancy described above. \n",
    "\n",
    "If I had more time, and/or if it seemed crucial to create a model that included Bedford City, I would do so. \n",
    "\n",
    "Due to time constraints, I will simply remove the row."
   ]
  },
  {
   "cell_type": "code",
   "execution_count": 352,
   "id": "a3593620",
   "metadata": {},
   "outputs": [],
   "source": [
    "health_rec = health_rec[health_rec['fips'] != 51515]\n"
   ]
  },
  {
   "cell_type": "markdown",
   "id": "20d05037",
   "metadata": {},
   "source": [
    "Bedford City has been dropped. I will now confirm below."
   ]
  },
  {
   "cell_type": "code",
   "execution_count": 353,
   "id": "e7a92bfb",
   "metadata": {},
   "outputs": [
    {
     "data": {
      "text/html": [
       "<div>\n",
       "<style scoped>\n",
       "    .dataframe tbody tr th:only-of-type {\n",
       "        vertical-align: middle;\n",
       "    }\n",
       "\n",
       "    .dataframe tbody tr th {\n",
       "        vertical-align: top;\n",
       "    }\n",
       "\n",
       "    .dataframe thead th {\n",
       "        text-align: right;\n",
       "    }\n",
       "</style>\n",
       "<table border=\"1\" class=\"dataframe\">\n",
       "  <thead>\n",
       "    <tr style=\"text-align: right;\">\n",
       "      <th></th>\n",
       "      <th>fips</th>\n",
       "      <th>state</th>\n",
       "      <th>county</th>\n",
       "      <th>recfac11</th>\n",
       "      <th>recfac16</th>\n",
       "      <th>recfacpth11</th>\n",
       "      <th>recfacpth16</th>\n",
       "    </tr>\n",
       "  </thead>\n",
       "  <tbody>\n",
       "  </tbody>\n",
       "</table>\n",
       "</div>"
      ],
      "text/plain": [
       "Empty DataFrame\n",
       "Columns: [fips, state, county, recfac11, recfac16, recfacpth11, recfacpth16]\n",
       "Index: []"
      ]
     },
     "execution_count": 353,
     "metadata": {},
     "output_type": "execute_result"
    }
   ],
   "source": [
    "health_rec.loc[health_rec['fips'] == 51515]"
   ]
  },
  {
   "cell_type": "markdown",
   "id": "b55bed0d",
   "metadata": {},
   "source": [
    "The fips for Bedford City is no longer present. I will now ensure the Health dataframe matches that of the Diabetes Atlas."
   ]
  },
  {
   "cell_type": "code",
   "execution_count": 354,
   "id": "fb195d52",
   "metadata": {},
   "outputs": [
    {
     "data": {
      "text/plain": [
       "(3142, 7)"
      ]
     },
     "execution_count": 354,
     "metadata": {},
     "output_type": "execute_result"
    }
   ],
   "source": [
    "health_rec.shape #shows revised layout of Health dataframe"
   ]
  },
  {
   "cell_type": "code",
   "execution_count": 355,
   "id": "ab8161b2",
   "metadata": {},
   "outputs": [
    {
     "data": {
      "text/plain": [
       "(3142, 5)"
      ]
     },
     "execution_count": 355,
     "metadata": {},
     "output_type": "execute_result"
    }
   ],
   "source": [
    "d18_rec.shape #shows layout of Diabetes 18 dataframe"
   ]
  },
  {
   "cell_type": "code",
   "execution_count": 356,
   "id": "d191002b",
   "metadata": {},
   "outputs": [
    {
     "data": {
      "text/html": [
       "<div>\n",
       "<style scoped>\n",
       "    .dataframe tbody tr th:only-of-type {\n",
       "        vertical-align: middle;\n",
       "    }\n",
       "\n",
       "    .dataframe tbody tr th {\n",
       "        vertical-align: top;\n",
       "    }\n",
       "\n",
       "    .dataframe thead th {\n",
       "        text-align: right;\n",
       "    }\n",
       "</style>\n",
       "<table border=\"1\" class=\"dataframe\">\n",
       "  <thead>\n",
       "    <tr style=\"text-align: right;\">\n",
       "      <th></th>\n",
       "      <th>fips</th>\n",
       "      <th>state</th>\n",
       "      <th>county</th>\n",
       "      <th>recfac11</th>\n",
       "      <th>recfac16</th>\n",
       "      <th>recfacpth11</th>\n",
       "      <th>recfacpth16</th>\n",
       "    </tr>\n",
       "  </thead>\n",
       "  <tbody>\n",
       "    <tr>\n",
       "      <th>0</th>\n",
       "      <td>1001</td>\n",
       "      <td>AL</td>\n",
       "      <td>Autauga</td>\n",
       "      <td>4</td>\n",
       "      <td>6</td>\n",
       "      <td>0.072465</td>\n",
       "      <td>0.108542</td>\n",
       "    </tr>\n",
       "    <tr>\n",
       "      <th>1</th>\n",
       "      <td>1003</td>\n",
       "      <td>AL</td>\n",
       "      <td>Baldwin</td>\n",
       "      <td>16</td>\n",
       "      <td>21</td>\n",
       "      <td>0.085775</td>\n",
       "      <td>0.101200</td>\n",
       "    </tr>\n",
       "    <tr>\n",
       "      <th>2</th>\n",
       "      <td>1005</td>\n",
       "      <td>AL</td>\n",
       "      <td>Barbour</td>\n",
       "      <td>2</td>\n",
       "      <td>0</td>\n",
       "      <td>0.073123</td>\n",
       "      <td>0.000000</td>\n",
       "    </tr>\n",
       "    <tr>\n",
       "      <th>3</th>\n",
       "      <td>1007</td>\n",
       "      <td>AL</td>\n",
       "      <td>Bibb</td>\n",
       "      <td>0</td>\n",
       "      <td>1</td>\n",
       "      <td>0.000000</td>\n",
       "      <td>0.044183</td>\n",
       "    </tr>\n",
       "    <tr>\n",
       "      <th>4</th>\n",
       "      <td>1009</td>\n",
       "      <td>AL</td>\n",
       "      <td>Blount</td>\n",
       "      <td>3</td>\n",
       "      <td>4</td>\n",
       "      <td>0.052118</td>\n",
       "      <td>0.069490</td>\n",
       "    </tr>\n",
       "  </tbody>\n",
       "</table>\n",
       "</div>"
      ],
      "text/plain": [
       "   fips state   county  recfac11  recfac16  recfacpth11  recfacpth16\n",
       "0  1001    AL  Autauga         4         6     0.072465     0.108542\n",
       "1  1003    AL  Baldwin        16        21     0.085775     0.101200\n",
       "2  1005    AL  Barbour         2         0     0.073123     0.000000\n",
       "3  1007    AL     Bibb         0         1     0.000000     0.044183\n",
       "4  1009    AL   Blount         3         4     0.052118     0.069490"
      ]
     },
     "execution_count": 356,
     "metadata": {},
     "output_type": "execute_result"
    }
   ],
   "source": [
    "health_rec.head()"
   ]
  },
  {
   "cell_type": "code",
   "execution_count": 357,
   "id": "bac628a8",
   "metadata": {},
   "outputs": [
    {
     "data": {
      "text/html": [
       "<div>\n",
       "<style scoped>\n",
       "    .dataframe tbody tr th:only-of-type {\n",
       "        vertical-align: middle;\n",
       "    }\n",
       "\n",
       "    .dataframe tbody tr th {\n",
       "        vertical-align: top;\n",
       "    }\n",
       "\n",
       "    .dataframe thead th {\n",
       "        text-align: right;\n",
       "    }\n",
       "</style>\n",
       "<table border=\"1\" class=\"dataframe\">\n",
       "  <thead>\n",
       "    <tr style=\"text-align: right;\">\n",
       "      <th></th>\n",
       "      <th>fips</th>\n",
       "      <th>county</th>\n",
       "      <th>state</th>\n",
       "      <th>pct_diabetes18</th>\n",
       "      <th>class</th>\n",
       "    </tr>\n",
       "  </thead>\n",
       "  <tbody>\n",
       "    <tr>\n",
       "      <th>0</th>\n",
       "      <td>1001</td>\n",
       "      <td>Autauga</td>\n",
       "      <td>Alabama</td>\n",
       "      <td>9.5</td>\n",
       "      <td>1.0</td>\n",
       "    </tr>\n",
       "    <tr>\n",
       "      <th>1</th>\n",
       "      <td>1003</td>\n",
       "      <td>Baldwin</td>\n",
       "      <td>Alabama</td>\n",
       "      <td>8.4</td>\n",
       "      <td>0.0</td>\n",
       "    </tr>\n",
       "    <tr>\n",
       "      <th>2</th>\n",
       "      <td>1005</td>\n",
       "      <td>Barbour</td>\n",
       "      <td>Alabama</td>\n",
       "      <td>13.5</td>\n",
       "      <td>1.0</td>\n",
       "    </tr>\n",
       "    <tr>\n",
       "      <th>3</th>\n",
       "      <td>1007</td>\n",
       "      <td>Bibb</td>\n",
       "      <td>Alabama</td>\n",
       "      <td>10.2</td>\n",
       "      <td>1.0</td>\n",
       "    </tr>\n",
       "    <tr>\n",
       "      <th>4</th>\n",
       "      <td>1009</td>\n",
       "      <td>Blount</td>\n",
       "      <td>Alabama</td>\n",
       "      <td>10.5</td>\n",
       "      <td>1.0</td>\n",
       "    </tr>\n",
       "  </tbody>\n",
       "</table>\n",
       "</div>"
      ],
      "text/plain": [
       "   fips   county    state  pct_diabetes18  class\n",
       "0  1001  Autauga  Alabama             9.5    1.0\n",
       "1  1003  Baldwin  Alabama             8.4    0.0\n",
       "2  1005  Barbour  Alabama            13.5    1.0\n",
       "3  1007     Bibb  Alabama            10.2    1.0\n",
       "4  1009   Blount  Alabama            10.5    1.0"
      ]
     },
     "execution_count": 357,
     "metadata": {},
     "output_type": "execute_result"
    }
   ],
   "source": [
    "d18_rec.head()"
   ]
  },
  {
   "cell_type": "code",
   "execution_count": 358,
   "id": "ac70ab91",
   "metadata": {},
   "outputs": [
    {
     "data": {
      "text/html": [
       "<div>\n",
       "<style scoped>\n",
       "    .dataframe tbody tr th:only-of-type {\n",
       "        vertical-align: middle;\n",
       "    }\n",
       "\n",
       "    .dataframe tbody tr th {\n",
       "        vertical-align: top;\n",
       "    }\n",
       "\n",
       "    .dataframe thead th {\n",
       "        text-align: right;\n",
       "    }\n",
       "</style>\n",
       "<table border=\"1\" class=\"dataframe\">\n",
       "  <thead>\n",
       "    <tr style=\"text-align: right;\">\n",
       "      <th></th>\n",
       "      <th>fips</th>\n",
       "      <th>state</th>\n",
       "      <th>county</th>\n",
       "      <th>recfac11</th>\n",
       "      <th>recfac16</th>\n",
       "      <th>recfacpth11</th>\n",
       "      <th>recfacpth16</th>\n",
       "    </tr>\n",
       "  </thead>\n",
       "  <tbody>\n",
       "    <tr>\n",
       "      <th>3137</th>\n",
       "      <td>56037</td>\n",
       "      <td>WY</td>\n",
       "      <td>Sweetwater</td>\n",
       "      <td>4</td>\n",
       "      <td>6</td>\n",
       "      <td>0.090882</td>\n",
       "      <td>0.135609</td>\n",
       "    </tr>\n",
       "    <tr>\n",
       "      <th>3138</th>\n",
       "      <td>56039</td>\n",
       "      <td>WY</td>\n",
       "      <td>Teton</td>\n",
       "      <td>9</td>\n",
       "      <td>13</td>\n",
       "      <td>0.419072</td>\n",
       "      <td>0.560828</td>\n",
       "    </tr>\n",
       "    <tr>\n",
       "      <th>3139</th>\n",
       "      <td>56041</td>\n",
       "      <td>WY</td>\n",
       "      <td>Uinta</td>\n",
       "      <td>3</td>\n",
       "      <td>2</td>\n",
       "      <td>0.143548</td>\n",
       "      <td>0.096567</td>\n",
       "    </tr>\n",
       "    <tr>\n",
       "      <th>3140</th>\n",
       "      <td>56043</td>\n",
       "      <td>WY</td>\n",
       "      <td>Washakie</td>\n",
       "      <td>1</td>\n",
       "      <td>1</td>\n",
       "      <td>0.118203</td>\n",
       "      <td>0.122130</td>\n",
       "    </tr>\n",
       "    <tr>\n",
       "      <th>3141</th>\n",
       "      <td>56045</td>\n",
       "      <td>WY</td>\n",
       "      <td>Weston</td>\n",
       "      <td>1</td>\n",
       "      <td>0</td>\n",
       "      <td>0.140036</td>\n",
       "      <td>0.000000</td>\n",
       "    </tr>\n",
       "  </tbody>\n",
       "</table>\n",
       "</div>"
      ],
      "text/plain": [
       "       fips state      county  recfac11  recfac16  recfacpth11  recfacpth16\n",
       "3137  56037    WY  Sweetwater         4         6     0.090882     0.135609\n",
       "3138  56039    WY       Teton         9        13     0.419072     0.560828\n",
       "3139  56041    WY       Uinta         3         2     0.143548     0.096567\n",
       "3140  56043    WY    Washakie         1         1     0.118203     0.122130\n",
       "3141  56045    WY      Weston         1         0     0.140036     0.000000"
      ]
     },
     "execution_count": 358,
     "metadata": {},
     "output_type": "execute_result"
    }
   ],
   "source": [
    "health_rec.tail()"
   ]
  },
  {
   "cell_type": "code",
   "execution_count": 359,
   "id": "9da29bd6",
   "metadata": {},
   "outputs": [
    {
     "data": {
      "text/html": [
       "<div>\n",
       "<style scoped>\n",
       "    .dataframe tbody tr th:only-of-type {\n",
       "        vertical-align: middle;\n",
       "    }\n",
       "\n",
       "    .dataframe tbody tr th {\n",
       "        vertical-align: top;\n",
       "    }\n",
       "\n",
       "    .dataframe thead th {\n",
       "        text-align: right;\n",
       "    }\n",
       "</style>\n",
       "<table border=\"1\" class=\"dataframe\">\n",
       "  <thead>\n",
       "    <tr style=\"text-align: right;\">\n",
       "      <th></th>\n",
       "      <th>fips</th>\n",
       "      <th>county</th>\n",
       "      <th>state</th>\n",
       "      <th>pct_diabetes18</th>\n",
       "      <th>class</th>\n",
       "    </tr>\n",
       "  </thead>\n",
       "  <tbody>\n",
       "    <tr>\n",
       "      <th>3137</th>\n",
       "      <td>56037</td>\n",
       "      <td>Sweetwater</td>\n",
       "      <td>Wyoming</td>\n",
       "      <td>7.8</td>\n",
       "      <td>0.0</td>\n",
       "    </tr>\n",
       "    <tr>\n",
       "      <th>3138</th>\n",
       "      <td>56039</td>\n",
       "      <td>Teton</td>\n",
       "      <td>Wyoming</td>\n",
       "      <td>3.8</td>\n",
       "      <td>0.0</td>\n",
       "    </tr>\n",
       "    <tr>\n",
       "      <th>3139</th>\n",
       "      <td>56041</td>\n",
       "      <td>Uinta</td>\n",
       "      <td>Wyoming</td>\n",
       "      <td>8.4</td>\n",
       "      <td>0.0</td>\n",
       "    </tr>\n",
       "    <tr>\n",
       "      <th>3140</th>\n",
       "      <td>56043</td>\n",
       "      <td>Washakie</td>\n",
       "      <td>Wyoming</td>\n",
       "      <td>7.4</td>\n",
       "      <td>0.0</td>\n",
       "    </tr>\n",
       "    <tr>\n",
       "      <th>3141</th>\n",
       "      <td>56045</td>\n",
       "      <td>Weston</td>\n",
       "      <td>Wyoming</td>\n",
       "      <td>7.6</td>\n",
       "      <td>0.0</td>\n",
       "    </tr>\n",
       "  </tbody>\n",
       "</table>\n",
       "</div>"
      ],
      "text/plain": [
       "       fips      county    state  pct_diabetes18  class\n",
       "3137  56037  Sweetwater  Wyoming             7.8    0.0\n",
       "3138  56039       Teton  Wyoming             3.8    0.0\n",
       "3139  56041       Uinta  Wyoming             8.4    0.0\n",
       "3140  56043    Washakie  Wyoming             7.4    0.0\n",
       "3141  56045      Weston  Wyoming             7.6    0.0"
      ]
     },
     "execution_count": 359,
     "metadata": {},
     "output_type": "execute_result"
    }
   ],
   "source": [
    "d18_rec.tail()"
   ]
  },
  {
   "cell_type": "code",
   "execution_count": 360,
   "id": "e0cdca7f",
   "metadata": {},
   "outputs": [
    {
     "data": {
      "text/plain": [
       "(3142, 5)"
      ]
     },
     "execution_count": 360,
     "metadata": {},
     "output_type": "execute_result"
    }
   ],
   "source": [
    "d18_rec.shape"
   ]
  },
  {
   "cell_type": "code",
   "execution_count": 361,
   "id": "6fa0f1fb",
   "metadata": {},
   "outputs": [
    {
     "data": {
      "text/plain": [
       "(3142, 7)"
      ]
     },
     "execution_count": 361,
     "metadata": {},
     "output_type": "execute_result"
    }
   ],
   "source": [
    "health_rec.shape"
   ]
  },
  {
   "cell_type": "code",
   "execution_count": 362,
   "id": "366b75b3",
   "metadata": {},
   "outputs": [
    {
     "data": {
      "text/plain": [
       "fips           0\n",
       "state          0\n",
       "county         0\n",
       "recfac11       0\n",
       "recfac16       0\n",
       "recfacpth11    0\n",
       "recfacpth16    0\n",
       "dtype: int64"
      ]
     },
     "execution_count": 362,
     "metadata": {},
     "output_type": "execute_result"
    }
   ],
   "source": [
    "health_rec.isnull().sum()"
   ]
  },
  {
   "cell_type": "code",
   "execution_count": 363,
   "id": "e0a658ee",
   "metadata": {},
   "outputs": [
    {
     "data": {
      "text/plain": [
       "fips              0\n",
       "county            0\n",
       "state             0\n",
       "pct_diabetes18    0\n",
       "class             0\n",
       "dtype: int64"
      ]
     },
     "execution_count": 363,
     "metadata": {},
     "output_type": "execute_result"
    }
   ],
   "source": [
    "d18_rec.isnull().sum()"
   ]
  },
  {
   "cell_type": "code",
   "execution_count": 364,
   "id": "fb5ef385",
   "metadata": {},
   "outputs": [
    {
     "data": {
      "text/plain": [
       "count     3142.000000\n",
       "mean     30383.649268\n",
       "std      15162.508374\n",
       "min       1001.000000\n",
       "25%      18177.500000\n",
       "50%      29176.000000\n",
       "75%      45080.500000\n",
       "max      56045.000000\n",
       "Name: fips, dtype: float64"
      ]
     },
     "execution_count": 364,
     "metadata": {},
     "output_type": "execute_result"
    }
   ],
   "source": [
    "health_rec.fips.describe()"
   ]
  },
  {
   "cell_type": "code",
   "execution_count": 365,
   "id": "5bcb331a",
   "metadata": {},
   "outputs": [
    {
     "data": {
      "text/plain": [
       "count     3142.000000\n",
       "mean     30383.649268\n",
       "std      15162.508374\n",
       "min       1001.000000\n",
       "25%      18177.500000\n",
       "50%      29176.000000\n",
       "75%      45080.500000\n",
       "max      56045.000000\n",
       "Name: fips, dtype: float64"
      ]
     },
     "execution_count": 365,
     "metadata": {},
     "output_type": "execute_result"
    }
   ],
   "source": [
    "d18_rec.fips.describe()"
   ]
  },
  {
   "cell_type": "markdown",
   "id": "2735da38",
   "metadata": {},
   "source": [
    "It is confirmed. The Health dataframe and the Diabetes Atlas have the same number of rows. The counties for the top 5 rows and bottom 5 rows match. The statistical summary for the respective fips columns are the same.\n",
    "\n",
    "I will now add the Mental Health Services information to the dataframe. Because the MHS data are 1 row for each state, whereas the Health data contain many rows for each state, I will need to create and use a function."
   ]
  },
  {
   "cell_type": "markdown",
   "id": "f831440c",
   "metadata": {},
   "source": [
    "##### Adding Mental Health Services"
   ]
  },
  {
   "cell_type": "code",
   "execution_count": 366,
   "id": "1f1c8855",
   "metadata": {},
   "outputs": [],
   "source": [
    "file_path = '../data/NSDUH_RcvdMHServes2016_CLEAN.csv' #importing data\n",
    "\n",
    "mhs = pd.read_csv(file_path)"
   ]
  },
  {
   "cell_type": "code",
   "execution_count": 367,
   "id": "9e0e4ed3",
   "metadata": {},
   "outputs": [
    {
     "data": {
      "text/html": [
       "<div>\n",
       "<style scoped>\n",
       "    .dataframe tbody tr th:only-of-type {\n",
       "        vertical-align: middle;\n",
       "    }\n",
       "\n",
       "    .dataframe tbody tr th {\n",
       "        vertical-align: top;\n",
       "    }\n",
       "\n",
       "    .dataframe thead th {\n",
       "        text-align: right;\n",
       "    }\n",
       "</style>\n",
       "<table border=\"1\" class=\"dataframe\">\n",
       "  <thead>\n",
       "    <tr style=\"text-align: right;\">\n",
       "      <th></th>\n",
       "      <th>state</th>\n",
       "      <th>age18plus</th>\n",
       "      <th>age18_25</th>\n",
       "      <th>age26plus</th>\n",
       "    </tr>\n",
       "  </thead>\n",
       "  <tbody>\n",
       "    <tr>\n",
       "      <th>0</th>\n",
       "      <td>Alabama</td>\n",
       "      <td>13.0</td>\n",
       "      <td>11.0</td>\n",
       "      <td>13.0</td>\n",
       "    </tr>\n",
       "    <tr>\n",
       "      <th>1</th>\n",
       "      <td>Alaska</td>\n",
       "      <td>14.0</td>\n",
       "      <td>13.0</td>\n",
       "      <td>14.0</td>\n",
       "    </tr>\n",
       "    <tr>\n",
       "      <th>2</th>\n",
       "      <td>Arizona</td>\n",
       "      <td>12.0</td>\n",
       "      <td>10.0</td>\n",
       "      <td>12.0</td>\n",
       "    </tr>\n",
       "    <tr>\n",
       "      <th>3</th>\n",
       "      <td>Arkansas</td>\n",
       "      <td>16.0</td>\n",
       "      <td>13.0</td>\n",
       "      <td>16.0</td>\n",
       "    </tr>\n",
       "    <tr>\n",
       "      <th>4</th>\n",
       "      <td>California</td>\n",
       "      <td>12.0</td>\n",
       "      <td>10.0</td>\n",
       "      <td>12.0</td>\n",
       "    </tr>\n",
       "  </tbody>\n",
       "</table>\n",
       "</div>"
      ],
      "text/plain": [
       "        state  age18plus  age18_25  age26plus\n",
       "0     Alabama       13.0      11.0       13.0\n",
       "1      Alaska       14.0      13.0       14.0\n",
       "2     Arizona       12.0      10.0       12.0\n",
       "3    Arkansas       16.0      13.0       16.0\n",
       "4  California       12.0      10.0       12.0"
      ]
     },
     "execution_count": 367,
     "metadata": {},
     "output_type": "execute_result"
    }
   ],
   "source": [
    "mhs.head()"
   ]
  },
  {
   "cell_type": "code",
   "execution_count": 368,
   "id": "19daf133",
   "metadata": {},
   "outputs": [],
   "source": [
    "health_rec['pct_mhs18'] = np.nan #adds the new columns (without values) into the Health dataframe\n",
    "\n",
    "health_rec['pct_mhs1825'] = np.nan\n",
    "\n",
    "health_rec['pct_mhs26'] = np.nan"
   ]
  },
  {
   "cell_type": "code",
   "execution_count": 369,
   "id": "de4aea98",
   "metadata": {},
   "outputs": [
    {
     "data": {
      "text/plain": [
       "array(['AL', 'AK', 'AZ', 'AR', 'CA', 'CO', 'CT', 'DE', 'DC', 'FL', 'GA',\n",
       "       'HI', 'ID', 'IL', 'IN', 'IA', 'KS', 'KY', 'LA', 'ME', 'MD', 'MA',\n",
       "       'MI', 'MN', 'MS', 'MO', 'MT', 'NE', 'NV', 'NH', 'NJ', 'NM', 'NY',\n",
       "       'NC', 'ND', 'OH', 'OK', 'OR', 'PA', 'RI', 'SC', 'SD', 'TN', 'TX',\n",
       "       'UT', 'VT', 'VA', 'WA', 'WV', 'WI', 'WY'], dtype=object)"
      ]
     },
     "execution_count": 369,
     "metadata": {},
     "output_type": "execute_result"
    }
   ],
   "source": [
    "health_rec.state.unique() #shows list of states in Health dataset"
   ]
  },
  {
   "cell_type": "code",
   "execution_count": 370,
   "id": "67fc1e43",
   "metadata": {},
   "outputs": [],
   "source": [
    "#generates lists of the three MH services columns\n",
    "\n",
    "age18plus_list = mhs['age18plus'].values.tolist()\n",
    "\n",
    "age18_25_list = mhs['age18_25'].values.tolist()\n",
    "\n",
    "age26plus_list = mhs['age26plus'].values.tolist()"
   ]
  },
  {
   "cell_type": "code",
   "execution_count": 371,
   "id": "87468101",
   "metadata": {},
   "outputs": [],
   "source": [
    "#creates a list of the states\n",
    "\n",
    "state_list = ['AL', 'AK', 'AZ', 'AR', 'CA', 'CO', 'CT', 'DE', 'DC', 'FL', 'GA',\n",
    "       'HI', 'ID', 'IL', 'IN', 'IA', 'KS', 'KY', 'LA', 'ME', 'MD', 'MA',\n",
    "       'MI', 'MN', 'MS', 'MO', 'MT', 'NE', 'NV', 'NH', 'NJ', 'NM', 'NY',\n",
    "       'NC', 'ND', 'OH', 'OK', 'OR', 'PA', 'RI', 'SC', 'SD', 'TN', 'TX',\n",
    "       'UT', 'VT', 'VA', 'WA', 'WV', 'WI', 'WY']"
   ]
  },
  {
   "cell_type": "code",
   "execution_count": 372,
   "id": "ca10e8ba",
   "metadata": {},
   "outputs": [],
   "source": [
    "#function for adding in values for age 18+ column\n",
    "\n",
    "def add18plus(list1, list2):\n",
    "    for n in range (0,51):\n",
    "        \n",
    "        health_rec.loc[health_rec['state'] == list1[n], 'pct_mhs18'] = list2[n]\n",
    "        \n",
    "add18plus(state_list, age18plus_list)"
   ]
  },
  {
   "cell_type": "code",
   "execution_count": 373,
   "id": "d6945158",
   "metadata": {},
   "outputs": [],
   "source": [
    "#function for adding in values for age 18-25 column\n",
    "\n",
    "def add1825(list1, list2):\n",
    "    for n in range (0,51):\n",
    "        \n",
    "        health_rec.loc[health_rec['state'] == list1[n], 'pct_mhs1825'] = list2[n]\n",
    "        \n",
    "add1825(state_list, age18_25_list)"
   ]
  },
  {
   "cell_type": "code",
   "execution_count": 374,
   "id": "de919a14",
   "metadata": {},
   "outputs": [],
   "source": [
    "#function for adding in values for age 26+ column\n",
    "\n",
    "def add26plus(list1, list2):\n",
    "    for n in range (0,51):\n",
    "        \n",
    "        health_rec.loc[health_rec['state'] == list1[n], 'pct_mhs26'] = list2[n]\n",
    "        \n",
    "add26plus(state_list, age26plus_list)"
   ]
  },
  {
   "cell_type": "markdown",
   "id": "65c5421c",
   "metadata": {},
   "source": [
    "I will now check to see if this worked correctly."
   ]
  },
  {
   "cell_type": "code",
   "execution_count": 375,
   "id": "c740f006",
   "metadata": {},
   "outputs": [
    {
     "data": {
      "text/html": [
       "<div>\n",
       "<style scoped>\n",
       "    .dataframe tbody tr th:only-of-type {\n",
       "        vertical-align: middle;\n",
       "    }\n",
       "\n",
       "    .dataframe tbody tr th {\n",
       "        vertical-align: top;\n",
       "    }\n",
       "\n",
       "    .dataframe thead th {\n",
       "        text-align: right;\n",
       "    }\n",
       "</style>\n",
       "<table border=\"1\" class=\"dataframe\">\n",
       "  <thead>\n",
       "    <tr style=\"text-align: right;\">\n",
       "      <th></th>\n",
       "      <th>fips</th>\n",
       "      <th>state</th>\n",
       "      <th>county</th>\n",
       "      <th>recfac11</th>\n",
       "      <th>recfac16</th>\n",
       "      <th>recfacpth11</th>\n",
       "      <th>recfacpth16</th>\n",
       "      <th>pct_mhs18</th>\n",
       "      <th>pct_mhs1825</th>\n",
       "      <th>pct_mhs26</th>\n",
       "    </tr>\n",
       "  </thead>\n",
       "  <tbody>\n",
       "    <tr>\n",
       "      <th>0</th>\n",
       "      <td>1001</td>\n",
       "      <td>AL</td>\n",
       "      <td>Autauga</td>\n",
       "      <td>4</td>\n",
       "      <td>6</td>\n",
       "      <td>0.072465</td>\n",
       "      <td>0.108542</td>\n",
       "      <td>13.0</td>\n",
       "      <td>11.0</td>\n",
       "      <td>13.0</td>\n",
       "    </tr>\n",
       "    <tr>\n",
       "      <th>1</th>\n",
       "      <td>1003</td>\n",
       "      <td>AL</td>\n",
       "      <td>Baldwin</td>\n",
       "      <td>16</td>\n",
       "      <td>21</td>\n",
       "      <td>0.085775</td>\n",
       "      <td>0.101200</td>\n",
       "      <td>13.0</td>\n",
       "      <td>11.0</td>\n",
       "      <td>13.0</td>\n",
       "    </tr>\n",
       "  </tbody>\n",
       "</table>\n",
       "</div>"
      ],
      "text/plain": [
       "   fips state   county  recfac11  recfac16  recfacpth11  recfacpth16  \\\n",
       "0  1001    AL  Autauga         4         6     0.072465     0.108542   \n",
       "1  1003    AL  Baldwin        16        21     0.085775     0.101200   \n",
       "\n",
       "   pct_mhs18  pct_mhs1825  pct_mhs26  \n",
       "0       13.0         11.0       13.0  \n",
       "1       13.0         11.0       13.0  "
      ]
     },
     "execution_count": 375,
     "metadata": {},
     "output_type": "execute_result"
    }
   ],
   "source": [
    "health_rec.head(2)"
   ]
  },
  {
   "cell_type": "code",
   "execution_count": 376,
   "id": "52fa7735",
   "metadata": {},
   "outputs": [
    {
     "data": {
      "text/html": [
       "<div>\n",
       "<style scoped>\n",
       "    .dataframe tbody tr th:only-of-type {\n",
       "        vertical-align: middle;\n",
       "    }\n",
       "\n",
       "    .dataframe tbody tr th {\n",
       "        vertical-align: top;\n",
       "    }\n",
       "\n",
       "    .dataframe thead th {\n",
       "        text-align: right;\n",
       "    }\n",
       "</style>\n",
       "<table border=\"1\" class=\"dataframe\">\n",
       "  <thead>\n",
       "    <tr style=\"text-align: right;\">\n",
       "      <th></th>\n",
       "      <th>state</th>\n",
       "      <th>age18plus</th>\n",
       "      <th>age18_25</th>\n",
       "      <th>age26plus</th>\n",
       "    </tr>\n",
       "  </thead>\n",
       "  <tbody>\n",
       "    <tr>\n",
       "      <th>0</th>\n",
       "      <td>Alabama</td>\n",
       "      <td>13.0</td>\n",
       "      <td>11.0</td>\n",
       "      <td>13.0</td>\n",
       "    </tr>\n",
       "  </tbody>\n",
       "</table>\n",
       "</div>"
      ],
      "text/plain": [
       "     state  age18plus  age18_25  age26plus\n",
       "0  Alabama       13.0      11.0       13.0"
      ]
     },
     "execution_count": 376,
     "metadata": {},
     "output_type": "execute_result"
    }
   ],
   "source": [
    "mhs.loc[mhs['state'] == 'Alabama']"
   ]
  },
  {
   "cell_type": "code",
   "execution_count": 377,
   "id": "1ab984cc",
   "metadata": {},
   "outputs": [
    {
     "data": {
      "text/html": [
       "<div>\n",
       "<style scoped>\n",
       "    .dataframe tbody tr th:only-of-type {\n",
       "        vertical-align: middle;\n",
       "    }\n",
       "\n",
       "    .dataframe tbody tr th {\n",
       "        vertical-align: top;\n",
       "    }\n",
       "\n",
       "    .dataframe thead th {\n",
       "        text-align: right;\n",
       "    }\n",
       "</style>\n",
       "<table border=\"1\" class=\"dataframe\">\n",
       "  <thead>\n",
       "    <tr style=\"text-align: right;\">\n",
       "      <th></th>\n",
       "      <th>fips</th>\n",
       "      <th>state</th>\n",
       "      <th>county</th>\n",
       "      <th>recfac11</th>\n",
       "      <th>recfac16</th>\n",
       "      <th>recfacpth11</th>\n",
       "      <th>recfacpth16</th>\n",
       "      <th>pct_mhs18</th>\n",
       "      <th>pct_mhs1825</th>\n",
       "      <th>pct_mhs26</th>\n",
       "    </tr>\n",
       "  </thead>\n",
       "  <tbody>\n",
       "    <tr>\n",
       "      <th>2043</th>\n",
       "      <td>39001</td>\n",
       "      <td>OH</td>\n",
       "      <td>Adams</td>\n",
       "      <td>0</td>\n",
       "      <td>0</td>\n",
       "      <td>0.000000</td>\n",
       "      <td>0.000000</td>\n",
       "      <td>17.0</td>\n",
       "      <td>15.0</td>\n",
       "      <td>17.0</td>\n",
       "    </tr>\n",
       "    <tr>\n",
       "      <th>2044</th>\n",
       "      <td>39003</td>\n",
       "      <td>OH</td>\n",
       "      <td>Allen</td>\n",
       "      <td>12</td>\n",
       "      <td>11</td>\n",
       "      <td>0.113234</td>\n",
       "      <td>0.106151</td>\n",
       "      <td>17.0</td>\n",
       "      <td>15.0</td>\n",
       "      <td>17.0</td>\n",
       "    </tr>\n",
       "  </tbody>\n",
       "</table>\n",
       "</div>"
      ],
      "text/plain": [
       "       fips state county  recfac11  recfac16  recfacpth11  recfacpth16  \\\n",
       "2043  39001    OH  Adams         0         0     0.000000     0.000000   \n",
       "2044  39003    OH  Allen        12        11     0.113234     0.106151   \n",
       "\n",
       "      pct_mhs18  pct_mhs1825  pct_mhs26  \n",
       "2043       17.0         15.0       17.0  \n",
       "2044       17.0         15.0       17.0  "
      ]
     },
     "execution_count": 377,
     "metadata": {},
     "output_type": "execute_result"
    }
   ],
   "source": [
    "health_rec.loc[health_rec['state'] =='OH'].head(2)"
   ]
  },
  {
   "cell_type": "code",
   "execution_count": 378,
   "id": "1ef269f0",
   "metadata": {},
   "outputs": [
    {
     "data": {
      "text/html": [
       "<div>\n",
       "<style scoped>\n",
       "    .dataframe tbody tr th:only-of-type {\n",
       "        vertical-align: middle;\n",
       "    }\n",
       "\n",
       "    .dataframe tbody tr th {\n",
       "        vertical-align: top;\n",
       "    }\n",
       "\n",
       "    .dataframe thead th {\n",
       "        text-align: right;\n",
       "    }\n",
       "</style>\n",
       "<table border=\"1\" class=\"dataframe\">\n",
       "  <thead>\n",
       "    <tr style=\"text-align: right;\">\n",
       "      <th></th>\n",
       "      <th>state</th>\n",
       "      <th>age18plus</th>\n",
       "      <th>age18_25</th>\n",
       "      <th>age26plus</th>\n",
       "    </tr>\n",
       "  </thead>\n",
       "  <tbody>\n",
       "    <tr>\n",
       "      <th>35</th>\n",
       "      <td>Ohio</td>\n",
       "      <td>17.0</td>\n",
       "      <td>15.0</td>\n",
       "      <td>17.0</td>\n",
       "    </tr>\n",
       "  </tbody>\n",
       "</table>\n",
       "</div>"
      ],
      "text/plain": [
       "   state  age18plus  age18_25  age26plus\n",
       "35  Ohio       17.0      15.0       17.0"
      ]
     },
     "execution_count": 378,
     "metadata": {},
     "output_type": "execute_result"
    }
   ],
   "source": [
    "mhs.loc[mhs['state'] == 'Ohio']"
   ]
  },
  {
   "cell_type": "code",
   "execution_count": 379,
   "id": "a0fb6fa7",
   "metadata": {},
   "outputs": [
    {
     "data": {
      "text/html": [
       "<div>\n",
       "<style scoped>\n",
       "    .dataframe tbody tr th:only-of-type {\n",
       "        vertical-align: middle;\n",
       "    }\n",
       "\n",
       "    .dataframe tbody tr th {\n",
       "        vertical-align: top;\n",
       "    }\n",
       "\n",
       "    .dataframe thead th {\n",
       "        text-align: right;\n",
       "    }\n",
       "</style>\n",
       "<table border=\"1\" class=\"dataframe\">\n",
       "  <thead>\n",
       "    <tr style=\"text-align: right;\">\n",
       "      <th></th>\n",
       "      <th>fips</th>\n",
       "      <th>state</th>\n",
       "      <th>county</th>\n",
       "      <th>recfac11</th>\n",
       "      <th>recfac16</th>\n",
       "      <th>recfacpth11</th>\n",
       "      <th>recfacpth16</th>\n",
       "      <th>pct_mhs18</th>\n",
       "      <th>pct_mhs1825</th>\n",
       "      <th>pct_mhs26</th>\n",
       "    </tr>\n",
       "  </thead>\n",
       "  <tbody>\n",
       "    <tr>\n",
       "      <th>993</th>\n",
       "      <td>21001</td>\n",
       "      <td>KY</td>\n",
       "      <td>Adair</td>\n",
       "      <td>1</td>\n",
       "      <td>0</td>\n",
       "      <td>0.052676</td>\n",
       "      <td>0.000000</td>\n",
       "      <td>18.0</td>\n",
       "      <td>15.0</td>\n",
       "      <td>18.0</td>\n",
       "    </tr>\n",
       "    <tr>\n",
       "      <th>994</th>\n",
       "      <td>21003</td>\n",
       "      <td>KY</td>\n",
       "      <td>Allen</td>\n",
       "      <td>1</td>\n",
       "      <td>1</td>\n",
       "      <td>0.049552</td>\n",
       "      <td>0.048242</td>\n",
       "      <td>18.0</td>\n",
       "      <td>15.0</td>\n",
       "      <td>18.0</td>\n",
       "    </tr>\n",
       "  </tbody>\n",
       "</table>\n",
       "</div>"
      ],
      "text/plain": [
       "      fips state county  recfac11  recfac16  recfacpth11  recfacpth16  \\\n",
       "993  21001    KY  Adair         1         0     0.052676     0.000000   \n",
       "994  21003    KY  Allen         1         1     0.049552     0.048242   \n",
       "\n",
       "     pct_mhs18  pct_mhs1825  pct_mhs26  \n",
       "993       18.0         15.0       18.0  \n",
       "994       18.0         15.0       18.0  "
      ]
     },
     "execution_count": 379,
     "metadata": {},
     "output_type": "execute_result"
    }
   ],
   "source": [
    "health_rec.loc[health_rec['state'] =='KY'].head(2)"
   ]
  },
  {
   "cell_type": "code",
   "execution_count": 380,
   "id": "c6c977b5",
   "metadata": {},
   "outputs": [
    {
     "data": {
      "text/html": [
       "<div>\n",
       "<style scoped>\n",
       "    .dataframe tbody tr th:only-of-type {\n",
       "        vertical-align: middle;\n",
       "    }\n",
       "\n",
       "    .dataframe tbody tr th {\n",
       "        vertical-align: top;\n",
       "    }\n",
       "\n",
       "    .dataframe thead th {\n",
       "        text-align: right;\n",
       "    }\n",
       "</style>\n",
       "<table border=\"1\" class=\"dataframe\">\n",
       "  <thead>\n",
       "    <tr style=\"text-align: right;\">\n",
       "      <th></th>\n",
       "      <th>state</th>\n",
       "      <th>age18plus</th>\n",
       "      <th>age18_25</th>\n",
       "      <th>age26plus</th>\n",
       "    </tr>\n",
       "  </thead>\n",
       "  <tbody>\n",
       "    <tr>\n",
       "      <th>17</th>\n",
       "      <td>Kentucky</td>\n",
       "      <td>18.0</td>\n",
       "      <td>15.0</td>\n",
       "      <td>18.0</td>\n",
       "    </tr>\n",
       "  </tbody>\n",
       "</table>\n",
       "</div>"
      ],
      "text/plain": [
       "       state  age18plus  age18_25  age26plus\n",
       "17  Kentucky       18.0      15.0       18.0"
      ]
     },
     "execution_count": 380,
     "metadata": {},
     "output_type": "execute_result"
    }
   ],
   "source": [
    "mhs.loc[mhs['state'] == 'Kentucky']"
   ]
  },
  {
   "cell_type": "code",
   "execution_count": 381,
   "id": "9ce17f98",
   "metadata": {},
   "outputs": [
    {
     "data": {
      "text/plain": [
       "12"
      ]
     },
     "execution_count": 381,
     "metadata": {},
     "output_type": "execute_result"
    }
   ],
   "source": [
    "health_rec.pct_mhs18.nunique()"
   ]
  },
  {
   "cell_type": "code",
   "execution_count": 382,
   "id": "e1c3bdd1",
   "metadata": {},
   "outputs": [
    {
     "data": {
      "text/plain": [
       "12"
      ]
     },
     "execution_count": 382,
     "metadata": {},
     "output_type": "execute_result"
    }
   ],
   "source": [
    "mhs.age18plus.nunique()"
   ]
  },
  {
   "cell_type": "code",
   "execution_count": 383,
   "id": "972c8fde",
   "metadata": {},
   "outputs": [
    {
     "data": {
      "text/plain": [
       "fips           0\n",
       "state          0\n",
       "county         0\n",
       "recfac11       0\n",
       "recfac16       0\n",
       "recfacpth11    0\n",
       "recfacpth16    0\n",
       "pct_mhs18      0\n",
       "pct_mhs1825    0\n",
       "pct_mhs26      0\n",
       "dtype: int64"
      ]
     },
     "execution_count": 383,
     "metadata": {},
     "output_type": "execute_result"
    }
   ],
   "source": [
    "health_rec.isnull().sum()"
   ]
  },
  {
   "cell_type": "markdown",
   "id": "399081c3",
   "metadata": {},
   "source": [
    "It appears that the columns were added correctly. I will now move on to add the mental health providers information into the Health dataframe.\n",
    "\n",
    "I will need to use a similar process with creating a function to apply, as the MHP data have 1 row for each state, and the Health data contain many rows for each state."
   ]
  },
  {
   "cell_type": "markdown",
   "id": "b0d8ec19",
   "metadata": {},
   "source": [
    "##### Adding Mental Health Providers Information"
   ]
  },
  {
   "cell_type": "code",
   "execution_count": 384,
   "id": "013e9fb4",
   "metadata": {},
   "outputs": [],
   "source": [
    "file_path = '../data/state_mh_providers.csv'\n",
    "\n",
    "mhp = pd.read_csv(file_path)"
   ]
  },
  {
   "cell_type": "code",
   "execution_count": 385,
   "id": "b9a2f081",
   "metadata": {},
   "outputs": [
    {
     "data": {
      "text/html": [
       "<div>\n",
       "<style scoped>\n",
       "    .dataframe tbody tr th:only-of-type {\n",
       "        vertical-align: middle;\n",
       "    }\n",
       "\n",
       "    .dataframe tbody tr th {\n",
       "        vertical-align: top;\n",
       "    }\n",
       "\n",
       "    .dataframe thead th {\n",
       "        text-align: right;\n",
       "    }\n",
       "</style>\n",
       "<table border=\"1\" class=\"dataframe\">\n",
       "  <thead>\n",
       "    <tr style=\"text-align: right;\">\n",
       "      <th></th>\n",
       "      <th>state</th>\n",
       "      <th>rank18</th>\n",
       "      <th>per100th18</th>\n",
       "      <th>rank17</th>\n",
       "      <th>per100th17</th>\n",
       "    </tr>\n",
       "  </thead>\n",
       "  <tbody>\n",
       "    <tr>\n",
       "      <th>0</th>\n",
       "      <td>Alabama</td>\n",
       "      <td>50</td>\n",
       "      <td>92.6</td>\n",
       "      <td>50</td>\n",
       "      <td>85.0</td>\n",
       "    </tr>\n",
       "    <tr>\n",
       "      <th>1</th>\n",
       "      <td>Alaska</td>\n",
       "      <td>7</td>\n",
       "      <td>391.2</td>\n",
       "      <td>8</td>\n",
       "      <td>364.2</td>\n",
       "    </tr>\n",
       "    <tr>\n",
       "      <th>2</th>\n",
       "      <td>Arizona</td>\n",
       "      <td>47</td>\n",
       "      <td>129.3</td>\n",
       "      <td>47</td>\n",
       "      <td>121.9</td>\n",
       "    </tr>\n",
       "    <tr>\n",
       "      <th>3</th>\n",
       "      <td>Arkansas</td>\n",
       "      <td>27</td>\n",
       "      <td>226.0</td>\n",
       "      <td>26</td>\n",
       "      <td>213.3</td>\n",
       "    </tr>\n",
       "    <tr>\n",
       "      <th>4</th>\n",
       "      <td>California</td>\n",
       "      <td>11</td>\n",
       "      <td>338.0</td>\n",
       "      <td>10</td>\n",
       "      <td>315.5</td>\n",
       "    </tr>\n",
       "  </tbody>\n",
       "</table>\n",
       "</div>"
      ],
      "text/plain": [
       "        state rank18  per100th18 rank17  per100th17\n",
       "0     Alabama     50        92.6     50        85.0\n",
       "1      Alaska      7       391.2      8       364.2\n",
       "2     Arizona     47       129.3     47       121.9\n",
       "3    Arkansas     27       226.0     26       213.3\n",
       "4  California     11       338.0     10       315.5"
      ]
     },
     "execution_count": 385,
     "metadata": {},
     "output_type": "execute_result"
    }
   ],
   "source": [
    "mhp.head()"
   ]
  },
  {
   "cell_type": "code",
   "execution_count": 386,
   "id": "ee3caf4b",
   "metadata": {},
   "outputs": [
    {
     "data": {
      "text/html": [
       "<div>\n",
       "<style scoped>\n",
       "    .dataframe tbody tr th:only-of-type {\n",
       "        vertical-align: middle;\n",
       "    }\n",
       "\n",
       "    .dataframe tbody tr th {\n",
       "        vertical-align: top;\n",
       "    }\n",
       "\n",
       "    .dataframe thead th {\n",
       "        text-align: right;\n",
       "    }\n",
       "</style>\n",
       "<table border=\"1\" class=\"dataframe\">\n",
       "  <thead>\n",
       "    <tr style=\"text-align: right;\">\n",
       "      <th></th>\n",
       "      <th>fips</th>\n",
       "      <th>state</th>\n",
       "      <th>county</th>\n",
       "      <th>recfac11</th>\n",
       "      <th>recfac16</th>\n",
       "      <th>recfacpth11</th>\n",
       "      <th>recfacpth16</th>\n",
       "      <th>pct_mhs18</th>\n",
       "      <th>pct_mhs1825</th>\n",
       "      <th>pct_mhs26</th>\n",
       "      <th>rank18</th>\n",
       "      <th>per100th18</th>\n",
       "      <th>rank17</th>\n",
       "      <th>per100th17</th>\n",
       "    </tr>\n",
       "  </thead>\n",
       "  <tbody>\n",
       "    <tr>\n",
       "      <th>0</th>\n",
       "      <td>1001</td>\n",
       "      <td>AL</td>\n",
       "      <td>Autauga</td>\n",
       "      <td>4</td>\n",
       "      <td>6</td>\n",
       "      <td>0.072465</td>\n",
       "      <td>0.108542</td>\n",
       "      <td>13.0</td>\n",
       "      <td>11.0</td>\n",
       "      <td>13.0</td>\n",
       "      <td>NaN</td>\n",
       "      <td>NaN</td>\n",
       "      <td>NaN</td>\n",
       "      <td>NaN</td>\n",
       "    </tr>\n",
       "    <tr>\n",
       "      <th>1</th>\n",
       "      <td>1003</td>\n",
       "      <td>AL</td>\n",
       "      <td>Baldwin</td>\n",
       "      <td>16</td>\n",
       "      <td>21</td>\n",
       "      <td>0.085775</td>\n",
       "      <td>0.101200</td>\n",
       "      <td>13.0</td>\n",
       "      <td>11.0</td>\n",
       "      <td>13.0</td>\n",
       "      <td>NaN</td>\n",
       "      <td>NaN</td>\n",
       "      <td>NaN</td>\n",
       "      <td>NaN</td>\n",
       "    </tr>\n",
       "    <tr>\n",
       "      <th>2</th>\n",
       "      <td>1005</td>\n",
       "      <td>AL</td>\n",
       "      <td>Barbour</td>\n",
       "      <td>2</td>\n",
       "      <td>0</td>\n",
       "      <td>0.073123</td>\n",
       "      <td>0.000000</td>\n",
       "      <td>13.0</td>\n",
       "      <td>11.0</td>\n",
       "      <td>13.0</td>\n",
       "      <td>NaN</td>\n",
       "      <td>NaN</td>\n",
       "      <td>NaN</td>\n",
       "      <td>NaN</td>\n",
       "    </tr>\n",
       "    <tr>\n",
       "      <th>3</th>\n",
       "      <td>1007</td>\n",
       "      <td>AL</td>\n",
       "      <td>Bibb</td>\n",
       "      <td>0</td>\n",
       "      <td>1</td>\n",
       "      <td>0.000000</td>\n",
       "      <td>0.044183</td>\n",
       "      <td>13.0</td>\n",
       "      <td>11.0</td>\n",
       "      <td>13.0</td>\n",
       "      <td>NaN</td>\n",
       "      <td>NaN</td>\n",
       "      <td>NaN</td>\n",
       "      <td>NaN</td>\n",
       "    </tr>\n",
       "    <tr>\n",
       "      <th>4</th>\n",
       "      <td>1009</td>\n",
       "      <td>AL</td>\n",
       "      <td>Blount</td>\n",
       "      <td>3</td>\n",
       "      <td>4</td>\n",
       "      <td>0.052118</td>\n",
       "      <td>0.069490</td>\n",
       "      <td>13.0</td>\n",
       "      <td>11.0</td>\n",
       "      <td>13.0</td>\n",
       "      <td>NaN</td>\n",
       "      <td>NaN</td>\n",
       "      <td>NaN</td>\n",
       "      <td>NaN</td>\n",
       "    </tr>\n",
       "  </tbody>\n",
       "</table>\n",
       "</div>"
      ],
      "text/plain": [
       "   fips state   county  recfac11  recfac16  recfacpth11  recfacpth16  \\\n",
       "0  1001    AL  Autauga         4         6     0.072465     0.108542   \n",
       "1  1003    AL  Baldwin        16        21     0.085775     0.101200   \n",
       "2  1005    AL  Barbour         2         0     0.073123     0.000000   \n",
       "3  1007    AL     Bibb         0         1     0.000000     0.044183   \n",
       "4  1009    AL   Blount         3         4     0.052118     0.069490   \n",
       "\n",
       "   pct_mhs18  pct_mhs1825  pct_mhs26  rank18  per100th18  rank17  per100th17  \n",
       "0       13.0         11.0       13.0     NaN         NaN     NaN         NaN  \n",
       "1       13.0         11.0       13.0     NaN         NaN     NaN         NaN  \n",
       "2       13.0         11.0       13.0     NaN         NaN     NaN         NaN  \n",
       "3       13.0         11.0       13.0     NaN         NaN     NaN         NaN  \n",
       "4       13.0         11.0       13.0     NaN         NaN     NaN         NaN  "
      ]
     },
     "execution_count": 386,
     "metadata": {},
     "output_type": "execute_result"
    }
   ],
   "source": [
    "#adds the 4 columns (without values) into the Health dataframe\n",
    "\n",
    "health_rec['rank18'] = np.nan\n",
    "\n",
    "health_rec['per100th18'] = np.nan\n",
    "\n",
    "health_rec['rank17'] = np.nan\n",
    "\n",
    "health_rec['per100th17'] = np.nan\n",
    "\n",
    "health_rec.head()"
   ]
  },
  {
   "cell_type": "markdown",
   "id": "642ac5f4",
   "metadata": {},
   "source": [
    "The empty columns have been created. I will now fill in the values."
   ]
  },
  {
   "cell_type": "code",
   "execution_count": 387,
   "id": "79788d85",
   "metadata": {},
   "outputs": [],
   "source": [
    "#generates lists of the 4 MH provider columns\n",
    "\n",
    "rank18_list = mhp['rank18'].values.tolist()\n",
    "\n",
    "per100th18_list = mhp['per100th18'].values.tolist()\n",
    "\n",
    "rank17_list = mhp['rank17'].values.tolist()\n",
    "\n",
    "per100th17_list = mhp['per100th17'].values.tolist()"
   ]
  },
  {
   "cell_type": "markdown",
   "id": "623fe3a1",
   "metadata": {},
   "source": [
    "This time, I will create a function that can be used to add values for all 4 of the columns."
   ]
  },
  {
   "cell_type": "code",
   "execution_count": 388,
   "id": "24a2ec19",
   "metadata": {},
   "outputs": [],
   "source": [
    "#function for adding in values to mhp columns\n",
    "\n",
    "def add_values(list1, list2, column):\n",
    "    for n in range (0,51):\n",
    "        \n",
    "        health_rec.loc[health_rec['state'] == list1[n], column] = list2[n]\n",
    "\n",
    "\n",
    "add_values(state_list, rank18_list, 'rank18')\n",
    "add_values(state_list, per100th18_list, 'per100th18')\n",
    "add_values(state_list, rank17_list, 'rank17')\n",
    "add_values(state_list, per100th17_list, 'per100th17')\n"
   ]
  },
  {
   "cell_type": "code",
   "execution_count": 389,
   "id": "3423d7d9",
   "metadata": {},
   "outputs": [
    {
     "data": {
      "text/html": [
       "<div>\n",
       "<style scoped>\n",
       "    .dataframe tbody tr th:only-of-type {\n",
       "        vertical-align: middle;\n",
       "    }\n",
       "\n",
       "    .dataframe tbody tr th {\n",
       "        vertical-align: top;\n",
       "    }\n",
       "\n",
       "    .dataframe thead th {\n",
       "        text-align: right;\n",
       "    }\n",
       "</style>\n",
       "<table border=\"1\" class=\"dataframe\">\n",
       "  <thead>\n",
       "    <tr style=\"text-align: right;\">\n",
       "      <th></th>\n",
       "      <th>fips</th>\n",
       "      <th>state</th>\n",
       "      <th>county</th>\n",
       "      <th>recfac11</th>\n",
       "      <th>recfac16</th>\n",
       "      <th>recfacpth11</th>\n",
       "      <th>recfacpth16</th>\n",
       "      <th>pct_mhs18</th>\n",
       "      <th>pct_mhs1825</th>\n",
       "      <th>pct_mhs26</th>\n",
       "      <th>rank18</th>\n",
       "      <th>per100th18</th>\n",
       "      <th>rank17</th>\n",
       "      <th>per100th17</th>\n",
       "    </tr>\n",
       "  </thead>\n",
       "  <tbody>\n",
       "    <tr>\n",
       "      <th>0</th>\n",
       "      <td>1001</td>\n",
       "      <td>AL</td>\n",
       "      <td>Autauga</td>\n",
       "      <td>4</td>\n",
       "      <td>6</td>\n",
       "      <td>0.072465</td>\n",
       "      <td>0.108542</td>\n",
       "      <td>13.0</td>\n",
       "      <td>11.0</td>\n",
       "      <td>13.0</td>\n",
       "      <td>50</td>\n",
       "      <td>92.6</td>\n",
       "      <td>50</td>\n",
       "      <td>85.0</td>\n",
       "    </tr>\n",
       "    <tr>\n",
       "      <th>1</th>\n",
       "      <td>1003</td>\n",
       "      <td>AL</td>\n",
       "      <td>Baldwin</td>\n",
       "      <td>16</td>\n",
       "      <td>21</td>\n",
       "      <td>0.085775</td>\n",
       "      <td>0.101200</td>\n",
       "      <td>13.0</td>\n",
       "      <td>11.0</td>\n",
       "      <td>13.0</td>\n",
       "      <td>50</td>\n",
       "      <td>92.6</td>\n",
       "      <td>50</td>\n",
       "      <td>85.0</td>\n",
       "    </tr>\n",
       "    <tr>\n",
       "      <th>2</th>\n",
       "      <td>1005</td>\n",
       "      <td>AL</td>\n",
       "      <td>Barbour</td>\n",
       "      <td>2</td>\n",
       "      <td>0</td>\n",
       "      <td>0.073123</td>\n",
       "      <td>0.000000</td>\n",
       "      <td>13.0</td>\n",
       "      <td>11.0</td>\n",
       "      <td>13.0</td>\n",
       "      <td>50</td>\n",
       "      <td>92.6</td>\n",
       "      <td>50</td>\n",
       "      <td>85.0</td>\n",
       "    </tr>\n",
       "    <tr>\n",
       "      <th>3</th>\n",
       "      <td>1007</td>\n",
       "      <td>AL</td>\n",
       "      <td>Bibb</td>\n",
       "      <td>0</td>\n",
       "      <td>1</td>\n",
       "      <td>0.000000</td>\n",
       "      <td>0.044183</td>\n",
       "      <td>13.0</td>\n",
       "      <td>11.0</td>\n",
       "      <td>13.0</td>\n",
       "      <td>50</td>\n",
       "      <td>92.6</td>\n",
       "      <td>50</td>\n",
       "      <td>85.0</td>\n",
       "    </tr>\n",
       "    <tr>\n",
       "      <th>4</th>\n",
       "      <td>1009</td>\n",
       "      <td>AL</td>\n",
       "      <td>Blount</td>\n",
       "      <td>3</td>\n",
       "      <td>4</td>\n",
       "      <td>0.052118</td>\n",
       "      <td>0.069490</td>\n",
       "      <td>13.0</td>\n",
       "      <td>11.0</td>\n",
       "      <td>13.0</td>\n",
       "      <td>50</td>\n",
       "      <td>92.6</td>\n",
       "      <td>50</td>\n",
       "      <td>85.0</td>\n",
       "    </tr>\n",
       "  </tbody>\n",
       "</table>\n",
       "</div>"
      ],
      "text/plain": [
       "   fips state   county  recfac11  recfac16  recfacpth11  recfacpth16  \\\n",
       "0  1001    AL  Autauga         4         6     0.072465     0.108542   \n",
       "1  1003    AL  Baldwin        16        21     0.085775     0.101200   \n",
       "2  1005    AL  Barbour         2         0     0.073123     0.000000   \n",
       "3  1007    AL     Bibb         0         1     0.000000     0.044183   \n",
       "4  1009    AL   Blount         3         4     0.052118     0.069490   \n",
       "\n",
       "   pct_mhs18  pct_mhs1825  pct_mhs26 rank18  per100th18 rank17  per100th17  \n",
       "0       13.0         11.0       13.0     50        92.6     50        85.0  \n",
       "1       13.0         11.0       13.0     50        92.6     50        85.0  \n",
       "2       13.0         11.0       13.0     50        92.6     50        85.0  \n",
       "3       13.0         11.0       13.0     50        92.6     50        85.0  \n",
       "4       13.0         11.0       13.0     50        92.6     50        85.0  "
      ]
     },
     "execution_count": 389,
     "metadata": {},
     "output_type": "execute_result"
    }
   ],
   "source": [
    "health_rec.head()"
   ]
  },
  {
   "cell_type": "markdown",
   "id": "685fd512",
   "metadata": {},
   "source": [
    "Now, I must ensure that these columns were added correctly."
   ]
  },
  {
   "cell_type": "code",
   "execution_count": 390,
   "id": "f77e1d47",
   "metadata": {},
   "outputs": [
    {
     "data": {
      "text/html": [
       "<div>\n",
       "<style scoped>\n",
       "    .dataframe tbody tr th:only-of-type {\n",
       "        vertical-align: middle;\n",
       "    }\n",
       "\n",
       "    .dataframe tbody tr th {\n",
       "        vertical-align: top;\n",
       "    }\n",
       "\n",
       "    .dataframe thead th {\n",
       "        text-align: right;\n",
       "    }\n",
       "</style>\n",
       "<table border=\"1\" class=\"dataframe\">\n",
       "  <thead>\n",
       "    <tr style=\"text-align: right;\">\n",
       "      <th></th>\n",
       "      <th>state</th>\n",
       "      <th>rank18</th>\n",
       "      <th>per100th18</th>\n",
       "      <th>rank17</th>\n",
       "      <th>per100th17</th>\n",
       "    </tr>\n",
       "  </thead>\n",
       "  <tbody>\n",
       "    <tr>\n",
       "      <th>0</th>\n",
       "      <td>Alabama</td>\n",
       "      <td>50</td>\n",
       "      <td>92.6</td>\n",
       "      <td>50</td>\n",
       "      <td>85.0</td>\n",
       "    </tr>\n",
       "  </tbody>\n",
       "</table>\n",
       "</div>"
      ],
      "text/plain": [
       "     state rank18  per100th18 rank17  per100th17\n",
       "0  Alabama     50        92.6     50        85.0"
      ]
     },
     "execution_count": 390,
     "metadata": {},
     "output_type": "execute_result"
    }
   ],
   "source": [
    "mhp.loc[mhp['state'] == 'Alabama']"
   ]
  },
  {
   "cell_type": "code",
   "execution_count": 391,
   "id": "b3af2726",
   "metadata": {},
   "outputs": [
    {
     "data": {
      "text/html": [
       "<div>\n",
       "<style scoped>\n",
       "    .dataframe tbody tr th:only-of-type {\n",
       "        vertical-align: middle;\n",
       "    }\n",
       "\n",
       "    .dataframe tbody tr th {\n",
       "        vertical-align: top;\n",
       "    }\n",
       "\n",
       "    .dataframe thead th {\n",
       "        text-align: right;\n",
       "    }\n",
       "</style>\n",
       "<table border=\"1\" class=\"dataframe\">\n",
       "  <thead>\n",
       "    <tr style=\"text-align: right;\">\n",
       "      <th></th>\n",
       "      <th>fips</th>\n",
       "      <th>state</th>\n",
       "      <th>county</th>\n",
       "      <th>recfac11</th>\n",
       "      <th>recfac16</th>\n",
       "      <th>recfacpth11</th>\n",
       "      <th>recfacpth16</th>\n",
       "      <th>pct_mhs18</th>\n",
       "      <th>pct_mhs1825</th>\n",
       "      <th>pct_mhs26</th>\n",
       "      <th>rank18</th>\n",
       "      <th>per100th18</th>\n",
       "      <th>rank17</th>\n",
       "      <th>per100th17</th>\n",
       "    </tr>\n",
       "  </thead>\n",
       "  <tbody>\n",
       "    <tr>\n",
       "      <th>67</th>\n",
       "      <td>2013</td>\n",
       "      <td>AK</td>\n",
       "      <td>Aleutians East</td>\n",
       "      <td>0</td>\n",
       "      <td>0</td>\n",
       "      <td>0.0</td>\n",
       "      <td>0.0</td>\n",
       "      <td>14.0</td>\n",
       "      <td>13.0</td>\n",
       "      <td>14.0</td>\n",
       "      <td>7</td>\n",
       "      <td>391.2</td>\n",
       "      <td>8</td>\n",
       "      <td>364.2</td>\n",
       "    </tr>\n",
       "    <tr>\n",
       "      <th>68</th>\n",
       "      <td>2016</td>\n",
       "      <td>AK</td>\n",
       "      <td>Aleutians West</td>\n",
       "      <td>0</td>\n",
       "      <td>0</td>\n",
       "      <td>0.0</td>\n",
       "      <td>0.0</td>\n",
       "      <td>14.0</td>\n",
       "      <td>13.0</td>\n",
       "      <td>14.0</td>\n",
       "      <td>7</td>\n",
       "      <td>391.2</td>\n",
       "      <td>8</td>\n",
       "      <td>364.2</td>\n",
       "    </tr>\n",
       "  </tbody>\n",
       "</table>\n",
       "</div>"
      ],
      "text/plain": [
       "    fips state          county  recfac11  recfac16  recfacpth11  recfacpth16  \\\n",
       "67  2013    AK  Aleutians East         0         0          0.0          0.0   \n",
       "68  2016    AK  Aleutians West         0         0          0.0          0.0   \n",
       "\n",
       "    pct_mhs18  pct_mhs1825  pct_mhs26 rank18  per100th18 rank17  per100th17  \n",
       "67       14.0         13.0       14.0      7       391.2      8       364.2  \n",
       "68       14.0         13.0       14.0      7       391.2      8       364.2  "
      ]
     },
     "execution_count": 391,
     "metadata": {},
     "output_type": "execute_result"
    }
   ],
   "source": [
    "health_rec.loc[health_rec['state'] == 'AK'].head(2)"
   ]
  },
  {
   "cell_type": "code",
   "execution_count": 392,
   "id": "7274ff64",
   "metadata": {},
   "outputs": [
    {
     "data": {
      "text/html": [
       "<div>\n",
       "<style scoped>\n",
       "    .dataframe tbody tr th:only-of-type {\n",
       "        vertical-align: middle;\n",
       "    }\n",
       "\n",
       "    .dataframe tbody tr th {\n",
       "        vertical-align: top;\n",
       "    }\n",
       "\n",
       "    .dataframe thead th {\n",
       "        text-align: right;\n",
       "    }\n",
       "</style>\n",
       "<table border=\"1\" class=\"dataframe\">\n",
       "  <thead>\n",
       "    <tr style=\"text-align: right;\">\n",
       "      <th></th>\n",
       "      <th>state</th>\n",
       "      <th>rank18</th>\n",
       "      <th>per100th18</th>\n",
       "      <th>rank17</th>\n",
       "      <th>per100th17</th>\n",
       "    </tr>\n",
       "  </thead>\n",
       "  <tbody>\n",
       "    <tr>\n",
       "      <th>1</th>\n",
       "      <td>Alaska</td>\n",
       "      <td>7</td>\n",
       "      <td>391.2</td>\n",
       "      <td>8</td>\n",
       "      <td>364.2</td>\n",
       "    </tr>\n",
       "  </tbody>\n",
       "</table>\n",
       "</div>"
      ],
      "text/plain": [
       "    state rank18  per100th18 rank17  per100th17\n",
       "1  Alaska      7       391.2      8       364.2"
      ]
     },
     "execution_count": 392,
     "metadata": {},
     "output_type": "execute_result"
    }
   ],
   "source": [
    "mhp.loc[mhp['state'] == 'Alaska']"
   ]
  },
  {
   "cell_type": "code",
   "execution_count": 393,
   "id": "167dc6c3",
   "metadata": {},
   "outputs": [
    {
     "data": {
      "text/html": [
       "<div>\n",
       "<style scoped>\n",
       "    .dataframe tbody tr th:only-of-type {\n",
       "        vertical-align: middle;\n",
       "    }\n",
       "\n",
       "    .dataframe tbody tr th {\n",
       "        vertical-align: top;\n",
       "    }\n",
       "\n",
       "    .dataframe thead th {\n",
       "        text-align: right;\n",
       "    }\n",
       "</style>\n",
       "<table border=\"1\" class=\"dataframe\">\n",
       "  <thead>\n",
       "    <tr style=\"text-align: right;\">\n",
       "      <th></th>\n",
       "      <th>fips</th>\n",
       "      <th>state</th>\n",
       "      <th>county</th>\n",
       "      <th>recfac11</th>\n",
       "      <th>recfac16</th>\n",
       "      <th>recfacpth11</th>\n",
       "      <th>recfacpth16</th>\n",
       "      <th>pct_mhs18</th>\n",
       "      <th>pct_mhs1825</th>\n",
       "      <th>pct_mhs26</th>\n",
       "      <th>rank18</th>\n",
       "      <th>per100th18</th>\n",
       "      <th>rank17</th>\n",
       "      <th>per100th17</th>\n",
       "    </tr>\n",
       "  </thead>\n",
       "  <tbody>\n",
       "    <tr>\n",
       "      <th>3119</th>\n",
       "      <td>56001</td>\n",
       "      <td>WY</td>\n",
       "      <td>Albany</td>\n",
       "      <td>4</td>\n",
       "      <td>3</td>\n",
       "      <td>0.108451</td>\n",
       "      <td>0.078974</td>\n",
       "      <td>14.0</td>\n",
       "      <td>13.0</td>\n",
       "      <td>14.0</td>\n",
       "      <td>13</td>\n",
       "      <td>331.6</td>\n",
       "      <td>12</td>\n",
       "      <td>310.2</td>\n",
       "    </tr>\n",
       "    <tr>\n",
       "      <th>3120</th>\n",
       "      <td>56003</td>\n",
       "      <td>WY</td>\n",
       "      <td>Big Horn</td>\n",
       "      <td>2</td>\n",
       "      <td>1</td>\n",
       "      <td>0.170561</td>\n",
       "      <td>0.083745</td>\n",
       "      <td>14.0</td>\n",
       "      <td>13.0</td>\n",
       "      <td>14.0</td>\n",
       "      <td>13</td>\n",
       "      <td>331.6</td>\n",
       "      <td>12</td>\n",
       "      <td>310.2</td>\n",
       "    </tr>\n",
       "  </tbody>\n",
       "</table>\n",
       "</div>"
      ],
      "text/plain": [
       "       fips state    county  recfac11  recfac16  recfacpth11  recfacpth16  \\\n",
       "3119  56001    WY    Albany         4         3     0.108451     0.078974   \n",
       "3120  56003    WY  Big Horn         2         1     0.170561     0.083745   \n",
       "\n",
       "      pct_mhs18  pct_mhs1825  pct_mhs26 rank18  per100th18 rank17  per100th17  \n",
       "3119       14.0         13.0       14.0     13       331.6     12       310.2  \n",
       "3120       14.0         13.0       14.0     13       331.6     12       310.2  "
      ]
     },
     "execution_count": 393,
     "metadata": {},
     "output_type": "execute_result"
    }
   ],
   "source": [
    "health_rec.loc[health_rec['state'] == 'WY'].head(2)"
   ]
  },
  {
   "cell_type": "code",
   "execution_count": 394,
   "id": "4f17df6a",
   "metadata": {},
   "outputs": [
    {
     "data": {
      "text/html": [
       "<div>\n",
       "<style scoped>\n",
       "    .dataframe tbody tr th:only-of-type {\n",
       "        vertical-align: middle;\n",
       "    }\n",
       "\n",
       "    .dataframe tbody tr th {\n",
       "        vertical-align: top;\n",
       "    }\n",
       "\n",
       "    .dataframe thead th {\n",
       "        text-align: right;\n",
       "    }\n",
       "</style>\n",
       "<table border=\"1\" class=\"dataframe\">\n",
       "  <thead>\n",
       "    <tr style=\"text-align: right;\">\n",
       "      <th></th>\n",
       "      <th>state</th>\n",
       "      <th>rank18</th>\n",
       "      <th>per100th18</th>\n",
       "      <th>rank17</th>\n",
       "      <th>per100th17</th>\n",
       "    </tr>\n",
       "  </thead>\n",
       "  <tbody>\n",
       "    <tr>\n",
       "      <th>50</th>\n",
       "      <td>Wyoming</td>\n",
       "      <td>13</td>\n",
       "      <td>331.6</td>\n",
       "      <td>12</td>\n",
       "      <td>310.2</td>\n",
       "    </tr>\n",
       "  </tbody>\n",
       "</table>\n",
       "</div>"
      ],
      "text/plain": [
       "      state rank18  per100th18 rank17  per100th17\n",
       "50  Wyoming     13       331.6     12       310.2"
      ]
     },
     "execution_count": 394,
     "metadata": {},
     "output_type": "execute_result"
    }
   ],
   "source": [
    "mhp.loc[mhp['state'] == 'Wyoming']"
   ]
  },
  {
   "cell_type": "code",
   "execution_count": 395,
   "id": "c5474b93",
   "metadata": {},
   "outputs": [
    {
     "data": {
      "text/plain": [
       "fips           0\n",
       "state          0\n",
       "county         0\n",
       "recfac11       0\n",
       "recfac16       0\n",
       "recfacpth11    0\n",
       "recfacpth16    0\n",
       "pct_mhs18      0\n",
       "pct_mhs1825    0\n",
       "pct_mhs26      0\n",
       "rank18         0\n",
       "per100th18     0\n",
       "rank17         0\n",
       "per100th17     0\n",
       "dtype: int64"
      ]
     },
     "execution_count": 395,
     "metadata": {},
     "output_type": "execute_result"
    }
   ],
   "source": [
    "health_rec.isnull().sum()"
   ]
  },
  {
   "cell_type": "markdown",
   "id": "2d29df04",
   "metadata": {},
   "source": [
    "These columns were filled in correctly. I will now move on to revise the ranks (DC currently has a rank of (dot value.)"
   ]
  },
  {
   "cell_type": "markdown",
   "id": "78bc1ff9",
   "metadata": {},
   "source": [
    "#### Rank - Number of MH Providers (2018)"
   ]
  },
  {
   "cell_type": "code",
   "execution_count": 396,
   "id": "0f46d2f9",
   "metadata": {},
   "outputs": [
    {
     "data": {
      "text/html": [
       "<div>\n",
       "<style scoped>\n",
       "    .dataframe tbody tr th:only-of-type {\n",
       "        vertical-align: middle;\n",
       "    }\n",
       "\n",
       "    .dataframe tbody tr th {\n",
       "        vertical-align: top;\n",
       "    }\n",
       "\n",
       "    .dataframe thead th {\n",
       "        text-align: right;\n",
       "    }\n",
       "</style>\n",
       "<table border=\"1\" class=\"dataframe\">\n",
       "  <thead>\n",
       "    <tr style=\"text-align: right;\">\n",
       "      <th></th>\n",
       "      <th>fips</th>\n",
       "      <th>state</th>\n",
       "      <th>county</th>\n",
       "      <th>recfac11</th>\n",
       "      <th>recfac16</th>\n",
       "      <th>recfacpth11</th>\n",
       "      <th>recfacpth16</th>\n",
       "      <th>pct_mhs18</th>\n",
       "      <th>pct_mhs1825</th>\n",
       "      <th>pct_mhs26</th>\n",
       "      <th>rank18</th>\n",
       "      <th>per100th18</th>\n",
       "      <th>rank17</th>\n",
       "      <th>per100th17</th>\n",
       "    </tr>\n",
       "  </thead>\n",
       "  <tbody>\n",
       "    <tr>\n",
       "      <th>319</th>\n",
       "      <td>11001</td>\n",
       "      <td>DC</td>\n",
       "      <td>District of Columbia</td>\n",
       "      <td>75</td>\n",
       "      <td>102</td>\n",
       "      <td>0.120902</td>\n",
       "      <td>0.14905</td>\n",
       "      <td>15.0</td>\n",
       "      <td>13.0</td>\n",
       "      <td>16.0</td>\n",
       "      <td>•</td>\n",
       "      <td>486.9</td>\n",
       "      <td>•</td>\n",
       "      <td>470.5</td>\n",
       "    </tr>\n",
       "  </tbody>\n",
       "</table>\n",
       "</div>"
      ],
      "text/plain": [
       "      fips state                county  recfac11  recfac16  recfacpth11  \\\n",
       "319  11001    DC  District of Columbia        75       102     0.120902   \n",
       "\n",
       "     recfacpth16  pct_mhs18  pct_mhs1825  pct_mhs26 rank18  per100th18 rank17  \\\n",
       "319      0.14905       15.0         13.0       16.0      •       486.9      •   \n",
       "\n",
       "     per100th17  \n",
       "319       470.5  "
      ]
     },
     "execution_count": 396,
     "metadata": {},
     "output_type": "execute_result"
    }
   ],
   "source": [
    "health_rec.loc[health_rec['state'] == 'DC']"
   ]
  },
  {
   "cell_type": "code",
   "execution_count": 397,
   "id": "dd0b4f9a",
   "metadata": {},
   "outputs": [],
   "source": [
    "health_rec.loc[health_rec['state'] == 'DC', 'rank18'] = np.nan"
   ]
  },
  {
   "cell_type": "code",
   "execution_count": 398,
   "id": "250389b7",
   "metadata": {},
   "outputs": [
    {
     "data": {
      "text/html": [
       "<div>\n",
       "<style scoped>\n",
       "    .dataframe tbody tr th:only-of-type {\n",
       "        vertical-align: middle;\n",
       "    }\n",
       "\n",
       "    .dataframe tbody tr th {\n",
       "        vertical-align: top;\n",
       "    }\n",
       "\n",
       "    .dataframe thead th {\n",
       "        text-align: right;\n",
       "    }\n",
       "</style>\n",
       "<table border=\"1\" class=\"dataframe\">\n",
       "  <thead>\n",
       "    <tr style=\"text-align: right;\">\n",
       "      <th></th>\n",
       "      <th>fips</th>\n",
       "      <th>state</th>\n",
       "      <th>county</th>\n",
       "      <th>recfac11</th>\n",
       "      <th>recfac16</th>\n",
       "      <th>recfacpth11</th>\n",
       "      <th>recfacpth16</th>\n",
       "      <th>pct_mhs18</th>\n",
       "      <th>pct_mhs1825</th>\n",
       "      <th>pct_mhs26</th>\n",
       "      <th>rank18</th>\n",
       "      <th>per100th18</th>\n",
       "      <th>rank17</th>\n",
       "      <th>per100th17</th>\n",
       "    </tr>\n",
       "  </thead>\n",
       "  <tbody>\n",
       "    <tr>\n",
       "      <th>319</th>\n",
       "      <td>11001</td>\n",
       "      <td>DC</td>\n",
       "      <td>District of Columbia</td>\n",
       "      <td>75</td>\n",
       "      <td>102</td>\n",
       "      <td>0.120902</td>\n",
       "      <td>0.14905</td>\n",
       "      <td>15.0</td>\n",
       "      <td>13.0</td>\n",
       "      <td>16.0</td>\n",
       "      <td>NaN</td>\n",
       "      <td>486.9</td>\n",
       "      <td>•</td>\n",
       "      <td>470.5</td>\n",
       "    </tr>\n",
       "  </tbody>\n",
       "</table>\n",
       "</div>"
      ],
      "text/plain": [
       "      fips state                county  recfac11  recfac16  recfacpth11  \\\n",
       "319  11001    DC  District of Columbia        75       102     0.120902   \n",
       "\n",
       "     recfacpth16  pct_mhs18  pct_mhs1825  pct_mhs26 rank18  per100th18 rank17  \\\n",
       "319      0.14905       15.0         13.0       16.0    NaN       486.9      •   \n",
       "\n",
       "     per100th17  \n",
       "319       470.5  "
      ]
     },
     "execution_count": 398,
     "metadata": {},
     "output_type": "execute_result"
    }
   ],
   "source": [
    "health_rec.loc[health_rec['state'] == 'DC']"
   ]
  },
  {
   "cell_type": "markdown",
   "id": "6e7f1899",
   "metadata": {},
   "source": [
    "I need to give the District of Columbia the rank (2018) of 3. \n",
    "\n",
    "What I will do is assign it a rank of 2, add 1 to the entire column, and then reset Massachusetts and Oregon, which should be numbers 1 and 2 respectively."
   ]
  },
  {
   "cell_type": "markdown",
   "id": "27ff05a4",
   "metadata": {},
   "source": [
    "##### Re-assigning ranks"
   ]
  },
  {
   "cell_type": "code",
   "execution_count": 399,
   "id": "afe91d64",
   "metadata": {},
   "outputs": [],
   "source": [
    "health_rec.loc[health_rec['state'] == 'DC', 'rank18'] = 2 #gives DC a rank of 2"
   ]
  },
  {
   "cell_type": "code",
   "execution_count": 400,
   "id": "17199820",
   "metadata": {},
   "outputs": [],
   "source": [
    "health_rec.rank18 = health_rec.rank18.astype('int') #changes column datatype to integer"
   ]
  },
  {
   "cell_type": "code",
   "execution_count": 401,
   "id": "0f47fb82",
   "metadata": {},
   "outputs": [],
   "source": [
    "health_rec['rank18'] = health_rec['rank18'] + 1 #adds 1 to each rank"
   ]
  },
  {
   "cell_type": "code",
   "execution_count": 402,
   "id": "3c61783e",
   "metadata": {},
   "outputs": [],
   "source": [
    "#resets MA and OR to null values for this column\n",
    "\n",
    "health_rec.loc[health_rec['state'] == 'MA', 'rank18'] = np.nan \n",
    "health_rec.loc[health_rec['state'] == 'OR', 'rank18'] = np.nan"
   ]
  },
  {
   "cell_type": "code",
   "execution_count": 403,
   "id": "442ecab3",
   "metadata": {},
   "outputs": [],
   "source": [
    "#restores original/correct ranks to MA and OR\n",
    "\n",
    "health_rec.loc[health_rec['state'] == 'MA', 'rank18'] = 1\n",
    "health_rec.loc[health_rec['state'] == 'OR', 'rank18'] = 2"
   ]
  },
  {
   "cell_type": "markdown",
   "id": "8f1ae4d7",
   "metadata": {},
   "source": [
    "##### Confirming change"
   ]
  },
  {
   "cell_type": "code",
   "execution_count": 404,
   "id": "e056fd83",
   "metadata": {},
   "outputs": [
    {
     "data": {
      "text/plain": [
       "array([51.,  8., 48., 28., 12., 11., 10., 21.,  3., 42., 47., 23., 33.,\n",
       "       29., 43., 44., 36., 30., 19.,  4., 25.,  1., 20., 24., 45., 37.,\n",
       "       17., 22., 32., 16., 31.,  9., 18., 26., 38., 27.,  7.,  2., 34.,\n",
       "        6., 40., 39., 46., 50., 15.,  5., 41., 13., 49., 35., 14.])"
      ]
     },
     "execution_count": 404,
     "metadata": {},
     "output_type": "execute_result"
    }
   ],
   "source": [
    "health_rec.rank18.unique()"
   ]
  },
  {
   "cell_type": "code",
   "execution_count": 405,
   "id": "aeea741e",
   "metadata": {},
   "outputs": [
    {
     "data": {
      "text/html": [
       "<div>\n",
       "<style scoped>\n",
       "    .dataframe tbody tr th:only-of-type {\n",
       "        vertical-align: middle;\n",
       "    }\n",
       "\n",
       "    .dataframe tbody tr th {\n",
       "        vertical-align: top;\n",
       "    }\n",
       "\n",
       "    .dataframe thead th {\n",
       "        text-align: right;\n",
       "    }\n",
       "</style>\n",
       "<table border=\"1\" class=\"dataframe\">\n",
       "  <thead>\n",
       "    <tr style=\"text-align: right;\">\n",
       "      <th></th>\n",
       "      <th>fips</th>\n",
       "      <th>state</th>\n",
       "      <th>county</th>\n",
       "      <th>recfac11</th>\n",
       "      <th>recfac16</th>\n",
       "      <th>recfacpth11</th>\n",
       "      <th>recfacpth16</th>\n",
       "      <th>pct_mhs18</th>\n",
       "      <th>pct_mhs1825</th>\n",
       "      <th>pct_mhs26</th>\n",
       "      <th>rank18</th>\n",
       "      <th>per100th18</th>\n",
       "      <th>rank17</th>\n",
       "      <th>per100th17</th>\n",
       "    </tr>\n",
       "  </thead>\n",
       "  <tbody>\n",
       "    <tr>\n",
       "      <th>1217</th>\n",
       "      <td>25001</td>\n",
       "      <td>MA</td>\n",
       "      <td>Barnstable</td>\n",
       "      <td>46</td>\n",
       "      <td>42</td>\n",
       "      <td>0.213616</td>\n",
       "      <td>0.196777</td>\n",
       "      <td>19.0</td>\n",
       "      <td>17.0</td>\n",
       "      <td>19.0</td>\n",
       "      <td>1.0</td>\n",
       "      <td>590.9</td>\n",
       "      <td>1</td>\n",
       "      <td>547.3</td>\n",
       "    </tr>\n",
       "    <tr>\n",
       "      <th>1218</th>\n",
       "      <td>25003</td>\n",
       "      <td>MA</td>\n",
       "      <td>Berkshire</td>\n",
       "      <td>13</td>\n",
       "      <td>14</td>\n",
       "      <td>0.099626</td>\n",
       "      <td>0.110360</td>\n",
       "      <td>19.0</td>\n",
       "      <td>17.0</td>\n",
       "      <td>19.0</td>\n",
       "      <td>1.0</td>\n",
       "      <td>590.9</td>\n",
       "      <td>1</td>\n",
       "      <td>547.3</td>\n",
       "    </tr>\n",
       "  </tbody>\n",
       "</table>\n",
       "</div>"
      ],
      "text/plain": [
       "       fips state      county  recfac11  recfac16  recfacpth11  recfacpth16  \\\n",
       "1217  25001    MA  Barnstable        46        42     0.213616     0.196777   \n",
       "1218  25003    MA   Berkshire        13        14     0.099626     0.110360   \n",
       "\n",
       "      pct_mhs18  pct_mhs1825  pct_mhs26  rank18  per100th18 rank17  per100th17  \n",
       "1217       19.0         17.0       19.0     1.0       590.9      1       547.3  \n",
       "1218       19.0         17.0       19.0     1.0       590.9      1       547.3  "
      ]
     },
     "execution_count": 405,
     "metadata": {},
     "output_type": "execute_result"
    }
   ],
   "source": [
    "health_rec.loc[health_rec['state'] == 'MA'].head(2)"
   ]
  },
  {
   "cell_type": "code",
   "execution_count": 406,
   "id": "31bbabc6",
   "metadata": {},
   "outputs": [
    {
     "data": {
      "text/html": [
       "<div>\n",
       "<style scoped>\n",
       "    .dataframe tbody tr th:only-of-type {\n",
       "        vertical-align: middle;\n",
       "    }\n",
       "\n",
       "    .dataframe tbody tr th {\n",
       "        vertical-align: top;\n",
       "    }\n",
       "\n",
       "    .dataframe thead th {\n",
       "        text-align: right;\n",
       "    }\n",
       "</style>\n",
       "<table border=\"1\" class=\"dataframe\">\n",
       "  <thead>\n",
       "    <tr style=\"text-align: right;\">\n",
       "      <th></th>\n",
       "      <th>fips</th>\n",
       "      <th>state</th>\n",
       "      <th>county</th>\n",
       "      <th>recfac11</th>\n",
       "      <th>recfac16</th>\n",
       "      <th>recfacpth11</th>\n",
       "      <th>recfacpth16</th>\n",
       "      <th>pct_mhs18</th>\n",
       "      <th>pct_mhs1825</th>\n",
       "      <th>pct_mhs26</th>\n",
       "      <th>rank18</th>\n",
       "      <th>per100th18</th>\n",
       "      <th>rank17</th>\n",
       "      <th>per100th17</th>\n",
       "    </tr>\n",
       "  </thead>\n",
       "  <tbody>\n",
       "    <tr>\n",
       "      <th>2208</th>\n",
       "      <td>41001</td>\n",
       "      <td>OR</td>\n",
       "      <td>Baker</td>\n",
       "      <td>3</td>\n",
       "      <td>2</td>\n",
       "      <td>0.186776</td>\n",
       "      <td>0.125408</td>\n",
       "      <td>18.0</td>\n",
       "      <td>16.0</td>\n",
       "      <td>18.0</td>\n",
       "      <td>2.0</td>\n",
       "      <td>492.3</td>\n",
       "      <td>2</td>\n",
       "      <td>453.7</td>\n",
       "    </tr>\n",
       "    <tr>\n",
       "      <th>2209</th>\n",
       "      <td>41003</td>\n",
       "      <td>OR</td>\n",
       "      <td>Benton</td>\n",
       "      <td>14</td>\n",
       "      <td>12</td>\n",
       "      <td>0.162836</td>\n",
       "      <td>0.134385</td>\n",
       "      <td>18.0</td>\n",
       "      <td>16.0</td>\n",
       "      <td>18.0</td>\n",
       "      <td>2.0</td>\n",
       "      <td>492.3</td>\n",
       "      <td>2</td>\n",
       "      <td>453.7</td>\n",
       "    </tr>\n",
       "  </tbody>\n",
       "</table>\n",
       "</div>"
      ],
      "text/plain": [
       "       fips state  county  recfac11  recfac16  recfacpth11  recfacpth16  \\\n",
       "2208  41001    OR   Baker         3         2     0.186776     0.125408   \n",
       "2209  41003    OR  Benton        14        12     0.162836     0.134385   \n",
       "\n",
       "      pct_mhs18  pct_mhs1825  pct_mhs26  rank18  per100th18 rank17  per100th17  \n",
       "2208       18.0         16.0       18.0     2.0       492.3      2       453.7  \n",
       "2209       18.0         16.0       18.0     2.0       492.3      2       453.7  "
      ]
     },
     "execution_count": 406,
     "metadata": {},
     "output_type": "execute_result"
    }
   ],
   "source": [
    "health_rec.loc[health_rec['state'] == 'OR'].head(2)"
   ]
  },
  {
   "cell_type": "code",
   "execution_count": 407,
   "id": "4dd3a070",
   "metadata": {},
   "outputs": [
    {
     "data": {
      "text/html": [
       "<div>\n",
       "<style scoped>\n",
       "    .dataframe tbody tr th:only-of-type {\n",
       "        vertical-align: middle;\n",
       "    }\n",
       "\n",
       "    .dataframe tbody tr th {\n",
       "        vertical-align: top;\n",
       "    }\n",
       "\n",
       "    .dataframe thead th {\n",
       "        text-align: right;\n",
       "    }\n",
       "</style>\n",
       "<table border=\"1\" class=\"dataframe\">\n",
       "  <thead>\n",
       "    <tr style=\"text-align: right;\">\n",
       "      <th></th>\n",
       "      <th>fips</th>\n",
       "      <th>state</th>\n",
       "      <th>county</th>\n",
       "      <th>recfac11</th>\n",
       "      <th>recfac16</th>\n",
       "      <th>recfacpth11</th>\n",
       "      <th>recfacpth16</th>\n",
       "      <th>pct_mhs18</th>\n",
       "      <th>pct_mhs1825</th>\n",
       "      <th>pct_mhs26</th>\n",
       "      <th>rank18</th>\n",
       "      <th>per100th18</th>\n",
       "      <th>rank17</th>\n",
       "      <th>per100th17</th>\n",
       "    </tr>\n",
       "  </thead>\n",
       "  <tbody>\n",
       "    <tr>\n",
       "      <th>319</th>\n",
       "      <td>11001</td>\n",
       "      <td>DC</td>\n",
       "      <td>District of Columbia</td>\n",
       "      <td>75</td>\n",
       "      <td>102</td>\n",
       "      <td>0.120902</td>\n",
       "      <td>0.14905</td>\n",
       "      <td>15.0</td>\n",
       "      <td>13.0</td>\n",
       "      <td>16.0</td>\n",
       "      <td>3.0</td>\n",
       "      <td>486.9</td>\n",
       "      <td>•</td>\n",
       "      <td>470.5</td>\n",
       "    </tr>\n",
       "  </tbody>\n",
       "</table>\n",
       "</div>"
      ],
      "text/plain": [
       "      fips state                county  recfac11  recfac16  recfacpth11  \\\n",
       "319  11001    DC  District of Columbia        75       102     0.120902   \n",
       "\n",
       "     recfacpth16  pct_mhs18  pct_mhs1825  pct_mhs26  rank18  per100th18  \\\n",
       "319      0.14905       15.0         13.0       16.0     3.0       486.9   \n",
       "\n",
       "    rank17  per100th17  \n",
       "319      •       470.5  "
      ]
     },
     "execution_count": 407,
     "metadata": {},
     "output_type": "execute_result"
    }
   ],
   "source": [
    "health_rec.loc[health_rec['state'] == 'DC'].head(2)"
   ]
  },
  {
   "cell_type": "code",
   "execution_count": 408,
   "id": "b465957a",
   "metadata": {},
   "outputs": [
    {
     "data": {
      "text/html": [
       "<div>\n",
       "<style scoped>\n",
       "    .dataframe tbody tr th:only-of-type {\n",
       "        vertical-align: middle;\n",
       "    }\n",
       "\n",
       "    .dataframe tbody tr th {\n",
       "        vertical-align: top;\n",
       "    }\n",
       "\n",
       "    .dataframe thead th {\n",
       "        text-align: right;\n",
       "    }\n",
       "</style>\n",
       "<table border=\"1\" class=\"dataframe\">\n",
       "  <thead>\n",
       "    <tr style=\"text-align: right;\">\n",
       "      <th></th>\n",
       "      <th>fips</th>\n",
       "      <th>state</th>\n",
       "      <th>county</th>\n",
       "      <th>recfac11</th>\n",
       "      <th>recfac16</th>\n",
       "      <th>recfacpth11</th>\n",
       "      <th>recfacpth16</th>\n",
       "      <th>pct_mhs18</th>\n",
       "      <th>pct_mhs1825</th>\n",
       "      <th>pct_mhs26</th>\n",
       "      <th>rank18</th>\n",
       "      <th>per100th18</th>\n",
       "      <th>rank17</th>\n",
       "      <th>per100th17</th>\n",
       "    </tr>\n",
       "  </thead>\n",
       "  <tbody>\n",
       "    <tr>\n",
       "      <th>1177</th>\n",
       "      <td>23001</td>\n",
       "      <td>ME</td>\n",
       "      <td>Androscoggin</td>\n",
       "      <td>13</td>\n",
       "      <td>11</td>\n",
       "      <td>0.121048</td>\n",
       "      <td>0.102546</td>\n",
       "      <td>19.0</td>\n",
       "      <td>17.0</td>\n",
       "      <td>20.0</td>\n",
       "      <td>4.0</td>\n",
       "      <td>459.5</td>\n",
       "      <td>3</td>\n",
       "      <td>442.1</td>\n",
       "    </tr>\n",
       "    <tr>\n",
       "      <th>1178</th>\n",
       "      <td>23003</td>\n",
       "      <td>ME</td>\n",
       "      <td>Aroostook</td>\n",
       "      <td>3</td>\n",
       "      <td>4</td>\n",
       "      <td>0.042033</td>\n",
       "      <td>0.058723</td>\n",
       "      <td>19.0</td>\n",
       "      <td>17.0</td>\n",
       "      <td>20.0</td>\n",
       "      <td>4.0</td>\n",
       "      <td>459.5</td>\n",
       "      <td>3</td>\n",
       "      <td>442.1</td>\n",
       "    </tr>\n",
       "  </tbody>\n",
       "</table>\n",
       "</div>"
      ],
      "text/plain": [
       "       fips state        county  recfac11  recfac16  recfacpth11  recfacpth16  \\\n",
       "1177  23001    ME  Androscoggin        13        11     0.121048     0.102546   \n",
       "1178  23003    ME     Aroostook         3         4     0.042033     0.058723   \n",
       "\n",
       "      pct_mhs18  pct_mhs1825  pct_mhs26  rank18  per100th18 rank17  per100th17  \n",
       "1177       19.0         17.0       20.0     4.0       459.5      3       442.1  \n",
       "1178       19.0         17.0       20.0     4.0       459.5      3       442.1  "
      ]
     },
     "execution_count": 408,
     "metadata": {},
     "output_type": "execute_result"
    }
   ],
   "source": [
    "health_rec.loc[health_rec['state'] == 'ME'].head(2)"
   ]
  },
  {
   "cell_type": "markdown",
   "id": "0400333c",
   "metadata": {},
   "source": [
    "The change appears to be successful. I will do the same for the 2017 rank column."
   ]
  },
  {
   "cell_type": "markdown",
   "id": "35d1ad84",
   "metadata": {},
   "source": [
    "### Rank - Number of MH Providers (2017)"
   ]
  },
  {
   "cell_type": "markdown",
   "id": "41ccee37",
   "metadata": {},
   "source": [
    "Previous EDA revealed that the 2017 rank for DC should be 2."
   ]
  },
  {
   "cell_type": "markdown",
   "id": "445eda72",
   "metadata": {},
   "source": [
    "##### Re-assigning ranks"
   ]
  },
  {
   "cell_type": "code",
   "execution_count": 409,
   "id": "de980109",
   "metadata": {},
   "outputs": [],
   "source": [
    "health_rec.loc[health_rec['state'] == 'DC', 'rank17'] = np.nan #resets DC rank to null value"
   ]
  },
  {
   "cell_type": "code",
   "execution_count": 410,
   "id": "c5045747",
   "metadata": {},
   "outputs": [],
   "source": [
    "health_rec.loc[health_rec['state'] == 'DC', 'rank17'] = 1 #assigns rank number 1 to DC"
   ]
  },
  {
   "cell_type": "code",
   "execution_count": 411,
   "id": "e10a8f36",
   "metadata": {},
   "outputs": [],
   "source": [
    "health_rec.rank17 = health_rec.rank17.astype('int') #changes column datatype to integer"
   ]
  },
  {
   "cell_type": "code",
   "execution_count": 412,
   "id": "c0941f1f",
   "metadata": {},
   "outputs": [],
   "source": [
    "health_rec['rank17'] = health_rec['rank17'] +1 #adds one to each rank"
   ]
  },
  {
   "cell_type": "markdown",
   "id": "b6b2a132",
   "metadata": {},
   "source": [
    "Now I must reset the value for Massachusetts, and change it to 1, as it again has the top rank for number of MH providers."
   ]
  },
  {
   "cell_type": "code",
   "execution_count": 413,
   "id": "04bc1aa6",
   "metadata": {},
   "outputs": [],
   "source": [
    "#resets MA 2017 rank to null, then restores true/original rank of 1\n",
    "\n",
    "health_rec.loc[health_rec['state'] == 'MA', 'rank17'] = np.nan\n",
    "\n",
    "health_rec.loc[health_rec['state'] == 'MA', 'rank17'] = 1"
   ]
  },
  {
   "cell_type": "markdown",
   "id": "55b977c0",
   "metadata": {},
   "source": [
    "##### Confirming change"
   ]
  },
  {
   "cell_type": "code",
   "execution_count": 414,
   "id": "ab917421",
   "metadata": {},
   "outputs": [
    {
     "data": {
      "text/html": [
       "<div>\n",
       "<style scoped>\n",
       "    .dataframe tbody tr th:only-of-type {\n",
       "        vertical-align: middle;\n",
       "    }\n",
       "\n",
       "    .dataframe tbody tr th {\n",
       "        vertical-align: top;\n",
       "    }\n",
       "\n",
       "    .dataframe thead th {\n",
       "        text-align: right;\n",
       "    }\n",
       "</style>\n",
       "<table border=\"1\" class=\"dataframe\">\n",
       "  <thead>\n",
       "    <tr style=\"text-align: right;\">\n",
       "      <th></th>\n",
       "      <th>fips</th>\n",
       "      <th>state</th>\n",
       "      <th>county</th>\n",
       "      <th>recfac11</th>\n",
       "      <th>recfac16</th>\n",
       "      <th>recfacpth11</th>\n",
       "      <th>recfacpth16</th>\n",
       "      <th>pct_mhs18</th>\n",
       "      <th>pct_mhs1825</th>\n",
       "      <th>pct_mhs26</th>\n",
       "      <th>rank18</th>\n",
       "      <th>per100th18</th>\n",
       "      <th>rank17</th>\n",
       "      <th>per100th17</th>\n",
       "    </tr>\n",
       "  </thead>\n",
       "  <tbody>\n",
       "    <tr>\n",
       "      <th>1217</th>\n",
       "      <td>25001</td>\n",
       "      <td>MA</td>\n",
       "      <td>Barnstable</td>\n",
       "      <td>46</td>\n",
       "      <td>42</td>\n",
       "      <td>0.213616</td>\n",
       "      <td>0.196777</td>\n",
       "      <td>19.0</td>\n",
       "      <td>17.0</td>\n",
       "      <td>19.0</td>\n",
       "      <td>1.0</td>\n",
       "      <td>590.9</td>\n",
       "      <td>1.0</td>\n",
       "      <td>547.3</td>\n",
       "    </tr>\n",
       "    <tr>\n",
       "      <th>1218</th>\n",
       "      <td>25003</td>\n",
       "      <td>MA</td>\n",
       "      <td>Berkshire</td>\n",
       "      <td>13</td>\n",
       "      <td>14</td>\n",
       "      <td>0.099626</td>\n",
       "      <td>0.110360</td>\n",
       "      <td>19.0</td>\n",
       "      <td>17.0</td>\n",
       "      <td>19.0</td>\n",
       "      <td>1.0</td>\n",
       "      <td>590.9</td>\n",
       "      <td>1.0</td>\n",
       "      <td>547.3</td>\n",
       "    </tr>\n",
       "  </tbody>\n",
       "</table>\n",
       "</div>"
      ],
      "text/plain": [
       "       fips state      county  recfac11  recfac16  recfacpth11  recfacpth16  \\\n",
       "1217  25001    MA  Barnstable        46        42     0.213616     0.196777   \n",
       "1218  25003    MA   Berkshire        13        14     0.099626     0.110360   \n",
       "\n",
       "      pct_mhs18  pct_mhs1825  pct_mhs26  rank18  per100th18  rank17  \\\n",
       "1217       19.0         17.0       19.0     1.0       590.9     1.0   \n",
       "1218       19.0         17.0       19.0     1.0       590.9     1.0   \n",
       "\n",
       "      per100th17  \n",
       "1217       547.3  \n",
       "1218       547.3  "
      ]
     },
     "execution_count": 414,
     "metadata": {},
     "output_type": "execute_result"
    }
   ],
   "source": [
    "health_rec.loc[health_rec['state'] == 'MA'].head(2)"
   ]
  },
  {
   "cell_type": "code",
   "execution_count": 415,
   "id": "20ee3640",
   "metadata": {},
   "outputs": [
    {
     "data": {
      "text/html": [
       "<div>\n",
       "<style scoped>\n",
       "    .dataframe tbody tr th:only-of-type {\n",
       "        vertical-align: middle;\n",
       "    }\n",
       "\n",
       "    .dataframe tbody tr th {\n",
       "        vertical-align: top;\n",
       "    }\n",
       "\n",
       "    .dataframe thead th {\n",
       "        text-align: right;\n",
       "    }\n",
       "</style>\n",
       "<table border=\"1\" class=\"dataframe\">\n",
       "  <thead>\n",
       "    <tr style=\"text-align: right;\">\n",
       "      <th></th>\n",
       "      <th>fips</th>\n",
       "      <th>state</th>\n",
       "      <th>county</th>\n",
       "      <th>recfac11</th>\n",
       "      <th>recfac16</th>\n",
       "      <th>recfacpth11</th>\n",
       "      <th>recfacpth16</th>\n",
       "      <th>pct_mhs18</th>\n",
       "      <th>pct_mhs1825</th>\n",
       "      <th>pct_mhs26</th>\n",
       "      <th>rank18</th>\n",
       "      <th>per100th18</th>\n",
       "      <th>rank17</th>\n",
       "      <th>per100th17</th>\n",
       "    </tr>\n",
       "  </thead>\n",
       "  <tbody>\n",
       "    <tr>\n",
       "      <th>319</th>\n",
       "      <td>11001</td>\n",
       "      <td>DC</td>\n",
       "      <td>District of Columbia</td>\n",
       "      <td>75</td>\n",
       "      <td>102</td>\n",
       "      <td>0.120902</td>\n",
       "      <td>0.14905</td>\n",
       "      <td>15.0</td>\n",
       "      <td>13.0</td>\n",
       "      <td>16.0</td>\n",
       "      <td>3.0</td>\n",
       "      <td>486.9</td>\n",
       "      <td>2.0</td>\n",
       "      <td>470.5</td>\n",
       "    </tr>\n",
       "  </tbody>\n",
       "</table>\n",
       "</div>"
      ],
      "text/plain": [
       "      fips state                county  recfac11  recfac16  recfacpth11  \\\n",
       "319  11001    DC  District of Columbia        75       102     0.120902   \n",
       "\n",
       "     recfacpth16  pct_mhs18  pct_mhs1825  pct_mhs26  rank18  per100th18  \\\n",
       "319      0.14905       15.0         13.0       16.0     3.0       486.9   \n",
       "\n",
       "     rank17  per100th17  \n",
       "319     2.0       470.5  "
      ]
     },
     "execution_count": 415,
     "metadata": {},
     "output_type": "execute_result"
    }
   ],
   "source": [
    "health_rec.loc[health_rec['state'] == 'DC'].head(2)"
   ]
  },
  {
   "cell_type": "code",
   "execution_count": 416,
   "id": "25414e16",
   "metadata": {},
   "outputs": [
    {
     "data": {
      "text/html": [
       "<div>\n",
       "<style scoped>\n",
       "    .dataframe tbody tr th:only-of-type {\n",
       "        vertical-align: middle;\n",
       "    }\n",
       "\n",
       "    .dataframe tbody tr th {\n",
       "        vertical-align: top;\n",
       "    }\n",
       "\n",
       "    .dataframe thead th {\n",
       "        text-align: right;\n",
       "    }\n",
       "</style>\n",
       "<table border=\"1\" class=\"dataframe\">\n",
       "  <thead>\n",
       "    <tr style=\"text-align: right;\">\n",
       "      <th></th>\n",
       "      <th>fips</th>\n",
       "      <th>state</th>\n",
       "      <th>county</th>\n",
       "      <th>recfac11</th>\n",
       "      <th>recfac16</th>\n",
       "      <th>recfacpth11</th>\n",
       "      <th>recfacpth16</th>\n",
       "      <th>pct_mhs18</th>\n",
       "      <th>pct_mhs1825</th>\n",
       "      <th>pct_mhs26</th>\n",
       "      <th>rank18</th>\n",
       "      <th>per100th18</th>\n",
       "      <th>rank17</th>\n",
       "      <th>per100th17</th>\n",
       "    </tr>\n",
       "  </thead>\n",
       "  <tbody>\n",
       "    <tr>\n",
       "      <th>2208</th>\n",
       "      <td>41001</td>\n",
       "      <td>OR</td>\n",
       "      <td>Baker</td>\n",
       "      <td>3</td>\n",
       "      <td>2</td>\n",
       "      <td>0.186776</td>\n",
       "      <td>0.125408</td>\n",
       "      <td>18.0</td>\n",
       "      <td>16.0</td>\n",
       "      <td>18.0</td>\n",
       "      <td>2.0</td>\n",
       "      <td>492.3</td>\n",
       "      <td>3.0</td>\n",
       "      <td>453.7</td>\n",
       "    </tr>\n",
       "    <tr>\n",
       "      <th>2209</th>\n",
       "      <td>41003</td>\n",
       "      <td>OR</td>\n",
       "      <td>Benton</td>\n",
       "      <td>14</td>\n",
       "      <td>12</td>\n",
       "      <td>0.162836</td>\n",
       "      <td>0.134385</td>\n",
       "      <td>18.0</td>\n",
       "      <td>16.0</td>\n",
       "      <td>18.0</td>\n",
       "      <td>2.0</td>\n",
       "      <td>492.3</td>\n",
       "      <td>3.0</td>\n",
       "      <td>453.7</td>\n",
       "    </tr>\n",
       "  </tbody>\n",
       "</table>\n",
       "</div>"
      ],
      "text/plain": [
       "       fips state  county  recfac11  recfac16  recfacpth11  recfacpth16  \\\n",
       "2208  41001    OR   Baker         3         2     0.186776     0.125408   \n",
       "2209  41003    OR  Benton        14        12     0.162836     0.134385   \n",
       "\n",
       "      pct_mhs18  pct_mhs1825  pct_mhs26  rank18  per100th18  rank17  \\\n",
       "2208       18.0         16.0       18.0     2.0       492.3     3.0   \n",
       "2209       18.0         16.0       18.0     2.0       492.3     3.0   \n",
       "\n",
       "      per100th17  \n",
       "2208       453.7  \n",
       "2209       453.7  "
      ]
     },
     "execution_count": 416,
     "metadata": {},
     "output_type": "execute_result"
    }
   ],
   "source": [
    "health_rec.loc[health_rec['state'] == 'OR'].head(2)"
   ]
  },
  {
   "cell_type": "code",
   "execution_count": 417,
   "id": "87602a9e",
   "metadata": {},
   "outputs": [
    {
     "data": {
      "text/html": [
       "<div>\n",
       "<style scoped>\n",
       "    .dataframe tbody tr th:only-of-type {\n",
       "        vertical-align: middle;\n",
       "    }\n",
       "\n",
       "    .dataframe tbody tr th {\n",
       "        vertical-align: top;\n",
       "    }\n",
       "\n",
       "    .dataframe thead th {\n",
       "        text-align: right;\n",
       "    }\n",
       "</style>\n",
       "<table border=\"1\" class=\"dataframe\">\n",
       "  <thead>\n",
       "    <tr style=\"text-align: right;\">\n",
       "      <th></th>\n",
       "      <th>fips</th>\n",
       "      <th>state</th>\n",
       "      <th>county</th>\n",
       "      <th>recfac11</th>\n",
       "      <th>recfac16</th>\n",
       "      <th>recfacpth11</th>\n",
       "      <th>recfacpth16</th>\n",
       "      <th>pct_mhs18</th>\n",
       "      <th>pct_mhs1825</th>\n",
       "      <th>pct_mhs26</th>\n",
       "      <th>rank18</th>\n",
       "      <th>per100th18</th>\n",
       "      <th>rank17</th>\n",
       "      <th>per100th17</th>\n",
       "    </tr>\n",
       "  </thead>\n",
       "  <tbody>\n",
       "    <tr>\n",
       "      <th>1177</th>\n",
       "      <td>23001</td>\n",
       "      <td>ME</td>\n",
       "      <td>Androscoggin</td>\n",
       "      <td>13</td>\n",
       "      <td>11</td>\n",
       "      <td>0.121048</td>\n",
       "      <td>0.102546</td>\n",
       "      <td>19.0</td>\n",
       "      <td>17.0</td>\n",
       "      <td>20.0</td>\n",
       "      <td>4.0</td>\n",
       "      <td>459.5</td>\n",
       "      <td>4.0</td>\n",
       "      <td>442.1</td>\n",
       "    </tr>\n",
       "    <tr>\n",
       "      <th>1178</th>\n",
       "      <td>23003</td>\n",
       "      <td>ME</td>\n",
       "      <td>Aroostook</td>\n",
       "      <td>3</td>\n",
       "      <td>4</td>\n",
       "      <td>0.042033</td>\n",
       "      <td>0.058723</td>\n",
       "      <td>19.0</td>\n",
       "      <td>17.0</td>\n",
       "      <td>20.0</td>\n",
       "      <td>4.0</td>\n",
       "      <td>459.5</td>\n",
       "      <td>4.0</td>\n",
       "      <td>442.1</td>\n",
       "    </tr>\n",
       "  </tbody>\n",
       "</table>\n",
       "</div>"
      ],
      "text/plain": [
       "       fips state        county  recfac11  recfac16  recfacpth11  recfacpth16  \\\n",
       "1177  23001    ME  Androscoggin        13        11     0.121048     0.102546   \n",
       "1178  23003    ME     Aroostook         3         4     0.042033     0.058723   \n",
       "\n",
       "      pct_mhs18  pct_mhs1825  pct_mhs26  rank18  per100th18  rank17  \\\n",
       "1177       19.0         17.0       20.0     4.0       459.5     4.0   \n",
       "1178       19.0         17.0       20.0     4.0       459.5     4.0   \n",
       "\n",
       "      per100th17  \n",
       "1177       442.1  \n",
       "1178       442.1  "
      ]
     },
     "execution_count": 417,
     "metadata": {},
     "output_type": "execute_result"
    }
   ],
   "source": [
    "health_rec.loc[health_rec['state'] == 'ME'].head(2)"
   ]
  },
  {
   "cell_type": "code",
   "execution_count": 418,
   "id": "f3316836",
   "metadata": {},
   "outputs": [
    {
     "data": {
      "text/plain": [
       "array([51.,  9., 48., 27., 11., 12., 10., 20.,  2., 42., 47., 23., 30.,\n",
       "       29., 43., 45., 35., 28., 19.,  4., 24.,  1., 21., 26., 46., 37.,\n",
       "       17., 22., 31., 16., 32.,  8., 18., 25., 38., 33.,  6.,  3., 34.,\n",
       "        7., 40., 39., 44., 50., 15.,  5., 41., 14., 49., 36., 13.])"
      ]
     },
     "execution_count": 418,
     "metadata": {},
     "output_type": "execute_result"
    }
   ],
   "source": [
    "health_rec.rank17.unique()"
   ]
  },
  {
   "cell_type": "markdown",
   "id": "9e22c87b",
   "metadata": {},
   "source": [
    "The change appears to be correct. I will now move on to add in the columns for diabetes prevalence."
   ]
  },
  {
   "cell_type": "markdown",
   "id": "e7288dc5",
   "metadata": {},
   "source": [
    "##### Adding Diabetes Prevalence"
   ]
  },
  {
   "cell_type": "code",
   "execution_count": 419,
   "id": "6560b8e0",
   "metadata": {},
   "outputs": [
    {
     "data": {
      "text/html": [
       "<div>\n",
       "<style scoped>\n",
       "    .dataframe tbody tr th:only-of-type {\n",
       "        vertical-align: middle;\n",
       "    }\n",
       "\n",
       "    .dataframe tbody tr th {\n",
       "        vertical-align: top;\n",
       "    }\n",
       "\n",
       "    .dataframe thead th {\n",
       "        text-align: right;\n",
       "    }\n",
       "</style>\n",
       "<table border=\"1\" class=\"dataframe\">\n",
       "  <thead>\n",
       "    <tr style=\"text-align: right;\">\n",
       "      <th></th>\n",
       "      <th>fips</th>\n",
       "      <th>state</th>\n",
       "      <th>county</th>\n",
       "      <th>recfac11</th>\n",
       "      <th>recfac16</th>\n",
       "      <th>recfacpth11</th>\n",
       "      <th>recfacpth16</th>\n",
       "      <th>pct_mhs18</th>\n",
       "      <th>pct_mhs1825</th>\n",
       "      <th>pct_mhs26</th>\n",
       "      <th>rank18</th>\n",
       "      <th>per100th18</th>\n",
       "      <th>rank17</th>\n",
       "      <th>per100th17</th>\n",
       "      <th>pct_diabetes18</th>\n",
       "      <th>class</th>\n",
       "    </tr>\n",
       "  </thead>\n",
       "  <tbody>\n",
       "    <tr>\n",
       "      <th>0</th>\n",
       "      <td>1001</td>\n",
       "      <td>AL</td>\n",
       "      <td>Autauga</td>\n",
       "      <td>4</td>\n",
       "      <td>6</td>\n",
       "      <td>0.072465</td>\n",
       "      <td>0.108542</td>\n",
       "      <td>13.0</td>\n",
       "      <td>11.0</td>\n",
       "      <td>13.0</td>\n",
       "      <td>51.0</td>\n",
       "      <td>92.6</td>\n",
       "      <td>51.0</td>\n",
       "      <td>85.0</td>\n",
       "      <td>9.5</td>\n",
       "      <td>1.0</td>\n",
       "    </tr>\n",
       "    <tr>\n",
       "      <th>1</th>\n",
       "      <td>1003</td>\n",
       "      <td>AL</td>\n",
       "      <td>Baldwin</td>\n",
       "      <td>16</td>\n",
       "      <td>21</td>\n",
       "      <td>0.085775</td>\n",
       "      <td>0.101200</td>\n",
       "      <td>13.0</td>\n",
       "      <td>11.0</td>\n",
       "      <td>13.0</td>\n",
       "      <td>51.0</td>\n",
       "      <td>92.6</td>\n",
       "      <td>51.0</td>\n",
       "      <td>85.0</td>\n",
       "      <td>8.4</td>\n",
       "      <td>0.0</td>\n",
       "    </tr>\n",
       "    <tr>\n",
       "      <th>2</th>\n",
       "      <td>1005</td>\n",
       "      <td>AL</td>\n",
       "      <td>Barbour</td>\n",
       "      <td>2</td>\n",
       "      <td>0</td>\n",
       "      <td>0.073123</td>\n",
       "      <td>0.000000</td>\n",
       "      <td>13.0</td>\n",
       "      <td>11.0</td>\n",
       "      <td>13.0</td>\n",
       "      <td>51.0</td>\n",
       "      <td>92.6</td>\n",
       "      <td>51.0</td>\n",
       "      <td>85.0</td>\n",
       "      <td>13.5</td>\n",
       "      <td>1.0</td>\n",
       "    </tr>\n",
       "    <tr>\n",
       "      <th>3</th>\n",
       "      <td>1007</td>\n",
       "      <td>AL</td>\n",
       "      <td>Bibb</td>\n",
       "      <td>0</td>\n",
       "      <td>1</td>\n",
       "      <td>0.000000</td>\n",
       "      <td>0.044183</td>\n",
       "      <td>13.0</td>\n",
       "      <td>11.0</td>\n",
       "      <td>13.0</td>\n",
       "      <td>51.0</td>\n",
       "      <td>92.6</td>\n",
       "      <td>51.0</td>\n",
       "      <td>85.0</td>\n",
       "      <td>10.2</td>\n",
       "      <td>1.0</td>\n",
       "    </tr>\n",
       "    <tr>\n",
       "      <th>4</th>\n",
       "      <td>1009</td>\n",
       "      <td>AL</td>\n",
       "      <td>Blount</td>\n",
       "      <td>3</td>\n",
       "      <td>4</td>\n",
       "      <td>0.052118</td>\n",
       "      <td>0.069490</td>\n",
       "      <td>13.0</td>\n",
       "      <td>11.0</td>\n",
       "      <td>13.0</td>\n",
       "      <td>51.0</td>\n",
       "      <td>92.6</td>\n",
       "      <td>51.0</td>\n",
       "      <td>85.0</td>\n",
       "      <td>10.5</td>\n",
       "      <td>1.0</td>\n",
       "    </tr>\n",
       "  </tbody>\n",
       "</table>\n",
       "</div>"
      ],
      "text/plain": [
       "   fips state   county  recfac11  recfac16  recfacpth11  recfacpth16  \\\n",
       "0  1001    AL  Autauga         4         6     0.072465     0.108542   \n",
       "1  1003    AL  Baldwin        16        21     0.085775     0.101200   \n",
       "2  1005    AL  Barbour         2         0     0.073123     0.000000   \n",
       "3  1007    AL     Bibb         0         1     0.000000     0.044183   \n",
       "4  1009    AL   Blount         3         4     0.052118     0.069490   \n",
       "\n",
       "   pct_mhs18  pct_mhs1825  pct_mhs26  rank18  per100th18  rank17  per100th17  \\\n",
       "0       13.0         11.0       13.0    51.0        92.6    51.0        85.0   \n",
       "1       13.0         11.0       13.0    51.0        92.6    51.0        85.0   \n",
       "2       13.0         11.0       13.0    51.0        92.6    51.0        85.0   \n",
       "3       13.0         11.0       13.0    51.0        92.6    51.0        85.0   \n",
       "4       13.0         11.0       13.0    51.0        92.6    51.0        85.0   \n",
       "\n",
       "   pct_diabetes18  class  \n",
       "0             9.5    1.0  \n",
       "1             8.4    0.0  \n",
       "2            13.5    1.0  \n",
       "3            10.2    1.0  \n",
       "4            10.5    1.0  "
      ]
     },
     "execution_count": 419,
     "metadata": {},
     "output_type": "execute_result"
    }
   ],
   "source": [
    "health_rec['pct_diabetes18'] = d18_rec['pct_diabetes18']\n",
    "\n",
    "health_rec['class'] = d18_rec['class']\n",
    "\n",
    "health_rec.head()"
   ]
  },
  {
   "cell_type": "code",
   "execution_count": 420,
   "id": "dc6e5a0d",
   "metadata": {},
   "outputs": [
    {
     "data": {
      "text/plain": [
       "fips              0\n",
       "state             0\n",
       "county            0\n",
       "recfac11          0\n",
       "recfac16          0\n",
       "recfacpth11       0\n",
       "recfacpth16       0\n",
       "pct_mhs18         0\n",
       "pct_mhs1825       0\n",
       "pct_mhs26         0\n",
       "rank18            0\n",
       "per100th18        0\n",
       "rank17            0\n",
       "per100th17        0\n",
       "pct_diabetes18    0\n",
       "class             0\n",
       "dtype: int64"
      ]
     },
     "execution_count": 420,
     "metadata": {},
     "output_type": "execute_result"
    }
   ],
   "source": [
    "health_rec.isnull().sum()"
   ]
  },
  {
   "cell_type": "markdown",
   "id": "8d46e4f0",
   "metadata": {},
   "source": [
    "This dataset is ready for modeling. I will save it to a new csv. "
   ]
  },
  {
   "cell_type": "code",
   "execution_count": 421,
   "id": "7cfeaef2",
   "metadata": {},
   "outputs": [],
   "source": [
    "health_rec.to_csv('../data/FoodEnvironmentAtlas.xls.HEALTH_Modeling.csv', index=False)"
   ]
  },
  {
   "cell_type": "markdown",
   "id": "8f0546dc",
   "metadata": {},
   "source": [
    "## II. Access"
   ]
  },
  {
   "cell_type": "markdown",
   "id": "877f106f",
   "metadata": {},
   "source": [
    "I changed the Kusilvak Census Area and Ogata Lakota County names and removed Bedford City on google spreadsheets to create the csv below."
   ]
  },
  {
   "cell_type": "code",
   "execution_count": 422,
   "id": "84f3795b",
   "metadata": {},
   "outputs": [],
   "source": [
    "file_path = '../data/FoodEnvironmentAtlas.xls.ACCESS_REC.csv'\n",
    "\n",
    "access_rec = pd.read_csv(file_path)"
   ]
  },
  {
   "cell_type": "code",
   "execution_count": 423,
   "id": "7b22b63c",
   "metadata": {},
   "outputs": [
    {
     "data": {
      "text/html": [
       "<div>\n",
       "<style scoped>\n",
       "    .dataframe tbody tr th:only-of-type {\n",
       "        vertical-align: middle;\n",
       "    }\n",
       "\n",
       "    .dataframe tbody tr th {\n",
       "        vertical-align: top;\n",
       "    }\n",
       "\n",
       "    .dataframe thead th {\n",
       "        text-align: right;\n",
       "    }\n",
       "</style>\n",
       "<table border=\"1\" class=\"dataframe\">\n",
       "  <thead>\n",
       "    <tr style=\"text-align: right;\">\n",
       "      <th></th>\n",
       "      <th>fips</th>\n",
       "      <th>state</th>\n",
       "      <th>county</th>\n",
       "      <th>pct_laccess_pop10</th>\n",
       "      <th>pct_laccess_pop15</th>\n",
       "      <th>pct_laccess_lowi10</th>\n",
       "      <th>pct_laccess_lowi15</th>\n",
       "      <th>pct_laccess_hhnv10</th>\n",
       "      <th>pct_laccess_hhnv15</th>\n",
       "      <th>pct_laccess_snap15</th>\n",
       "      <th>pct_laccess_child10</th>\n",
       "      <th>pct_laccess_child15</th>\n",
       "      <th>pct_laccess_seniors10</th>\n",
       "      <th>pct_laccess_seniors15</th>\n",
       "    </tr>\n",
       "  </thead>\n",
       "  <tbody>\n",
       "    <tr>\n",
       "      <th>0</th>\n",
       "      <td>1001</td>\n",
       "      <td>AL</td>\n",
       "      <td>Autauga</td>\n",
       "      <td>33.769657</td>\n",
       "      <td>32.062255</td>\n",
       "      <td>9.793530</td>\n",
       "      <td>11.991125</td>\n",
       "      <td>3.284786</td>\n",
       "      <td>3.351332</td>\n",
       "      <td>4.608749</td>\n",
       "      <td>8.837112</td>\n",
       "      <td>8.460485</td>\n",
       "      <td>4.376378</td>\n",
       "      <td>3.996279</td>\n",
       "    </tr>\n",
       "    <tr>\n",
       "      <th>1</th>\n",
       "      <td>1003</td>\n",
       "      <td>AL</td>\n",
       "      <td>Baldwin</td>\n",
       "      <td>19.318473</td>\n",
       "      <td>16.767489</td>\n",
       "      <td>5.460261</td>\n",
       "      <td>5.424427</td>\n",
       "      <td>2.147827</td>\n",
       "      <td>1.905114</td>\n",
       "      <td>1.298900</td>\n",
       "      <td>4.343199</td>\n",
       "      <td>3.844936</td>\n",
       "      <td>3.513570</td>\n",
       "      <td>3.061840</td>\n",
       "    </tr>\n",
       "    <tr>\n",
       "      <th>2</th>\n",
       "      <td>1005</td>\n",
       "      <td>AL</td>\n",
       "      <td>Barbour</td>\n",
       "      <td>20.840972</td>\n",
       "      <td>22.105560</td>\n",
       "      <td>11.420316</td>\n",
       "      <td>10.739667</td>\n",
       "      <td>4.135869</td>\n",
       "      <td>4.329378</td>\n",
       "      <td>4.303147</td>\n",
       "      <td>3.425062</td>\n",
       "      <td>3.758341</td>\n",
       "      <td>2.805166</td>\n",
       "      <td>3.001695</td>\n",
       "    </tr>\n",
       "    <tr>\n",
       "      <th>3</th>\n",
       "      <td>1007</td>\n",
       "      <td>AL</td>\n",
       "      <td>Bibb</td>\n",
       "      <td>4.559753</td>\n",
       "      <td>4.230324</td>\n",
       "      <td>2.144661</td>\n",
       "      <td>2.601627</td>\n",
       "      <td>3.458580</td>\n",
       "      <td>2.821427</td>\n",
       "      <td>0.676710</td>\n",
       "      <td>1.087518</td>\n",
       "      <td>1.015242</td>\n",
       "      <td>0.657008</td>\n",
       "      <td>0.600865</td>\n",
       "    </tr>\n",
       "    <tr>\n",
       "      <th>4</th>\n",
       "      <td>1009</td>\n",
       "      <td>AL</td>\n",
       "      <td>Blount</td>\n",
       "      <td>2.700840</td>\n",
       "      <td>6.497380</td>\n",
       "      <td>1.062468</td>\n",
       "      <td>2.880150</td>\n",
       "      <td>3.269380</td>\n",
       "      <td>3.336414</td>\n",
       "      <td>0.812727</td>\n",
       "      <td>0.671490</td>\n",
       "      <td>1.588720</td>\n",
       "      <td>0.340269</td>\n",
       "      <td>0.882583</td>\n",
       "    </tr>\n",
       "  </tbody>\n",
       "</table>\n",
       "</div>"
      ],
      "text/plain": [
       "   fips state   county  pct_laccess_pop10  pct_laccess_pop15  \\\n",
       "0  1001    AL  Autauga          33.769657          32.062255   \n",
       "1  1003    AL  Baldwin          19.318473          16.767489   \n",
       "2  1005    AL  Barbour          20.840972          22.105560   \n",
       "3  1007    AL     Bibb           4.559753           4.230324   \n",
       "4  1009    AL   Blount           2.700840           6.497380   \n",
       "\n",
       "   pct_laccess_lowi10  pct_laccess_lowi15  pct_laccess_hhnv10  \\\n",
       "0            9.793530           11.991125            3.284786   \n",
       "1            5.460261            5.424427            2.147827   \n",
       "2           11.420316           10.739667            4.135869   \n",
       "3            2.144661            2.601627            3.458580   \n",
       "4            1.062468            2.880150            3.269380   \n",
       "\n",
       "   pct_laccess_hhnv15  pct_laccess_snap15  pct_laccess_child10  \\\n",
       "0            3.351332            4.608749             8.837112   \n",
       "1            1.905114            1.298900             4.343199   \n",
       "2            4.329378            4.303147             3.425062   \n",
       "3            2.821427            0.676710             1.087518   \n",
       "4            3.336414            0.812727             0.671490   \n",
       "\n",
       "   pct_laccess_child15  pct_laccess_seniors10  pct_laccess_seniors15  \n",
       "0             8.460485               4.376378               3.996279  \n",
       "1             3.844936               3.513570               3.061840  \n",
       "2             3.758341               2.805166               3.001695  \n",
       "3             1.015242               0.657008               0.600865  \n",
       "4             1.588720               0.340269               0.882583  "
      ]
     },
     "execution_count": 423,
     "metadata": {},
     "output_type": "execute_result"
    }
   ],
   "source": [
    "access_rec.head()"
   ]
  },
  {
   "cell_type": "code",
   "execution_count": 424,
   "id": "c1295554",
   "metadata": {},
   "outputs": [
    {
     "data": {
      "text/plain": [
       "(3142, 14)"
      ]
     },
     "execution_count": 424,
     "metadata": {},
     "output_type": "execute_result"
    }
   ],
   "source": [
    "access_rec.shape"
   ]
  },
  {
   "cell_type": "code",
   "execution_count": 425,
   "id": "25badd1a",
   "metadata": {},
   "outputs": [
    {
     "data": {
      "text/plain": [
       "(3142, 5)"
      ]
     },
     "execution_count": 425,
     "metadata": {},
     "output_type": "execute_result"
    }
   ],
   "source": [
    "d18_rec.shape"
   ]
  },
  {
   "cell_type": "code",
   "execution_count": 426,
   "id": "cc8100c4",
   "metadata": {},
   "outputs": [
    {
     "data": {
      "text/html": [
       "<div>\n",
       "<style scoped>\n",
       "    .dataframe tbody tr th:only-of-type {\n",
       "        vertical-align: middle;\n",
       "    }\n",
       "\n",
       "    .dataframe tbody tr th {\n",
       "        vertical-align: top;\n",
       "    }\n",
       "\n",
       "    .dataframe thead th {\n",
       "        text-align: right;\n",
       "    }\n",
       "</style>\n",
       "<table border=\"1\" class=\"dataframe\">\n",
       "  <thead>\n",
       "    <tr style=\"text-align: right;\">\n",
       "      <th></th>\n",
       "      <th>fips</th>\n",
       "      <th>state</th>\n",
       "      <th>county</th>\n",
       "      <th>pct_laccess_pop10</th>\n",
       "      <th>pct_laccess_pop15</th>\n",
       "      <th>pct_laccess_lowi10</th>\n",
       "      <th>pct_laccess_lowi15</th>\n",
       "      <th>pct_laccess_hhnv10</th>\n",
       "      <th>pct_laccess_hhnv15</th>\n",
       "      <th>pct_laccess_snap15</th>\n",
       "      <th>pct_laccess_child10</th>\n",
       "      <th>pct_laccess_child15</th>\n",
       "      <th>pct_laccess_seniors10</th>\n",
       "      <th>pct_laccess_seniors15</th>\n",
       "    </tr>\n",
       "  </thead>\n",
       "  <tbody>\n",
       "    <tr>\n",
       "      <th>0</th>\n",
       "      <td>1001</td>\n",
       "      <td>AL</td>\n",
       "      <td>Autauga</td>\n",
       "      <td>33.769657</td>\n",
       "      <td>32.062255</td>\n",
       "      <td>9.793530</td>\n",
       "      <td>11.991125</td>\n",
       "      <td>3.284786</td>\n",
       "      <td>3.351332</td>\n",
       "      <td>4.608749</td>\n",
       "      <td>8.837112</td>\n",
       "      <td>8.460485</td>\n",
       "      <td>4.376378</td>\n",
       "      <td>3.996279</td>\n",
       "    </tr>\n",
       "    <tr>\n",
       "      <th>1</th>\n",
       "      <td>1003</td>\n",
       "      <td>AL</td>\n",
       "      <td>Baldwin</td>\n",
       "      <td>19.318473</td>\n",
       "      <td>16.767489</td>\n",
       "      <td>5.460261</td>\n",
       "      <td>5.424427</td>\n",
       "      <td>2.147827</td>\n",
       "      <td>1.905114</td>\n",
       "      <td>1.298900</td>\n",
       "      <td>4.343199</td>\n",
       "      <td>3.844936</td>\n",
       "      <td>3.513570</td>\n",
       "      <td>3.061840</td>\n",
       "    </tr>\n",
       "    <tr>\n",
       "      <th>2</th>\n",
       "      <td>1005</td>\n",
       "      <td>AL</td>\n",
       "      <td>Barbour</td>\n",
       "      <td>20.840972</td>\n",
       "      <td>22.105560</td>\n",
       "      <td>11.420316</td>\n",
       "      <td>10.739667</td>\n",
       "      <td>4.135869</td>\n",
       "      <td>4.329378</td>\n",
       "      <td>4.303147</td>\n",
       "      <td>3.425062</td>\n",
       "      <td>3.758341</td>\n",
       "      <td>2.805166</td>\n",
       "      <td>3.001695</td>\n",
       "    </tr>\n",
       "    <tr>\n",
       "      <th>3</th>\n",
       "      <td>1007</td>\n",
       "      <td>AL</td>\n",
       "      <td>Bibb</td>\n",
       "      <td>4.559753</td>\n",
       "      <td>4.230324</td>\n",
       "      <td>2.144661</td>\n",
       "      <td>2.601627</td>\n",
       "      <td>3.458580</td>\n",
       "      <td>2.821427</td>\n",
       "      <td>0.676710</td>\n",
       "      <td>1.087518</td>\n",
       "      <td>1.015242</td>\n",
       "      <td>0.657008</td>\n",
       "      <td>0.600865</td>\n",
       "    </tr>\n",
       "    <tr>\n",
       "      <th>4</th>\n",
       "      <td>1009</td>\n",
       "      <td>AL</td>\n",
       "      <td>Blount</td>\n",
       "      <td>2.700840</td>\n",
       "      <td>6.497380</td>\n",
       "      <td>1.062468</td>\n",
       "      <td>2.880150</td>\n",
       "      <td>3.269380</td>\n",
       "      <td>3.336414</td>\n",
       "      <td>0.812727</td>\n",
       "      <td>0.671490</td>\n",
       "      <td>1.588720</td>\n",
       "      <td>0.340269</td>\n",
       "      <td>0.882583</td>\n",
       "    </tr>\n",
       "  </tbody>\n",
       "</table>\n",
       "</div>"
      ],
      "text/plain": [
       "   fips state   county  pct_laccess_pop10  pct_laccess_pop15  \\\n",
       "0  1001    AL  Autauga          33.769657          32.062255   \n",
       "1  1003    AL  Baldwin          19.318473          16.767489   \n",
       "2  1005    AL  Barbour          20.840972          22.105560   \n",
       "3  1007    AL     Bibb           4.559753           4.230324   \n",
       "4  1009    AL   Blount           2.700840           6.497380   \n",
       "\n",
       "   pct_laccess_lowi10  pct_laccess_lowi15  pct_laccess_hhnv10  \\\n",
       "0            9.793530           11.991125            3.284786   \n",
       "1            5.460261            5.424427            2.147827   \n",
       "2           11.420316           10.739667            4.135869   \n",
       "3            2.144661            2.601627            3.458580   \n",
       "4            1.062468            2.880150            3.269380   \n",
       "\n",
       "   pct_laccess_hhnv15  pct_laccess_snap15  pct_laccess_child10  \\\n",
       "0            3.351332            4.608749             8.837112   \n",
       "1            1.905114            1.298900             4.343199   \n",
       "2            4.329378            4.303147             3.425062   \n",
       "3            2.821427            0.676710             1.087518   \n",
       "4            3.336414            0.812727             0.671490   \n",
       "\n",
       "   pct_laccess_child15  pct_laccess_seniors10  pct_laccess_seniors15  \n",
       "0             8.460485               4.376378               3.996279  \n",
       "1             3.844936               3.513570               3.061840  \n",
       "2             3.758341               2.805166               3.001695  \n",
       "3             1.015242               0.657008               0.600865  \n",
       "4             1.588720               0.340269               0.882583  "
      ]
     },
     "execution_count": 426,
     "metadata": {},
     "output_type": "execute_result"
    }
   ],
   "source": [
    "access_rec.head()"
   ]
  },
  {
   "cell_type": "code",
   "execution_count": 427,
   "id": "eca87601",
   "metadata": {},
   "outputs": [
    {
     "data": {
      "text/html": [
       "<div>\n",
       "<style scoped>\n",
       "    .dataframe tbody tr th:only-of-type {\n",
       "        vertical-align: middle;\n",
       "    }\n",
       "\n",
       "    .dataframe tbody tr th {\n",
       "        vertical-align: top;\n",
       "    }\n",
       "\n",
       "    .dataframe thead th {\n",
       "        text-align: right;\n",
       "    }\n",
       "</style>\n",
       "<table border=\"1\" class=\"dataframe\">\n",
       "  <thead>\n",
       "    <tr style=\"text-align: right;\">\n",
       "      <th></th>\n",
       "      <th>fips</th>\n",
       "      <th>state</th>\n",
       "      <th>county</th>\n",
       "      <th>pct_laccess_pop10</th>\n",
       "      <th>pct_laccess_pop15</th>\n",
       "      <th>pct_laccess_lowi10</th>\n",
       "      <th>pct_laccess_lowi15</th>\n",
       "      <th>pct_laccess_hhnv10</th>\n",
       "      <th>pct_laccess_hhnv15</th>\n",
       "      <th>pct_laccess_snap15</th>\n",
       "      <th>pct_laccess_child10</th>\n",
       "      <th>pct_laccess_child15</th>\n",
       "      <th>pct_laccess_seniors10</th>\n",
       "      <th>pct_laccess_seniors15</th>\n",
       "    </tr>\n",
       "  </thead>\n",
       "  <tbody>\n",
       "    <tr>\n",
       "      <th>3137</th>\n",
       "      <td>56037</td>\n",
       "      <td>WY</td>\n",
       "      <td>Sweetwater</td>\n",
       "      <td>30.570505</td>\n",
       "      <td>43.224074</td>\n",
       "      <td>5.512073</td>\n",
       "      <td>10.845331</td>\n",
       "      <td>0.877134</td>\n",
       "      <td>2.182752</td>\n",
       "      <td>2.141828</td>\n",
       "      <td>8.181230</td>\n",
       "      <td>11.077838</td>\n",
       "      <td>2.832748</td>\n",
       "      <td>4.454212</td>\n",
       "    </tr>\n",
       "    <tr>\n",
       "      <th>3138</th>\n",
       "      <td>56039</td>\n",
       "      <td>WY</td>\n",
       "      <td>Teton</td>\n",
       "      <td>29.174527</td>\n",
       "      <td>29.174370</td>\n",
       "      <td>4.975409</td>\n",
       "      <td>7.409463</td>\n",
       "      <td>1.374848</td>\n",
       "      <td>0.540222</td>\n",
       "      <td>0.670815</td>\n",
       "      <td>5.147907</td>\n",
       "      <td>5.147868</td>\n",
       "      <td>3.086168</td>\n",
       "      <td>3.086129</td>\n",
       "    </tr>\n",
       "    <tr>\n",
       "      <th>3139</th>\n",
       "      <td>56041</td>\n",
       "      <td>WY</td>\n",
       "      <td>Uinta</td>\n",
       "      <td>20.220414</td>\n",
       "      <td>22.189685</td>\n",
       "      <td>7.190150</td>\n",
       "      <td>9.727151</td>\n",
       "      <td>0.966219</td>\n",
       "      <td>2.759922</td>\n",
       "      <td>2.072485</td>\n",
       "      <td>6.328975</td>\n",
       "      <td>6.815148</td>\n",
       "      <td>1.707290</td>\n",
       "      <td>2.069942</td>\n",
       "    </tr>\n",
       "    <tr>\n",
       "      <th>3140</th>\n",
       "      <td>56043</td>\n",
       "      <td>WY</td>\n",
       "      <td>Washakie</td>\n",
       "      <td>10.915407</td>\n",
       "      <td>10.915407</td>\n",
       "      <td>2.737939</td>\n",
       "      <td>3.621591</td>\n",
       "      <td>0.396304</td>\n",
       "      <td>1.203633</td>\n",
       "      <td>1.053980</td>\n",
       "      <td>2.162275</td>\n",
       "      <td>2.162275</td>\n",
       "      <td>2.572249</td>\n",
       "      <td>2.572249</td>\n",
       "    </tr>\n",
       "    <tr>\n",
       "      <th>3141</th>\n",
       "      <td>56045</td>\n",
       "      <td>WY</td>\n",
       "      <td>Weston</td>\n",
       "      <td>17.209949</td>\n",
       "      <td>17.165192</td>\n",
       "      <td>3.989222</td>\n",
       "      <td>4.199467</td>\n",
       "      <td>1.483037</td>\n",
       "      <td>3.728765</td>\n",
       "      <td>0.971078</td>\n",
       "      <td>3.507074</td>\n",
       "      <td>3.504601</td>\n",
       "      <td>2.974616</td>\n",
       "      <td>2.959728</td>\n",
       "    </tr>\n",
       "  </tbody>\n",
       "</table>\n",
       "</div>"
      ],
      "text/plain": [
       "       fips state      county  pct_laccess_pop10  pct_laccess_pop15  \\\n",
       "3137  56037    WY  Sweetwater          30.570505          43.224074   \n",
       "3138  56039    WY       Teton          29.174527          29.174370   \n",
       "3139  56041    WY       Uinta          20.220414          22.189685   \n",
       "3140  56043    WY    Washakie          10.915407          10.915407   \n",
       "3141  56045    WY      Weston          17.209949          17.165192   \n",
       "\n",
       "      pct_laccess_lowi10  pct_laccess_lowi15  pct_laccess_hhnv10  \\\n",
       "3137            5.512073           10.845331            0.877134   \n",
       "3138            4.975409            7.409463            1.374848   \n",
       "3139            7.190150            9.727151            0.966219   \n",
       "3140            2.737939            3.621591            0.396304   \n",
       "3141            3.989222            4.199467            1.483037   \n",
       "\n",
       "      pct_laccess_hhnv15  pct_laccess_snap15  pct_laccess_child10  \\\n",
       "3137            2.182752            2.141828             8.181230   \n",
       "3138            0.540222            0.670815             5.147907   \n",
       "3139            2.759922            2.072485             6.328975   \n",
       "3140            1.203633            1.053980             2.162275   \n",
       "3141            3.728765            0.971078             3.507074   \n",
       "\n",
       "      pct_laccess_child15  pct_laccess_seniors10  pct_laccess_seniors15  \n",
       "3137            11.077838               2.832748               4.454212  \n",
       "3138             5.147868               3.086168               3.086129  \n",
       "3139             6.815148               1.707290               2.069942  \n",
       "3140             2.162275               2.572249               2.572249  \n",
       "3141             3.504601               2.974616               2.959728  "
      ]
     },
     "execution_count": 427,
     "metadata": {},
     "output_type": "execute_result"
    }
   ],
   "source": [
    "access_rec.tail()"
   ]
  },
  {
   "cell_type": "markdown",
   "id": "676ca9c1",
   "metadata": {},
   "source": [
    "At times when running this notebook, the dataframe displays with an error in the index, showing the last row as 3142. I will reset the index."
   ]
  },
  {
   "cell_type": "code",
   "execution_count": 428,
   "id": "d6acabf2",
   "metadata": {},
   "outputs": [
    {
     "data": {
      "text/html": [
       "<div>\n",
       "<style scoped>\n",
       "    .dataframe tbody tr th:only-of-type {\n",
       "        vertical-align: middle;\n",
       "    }\n",
       "\n",
       "    .dataframe tbody tr th {\n",
       "        vertical-align: top;\n",
       "    }\n",
       "\n",
       "    .dataframe thead th {\n",
       "        text-align: right;\n",
       "    }\n",
       "</style>\n",
       "<table border=\"1\" class=\"dataframe\">\n",
       "  <thead>\n",
       "    <tr style=\"text-align: right;\">\n",
       "      <th></th>\n",
       "      <th>index</th>\n",
       "      <th>fips</th>\n",
       "      <th>state</th>\n",
       "      <th>county</th>\n",
       "      <th>pct_laccess_pop10</th>\n",
       "      <th>pct_laccess_pop15</th>\n",
       "      <th>pct_laccess_lowi10</th>\n",
       "      <th>pct_laccess_lowi15</th>\n",
       "      <th>pct_laccess_hhnv10</th>\n",
       "      <th>pct_laccess_hhnv15</th>\n",
       "      <th>pct_laccess_snap15</th>\n",
       "      <th>pct_laccess_child10</th>\n",
       "      <th>pct_laccess_child15</th>\n",
       "      <th>pct_laccess_seniors10</th>\n",
       "      <th>pct_laccess_seniors15</th>\n",
       "    </tr>\n",
       "  </thead>\n",
       "  <tbody>\n",
       "    <tr>\n",
       "      <th>0</th>\n",
       "      <td>0</td>\n",
       "      <td>1001</td>\n",
       "      <td>AL</td>\n",
       "      <td>Autauga</td>\n",
       "      <td>33.769657</td>\n",
       "      <td>32.062255</td>\n",
       "      <td>9.793530</td>\n",
       "      <td>11.991125</td>\n",
       "      <td>3.284786</td>\n",
       "      <td>3.351332</td>\n",
       "      <td>4.608749</td>\n",
       "      <td>8.837112</td>\n",
       "      <td>8.460485</td>\n",
       "      <td>4.376378</td>\n",
       "      <td>3.996279</td>\n",
       "    </tr>\n",
       "    <tr>\n",
       "      <th>1</th>\n",
       "      <td>1</td>\n",
       "      <td>1003</td>\n",
       "      <td>AL</td>\n",
       "      <td>Baldwin</td>\n",
       "      <td>19.318473</td>\n",
       "      <td>16.767489</td>\n",
       "      <td>5.460261</td>\n",
       "      <td>5.424427</td>\n",
       "      <td>2.147827</td>\n",
       "      <td>1.905114</td>\n",
       "      <td>1.298900</td>\n",
       "      <td>4.343199</td>\n",
       "      <td>3.844936</td>\n",
       "      <td>3.513570</td>\n",
       "      <td>3.061840</td>\n",
       "    </tr>\n",
       "    <tr>\n",
       "      <th>2</th>\n",
       "      <td>2</td>\n",
       "      <td>1005</td>\n",
       "      <td>AL</td>\n",
       "      <td>Barbour</td>\n",
       "      <td>20.840972</td>\n",
       "      <td>22.105560</td>\n",
       "      <td>11.420316</td>\n",
       "      <td>10.739667</td>\n",
       "      <td>4.135869</td>\n",
       "      <td>4.329378</td>\n",
       "      <td>4.303147</td>\n",
       "      <td>3.425062</td>\n",
       "      <td>3.758341</td>\n",
       "      <td>2.805166</td>\n",
       "      <td>3.001695</td>\n",
       "    </tr>\n",
       "    <tr>\n",
       "      <th>3</th>\n",
       "      <td>3</td>\n",
       "      <td>1007</td>\n",
       "      <td>AL</td>\n",
       "      <td>Bibb</td>\n",
       "      <td>4.559753</td>\n",
       "      <td>4.230324</td>\n",
       "      <td>2.144661</td>\n",
       "      <td>2.601627</td>\n",
       "      <td>3.458580</td>\n",
       "      <td>2.821427</td>\n",
       "      <td>0.676710</td>\n",
       "      <td>1.087518</td>\n",
       "      <td>1.015242</td>\n",
       "      <td>0.657008</td>\n",
       "      <td>0.600865</td>\n",
       "    </tr>\n",
       "    <tr>\n",
       "      <th>4</th>\n",
       "      <td>4</td>\n",
       "      <td>1009</td>\n",
       "      <td>AL</td>\n",
       "      <td>Blount</td>\n",
       "      <td>2.700840</td>\n",
       "      <td>6.497380</td>\n",
       "      <td>1.062468</td>\n",
       "      <td>2.880150</td>\n",
       "      <td>3.269380</td>\n",
       "      <td>3.336414</td>\n",
       "      <td>0.812727</td>\n",
       "      <td>0.671490</td>\n",
       "      <td>1.588720</td>\n",
       "      <td>0.340269</td>\n",
       "      <td>0.882583</td>\n",
       "    </tr>\n",
       "    <tr>\n",
       "      <th>...</th>\n",
       "      <td>...</td>\n",
       "      <td>...</td>\n",
       "      <td>...</td>\n",
       "      <td>...</td>\n",
       "      <td>...</td>\n",
       "      <td>...</td>\n",
       "      <td>...</td>\n",
       "      <td>...</td>\n",
       "      <td>...</td>\n",
       "      <td>...</td>\n",
       "      <td>...</td>\n",
       "      <td>...</td>\n",
       "      <td>...</td>\n",
       "      <td>...</td>\n",
       "      <td>...</td>\n",
       "    </tr>\n",
       "    <tr>\n",
       "      <th>3137</th>\n",
       "      <td>3137</td>\n",
       "      <td>56037</td>\n",
       "      <td>WY</td>\n",
       "      <td>Sweetwater</td>\n",
       "      <td>30.570505</td>\n",
       "      <td>43.224074</td>\n",
       "      <td>5.512073</td>\n",
       "      <td>10.845331</td>\n",
       "      <td>0.877134</td>\n",
       "      <td>2.182752</td>\n",
       "      <td>2.141828</td>\n",
       "      <td>8.181230</td>\n",
       "      <td>11.077838</td>\n",
       "      <td>2.832748</td>\n",
       "      <td>4.454212</td>\n",
       "    </tr>\n",
       "    <tr>\n",
       "      <th>3138</th>\n",
       "      <td>3138</td>\n",
       "      <td>56039</td>\n",
       "      <td>WY</td>\n",
       "      <td>Teton</td>\n",
       "      <td>29.174527</td>\n",
       "      <td>29.174370</td>\n",
       "      <td>4.975409</td>\n",
       "      <td>7.409463</td>\n",
       "      <td>1.374848</td>\n",
       "      <td>0.540222</td>\n",
       "      <td>0.670815</td>\n",
       "      <td>5.147907</td>\n",
       "      <td>5.147868</td>\n",
       "      <td>3.086168</td>\n",
       "      <td>3.086129</td>\n",
       "    </tr>\n",
       "    <tr>\n",
       "      <th>3139</th>\n",
       "      <td>3139</td>\n",
       "      <td>56041</td>\n",
       "      <td>WY</td>\n",
       "      <td>Uinta</td>\n",
       "      <td>20.220414</td>\n",
       "      <td>22.189685</td>\n",
       "      <td>7.190150</td>\n",
       "      <td>9.727151</td>\n",
       "      <td>0.966219</td>\n",
       "      <td>2.759922</td>\n",
       "      <td>2.072485</td>\n",
       "      <td>6.328975</td>\n",
       "      <td>6.815148</td>\n",
       "      <td>1.707290</td>\n",
       "      <td>2.069942</td>\n",
       "    </tr>\n",
       "    <tr>\n",
       "      <th>3140</th>\n",
       "      <td>3140</td>\n",
       "      <td>56043</td>\n",
       "      <td>WY</td>\n",
       "      <td>Washakie</td>\n",
       "      <td>10.915407</td>\n",
       "      <td>10.915407</td>\n",
       "      <td>2.737939</td>\n",
       "      <td>3.621591</td>\n",
       "      <td>0.396304</td>\n",
       "      <td>1.203633</td>\n",
       "      <td>1.053980</td>\n",
       "      <td>2.162275</td>\n",
       "      <td>2.162275</td>\n",
       "      <td>2.572249</td>\n",
       "      <td>2.572249</td>\n",
       "    </tr>\n",
       "    <tr>\n",
       "      <th>3141</th>\n",
       "      <td>3141</td>\n",
       "      <td>56045</td>\n",
       "      <td>WY</td>\n",
       "      <td>Weston</td>\n",
       "      <td>17.209949</td>\n",
       "      <td>17.165192</td>\n",
       "      <td>3.989222</td>\n",
       "      <td>4.199467</td>\n",
       "      <td>1.483037</td>\n",
       "      <td>3.728765</td>\n",
       "      <td>0.971078</td>\n",
       "      <td>3.507074</td>\n",
       "      <td>3.504601</td>\n",
       "      <td>2.974616</td>\n",
       "      <td>2.959728</td>\n",
       "    </tr>\n",
       "  </tbody>\n",
       "</table>\n",
       "<p>3142 rows × 15 columns</p>\n",
       "</div>"
      ],
      "text/plain": [
       "      index   fips state      county  pct_laccess_pop10  pct_laccess_pop15  \\\n",
       "0         0   1001    AL     Autauga          33.769657          32.062255   \n",
       "1         1   1003    AL     Baldwin          19.318473          16.767489   \n",
       "2         2   1005    AL     Barbour          20.840972          22.105560   \n",
       "3         3   1007    AL        Bibb           4.559753           4.230324   \n",
       "4         4   1009    AL      Blount           2.700840           6.497380   \n",
       "...     ...    ...   ...         ...                ...                ...   \n",
       "3137   3137  56037    WY  Sweetwater          30.570505          43.224074   \n",
       "3138   3138  56039    WY       Teton          29.174527          29.174370   \n",
       "3139   3139  56041    WY       Uinta          20.220414          22.189685   \n",
       "3140   3140  56043    WY    Washakie          10.915407          10.915407   \n",
       "3141   3141  56045    WY      Weston          17.209949          17.165192   \n",
       "\n",
       "      pct_laccess_lowi10  pct_laccess_lowi15  pct_laccess_hhnv10  \\\n",
       "0               9.793530           11.991125            3.284786   \n",
       "1               5.460261            5.424427            2.147827   \n",
       "2              11.420316           10.739667            4.135869   \n",
       "3               2.144661            2.601627            3.458580   \n",
       "4               1.062468            2.880150            3.269380   \n",
       "...                  ...                 ...                 ...   \n",
       "3137            5.512073           10.845331            0.877134   \n",
       "3138            4.975409            7.409463            1.374848   \n",
       "3139            7.190150            9.727151            0.966219   \n",
       "3140            2.737939            3.621591            0.396304   \n",
       "3141            3.989222            4.199467            1.483037   \n",
       "\n",
       "      pct_laccess_hhnv15  pct_laccess_snap15  pct_laccess_child10  \\\n",
       "0               3.351332            4.608749             8.837112   \n",
       "1               1.905114            1.298900             4.343199   \n",
       "2               4.329378            4.303147             3.425062   \n",
       "3               2.821427            0.676710             1.087518   \n",
       "4               3.336414            0.812727             0.671490   \n",
       "...                  ...                 ...                  ...   \n",
       "3137            2.182752            2.141828             8.181230   \n",
       "3138            0.540222            0.670815             5.147907   \n",
       "3139            2.759922            2.072485             6.328975   \n",
       "3140            1.203633            1.053980             2.162275   \n",
       "3141            3.728765            0.971078             3.507074   \n",
       "\n",
       "      pct_laccess_child15  pct_laccess_seniors10  pct_laccess_seniors15  \n",
       "0                8.460485               4.376378               3.996279  \n",
       "1                3.844936               3.513570               3.061840  \n",
       "2                3.758341               2.805166               3.001695  \n",
       "3                1.015242               0.657008               0.600865  \n",
       "4                1.588720               0.340269               0.882583  \n",
       "...                   ...                    ...                    ...  \n",
       "3137            11.077838               2.832748               4.454212  \n",
       "3138             5.147868               3.086168               3.086129  \n",
       "3139             6.815148               1.707290               2.069942  \n",
       "3140             2.162275               2.572249               2.572249  \n",
       "3141             3.504601               2.974616               2.959728  \n",
       "\n",
       "[3142 rows x 15 columns]"
      ]
     },
     "execution_count": 428,
     "metadata": {},
     "output_type": "execute_result"
    }
   ],
   "source": [
    "access_rec.reset_index() #resets index"
   ]
  },
  {
   "cell_type": "code",
   "execution_count": 429,
   "id": "e25b2f30",
   "metadata": {},
   "outputs": [
    {
     "data": {
      "text/html": [
       "<div>\n",
       "<style scoped>\n",
       "    .dataframe tbody tr th:only-of-type {\n",
       "        vertical-align: middle;\n",
       "    }\n",
       "\n",
       "    .dataframe tbody tr th {\n",
       "        vertical-align: top;\n",
       "    }\n",
       "\n",
       "    .dataframe thead th {\n",
       "        text-align: right;\n",
       "    }\n",
       "</style>\n",
       "<table border=\"1\" class=\"dataframe\">\n",
       "  <thead>\n",
       "    <tr style=\"text-align: right;\">\n",
       "      <th></th>\n",
       "      <th>fips</th>\n",
       "      <th>state</th>\n",
       "      <th>county</th>\n",
       "      <th>pct_laccess_pop10</th>\n",
       "      <th>pct_laccess_pop15</th>\n",
       "      <th>pct_laccess_lowi10</th>\n",
       "      <th>pct_laccess_lowi15</th>\n",
       "      <th>pct_laccess_hhnv10</th>\n",
       "      <th>pct_laccess_hhnv15</th>\n",
       "      <th>pct_laccess_snap15</th>\n",
       "      <th>pct_laccess_child10</th>\n",
       "      <th>pct_laccess_child15</th>\n",
       "      <th>pct_laccess_seniors10</th>\n",
       "      <th>pct_laccess_seniors15</th>\n",
       "    </tr>\n",
       "  </thead>\n",
       "  <tbody>\n",
       "    <tr>\n",
       "      <th>0</th>\n",
       "      <td>1001</td>\n",
       "      <td>AL</td>\n",
       "      <td>Autauga</td>\n",
       "      <td>33.769657</td>\n",
       "      <td>32.062255</td>\n",
       "      <td>9.793530</td>\n",
       "      <td>11.991125</td>\n",
       "      <td>3.284786</td>\n",
       "      <td>3.351332</td>\n",
       "      <td>4.608749</td>\n",
       "      <td>8.837112</td>\n",
       "      <td>8.460485</td>\n",
       "      <td>4.376378</td>\n",
       "      <td>3.996279</td>\n",
       "    </tr>\n",
       "    <tr>\n",
       "      <th>1</th>\n",
       "      <td>1003</td>\n",
       "      <td>AL</td>\n",
       "      <td>Baldwin</td>\n",
       "      <td>19.318473</td>\n",
       "      <td>16.767489</td>\n",
       "      <td>5.460261</td>\n",
       "      <td>5.424427</td>\n",
       "      <td>2.147827</td>\n",
       "      <td>1.905114</td>\n",
       "      <td>1.298900</td>\n",
       "      <td>4.343199</td>\n",
       "      <td>3.844936</td>\n",
       "      <td>3.513570</td>\n",
       "      <td>3.061840</td>\n",
       "    </tr>\n",
       "    <tr>\n",
       "      <th>2</th>\n",
       "      <td>1005</td>\n",
       "      <td>AL</td>\n",
       "      <td>Barbour</td>\n",
       "      <td>20.840972</td>\n",
       "      <td>22.105560</td>\n",
       "      <td>11.420316</td>\n",
       "      <td>10.739667</td>\n",
       "      <td>4.135869</td>\n",
       "      <td>4.329378</td>\n",
       "      <td>4.303147</td>\n",
       "      <td>3.425062</td>\n",
       "      <td>3.758341</td>\n",
       "      <td>2.805166</td>\n",
       "      <td>3.001695</td>\n",
       "    </tr>\n",
       "    <tr>\n",
       "      <th>3</th>\n",
       "      <td>1007</td>\n",
       "      <td>AL</td>\n",
       "      <td>Bibb</td>\n",
       "      <td>4.559753</td>\n",
       "      <td>4.230324</td>\n",
       "      <td>2.144661</td>\n",
       "      <td>2.601627</td>\n",
       "      <td>3.458580</td>\n",
       "      <td>2.821427</td>\n",
       "      <td>0.676710</td>\n",
       "      <td>1.087518</td>\n",
       "      <td>1.015242</td>\n",
       "      <td>0.657008</td>\n",
       "      <td>0.600865</td>\n",
       "    </tr>\n",
       "    <tr>\n",
       "      <th>4</th>\n",
       "      <td>1009</td>\n",
       "      <td>AL</td>\n",
       "      <td>Blount</td>\n",
       "      <td>2.700840</td>\n",
       "      <td>6.497380</td>\n",
       "      <td>1.062468</td>\n",
       "      <td>2.880150</td>\n",
       "      <td>3.269380</td>\n",
       "      <td>3.336414</td>\n",
       "      <td>0.812727</td>\n",
       "      <td>0.671490</td>\n",
       "      <td>1.588720</td>\n",
       "      <td>0.340269</td>\n",
       "      <td>0.882583</td>\n",
       "    </tr>\n",
       "    <tr>\n",
       "      <th>...</th>\n",
       "      <td>...</td>\n",
       "      <td>...</td>\n",
       "      <td>...</td>\n",
       "      <td>...</td>\n",
       "      <td>...</td>\n",
       "      <td>...</td>\n",
       "      <td>...</td>\n",
       "      <td>...</td>\n",
       "      <td>...</td>\n",
       "      <td>...</td>\n",
       "      <td>...</td>\n",
       "      <td>...</td>\n",
       "      <td>...</td>\n",
       "      <td>...</td>\n",
       "    </tr>\n",
       "    <tr>\n",
       "      <th>3137</th>\n",
       "      <td>56037</td>\n",
       "      <td>WY</td>\n",
       "      <td>Sweetwater</td>\n",
       "      <td>30.570505</td>\n",
       "      <td>43.224074</td>\n",
       "      <td>5.512073</td>\n",
       "      <td>10.845331</td>\n",
       "      <td>0.877134</td>\n",
       "      <td>2.182752</td>\n",
       "      <td>2.141828</td>\n",
       "      <td>8.181230</td>\n",
       "      <td>11.077838</td>\n",
       "      <td>2.832748</td>\n",
       "      <td>4.454212</td>\n",
       "    </tr>\n",
       "    <tr>\n",
       "      <th>3138</th>\n",
       "      <td>56039</td>\n",
       "      <td>WY</td>\n",
       "      <td>Teton</td>\n",
       "      <td>29.174527</td>\n",
       "      <td>29.174370</td>\n",
       "      <td>4.975409</td>\n",
       "      <td>7.409463</td>\n",
       "      <td>1.374848</td>\n",
       "      <td>0.540222</td>\n",
       "      <td>0.670815</td>\n",
       "      <td>5.147907</td>\n",
       "      <td>5.147868</td>\n",
       "      <td>3.086168</td>\n",
       "      <td>3.086129</td>\n",
       "    </tr>\n",
       "    <tr>\n",
       "      <th>3139</th>\n",
       "      <td>56041</td>\n",
       "      <td>WY</td>\n",
       "      <td>Uinta</td>\n",
       "      <td>20.220414</td>\n",
       "      <td>22.189685</td>\n",
       "      <td>7.190150</td>\n",
       "      <td>9.727151</td>\n",
       "      <td>0.966219</td>\n",
       "      <td>2.759922</td>\n",
       "      <td>2.072485</td>\n",
       "      <td>6.328975</td>\n",
       "      <td>6.815148</td>\n",
       "      <td>1.707290</td>\n",
       "      <td>2.069942</td>\n",
       "    </tr>\n",
       "    <tr>\n",
       "      <th>3140</th>\n",
       "      <td>56043</td>\n",
       "      <td>WY</td>\n",
       "      <td>Washakie</td>\n",
       "      <td>10.915407</td>\n",
       "      <td>10.915407</td>\n",
       "      <td>2.737939</td>\n",
       "      <td>3.621591</td>\n",
       "      <td>0.396304</td>\n",
       "      <td>1.203633</td>\n",
       "      <td>1.053980</td>\n",
       "      <td>2.162275</td>\n",
       "      <td>2.162275</td>\n",
       "      <td>2.572249</td>\n",
       "      <td>2.572249</td>\n",
       "    </tr>\n",
       "    <tr>\n",
       "      <th>3141</th>\n",
       "      <td>56045</td>\n",
       "      <td>WY</td>\n",
       "      <td>Weston</td>\n",
       "      <td>17.209949</td>\n",
       "      <td>17.165192</td>\n",
       "      <td>3.989222</td>\n",
       "      <td>4.199467</td>\n",
       "      <td>1.483037</td>\n",
       "      <td>3.728765</td>\n",
       "      <td>0.971078</td>\n",
       "      <td>3.507074</td>\n",
       "      <td>3.504601</td>\n",
       "      <td>2.974616</td>\n",
       "      <td>2.959728</td>\n",
       "    </tr>\n",
       "  </tbody>\n",
       "</table>\n",
       "<p>3142 rows × 14 columns</p>\n",
       "</div>"
      ],
      "text/plain": [
       "       fips state      county  pct_laccess_pop10  pct_laccess_pop15  \\\n",
       "0      1001    AL     Autauga          33.769657          32.062255   \n",
       "1      1003    AL     Baldwin          19.318473          16.767489   \n",
       "2      1005    AL     Barbour          20.840972          22.105560   \n",
       "3      1007    AL        Bibb           4.559753           4.230324   \n",
       "4      1009    AL      Blount           2.700840           6.497380   \n",
       "...     ...   ...         ...                ...                ...   \n",
       "3137  56037    WY  Sweetwater          30.570505          43.224074   \n",
       "3138  56039    WY       Teton          29.174527          29.174370   \n",
       "3139  56041    WY       Uinta          20.220414          22.189685   \n",
       "3140  56043    WY    Washakie          10.915407          10.915407   \n",
       "3141  56045    WY      Weston          17.209949          17.165192   \n",
       "\n",
       "      pct_laccess_lowi10  pct_laccess_lowi15  pct_laccess_hhnv10  \\\n",
       "0               9.793530           11.991125            3.284786   \n",
       "1               5.460261            5.424427            2.147827   \n",
       "2              11.420316           10.739667            4.135869   \n",
       "3               2.144661            2.601627            3.458580   \n",
       "4               1.062468            2.880150            3.269380   \n",
       "...                  ...                 ...                 ...   \n",
       "3137            5.512073           10.845331            0.877134   \n",
       "3138            4.975409            7.409463            1.374848   \n",
       "3139            7.190150            9.727151            0.966219   \n",
       "3140            2.737939            3.621591            0.396304   \n",
       "3141            3.989222            4.199467            1.483037   \n",
       "\n",
       "      pct_laccess_hhnv15  pct_laccess_snap15  pct_laccess_child10  \\\n",
       "0               3.351332            4.608749             8.837112   \n",
       "1               1.905114            1.298900             4.343199   \n",
       "2               4.329378            4.303147             3.425062   \n",
       "3               2.821427            0.676710             1.087518   \n",
       "4               3.336414            0.812727             0.671490   \n",
       "...                  ...                 ...                  ...   \n",
       "3137            2.182752            2.141828             8.181230   \n",
       "3138            0.540222            0.670815             5.147907   \n",
       "3139            2.759922            2.072485             6.328975   \n",
       "3140            1.203633            1.053980             2.162275   \n",
       "3141            3.728765            0.971078             3.507074   \n",
       "\n",
       "      pct_laccess_child15  pct_laccess_seniors10  pct_laccess_seniors15  \n",
       "0                8.460485               4.376378               3.996279  \n",
       "1                3.844936               3.513570               3.061840  \n",
       "2                3.758341               2.805166               3.001695  \n",
       "3                1.015242               0.657008               0.600865  \n",
       "4                1.588720               0.340269               0.882583  \n",
       "...                   ...                    ...                    ...  \n",
       "3137            11.077838               2.832748               4.454212  \n",
       "3138             5.147868               3.086168               3.086129  \n",
       "3139             6.815148               1.707290               2.069942  \n",
       "3140             2.162275               2.572249               2.572249  \n",
       "3141             3.504601               2.974616               2.959728  \n",
       "\n",
       "[3142 rows x 14 columns]"
      ]
     },
     "execution_count": 429,
     "metadata": {},
     "output_type": "execute_result"
    }
   ],
   "source": [
    "access_rec #shows revised dataframe"
   ]
  },
  {
   "cell_type": "markdown",
   "id": "443790f6",
   "metadata": {},
   "source": [
    "The final index number is now showing correctly as 3141. I will now add in the columns from the Diabetes Atlas."
   ]
  },
  {
   "cell_type": "code",
   "execution_count": 430,
   "id": "2ddf799a",
   "metadata": {},
   "outputs": [
    {
     "data": {
      "text/html": [
       "<div>\n",
       "<style scoped>\n",
       "    .dataframe tbody tr th:only-of-type {\n",
       "        vertical-align: middle;\n",
       "    }\n",
       "\n",
       "    .dataframe tbody tr th {\n",
       "        vertical-align: top;\n",
       "    }\n",
       "\n",
       "    .dataframe thead th {\n",
       "        text-align: right;\n",
       "    }\n",
       "</style>\n",
       "<table border=\"1\" class=\"dataframe\">\n",
       "  <thead>\n",
       "    <tr style=\"text-align: right;\">\n",
       "      <th></th>\n",
       "      <th>fips</th>\n",
       "      <th>state</th>\n",
       "      <th>county</th>\n",
       "      <th>pct_laccess_pop10</th>\n",
       "      <th>pct_laccess_pop15</th>\n",
       "      <th>pct_laccess_lowi10</th>\n",
       "      <th>pct_laccess_lowi15</th>\n",
       "      <th>pct_laccess_hhnv10</th>\n",
       "      <th>pct_laccess_hhnv15</th>\n",
       "      <th>pct_laccess_snap15</th>\n",
       "      <th>pct_laccess_child10</th>\n",
       "      <th>pct_laccess_child15</th>\n",
       "      <th>pct_laccess_seniors10</th>\n",
       "      <th>pct_laccess_seniors15</th>\n",
       "      <th>pct_diabetes18</th>\n",
       "      <th>class</th>\n",
       "    </tr>\n",
       "  </thead>\n",
       "  <tbody>\n",
       "    <tr>\n",
       "      <th>0</th>\n",
       "      <td>1001</td>\n",
       "      <td>AL</td>\n",
       "      <td>Autauga</td>\n",
       "      <td>33.769657</td>\n",
       "      <td>32.062255</td>\n",
       "      <td>9.793530</td>\n",
       "      <td>11.991125</td>\n",
       "      <td>3.284786</td>\n",
       "      <td>3.351332</td>\n",
       "      <td>4.608749</td>\n",
       "      <td>8.837112</td>\n",
       "      <td>8.460485</td>\n",
       "      <td>4.376378</td>\n",
       "      <td>3.996279</td>\n",
       "      <td>9.5</td>\n",
       "      <td>1.0</td>\n",
       "    </tr>\n",
       "    <tr>\n",
       "      <th>1</th>\n",
       "      <td>1003</td>\n",
       "      <td>AL</td>\n",
       "      <td>Baldwin</td>\n",
       "      <td>19.318473</td>\n",
       "      <td>16.767489</td>\n",
       "      <td>5.460261</td>\n",
       "      <td>5.424427</td>\n",
       "      <td>2.147827</td>\n",
       "      <td>1.905114</td>\n",
       "      <td>1.298900</td>\n",
       "      <td>4.343199</td>\n",
       "      <td>3.844936</td>\n",
       "      <td>3.513570</td>\n",
       "      <td>3.061840</td>\n",
       "      <td>8.4</td>\n",
       "      <td>0.0</td>\n",
       "    </tr>\n",
       "    <tr>\n",
       "      <th>2</th>\n",
       "      <td>1005</td>\n",
       "      <td>AL</td>\n",
       "      <td>Barbour</td>\n",
       "      <td>20.840972</td>\n",
       "      <td>22.105560</td>\n",
       "      <td>11.420316</td>\n",
       "      <td>10.739667</td>\n",
       "      <td>4.135869</td>\n",
       "      <td>4.329378</td>\n",
       "      <td>4.303147</td>\n",
       "      <td>3.425062</td>\n",
       "      <td>3.758341</td>\n",
       "      <td>2.805166</td>\n",
       "      <td>3.001695</td>\n",
       "      <td>13.5</td>\n",
       "      <td>1.0</td>\n",
       "    </tr>\n",
       "    <tr>\n",
       "      <th>3</th>\n",
       "      <td>1007</td>\n",
       "      <td>AL</td>\n",
       "      <td>Bibb</td>\n",
       "      <td>4.559753</td>\n",
       "      <td>4.230324</td>\n",
       "      <td>2.144661</td>\n",
       "      <td>2.601627</td>\n",
       "      <td>3.458580</td>\n",
       "      <td>2.821427</td>\n",
       "      <td>0.676710</td>\n",
       "      <td>1.087518</td>\n",
       "      <td>1.015242</td>\n",
       "      <td>0.657008</td>\n",
       "      <td>0.600865</td>\n",
       "      <td>10.2</td>\n",
       "      <td>1.0</td>\n",
       "    </tr>\n",
       "    <tr>\n",
       "      <th>4</th>\n",
       "      <td>1009</td>\n",
       "      <td>AL</td>\n",
       "      <td>Blount</td>\n",
       "      <td>2.700840</td>\n",
       "      <td>6.497380</td>\n",
       "      <td>1.062468</td>\n",
       "      <td>2.880150</td>\n",
       "      <td>3.269380</td>\n",
       "      <td>3.336414</td>\n",
       "      <td>0.812727</td>\n",
       "      <td>0.671490</td>\n",
       "      <td>1.588720</td>\n",
       "      <td>0.340269</td>\n",
       "      <td>0.882583</td>\n",
       "      <td>10.5</td>\n",
       "      <td>1.0</td>\n",
       "    </tr>\n",
       "  </tbody>\n",
       "</table>\n",
       "</div>"
      ],
      "text/plain": [
       "   fips state   county  pct_laccess_pop10  pct_laccess_pop15  \\\n",
       "0  1001    AL  Autauga          33.769657          32.062255   \n",
       "1  1003    AL  Baldwin          19.318473          16.767489   \n",
       "2  1005    AL  Barbour          20.840972          22.105560   \n",
       "3  1007    AL     Bibb           4.559753           4.230324   \n",
       "4  1009    AL   Blount           2.700840           6.497380   \n",
       "\n",
       "   pct_laccess_lowi10  pct_laccess_lowi15  pct_laccess_hhnv10  \\\n",
       "0            9.793530           11.991125            3.284786   \n",
       "1            5.460261            5.424427            2.147827   \n",
       "2           11.420316           10.739667            4.135869   \n",
       "3            2.144661            2.601627            3.458580   \n",
       "4            1.062468            2.880150            3.269380   \n",
       "\n",
       "   pct_laccess_hhnv15  pct_laccess_snap15  pct_laccess_child10  \\\n",
       "0            3.351332            4.608749             8.837112   \n",
       "1            1.905114            1.298900             4.343199   \n",
       "2            4.329378            4.303147             3.425062   \n",
       "3            2.821427            0.676710             1.087518   \n",
       "4            3.336414            0.812727             0.671490   \n",
       "\n",
       "   pct_laccess_child15  pct_laccess_seniors10  pct_laccess_seniors15  \\\n",
       "0             8.460485               4.376378               3.996279   \n",
       "1             3.844936               3.513570               3.061840   \n",
       "2             3.758341               2.805166               3.001695   \n",
       "3             1.015242               0.657008               0.600865   \n",
       "4             1.588720               0.340269               0.882583   \n",
       "\n",
       "   pct_diabetes18  class  \n",
       "0             9.5    1.0  \n",
       "1             8.4    0.0  \n",
       "2            13.5    1.0  \n",
       "3            10.2    1.0  \n",
       "4            10.5    1.0  "
      ]
     },
     "execution_count": 430,
     "metadata": {},
     "output_type": "execute_result"
    }
   ],
   "source": [
    "access_rec['pct_diabetes18'] = d18_rec['pct_diabetes18']\n",
    "\n",
    "access_rec['class'] = d18_rec['class']\n",
    "\n",
    "access_rec.head()"
   ]
  },
  {
   "cell_type": "code",
   "execution_count": 431,
   "id": "6deadee1",
   "metadata": {},
   "outputs": [
    {
     "data": {
      "text/plain": [
       "(3142, 16)"
      ]
     },
     "execution_count": 431,
     "metadata": {},
     "output_type": "execute_result"
    }
   ],
   "source": [
    "access_rec.shape"
   ]
  },
  {
   "cell_type": "markdown",
   "id": "e9a50a5a",
   "metadata": {},
   "source": [
    "The two columns have been added. Now I will address the null values."
   ]
  },
  {
   "cell_type": "code",
   "execution_count": 432,
   "id": "b9c01d06",
   "metadata": {},
   "outputs": [
    {
     "data": {
      "text/plain": [
       "fips                      0\n",
       "state                     0\n",
       "county                    0\n",
       "pct_laccess_pop10         0\n",
       "pct_laccess_pop15        19\n",
       "pct_laccess_lowi10        0\n",
       "pct_laccess_lowi15       19\n",
       "pct_laccess_hhnv10        0\n",
       "pct_laccess_hhnv15        2\n",
       "pct_laccess_snap15       19\n",
       "pct_laccess_child10       0\n",
       "pct_laccess_child15      19\n",
       "pct_laccess_seniors10     0\n",
       "pct_laccess_seniors15    19\n",
       "pct_diabetes18            0\n",
       "class                     0\n",
       "dtype: int64"
      ]
     },
     "execution_count": 432,
     "metadata": {},
     "output_type": "execute_result"
    }
   ],
   "source": [
    "access_rec.isnull().sum()"
   ]
  },
  {
   "cell_type": "markdown",
   "id": "286c4dc9",
   "metadata": {},
   "source": [
    "It appears there are 19 states with missing information for 2015."
   ]
  },
  {
   "cell_type": "markdown",
   "id": "bf2403de",
   "metadata": {},
   "source": [
    "What I will do is separate create two datasets:\n",
    "\n",
    "1) One with 2010 information only (drop 2015 columns)\n"
   ]
  },
  {
   "cell_type": "code",
   "execution_count": 433,
   "id": "6acfb6fe",
   "metadata": {},
   "outputs": [
    {
     "data": {
      "text/plain": [
       "fips                     0\n",
       "state                    0\n",
       "county                   0\n",
       "pct_laccess_pop10        0\n",
       "pct_laccess_lowi10       0\n",
       "pct_laccess_hhnv10       0\n",
       "pct_laccess_child10      0\n",
       "pct_laccess_seniors10    0\n",
       "pct_diabetes18           0\n",
       "class                    0\n",
       "dtype: int64"
      ]
     },
     "execution_count": 433,
     "metadata": {},
     "output_type": "execute_result"
    }
   ],
   "source": [
    "access_rec10 = access_rec.drop(columns = ['pct_laccess_pop15', 'pct_laccess_lowi15', 'pct_laccess_hhnv15',\n",
    "                                  'pct_laccess_snap15', 'pct_laccess_child15', 'pct_laccess_seniors15' ])\n",
    "\n",
    "access_rec10.isnull().sum()"
   ]
  },
  {
   "cell_type": "markdown",
   "id": "4c3d215c",
   "metadata": {},
   "source": [
    "2) One with complete records only (drop rows missing values)"
   ]
  },
  {
   "cell_type": "code",
   "execution_count": 434,
   "id": "7b4fb7f0",
   "metadata": {},
   "outputs": [
    {
     "data": {
      "text/plain": [
       "fips                     0\n",
       "state                    0\n",
       "county                   0\n",
       "pct_laccess_pop10        0\n",
       "pct_laccess_pop15        0\n",
       "pct_laccess_lowi10       0\n",
       "pct_laccess_lowi15       0\n",
       "pct_laccess_hhnv10       0\n",
       "pct_laccess_hhnv15       0\n",
       "pct_laccess_snap15       0\n",
       "pct_laccess_child10      0\n",
       "pct_laccess_child15      0\n",
       "pct_laccess_seniors10    0\n",
       "pct_laccess_seniors15    0\n",
       "pct_diabetes18           0\n",
       "class                    0\n",
       "dtype: int64"
      ]
     },
     "execution_count": 434,
     "metadata": {},
     "output_type": "execute_result"
    }
   ],
   "source": [
    "access_rec = access_rec.dropna()\n",
    "\n",
    "access_rec.isnull().sum()"
   ]
  },
  {
   "cell_type": "code",
   "execution_count": 435,
   "id": "47480c88",
   "metadata": {},
   "outputs": [
    {
     "data": {
      "text/html": [
       "<div>\n",
       "<style scoped>\n",
       "    .dataframe tbody tr th:only-of-type {\n",
       "        vertical-align: middle;\n",
       "    }\n",
       "\n",
       "    .dataframe tbody tr th {\n",
       "        vertical-align: top;\n",
       "    }\n",
       "\n",
       "    .dataframe thead th {\n",
       "        text-align: right;\n",
       "    }\n",
       "</style>\n",
       "<table border=\"1\" class=\"dataframe\">\n",
       "  <thead>\n",
       "    <tr style=\"text-align: right;\">\n",
       "      <th></th>\n",
       "      <th>fips</th>\n",
       "      <th>state</th>\n",
       "      <th>county</th>\n",
       "      <th>pct_laccess_pop10</th>\n",
       "      <th>pct_laccess_lowi10</th>\n",
       "      <th>pct_laccess_hhnv10</th>\n",
       "      <th>pct_laccess_child10</th>\n",
       "      <th>pct_laccess_seniors10</th>\n",
       "      <th>pct_diabetes18</th>\n",
       "      <th>class</th>\n",
       "    </tr>\n",
       "  </thead>\n",
       "  <tbody>\n",
       "    <tr>\n",
       "      <th>0</th>\n",
       "      <td>1001</td>\n",
       "      <td>AL</td>\n",
       "      <td>Autauga</td>\n",
       "      <td>33.769657</td>\n",
       "      <td>9.793530</td>\n",
       "      <td>3.284786</td>\n",
       "      <td>8.837112</td>\n",
       "      <td>4.376378</td>\n",
       "      <td>9.5</td>\n",
       "      <td>1.0</td>\n",
       "    </tr>\n",
       "    <tr>\n",
       "      <th>1</th>\n",
       "      <td>1003</td>\n",
       "      <td>AL</td>\n",
       "      <td>Baldwin</td>\n",
       "      <td>19.318473</td>\n",
       "      <td>5.460261</td>\n",
       "      <td>2.147827</td>\n",
       "      <td>4.343199</td>\n",
       "      <td>3.513570</td>\n",
       "      <td>8.4</td>\n",
       "      <td>0.0</td>\n",
       "    </tr>\n",
       "    <tr>\n",
       "      <th>2</th>\n",
       "      <td>1005</td>\n",
       "      <td>AL</td>\n",
       "      <td>Barbour</td>\n",
       "      <td>20.840972</td>\n",
       "      <td>11.420316</td>\n",
       "      <td>4.135869</td>\n",
       "      <td>3.425062</td>\n",
       "      <td>2.805166</td>\n",
       "      <td>13.5</td>\n",
       "      <td>1.0</td>\n",
       "    </tr>\n",
       "    <tr>\n",
       "      <th>3</th>\n",
       "      <td>1007</td>\n",
       "      <td>AL</td>\n",
       "      <td>Bibb</td>\n",
       "      <td>4.559753</td>\n",
       "      <td>2.144661</td>\n",
       "      <td>3.458580</td>\n",
       "      <td>1.087518</td>\n",
       "      <td>0.657008</td>\n",
       "      <td>10.2</td>\n",
       "      <td>1.0</td>\n",
       "    </tr>\n",
       "    <tr>\n",
       "      <th>4</th>\n",
       "      <td>1009</td>\n",
       "      <td>AL</td>\n",
       "      <td>Blount</td>\n",
       "      <td>2.700840</td>\n",
       "      <td>1.062468</td>\n",
       "      <td>3.269380</td>\n",
       "      <td>0.671490</td>\n",
       "      <td>0.340269</td>\n",
       "      <td>10.5</td>\n",
       "      <td>1.0</td>\n",
       "    </tr>\n",
       "  </tbody>\n",
       "</table>\n",
       "</div>"
      ],
      "text/plain": [
       "   fips state   county  pct_laccess_pop10  pct_laccess_lowi10  \\\n",
       "0  1001    AL  Autauga          33.769657            9.793530   \n",
       "1  1003    AL  Baldwin          19.318473            5.460261   \n",
       "2  1005    AL  Barbour          20.840972           11.420316   \n",
       "3  1007    AL     Bibb           4.559753            2.144661   \n",
       "4  1009    AL   Blount           2.700840            1.062468   \n",
       "\n",
       "   pct_laccess_hhnv10  pct_laccess_child10  pct_laccess_seniors10  \\\n",
       "0            3.284786             8.837112               4.376378   \n",
       "1            2.147827             4.343199               3.513570   \n",
       "2            4.135869             3.425062               2.805166   \n",
       "3            3.458580             1.087518               0.657008   \n",
       "4            3.269380             0.671490               0.340269   \n",
       "\n",
       "   pct_diabetes18  class  \n",
       "0             9.5    1.0  \n",
       "1             8.4    0.0  \n",
       "2            13.5    1.0  \n",
       "3            10.2    1.0  \n",
       "4            10.5    1.0  "
      ]
     },
     "execution_count": 435,
     "metadata": {},
     "output_type": "execute_result"
    }
   ],
   "source": [
    "access_rec10.head()"
   ]
  },
  {
   "cell_type": "code",
   "execution_count": 436,
   "id": "d6c5d619",
   "metadata": {},
   "outputs": [
    {
     "data": {
      "text/plain": [
       "(3142, 10)"
      ]
     },
     "execution_count": 436,
     "metadata": {},
     "output_type": "execute_result"
    }
   ],
   "source": [
    "access_rec10.shape"
   ]
  },
  {
   "cell_type": "code",
   "execution_count": 437,
   "id": "5a19dd02",
   "metadata": {},
   "outputs": [
    {
     "data": {
      "text/html": [
       "<div>\n",
       "<style scoped>\n",
       "    .dataframe tbody tr th:only-of-type {\n",
       "        vertical-align: middle;\n",
       "    }\n",
       "\n",
       "    .dataframe tbody tr th {\n",
       "        vertical-align: top;\n",
       "    }\n",
       "\n",
       "    .dataframe thead th {\n",
       "        text-align: right;\n",
       "    }\n",
       "</style>\n",
       "<table border=\"1\" class=\"dataframe\">\n",
       "  <thead>\n",
       "    <tr style=\"text-align: right;\">\n",
       "      <th></th>\n",
       "      <th>fips</th>\n",
       "      <th>state</th>\n",
       "      <th>county</th>\n",
       "      <th>pct_laccess_pop10</th>\n",
       "      <th>pct_laccess_pop15</th>\n",
       "      <th>pct_laccess_lowi10</th>\n",
       "      <th>pct_laccess_lowi15</th>\n",
       "      <th>pct_laccess_hhnv10</th>\n",
       "      <th>pct_laccess_hhnv15</th>\n",
       "      <th>pct_laccess_snap15</th>\n",
       "      <th>pct_laccess_child10</th>\n",
       "      <th>pct_laccess_child15</th>\n",
       "      <th>pct_laccess_seniors10</th>\n",
       "      <th>pct_laccess_seniors15</th>\n",
       "      <th>pct_diabetes18</th>\n",
       "      <th>class</th>\n",
       "    </tr>\n",
       "  </thead>\n",
       "  <tbody>\n",
       "    <tr>\n",
       "      <th>0</th>\n",
       "      <td>1001</td>\n",
       "      <td>AL</td>\n",
       "      <td>Autauga</td>\n",
       "      <td>33.769657</td>\n",
       "      <td>32.062255</td>\n",
       "      <td>9.793530</td>\n",
       "      <td>11.991125</td>\n",
       "      <td>3.284786</td>\n",
       "      <td>3.351332</td>\n",
       "      <td>4.608749</td>\n",
       "      <td>8.837112</td>\n",
       "      <td>8.460485</td>\n",
       "      <td>4.376378</td>\n",
       "      <td>3.996279</td>\n",
       "      <td>9.5</td>\n",
       "      <td>1.0</td>\n",
       "    </tr>\n",
       "    <tr>\n",
       "      <th>1</th>\n",
       "      <td>1003</td>\n",
       "      <td>AL</td>\n",
       "      <td>Baldwin</td>\n",
       "      <td>19.318473</td>\n",
       "      <td>16.767489</td>\n",
       "      <td>5.460261</td>\n",
       "      <td>5.424427</td>\n",
       "      <td>2.147827</td>\n",
       "      <td>1.905114</td>\n",
       "      <td>1.298900</td>\n",
       "      <td>4.343199</td>\n",
       "      <td>3.844936</td>\n",
       "      <td>3.513570</td>\n",
       "      <td>3.061840</td>\n",
       "      <td>8.4</td>\n",
       "      <td>0.0</td>\n",
       "    </tr>\n",
       "    <tr>\n",
       "      <th>2</th>\n",
       "      <td>1005</td>\n",
       "      <td>AL</td>\n",
       "      <td>Barbour</td>\n",
       "      <td>20.840972</td>\n",
       "      <td>22.105560</td>\n",
       "      <td>11.420316</td>\n",
       "      <td>10.739667</td>\n",
       "      <td>4.135869</td>\n",
       "      <td>4.329378</td>\n",
       "      <td>4.303147</td>\n",
       "      <td>3.425062</td>\n",
       "      <td>3.758341</td>\n",
       "      <td>2.805166</td>\n",
       "      <td>3.001695</td>\n",
       "      <td>13.5</td>\n",
       "      <td>1.0</td>\n",
       "    </tr>\n",
       "    <tr>\n",
       "      <th>3</th>\n",
       "      <td>1007</td>\n",
       "      <td>AL</td>\n",
       "      <td>Bibb</td>\n",
       "      <td>4.559753</td>\n",
       "      <td>4.230324</td>\n",
       "      <td>2.144661</td>\n",
       "      <td>2.601627</td>\n",
       "      <td>3.458580</td>\n",
       "      <td>2.821427</td>\n",
       "      <td>0.676710</td>\n",
       "      <td>1.087518</td>\n",
       "      <td>1.015242</td>\n",
       "      <td>0.657008</td>\n",
       "      <td>0.600865</td>\n",
       "      <td>10.2</td>\n",
       "      <td>1.0</td>\n",
       "    </tr>\n",
       "    <tr>\n",
       "      <th>4</th>\n",
       "      <td>1009</td>\n",
       "      <td>AL</td>\n",
       "      <td>Blount</td>\n",
       "      <td>2.700840</td>\n",
       "      <td>6.497380</td>\n",
       "      <td>1.062468</td>\n",
       "      <td>2.880150</td>\n",
       "      <td>3.269380</td>\n",
       "      <td>3.336414</td>\n",
       "      <td>0.812727</td>\n",
       "      <td>0.671490</td>\n",
       "      <td>1.588720</td>\n",
       "      <td>0.340269</td>\n",
       "      <td>0.882583</td>\n",
       "      <td>10.5</td>\n",
       "      <td>1.0</td>\n",
       "    </tr>\n",
       "  </tbody>\n",
       "</table>\n",
       "</div>"
      ],
      "text/plain": [
       "   fips state   county  pct_laccess_pop10  pct_laccess_pop15  \\\n",
       "0  1001    AL  Autauga          33.769657          32.062255   \n",
       "1  1003    AL  Baldwin          19.318473          16.767489   \n",
       "2  1005    AL  Barbour          20.840972          22.105560   \n",
       "3  1007    AL     Bibb           4.559753           4.230324   \n",
       "4  1009    AL   Blount           2.700840           6.497380   \n",
       "\n",
       "   pct_laccess_lowi10  pct_laccess_lowi15  pct_laccess_hhnv10  \\\n",
       "0            9.793530           11.991125            3.284786   \n",
       "1            5.460261            5.424427            2.147827   \n",
       "2           11.420316           10.739667            4.135869   \n",
       "3            2.144661            2.601627            3.458580   \n",
       "4            1.062468            2.880150            3.269380   \n",
       "\n",
       "   pct_laccess_hhnv15  pct_laccess_snap15  pct_laccess_child10  \\\n",
       "0            3.351332            4.608749             8.837112   \n",
       "1            1.905114            1.298900             4.343199   \n",
       "2            4.329378            4.303147             3.425062   \n",
       "3            2.821427            0.676710             1.087518   \n",
       "4            3.336414            0.812727             0.671490   \n",
       "\n",
       "   pct_laccess_child15  pct_laccess_seniors10  pct_laccess_seniors15  \\\n",
       "0             8.460485               4.376378               3.996279   \n",
       "1             3.844936               3.513570               3.061840   \n",
       "2             3.758341               2.805166               3.001695   \n",
       "3             1.015242               0.657008               0.600865   \n",
       "4             1.588720               0.340269               0.882583   \n",
       "\n",
       "   pct_diabetes18  class  \n",
       "0             9.5    1.0  \n",
       "1             8.4    0.0  \n",
       "2            13.5    1.0  \n",
       "3            10.2    1.0  \n",
       "4            10.5    1.0  "
      ]
     },
     "execution_count": 437,
     "metadata": {},
     "output_type": "execute_result"
    }
   ],
   "source": [
    "access_rec.head()"
   ]
  },
  {
   "cell_type": "code",
   "execution_count": 438,
   "id": "af726841",
   "metadata": {},
   "outputs": [
    {
     "data": {
      "text/plain": [
       "(3123, 16)"
      ]
     },
     "execution_count": 438,
     "metadata": {},
     "output_type": "execute_result"
    }
   ],
   "source": [
    "access_rec.shape"
   ]
  },
  {
   "cell_type": "markdown",
   "id": "2e031656",
   "metadata": {},
   "source": [
    "These dataframes are complete. I will save them as csv files."
   ]
  },
  {
   "cell_type": "code",
   "execution_count": 439,
   "id": "1ab7f4ce",
   "metadata": {},
   "outputs": [],
   "source": [
    "access_rec10.to_csv('../data/FoodEnvironmentAtlas.xls.ACCESS10_Modeling.csv', index=False)\n",
    "\n",
    "access_rec.to_csv('../data/FoodEnvironmentAtlas.xls.ACCESS_Modeling.csv', index=False)"
   ]
  },
  {
   "cell_type": "markdown",
   "id": "4d6d1dd9",
   "metadata": {},
   "source": [
    "## III. Assistance"
   ]
  },
  {
   "cell_type": "code",
   "execution_count": 440,
   "id": "e47a665f",
   "metadata": {},
   "outputs": [],
   "source": [
    "file_path = '../data/FoodEnvironmentAtlas.xls.ASSISTANCE_REC.csv'\n",
    "\n",
    "assistance_rec = pd.read_csv(file_path)"
   ]
  },
  {
   "cell_type": "code",
   "execution_count": 441,
   "id": "416a9720",
   "metadata": {},
   "outputs": [
    {
     "data": {
      "text/plain": [
       "(3142, 22)"
      ]
     },
     "execution_count": 441,
     "metadata": {},
     "output_type": "execute_result"
    }
   ],
   "source": [
    "assistance_rec.shape"
   ]
  },
  {
   "cell_type": "code",
   "execution_count": 442,
   "id": "47b5bce4",
   "metadata": {},
   "outputs": [
    {
     "data": {
      "text/html": [
       "<div>\n",
       "<style scoped>\n",
       "    .dataframe tbody tr th:only-of-type {\n",
       "        vertical-align: middle;\n",
       "    }\n",
       "\n",
       "    .dataframe tbody tr th {\n",
       "        vertical-align: top;\n",
       "    }\n",
       "\n",
       "    .dataframe thead th {\n",
       "        text-align: right;\n",
       "    }\n",
       "</style>\n",
       "<table border=\"1\" class=\"dataframe\">\n",
       "  <thead>\n",
       "    <tr style=\"text-align: right;\">\n",
       "      <th></th>\n",
       "      <th>fips</th>\n",
       "      <th>state</th>\n",
       "      <th>county</th>\n",
       "      <th>pct_snap12</th>\n",
       "      <th>pct_snap17</th>\n",
       "      <th>snap_part_rate11</th>\n",
       "      <th>snap_part_rate16</th>\n",
       "      <th>pct_nslp12</th>\n",
       "      <th>pct_nslp17</th>\n",
       "      <th>pct_sbp12</th>\n",
       "      <th>...</th>\n",
       "      <th>pct_wic17</th>\n",
       "      <th>pct_wicinfantchild14</th>\n",
       "      <th>pct_wicinfantchild16</th>\n",
       "      <th>pct_wicwomen14</th>\n",
       "      <th>pct_wicwomen16</th>\n",
       "      <th>pct_cacfp12</th>\n",
       "      <th>pct_cacfp17</th>\n",
       "      <th>fdpir12</th>\n",
       "      <th>fdpir15</th>\n",
       "      <th>food_banks18</th>\n",
       "    </tr>\n",
       "  </thead>\n",
       "  <tbody>\n",
       "    <tr>\n",
       "      <th>0</th>\n",
       "      <td>1001</td>\n",
       "      <td>AL</td>\n",
       "      <td>Autauga</td>\n",
       "      <td>18.908476</td>\n",
       "      <td>16.500056</td>\n",
       "      <td>84.02</td>\n",
       "      <td>86.898</td>\n",
       "      <td>68.226043</td>\n",
       "      <td>63.12659</td>\n",
       "      <td>27.206328</td>\n",
       "      <td>...</td>\n",
       "      <td>2.54357</td>\n",
       "      <td>33.481211</td>\n",
       "      <td>32.910876</td>\n",
       "      <td>3.318827</td>\n",
       "      <td>3.309759</td>\n",
       "      <td>0.891239</td>\n",
       "      <td>1.258763</td>\n",
       "      <td>0</td>\n",
       "      <td>0</td>\n",
       "      <td>0</td>\n",
       "    </tr>\n",
       "    <tr>\n",
       "      <th>1</th>\n",
       "      <td>1003</td>\n",
       "      <td>AL</td>\n",
       "      <td>Baldwin</td>\n",
       "      <td>18.908476</td>\n",
       "      <td>16.500056</td>\n",
       "      <td>84.02</td>\n",
       "      <td>86.898</td>\n",
       "      <td>68.226043</td>\n",
       "      <td>63.12659</td>\n",
       "      <td>27.206328</td>\n",
       "      <td>...</td>\n",
       "      <td>2.54357</td>\n",
       "      <td>33.481211</td>\n",
       "      <td>32.910876</td>\n",
       "      <td>3.318827</td>\n",
       "      <td>3.309759</td>\n",
       "      <td>0.891239</td>\n",
       "      <td>1.258763</td>\n",
       "      <td>0</td>\n",
       "      <td>0</td>\n",
       "      <td>0</td>\n",
       "    </tr>\n",
       "    <tr>\n",
       "      <th>2</th>\n",
       "      <td>1005</td>\n",
       "      <td>AL</td>\n",
       "      <td>Barbour</td>\n",
       "      <td>18.908476</td>\n",
       "      <td>16.500056</td>\n",
       "      <td>84.02</td>\n",
       "      <td>86.898</td>\n",
       "      <td>68.226043</td>\n",
       "      <td>63.12659</td>\n",
       "      <td>27.206328</td>\n",
       "      <td>...</td>\n",
       "      <td>2.54357</td>\n",
       "      <td>33.481211</td>\n",
       "      <td>32.910876</td>\n",
       "      <td>3.318827</td>\n",
       "      <td>3.309759</td>\n",
       "      <td>0.891239</td>\n",
       "      <td>1.258763</td>\n",
       "      <td>0</td>\n",
       "      <td>0</td>\n",
       "      <td>0</td>\n",
       "    </tr>\n",
       "    <tr>\n",
       "      <th>3</th>\n",
       "      <td>1007</td>\n",
       "      <td>AL</td>\n",
       "      <td>Bibb</td>\n",
       "      <td>18.908476</td>\n",
       "      <td>16.500056</td>\n",
       "      <td>84.02</td>\n",
       "      <td>86.898</td>\n",
       "      <td>68.226043</td>\n",
       "      <td>63.12659</td>\n",
       "      <td>27.206328</td>\n",
       "      <td>...</td>\n",
       "      <td>2.54357</td>\n",
       "      <td>33.481211</td>\n",
       "      <td>32.910876</td>\n",
       "      <td>3.318827</td>\n",
       "      <td>3.309759</td>\n",
       "      <td>0.891239</td>\n",
       "      <td>1.258763</td>\n",
       "      <td>0</td>\n",
       "      <td>0</td>\n",
       "      <td>0</td>\n",
       "    </tr>\n",
       "    <tr>\n",
       "      <th>4</th>\n",
       "      <td>1009</td>\n",
       "      <td>AL</td>\n",
       "      <td>Blount</td>\n",
       "      <td>18.908476</td>\n",
       "      <td>16.500056</td>\n",
       "      <td>84.02</td>\n",
       "      <td>86.898</td>\n",
       "      <td>68.226043</td>\n",
       "      <td>63.12659</td>\n",
       "      <td>27.206328</td>\n",
       "      <td>...</td>\n",
       "      <td>2.54357</td>\n",
       "      <td>33.481211</td>\n",
       "      <td>32.910876</td>\n",
       "      <td>3.318827</td>\n",
       "      <td>3.309759</td>\n",
       "      <td>0.891239</td>\n",
       "      <td>1.258763</td>\n",
       "      <td>0</td>\n",
       "      <td>0</td>\n",
       "      <td>0</td>\n",
       "    </tr>\n",
       "  </tbody>\n",
       "</table>\n",
       "<p>5 rows × 22 columns</p>\n",
       "</div>"
      ],
      "text/plain": [
       "   fips state   county  pct_snap12  pct_snap17  snap_part_rate11  \\\n",
       "0  1001    AL  Autauga   18.908476   16.500056             84.02   \n",
       "1  1003    AL  Baldwin   18.908476   16.500056             84.02   \n",
       "2  1005    AL  Barbour   18.908476   16.500056             84.02   \n",
       "3  1007    AL     Bibb   18.908476   16.500056             84.02   \n",
       "4  1009    AL   Blount   18.908476   16.500056             84.02   \n",
       "\n",
       "   snap_part_rate16  pct_nslp12  pct_nslp17  pct_sbp12  ...  pct_wic17  \\\n",
       "0            86.898   68.226043    63.12659  27.206328  ...    2.54357   \n",
       "1            86.898   68.226043    63.12659  27.206328  ...    2.54357   \n",
       "2            86.898   68.226043    63.12659  27.206328  ...    2.54357   \n",
       "3            86.898   68.226043    63.12659  27.206328  ...    2.54357   \n",
       "4            86.898   68.226043    63.12659  27.206328  ...    2.54357   \n",
       "\n",
       "   pct_wicinfantchild14  pct_wicinfantchild16  pct_wicwomen14  pct_wicwomen16  \\\n",
       "0             33.481211             32.910876        3.318827        3.309759   \n",
       "1             33.481211             32.910876        3.318827        3.309759   \n",
       "2             33.481211             32.910876        3.318827        3.309759   \n",
       "3             33.481211             32.910876        3.318827        3.309759   \n",
       "4             33.481211             32.910876        3.318827        3.309759   \n",
       "\n",
       "   pct_cacfp12  pct_cacfp17  fdpir12  fdpir15  food_banks18  \n",
       "0     0.891239     1.258763        0        0             0  \n",
       "1     0.891239     1.258763        0        0             0  \n",
       "2     0.891239     1.258763        0        0             0  \n",
       "3     0.891239     1.258763        0        0             0  \n",
       "4     0.891239     1.258763        0        0             0  \n",
       "\n",
       "[5 rows x 22 columns]"
      ]
     },
     "execution_count": 442,
     "metadata": {},
     "output_type": "execute_result"
    }
   ],
   "source": [
    "assistance_rec.head()"
   ]
  },
  {
   "cell_type": "code",
   "execution_count": 443,
   "id": "30d02d7f",
   "metadata": {},
   "outputs": [
    {
     "data": {
      "text/html": [
       "<div>\n",
       "<style scoped>\n",
       "    .dataframe tbody tr th:only-of-type {\n",
       "        vertical-align: middle;\n",
       "    }\n",
       "\n",
       "    .dataframe tbody tr th {\n",
       "        vertical-align: top;\n",
       "    }\n",
       "\n",
       "    .dataframe thead th {\n",
       "        text-align: right;\n",
       "    }\n",
       "</style>\n",
       "<table border=\"1\" class=\"dataframe\">\n",
       "  <thead>\n",
       "    <tr style=\"text-align: right;\">\n",
       "      <th></th>\n",
       "      <th>fips</th>\n",
       "      <th>state</th>\n",
       "      <th>county</th>\n",
       "      <th>pct_snap12</th>\n",
       "      <th>pct_snap17</th>\n",
       "      <th>snap_part_rate11</th>\n",
       "      <th>snap_part_rate16</th>\n",
       "      <th>pct_nslp12</th>\n",
       "      <th>pct_nslp17</th>\n",
       "      <th>pct_sbp12</th>\n",
       "      <th>...</th>\n",
       "      <th>pct_wic17</th>\n",
       "      <th>pct_wicinfantchild14</th>\n",
       "      <th>pct_wicinfantchild16</th>\n",
       "      <th>pct_wicwomen14</th>\n",
       "      <th>pct_wicwomen16</th>\n",
       "      <th>pct_cacfp12</th>\n",
       "      <th>pct_cacfp17</th>\n",
       "      <th>fdpir12</th>\n",
       "      <th>fdpir15</th>\n",
       "      <th>food_banks18</th>\n",
       "    </tr>\n",
       "  </thead>\n",
       "  <tbody>\n",
       "    <tr>\n",
       "      <th>3137</th>\n",
       "      <td>56037</td>\n",
       "      <td>WY</td>\n",
       "      <td>Sweetwater</td>\n",
       "      <td>5.956719</td>\n",
       "      <td>5.668505</td>\n",
       "      <td>58.381</td>\n",
       "      <td>56.037</td>\n",
       "      <td>59.171454</td>\n",
       "      <td>49.458965</td>\n",
       "      <td>16.42267</td>\n",
       "      <td>...</td>\n",
       "      <td>1.753551</td>\n",
       "      <td>22.089798</td>\n",
       "      <td>21.296784</td>\n",
       "      <td>2.571757</td>\n",
       "      <td>2.375607</td>\n",
       "      <td>1.635123</td>\n",
       "      <td>1.220234</td>\n",
       "      <td>0</td>\n",
       "      <td>0</td>\n",
       "      <td>0</td>\n",
       "    </tr>\n",
       "    <tr>\n",
       "      <th>3138</th>\n",
       "      <td>56039</td>\n",
       "      <td>WY</td>\n",
       "      <td>Teton</td>\n",
       "      <td>5.956719</td>\n",
       "      <td>5.668505</td>\n",
       "      <td>58.381</td>\n",
       "      <td>56.037</td>\n",
       "      <td>59.171454</td>\n",
       "      <td>49.458965</td>\n",
       "      <td>16.42267</td>\n",
       "      <td>...</td>\n",
       "      <td>1.753551</td>\n",
       "      <td>22.089798</td>\n",
       "      <td>21.296784</td>\n",
       "      <td>2.571757</td>\n",
       "      <td>2.375607</td>\n",
       "      <td>1.635123</td>\n",
       "      <td>1.220234</td>\n",
       "      <td>0</td>\n",
       "      <td>0</td>\n",
       "      <td>0</td>\n",
       "    </tr>\n",
       "    <tr>\n",
       "      <th>3139</th>\n",
       "      <td>56041</td>\n",
       "      <td>WY</td>\n",
       "      <td>Uinta</td>\n",
       "      <td>5.956719</td>\n",
       "      <td>5.668505</td>\n",
       "      <td>58.381</td>\n",
       "      <td>56.037</td>\n",
       "      <td>59.171454</td>\n",
       "      <td>49.458965</td>\n",
       "      <td>16.42267</td>\n",
       "      <td>...</td>\n",
       "      <td>1.753551</td>\n",
       "      <td>22.089798</td>\n",
       "      <td>21.296784</td>\n",
       "      <td>2.571757</td>\n",
       "      <td>2.375607</td>\n",
       "      <td>1.635123</td>\n",
       "      <td>1.220234</td>\n",
       "      <td>0</td>\n",
       "      <td>0</td>\n",
       "      <td>0</td>\n",
       "    </tr>\n",
       "    <tr>\n",
       "      <th>3140</th>\n",
       "      <td>56043</td>\n",
       "      <td>WY</td>\n",
       "      <td>Washakie</td>\n",
       "      <td>5.956719</td>\n",
       "      <td>5.668505</td>\n",
       "      <td>58.381</td>\n",
       "      <td>56.037</td>\n",
       "      <td>59.171454</td>\n",
       "      <td>49.458965</td>\n",
       "      <td>16.42267</td>\n",
       "      <td>...</td>\n",
       "      <td>1.753551</td>\n",
       "      <td>22.089798</td>\n",
       "      <td>21.296784</td>\n",
       "      <td>2.571757</td>\n",
       "      <td>2.375607</td>\n",
       "      <td>1.635123</td>\n",
       "      <td>1.220234</td>\n",
       "      <td>0</td>\n",
       "      <td>0</td>\n",
       "      <td>0</td>\n",
       "    </tr>\n",
       "    <tr>\n",
       "      <th>3141</th>\n",
       "      <td>56045</td>\n",
       "      <td>WY</td>\n",
       "      <td>Weston</td>\n",
       "      <td>5.956719</td>\n",
       "      <td>5.668505</td>\n",
       "      <td>58.381</td>\n",
       "      <td>56.037</td>\n",
       "      <td>59.171454</td>\n",
       "      <td>49.458965</td>\n",
       "      <td>16.42267</td>\n",
       "      <td>...</td>\n",
       "      <td>1.753551</td>\n",
       "      <td>22.089798</td>\n",
       "      <td>21.296784</td>\n",
       "      <td>2.571757</td>\n",
       "      <td>2.375607</td>\n",
       "      <td>1.635123</td>\n",
       "      <td>1.220234</td>\n",
       "      <td>0</td>\n",
       "      <td>0</td>\n",
       "      <td>0</td>\n",
       "    </tr>\n",
       "  </tbody>\n",
       "</table>\n",
       "<p>5 rows × 22 columns</p>\n",
       "</div>"
      ],
      "text/plain": [
       "       fips state      county  pct_snap12  pct_snap17  snap_part_rate11  \\\n",
       "3137  56037    WY  Sweetwater    5.956719    5.668505            58.381   \n",
       "3138  56039    WY       Teton    5.956719    5.668505            58.381   \n",
       "3139  56041    WY       Uinta    5.956719    5.668505            58.381   \n",
       "3140  56043    WY    Washakie    5.956719    5.668505            58.381   \n",
       "3141  56045    WY      Weston    5.956719    5.668505            58.381   \n",
       "\n",
       "      snap_part_rate16  pct_nslp12  pct_nslp17  pct_sbp12  ...  pct_wic17  \\\n",
       "3137            56.037   59.171454   49.458965   16.42267  ...   1.753551   \n",
       "3138            56.037   59.171454   49.458965   16.42267  ...   1.753551   \n",
       "3139            56.037   59.171454   49.458965   16.42267  ...   1.753551   \n",
       "3140            56.037   59.171454   49.458965   16.42267  ...   1.753551   \n",
       "3141            56.037   59.171454   49.458965   16.42267  ...   1.753551   \n",
       "\n",
       "      pct_wicinfantchild14  pct_wicinfantchild16  pct_wicwomen14  \\\n",
       "3137             22.089798             21.296784        2.571757   \n",
       "3138             22.089798             21.296784        2.571757   \n",
       "3139             22.089798             21.296784        2.571757   \n",
       "3140             22.089798             21.296784        2.571757   \n",
       "3141             22.089798             21.296784        2.571757   \n",
       "\n",
       "      pct_wicwomen16  pct_cacfp12  pct_cacfp17  fdpir12  fdpir15  food_banks18  \n",
       "3137        2.375607     1.635123     1.220234        0        0             0  \n",
       "3138        2.375607     1.635123     1.220234        0        0             0  \n",
       "3139        2.375607     1.635123     1.220234        0        0             0  \n",
       "3140        2.375607     1.635123     1.220234        0        0             0  \n",
       "3141        2.375607     1.635123     1.220234        0        0             0  \n",
       "\n",
       "[5 rows x 22 columns]"
      ]
     },
     "execution_count": 443,
     "metadata": {},
     "output_type": "execute_result"
    }
   ],
   "source": [
    "assistance_rec.tail()"
   ]
  },
  {
   "cell_type": "markdown",
   "id": "13af74a2",
   "metadata": {},
   "source": [
    "The shape and row numbers are correct. I will ensure the fips codes are accurate."
   ]
  },
  {
   "cell_type": "code",
   "execution_count": 444,
   "id": "ad4c1641",
   "metadata": {},
   "outputs": [
    {
     "data": {
      "text/plain": [
       "count     3142.000000\n",
       "mean     30383.649268\n",
       "std      15162.508374\n",
       "min       1001.000000\n",
       "25%      18177.500000\n",
       "50%      29176.000000\n",
       "75%      45080.500000\n",
       "max      56045.000000\n",
       "Name: fips, dtype: float64"
      ]
     },
     "execution_count": 444,
     "metadata": {},
     "output_type": "execute_result"
    }
   ],
   "source": [
    "assistance_rec.fips.describe()"
   ]
  },
  {
   "cell_type": "code",
   "execution_count": 445,
   "id": "4bf50963",
   "metadata": {},
   "outputs": [
    {
     "data": {
      "text/plain": [
       "count     3142.000000\n",
       "mean     30383.649268\n",
       "std      15162.508374\n",
       "min       1001.000000\n",
       "25%      18177.500000\n",
       "50%      29176.000000\n",
       "75%      45080.500000\n",
       "max      56045.000000\n",
       "Name: fips, dtype: float64"
      ]
     },
     "execution_count": 445,
     "metadata": {},
     "output_type": "execute_result"
    }
   ],
   "source": [
    "d18_rec.fips.describe()"
   ]
  },
  {
   "cell_type": "markdown",
   "id": "4f2375a3",
   "metadata": {},
   "source": [
    "The datasets match in terms of layout, number of rows, and fips codes.\n",
    "\n",
    "I will add the Diabetes Atlas to the Assistance dataframe."
   ]
  },
  {
   "cell_type": "code",
   "execution_count": 446,
   "id": "3354d46d",
   "metadata": {},
   "outputs": [
    {
     "data": {
      "text/html": [
       "<div>\n",
       "<style scoped>\n",
       "    .dataframe tbody tr th:only-of-type {\n",
       "        vertical-align: middle;\n",
       "    }\n",
       "\n",
       "    .dataframe tbody tr th {\n",
       "        vertical-align: top;\n",
       "    }\n",
       "\n",
       "    .dataframe thead th {\n",
       "        text-align: right;\n",
       "    }\n",
       "</style>\n",
       "<table border=\"1\" class=\"dataframe\">\n",
       "  <thead>\n",
       "    <tr style=\"text-align: right;\">\n",
       "      <th></th>\n",
       "      <th>fips</th>\n",
       "      <th>state</th>\n",
       "      <th>county</th>\n",
       "      <th>pct_snap12</th>\n",
       "      <th>pct_snap17</th>\n",
       "      <th>snap_part_rate11</th>\n",
       "      <th>snap_part_rate16</th>\n",
       "      <th>pct_nslp12</th>\n",
       "      <th>pct_nslp17</th>\n",
       "      <th>pct_sbp12</th>\n",
       "      <th>...</th>\n",
       "      <th>pct_wicinfantchild16</th>\n",
       "      <th>pct_wicwomen14</th>\n",
       "      <th>pct_wicwomen16</th>\n",
       "      <th>pct_cacfp12</th>\n",
       "      <th>pct_cacfp17</th>\n",
       "      <th>fdpir12</th>\n",
       "      <th>fdpir15</th>\n",
       "      <th>food_banks18</th>\n",
       "      <th>pct_diabetes18</th>\n",
       "      <th>class</th>\n",
       "    </tr>\n",
       "  </thead>\n",
       "  <tbody>\n",
       "    <tr>\n",
       "      <th>0</th>\n",
       "      <td>1001</td>\n",
       "      <td>AL</td>\n",
       "      <td>Autauga</td>\n",
       "      <td>18.908476</td>\n",
       "      <td>16.500056</td>\n",
       "      <td>84.02</td>\n",
       "      <td>86.898</td>\n",
       "      <td>68.226043</td>\n",
       "      <td>63.12659</td>\n",
       "      <td>27.206328</td>\n",
       "      <td>...</td>\n",
       "      <td>32.910876</td>\n",
       "      <td>3.318827</td>\n",
       "      <td>3.309759</td>\n",
       "      <td>0.891239</td>\n",
       "      <td>1.258763</td>\n",
       "      <td>0</td>\n",
       "      <td>0</td>\n",
       "      <td>0</td>\n",
       "      <td>9.5</td>\n",
       "      <td>1.0</td>\n",
       "    </tr>\n",
       "    <tr>\n",
       "      <th>1</th>\n",
       "      <td>1003</td>\n",
       "      <td>AL</td>\n",
       "      <td>Baldwin</td>\n",
       "      <td>18.908476</td>\n",
       "      <td>16.500056</td>\n",
       "      <td>84.02</td>\n",
       "      <td>86.898</td>\n",
       "      <td>68.226043</td>\n",
       "      <td>63.12659</td>\n",
       "      <td>27.206328</td>\n",
       "      <td>...</td>\n",
       "      <td>32.910876</td>\n",
       "      <td>3.318827</td>\n",
       "      <td>3.309759</td>\n",
       "      <td>0.891239</td>\n",
       "      <td>1.258763</td>\n",
       "      <td>0</td>\n",
       "      <td>0</td>\n",
       "      <td>0</td>\n",
       "      <td>8.4</td>\n",
       "      <td>0.0</td>\n",
       "    </tr>\n",
       "    <tr>\n",
       "      <th>2</th>\n",
       "      <td>1005</td>\n",
       "      <td>AL</td>\n",
       "      <td>Barbour</td>\n",
       "      <td>18.908476</td>\n",
       "      <td>16.500056</td>\n",
       "      <td>84.02</td>\n",
       "      <td>86.898</td>\n",
       "      <td>68.226043</td>\n",
       "      <td>63.12659</td>\n",
       "      <td>27.206328</td>\n",
       "      <td>...</td>\n",
       "      <td>32.910876</td>\n",
       "      <td>3.318827</td>\n",
       "      <td>3.309759</td>\n",
       "      <td>0.891239</td>\n",
       "      <td>1.258763</td>\n",
       "      <td>0</td>\n",
       "      <td>0</td>\n",
       "      <td>0</td>\n",
       "      <td>13.5</td>\n",
       "      <td>1.0</td>\n",
       "    </tr>\n",
       "    <tr>\n",
       "      <th>3</th>\n",
       "      <td>1007</td>\n",
       "      <td>AL</td>\n",
       "      <td>Bibb</td>\n",
       "      <td>18.908476</td>\n",
       "      <td>16.500056</td>\n",
       "      <td>84.02</td>\n",
       "      <td>86.898</td>\n",
       "      <td>68.226043</td>\n",
       "      <td>63.12659</td>\n",
       "      <td>27.206328</td>\n",
       "      <td>...</td>\n",
       "      <td>32.910876</td>\n",
       "      <td>3.318827</td>\n",
       "      <td>3.309759</td>\n",
       "      <td>0.891239</td>\n",
       "      <td>1.258763</td>\n",
       "      <td>0</td>\n",
       "      <td>0</td>\n",
       "      <td>0</td>\n",
       "      <td>10.2</td>\n",
       "      <td>1.0</td>\n",
       "    </tr>\n",
       "    <tr>\n",
       "      <th>4</th>\n",
       "      <td>1009</td>\n",
       "      <td>AL</td>\n",
       "      <td>Blount</td>\n",
       "      <td>18.908476</td>\n",
       "      <td>16.500056</td>\n",
       "      <td>84.02</td>\n",
       "      <td>86.898</td>\n",
       "      <td>68.226043</td>\n",
       "      <td>63.12659</td>\n",
       "      <td>27.206328</td>\n",
       "      <td>...</td>\n",
       "      <td>32.910876</td>\n",
       "      <td>3.318827</td>\n",
       "      <td>3.309759</td>\n",
       "      <td>0.891239</td>\n",
       "      <td>1.258763</td>\n",
       "      <td>0</td>\n",
       "      <td>0</td>\n",
       "      <td>0</td>\n",
       "      <td>10.5</td>\n",
       "      <td>1.0</td>\n",
       "    </tr>\n",
       "  </tbody>\n",
       "</table>\n",
       "<p>5 rows × 24 columns</p>\n",
       "</div>"
      ],
      "text/plain": [
       "   fips state   county  pct_snap12  pct_snap17  snap_part_rate11  \\\n",
       "0  1001    AL  Autauga   18.908476   16.500056             84.02   \n",
       "1  1003    AL  Baldwin   18.908476   16.500056             84.02   \n",
       "2  1005    AL  Barbour   18.908476   16.500056             84.02   \n",
       "3  1007    AL     Bibb   18.908476   16.500056             84.02   \n",
       "4  1009    AL   Blount   18.908476   16.500056             84.02   \n",
       "\n",
       "   snap_part_rate16  pct_nslp12  pct_nslp17  pct_sbp12  ...  \\\n",
       "0            86.898   68.226043    63.12659  27.206328  ...   \n",
       "1            86.898   68.226043    63.12659  27.206328  ...   \n",
       "2            86.898   68.226043    63.12659  27.206328  ...   \n",
       "3            86.898   68.226043    63.12659  27.206328  ...   \n",
       "4            86.898   68.226043    63.12659  27.206328  ...   \n",
       "\n",
       "   pct_wicinfantchild16  pct_wicwomen14  pct_wicwomen16  pct_cacfp12  \\\n",
       "0             32.910876        3.318827        3.309759     0.891239   \n",
       "1             32.910876        3.318827        3.309759     0.891239   \n",
       "2             32.910876        3.318827        3.309759     0.891239   \n",
       "3             32.910876        3.318827        3.309759     0.891239   \n",
       "4             32.910876        3.318827        3.309759     0.891239   \n",
       "\n",
       "   pct_cacfp17  fdpir12  fdpir15  food_banks18  pct_diabetes18  class  \n",
       "0     1.258763        0        0             0             9.5    1.0  \n",
       "1     1.258763        0        0             0             8.4    0.0  \n",
       "2     1.258763        0        0             0            13.5    1.0  \n",
       "3     1.258763        0        0             0            10.2    1.0  \n",
       "4     1.258763        0        0             0            10.5    1.0  \n",
       "\n",
       "[5 rows x 24 columns]"
      ]
     },
     "execution_count": 446,
     "metadata": {},
     "output_type": "execute_result"
    }
   ],
   "source": [
    "assistance_rec['pct_diabetes18'] = d18_rec['pct_diabetes18']\n",
    "\n",
    "assistance_rec['class'] = d18_rec['class']\n",
    "\n",
    "assistance_rec.head()"
   ]
  },
  {
   "cell_type": "code",
   "execution_count": 447,
   "id": "8ffc79d3",
   "metadata": {},
   "outputs": [
    {
     "data": {
      "text/plain": [
       "(3142, 24)"
      ]
     },
     "execution_count": 447,
     "metadata": {},
     "output_type": "execute_result"
    }
   ],
   "source": [
    "assistance_rec.shape"
   ]
  },
  {
   "cell_type": "markdown",
   "id": "c8208c77",
   "metadata": {},
   "source": [
    "The columns have been added. I will now address the null values."
   ]
  },
  {
   "cell_type": "code",
   "execution_count": 448,
   "id": "76487f5a",
   "metadata": {},
   "outputs": [
    {
     "data": {
      "text/plain": [
       "fips                    0\n",
       "state                   0\n",
       "county                  0\n",
       "pct_snap12              0\n",
       "pct_snap17              0\n",
       "snap_part_rate11        0\n",
       "snap_part_rate16        0\n",
       "pct_nslp12              0\n",
       "pct_nslp17              0\n",
       "pct_sbp12               0\n",
       "pct_sbp17               0\n",
       "pct_wic12               0\n",
       "pct_wic17               0\n",
       "pct_wicinfantchild14    0\n",
       "pct_wicinfantchild16    0\n",
       "pct_wicwomen14          0\n",
       "pct_wicwomen16          0\n",
       "pct_cacfp12             0\n",
       "pct_cacfp17             0\n",
       "fdpir12                 0\n",
       "fdpir15                 0\n",
       "food_banks18            0\n",
       "pct_diabetes18          0\n",
       "class                   0\n",
       "dtype: int64"
      ]
     },
     "execution_count": 448,
     "metadata": {},
     "output_type": "execute_result"
    }
   ],
   "source": [
    "assistance_rec.isnull().sum()"
   ]
  },
  {
   "cell_type": "markdown",
   "id": "2e18329f",
   "metadata": {},
   "source": [
    "There are no null values. The dataframe will be saved as-is."
   ]
  },
  {
   "cell_type": "code",
   "execution_count": 449,
   "id": "a3f295b7",
   "metadata": {},
   "outputs": [],
   "source": [
    "assistance_rec.to_csv('../data/FoodEnvironmentAtlas.xls.ASSISTANCE_Modeling.csv', index=False)"
   ]
  },
  {
   "cell_type": "markdown",
   "id": "fa5153d1",
   "metadata": {},
   "source": [
    "## IV. Insecurity"
   ]
  },
  {
   "cell_type": "code",
   "execution_count": 450,
   "id": "e95123b5",
   "metadata": {},
   "outputs": [],
   "source": [
    "file_path = '../data/FoodEnvironmentAtlas.xls.INSECURITY_REC.csv'\n",
    "\n",
    "insecurity_rec = pd.read_csv(file_path)"
   ]
  },
  {
   "cell_type": "code",
   "execution_count": 451,
   "id": "525c59c9",
   "metadata": {},
   "outputs": [
    {
     "data": {
      "text/plain": [
       "(3142, 9)"
      ]
     },
     "execution_count": 451,
     "metadata": {},
     "output_type": "execute_result"
    }
   ],
   "source": [
    "insecurity_rec.shape"
   ]
  },
  {
   "cell_type": "code",
   "execution_count": 452,
   "id": "b113a069",
   "metadata": {},
   "outputs": [
    {
     "data": {
      "text/plain": [
       "(3142, 5)"
      ]
     },
     "execution_count": 452,
     "metadata": {},
     "output_type": "execute_result"
    }
   ],
   "source": [
    "d18_rec.shape"
   ]
  },
  {
   "cell_type": "code",
   "execution_count": 453,
   "id": "95abb9c6",
   "metadata": {},
   "outputs": [
    {
     "data": {
      "text/html": [
       "<div>\n",
       "<style scoped>\n",
       "    .dataframe tbody tr th:only-of-type {\n",
       "        vertical-align: middle;\n",
       "    }\n",
       "\n",
       "    .dataframe tbody tr th {\n",
       "        vertical-align: top;\n",
       "    }\n",
       "\n",
       "    .dataframe thead th {\n",
       "        text-align: right;\n",
       "    }\n",
       "</style>\n",
       "<table border=\"1\" class=\"dataframe\">\n",
       "  <thead>\n",
       "    <tr style=\"text-align: right;\">\n",
       "      <th></th>\n",
       "      <th>fips</th>\n",
       "      <th>state</th>\n",
       "      <th>county</th>\n",
       "      <th>foodinsec_12_14</th>\n",
       "      <th>foodinsec_15_17</th>\n",
       "      <th>ch_foodinsec_14_17</th>\n",
       "      <th>vlfoodsec_12_14</th>\n",
       "      <th>vlfoodsec_15_17</th>\n",
       "      <th>ch_vlfoodsec_14_17</th>\n",
       "    </tr>\n",
       "  </thead>\n",
       "  <tbody>\n",
       "    <tr>\n",
       "      <th>0</th>\n",
       "      <td>1001</td>\n",
       "      <td>AL</td>\n",
       "      <td>Autauga</td>\n",
       "      <td>16.8</td>\n",
       "      <td>16.3</td>\n",
       "      <td>-0.5</td>\n",
       "      <td>7.2</td>\n",
       "      <td>7.1</td>\n",
       "      <td>-0.1</td>\n",
       "    </tr>\n",
       "    <tr>\n",
       "      <th>1</th>\n",
       "      <td>1003</td>\n",
       "      <td>AL</td>\n",
       "      <td>Baldwin</td>\n",
       "      <td>16.8</td>\n",
       "      <td>16.3</td>\n",
       "      <td>-0.5</td>\n",
       "      <td>7.2</td>\n",
       "      <td>7.1</td>\n",
       "      <td>-0.1</td>\n",
       "    </tr>\n",
       "    <tr>\n",
       "      <th>2</th>\n",
       "      <td>1005</td>\n",
       "      <td>AL</td>\n",
       "      <td>Barbour</td>\n",
       "      <td>16.8</td>\n",
       "      <td>16.3</td>\n",
       "      <td>-0.5</td>\n",
       "      <td>7.2</td>\n",
       "      <td>7.1</td>\n",
       "      <td>-0.1</td>\n",
       "    </tr>\n",
       "    <tr>\n",
       "      <th>3</th>\n",
       "      <td>1007</td>\n",
       "      <td>AL</td>\n",
       "      <td>Bibb</td>\n",
       "      <td>16.8</td>\n",
       "      <td>16.3</td>\n",
       "      <td>-0.5</td>\n",
       "      <td>7.2</td>\n",
       "      <td>7.1</td>\n",
       "      <td>-0.1</td>\n",
       "    </tr>\n",
       "    <tr>\n",
       "      <th>4</th>\n",
       "      <td>1009</td>\n",
       "      <td>AL</td>\n",
       "      <td>Blount</td>\n",
       "      <td>16.8</td>\n",
       "      <td>16.3</td>\n",
       "      <td>-0.5</td>\n",
       "      <td>7.2</td>\n",
       "      <td>7.1</td>\n",
       "      <td>-0.1</td>\n",
       "    </tr>\n",
       "  </tbody>\n",
       "</table>\n",
       "</div>"
      ],
      "text/plain": [
       "   fips state   county  foodinsec_12_14  foodinsec_15_17  ch_foodinsec_14_17  \\\n",
       "0  1001    AL  Autauga             16.8             16.3                -0.5   \n",
       "1  1003    AL  Baldwin             16.8             16.3                -0.5   \n",
       "2  1005    AL  Barbour             16.8             16.3                -0.5   \n",
       "3  1007    AL     Bibb             16.8             16.3                -0.5   \n",
       "4  1009    AL   Blount             16.8             16.3                -0.5   \n",
       "\n",
       "   vlfoodsec_12_14  vlfoodsec_15_17  ch_vlfoodsec_14_17  \n",
       "0              7.2              7.1                -0.1  \n",
       "1              7.2              7.1                -0.1  \n",
       "2              7.2              7.1                -0.1  \n",
       "3              7.2              7.1                -0.1  \n",
       "4              7.2              7.1                -0.1  "
      ]
     },
     "execution_count": 453,
     "metadata": {},
     "output_type": "execute_result"
    }
   ],
   "source": [
    "insecurity_rec.head()"
   ]
  },
  {
   "cell_type": "code",
   "execution_count": 454,
   "id": "a249528e",
   "metadata": {},
   "outputs": [
    {
     "data": {
      "text/html": [
       "<div>\n",
       "<style scoped>\n",
       "    .dataframe tbody tr th:only-of-type {\n",
       "        vertical-align: middle;\n",
       "    }\n",
       "\n",
       "    .dataframe tbody tr th {\n",
       "        vertical-align: top;\n",
       "    }\n",
       "\n",
       "    .dataframe thead th {\n",
       "        text-align: right;\n",
       "    }\n",
       "</style>\n",
       "<table border=\"1\" class=\"dataframe\">\n",
       "  <thead>\n",
       "    <tr style=\"text-align: right;\">\n",
       "      <th></th>\n",
       "      <th>fips</th>\n",
       "      <th>county</th>\n",
       "      <th>state</th>\n",
       "      <th>pct_diabetes18</th>\n",
       "      <th>class</th>\n",
       "    </tr>\n",
       "  </thead>\n",
       "  <tbody>\n",
       "    <tr>\n",
       "      <th>0</th>\n",
       "      <td>1001</td>\n",
       "      <td>Autauga</td>\n",
       "      <td>Alabama</td>\n",
       "      <td>9.5</td>\n",
       "      <td>1.0</td>\n",
       "    </tr>\n",
       "    <tr>\n",
       "      <th>1</th>\n",
       "      <td>1003</td>\n",
       "      <td>Baldwin</td>\n",
       "      <td>Alabama</td>\n",
       "      <td>8.4</td>\n",
       "      <td>0.0</td>\n",
       "    </tr>\n",
       "    <tr>\n",
       "      <th>2</th>\n",
       "      <td>1005</td>\n",
       "      <td>Barbour</td>\n",
       "      <td>Alabama</td>\n",
       "      <td>13.5</td>\n",
       "      <td>1.0</td>\n",
       "    </tr>\n",
       "    <tr>\n",
       "      <th>3</th>\n",
       "      <td>1007</td>\n",
       "      <td>Bibb</td>\n",
       "      <td>Alabama</td>\n",
       "      <td>10.2</td>\n",
       "      <td>1.0</td>\n",
       "    </tr>\n",
       "    <tr>\n",
       "      <th>4</th>\n",
       "      <td>1009</td>\n",
       "      <td>Blount</td>\n",
       "      <td>Alabama</td>\n",
       "      <td>10.5</td>\n",
       "      <td>1.0</td>\n",
       "    </tr>\n",
       "  </tbody>\n",
       "</table>\n",
       "</div>"
      ],
      "text/plain": [
       "   fips   county    state  pct_diabetes18  class\n",
       "0  1001  Autauga  Alabama             9.5    1.0\n",
       "1  1003  Baldwin  Alabama             8.4    0.0\n",
       "2  1005  Barbour  Alabama            13.5    1.0\n",
       "3  1007     Bibb  Alabama            10.2    1.0\n",
       "4  1009   Blount  Alabama            10.5    1.0"
      ]
     },
     "execution_count": 454,
     "metadata": {},
     "output_type": "execute_result"
    }
   ],
   "source": [
    "d18_rec.head()"
   ]
  },
  {
   "cell_type": "code",
   "execution_count": 455,
   "id": "208c7d27",
   "metadata": {},
   "outputs": [
    {
     "data": {
      "text/html": [
       "<div>\n",
       "<style scoped>\n",
       "    .dataframe tbody tr th:only-of-type {\n",
       "        vertical-align: middle;\n",
       "    }\n",
       "\n",
       "    .dataframe tbody tr th {\n",
       "        vertical-align: top;\n",
       "    }\n",
       "\n",
       "    .dataframe thead th {\n",
       "        text-align: right;\n",
       "    }\n",
       "</style>\n",
       "<table border=\"1\" class=\"dataframe\">\n",
       "  <thead>\n",
       "    <tr style=\"text-align: right;\">\n",
       "      <th></th>\n",
       "      <th>fips</th>\n",
       "      <th>state</th>\n",
       "      <th>county</th>\n",
       "      <th>foodinsec_12_14</th>\n",
       "      <th>foodinsec_15_17</th>\n",
       "      <th>ch_foodinsec_14_17</th>\n",
       "      <th>vlfoodsec_12_14</th>\n",
       "      <th>vlfoodsec_15_17</th>\n",
       "      <th>ch_vlfoodsec_14_17</th>\n",
       "    </tr>\n",
       "  </thead>\n",
       "  <tbody>\n",
       "    <tr>\n",
       "      <th>3137</th>\n",
       "      <td>56037</td>\n",
       "      <td>WY</td>\n",
       "      <td>Sweetwater</td>\n",
       "      <td>14.0</td>\n",
       "      <td>13.2</td>\n",
       "      <td>-0.8</td>\n",
       "      <td>5.3</td>\n",
       "      <td>5.1</td>\n",
       "      <td>-0.2</td>\n",
       "    </tr>\n",
       "    <tr>\n",
       "      <th>3138</th>\n",
       "      <td>56039</td>\n",
       "      <td>WY</td>\n",
       "      <td>Teton</td>\n",
       "      <td>14.0</td>\n",
       "      <td>13.2</td>\n",
       "      <td>-0.8</td>\n",
       "      <td>5.3</td>\n",
       "      <td>5.1</td>\n",
       "      <td>-0.2</td>\n",
       "    </tr>\n",
       "    <tr>\n",
       "      <th>3139</th>\n",
       "      <td>56041</td>\n",
       "      <td>WY</td>\n",
       "      <td>Uinta</td>\n",
       "      <td>14.0</td>\n",
       "      <td>13.2</td>\n",
       "      <td>-0.8</td>\n",
       "      <td>5.3</td>\n",
       "      <td>5.1</td>\n",
       "      <td>-0.2</td>\n",
       "    </tr>\n",
       "    <tr>\n",
       "      <th>3140</th>\n",
       "      <td>56043</td>\n",
       "      <td>WY</td>\n",
       "      <td>Washakie</td>\n",
       "      <td>14.0</td>\n",
       "      <td>13.2</td>\n",
       "      <td>-0.8</td>\n",
       "      <td>5.3</td>\n",
       "      <td>5.1</td>\n",
       "      <td>-0.2</td>\n",
       "    </tr>\n",
       "    <tr>\n",
       "      <th>3141</th>\n",
       "      <td>56045</td>\n",
       "      <td>WY</td>\n",
       "      <td>Weston</td>\n",
       "      <td>14.0</td>\n",
       "      <td>13.2</td>\n",
       "      <td>-0.8</td>\n",
       "      <td>5.3</td>\n",
       "      <td>5.1</td>\n",
       "      <td>-0.2</td>\n",
       "    </tr>\n",
       "  </tbody>\n",
       "</table>\n",
       "</div>"
      ],
      "text/plain": [
       "       fips state      county  foodinsec_12_14  foodinsec_15_17  \\\n",
       "3137  56037    WY  Sweetwater             14.0             13.2   \n",
       "3138  56039    WY       Teton             14.0             13.2   \n",
       "3139  56041    WY       Uinta             14.0             13.2   \n",
       "3140  56043    WY    Washakie             14.0             13.2   \n",
       "3141  56045    WY      Weston             14.0             13.2   \n",
       "\n",
       "      ch_foodinsec_14_17  vlfoodsec_12_14  vlfoodsec_15_17  ch_vlfoodsec_14_17  \n",
       "3137                -0.8              5.3              5.1                -0.2  \n",
       "3138                -0.8              5.3              5.1                -0.2  \n",
       "3139                -0.8              5.3              5.1                -0.2  \n",
       "3140                -0.8              5.3              5.1                -0.2  \n",
       "3141                -0.8              5.3              5.1                -0.2  "
      ]
     },
     "execution_count": 455,
     "metadata": {},
     "output_type": "execute_result"
    }
   ],
   "source": [
    "insecurity_rec.tail()"
   ]
  },
  {
   "cell_type": "code",
   "execution_count": 456,
   "id": "f35f63c4",
   "metadata": {},
   "outputs": [
    {
     "data": {
      "text/html": [
       "<div>\n",
       "<style scoped>\n",
       "    .dataframe tbody tr th:only-of-type {\n",
       "        vertical-align: middle;\n",
       "    }\n",
       "\n",
       "    .dataframe tbody tr th {\n",
       "        vertical-align: top;\n",
       "    }\n",
       "\n",
       "    .dataframe thead th {\n",
       "        text-align: right;\n",
       "    }\n",
       "</style>\n",
       "<table border=\"1\" class=\"dataframe\">\n",
       "  <thead>\n",
       "    <tr style=\"text-align: right;\">\n",
       "      <th></th>\n",
       "      <th>fips</th>\n",
       "      <th>county</th>\n",
       "      <th>state</th>\n",
       "      <th>pct_diabetes18</th>\n",
       "      <th>class</th>\n",
       "    </tr>\n",
       "  </thead>\n",
       "  <tbody>\n",
       "    <tr>\n",
       "      <th>3137</th>\n",
       "      <td>56037</td>\n",
       "      <td>Sweetwater</td>\n",
       "      <td>Wyoming</td>\n",
       "      <td>7.8</td>\n",
       "      <td>0.0</td>\n",
       "    </tr>\n",
       "    <tr>\n",
       "      <th>3138</th>\n",
       "      <td>56039</td>\n",
       "      <td>Teton</td>\n",
       "      <td>Wyoming</td>\n",
       "      <td>3.8</td>\n",
       "      <td>0.0</td>\n",
       "    </tr>\n",
       "    <tr>\n",
       "      <th>3139</th>\n",
       "      <td>56041</td>\n",
       "      <td>Uinta</td>\n",
       "      <td>Wyoming</td>\n",
       "      <td>8.4</td>\n",
       "      <td>0.0</td>\n",
       "    </tr>\n",
       "    <tr>\n",
       "      <th>3140</th>\n",
       "      <td>56043</td>\n",
       "      <td>Washakie</td>\n",
       "      <td>Wyoming</td>\n",
       "      <td>7.4</td>\n",
       "      <td>0.0</td>\n",
       "    </tr>\n",
       "    <tr>\n",
       "      <th>3141</th>\n",
       "      <td>56045</td>\n",
       "      <td>Weston</td>\n",
       "      <td>Wyoming</td>\n",
       "      <td>7.6</td>\n",
       "      <td>0.0</td>\n",
       "    </tr>\n",
       "  </tbody>\n",
       "</table>\n",
       "</div>"
      ],
      "text/plain": [
       "       fips      county    state  pct_diabetes18  class\n",
       "3137  56037  Sweetwater  Wyoming             7.8    0.0\n",
       "3138  56039       Teton  Wyoming             3.8    0.0\n",
       "3139  56041       Uinta  Wyoming             8.4    0.0\n",
       "3140  56043    Washakie  Wyoming             7.4    0.0\n",
       "3141  56045      Weston  Wyoming             7.6    0.0"
      ]
     },
     "execution_count": 456,
     "metadata": {},
     "output_type": "execute_result"
    }
   ],
   "source": [
    "d18_rec.tail()"
   ]
  },
  {
   "cell_type": "code",
   "execution_count": 457,
   "id": "5ef33054",
   "metadata": {},
   "outputs": [
    {
     "data": {
      "text/plain": [
       "count     3142.000000\n",
       "mean     30383.649268\n",
       "std      15162.508374\n",
       "min       1001.000000\n",
       "25%      18177.500000\n",
       "50%      29176.000000\n",
       "75%      45080.500000\n",
       "max      56045.000000\n",
       "Name: fips, dtype: float64"
      ]
     },
     "execution_count": 457,
     "metadata": {},
     "output_type": "execute_result"
    }
   ],
   "source": [
    "insecurity_rec.fips.describe()"
   ]
  },
  {
   "cell_type": "code",
   "execution_count": 458,
   "id": "70b85dec",
   "metadata": {},
   "outputs": [
    {
     "data": {
      "text/plain": [
       "count     3142.000000\n",
       "mean     30383.649268\n",
       "std      15162.508374\n",
       "min       1001.000000\n",
       "25%      18177.500000\n",
       "50%      29176.000000\n",
       "75%      45080.500000\n",
       "max      56045.000000\n",
       "Name: fips, dtype: float64"
      ]
     },
     "execution_count": 458,
     "metadata": {},
     "output_type": "execute_result"
    }
   ],
   "source": [
    "d18_rec.fips.describe()"
   ]
  },
  {
   "cell_type": "markdown",
   "id": "94615d64",
   "metadata": {},
   "source": [
    "The top, bottom, layout, and fips scores are the same between the two datasets. I will add the Diabetes Atlas information into the Insecurity dataset."
   ]
  },
  {
   "cell_type": "code",
   "execution_count": 459,
   "id": "b97734d2",
   "metadata": {},
   "outputs": [
    {
     "data": {
      "text/html": [
       "<div>\n",
       "<style scoped>\n",
       "    .dataframe tbody tr th:only-of-type {\n",
       "        vertical-align: middle;\n",
       "    }\n",
       "\n",
       "    .dataframe tbody tr th {\n",
       "        vertical-align: top;\n",
       "    }\n",
       "\n",
       "    .dataframe thead th {\n",
       "        text-align: right;\n",
       "    }\n",
       "</style>\n",
       "<table border=\"1\" class=\"dataframe\">\n",
       "  <thead>\n",
       "    <tr style=\"text-align: right;\">\n",
       "      <th></th>\n",
       "      <th>fips</th>\n",
       "      <th>state</th>\n",
       "      <th>county</th>\n",
       "      <th>foodinsec_12_14</th>\n",
       "      <th>foodinsec_15_17</th>\n",
       "      <th>ch_foodinsec_14_17</th>\n",
       "      <th>vlfoodsec_12_14</th>\n",
       "      <th>vlfoodsec_15_17</th>\n",
       "      <th>ch_vlfoodsec_14_17</th>\n",
       "      <th>pct_diabetes18</th>\n",
       "      <th>class</th>\n",
       "    </tr>\n",
       "  </thead>\n",
       "  <tbody>\n",
       "    <tr>\n",
       "      <th>0</th>\n",
       "      <td>1001</td>\n",
       "      <td>AL</td>\n",
       "      <td>Autauga</td>\n",
       "      <td>16.8</td>\n",
       "      <td>16.3</td>\n",
       "      <td>-0.5</td>\n",
       "      <td>7.2</td>\n",
       "      <td>7.1</td>\n",
       "      <td>-0.1</td>\n",
       "      <td>9.5</td>\n",
       "      <td>1.0</td>\n",
       "    </tr>\n",
       "    <tr>\n",
       "      <th>1</th>\n",
       "      <td>1003</td>\n",
       "      <td>AL</td>\n",
       "      <td>Baldwin</td>\n",
       "      <td>16.8</td>\n",
       "      <td>16.3</td>\n",
       "      <td>-0.5</td>\n",
       "      <td>7.2</td>\n",
       "      <td>7.1</td>\n",
       "      <td>-0.1</td>\n",
       "      <td>8.4</td>\n",
       "      <td>0.0</td>\n",
       "    </tr>\n",
       "    <tr>\n",
       "      <th>2</th>\n",
       "      <td>1005</td>\n",
       "      <td>AL</td>\n",
       "      <td>Barbour</td>\n",
       "      <td>16.8</td>\n",
       "      <td>16.3</td>\n",
       "      <td>-0.5</td>\n",
       "      <td>7.2</td>\n",
       "      <td>7.1</td>\n",
       "      <td>-0.1</td>\n",
       "      <td>13.5</td>\n",
       "      <td>1.0</td>\n",
       "    </tr>\n",
       "    <tr>\n",
       "      <th>3</th>\n",
       "      <td>1007</td>\n",
       "      <td>AL</td>\n",
       "      <td>Bibb</td>\n",
       "      <td>16.8</td>\n",
       "      <td>16.3</td>\n",
       "      <td>-0.5</td>\n",
       "      <td>7.2</td>\n",
       "      <td>7.1</td>\n",
       "      <td>-0.1</td>\n",
       "      <td>10.2</td>\n",
       "      <td>1.0</td>\n",
       "    </tr>\n",
       "    <tr>\n",
       "      <th>4</th>\n",
       "      <td>1009</td>\n",
       "      <td>AL</td>\n",
       "      <td>Blount</td>\n",
       "      <td>16.8</td>\n",
       "      <td>16.3</td>\n",
       "      <td>-0.5</td>\n",
       "      <td>7.2</td>\n",
       "      <td>7.1</td>\n",
       "      <td>-0.1</td>\n",
       "      <td>10.5</td>\n",
       "      <td>1.0</td>\n",
       "    </tr>\n",
       "  </tbody>\n",
       "</table>\n",
       "</div>"
      ],
      "text/plain": [
       "   fips state   county  foodinsec_12_14  foodinsec_15_17  ch_foodinsec_14_17  \\\n",
       "0  1001    AL  Autauga             16.8             16.3                -0.5   \n",
       "1  1003    AL  Baldwin             16.8             16.3                -0.5   \n",
       "2  1005    AL  Barbour             16.8             16.3                -0.5   \n",
       "3  1007    AL     Bibb             16.8             16.3                -0.5   \n",
       "4  1009    AL   Blount             16.8             16.3                -0.5   \n",
       "\n",
       "   vlfoodsec_12_14  vlfoodsec_15_17  ch_vlfoodsec_14_17  pct_diabetes18  class  \n",
       "0              7.2              7.1                -0.1             9.5    1.0  \n",
       "1              7.2              7.1                -0.1             8.4    0.0  \n",
       "2              7.2              7.1                -0.1            13.5    1.0  \n",
       "3              7.2              7.1                -0.1            10.2    1.0  \n",
       "4              7.2              7.1                -0.1            10.5    1.0  "
      ]
     },
     "execution_count": 459,
     "metadata": {},
     "output_type": "execute_result"
    }
   ],
   "source": [
    "insecurity_rec['pct_diabetes18'] = d18_rec['pct_diabetes18']\n",
    "\n",
    "insecurity_rec['class'] = d18_rec['class']\n",
    "\n",
    "insecurity_rec.head()"
   ]
  },
  {
   "cell_type": "code",
   "execution_count": 460,
   "id": "3bc31cc6",
   "metadata": {},
   "outputs": [
    {
     "data": {
      "text/plain": [
       "(3142, 11)"
      ]
     },
     "execution_count": 460,
     "metadata": {},
     "output_type": "execute_result"
    }
   ],
   "source": [
    "insecurity_rec.shape"
   ]
  },
  {
   "cell_type": "markdown",
   "id": "102a5701",
   "metadata": {},
   "source": [
    "The diabetes values were added. I will now address null values."
   ]
  },
  {
   "cell_type": "code",
   "execution_count": 461,
   "id": "b8cc157d",
   "metadata": {},
   "outputs": [
    {
     "data": {
      "text/plain": [
       "fips                  0\n",
       "state                 0\n",
       "county                0\n",
       "foodinsec_12_14       0\n",
       "foodinsec_15_17       0\n",
       "ch_foodinsec_14_17    0\n",
       "vlfoodsec_12_14       0\n",
       "vlfoodsec_15_17       0\n",
       "ch_vlfoodsec_14_17    0\n",
       "pct_diabetes18        0\n",
       "class                 0\n",
       "dtype: int64"
      ]
     },
     "execution_count": 461,
     "metadata": {},
     "output_type": "execute_result"
    }
   ],
   "source": [
    "insecurity_rec.isnull().sum()"
   ]
  },
  {
   "cell_type": "markdown",
   "id": "8c4d910b",
   "metadata": {},
   "source": [
    "There are no null values. The dataframe will be saved into a csv as-is."
   ]
  },
  {
   "cell_type": "code",
   "execution_count": 462,
   "id": "7d457b76",
   "metadata": {},
   "outputs": [],
   "source": [
    "insecurity_rec.to_csv('../data/FoodEnvironmentAtlas.xls.INSECURITY_Modeling.csv', index=False)"
   ]
  },
  {
   "cell_type": "markdown",
   "id": "a3b48b27",
   "metadata": {},
   "source": [
    "## Local"
   ]
  },
  {
   "cell_type": "code",
   "execution_count": 463,
   "id": "79272fa8",
   "metadata": {},
   "outputs": [],
   "source": [
    "file_path = '../data/FoodEnvironmentAtlas.xls.LOCAL_REC.csv'\n",
    "\n",
    "local_rec = pd.read_csv(file_path)"
   ]
  },
  {
   "cell_type": "code",
   "execution_count": 464,
   "id": "81ac9e65",
   "metadata": {},
   "outputs": [
    {
     "data": {
      "text/plain": [
       "(3142, 100)"
      ]
     },
     "execution_count": 464,
     "metadata": {},
     "output_type": "execute_result"
    }
   ],
   "source": [
    "local_rec.shape"
   ]
  },
  {
   "cell_type": "code",
   "execution_count": 465,
   "id": "f344b35c",
   "metadata": {},
   "outputs": [
    {
     "data": {
      "text/plain": [
       "(3142, 5)"
      ]
     },
     "execution_count": 465,
     "metadata": {},
     "output_type": "execute_result"
    }
   ],
   "source": [
    "d18_rec.shape"
   ]
  },
  {
   "cell_type": "code",
   "execution_count": 466,
   "id": "ba2d6b63",
   "metadata": {},
   "outputs": [
    {
     "data": {
      "text/html": [
       "<div>\n",
       "<style scoped>\n",
       "    .dataframe tbody tr th:only-of-type {\n",
       "        vertical-align: middle;\n",
       "    }\n",
       "\n",
       "    .dataframe tbody tr th {\n",
       "        vertical-align: top;\n",
       "    }\n",
       "\n",
       "    .dataframe thead th {\n",
       "        text-align: right;\n",
       "    }\n",
       "</style>\n",
       "<table border=\"1\" class=\"dataframe\">\n",
       "  <thead>\n",
       "    <tr style=\"text-align: right;\">\n",
       "      <th></th>\n",
       "      <th>fips</th>\n",
       "      <th>state</th>\n",
       "      <th>county</th>\n",
       "      <th>dirsales_farms07</th>\n",
       "      <th>dirsales_farms12</th>\n",
       "      <th>pch_dirsales_farms_07_12</th>\n",
       "      <th>pct_loclfarm07</th>\n",
       "      <th>pct_loclfarm12</th>\n",
       "      <th>pct_loclsale07</th>\n",
       "      <th>pct_loclsale12</th>\n",
       "      <th>...</th>\n",
       "      <th>csa12</th>\n",
       "      <th>pch_csa_07_12</th>\n",
       "      <th>agritrsm_ops07</th>\n",
       "      <th>agritrsm_ops12</th>\n",
       "      <th>pch_agritrsm_ops_07_12</th>\n",
       "      <th>agritrsm_rct07</th>\n",
       "      <th>agritrsm_rct12</th>\n",
       "      <th>pch_agritrsm_rct_07_12</th>\n",
       "      <th>farm_to_school13</th>\n",
       "      <th>farm_to_school15</th>\n",
       "    </tr>\n",
       "  </thead>\n",
       "  <tbody>\n",
       "    <tr>\n",
       "      <th>0</th>\n",
       "      <td>1001</td>\n",
       "      <td>AL</td>\n",
       "      <td>Autauga</td>\n",
       "      <td>25.0</td>\n",
       "      <td>51.0</td>\n",
       "      <td>104.000000</td>\n",
       "      <td>6.024096</td>\n",
       "      <td>13.110540</td>\n",
       "      <td>0.596374</td>\n",
       "      <td>1.554692</td>\n",
       "      <td>...</td>\n",
       "      <td>3.0</td>\n",
       "      <td>50.000000</td>\n",
       "      <td>7.0</td>\n",
       "      <td>10.0</td>\n",
       "      <td>42.857143</td>\n",
       "      <td>228000.0</td>\n",
       "      <td>146000.0</td>\n",
       "      <td>-35.964912</td>\n",
       "      <td>NaN</td>\n",
       "      <td>0.0</td>\n",
       "    </tr>\n",
       "    <tr>\n",
       "      <th>1</th>\n",
       "      <td>1003</td>\n",
       "      <td>AL</td>\n",
       "      <td>Baldwin</td>\n",
       "      <td>80.0</td>\n",
       "      <td>103.0</td>\n",
       "      <td>28.750000</td>\n",
       "      <td>7.023705</td>\n",
       "      <td>10.414560</td>\n",
       "      <td>0.712634</td>\n",
       "      <td>0.478010</td>\n",
       "      <td>...</td>\n",
       "      <td>7.0</td>\n",
       "      <td>-46.153846</td>\n",
       "      <td>18.0</td>\n",
       "      <td>16.0</td>\n",
       "      <td>-11.111111</td>\n",
       "      <td>124000.0</td>\n",
       "      <td>204000.0</td>\n",
       "      <td>64.516129</td>\n",
       "      <td>0.0</td>\n",
       "      <td>1.0</td>\n",
       "    </tr>\n",
       "    <tr>\n",
       "      <th>2</th>\n",
       "      <td>1005</td>\n",
       "      <td>AL</td>\n",
       "      <td>Barbour</td>\n",
       "      <td>18.0</td>\n",
       "      <td>13.0</td>\n",
       "      <td>-27.777778</td>\n",
       "      <td>2.889246</td>\n",
       "      <td>2.276708</td>\n",
       "      <td>0.015403</td>\n",
       "      <td>0.012457</td>\n",
       "      <td>...</td>\n",
       "      <td>0.0</td>\n",
       "      <td>-100.000000</td>\n",
       "      <td>27.0</td>\n",
       "      <td>32.0</td>\n",
       "      <td>18.518519</td>\n",
       "      <td>163000.0</td>\n",
       "      <td>304000.0</td>\n",
       "      <td>86.503067</td>\n",
       "      <td>1.0</td>\n",
       "      <td>0.0</td>\n",
       "    </tr>\n",
       "    <tr>\n",
       "      <th>3</th>\n",
       "      <td>1007</td>\n",
       "      <td>AL</td>\n",
       "      <td>Bibb</td>\n",
       "      <td>12.0</td>\n",
       "      <td>13.0</td>\n",
       "      <td>8.333333</td>\n",
       "      <td>5.687204</td>\n",
       "      <td>6.878307</td>\n",
       "      <td>NaN</td>\n",
       "      <td>NaN</td>\n",
       "      <td>...</td>\n",
       "      <td>3.0</td>\n",
       "      <td>50.000000</td>\n",
       "      <td>5.0</td>\n",
       "      <td>6.0</td>\n",
       "      <td>20.000000</td>\n",
       "      <td>NaN</td>\n",
       "      <td>21000.0</td>\n",
       "      <td>NaN</td>\n",
       "      <td>0.0</td>\n",
       "      <td>0.0</td>\n",
       "    </tr>\n",
       "    <tr>\n",
       "      <th>4</th>\n",
       "      <td>1009</td>\n",
       "      <td>AL</td>\n",
       "      <td>Blount</td>\n",
       "      <td>84.0</td>\n",
       "      <td>88.0</td>\n",
       "      <td>4.761905</td>\n",
       "      <td>5.940594</td>\n",
       "      <td>7.091056</td>\n",
       "      <td>0.267717</td>\n",
       "      <td>0.277792</td>\n",
       "      <td>...</td>\n",
       "      <td>4.0</td>\n",
       "      <td>-42.857143</td>\n",
       "      <td>10.0</td>\n",
       "      <td>8.0</td>\n",
       "      <td>-20.000000</td>\n",
       "      <td>293000.0</td>\n",
       "      <td>30000.0</td>\n",
       "      <td>-89.761092</td>\n",
       "      <td>1.0</td>\n",
       "      <td>0.0</td>\n",
       "    </tr>\n",
       "  </tbody>\n",
       "</table>\n",
       "<p>5 rows × 100 columns</p>\n",
       "</div>"
      ],
      "text/plain": [
       "   fips state   county  dirsales_farms07  dirsales_farms12  \\\n",
       "0  1001    AL  Autauga              25.0              51.0   \n",
       "1  1003    AL  Baldwin              80.0             103.0   \n",
       "2  1005    AL  Barbour              18.0              13.0   \n",
       "3  1007    AL     Bibb              12.0              13.0   \n",
       "4  1009    AL   Blount              84.0              88.0   \n",
       "\n",
       "   pch_dirsales_farms_07_12  pct_loclfarm07  pct_loclfarm12  pct_loclsale07  \\\n",
       "0                104.000000        6.024096       13.110540        0.596374   \n",
       "1                 28.750000        7.023705       10.414560        0.712634   \n",
       "2                -27.777778        2.889246        2.276708        0.015403   \n",
       "3                  8.333333        5.687204        6.878307             NaN   \n",
       "4                  4.761905        5.940594        7.091056        0.267717   \n",
       "\n",
       "   pct_loclsale12  ...  csa12  pch_csa_07_12  agritrsm_ops07  agritrsm_ops12  \\\n",
       "0        1.554692  ...    3.0      50.000000             7.0            10.0   \n",
       "1        0.478010  ...    7.0     -46.153846            18.0            16.0   \n",
       "2        0.012457  ...    0.0    -100.000000            27.0            32.0   \n",
       "3             NaN  ...    3.0      50.000000             5.0             6.0   \n",
       "4        0.277792  ...    4.0     -42.857143            10.0             8.0   \n",
       "\n",
       "   pch_agritrsm_ops_07_12  agritrsm_rct07  agritrsm_rct12  \\\n",
       "0               42.857143        228000.0        146000.0   \n",
       "1              -11.111111        124000.0        204000.0   \n",
       "2               18.518519        163000.0        304000.0   \n",
       "3               20.000000             NaN         21000.0   \n",
       "4              -20.000000        293000.0         30000.0   \n",
       "\n",
       "   pch_agritrsm_rct_07_12  farm_to_school13  farm_to_school15  \n",
       "0              -35.964912               NaN               0.0  \n",
       "1               64.516129               0.0               1.0  \n",
       "2               86.503067               1.0               0.0  \n",
       "3                     NaN               0.0               0.0  \n",
       "4              -89.761092               1.0               0.0  \n",
       "\n",
       "[5 rows x 100 columns]"
      ]
     },
     "execution_count": 466,
     "metadata": {},
     "output_type": "execute_result"
    }
   ],
   "source": [
    "local_rec.head()"
   ]
  },
  {
   "cell_type": "code",
   "execution_count": 467,
   "id": "f5f50812",
   "metadata": {},
   "outputs": [
    {
     "data": {
      "text/html": [
       "<div>\n",
       "<style scoped>\n",
       "    .dataframe tbody tr th:only-of-type {\n",
       "        vertical-align: middle;\n",
       "    }\n",
       "\n",
       "    .dataframe tbody tr th {\n",
       "        vertical-align: top;\n",
       "    }\n",
       "\n",
       "    .dataframe thead th {\n",
       "        text-align: right;\n",
       "    }\n",
       "</style>\n",
       "<table border=\"1\" class=\"dataframe\">\n",
       "  <thead>\n",
       "    <tr style=\"text-align: right;\">\n",
       "      <th></th>\n",
       "      <th>fips</th>\n",
       "      <th>county</th>\n",
       "      <th>state</th>\n",
       "      <th>pct_diabetes18</th>\n",
       "      <th>class</th>\n",
       "    </tr>\n",
       "  </thead>\n",
       "  <tbody>\n",
       "    <tr>\n",
       "      <th>0</th>\n",
       "      <td>1001</td>\n",
       "      <td>Autauga</td>\n",
       "      <td>Alabama</td>\n",
       "      <td>9.5</td>\n",
       "      <td>1.0</td>\n",
       "    </tr>\n",
       "    <tr>\n",
       "      <th>1</th>\n",
       "      <td>1003</td>\n",
       "      <td>Baldwin</td>\n",
       "      <td>Alabama</td>\n",
       "      <td>8.4</td>\n",
       "      <td>0.0</td>\n",
       "    </tr>\n",
       "    <tr>\n",
       "      <th>2</th>\n",
       "      <td>1005</td>\n",
       "      <td>Barbour</td>\n",
       "      <td>Alabama</td>\n",
       "      <td>13.5</td>\n",
       "      <td>1.0</td>\n",
       "    </tr>\n",
       "    <tr>\n",
       "      <th>3</th>\n",
       "      <td>1007</td>\n",
       "      <td>Bibb</td>\n",
       "      <td>Alabama</td>\n",
       "      <td>10.2</td>\n",
       "      <td>1.0</td>\n",
       "    </tr>\n",
       "    <tr>\n",
       "      <th>4</th>\n",
       "      <td>1009</td>\n",
       "      <td>Blount</td>\n",
       "      <td>Alabama</td>\n",
       "      <td>10.5</td>\n",
       "      <td>1.0</td>\n",
       "    </tr>\n",
       "  </tbody>\n",
       "</table>\n",
       "</div>"
      ],
      "text/plain": [
       "   fips   county    state  pct_diabetes18  class\n",
       "0  1001  Autauga  Alabama             9.5    1.0\n",
       "1  1003  Baldwin  Alabama             8.4    0.0\n",
       "2  1005  Barbour  Alabama            13.5    1.0\n",
       "3  1007     Bibb  Alabama            10.2    1.0\n",
       "4  1009   Blount  Alabama            10.5    1.0"
      ]
     },
     "execution_count": 467,
     "metadata": {},
     "output_type": "execute_result"
    }
   ],
   "source": [
    "d18_rec.head()"
   ]
  },
  {
   "cell_type": "code",
   "execution_count": 468,
   "id": "97ed569d",
   "metadata": {},
   "outputs": [
    {
     "data": {
      "text/html": [
       "<div>\n",
       "<style scoped>\n",
       "    .dataframe tbody tr th:only-of-type {\n",
       "        vertical-align: middle;\n",
       "    }\n",
       "\n",
       "    .dataframe tbody tr th {\n",
       "        vertical-align: top;\n",
       "    }\n",
       "\n",
       "    .dataframe thead th {\n",
       "        text-align: right;\n",
       "    }\n",
       "</style>\n",
       "<table border=\"1\" class=\"dataframe\">\n",
       "  <thead>\n",
       "    <tr style=\"text-align: right;\">\n",
       "      <th></th>\n",
       "      <th>fips</th>\n",
       "      <th>state</th>\n",
       "      <th>county</th>\n",
       "      <th>dirsales_farms07</th>\n",
       "      <th>dirsales_farms12</th>\n",
       "      <th>pch_dirsales_farms_07_12</th>\n",
       "      <th>pct_loclfarm07</th>\n",
       "      <th>pct_loclfarm12</th>\n",
       "      <th>pct_loclsale07</th>\n",
       "      <th>pct_loclsale12</th>\n",
       "      <th>...</th>\n",
       "      <th>csa12</th>\n",
       "      <th>pch_csa_07_12</th>\n",
       "      <th>agritrsm_ops07</th>\n",
       "      <th>agritrsm_ops12</th>\n",
       "      <th>pch_agritrsm_ops_07_12</th>\n",
       "      <th>agritrsm_rct07</th>\n",
       "      <th>agritrsm_rct12</th>\n",
       "      <th>pch_agritrsm_rct_07_12</th>\n",
       "      <th>farm_to_school13</th>\n",
       "      <th>farm_to_school15</th>\n",
       "    </tr>\n",
       "  </thead>\n",
       "  <tbody>\n",
       "    <tr>\n",
       "      <th>3137</th>\n",
       "      <td>56037</td>\n",
       "      <td>WY</td>\n",
       "      <td>Sweetwater</td>\n",
       "      <td>15.0</td>\n",
       "      <td>22.0</td>\n",
       "      <td>46.666667</td>\n",
       "      <td>6.147541</td>\n",
       "      <td>8.627451</td>\n",
       "      <td>1.089204</td>\n",
       "      <td>0.444697</td>\n",
       "      <td>...</td>\n",
       "      <td>0.0</td>\n",
       "      <td>NaN</td>\n",
       "      <td>1.0</td>\n",
       "      <td>2.0</td>\n",
       "      <td>100.000000</td>\n",
       "      <td>NaN</td>\n",
       "      <td>NaN</td>\n",
       "      <td>NaN</td>\n",
       "      <td>0.0</td>\n",
       "      <td>0.0</td>\n",
       "    </tr>\n",
       "    <tr>\n",
       "      <th>3138</th>\n",
       "      <td>56039</td>\n",
       "      <td>WY</td>\n",
       "      <td>Teton</td>\n",
       "      <td>4.0</td>\n",
       "      <td>11.0</td>\n",
       "      <td>175.000000</td>\n",
       "      <td>2.222222</td>\n",
       "      <td>7.142857</td>\n",
       "      <td>0.021817</td>\n",
       "      <td>0.265604</td>\n",
       "      <td>...</td>\n",
       "      <td>0.0</td>\n",
       "      <td>NaN</td>\n",
       "      <td>5.0</td>\n",
       "      <td>12.0</td>\n",
       "      <td>140.000000</td>\n",
       "      <td>1614000.0</td>\n",
       "      <td>NaN</td>\n",
       "      <td>NaN</td>\n",
       "      <td>0.0</td>\n",
       "      <td>0.0</td>\n",
       "    </tr>\n",
       "    <tr>\n",
       "      <th>3139</th>\n",
       "      <td>56041</td>\n",
       "      <td>WY</td>\n",
       "      <td>Uinta</td>\n",
       "      <td>13.0</td>\n",
       "      <td>24.0</td>\n",
       "      <td>84.615385</td>\n",
       "      <td>3.779070</td>\n",
       "      <td>7.619048</td>\n",
       "      <td>NaN</td>\n",
       "      <td>0.445308</td>\n",
       "      <td>...</td>\n",
       "      <td>0.0</td>\n",
       "      <td>-100.0</td>\n",
       "      <td>5.0</td>\n",
       "      <td>9.0</td>\n",
       "      <td>80.000000</td>\n",
       "      <td>105000.0</td>\n",
       "      <td>NaN</td>\n",
       "      <td>NaN</td>\n",
       "      <td>0.0</td>\n",
       "      <td>0.0</td>\n",
       "    </tr>\n",
       "    <tr>\n",
       "      <th>3140</th>\n",
       "      <td>56043</td>\n",
       "      <td>WY</td>\n",
       "      <td>Washakie</td>\n",
       "      <td>25.0</td>\n",
       "      <td>5.0</td>\n",
       "      <td>-80.000000</td>\n",
       "      <td>11.682243</td>\n",
       "      <td>2.392344</td>\n",
       "      <td>0.154231</td>\n",
       "      <td>NaN</td>\n",
       "      <td>...</td>\n",
       "      <td>1.0</td>\n",
       "      <td>NaN</td>\n",
       "      <td>8.0</td>\n",
       "      <td>6.0</td>\n",
       "      <td>-25.000000</td>\n",
       "      <td>70000.0</td>\n",
       "      <td>62000.0</td>\n",
       "      <td>-11.428571</td>\n",
       "      <td>0.0</td>\n",
       "      <td>0.0</td>\n",
       "    </tr>\n",
       "    <tr>\n",
       "      <th>3141</th>\n",
       "      <td>56045</td>\n",
       "      <td>WY</td>\n",
       "      <td>Weston</td>\n",
       "      <td>15.0</td>\n",
       "      <td>3.0</td>\n",
       "      <td>-80.000000</td>\n",
       "      <td>6.329114</td>\n",
       "      <td>1.136364</td>\n",
       "      <td>NaN</td>\n",
       "      <td>NaN</td>\n",
       "      <td>...</td>\n",
       "      <td>0.0</td>\n",
       "      <td>NaN</td>\n",
       "      <td>14.0</td>\n",
       "      <td>9.0</td>\n",
       "      <td>-35.714286</td>\n",
       "      <td>147000.0</td>\n",
       "      <td>71000.0</td>\n",
       "      <td>-51.700680</td>\n",
       "      <td>0.0</td>\n",
       "      <td>0.0</td>\n",
       "    </tr>\n",
       "  </tbody>\n",
       "</table>\n",
       "<p>5 rows × 100 columns</p>\n",
       "</div>"
      ],
      "text/plain": [
       "       fips state      county  dirsales_farms07  dirsales_farms12  \\\n",
       "3137  56037    WY  Sweetwater              15.0              22.0   \n",
       "3138  56039    WY       Teton               4.0              11.0   \n",
       "3139  56041    WY       Uinta              13.0              24.0   \n",
       "3140  56043    WY    Washakie              25.0               5.0   \n",
       "3141  56045    WY      Weston              15.0               3.0   \n",
       "\n",
       "      pch_dirsales_farms_07_12  pct_loclfarm07  pct_loclfarm12  \\\n",
       "3137                 46.666667        6.147541        8.627451   \n",
       "3138                175.000000        2.222222        7.142857   \n",
       "3139                 84.615385        3.779070        7.619048   \n",
       "3140                -80.000000       11.682243        2.392344   \n",
       "3141                -80.000000        6.329114        1.136364   \n",
       "\n",
       "      pct_loclsale07  pct_loclsale12  ...  csa12  pch_csa_07_12  \\\n",
       "3137        1.089204        0.444697  ...    0.0            NaN   \n",
       "3138        0.021817        0.265604  ...    0.0            NaN   \n",
       "3139             NaN        0.445308  ...    0.0         -100.0   \n",
       "3140        0.154231             NaN  ...    1.0            NaN   \n",
       "3141             NaN             NaN  ...    0.0            NaN   \n",
       "\n",
       "      agritrsm_ops07  agritrsm_ops12  pch_agritrsm_ops_07_12  agritrsm_rct07  \\\n",
       "3137             1.0             2.0              100.000000             NaN   \n",
       "3138             5.0            12.0              140.000000       1614000.0   \n",
       "3139             5.0             9.0               80.000000        105000.0   \n",
       "3140             8.0             6.0              -25.000000         70000.0   \n",
       "3141            14.0             9.0              -35.714286        147000.0   \n",
       "\n",
       "      agritrsm_rct12  pch_agritrsm_rct_07_12  farm_to_school13  \\\n",
       "3137             NaN                     NaN               0.0   \n",
       "3138             NaN                     NaN               0.0   \n",
       "3139             NaN                     NaN               0.0   \n",
       "3140         62000.0              -11.428571               0.0   \n",
       "3141         71000.0              -51.700680               0.0   \n",
       "\n",
       "      farm_to_school15  \n",
       "3137               0.0  \n",
       "3138               0.0  \n",
       "3139               0.0  \n",
       "3140               0.0  \n",
       "3141               0.0  \n",
       "\n",
       "[5 rows x 100 columns]"
      ]
     },
     "execution_count": 468,
     "metadata": {},
     "output_type": "execute_result"
    }
   ],
   "source": [
    "local_rec.tail()"
   ]
  },
  {
   "cell_type": "code",
   "execution_count": 469,
   "id": "0f5dbcd0",
   "metadata": {},
   "outputs": [
    {
     "data": {
      "text/html": [
       "<div>\n",
       "<style scoped>\n",
       "    .dataframe tbody tr th:only-of-type {\n",
       "        vertical-align: middle;\n",
       "    }\n",
       "\n",
       "    .dataframe tbody tr th {\n",
       "        vertical-align: top;\n",
       "    }\n",
       "\n",
       "    .dataframe thead th {\n",
       "        text-align: right;\n",
       "    }\n",
       "</style>\n",
       "<table border=\"1\" class=\"dataframe\">\n",
       "  <thead>\n",
       "    <tr style=\"text-align: right;\">\n",
       "      <th></th>\n",
       "      <th>fips</th>\n",
       "      <th>county</th>\n",
       "      <th>state</th>\n",
       "      <th>pct_diabetes18</th>\n",
       "      <th>class</th>\n",
       "    </tr>\n",
       "  </thead>\n",
       "  <tbody>\n",
       "    <tr>\n",
       "      <th>3137</th>\n",
       "      <td>56037</td>\n",
       "      <td>Sweetwater</td>\n",
       "      <td>Wyoming</td>\n",
       "      <td>7.8</td>\n",
       "      <td>0.0</td>\n",
       "    </tr>\n",
       "    <tr>\n",
       "      <th>3138</th>\n",
       "      <td>56039</td>\n",
       "      <td>Teton</td>\n",
       "      <td>Wyoming</td>\n",
       "      <td>3.8</td>\n",
       "      <td>0.0</td>\n",
       "    </tr>\n",
       "    <tr>\n",
       "      <th>3139</th>\n",
       "      <td>56041</td>\n",
       "      <td>Uinta</td>\n",
       "      <td>Wyoming</td>\n",
       "      <td>8.4</td>\n",
       "      <td>0.0</td>\n",
       "    </tr>\n",
       "    <tr>\n",
       "      <th>3140</th>\n",
       "      <td>56043</td>\n",
       "      <td>Washakie</td>\n",
       "      <td>Wyoming</td>\n",
       "      <td>7.4</td>\n",
       "      <td>0.0</td>\n",
       "    </tr>\n",
       "    <tr>\n",
       "      <th>3141</th>\n",
       "      <td>56045</td>\n",
       "      <td>Weston</td>\n",
       "      <td>Wyoming</td>\n",
       "      <td>7.6</td>\n",
       "      <td>0.0</td>\n",
       "    </tr>\n",
       "  </tbody>\n",
       "</table>\n",
       "</div>"
      ],
      "text/plain": [
       "       fips      county    state  pct_diabetes18  class\n",
       "3137  56037  Sweetwater  Wyoming             7.8    0.0\n",
       "3138  56039       Teton  Wyoming             3.8    0.0\n",
       "3139  56041       Uinta  Wyoming             8.4    0.0\n",
       "3140  56043    Washakie  Wyoming             7.4    0.0\n",
       "3141  56045      Weston  Wyoming             7.6    0.0"
      ]
     },
     "execution_count": 469,
     "metadata": {},
     "output_type": "execute_result"
    }
   ],
   "source": [
    "d18_rec.tail()"
   ]
  },
  {
   "cell_type": "code",
   "execution_count": 470,
   "id": "8c2fa02a",
   "metadata": {},
   "outputs": [
    {
     "data": {
      "text/plain": [
       "count     3142.000000\n",
       "mean     30383.649268\n",
       "std      15162.508374\n",
       "min       1001.000000\n",
       "25%      18177.500000\n",
       "50%      29176.000000\n",
       "75%      45080.500000\n",
       "max      56045.000000\n",
       "Name: fips, dtype: float64"
      ]
     },
     "execution_count": 470,
     "metadata": {},
     "output_type": "execute_result"
    }
   ],
   "source": [
    "local_rec.fips.describe()"
   ]
  },
  {
   "cell_type": "code",
   "execution_count": 471,
   "id": "43dcd6ac",
   "metadata": {},
   "outputs": [
    {
     "data": {
      "text/plain": [
       "count     3142.000000\n",
       "mean     30383.649268\n",
       "std      15162.508374\n",
       "min       1001.000000\n",
       "25%      18177.500000\n",
       "50%      29176.000000\n",
       "75%      45080.500000\n",
       "max      56045.000000\n",
       "Name: fips, dtype: float64"
      ]
     },
     "execution_count": 471,
     "metadata": {},
     "output_type": "execute_result"
    }
   ],
   "source": [
    "d18_rec.fips.describe()"
   ]
  },
  {
   "cell_type": "code",
   "execution_count": 472,
   "id": "1a6d5961",
   "metadata": {},
   "outputs": [
    {
     "data": {
      "text/html": [
       "<div>\n",
       "<style scoped>\n",
       "    .dataframe tbody tr th:only-of-type {\n",
       "        vertical-align: middle;\n",
       "    }\n",
       "\n",
       "    .dataframe tbody tr th {\n",
       "        vertical-align: top;\n",
       "    }\n",
       "\n",
       "    .dataframe thead th {\n",
       "        text-align: right;\n",
       "    }\n",
       "</style>\n",
       "<table border=\"1\" class=\"dataframe\">\n",
       "  <thead>\n",
       "    <tr style=\"text-align: right;\">\n",
       "      <th></th>\n",
       "      <th>fips</th>\n",
       "      <th>state</th>\n",
       "      <th>county</th>\n",
       "      <th>dirsales_farms07</th>\n",
       "      <th>dirsales_farms12</th>\n",
       "      <th>pch_dirsales_farms_07_12</th>\n",
       "      <th>pct_loclfarm07</th>\n",
       "      <th>pct_loclfarm12</th>\n",
       "      <th>pct_loclsale07</th>\n",
       "      <th>pct_loclsale12</th>\n",
       "      <th>...</th>\n",
       "      <th>csa12</th>\n",
       "      <th>pch_csa_07_12</th>\n",
       "      <th>agritrsm_ops07</th>\n",
       "      <th>agritrsm_ops12</th>\n",
       "      <th>pch_agritrsm_ops_07_12</th>\n",
       "      <th>agritrsm_rct07</th>\n",
       "      <th>agritrsm_rct12</th>\n",
       "      <th>pch_agritrsm_rct_07_12</th>\n",
       "      <th>farm_to_school13</th>\n",
       "      <th>farm_to_school15</th>\n",
       "    </tr>\n",
       "  </thead>\n",
       "  <tbody>\n",
       "    <tr>\n",
       "      <th>2412</th>\n",
       "      <td>46102</td>\n",
       "      <td>SD</td>\n",
       "      <td>Oglala Lakota</td>\n",
       "      <td>0.0</td>\n",
       "      <td>0.0</td>\n",
       "      <td>NaN</td>\n",
       "      <td>NaN</td>\n",
       "      <td>NaN</td>\n",
       "      <td>NaN</td>\n",
       "      <td>NaN</td>\n",
       "      <td>...</td>\n",
       "      <td>0.0</td>\n",
       "      <td>NaN</td>\n",
       "      <td>0.0</td>\n",
       "      <td>0.0</td>\n",
       "      <td>NaN</td>\n",
       "      <td>0.0</td>\n",
       "      <td>0.0</td>\n",
       "      <td>NaN</td>\n",
       "      <td>0.0</td>\n",
       "      <td>0.0</td>\n",
       "    </tr>\n",
       "  </tbody>\n",
       "</table>\n",
       "<p>1 rows × 100 columns</p>\n",
       "</div>"
      ],
      "text/plain": [
       "       fips state         county  dirsales_farms07  dirsales_farms12  \\\n",
       "2412  46102    SD  Oglala Lakota               0.0               0.0   \n",
       "\n",
       "      pch_dirsales_farms_07_12  pct_loclfarm07  pct_loclfarm12  \\\n",
       "2412                       NaN             NaN             NaN   \n",
       "\n",
       "      pct_loclsale07  pct_loclsale12  ...  csa12  pch_csa_07_12  \\\n",
       "2412             NaN             NaN  ...    0.0            NaN   \n",
       "\n",
       "      agritrsm_ops07  agritrsm_ops12  pch_agritrsm_ops_07_12  agritrsm_rct07  \\\n",
       "2412             0.0             0.0                     NaN             0.0   \n",
       "\n",
       "      agritrsm_rct12  pch_agritrsm_rct_07_12  farm_to_school13  \\\n",
       "2412             0.0                     NaN               0.0   \n",
       "\n",
       "      farm_to_school15  \n",
       "2412               0.0  \n",
       "\n",
       "[1 rows x 100 columns]"
      ]
     },
     "execution_count": 472,
     "metadata": {},
     "output_type": "execute_result"
    }
   ],
   "source": [
    "local_rec.loc[local_rec['county'] == 'Oglala Lakota']"
   ]
  },
  {
   "cell_type": "code",
   "execution_count": 473,
   "id": "4fa5d0fa",
   "metadata": {},
   "outputs": [
    {
     "data": {
      "text/html": [
       "<div>\n",
       "<style scoped>\n",
       "    .dataframe tbody tr th:only-of-type {\n",
       "        vertical-align: middle;\n",
       "    }\n",
       "\n",
       "    .dataframe tbody tr th {\n",
       "        vertical-align: top;\n",
       "    }\n",
       "\n",
       "    .dataframe thead th {\n",
       "        text-align: right;\n",
       "    }\n",
       "</style>\n",
       "<table border=\"1\" class=\"dataframe\">\n",
       "  <thead>\n",
       "    <tr style=\"text-align: right;\">\n",
       "      <th></th>\n",
       "      <th>fips</th>\n",
       "      <th>state</th>\n",
       "      <th>county</th>\n",
       "      <th>dirsales_farms07</th>\n",
       "      <th>dirsales_farms12</th>\n",
       "      <th>pch_dirsales_farms_07_12</th>\n",
       "      <th>pct_loclfarm07</th>\n",
       "      <th>pct_loclfarm12</th>\n",
       "      <th>pct_loclsale07</th>\n",
       "      <th>pct_loclsale12</th>\n",
       "      <th>...</th>\n",
       "      <th>csa12</th>\n",
       "      <th>pch_csa_07_12</th>\n",
       "      <th>agritrsm_ops07</th>\n",
       "      <th>agritrsm_ops12</th>\n",
       "      <th>pch_agritrsm_ops_07_12</th>\n",
       "      <th>agritrsm_rct07</th>\n",
       "      <th>agritrsm_rct12</th>\n",
       "      <th>pch_agritrsm_rct_07_12</th>\n",
       "      <th>farm_to_school13</th>\n",
       "      <th>farm_to_school15</th>\n",
       "    </tr>\n",
       "  </thead>\n",
       "  <tbody>\n",
       "    <tr>\n",
       "      <th>81</th>\n",
       "      <td>2158</td>\n",
       "      <td>AK</td>\n",
       "      <td>Kusilvak Census Area</td>\n",
       "      <td>NaN</td>\n",
       "      <td>NaN</td>\n",
       "      <td>NaN</td>\n",
       "      <td>NaN</td>\n",
       "      <td>NaN</td>\n",
       "      <td>NaN</td>\n",
       "      <td>NaN</td>\n",
       "      <td>...</td>\n",
       "      <td>NaN</td>\n",
       "      <td>NaN</td>\n",
       "      <td>NaN</td>\n",
       "      <td>NaN</td>\n",
       "      <td>NaN</td>\n",
       "      <td>NaN</td>\n",
       "      <td>NaN</td>\n",
       "      <td>NaN</td>\n",
       "      <td>1.0</td>\n",
       "      <td>1.0</td>\n",
       "    </tr>\n",
       "  </tbody>\n",
       "</table>\n",
       "<p>1 rows × 100 columns</p>\n",
       "</div>"
      ],
      "text/plain": [
       "    fips state                county  dirsales_farms07  dirsales_farms12  \\\n",
       "81  2158    AK  Kusilvak Census Area               NaN               NaN   \n",
       "\n",
       "    pch_dirsales_farms_07_12  pct_loclfarm07  pct_loclfarm12  pct_loclsale07  \\\n",
       "81                       NaN             NaN             NaN             NaN   \n",
       "\n",
       "    pct_loclsale12  ...  csa12  pch_csa_07_12  agritrsm_ops07  agritrsm_ops12  \\\n",
       "81             NaN  ...    NaN            NaN             NaN             NaN   \n",
       "\n",
       "    pch_agritrsm_ops_07_12  agritrsm_rct07  agritrsm_rct12  \\\n",
       "81                     NaN             NaN             NaN   \n",
       "\n",
       "    pch_agritrsm_rct_07_12  farm_to_school13  farm_to_school15  \n",
       "81                     NaN               1.0               1.0  \n",
       "\n",
       "[1 rows x 100 columns]"
      ]
     },
     "execution_count": 473,
     "metadata": {},
     "output_type": "execute_result"
    }
   ],
   "source": [
    "local_rec.loc[local_rec['county'] == 'Kusilvak Census Area']"
   ]
  },
  {
   "cell_type": "markdown",
   "id": "c5a875fd",
   "metadata": {},
   "source": [
    "Certain rows in this dataframe are missing many values. However, the layout, top, bottom, and fips scores are the same match in the Local dataframe and Diabetes Atlas. I will add in the diabetes prevalence information."
   ]
  },
  {
   "cell_type": "code",
   "execution_count": 474,
   "id": "bbc89b5f",
   "metadata": {},
   "outputs": [
    {
     "data": {
      "text/html": [
       "<div>\n",
       "<style scoped>\n",
       "    .dataframe tbody tr th:only-of-type {\n",
       "        vertical-align: middle;\n",
       "    }\n",
       "\n",
       "    .dataframe tbody tr th {\n",
       "        vertical-align: top;\n",
       "    }\n",
       "\n",
       "    .dataframe thead th {\n",
       "        text-align: right;\n",
       "    }\n",
       "</style>\n",
       "<table border=\"1\" class=\"dataframe\">\n",
       "  <thead>\n",
       "    <tr style=\"text-align: right;\">\n",
       "      <th></th>\n",
       "      <th>fips</th>\n",
       "      <th>state</th>\n",
       "      <th>county</th>\n",
       "      <th>dirsales_farms07</th>\n",
       "      <th>dirsales_farms12</th>\n",
       "      <th>pch_dirsales_farms_07_12</th>\n",
       "      <th>pct_loclfarm07</th>\n",
       "      <th>pct_loclfarm12</th>\n",
       "      <th>pct_loclsale07</th>\n",
       "      <th>pct_loclsale12</th>\n",
       "      <th>...</th>\n",
       "      <th>agritrsm_ops07</th>\n",
       "      <th>agritrsm_ops12</th>\n",
       "      <th>pch_agritrsm_ops_07_12</th>\n",
       "      <th>agritrsm_rct07</th>\n",
       "      <th>agritrsm_rct12</th>\n",
       "      <th>pch_agritrsm_rct_07_12</th>\n",
       "      <th>farm_to_school13</th>\n",
       "      <th>farm_to_school15</th>\n",
       "      <th>pct_diabetes18</th>\n",
       "      <th>class</th>\n",
       "    </tr>\n",
       "  </thead>\n",
       "  <tbody>\n",
       "    <tr>\n",
       "      <th>0</th>\n",
       "      <td>1001</td>\n",
       "      <td>AL</td>\n",
       "      <td>Autauga</td>\n",
       "      <td>25.0</td>\n",
       "      <td>51.0</td>\n",
       "      <td>104.000000</td>\n",
       "      <td>6.024096</td>\n",
       "      <td>13.110540</td>\n",
       "      <td>0.596374</td>\n",
       "      <td>1.554692</td>\n",
       "      <td>...</td>\n",
       "      <td>7.0</td>\n",
       "      <td>10.0</td>\n",
       "      <td>42.857143</td>\n",
       "      <td>228000.0</td>\n",
       "      <td>146000.0</td>\n",
       "      <td>-35.964912</td>\n",
       "      <td>NaN</td>\n",
       "      <td>0.0</td>\n",
       "      <td>9.5</td>\n",
       "      <td>1.0</td>\n",
       "    </tr>\n",
       "    <tr>\n",
       "      <th>1</th>\n",
       "      <td>1003</td>\n",
       "      <td>AL</td>\n",
       "      <td>Baldwin</td>\n",
       "      <td>80.0</td>\n",
       "      <td>103.0</td>\n",
       "      <td>28.750000</td>\n",
       "      <td>7.023705</td>\n",
       "      <td>10.414560</td>\n",
       "      <td>0.712634</td>\n",
       "      <td>0.478010</td>\n",
       "      <td>...</td>\n",
       "      <td>18.0</td>\n",
       "      <td>16.0</td>\n",
       "      <td>-11.111111</td>\n",
       "      <td>124000.0</td>\n",
       "      <td>204000.0</td>\n",
       "      <td>64.516129</td>\n",
       "      <td>0.0</td>\n",
       "      <td>1.0</td>\n",
       "      <td>8.4</td>\n",
       "      <td>0.0</td>\n",
       "    </tr>\n",
       "    <tr>\n",
       "      <th>2</th>\n",
       "      <td>1005</td>\n",
       "      <td>AL</td>\n",
       "      <td>Barbour</td>\n",
       "      <td>18.0</td>\n",
       "      <td>13.0</td>\n",
       "      <td>-27.777778</td>\n",
       "      <td>2.889246</td>\n",
       "      <td>2.276708</td>\n",
       "      <td>0.015403</td>\n",
       "      <td>0.012457</td>\n",
       "      <td>...</td>\n",
       "      <td>27.0</td>\n",
       "      <td>32.0</td>\n",
       "      <td>18.518519</td>\n",
       "      <td>163000.0</td>\n",
       "      <td>304000.0</td>\n",
       "      <td>86.503067</td>\n",
       "      <td>1.0</td>\n",
       "      <td>0.0</td>\n",
       "      <td>13.5</td>\n",
       "      <td>1.0</td>\n",
       "    </tr>\n",
       "    <tr>\n",
       "      <th>3</th>\n",
       "      <td>1007</td>\n",
       "      <td>AL</td>\n",
       "      <td>Bibb</td>\n",
       "      <td>12.0</td>\n",
       "      <td>13.0</td>\n",
       "      <td>8.333333</td>\n",
       "      <td>5.687204</td>\n",
       "      <td>6.878307</td>\n",
       "      <td>NaN</td>\n",
       "      <td>NaN</td>\n",
       "      <td>...</td>\n",
       "      <td>5.0</td>\n",
       "      <td>6.0</td>\n",
       "      <td>20.000000</td>\n",
       "      <td>NaN</td>\n",
       "      <td>21000.0</td>\n",
       "      <td>NaN</td>\n",
       "      <td>0.0</td>\n",
       "      <td>0.0</td>\n",
       "      <td>10.2</td>\n",
       "      <td>1.0</td>\n",
       "    </tr>\n",
       "    <tr>\n",
       "      <th>4</th>\n",
       "      <td>1009</td>\n",
       "      <td>AL</td>\n",
       "      <td>Blount</td>\n",
       "      <td>84.0</td>\n",
       "      <td>88.0</td>\n",
       "      <td>4.761905</td>\n",
       "      <td>5.940594</td>\n",
       "      <td>7.091056</td>\n",
       "      <td>0.267717</td>\n",
       "      <td>0.277792</td>\n",
       "      <td>...</td>\n",
       "      <td>10.0</td>\n",
       "      <td>8.0</td>\n",
       "      <td>-20.000000</td>\n",
       "      <td>293000.0</td>\n",
       "      <td>30000.0</td>\n",
       "      <td>-89.761092</td>\n",
       "      <td>1.0</td>\n",
       "      <td>0.0</td>\n",
       "      <td>10.5</td>\n",
       "      <td>1.0</td>\n",
       "    </tr>\n",
       "  </tbody>\n",
       "</table>\n",
       "<p>5 rows × 102 columns</p>\n",
       "</div>"
      ],
      "text/plain": [
       "   fips state   county  dirsales_farms07  dirsales_farms12  \\\n",
       "0  1001    AL  Autauga              25.0              51.0   \n",
       "1  1003    AL  Baldwin              80.0             103.0   \n",
       "2  1005    AL  Barbour              18.0              13.0   \n",
       "3  1007    AL     Bibb              12.0              13.0   \n",
       "4  1009    AL   Blount              84.0              88.0   \n",
       "\n",
       "   pch_dirsales_farms_07_12  pct_loclfarm07  pct_loclfarm12  pct_loclsale07  \\\n",
       "0                104.000000        6.024096       13.110540        0.596374   \n",
       "1                 28.750000        7.023705       10.414560        0.712634   \n",
       "2                -27.777778        2.889246        2.276708        0.015403   \n",
       "3                  8.333333        5.687204        6.878307             NaN   \n",
       "4                  4.761905        5.940594        7.091056        0.267717   \n",
       "\n",
       "   pct_loclsale12  ...  agritrsm_ops07  agritrsm_ops12  \\\n",
       "0        1.554692  ...             7.0            10.0   \n",
       "1        0.478010  ...            18.0            16.0   \n",
       "2        0.012457  ...            27.0            32.0   \n",
       "3             NaN  ...             5.0             6.0   \n",
       "4        0.277792  ...            10.0             8.0   \n",
       "\n",
       "   pch_agritrsm_ops_07_12  agritrsm_rct07  agritrsm_rct12  \\\n",
       "0               42.857143        228000.0        146000.0   \n",
       "1              -11.111111        124000.0        204000.0   \n",
       "2               18.518519        163000.0        304000.0   \n",
       "3               20.000000             NaN         21000.0   \n",
       "4              -20.000000        293000.0         30000.0   \n",
       "\n",
       "   pch_agritrsm_rct_07_12  farm_to_school13  farm_to_school15  pct_diabetes18  \\\n",
       "0              -35.964912               NaN               0.0             9.5   \n",
       "1               64.516129               0.0               1.0             8.4   \n",
       "2               86.503067               1.0               0.0            13.5   \n",
       "3                     NaN               0.0               0.0            10.2   \n",
       "4              -89.761092               1.0               0.0            10.5   \n",
       "\n",
       "   class  \n",
       "0    1.0  \n",
       "1    0.0  \n",
       "2    1.0  \n",
       "3    1.0  \n",
       "4    1.0  \n",
       "\n",
       "[5 rows x 102 columns]"
      ]
     },
     "execution_count": 474,
     "metadata": {},
     "output_type": "execute_result"
    }
   ],
   "source": [
    "local_rec['pct_diabetes18'] = d18_rec['pct_diabetes18']\n",
    "\n",
    "local_rec['class'] = d18_rec['class']\n",
    "\n",
    "local_rec.head()"
   ]
  },
  {
   "cell_type": "code",
   "execution_count": 475,
   "id": "757172f9",
   "metadata": {},
   "outputs": [
    {
     "data": {
      "text/plain": [
       "(3142, 102)"
      ]
     },
     "execution_count": 475,
     "metadata": {},
     "output_type": "execute_result"
    }
   ],
   "source": [
    "local_rec.shape"
   ]
  },
  {
   "cell_type": "markdown",
   "id": "5d739e97",
   "metadata": {},
   "source": [
    "The diabetes information has been added. I will now split the data into seperate dataframes, and then address the null values."
   ]
  },
  {
   "cell_type": "markdown",
   "id": "cf35cb46",
   "metadata": {},
   "source": [
    "### 1. Sales"
   ]
  },
  {
   "cell_type": "code",
   "execution_count": 476,
   "id": "b3fdd09c",
   "metadata": {},
   "outputs": [],
   "source": [
    "local_sales = local_rec[['fips', 'state', 'county', 'dirsales_farms07', 'dirsales_farms12',\n",
    "       'pch_dirsales_farms_07_12', 'pct_loclfarm07', 'pct_loclfarm12',\n",
    "       'pct_loclsale07', 'pct_loclsale12', 'dirsales07', 'dirsales12',\n",
    "       'pch_dirsales_07_12', 'pc_dirsales07', 'pc_dirsales12',\n",
    "       'pch_pc_dirsales_07_12','pct_diabetes18', 'class']]"
   ]
  },
  {
   "cell_type": "code",
   "execution_count": 477,
   "id": "1b3e9d97",
   "metadata": {},
   "outputs": [],
   "source": [
    "local_sales = pd.DataFrame(local_sales)"
   ]
  },
  {
   "cell_type": "code",
   "execution_count": 478,
   "id": "2e6ed80b",
   "metadata": {},
   "outputs": [
    {
     "data": {
      "text/plain": [
       "fips                          0\n",
       "state                         0\n",
       "county                        0\n",
       "dirsales_farms07             62\n",
       "dirsales_farms12             62\n",
       "pch_dirsales_farms_07_12    123\n",
       "pct_loclfarm07               68\n",
       "pct_loclfarm12               67\n",
       "pct_loclsale07              345\n",
       "pct_loclsale12              286\n",
       "dirsales07                  287\n",
       "dirsales12                  241\n",
       "pch_dirsales_07_12          458\n",
       "pc_dirsales07               287\n",
       "pc_dirsales12               242\n",
       "pch_pc_dirsales_07_12       458\n",
       "pct_diabetes18                0\n",
       "class                         0\n",
       "dtype: int64"
      ]
     },
     "execution_count": 478,
     "metadata": {},
     "output_type": "execute_result"
    }
   ],
   "source": [
    "local_sales.isnull().sum()"
   ]
  },
  {
   "cell_type": "markdown",
   "id": "5044c4e8",
   "metadata": {},
   "source": [
    "##### Percent change columns"
   ]
  },
  {
   "cell_type": "markdown",
   "id": "6799a008",
   "metadata": {},
   "source": [
    "My hypothesis is that the percent change columns may be missing (among others) values in which there would need to be division by zero. I will display the empty values of one of the percent change columns."
   ]
  },
  {
   "cell_type": "code",
   "execution_count": 479,
   "id": "6d51696a",
   "metadata": {},
   "outputs": [
    {
     "data": {
      "text/html": [
       "<div>\n",
       "<style scoped>\n",
       "    .dataframe tbody tr th:only-of-type {\n",
       "        vertical-align: middle;\n",
       "    }\n",
       "\n",
       "    .dataframe tbody tr th {\n",
       "        vertical-align: top;\n",
       "    }\n",
       "\n",
       "    .dataframe thead th {\n",
       "        text-align: right;\n",
       "    }\n",
       "</style>\n",
       "<table border=\"1\" class=\"dataframe\">\n",
       "  <thead>\n",
       "    <tr style=\"text-align: right;\">\n",
       "      <th></th>\n",
       "      <th>fips</th>\n",
       "      <th>state</th>\n",
       "      <th>county</th>\n",
       "      <th>dirsales_farms07</th>\n",
       "      <th>dirsales_farms12</th>\n",
       "      <th>pch_dirsales_farms_07_12</th>\n",
       "      <th>pct_loclfarm07</th>\n",
       "      <th>pct_loclfarm12</th>\n",
       "      <th>pct_loclsale07</th>\n",
       "      <th>pct_loclsale12</th>\n",
       "      <th>dirsales07</th>\n",
       "      <th>dirsales12</th>\n",
       "      <th>pch_dirsales_07_12</th>\n",
       "      <th>pc_dirsales07</th>\n",
       "      <th>pc_dirsales12</th>\n",
       "      <th>pch_pc_dirsales_07_12</th>\n",
       "      <th>pct_diabetes18</th>\n",
       "      <th>class</th>\n",
       "    </tr>\n",
       "  </thead>\n",
       "  <tbody>\n",
       "    <tr>\n",
       "      <th>67</th>\n",
       "      <td>2013</td>\n",
       "      <td>AK</td>\n",
       "      <td>Aleutians East</td>\n",
       "      <td>NaN</td>\n",
       "      <td>NaN</td>\n",
       "      <td>NaN</td>\n",
       "      <td>NaN</td>\n",
       "      <td>NaN</td>\n",
       "      <td>NaN</td>\n",
       "      <td>NaN</td>\n",
       "      <td>NaN</td>\n",
       "      <td>NaN</td>\n",
       "      <td>NaN</td>\n",
       "      <td>NaN</td>\n",
       "      <td>NaN</td>\n",
       "      <td>NaN</td>\n",
       "      <td>9.3</td>\n",
       "      <td>1.0</td>\n",
       "    </tr>\n",
       "    <tr>\n",
       "      <th>68</th>\n",
       "      <td>2016</td>\n",
       "      <td>AK</td>\n",
       "      <td>Aleutians West</td>\n",
       "      <td>NaN</td>\n",
       "      <td>NaN</td>\n",
       "      <td>NaN</td>\n",
       "      <td>NaN</td>\n",
       "      <td>NaN</td>\n",
       "      <td>NaN</td>\n",
       "      <td>NaN</td>\n",
       "      <td>NaN</td>\n",
       "      <td>NaN</td>\n",
       "      <td>NaN</td>\n",
       "      <td>NaN</td>\n",
       "      <td>NaN</td>\n",
       "      <td>NaN</td>\n",
       "      <td>7.9</td>\n",
       "      <td>0.0</td>\n",
       "    </tr>\n",
       "    <tr>\n",
       "      <th>70</th>\n",
       "      <td>2050</td>\n",
       "      <td>AK</td>\n",
       "      <td>Bethel</td>\n",
       "      <td>NaN</td>\n",
       "      <td>NaN</td>\n",
       "      <td>NaN</td>\n",
       "      <td>NaN</td>\n",
       "      <td>NaN</td>\n",
       "      <td>NaN</td>\n",
       "      <td>NaN</td>\n",
       "      <td>NaN</td>\n",
       "      <td>NaN</td>\n",
       "      <td>NaN</td>\n",
       "      <td>NaN</td>\n",
       "      <td>NaN</td>\n",
       "      <td>NaN</td>\n",
       "      <td>8.0</td>\n",
       "      <td>0.0</td>\n",
       "    </tr>\n",
       "    <tr>\n",
       "      <th>71</th>\n",
       "      <td>2060</td>\n",
       "      <td>AK</td>\n",
       "      <td>Bristol Bay</td>\n",
       "      <td>NaN</td>\n",
       "      <td>NaN</td>\n",
       "      <td>NaN</td>\n",
       "      <td>NaN</td>\n",
       "      <td>NaN</td>\n",
       "      <td>NaN</td>\n",
       "      <td>NaN</td>\n",
       "      <td>NaN</td>\n",
       "      <td>NaN</td>\n",
       "      <td>NaN</td>\n",
       "      <td>NaN</td>\n",
       "      <td>NaN</td>\n",
       "      <td>NaN</td>\n",
       "      <td>9.1</td>\n",
       "      <td>1.0</td>\n",
       "    </tr>\n",
       "    <tr>\n",
       "      <th>72</th>\n",
       "      <td>2068</td>\n",
       "      <td>AK</td>\n",
       "      <td>Denali</td>\n",
       "      <td>NaN</td>\n",
       "      <td>NaN</td>\n",
       "      <td>NaN</td>\n",
       "      <td>NaN</td>\n",
       "      <td>NaN</td>\n",
       "      <td>NaN</td>\n",
       "      <td>NaN</td>\n",
       "      <td>NaN</td>\n",
       "      <td>NaN</td>\n",
       "      <td>NaN</td>\n",
       "      <td>NaN</td>\n",
       "      <td>NaN</td>\n",
       "      <td>NaN</td>\n",
       "      <td>6.8</td>\n",
       "      <td>0.0</td>\n",
       "    </tr>\n",
       "    <tr>\n",
       "      <th>...</th>\n",
       "      <td>...</td>\n",
       "      <td>...</td>\n",
       "      <td>...</td>\n",
       "      <td>...</td>\n",
       "      <td>...</td>\n",
       "      <td>...</td>\n",
       "      <td>...</td>\n",
       "      <td>...</td>\n",
       "      <td>...</td>\n",
       "      <td>...</td>\n",
       "      <td>...</td>\n",
       "      <td>...</td>\n",
       "      <td>...</td>\n",
       "      <td>...</td>\n",
       "      <td>...</td>\n",
       "      <td>...</td>\n",
       "      <td>...</td>\n",
       "      <td>...</td>\n",
       "    </tr>\n",
       "    <tr>\n",
       "      <th>2947</th>\n",
       "      <td>51790</td>\n",
       "      <td>VA</td>\n",
       "      <td>Staunton</td>\n",
       "      <td>NaN</td>\n",
       "      <td>NaN</td>\n",
       "      <td>NaN</td>\n",
       "      <td>NaN</td>\n",
       "      <td>NaN</td>\n",
       "      <td>NaN</td>\n",
       "      <td>NaN</td>\n",
       "      <td>NaN</td>\n",
       "      <td>NaN</td>\n",
       "      <td>NaN</td>\n",
       "      <td>NaN</td>\n",
       "      <td>NaN</td>\n",
       "      <td>NaN</td>\n",
       "      <td>9.3</td>\n",
       "      <td>1.0</td>\n",
       "    </tr>\n",
       "    <tr>\n",
       "      <th>2950</th>\n",
       "      <td>51820</td>\n",
       "      <td>VA</td>\n",
       "      <td>Waynesboro</td>\n",
       "      <td>NaN</td>\n",
       "      <td>NaN</td>\n",
       "      <td>NaN</td>\n",
       "      <td>NaN</td>\n",
       "      <td>NaN</td>\n",
       "      <td>NaN</td>\n",
       "      <td>NaN</td>\n",
       "      <td>NaN</td>\n",
       "      <td>NaN</td>\n",
       "      <td>NaN</td>\n",
       "      <td>NaN</td>\n",
       "      <td>NaN</td>\n",
       "      <td>NaN</td>\n",
       "      <td>13.2</td>\n",
       "      <td>1.0</td>\n",
       "    </tr>\n",
       "    <tr>\n",
       "      <th>2951</th>\n",
       "      <td>51830</td>\n",
       "      <td>VA</td>\n",
       "      <td>Williamsburg</td>\n",
       "      <td>NaN</td>\n",
       "      <td>NaN</td>\n",
       "      <td>NaN</td>\n",
       "      <td>NaN</td>\n",
       "      <td>NaN</td>\n",
       "      <td>NaN</td>\n",
       "      <td>NaN</td>\n",
       "      <td>NaN</td>\n",
       "      <td>NaN</td>\n",
       "      <td>NaN</td>\n",
       "      <td>NaN</td>\n",
       "      <td>NaN</td>\n",
       "      <td>NaN</td>\n",
       "      <td>9.0</td>\n",
       "      <td>1.0</td>\n",
       "    </tr>\n",
       "    <tr>\n",
       "      <th>2952</th>\n",
       "      <td>51840</td>\n",
       "      <td>VA</td>\n",
       "      <td>Winchester</td>\n",
       "      <td>NaN</td>\n",
       "      <td>NaN</td>\n",
       "      <td>NaN</td>\n",
       "      <td>NaN</td>\n",
       "      <td>NaN</td>\n",
       "      <td>NaN</td>\n",
       "      <td>NaN</td>\n",
       "      <td>NaN</td>\n",
       "      <td>NaN</td>\n",
       "      <td>NaN</td>\n",
       "      <td>NaN</td>\n",
       "      <td>NaN</td>\n",
       "      <td>NaN</td>\n",
       "      <td>9.3</td>\n",
       "      <td>1.0</td>\n",
       "    </tr>\n",
       "    <tr>\n",
       "      <th>3014</th>\n",
       "      <td>54045</td>\n",
       "      <td>WV</td>\n",
       "      <td>Logan</td>\n",
       "      <td>0.0</td>\n",
       "      <td>0.0</td>\n",
       "      <td>NaN</td>\n",
       "      <td>0.0</td>\n",
       "      <td>0.0</td>\n",
       "      <td>NaN</td>\n",
       "      <td>0.0</td>\n",
       "      <td>0.0</td>\n",
       "      <td>0.0</td>\n",
       "      <td>NaN</td>\n",
       "      <td>0.0</td>\n",
       "      <td>0.0</td>\n",
       "      <td>NaN</td>\n",
       "      <td>14.1</td>\n",
       "      <td>1.0</td>\n",
       "    </tr>\n",
       "  </tbody>\n",
       "</table>\n",
       "<p>123 rows × 18 columns</p>\n",
       "</div>"
      ],
      "text/plain": [
       "       fips state          county  dirsales_farms07  dirsales_farms12  \\\n",
       "67     2013    AK  Aleutians East               NaN               NaN   \n",
       "68     2016    AK  Aleutians West               NaN               NaN   \n",
       "70     2050    AK          Bethel               NaN               NaN   \n",
       "71     2060    AK     Bristol Bay               NaN               NaN   \n",
       "72     2068    AK          Denali               NaN               NaN   \n",
       "...     ...   ...             ...               ...               ...   \n",
       "2947  51790    VA        Staunton               NaN               NaN   \n",
       "2950  51820    VA      Waynesboro               NaN               NaN   \n",
       "2951  51830    VA    Williamsburg               NaN               NaN   \n",
       "2952  51840    VA      Winchester               NaN               NaN   \n",
       "3014  54045    WV           Logan               0.0               0.0   \n",
       "\n",
       "      pch_dirsales_farms_07_12  pct_loclfarm07  pct_loclfarm12  \\\n",
       "67                         NaN             NaN             NaN   \n",
       "68                         NaN             NaN             NaN   \n",
       "70                         NaN             NaN             NaN   \n",
       "71                         NaN             NaN             NaN   \n",
       "72                         NaN             NaN             NaN   \n",
       "...                        ...             ...             ...   \n",
       "2947                       NaN             NaN             NaN   \n",
       "2950                       NaN             NaN             NaN   \n",
       "2951                       NaN             NaN             NaN   \n",
       "2952                       NaN             NaN             NaN   \n",
       "3014                       NaN             0.0             0.0   \n",
       "\n",
       "      pct_loclsale07  pct_loclsale12  dirsales07  dirsales12  \\\n",
       "67               NaN             NaN         NaN         NaN   \n",
       "68               NaN             NaN         NaN         NaN   \n",
       "70               NaN             NaN         NaN         NaN   \n",
       "71               NaN             NaN         NaN         NaN   \n",
       "72               NaN             NaN         NaN         NaN   \n",
       "...              ...             ...         ...         ...   \n",
       "2947             NaN             NaN         NaN         NaN   \n",
       "2950             NaN             NaN         NaN         NaN   \n",
       "2951             NaN             NaN         NaN         NaN   \n",
       "2952             NaN             NaN         NaN         NaN   \n",
       "3014             NaN             0.0         0.0         0.0   \n",
       "\n",
       "      pch_dirsales_07_12  pc_dirsales07  pc_dirsales12  pch_pc_dirsales_07_12  \\\n",
       "67                   NaN            NaN            NaN                    NaN   \n",
       "68                   NaN            NaN            NaN                    NaN   \n",
       "70                   NaN            NaN            NaN                    NaN   \n",
       "71                   NaN            NaN            NaN                    NaN   \n",
       "72                   NaN            NaN            NaN                    NaN   \n",
       "...                  ...            ...            ...                    ...   \n",
       "2947                 NaN            NaN            NaN                    NaN   \n",
       "2950                 NaN            NaN            NaN                    NaN   \n",
       "2951                 NaN            NaN            NaN                    NaN   \n",
       "2952                 NaN            NaN            NaN                    NaN   \n",
       "3014                 NaN            0.0            0.0                    NaN   \n",
       "\n",
       "      pct_diabetes18  class  \n",
       "67               9.3    1.0  \n",
       "68               7.9    0.0  \n",
       "70               8.0    0.0  \n",
       "71               9.1    1.0  \n",
       "72               6.8    0.0  \n",
       "...              ...    ...  \n",
       "2947             9.3    1.0  \n",
       "2950            13.2    1.0  \n",
       "2951             9.0    1.0  \n",
       "2952             9.3    1.0  \n",
       "3014            14.1    1.0  \n",
       "\n",
       "[123 rows x 18 columns]"
      ]
     },
     "execution_count": 479,
     "metadata": {},
     "output_type": "execute_result"
    }
   ],
   "source": [
    "local_sales.loc[local_sales['pch_dirsales_farms_07_12'].isnull()]"
   ]
  },
  {
   "cell_type": "markdown",
   "id": "b6745597",
   "metadata": {},
   "source": [
    "In this case, it seems the problem is that there were no values with which to calculate a percent change.\n",
    "\n",
    "While I would like to predict for as many counties as possible, I think I will need to drop rows that are missing values. I will still be able to predict for the excluded counties using other datasets."
   ]
  },
  {
   "cell_type": "code",
   "execution_count": 480,
   "id": "addbdecb",
   "metadata": {},
   "outputs": [],
   "source": [
    "local_sales = local_sales.dropna()"
   ]
  },
  {
   "cell_type": "code",
   "execution_count": 481,
   "id": "0af183b2",
   "metadata": {},
   "outputs": [
    {
     "data": {
      "text/plain": [
       "fips                        0\n",
       "state                       0\n",
       "county                      0\n",
       "dirsales_farms07            0\n",
       "dirsales_farms12            0\n",
       "pch_dirsales_farms_07_12    0\n",
       "pct_loclfarm07              0\n",
       "pct_loclfarm12              0\n",
       "pct_loclsale07              0\n",
       "pct_loclsale12              0\n",
       "dirsales07                  0\n",
       "dirsales12                  0\n",
       "pch_dirsales_07_12          0\n",
       "pc_dirsales07               0\n",
       "pc_dirsales12               0\n",
       "pch_pc_dirsales_07_12       0\n",
       "pct_diabetes18              0\n",
       "class                       0\n",
       "dtype: int64"
      ]
     },
     "execution_count": 481,
     "metadata": {},
     "output_type": "execute_result"
    }
   ],
   "source": [
    "local_sales.isnull().sum()"
   ]
  },
  {
   "cell_type": "markdown",
   "id": "cdb122ed",
   "metadata": {},
   "source": [
    "The rows missing values have been removed. I will observe the revised layout of the dataframe."
   ]
  },
  {
   "cell_type": "code",
   "execution_count": 482,
   "id": "100b0957",
   "metadata": {},
   "outputs": [
    {
     "data": {
      "text/plain": [
       "(2624, 18)"
      ]
     },
     "execution_count": 482,
     "metadata": {},
     "output_type": "execute_result"
    }
   ],
   "source": [
    "local_sales.shape"
   ]
  },
  {
   "cell_type": "markdown",
   "id": "882e2905",
   "metadata": {},
   "source": [
    "Using this dataset, I will still be able to predict for the majority of counties. \n",
    "\n",
    "The dataframe will be saved as a csv file for later modeling."
   ]
  },
  {
   "cell_type": "code",
   "execution_count": 483,
   "id": "a15c9523",
   "metadata": {},
   "outputs": [],
   "source": [
    "local_sales.to_csv('../data/FoodEnvironmentAtlas.xls.LOCAL_Modeling_Sales.csv', index=False)"
   ]
  },
  {
   "cell_type": "markdown",
   "id": "5db1b9b6",
   "metadata": {},
   "source": [
    "I will now move to the next subset."
   ]
  },
  {
   "cell_type": "markdown",
   "id": "2d304bf5",
   "metadata": {},
   "source": [
    "### 2. Farmer's Markets - Payment"
   ]
  },
  {
   "cell_type": "code",
   "execution_count": 484,
   "id": "a9a0b3a8",
   "metadata": {},
   "outputs": [],
   "source": [
    "local_frmrkt_payment = local_rec[['fips', 'state', 'county', 'fmrkt13', 'fmrkt18', 'pch_fmrkt_13_18',\n",
    "       'fmrktpth13', 'fmrktpth18', 'pch_fmrktpth_13_18', 'fmrkt_snap18',\n",
    "       'pct_fmrkt_snap18', 'fmrkt_wic18', 'pct_fmrkt_wic18', 'fmrkt_wiccash18',\n",
    "       'pct_fmrkt_wiccash18', 'fmrkt_sfmnp18', 'pct_fmrkt_sfmnp18',\n",
    "       'fmrkt_credit18', 'pct_fmrkt_credit18', 'pct_diabetes18', 'class']]"
   ]
  },
  {
   "cell_type": "code",
   "execution_count": 485,
   "id": "4edc735d",
   "metadata": {},
   "outputs": [],
   "source": [
    "local_frmrkt_payment = pd.DataFrame(local_frmrkt_payment)"
   ]
  },
  {
   "cell_type": "code",
   "execution_count": 486,
   "id": "4f207542",
   "metadata": {},
   "outputs": [
    {
     "data": {
      "text/plain": [
       "fips                     0\n",
       "state                    0\n",
       "county                   0\n",
       "fmrkt13                  1\n",
       "fmrkt18                  1\n",
       "pch_fmrkt_13_18        166\n",
       "fmrktpth13               2\n",
       "fmrktpth18               2\n",
       "pch_fmrktpth_13_18     167\n",
       "fmrkt_snap18             1\n",
       "pct_fmrkt_snap18         1\n",
       "fmrkt_wic18              1\n",
       "pct_fmrkt_wic18          1\n",
       "fmrkt_wiccash18          1\n",
       "pct_fmrkt_wiccash18      1\n",
       "fmrkt_sfmnp18            1\n",
       "pct_fmrkt_sfmnp18        1\n",
       "fmrkt_credit18           1\n",
       "pct_fmrkt_credit18       1\n",
       "pct_diabetes18           0\n",
       "class                    0\n",
       "dtype: int64"
      ]
     },
     "execution_count": 486,
     "metadata": {},
     "output_type": "execute_result"
    }
   ],
   "source": [
    "local_frmrkt_payment.isnull().sum()"
   ]
  },
  {
   "cell_type": "markdown",
   "id": "6c5342d5",
   "metadata": {},
   "source": [
    "There may be one row that is missing the vast majority of its data. I will observe."
   ]
  },
  {
   "cell_type": "code",
   "execution_count": 487,
   "id": "f6ef1c1a",
   "metadata": {},
   "outputs": [
    {
     "data": {
      "text/html": [
       "<div>\n",
       "<style scoped>\n",
       "    .dataframe tbody tr th:only-of-type {\n",
       "        vertical-align: middle;\n",
       "    }\n",
       "\n",
       "    .dataframe tbody tr th {\n",
       "        vertical-align: top;\n",
       "    }\n",
       "\n",
       "    .dataframe thead th {\n",
       "        text-align: right;\n",
       "    }\n",
       "</style>\n",
       "<table border=\"1\" class=\"dataframe\">\n",
       "  <thead>\n",
       "    <tr style=\"text-align: right;\">\n",
       "      <th></th>\n",
       "      <th>fips</th>\n",
       "      <th>state</th>\n",
       "      <th>county</th>\n",
       "      <th>fmrkt13</th>\n",
       "      <th>fmrkt18</th>\n",
       "      <th>pch_fmrkt_13_18</th>\n",
       "      <th>fmrktpth13</th>\n",
       "      <th>fmrktpth18</th>\n",
       "      <th>pch_fmrktpth_13_18</th>\n",
       "      <th>fmrkt_snap18</th>\n",
       "      <th>...</th>\n",
       "      <th>fmrkt_wic18</th>\n",
       "      <th>pct_fmrkt_wic18</th>\n",
       "      <th>fmrkt_wiccash18</th>\n",
       "      <th>pct_fmrkt_wiccash18</th>\n",
       "      <th>fmrkt_sfmnp18</th>\n",
       "      <th>pct_fmrkt_sfmnp18</th>\n",
       "      <th>fmrkt_credit18</th>\n",
       "      <th>pct_fmrkt_credit18</th>\n",
       "      <th>pct_diabetes18</th>\n",
       "      <th>class</th>\n",
       "    </tr>\n",
       "  </thead>\n",
       "  <tbody>\n",
       "    <tr>\n",
       "      <th>81</th>\n",
       "      <td>2158</td>\n",
       "      <td>AK</td>\n",
       "      <td>Kusilvak Census Area</td>\n",
       "      <td>NaN</td>\n",
       "      <td>NaN</td>\n",
       "      <td>NaN</td>\n",
       "      <td>NaN</td>\n",
       "      <td>NaN</td>\n",
       "      <td>NaN</td>\n",
       "      <td>NaN</td>\n",
       "      <td>...</td>\n",
       "      <td>NaN</td>\n",
       "      <td>NaN</td>\n",
       "      <td>NaN</td>\n",
       "      <td>NaN</td>\n",
       "      <td>NaN</td>\n",
       "      <td>NaN</td>\n",
       "      <td>NaN</td>\n",
       "      <td>NaN</td>\n",
       "      <td>7.4</td>\n",
       "      <td>0.0</td>\n",
       "    </tr>\n",
       "  </tbody>\n",
       "</table>\n",
       "<p>1 rows × 21 columns</p>\n",
       "</div>"
      ],
      "text/plain": [
       "    fips state                county  fmrkt13  fmrkt18  pch_fmrkt_13_18  \\\n",
       "81  2158    AK  Kusilvak Census Area      NaN      NaN              NaN   \n",
       "\n",
       "    fmrktpth13  fmrktpth18  pch_fmrktpth_13_18  fmrkt_snap18  ...  \\\n",
       "81         NaN         NaN                 NaN           NaN  ...   \n",
       "\n",
       "    fmrkt_wic18  pct_fmrkt_wic18  fmrkt_wiccash18  pct_fmrkt_wiccash18  \\\n",
       "81          NaN              NaN              NaN                  NaN   \n",
       "\n",
       "    fmrkt_sfmnp18  pct_fmrkt_sfmnp18  fmrkt_credit18  pct_fmrkt_credit18  \\\n",
       "81            NaN                NaN             NaN                 NaN   \n",
       "\n",
       "    pct_diabetes18  class  \n",
       "81             7.4    0.0  \n",
       "\n",
       "[1 rows x 21 columns]"
      ]
     },
     "execution_count": 487,
     "metadata": {},
     "output_type": "execute_result"
    }
   ],
   "source": [
    "local_frmrkt_payment.loc[local_frmrkt_payment['fmrkt13'].isnull()]"
   ]
  },
  {
   "cell_type": "markdown",
   "id": "5e933dfb",
   "metadata": {},
   "source": [
    "It happens to be the Kusilvak Census area.\n",
    "\n",
    "Regardless, I cannot use this row since it only contains the diabetes data. In fact, I would not like to use rows that are missing data at all. \n",
    "\n",
    "First, I will drop the columns (involving percent change) that are missing data in 166/167 rows. Since these are percent change values, they are not necessary anyway. "
   ]
  },
  {
   "cell_type": "code",
   "execution_count": 488,
   "id": "a37047ff",
   "metadata": {},
   "outputs": [
    {
     "data": {
      "text/plain": [
       "fips                   0\n",
       "state                  0\n",
       "county                 0\n",
       "fmrkt13                1\n",
       "fmrkt18                1\n",
       "fmrktpth13             2\n",
       "fmrktpth18             2\n",
       "fmrkt_snap18           1\n",
       "pct_fmrkt_snap18       1\n",
       "fmrkt_wic18            1\n",
       "pct_fmrkt_wic18        1\n",
       "fmrkt_wiccash18        1\n",
       "pct_fmrkt_wiccash18    1\n",
       "fmrkt_sfmnp18          1\n",
       "pct_fmrkt_sfmnp18      1\n",
       "fmrkt_credit18         1\n",
       "pct_fmrkt_credit18     1\n",
       "pct_diabetes18         0\n",
       "class                  0\n",
       "dtype: int64"
      ]
     },
     "execution_count": 488,
     "metadata": {},
     "output_type": "execute_result"
    }
   ],
   "source": [
    "local_frmrkt_payment.drop(columns = ['pch_fmrkt_13_18', 'pch_fmrktpth_13_18'], inplace = True)\n",
    "\n",
    "local_frmrkt_payment.isnull().sum()"
   ]
  },
  {
   "cell_type": "markdown",
   "id": "68217b08",
   "metadata": {},
   "source": [
    "Additionally, I will drop the Kusilvak Census Area, since it is missing most of its values."
   ]
  },
  {
   "cell_type": "code",
   "execution_count": 489,
   "id": "1300a7bb",
   "metadata": {},
   "outputs": [
    {
     "data": {
      "text/plain": [
       "fips                   0\n",
       "state                  0\n",
       "county                 0\n",
       "fmrkt13                0\n",
       "fmrkt18                0\n",
       "fmrktpth13             1\n",
       "fmrktpth18             1\n",
       "fmrkt_snap18           0\n",
       "pct_fmrkt_snap18       0\n",
       "fmrkt_wic18            0\n",
       "pct_fmrkt_wic18        0\n",
       "fmrkt_wiccash18        0\n",
       "pct_fmrkt_wiccash18    0\n",
       "fmrkt_sfmnp18          0\n",
       "pct_fmrkt_sfmnp18      0\n",
       "fmrkt_credit18         0\n",
       "pct_fmrkt_credit18     0\n",
       "pct_diabetes18         0\n",
       "class                  0\n",
       "dtype: int64"
      ]
     },
     "execution_count": 489,
     "metadata": {},
     "output_type": "execute_result"
    }
   ],
   "source": [
    "local_frmrkt_payment = local_frmrkt_payment[local_frmrkt_payment['county'] != 'Kusilvak Census Area']\n",
    "\n",
    "local_frmrkt_payment.isnull().sum()"
   ]
  },
  {
   "cell_type": "markdown",
   "id": "6ca9512f",
   "metadata": {},
   "source": [
    "Kusilvak Census Area has been dropped. It appears there may be one county missing its farmer's market 13 and 18 columns. I will observe."
   ]
  },
  {
   "cell_type": "code",
   "execution_count": 490,
   "id": "03cf6dc0",
   "metadata": {},
   "outputs": [
    {
     "data": {
      "text/html": [
       "<div>\n",
       "<style scoped>\n",
       "    .dataframe tbody tr th:only-of-type {\n",
       "        vertical-align: middle;\n",
       "    }\n",
       "\n",
       "    .dataframe tbody tr th {\n",
       "        vertical-align: top;\n",
       "    }\n",
       "\n",
       "    .dataframe thead th {\n",
       "        text-align: right;\n",
       "    }\n",
       "</style>\n",
       "<table border=\"1\" class=\"dataframe\">\n",
       "  <thead>\n",
       "    <tr style=\"text-align: right;\">\n",
       "      <th></th>\n",
       "      <th>fips</th>\n",
       "      <th>state</th>\n",
       "      <th>county</th>\n",
       "      <th>fmrkt13</th>\n",
       "      <th>fmrkt18</th>\n",
       "      <th>fmrktpth13</th>\n",
       "      <th>fmrktpth18</th>\n",
       "      <th>fmrkt_snap18</th>\n",
       "      <th>pct_fmrkt_snap18</th>\n",
       "      <th>fmrkt_wic18</th>\n",
       "      <th>pct_fmrkt_wic18</th>\n",
       "      <th>fmrkt_wiccash18</th>\n",
       "      <th>pct_fmrkt_wiccash18</th>\n",
       "      <th>fmrkt_sfmnp18</th>\n",
       "      <th>pct_fmrkt_sfmnp18</th>\n",
       "      <th>fmrkt_credit18</th>\n",
       "      <th>pct_fmrkt_credit18</th>\n",
       "      <th>pct_diabetes18</th>\n",
       "      <th>class</th>\n",
       "    </tr>\n",
       "  </thead>\n",
       "  <tbody>\n",
       "    <tr>\n",
       "      <th>2412</th>\n",
       "      <td>46102</td>\n",
       "      <td>SD</td>\n",
       "      <td>Oglala Lakota</td>\n",
       "      <td>1.0</td>\n",
       "      <td>1.0</td>\n",
       "      <td>NaN</td>\n",
       "      <td>NaN</td>\n",
       "      <td>1.0</td>\n",
       "      <td>100.0</td>\n",
       "      <td>0.0</td>\n",
       "      <td>0.0</td>\n",
       "      <td>0.0</td>\n",
       "      <td>0.0</td>\n",
       "      <td>1.0</td>\n",
       "      <td>100.0</td>\n",
       "      <td>1.0</td>\n",
       "      <td>100.0</td>\n",
       "      <td>17.9</td>\n",
       "      <td>1.0</td>\n",
       "    </tr>\n",
       "  </tbody>\n",
       "</table>\n",
       "</div>"
      ],
      "text/plain": [
       "       fips state         county  fmrkt13  fmrkt18  fmrktpth13  fmrktpth18  \\\n",
       "2412  46102    SD  Oglala Lakota      1.0      1.0         NaN         NaN   \n",
       "\n",
       "      fmrkt_snap18  pct_fmrkt_snap18  fmrkt_wic18  pct_fmrkt_wic18  \\\n",
       "2412           1.0             100.0          0.0              0.0   \n",
       "\n",
       "      fmrkt_wiccash18  pct_fmrkt_wiccash18  fmrkt_sfmnp18  pct_fmrkt_sfmnp18  \\\n",
       "2412              0.0                  0.0            1.0              100.0   \n",
       "\n",
       "      fmrkt_credit18  pct_fmrkt_credit18  pct_diabetes18  class  \n",
       "2412             1.0               100.0            17.9    1.0  "
      ]
     },
     "execution_count": 490,
     "metadata": {},
     "output_type": "execute_result"
    }
   ],
   "source": [
    "local_frmrkt_payment.loc[local_frmrkt_payment['fmrktpth13'].isnull()]"
   ]
  },
  {
   "cell_type": "markdown",
   "id": "923961b3",
   "metadata": {},
   "source": [
    "It happens to be another county of interest: Oglala Lakota. \n",
    "\n",
    "It appears that this county had 1 farmer's market in 2013, and still had 1 in 2018.\n",
    "\n",
    "In the Supplemental County data, it shows that the 2013 population estimate was 14,127, and its 2018 population estimate was 14,309.\n",
    "\n",
    "I will use these to calculate and impute the values. I will confirm below that a decimal value is what is needed."
   ]
  },
  {
   "cell_type": "code",
   "execution_count": 491,
   "id": "1dd91f1d",
   "metadata": {},
   "outputs": [
    {
     "data": {
      "text/plain": [
       "fips                     int64\n",
       "state                   object\n",
       "county                  object\n",
       "fmrkt13                float64\n",
       "fmrkt18                float64\n",
       "fmrktpth13             float64\n",
       "fmrktpth18             float64\n",
       "fmrkt_snap18           float64\n",
       "pct_fmrkt_snap18       float64\n",
       "fmrkt_wic18            float64\n",
       "pct_fmrkt_wic18        float64\n",
       "fmrkt_wiccash18        float64\n",
       "pct_fmrkt_wiccash18    float64\n",
       "fmrkt_sfmnp18          float64\n",
       "pct_fmrkt_sfmnp18      float64\n",
       "fmrkt_credit18         float64\n",
       "pct_fmrkt_credit18     float64\n",
       "pct_diabetes18         float64\n",
       "class                  float64\n",
       "dtype: object"
      ]
     },
     "execution_count": 491,
     "metadata": {},
     "output_type": "execute_result"
    }
   ],
   "source": [
    "local_frmrkt_payment.dtypes"
   ]
  },
  {
   "cell_type": "markdown",
   "id": "e6a228d9",
   "metadata": {},
   "source": [
    "The 2 referenced columns are float datatypes. I will now enter the values."
   ]
  },
  {
   "cell_type": "code",
   "execution_count": 492,
   "id": "f3f9b14d",
   "metadata": {},
   "outputs": [
    {
     "data": {
      "text/html": [
       "<div>\n",
       "<style scoped>\n",
       "    .dataframe tbody tr th:only-of-type {\n",
       "        vertical-align: middle;\n",
       "    }\n",
       "\n",
       "    .dataframe tbody tr th {\n",
       "        vertical-align: top;\n",
       "    }\n",
       "\n",
       "    .dataframe thead th {\n",
       "        text-align: right;\n",
       "    }\n",
       "</style>\n",
       "<table border=\"1\" class=\"dataframe\">\n",
       "  <thead>\n",
       "    <tr style=\"text-align: right;\">\n",
       "      <th></th>\n",
       "      <th>fips</th>\n",
       "      <th>state</th>\n",
       "      <th>county</th>\n",
       "      <th>fmrkt13</th>\n",
       "      <th>fmrkt18</th>\n",
       "      <th>fmrktpth13</th>\n",
       "      <th>fmrktpth18</th>\n",
       "      <th>fmrkt_snap18</th>\n",
       "      <th>pct_fmrkt_snap18</th>\n",
       "      <th>fmrkt_wic18</th>\n",
       "      <th>pct_fmrkt_wic18</th>\n",
       "      <th>fmrkt_wiccash18</th>\n",
       "      <th>pct_fmrkt_wiccash18</th>\n",
       "      <th>fmrkt_sfmnp18</th>\n",
       "      <th>pct_fmrkt_sfmnp18</th>\n",
       "      <th>fmrkt_credit18</th>\n",
       "      <th>pct_fmrkt_credit18</th>\n",
       "      <th>pct_diabetes18</th>\n",
       "      <th>class</th>\n",
       "    </tr>\n",
       "  </thead>\n",
       "  <tbody>\n",
       "    <tr>\n",
       "      <th>2412</th>\n",
       "      <td>46102</td>\n",
       "      <td>SD</td>\n",
       "      <td>Oglala Lakota</td>\n",
       "      <td>1.0</td>\n",
       "      <td>1.0</td>\n",
       "      <td>0.070786</td>\n",
       "      <td>NaN</td>\n",
       "      <td>1.0</td>\n",
       "      <td>100.0</td>\n",
       "      <td>0.0</td>\n",
       "      <td>0.0</td>\n",
       "      <td>0.0</td>\n",
       "      <td>0.0</td>\n",
       "      <td>1.0</td>\n",
       "      <td>100.0</td>\n",
       "      <td>1.0</td>\n",
       "      <td>100.0</td>\n",
       "      <td>17.9</td>\n",
       "      <td>1.0</td>\n",
       "    </tr>\n",
       "  </tbody>\n",
       "</table>\n",
       "</div>"
      ],
      "text/plain": [
       "       fips state         county  fmrkt13  fmrkt18  fmrktpth13  fmrktpth18  \\\n",
       "2412  46102    SD  Oglala Lakota      1.0      1.0    0.070786         NaN   \n",
       "\n",
       "      fmrkt_snap18  pct_fmrkt_snap18  fmrkt_wic18  pct_fmrkt_wic18  \\\n",
       "2412           1.0             100.0          0.0              0.0   \n",
       "\n",
       "      fmrkt_wiccash18  pct_fmrkt_wiccash18  fmrkt_sfmnp18  pct_fmrkt_sfmnp18  \\\n",
       "2412              0.0                  0.0            1.0              100.0   \n",
       "\n",
       "      fmrkt_credit18  pct_fmrkt_credit18  pct_diabetes18  class  \n",
       "2412             1.0               100.0            17.9    1.0  "
      ]
     },
     "execution_count": 492,
     "metadata": {},
     "output_type": "execute_result"
    }
   ],
   "source": [
    "local_frmrkt_payment.loc[local_frmrkt_payment['fips'] == 46102, 'fmrktpth13'] = 1/14.127 #(there are 14.127 thousands)\n",
    "\n",
    "local_frmrkt_payment.loc[local_frmrkt_payment['fips'] == 46102]"
   ]
  },
  {
   "cell_type": "code",
   "execution_count": 493,
   "id": "dfea0b1a",
   "metadata": {},
   "outputs": [
    {
     "data": {
      "text/html": [
       "<div>\n",
       "<style scoped>\n",
       "    .dataframe tbody tr th:only-of-type {\n",
       "        vertical-align: middle;\n",
       "    }\n",
       "\n",
       "    .dataframe tbody tr th {\n",
       "        vertical-align: top;\n",
       "    }\n",
       "\n",
       "    .dataframe thead th {\n",
       "        text-align: right;\n",
       "    }\n",
       "</style>\n",
       "<table border=\"1\" class=\"dataframe\">\n",
       "  <thead>\n",
       "    <tr style=\"text-align: right;\">\n",
       "      <th></th>\n",
       "      <th>fips</th>\n",
       "      <th>state</th>\n",
       "      <th>county</th>\n",
       "      <th>fmrkt13</th>\n",
       "      <th>fmrkt18</th>\n",
       "      <th>fmrktpth13</th>\n",
       "      <th>fmrktpth18</th>\n",
       "      <th>fmrkt_snap18</th>\n",
       "      <th>pct_fmrkt_snap18</th>\n",
       "      <th>fmrkt_wic18</th>\n",
       "      <th>pct_fmrkt_wic18</th>\n",
       "      <th>fmrkt_wiccash18</th>\n",
       "      <th>pct_fmrkt_wiccash18</th>\n",
       "      <th>fmrkt_sfmnp18</th>\n",
       "      <th>pct_fmrkt_sfmnp18</th>\n",
       "      <th>fmrkt_credit18</th>\n",
       "      <th>pct_fmrkt_credit18</th>\n",
       "      <th>pct_diabetes18</th>\n",
       "      <th>class</th>\n",
       "    </tr>\n",
       "  </thead>\n",
       "  <tbody>\n",
       "    <tr>\n",
       "      <th>2412</th>\n",
       "      <td>46102</td>\n",
       "      <td>SD</td>\n",
       "      <td>Oglala Lakota</td>\n",
       "      <td>1.0</td>\n",
       "      <td>1.0</td>\n",
       "      <td>0.070786</td>\n",
       "      <td>0.069886</td>\n",
       "      <td>1.0</td>\n",
       "      <td>100.0</td>\n",
       "      <td>0.0</td>\n",
       "      <td>0.0</td>\n",
       "      <td>0.0</td>\n",
       "      <td>0.0</td>\n",
       "      <td>1.0</td>\n",
       "      <td>100.0</td>\n",
       "      <td>1.0</td>\n",
       "      <td>100.0</td>\n",
       "      <td>17.9</td>\n",
       "      <td>1.0</td>\n",
       "    </tr>\n",
       "  </tbody>\n",
       "</table>\n",
       "</div>"
      ],
      "text/plain": [
       "       fips state         county  fmrkt13  fmrkt18  fmrktpth13  fmrktpth18  \\\n",
       "2412  46102    SD  Oglala Lakota      1.0      1.0    0.070786    0.069886   \n",
       "\n",
       "      fmrkt_snap18  pct_fmrkt_snap18  fmrkt_wic18  pct_fmrkt_wic18  \\\n",
       "2412           1.0             100.0          0.0              0.0   \n",
       "\n",
       "      fmrkt_wiccash18  pct_fmrkt_wiccash18  fmrkt_sfmnp18  pct_fmrkt_sfmnp18  \\\n",
       "2412              0.0                  0.0            1.0              100.0   \n",
       "\n",
       "      fmrkt_credit18  pct_fmrkt_credit18  pct_diabetes18  class  \n",
       "2412             1.0               100.0            17.9    1.0  "
      ]
     },
     "execution_count": 493,
     "metadata": {},
     "output_type": "execute_result"
    }
   ],
   "source": [
    "local_frmrkt_payment.loc[local_frmrkt_payment['fips'] == 46102, 'fmrktpth18'] = 1/14.309 #(there are 14.309 thousands)\n",
    "\n",
    "local_frmrkt_payment.loc[local_frmrkt_payment['fips'] == 46102]"
   ]
  },
  {
   "cell_type": "markdown",
   "id": "a1c88076",
   "metadata": {},
   "source": [
    "The missing values have been filled in. I will ensure there are no additional missing values before saving the dataframe."
   ]
  },
  {
   "cell_type": "code",
   "execution_count": 494,
   "id": "447efed4",
   "metadata": {},
   "outputs": [
    {
     "data": {
      "text/plain": [
       "fips                   0\n",
       "state                  0\n",
       "county                 0\n",
       "fmrkt13                0\n",
       "fmrkt18                0\n",
       "fmrktpth13             0\n",
       "fmrktpth18             0\n",
       "fmrkt_snap18           0\n",
       "pct_fmrkt_snap18       0\n",
       "fmrkt_wic18            0\n",
       "pct_fmrkt_wic18        0\n",
       "fmrkt_wiccash18        0\n",
       "pct_fmrkt_wiccash18    0\n",
       "fmrkt_sfmnp18          0\n",
       "pct_fmrkt_sfmnp18      0\n",
       "fmrkt_credit18         0\n",
       "pct_fmrkt_credit18     0\n",
       "pct_diabetes18         0\n",
       "class                  0\n",
       "dtype: int64"
      ]
     },
     "execution_count": 494,
     "metadata": {},
     "output_type": "execute_result"
    }
   ],
   "source": [
    "local_frmrkt_payment.isnull().sum()"
   ]
  },
  {
   "cell_type": "markdown",
   "id": "2027475c",
   "metadata": {},
   "source": [
    "There are no additional null values."
   ]
  },
  {
   "cell_type": "code",
   "execution_count": 495,
   "id": "e473faf8",
   "metadata": {},
   "outputs": [],
   "source": [
    "local_frmrkt_payment.to_csv('../data/FoodEnvironmentAtlas.xls.LOCAL_Modeling_FrmrktP.csv', index=False)"
   ]
  },
  {
   "cell_type": "markdown",
   "id": "9cade459",
   "metadata": {},
   "source": [
    "### 3. Farmer's Markets - Foods"
   ]
  },
  {
   "cell_type": "code",
   "execution_count": 496,
   "id": "ee5d5fdc",
   "metadata": {},
   "outputs": [],
   "source": [
    "local_frmrkt_foods = local_rec[['fips', 'state', 'county', 'fmrkt_frveg18',\n",
    "       'pct_fmrkt_frveg18', 'fmrkt_anmlprod18', 'pct_fmrkt_anmlprod18',\n",
    "       'fmrkt_baked18', 'pct_fmrkt_baked18', 'fmrkt_otherfood18',\n",
    "       'pct_fmrkt_otherfood18', 'pct_diabetes18', 'class']]"
   ]
  },
  {
   "cell_type": "code",
   "execution_count": 497,
   "id": "14d20382",
   "metadata": {},
   "outputs": [],
   "source": [
    "local_frmrkt_foods = pd.DataFrame(local_frmrkt_foods)"
   ]
  },
  {
   "cell_type": "code",
   "execution_count": 498,
   "id": "532d990f",
   "metadata": {},
   "outputs": [
    {
     "data": {
      "text/plain": [
       "fips                     0\n",
       "state                    0\n",
       "county                   0\n",
       "fmrkt_frveg18            1\n",
       "pct_fmrkt_frveg18        1\n",
       "fmrkt_anmlprod18         1\n",
       "pct_fmrkt_anmlprod18     1\n",
       "fmrkt_baked18            1\n",
       "pct_fmrkt_baked18        1\n",
       "fmrkt_otherfood18        1\n",
       "pct_fmrkt_otherfood18    1\n",
       "pct_diabetes18           0\n",
       "class                    0\n",
       "dtype: int64"
      ]
     },
     "execution_count": 498,
     "metadata": {},
     "output_type": "execute_result"
    }
   ],
   "source": [
    "local_frmrkt_foods.isnull().sum()"
   ]
  },
  {
   "cell_type": "markdown",
   "id": "e01bf2f7",
   "metadata": {},
   "source": [
    "There may be just one row missing values. I will observe."
   ]
  },
  {
   "cell_type": "code",
   "execution_count": 499,
   "id": "659f9e31",
   "metadata": {},
   "outputs": [
    {
     "data": {
      "text/html": [
       "<div>\n",
       "<style scoped>\n",
       "    .dataframe tbody tr th:only-of-type {\n",
       "        vertical-align: middle;\n",
       "    }\n",
       "\n",
       "    .dataframe tbody tr th {\n",
       "        vertical-align: top;\n",
       "    }\n",
       "\n",
       "    .dataframe thead th {\n",
       "        text-align: right;\n",
       "    }\n",
       "</style>\n",
       "<table border=\"1\" class=\"dataframe\">\n",
       "  <thead>\n",
       "    <tr style=\"text-align: right;\">\n",
       "      <th></th>\n",
       "      <th>fips</th>\n",
       "      <th>state</th>\n",
       "      <th>county</th>\n",
       "      <th>fmrkt_frveg18</th>\n",
       "      <th>pct_fmrkt_frveg18</th>\n",
       "      <th>fmrkt_anmlprod18</th>\n",
       "      <th>pct_fmrkt_anmlprod18</th>\n",
       "      <th>fmrkt_baked18</th>\n",
       "      <th>pct_fmrkt_baked18</th>\n",
       "      <th>fmrkt_otherfood18</th>\n",
       "      <th>pct_fmrkt_otherfood18</th>\n",
       "      <th>pct_diabetes18</th>\n",
       "      <th>class</th>\n",
       "    </tr>\n",
       "  </thead>\n",
       "  <tbody>\n",
       "    <tr>\n",
       "      <th>81</th>\n",
       "      <td>2158</td>\n",
       "      <td>AK</td>\n",
       "      <td>Kusilvak Census Area</td>\n",
       "      <td>NaN</td>\n",
       "      <td>NaN</td>\n",
       "      <td>NaN</td>\n",
       "      <td>NaN</td>\n",
       "      <td>NaN</td>\n",
       "      <td>NaN</td>\n",
       "      <td>NaN</td>\n",
       "      <td>NaN</td>\n",
       "      <td>7.4</td>\n",
       "      <td>0.0</td>\n",
       "    </tr>\n",
       "  </tbody>\n",
       "</table>\n",
       "</div>"
      ],
      "text/plain": [
       "    fips state                county  fmrkt_frveg18  pct_fmrkt_frveg18  \\\n",
       "81  2158    AK  Kusilvak Census Area            NaN                NaN   \n",
       "\n",
       "    fmrkt_anmlprod18  pct_fmrkt_anmlprod18  fmrkt_baked18  pct_fmrkt_baked18  \\\n",
       "81               NaN                   NaN            NaN                NaN   \n",
       "\n",
       "    fmrkt_otherfood18  pct_fmrkt_otherfood18  pct_diabetes18  class  \n",
       "81                NaN                    NaN             7.4    0.0  "
      ]
     },
     "execution_count": 499,
     "metadata": {},
     "output_type": "execute_result"
    }
   ],
   "source": [
    "local_frmrkt_foods.loc[local_frmrkt_foods['fmrkt_frveg18'].isnull()]"
   ]
  },
  {
   "cell_type": "markdown",
   "id": "34f401eb",
   "metadata": {},
   "source": [
    "It appears that my hypothesis was correct. I will remove the Kusilvak Census Area from the dataframe."
   ]
  },
  {
   "cell_type": "code",
   "execution_count": 500,
   "id": "f4002f53",
   "metadata": {},
   "outputs": [
    {
     "data": {
      "text/plain": [
       "fips                     0\n",
       "state                    0\n",
       "county                   0\n",
       "fmrkt_frveg18            0\n",
       "pct_fmrkt_frveg18        0\n",
       "fmrkt_anmlprod18         0\n",
       "pct_fmrkt_anmlprod18     0\n",
       "fmrkt_baked18            0\n",
       "pct_fmrkt_baked18        0\n",
       "fmrkt_otherfood18        0\n",
       "pct_fmrkt_otherfood18    0\n",
       "pct_diabetes18           0\n",
       "class                    0\n",
       "dtype: int64"
      ]
     },
     "execution_count": 500,
     "metadata": {},
     "output_type": "execute_result"
    }
   ],
   "source": [
    "local_frmrkt_foods = local_frmrkt_foods[local_frmrkt_foods['fips'] != 2158]\n",
    "\n",
    "local_frmrkt_foods.isnull().sum()"
   ]
  },
  {
   "cell_type": "markdown",
   "id": "e31e527d",
   "metadata": {},
   "source": [
    "There are no additional null values. The dataframe will be saved as-is."
   ]
  },
  {
   "cell_type": "code",
   "execution_count": 501,
   "id": "f7be8eb8",
   "metadata": {},
   "outputs": [],
   "source": [
    "local_frmrkt_foods.to_csv('../data/FoodEnvironmentAtlas.xls.LOCAL_Modeling_FrmrktF.csv', index=False)"
   ]
  },
  {
   "cell_type": "markdown",
   "id": "6f55bc16",
   "metadata": {},
   "source": [
    "### 4. Vegetable Acres/Farms"
   ]
  },
  {
   "cell_type": "code",
   "execution_count": 502,
   "id": "63da91e9",
   "metadata": {},
   "outputs": [],
   "source": [
    "local_vegfarms = local_rec[['fips', 'state', 'county', 'veg_farms07', 'veg_farms12',\n",
    "       'pch_veg_farms_07_12', 'veg_acres07', 'veg_acres12',\n",
    "       'pch_veg_acres_07_12', 'veg_acrespth07', 'veg_acrespth12',\n",
    "       'pch_veg_acrespth_07_12', 'freshveg_farms07', 'freshveg_farms12',\n",
    "       'pch_freshveg_farms_07_12', 'freshveg_acres07', 'freshveg_acres12',\n",
    "       'pch_freshveg_acres_07_12', 'freshveg_acrespth07',\n",
    "       'freshveg_acrespth12', 'pch_freshveg_acrespth_07_12', 'pct_diabetes18', 'class']]"
   ]
  },
  {
   "cell_type": "code",
   "execution_count": 503,
   "id": "ad9169aa",
   "metadata": {},
   "outputs": [],
   "source": [
    "local_vegfarms = pd.DataFrame(local_vegfarms)"
   ]
  },
  {
   "cell_type": "code",
   "execution_count": 504,
   "id": "073ced82",
   "metadata": {},
   "outputs": [
    {
     "data": {
      "text/plain": [
       "fips                              0\n",
       "state                             0\n",
       "county                            0\n",
       "veg_farms07                      62\n",
       "veg_farms12                      62\n",
       "pch_veg_farms_07_12             349\n",
       "veg_acres07                     610\n",
       "veg_acres12                     561\n",
       "pch_veg_acres_07_12            1082\n",
       "veg_acrespth07                  610\n",
       "veg_acrespth12                  611\n",
       "pch_veg_acrespth_07_12          897\n",
       "freshveg_farms07                 62\n",
       "freshveg_farms12                 62\n",
       "pch_freshveg_farms_07_12        363\n",
       "freshveg_acres07               1299\n",
       "freshveg_acres12               1225\n",
       "pch_freshveg_acres_07_12       2090\n",
       "freshveg_acrespth07            1299\n",
       "freshveg_acrespth12            1226\n",
       "pch_freshveg_acrespth_07_12    2090\n",
       "pct_diabetes18                    0\n",
       "class                             0\n",
       "dtype: int64"
      ]
     },
     "execution_count": 504,
     "metadata": {},
     "output_type": "execute_result"
    }
   ],
   "source": [
    "local_vegfarms.isnull().sum()"
   ]
  },
  {
   "cell_type": "markdown",
   "id": "e789a11e",
   "metadata": {},
   "source": [
    "There are many missing values! I will begin by removing the percent change columns."
   ]
  },
  {
   "cell_type": "code",
   "execution_count": 505,
   "id": "2b466e73",
   "metadata": {},
   "outputs": [
    {
     "data": {
      "text/plain": [
       "fips                      0\n",
       "state                     0\n",
       "county                    0\n",
       "veg_farms07              62\n",
       "veg_farms12              62\n",
       "veg_acres07             610\n",
       "veg_acres12             561\n",
       "veg_acrespth07          610\n",
       "veg_acrespth12          611\n",
       "freshveg_farms07         62\n",
       "freshveg_farms12         62\n",
       "freshveg_acres07       1299\n",
       "freshveg_acres12       1225\n",
       "freshveg_acrespth07    1299\n",
       "freshveg_acrespth12    1226\n",
       "pct_diabetes18            0\n",
       "class                     0\n",
       "dtype: int64"
      ]
     },
     "execution_count": 505,
     "metadata": {},
     "output_type": "execute_result"
    }
   ],
   "source": [
    "local_vegfarms.drop(columns = ['pch_veg_farms_07_12', 'pch_veg_acres_07_12', 'pch_veg_acrespth_07_12',\n",
    "                              'pch_freshveg_farms_07_12', 'pch_freshveg_acres_07_12', 'pch_freshveg_acrespth_07_12'],\n",
    "                   inplace = True)\n",
    "\n",
    "local_vegfarms.isnull().sum()"
   ]
  },
  {
   "cell_type": "markdown",
   "id": "eae437ea",
   "metadata": {},
   "source": [
    "Similar numbers appear between 07 and 12 versions of the same value, thus it would be difficult to impute a value based on expected change over the years. Using averages in place of true values for so many columns would likely weaken any models created.\n",
    "\n",
    "While I will lose many counties by dropping rows containing null values, I will do so because I would like to keep the rest of these columns."
   ]
  },
  {
   "cell_type": "code",
   "execution_count": 506,
   "id": "6a41b9c8",
   "metadata": {},
   "outputs": [
    {
     "data": {
      "text/plain": [
       "fips                   0\n",
       "state                  0\n",
       "county                 0\n",
       "veg_farms07            0\n",
       "veg_farms12            0\n",
       "veg_acres07            0\n",
       "veg_acres12            0\n",
       "veg_acrespth07         0\n",
       "veg_acrespth12         0\n",
       "freshveg_farms07       0\n",
       "freshveg_farms12       0\n",
       "freshveg_acres07       0\n",
       "freshveg_acres12       0\n",
       "freshveg_acrespth07    0\n",
       "freshveg_acrespth12    0\n",
       "pct_diabetes18         0\n",
       "class                  0\n",
       "dtype: int64"
      ]
     },
     "execution_count": 506,
     "metadata": {},
     "output_type": "execute_result"
    }
   ],
   "source": [
    "local_vegfarms = local_vegfarms.dropna()\n",
    "\n",
    "local_vegfarms.isnull().sum()"
   ]
  },
  {
   "cell_type": "code",
   "execution_count": 507,
   "id": "521ff617",
   "metadata": {},
   "outputs": [
    {
     "data": {
      "text/plain": [
       "(1218, 17)"
      ]
     },
     "execution_count": 507,
     "metadata": {},
     "output_type": "execute_result"
    }
   ],
   "source": [
    "local_vegfarms.shape"
   ]
  },
  {
   "cell_type": "markdown",
   "id": "2296490a",
   "metadata": {},
   "source": [
    "Only a minority of the original 3142 counties remain, however, those excluded are still represented in other datasets.\n",
    "\n",
    "I will save the dataframe, then move on to observe the Slaughterhouses/Greenhouses subset. (*I will not use the Berry Farms or Orchards subsets as they previously showed only weak correlations with prevalence of diabetes.*)"
   ]
  },
  {
   "cell_type": "code",
   "execution_count": 508,
   "id": "d639ace1",
   "metadata": {},
   "outputs": [],
   "source": [
    "local_vegfarms.to_csv('../data/FoodEnvironmentAtlas.xls.LOCAL_Modeling_VegFarms.csv', index=False)"
   ]
  },
  {
   "cell_type": "markdown",
   "id": "c39cc2bc",
   "metadata": {},
   "source": [
    "### 5. Slaughterhouses/Greenhouses"
   ]
  },
  {
   "cell_type": "code",
   "execution_count": 509,
   "id": "f37b826b",
   "metadata": {},
   "outputs": [],
   "source": [
    "local_houses = local_rec[['fips', 'state', 'county', 'slhouse07',\n",
    "       'slhouse12', 'pch_slhouse_07_12', 'ghveg_farms07', 'ghveg_farms12',\n",
    "       'pch_ghveg_farms_07_12', 'ghveg_sqft07', 'ghveg_sqft12',\n",
    "       'pch_ghveg_sqft_07_12', 'ghveg_sqftpth07', 'ghveg_sqftpth12',\n",
    "       'pch_ghveg_sqftpth_07_12', 'pct_diabetes18', 'class']]"
   ]
  },
  {
   "cell_type": "code",
   "execution_count": 510,
   "id": "542537d2",
   "metadata": {},
   "outputs": [],
   "source": [
    "local_houses = pd.DataFrame(local_houses)"
   ]
  },
  {
   "cell_type": "code",
   "execution_count": 511,
   "id": "5f17d816",
   "metadata": {},
   "outputs": [
    {
     "data": {
      "text/plain": [
       "fips                          0\n",
       "state                         0\n",
       "county                        0\n",
       "slhouse07                     1\n",
       "slhouse12                     1\n",
       "pch_slhouse_07_12           166\n",
       "ghveg_farms07                62\n",
       "ghveg_farms12                62\n",
       "pch_ghveg_farms_07_12      1941\n",
       "ghveg_sqft07                842\n",
       "ghveg_sqft12                894\n",
       "pch_ghveg_sqft_07_12       2800\n",
       "ghveg_sqftpth07             842\n",
       "ghveg_sqftpth12             895\n",
       "pch_ghveg_sqftpth_07_12    2800\n",
       "pct_diabetes18                0\n",
       "class                         0\n",
       "dtype: int64"
      ]
     },
     "execution_count": 511,
     "metadata": {},
     "output_type": "execute_result"
    }
   ],
   "source": [
    "local_houses.isnull().sum()"
   ]
  },
  {
   "cell_type": "markdown",
   "id": "2c816470",
   "metadata": {},
   "source": [
    "I will start by removing the percent change columns, as they contain many missing values."
   ]
  },
  {
   "cell_type": "code",
   "execution_count": 512,
   "id": "fed8eeca",
   "metadata": {},
   "outputs": [
    {
     "data": {
      "text/plain": [
       "fips                 0\n",
       "state                0\n",
       "county               0\n",
       "slhouse07            1\n",
       "slhouse12            1\n",
       "ghveg_farms07       62\n",
       "ghveg_farms12       62\n",
       "ghveg_sqft07       842\n",
       "ghveg_sqft12       894\n",
       "ghveg_sqftpth07    842\n",
       "ghveg_sqftpth12    895\n",
       "pct_diabetes18       0\n",
       "class                0\n",
       "dtype: int64"
      ]
     },
     "execution_count": 512,
     "metadata": {},
     "output_type": "execute_result"
    }
   ],
   "source": [
    "local_houses = local_houses.drop(columns = ['pch_slhouse_07_12', 'pch_ghveg_farms_07_12', 'pch_ghveg_sqft_07_12',\n",
    "                                            'pch_ghveg_sqftpth_07_12'])\n",
    "\n",
    "local_houses.isnull().sum()"
   ]
  },
  {
   "cell_type": "markdown",
   "id": "8e127a77",
   "metadata": {},
   "source": [
    "I will observe to see the row missing the slaughterhouse information."
   ]
  },
  {
   "cell_type": "code",
   "execution_count": 513,
   "id": "b57294b5",
   "metadata": {},
   "outputs": [
    {
     "data": {
      "text/html": [
       "<div>\n",
       "<style scoped>\n",
       "    .dataframe tbody tr th:only-of-type {\n",
       "        vertical-align: middle;\n",
       "    }\n",
       "\n",
       "    .dataframe tbody tr th {\n",
       "        vertical-align: top;\n",
       "    }\n",
       "\n",
       "    .dataframe thead th {\n",
       "        text-align: right;\n",
       "    }\n",
       "</style>\n",
       "<table border=\"1\" class=\"dataframe\">\n",
       "  <thead>\n",
       "    <tr style=\"text-align: right;\">\n",
       "      <th></th>\n",
       "      <th>fips</th>\n",
       "      <th>state</th>\n",
       "      <th>county</th>\n",
       "      <th>slhouse07</th>\n",
       "      <th>slhouse12</th>\n",
       "      <th>ghveg_farms07</th>\n",
       "      <th>ghveg_farms12</th>\n",
       "      <th>ghveg_sqft07</th>\n",
       "      <th>ghveg_sqft12</th>\n",
       "      <th>ghveg_sqftpth07</th>\n",
       "      <th>ghveg_sqftpth12</th>\n",
       "      <th>pct_diabetes18</th>\n",
       "      <th>class</th>\n",
       "    </tr>\n",
       "  </thead>\n",
       "  <tbody>\n",
       "    <tr>\n",
       "      <th>76</th>\n",
       "      <td>2105</td>\n",
       "      <td>AK</td>\n",
       "      <td>Hoonah-Angoon</td>\n",
       "      <td>NaN</td>\n",
       "      <td>NaN</td>\n",
       "      <td>NaN</td>\n",
       "      <td>NaN</td>\n",
       "      <td>NaN</td>\n",
       "      <td>NaN</td>\n",
       "      <td>NaN</td>\n",
       "      <td>NaN</td>\n",
       "      <td>7.3</td>\n",
       "      <td>0.0</td>\n",
       "    </tr>\n",
       "  </tbody>\n",
       "</table>\n",
       "</div>"
      ],
      "text/plain": [
       "    fips state         county  slhouse07  slhouse12  ghveg_farms07  \\\n",
       "76  2105    AK  Hoonah-Angoon        NaN        NaN            NaN   \n",
       "\n",
       "    ghveg_farms12  ghveg_sqft07  ghveg_sqft12  ghveg_sqftpth07  \\\n",
       "76            NaN           NaN           NaN              NaN   \n",
       "\n",
       "    ghveg_sqftpth12  pct_diabetes18  class  \n",
       "76              NaN             7.3    0.0  "
      ]
     },
     "execution_count": 513,
     "metadata": {},
     "output_type": "execute_result"
    }
   ],
   "source": [
    "local_houses.loc[local_houses['slhouse07'].isnull()]"
   ]
  },
  {
   "cell_type": "markdown",
   "id": "9d72dab9",
   "metadata": {},
   "source": [
    "This row contains only the diabetes information.\n",
    "\n",
    "I will drop all rows containing missing values."
   ]
  },
  {
   "cell_type": "code",
   "execution_count": 514,
   "id": "f913907a",
   "metadata": {},
   "outputs": [],
   "source": [
    "local_houses = local_houses.dropna()"
   ]
  },
  {
   "cell_type": "code",
   "execution_count": 515,
   "id": "ea0afda9",
   "metadata": {},
   "outputs": [
    {
     "data": {
      "text/plain": [
       "fips               0\n",
       "state              0\n",
       "county             0\n",
       "slhouse07          0\n",
       "slhouse12          0\n",
       "ghveg_farms07      0\n",
       "ghveg_farms12      0\n",
       "ghveg_sqft07       0\n",
       "ghveg_sqft12       0\n",
       "ghveg_sqftpth07    0\n",
       "ghveg_sqftpth12    0\n",
       "pct_diabetes18     0\n",
       "class              0\n",
       "dtype: int64"
      ]
     },
     "execution_count": 515,
     "metadata": {},
     "output_type": "execute_result"
    }
   ],
   "source": [
    "local_houses.isnull().sum()"
   ]
  },
  {
   "cell_type": "code",
   "execution_count": 516,
   "id": "90100a46",
   "metadata": {},
   "outputs": [
    {
     "data": {
      "text/plain": [
       "(1778, 13)"
      ]
     },
     "execution_count": 516,
     "metadata": {},
     "output_type": "execute_result"
    }
   ],
   "source": [
    "local_houses.shape"
   ]
  },
  {
   "cell_type": "markdown",
   "id": "5fb53433",
   "metadata": {},
   "source": [
    "More than half of the original counties remain.\n",
    "\n",
    "I will save this dataset for modeling."
   ]
  },
  {
   "cell_type": "code",
   "execution_count": 517,
   "id": "23049c4e",
   "metadata": {},
   "outputs": [],
   "source": [
    "local_houses.to_csv('../data/FoodEnvironmentAtlas.xls.LOCAL_Modeling_Houses.csv', index=False)"
   ]
  },
  {
   "cell_type": "markdown",
   "id": "90e3d67a",
   "metadata": {},
   "source": [
    "### 6. Other Food Outlets"
   ]
  },
  {
   "cell_type": "code",
   "execution_count": 518,
   "id": "3721af5e",
   "metadata": {},
   "outputs": [],
   "source": [
    "local_other = local_rec[['fips', 'county', 'state', 'foodhub18', 'csa07', 'csa12',\n",
    "       'pch_csa_07_12', 'agritrsm_ops07', 'agritrsm_ops12',\n",
    "       'pch_agritrsm_ops_07_12', 'agritrsm_rct07', 'agritrsm_rct12',\n",
    "       'pch_agritrsm_rct_07_12', 'farm_to_school13', 'farm_to_school15', 'pct_diabetes18', 'class']]"
   ]
  },
  {
   "cell_type": "code",
   "execution_count": 519,
   "id": "dca7ddc1",
   "metadata": {},
   "outputs": [],
   "source": [
    "local_other = pd.DataFrame(local_other)"
   ]
  },
  {
   "cell_type": "code",
   "execution_count": 520,
   "id": "ade72d33",
   "metadata": {},
   "outputs": [
    {
     "data": {
      "text/plain": [
       "fips                         0\n",
       "county                       0\n",
       "state                        0\n",
       "foodhub18                 2962\n",
       "csa07                       62\n",
       "csa12                       62\n",
       "pch_csa_07_12              795\n",
       "agritrsm_ops07              62\n",
       "agritrsm_ops12              62\n",
       "pch_agritrsm_ops_07_12     425\n",
       "agritrsm_rct07            1168\n",
       "agritrsm_rct12            1023\n",
       "pch_agritrsm_rct_07_12    1875\n",
       "farm_to_school13           208\n",
       "farm_to_school15           218\n",
       "pct_diabetes18               0\n",
       "class                        0\n",
       "dtype: int64"
      ]
     },
     "execution_count": 520,
     "metadata": {},
     "output_type": "execute_result"
    }
   ],
   "source": [
    "local_other.isnull().sum()"
   ]
  },
  {
   "cell_type": "markdown",
   "id": "97360bea",
   "metadata": {},
   "source": [
    "The foodhub18 column is missing most of its values.\n",
    "\n",
    "I will observe."
   ]
  },
  {
   "cell_type": "code",
   "execution_count": 521,
   "id": "3f102aed",
   "metadata": {},
   "outputs": [
    {
     "data": {
      "text/plain": [
       "array([nan,  1.,  2.,  4.,  6.,  3.])"
      ]
     },
     "execution_count": 521,
     "metadata": {},
     "output_type": "execute_result"
    }
   ],
   "source": [
    "local_other.foodhub18.unique()"
   ]
  },
  {
   "cell_type": "markdown",
   "id": "a587735f",
   "metadata": {},
   "source": [
    "I might hypothesize that counties with null values in this column had no food hubs...but it could also be that the other counties were not assessed."
   ]
  },
  {
   "cell_type": "markdown",
   "id": "76d14503",
   "metadata": {},
   "source": [
    "What I will do is replace the missing values with zero. I will try creating a model with and without the foodhub18 column and see what it produces."
   ]
  },
  {
   "cell_type": "code",
   "execution_count": 522,
   "id": "a8b2aeef",
   "metadata": {},
   "outputs": [],
   "source": [
    "local_other.foodhub18.replace(np.nan, 0, inplace = True)"
   ]
  },
  {
   "cell_type": "code",
   "execution_count": 523,
   "id": "c8118d48",
   "metadata": {},
   "outputs": [
    {
     "data": {
      "text/plain": [
       "fips                         0\n",
       "county                       0\n",
       "state                        0\n",
       "foodhub18                    0\n",
       "csa07                       62\n",
       "csa12                       62\n",
       "pch_csa_07_12              795\n",
       "agritrsm_ops07              62\n",
       "agritrsm_ops12              62\n",
       "pch_agritrsm_ops_07_12     425\n",
       "agritrsm_rct07            1168\n",
       "agritrsm_rct12            1023\n",
       "pch_agritrsm_rct_07_12    1875\n",
       "farm_to_school13           208\n",
       "farm_to_school15           218\n",
       "pct_diabetes18               0\n",
       "class                        0\n",
       "dtype: int64"
      ]
     },
     "execution_count": 523,
     "metadata": {},
     "output_type": "execute_result"
    }
   ],
   "source": [
    "local_other.isnull().sum()"
   ]
  },
  {
   "cell_type": "markdown",
   "id": "ee28b62a",
   "metadata": {},
   "source": [
    "Next, I will delete the percent change columns."
   ]
  },
  {
   "cell_type": "code",
   "execution_count": 524,
   "id": "7b354fee",
   "metadata": {},
   "outputs": [
    {
     "data": {
      "text/plain": [
       "fips                   0\n",
       "county                 0\n",
       "state                  0\n",
       "foodhub18              0\n",
       "csa07                 62\n",
       "csa12                 62\n",
       "agritrsm_ops07        62\n",
       "agritrsm_ops12        62\n",
       "agritrsm_rct07      1168\n",
       "agritrsm_rct12      1023\n",
       "farm_to_school13     208\n",
       "farm_to_school15     218\n",
       "pct_diabetes18         0\n",
       "class                  0\n",
       "dtype: int64"
      ]
     },
     "execution_count": 524,
     "metadata": {},
     "output_type": "execute_result"
    }
   ],
   "source": [
    "local_other = local_other.drop(columns = ['pch_csa_07_12', 'pch_agritrsm_ops_07_12', 'pch_agritrsm_rct_07_12'] )\n",
    "\n",
    "local_other.isnull().sum()"
   ]
  },
  {
   "cell_type": "markdown",
   "id": "f860eda4",
   "metadata": {},
   "source": [
    "I would like to use all of these columns, therefore I will delete the remaining rows that contain null values."
   ]
  },
  {
   "cell_type": "code",
   "execution_count": 525,
   "id": "9da8d40c",
   "metadata": {},
   "outputs": [],
   "source": [
    "local_other = local_other.dropna()"
   ]
  },
  {
   "cell_type": "code",
   "execution_count": 526,
   "id": "663b6ad4",
   "metadata": {},
   "outputs": [
    {
     "data": {
      "text/plain": [
       "fips                0\n",
       "county              0\n",
       "state               0\n",
       "foodhub18           0\n",
       "csa07               0\n",
       "csa12               0\n",
       "agritrsm_ops07      0\n",
       "agritrsm_ops12      0\n",
       "agritrsm_rct07      0\n",
       "agritrsm_rct12      0\n",
       "farm_to_school13    0\n",
       "farm_to_school15    0\n",
       "pct_diabetes18      0\n",
       "class               0\n",
       "dtype: int64"
      ]
     },
     "execution_count": 526,
     "metadata": {},
     "output_type": "execute_result"
    }
   ],
   "source": [
    "local_other.isnull().sum()"
   ]
  },
  {
   "cell_type": "code",
   "execution_count": 527,
   "id": "59037e01",
   "metadata": {},
   "outputs": [
    {
     "data": {
      "text/plain": [
       "(1314, 14)"
      ]
     },
     "execution_count": 527,
     "metadata": {},
     "output_type": "execute_result"
    }
   ],
   "source": [
    "local_other.shape"
   ]
  },
  {
   "cell_type": "markdown",
   "id": "1f9fd849",
   "metadata": {},
   "source": [
    "Less than a third of the original counties remain, however, I will save this as a csv for modeling."
   ]
  },
  {
   "cell_type": "code",
   "execution_count": 528,
   "id": "4c922b14",
   "metadata": {},
   "outputs": [],
   "source": [
    "local_other.to_csv('../data/FoodEnvironmentAtlas.xls.LOCAL_Modeling_Other.csv', index=False)"
   ]
  },
  {
   "cell_type": "markdown",
   "id": "db0c4766",
   "metadata": {},
   "source": [
    "### Restaurants"
   ]
  },
  {
   "cell_type": "code",
   "execution_count": 529,
   "id": "3ed7cdb0",
   "metadata": {},
   "outputs": [],
   "source": [
    "file_path = ('../data/FoodEnvironmentAtlas.xls.RESTAURANTS_REC.csv')\n",
    "\n",
    "restaurants_rec = pd.read_csv(file_path)"
   ]
  },
  {
   "cell_type": "code",
   "execution_count": 530,
   "id": "7886d105",
   "metadata": {},
   "outputs": [
    {
     "data": {
      "text/plain": [
       "(3142, 15)"
      ]
     },
     "execution_count": 530,
     "metadata": {},
     "output_type": "execute_result"
    }
   ],
   "source": [
    "restaurants_rec.shape"
   ]
  },
  {
   "cell_type": "code",
   "execution_count": 531,
   "id": "898b3d25",
   "metadata": {},
   "outputs": [
    {
     "data": {
      "text/html": [
       "<div>\n",
       "<style scoped>\n",
       "    .dataframe tbody tr th:only-of-type {\n",
       "        vertical-align: middle;\n",
       "    }\n",
       "\n",
       "    .dataframe tbody tr th {\n",
       "        vertical-align: top;\n",
       "    }\n",
       "\n",
       "    .dataframe thead th {\n",
       "        text-align: right;\n",
       "    }\n",
       "</style>\n",
       "<table border=\"1\" class=\"dataframe\">\n",
       "  <thead>\n",
       "    <tr style=\"text-align: right;\">\n",
       "      <th></th>\n",
       "      <th>fips</th>\n",
       "      <th>state</th>\n",
       "      <th>county</th>\n",
       "      <th>ffr11</th>\n",
       "      <th>ffr16</th>\n",
       "      <th>ffrpth11</th>\n",
       "      <th>ffrpth16</th>\n",
       "      <th>fsr11</th>\n",
       "      <th>fsr16</th>\n",
       "      <th>fsrpth11</th>\n",
       "      <th>fsrpth16</th>\n",
       "      <th>pc_ffrsales07</th>\n",
       "      <th>pc_ffrsales12</th>\n",
       "      <th>pc_fsrsales07</th>\n",
       "      <th>pc_fsrsales12</th>\n",
       "    </tr>\n",
       "  </thead>\n",
       "  <tbody>\n",
       "    <tr>\n",
       "      <th>0</th>\n",
       "      <td>1001</td>\n",
       "      <td>AL</td>\n",
       "      <td>Autauga</td>\n",
       "      <td>34</td>\n",
       "      <td>44</td>\n",
       "      <td>0.615953</td>\n",
       "      <td>0.795977</td>\n",
       "      <td>32</td>\n",
       "      <td>31</td>\n",
       "      <td>0.579721</td>\n",
       "      <td>0.560802</td>\n",
       "      <td>649.511367</td>\n",
       "      <td>674.80272</td>\n",
       "      <td>484.381507</td>\n",
       "      <td>512.280987</td>\n",
       "    </tr>\n",
       "    <tr>\n",
       "      <th>1</th>\n",
       "      <td>1003</td>\n",
       "      <td>AL</td>\n",
       "      <td>Baldwin</td>\n",
       "      <td>121</td>\n",
       "      <td>156</td>\n",
       "      <td>0.648675</td>\n",
       "      <td>0.751775</td>\n",
       "      <td>216</td>\n",
       "      <td>236</td>\n",
       "      <td>1.157966</td>\n",
       "      <td>1.137300</td>\n",
       "      <td>649.511367</td>\n",
       "      <td>674.80272</td>\n",
       "      <td>484.381507</td>\n",
       "      <td>512.280987</td>\n",
       "    </tr>\n",
       "    <tr>\n",
       "      <th>2</th>\n",
       "      <td>1005</td>\n",
       "      <td>AL</td>\n",
       "      <td>Barbour</td>\n",
       "      <td>19</td>\n",
       "      <td>23</td>\n",
       "      <td>0.694673</td>\n",
       "      <td>0.892372</td>\n",
       "      <td>17</td>\n",
       "      <td>14</td>\n",
       "      <td>0.621549</td>\n",
       "      <td>0.543183</td>\n",
       "      <td>649.511367</td>\n",
       "      <td>674.80272</td>\n",
       "      <td>484.381507</td>\n",
       "      <td>512.280987</td>\n",
       "    </tr>\n",
       "    <tr>\n",
       "      <th>3</th>\n",
       "      <td>1007</td>\n",
       "      <td>AL</td>\n",
       "      <td>Bibb</td>\n",
       "      <td>6</td>\n",
       "      <td>7</td>\n",
       "      <td>0.263794</td>\n",
       "      <td>0.309283</td>\n",
       "      <td>5</td>\n",
       "      <td>7</td>\n",
       "      <td>0.219829</td>\n",
       "      <td>0.309283</td>\n",
       "      <td>649.511367</td>\n",
       "      <td>674.80272</td>\n",
       "      <td>484.381507</td>\n",
       "      <td>512.280987</td>\n",
       "    </tr>\n",
       "    <tr>\n",
       "      <th>4</th>\n",
       "      <td>1009</td>\n",
       "      <td>AL</td>\n",
       "      <td>Blount</td>\n",
       "      <td>20</td>\n",
       "      <td>23</td>\n",
       "      <td>0.347451</td>\n",
       "      <td>0.399569</td>\n",
       "      <td>15</td>\n",
       "      <td>12</td>\n",
       "      <td>0.260589</td>\n",
       "      <td>0.208471</td>\n",
       "      <td>649.511367</td>\n",
       "      <td>674.80272</td>\n",
       "      <td>484.381507</td>\n",
       "      <td>512.280987</td>\n",
       "    </tr>\n",
       "  </tbody>\n",
       "</table>\n",
       "</div>"
      ],
      "text/plain": [
       "   fips state   county  ffr11  ffr16  ffrpth11  ffrpth16  fsr11  fsr16  \\\n",
       "0  1001    AL  Autauga     34     44  0.615953  0.795977     32     31   \n",
       "1  1003    AL  Baldwin    121    156  0.648675  0.751775    216    236   \n",
       "2  1005    AL  Barbour     19     23  0.694673  0.892372     17     14   \n",
       "3  1007    AL     Bibb      6      7  0.263794  0.309283      5      7   \n",
       "4  1009    AL   Blount     20     23  0.347451  0.399569     15     12   \n",
       "\n",
       "   fsrpth11  fsrpth16  pc_ffrsales07  pc_ffrsales12  pc_fsrsales07  \\\n",
       "0  0.579721  0.560802     649.511367      674.80272     484.381507   \n",
       "1  1.157966  1.137300     649.511367      674.80272     484.381507   \n",
       "2  0.621549  0.543183     649.511367      674.80272     484.381507   \n",
       "3  0.219829  0.309283     649.511367      674.80272     484.381507   \n",
       "4  0.260589  0.208471     649.511367      674.80272     484.381507   \n",
       "\n",
       "   pc_fsrsales12  \n",
       "0     512.280987  \n",
       "1     512.280987  \n",
       "2     512.280987  \n",
       "3     512.280987  \n",
       "4     512.280987  "
      ]
     },
     "execution_count": 531,
     "metadata": {},
     "output_type": "execute_result"
    }
   ],
   "source": [
    "restaurants_rec.head()"
   ]
  },
  {
   "cell_type": "code",
   "execution_count": 532,
   "id": "2cb5b8f5",
   "metadata": {},
   "outputs": [
    {
     "data": {
      "text/html": [
       "<div>\n",
       "<style scoped>\n",
       "    .dataframe tbody tr th:only-of-type {\n",
       "        vertical-align: middle;\n",
       "    }\n",
       "\n",
       "    .dataframe tbody tr th {\n",
       "        vertical-align: top;\n",
       "    }\n",
       "\n",
       "    .dataframe thead th {\n",
       "        text-align: right;\n",
       "    }\n",
       "</style>\n",
       "<table border=\"1\" class=\"dataframe\">\n",
       "  <thead>\n",
       "    <tr style=\"text-align: right;\">\n",
       "      <th></th>\n",
       "      <th>fips</th>\n",
       "      <th>county</th>\n",
       "      <th>state</th>\n",
       "      <th>pct_diabetes18</th>\n",
       "      <th>class</th>\n",
       "    </tr>\n",
       "  </thead>\n",
       "  <tbody>\n",
       "    <tr>\n",
       "      <th>0</th>\n",
       "      <td>1001</td>\n",
       "      <td>Autauga</td>\n",
       "      <td>Alabama</td>\n",
       "      <td>9.5</td>\n",
       "      <td>1.0</td>\n",
       "    </tr>\n",
       "    <tr>\n",
       "      <th>1</th>\n",
       "      <td>1003</td>\n",
       "      <td>Baldwin</td>\n",
       "      <td>Alabama</td>\n",
       "      <td>8.4</td>\n",
       "      <td>0.0</td>\n",
       "    </tr>\n",
       "    <tr>\n",
       "      <th>2</th>\n",
       "      <td>1005</td>\n",
       "      <td>Barbour</td>\n",
       "      <td>Alabama</td>\n",
       "      <td>13.5</td>\n",
       "      <td>1.0</td>\n",
       "    </tr>\n",
       "    <tr>\n",
       "      <th>3</th>\n",
       "      <td>1007</td>\n",
       "      <td>Bibb</td>\n",
       "      <td>Alabama</td>\n",
       "      <td>10.2</td>\n",
       "      <td>1.0</td>\n",
       "    </tr>\n",
       "    <tr>\n",
       "      <th>4</th>\n",
       "      <td>1009</td>\n",
       "      <td>Blount</td>\n",
       "      <td>Alabama</td>\n",
       "      <td>10.5</td>\n",
       "      <td>1.0</td>\n",
       "    </tr>\n",
       "  </tbody>\n",
       "</table>\n",
       "</div>"
      ],
      "text/plain": [
       "   fips   county    state  pct_diabetes18  class\n",
       "0  1001  Autauga  Alabama             9.5    1.0\n",
       "1  1003  Baldwin  Alabama             8.4    0.0\n",
       "2  1005  Barbour  Alabama            13.5    1.0\n",
       "3  1007     Bibb  Alabama            10.2    1.0\n",
       "4  1009   Blount  Alabama            10.5    1.0"
      ]
     },
     "execution_count": 532,
     "metadata": {},
     "output_type": "execute_result"
    }
   ],
   "source": [
    "d18_rec.head()"
   ]
  },
  {
   "cell_type": "code",
   "execution_count": 533,
   "id": "c699b4ac",
   "metadata": {},
   "outputs": [
    {
     "data": {
      "text/html": [
       "<div>\n",
       "<style scoped>\n",
       "    .dataframe tbody tr th:only-of-type {\n",
       "        vertical-align: middle;\n",
       "    }\n",
       "\n",
       "    .dataframe tbody tr th {\n",
       "        vertical-align: top;\n",
       "    }\n",
       "\n",
       "    .dataframe thead th {\n",
       "        text-align: right;\n",
       "    }\n",
       "</style>\n",
       "<table border=\"1\" class=\"dataframe\">\n",
       "  <thead>\n",
       "    <tr style=\"text-align: right;\">\n",
       "      <th></th>\n",
       "      <th>fips</th>\n",
       "      <th>state</th>\n",
       "      <th>county</th>\n",
       "      <th>ffr11</th>\n",
       "      <th>ffr16</th>\n",
       "      <th>ffrpth11</th>\n",
       "      <th>ffrpth16</th>\n",
       "      <th>fsr11</th>\n",
       "      <th>fsr16</th>\n",
       "      <th>fsrpth11</th>\n",
       "      <th>fsrpth16</th>\n",
       "      <th>pc_ffrsales07</th>\n",
       "      <th>pc_ffrsales12</th>\n",
       "      <th>pc_fsrsales07</th>\n",
       "      <th>pc_fsrsales12</th>\n",
       "    </tr>\n",
       "  </thead>\n",
       "  <tbody>\n",
       "    <tr>\n",
       "      <th>3137</th>\n",
       "      <td>56037</td>\n",
       "      <td>WY</td>\n",
       "      <td>Sweetwater</td>\n",
       "      <td>25</td>\n",
       "      <td>31</td>\n",
       "      <td>0.568014</td>\n",
       "      <td>0.700644</td>\n",
       "      <td>33</td>\n",
       "      <td>32</td>\n",
       "      <td>0.749778</td>\n",
       "      <td>0.723246</td>\n",
       "      <td>656.20861</td>\n",
       "      <td>598.027144</td>\n",
       "      <td>715.635645</td>\n",
       "      <td>706.676425</td>\n",
       "    </tr>\n",
       "    <tr>\n",
       "      <th>3138</th>\n",
       "      <td>56039</td>\n",
       "      <td>WY</td>\n",
       "      <td>Teton</td>\n",
       "      <td>27</td>\n",
       "      <td>20</td>\n",
       "      <td>1.257217</td>\n",
       "      <td>0.862813</td>\n",
       "      <td>57</td>\n",
       "      <td>59</td>\n",
       "      <td>2.654126</td>\n",
       "      <td>2.545298</td>\n",
       "      <td>656.20861</td>\n",
       "      <td>598.027144</td>\n",
       "      <td>715.635645</td>\n",
       "      <td>706.676425</td>\n",
       "    </tr>\n",
       "    <tr>\n",
       "      <th>3139</th>\n",
       "      <td>56041</td>\n",
       "      <td>WY</td>\n",
       "      <td>Uinta</td>\n",
       "      <td>19</td>\n",
       "      <td>17</td>\n",
       "      <td>0.909134</td>\n",
       "      <td>0.820820</td>\n",
       "      <td>25</td>\n",
       "      <td>19</td>\n",
       "      <td>1.196229</td>\n",
       "      <td>0.917387</td>\n",
       "      <td>656.20861</td>\n",
       "      <td>598.027144</td>\n",
       "      <td>715.635645</td>\n",
       "      <td>706.676425</td>\n",
       "    </tr>\n",
       "    <tr>\n",
       "      <th>3140</th>\n",
       "      <td>56043</td>\n",
       "      <td>WY</td>\n",
       "      <td>Washakie</td>\n",
       "      <td>7</td>\n",
       "      <td>6</td>\n",
       "      <td>0.827423</td>\n",
       "      <td>0.732780</td>\n",
       "      <td>14</td>\n",
       "      <td>12</td>\n",
       "      <td>1.654846</td>\n",
       "      <td>1.465559</td>\n",
       "      <td>656.20861</td>\n",
       "      <td>598.027144</td>\n",
       "      <td>715.635645</td>\n",
       "      <td>706.676425</td>\n",
       "    </tr>\n",
       "    <tr>\n",
       "      <th>3141</th>\n",
       "      <td>56045</td>\n",
       "      <td>WY</td>\n",
       "      <td>Weston</td>\n",
       "      <td>3</td>\n",
       "      <td>4</td>\n",
       "      <td>0.420109</td>\n",
       "      <td>0.555710</td>\n",
       "      <td>11</td>\n",
       "      <td>10</td>\n",
       "      <td>1.540401</td>\n",
       "      <td>1.389275</td>\n",
       "      <td>656.20861</td>\n",
       "      <td>598.027144</td>\n",
       "      <td>715.635645</td>\n",
       "      <td>706.676425</td>\n",
       "    </tr>\n",
       "  </tbody>\n",
       "</table>\n",
       "</div>"
      ],
      "text/plain": [
       "       fips state      county  ffr11  ffr16  ffrpth11  ffrpth16  fsr11  fsr16  \\\n",
       "3137  56037    WY  Sweetwater     25     31  0.568014  0.700644     33     32   \n",
       "3138  56039    WY       Teton     27     20  1.257217  0.862813     57     59   \n",
       "3139  56041    WY       Uinta     19     17  0.909134  0.820820     25     19   \n",
       "3140  56043    WY    Washakie      7      6  0.827423  0.732780     14     12   \n",
       "3141  56045    WY      Weston      3      4  0.420109  0.555710     11     10   \n",
       "\n",
       "      fsrpth11  fsrpth16  pc_ffrsales07  pc_ffrsales12  pc_fsrsales07  \\\n",
       "3137  0.749778  0.723246      656.20861     598.027144     715.635645   \n",
       "3138  2.654126  2.545298      656.20861     598.027144     715.635645   \n",
       "3139  1.196229  0.917387      656.20861     598.027144     715.635645   \n",
       "3140  1.654846  1.465559      656.20861     598.027144     715.635645   \n",
       "3141  1.540401  1.389275      656.20861     598.027144     715.635645   \n",
       "\n",
       "      pc_fsrsales12  \n",
       "3137     706.676425  \n",
       "3138     706.676425  \n",
       "3139     706.676425  \n",
       "3140     706.676425  \n",
       "3141     706.676425  "
      ]
     },
     "execution_count": 533,
     "metadata": {},
     "output_type": "execute_result"
    }
   ],
   "source": [
    "restaurants_rec.tail()"
   ]
  },
  {
   "cell_type": "code",
   "execution_count": 534,
   "id": "6c238007",
   "metadata": {},
   "outputs": [
    {
     "data": {
      "text/html": [
       "<div>\n",
       "<style scoped>\n",
       "    .dataframe tbody tr th:only-of-type {\n",
       "        vertical-align: middle;\n",
       "    }\n",
       "\n",
       "    .dataframe tbody tr th {\n",
       "        vertical-align: top;\n",
       "    }\n",
       "\n",
       "    .dataframe thead th {\n",
       "        text-align: right;\n",
       "    }\n",
       "</style>\n",
       "<table border=\"1\" class=\"dataframe\">\n",
       "  <thead>\n",
       "    <tr style=\"text-align: right;\">\n",
       "      <th></th>\n",
       "      <th>fips</th>\n",
       "      <th>county</th>\n",
       "      <th>state</th>\n",
       "      <th>pct_diabetes18</th>\n",
       "      <th>class</th>\n",
       "    </tr>\n",
       "  </thead>\n",
       "  <tbody>\n",
       "    <tr>\n",
       "      <th>3137</th>\n",
       "      <td>56037</td>\n",
       "      <td>Sweetwater</td>\n",
       "      <td>Wyoming</td>\n",
       "      <td>7.8</td>\n",
       "      <td>0.0</td>\n",
       "    </tr>\n",
       "    <tr>\n",
       "      <th>3138</th>\n",
       "      <td>56039</td>\n",
       "      <td>Teton</td>\n",
       "      <td>Wyoming</td>\n",
       "      <td>3.8</td>\n",
       "      <td>0.0</td>\n",
       "    </tr>\n",
       "    <tr>\n",
       "      <th>3139</th>\n",
       "      <td>56041</td>\n",
       "      <td>Uinta</td>\n",
       "      <td>Wyoming</td>\n",
       "      <td>8.4</td>\n",
       "      <td>0.0</td>\n",
       "    </tr>\n",
       "    <tr>\n",
       "      <th>3140</th>\n",
       "      <td>56043</td>\n",
       "      <td>Washakie</td>\n",
       "      <td>Wyoming</td>\n",
       "      <td>7.4</td>\n",
       "      <td>0.0</td>\n",
       "    </tr>\n",
       "    <tr>\n",
       "      <th>3141</th>\n",
       "      <td>56045</td>\n",
       "      <td>Weston</td>\n",
       "      <td>Wyoming</td>\n",
       "      <td>7.6</td>\n",
       "      <td>0.0</td>\n",
       "    </tr>\n",
       "  </tbody>\n",
       "</table>\n",
       "</div>"
      ],
      "text/plain": [
       "       fips      county    state  pct_diabetes18  class\n",
       "3137  56037  Sweetwater  Wyoming             7.8    0.0\n",
       "3138  56039       Teton  Wyoming             3.8    0.0\n",
       "3139  56041       Uinta  Wyoming             8.4    0.0\n",
       "3140  56043    Washakie  Wyoming             7.4    0.0\n",
       "3141  56045      Weston  Wyoming             7.6    0.0"
      ]
     },
     "execution_count": 534,
     "metadata": {},
     "output_type": "execute_result"
    }
   ],
   "source": [
    "d18_rec.tail()"
   ]
  },
  {
   "cell_type": "code",
   "execution_count": 535,
   "id": "b236116f",
   "metadata": {},
   "outputs": [
    {
     "data": {
      "text/plain": [
       "count     3142.000000\n",
       "mean     30383.649268\n",
       "std      15162.508374\n",
       "min       1001.000000\n",
       "25%      18177.500000\n",
       "50%      29176.000000\n",
       "75%      45080.500000\n",
       "max      56045.000000\n",
       "Name: fips, dtype: float64"
      ]
     },
     "execution_count": 535,
     "metadata": {},
     "output_type": "execute_result"
    }
   ],
   "source": [
    "restaurants_rec.fips.describe()"
   ]
  },
  {
   "cell_type": "code",
   "execution_count": 536,
   "id": "d29ec662",
   "metadata": {},
   "outputs": [
    {
     "data": {
      "text/plain": [
       "count     3142.000000\n",
       "mean     30383.649268\n",
       "std      15162.508374\n",
       "min       1001.000000\n",
       "25%      18177.500000\n",
       "50%      29176.000000\n",
       "75%      45080.500000\n",
       "max      56045.000000\n",
       "Name: fips, dtype: float64"
      ]
     },
     "execution_count": 536,
     "metadata": {},
     "output_type": "execute_result"
    }
   ],
   "source": [
    "d18_rec.fips.describe()"
   ]
  },
  {
   "cell_type": "markdown",
   "id": "4f402acd",
   "metadata": {},
   "source": [
    "The restaurants and diabetes atlas data match. I will add the diabetes into the restaurants dataframe."
   ]
  },
  {
   "cell_type": "code",
   "execution_count": 537,
   "id": "3e008c96",
   "metadata": {},
   "outputs": [
    {
     "data": {
      "text/html": [
       "<div>\n",
       "<style scoped>\n",
       "    .dataframe tbody tr th:only-of-type {\n",
       "        vertical-align: middle;\n",
       "    }\n",
       "\n",
       "    .dataframe tbody tr th {\n",
       "        vertical-align: top;\n",
       "    }\n",
       "\n",
       "    .dataframe thead th {\n",
       "        text-align: right;\n",
       "    }\n",
       "</style>\n",
       "<table border=\"1\" class=\"dataframe\">\n",
       "  <thead>\n",
       "    <tr style=\"text-align: right;\">\n",
       "      <th></th>\n",
       "      <th>fips</th>\n",
       "      <th>state</th>\n",
       "      <th>county</th>\n",
       "      <th>ffr11</th>\n",
       "      <th>ffr16</th>\n",
       "      <th>ffrpth11</th>\n",
       "      <th>ffrpth16</th>\n",
       "      <th>fsr11</th>\n",
       "      <th>fsr16</th>\n",
       "      <th>fsrpth11</th>\n",
       "      <th>fsrpth16</th>\n",
       "      <th>pc_ffrsales07</th>\n",
       "      <th>pc_ffrsales12</th>\n",
       "      <th>pc_fsrsales07</th>\n",
       "      <th>pc_fsrsales12</th>\n",
       "      <th>pct_diabetes18</th>\n",
       "      <th>class</th>\n",
       "    </tr>\n",
       "  </thead>\n",
       "  <tbody>\n",
       "    <tr>\n",
       "      <th>0</th>\n",
       "      <td>1001</td>\n",
       "      <td>AL</td>\n",
       "      <td>Autauga</td>\n",
       "      <td>34</td>\n",
       "      <td>44</td>\n",
       "      <td>0.615953</td>\n",
       "      <td>0.795977</td>\n",
       "      <td>32</td>\n",
       "      <td>31</td>\n",
       "      <td>0.579721</td>\n",
       "      <td>0.560802</td>\n",
       "      <td>649.511367</td>\n",
       "      <td>674.80272</td>\n",
       "      <td>484.381507</td>\n",
       "      <td>512.280987</td>\n",
       "      <td>9.5</td>\n",
       "      <td>1.0</td>\n",
       "    </tr>\n",
       "    <tr>\n",
       "      <th>1</th>\n",
       "      <td>1003</td>\n",
       "      <td>AL</td>\n",
       "      <td>Baldwin</td>\n",
       "      <td>121</td>\n",
       "      <td>156</td>\n",
       "      <td>0.648675</td>\n",
       "      <td>0.751775</td>\n",
       "      <td>216</td>\n",
       "      <td>236</td>\n",
       "      <td>1.157966</td>\n",
       "      <td>1.137300</td>\n",
       "      <td>649.511367</td>\n",
       "      <td>674.80272</td>\n",
       "      <td>484.381507</td>\n",
       "      <td>512.280987</td>\n",
       "      <td>8.4</td>\n",
       "      <td>0.0</td>\n",
       "    </tr>\n",
       "    <tr>\n",
       "      <th>2</th>\n",
       "      <td>1005</td>\n",
       "      <td>AL</td>\n",
       "      <td>Barbour</td>\n",
       "      <td>19</td>\n",
       "      <td>23</td>\n",
       "      <td>0.694673</td>\n",
       "      <td>0.892372</td>\n",
       "      <td>17</td>\n",
       "      <td>14</td>\n",
       "      <td>0.621549</td>\n",
       "      <td>0.543183</td>\n",
       "      <td>649.511367</td>\n",
       "      <td>674.80272</td>\n",
       "      <td>484.381507</td>\n",
       "      <td>512.280987</td>\n",
       "      <td>13.5</td>\n",
       "      <td>1.0</td>\n",
       "    </tr>\n",
       "    <tr>\n",
       "      <th>3</th>\n",
       "      <td>1007</td>\n",
       "      <td>AL</td>\n",
       "      <td>Bibb</td>\n",
       "      <td>6</td>\n",
       "      <td>7</td>\n",
       "      <td>0.263794</td>\n",
       "      <td>0.309283</td>\n",
       "      <td>5</td>\n",
       "      <td>7</td>\n",
       "      <td>0.219829</td>\n",
       "      <td>0.309283</td>\n",
       "      <td>649.511367</td>\n",
       "      <td>674.80272</td>\n",
       "      <td>484.381507</td>\n",
       "      <td>512.280987</td>\n",
       "      <td>10.2</td>\n",
       "      <td>1.0</td>\n",
       "    </tr>\n",
       "    <tr>\n",
       "      <th>4</th>\n",
       "      <td>1009</td>\n",
       "      <td>AL</td>\n",
       "      <td>Blount</td>\n",
       "      <td>20</td>\n",
       "      <td>23</td>\n",
       "      <td>0.347451</td>\n",
       "      <td>0.399569</td>\n",
       "      <td>15</td>\n",
       "      <td>12</td>\n",
       "      <td>0.260589</td>\n",
       "      <td>0.208471</td>\n",
       "      <td>649.511367</td>\n",
       "      <td>674.80272</td>\n",
       "      <td>484.381507</td>\n",
       "      <td>512.280987</td>\n",
       "      <td>10.5</td>\n",
       "      <td>1.0</td>\n",
       "    </tr>\n",
       "  </tbody>\n",
       "</table>\n",
       "</div>"
      ],
      "text/plain": [
       "   fips state   county  ffr11  ffr16  ffrpth11  ffrpth16  fsr11  fsr16  \\\n",
       "0  1001    AL  Autauga     34     44  0.615953  0.795977     32     31   \n",
       "1  1003    AL  Baldwin    121    156  0.648675  0.751775    216    236   \n",
       "2  1005    AL  Barbour     19     23  0.694673  0.892372     17     14   \n",
       "3  1007    AL     Bibb      6      7  0.263794  0.309283      5      7   \n",
       "4  1009    AL   Blount     20     23  0.347451  0.399569     15     12   \n",
       "\n",
       "   fsrpth11  fsrpth16  pc_ffrsales07  pc_ffrsales12  pc_fsrsales07  \\\n",
       "0  0.579721  0.560802     649.511367      674.80272     484.381507   \n",
       "1  1.157966  1.137300     649.511367      674.80272     484.381507   \n",
       "2  0.621549  0.543183     649.511367      674.80272     484.381507   \n",
       "3  0.219829  0.309283     649.511367      674.80272     484.381507   \n",
       "4  0.260589  0.208471     649.511367      674.80272     484.381507   \n",
       "\n",
       "   pc_fsrsales12  pct_diabetes18  class  \n",
       "0     512.280987             9.5    1.0  \n",
       "1     512.280987             8.4    0.0  \n",
       "2     512.280987            13.5    1.0  \n",
       "3     512.280987            10.2    1.0  \n",
       "4     512.280987            10.5    1.0  "
      ]
     },
     "execution_count": 537,
     "metadata": {},
     "output_type": "execute_result"
    }
   ],
   "source": [
    "restaurants_rec['pct_diabetes18'] = d18_rec['pct_diabetes18']\n",
    "\n",
    "restaurants_rec['class'] = d18_rec['class']\n",
    "\n",
    "restaurants_rec.head()"
   ]
  },
  {
   "cell_type": "code",
   "execution_count": 538,
   "id": "a3cb00fa",
   "metadata": {},
   "outputs": [
    {
     "data": {
      "text/plain": [
       "(3142, 17)"
      ]
     },
     "execution_count": 538,
     "metadata": {},
     "output_type": "execute_result"
    }
   ],
   "source": [
    "restaurants_rec.shape"
   ]
  },
  {
   "cell_type": "markdown",
   "id": "9b2e2b8e",
   "metadata": {},
   "source": [
    "The diabetes columns have been added. I will address null values."
   ]
  },
  {
   "cell_type": "code",
   "execution_count": 539,
   "id": "ed6312f7",
   "metadata": {},
   "outputs": [
    {
     "data": {
      "text/plain": [
       "fips              0\n",
       "state             0\n",
       "county            0\n",
       "ffr11             0\n",
       "ffr16             0\n",
       "ffrpth11          0\n",
       "ffrpth16          0\n",
       "fsr11             0\n",
       "fsr16             0\n",
       "fsrpth11          0\n",
       "fsrpth16          0\n",
       "pc_ffrsales07     0\n",
       "pc_ffrsales12     0\n",
       "pc_fsrsales07     0\n",
       "pc_fsrsales12     0\n",
       "pct_diabetes18    0\n",
       "class             0\n",
       "dtype: int64"
      ]
     },
     "execution_count": 539,
     "metadata": {},
     "output_type": "execute_result"
    }
   ],
   "source": [
    "restaurants_rec.isnull().sum()"
   ]
  },
  {
   "cell_type": "markdown",
   "id": "3beec913",
   "metadata": {},
   "source": [
    "There are no missing values. I will save the dataframe for modeling."
   ]
  },
  {
   "cell_type": "code",
   "execution_count": 540,
   "id": "ba7e9468",
   "metadata": {},
   "outputs": [],
   "source": [
    "restaurants_rec.to_csv('../data/FoodEnvironmentAtlas.xls.RESTAURANTS_Modeling.csv', index=False)"
   ]
  },
  {
   "cell_type": "markdown",
   "id": "26900493",
   "metadata": {},
   "source": [
    "### Socioeconomic"
   ]
  },
  {
   "cell_type": "code",
   "execution_count": 541,
   "id": "01b84417",
   "metadata": {},
   "outputs": [],
   "source": [
    "file_path = '../data/FoodEnvironmentAtlas.xls.SOCIOECONOMIC_REC.csv'\n",
    "\n",
    "sec_rec = pd.read_csv(file_path)"
   ]
  },
  {
   "cell_type": "code",
   "execution_count": 542,
   "id": "aadd9961",
   "metadata": {},
   "outputs": [
    {
     "data": {
      "text/plain": [
       "(3142, 12)"
      ]
     },
     "execution_count": 542,
     "metadata": {},
     "output_type": "execute_result"
    }
   ],
   "source": [
    "sec_rec.shape"
   ]
  },
  {
   "cell_type": "code",
   "execution_count": 543,
   "id": "97e978e9",
   "metadata": {},
   "outputs": [
    {
     "data": {
      "text/html": [
       "<div>\n",
       "<style scoped>\n",
       "    .dataframe tbody tr th:only-of-type {\n",
       "        vertical-align: middle;\n",
       "    }\n",
       "\n",
       "    .dataframe tbody tr th {\n",
       "        vertical-align: top;\n",
       "    }\n",
       "\n",
       "    .dataframe thead th {\n",
       "        text-align: right;\n",
       "    }\n",
       "</style>\n",
       "<table border=\"1\" class=\"dataframe\">\n",
       "  <thead>\n",
       "    <tr style=\"text-align: right;\">\n",
       "      <th></th>\n",
       "      <th>fips</th>\n",
       "      <th>state</th>\n",
       "      <th>county</th>\n",
       "      <th>pct_65older10</th>\n",
       "      <th>pct_18younger10</th>\n",
       "      <th>medhhinc15</th>\n",
       "      <th>povrate15</th>\n",
       "      <th>perpov10</th>\n",
       "      <th>childpovrate15</th>\n",
       "      <th>perchldpov10</th>\n",
       "      <th>metro13</th>\n",
       "      <th>poploss10</th>\n",
       "    </tr>\n",
       "  </thead>\n",
       "  <tbody>\n",
       "    <tr>\n",
       "      <th>0</th>\n",
       "      <td>1001</td>\n",
       "      <td>AL</td>\n",
       "      <td>Autauga</td>\n",
       "      <td>11.995382</td>\n",
       "      <td>26.777959</td>\n",
       "      <td>56580.0</td>\n",
       "      <td>12.7</td>\n",
       "      <td>0</td>\n",
       "      <td>18.8</td>\n",
       "      <td>0</td>\n",
       "      <td>1</td>\n",
       "      <td>0.0</td>\n",
       "    </tr>\n",
       "    <tr>\n",
       "      <th>1</th>\n",
       "      <td>1003</td>\n",
       "      <td>AL</td>\n",
       "      <td>Baldwin</td>\n",
       "      <td>16.771185</td>\n",
       "      <td>22.987408</td>\n",
       "      <td>52387.0</td>\n",
       "      <td>12.9</td>\n",
       "      <td>0</td>\n",
       "      <td>19.6</td>\n",
       "      <td>0</td>\n",
       "      <td>1</td>\n",
       "      <td>0.0</td>\n",
       "    </tr>\n",
       "    <tr>\n",
       "      <th>2</th>\n",
       "      <td>1005</td>\n",
       "      <td>AL</td>\n",
       "      <td>Barbour</td>\n",
       "      <td>14.236807</td>\n",
       "      <td>21.906982</td>\n",
       "      <td>31433.0</td>\n",
       "      <td>32.0</td>\n",
       "      <td>1</td>\n",
       "      <td>45.2</td>\n",
       "      <td>1</td>\n",
       "      <td>0</td>\n",
       "      <td>0.0</td>\n",
       "    </tr>\n",
       "    <tr>\n",
       "      <th>3</th>\n",
       "      <td>1007</td>\n",
       "      <td>AL</td>\n",
       "      <td>Bibb</td>\n",
       "      <td>12.681650</td>\n",
       "      <td>22.696923</td>\n",
       "      <td>40767.0</td>\n",
       "      <td>22.2</td>\n",
       "      <td>0</td>\n",
       "      <td>29.3</td>\n",
       "      <td>1</td>\n",
       "      <td>1</td>\n",
       "      <td>0.0</td>\n",
       "    </tr>\n",
       "    <tr>\n",
       "      <th>4</th>\n",
       "      <td>1009</td>\n",
       "      <td>AL</td>\n",
       "      <td>Blount</td>\n",
       "      <td>14.722096</td>\n",
       "      <td>24.608353</td>\n",
       "      <td>50487.0</td>\n",
       "      <td>14.7</td>\n",
       "      <td>0</td>\n",
       "      <td>22.2</td>\n",
       "      <td>0</td>\n",
       "      <td>1</td>\n",
       "      <td>0.0</td>\n",
       "    </tr>\n",
       "  </tbody>\n",
       "</table>\n",
       "</div>"
      ],
      "text/plain": [
       "   fips state   county  pct_65older10  pct_18younger10  medhhinc15  povrate15  \\\n",
       "0  1001    AL  Autauga      11.995382        26.777959     56580.0       12.7   \n",
       "1  1003    AL  Baldwin      16.771185        22.987408     52387.0       12.9   \n",
       "2  1005    AL  Barbour      14.236807        21.906982     31433.0       32.0   \n",
       "3  1007    AL     Bibb      12.681650        22.696923     40767.0       22.2   \n",
       "4  1009    AL   Blount      14.722096        24.608353     50487.0       14.7   \n",
       "\n",
       "   perpov10  childpovrate15  perchldpov10  metro13  poploss10  \n",
       "0         0            18.8             0        1        0.0  \n",
       "1         0            19.6             0        1        0.0  \n",
       "2         1            45.2             1        0        0.0  \n",
       "3         0            29.3             1        1        0.0  \n",
       "4         0            22.2             0        1        0.0  "
      ]
     },
     "execution_count": 543,
     "metadata": {},
     "output_type": "execute_result"
    }
   ],
   "source": [
    "sec_rec.head()"
   ]
  },
  {
   "cell_type": "code",
   "execution_count": 544,
   "id": "76ab3ed2",
   "metadata": {},
   "outputs": [
    {
     "data": {
      "text/html": [
       "<div>\n",
       "<style scoped>\n",
       "    .dataframe tbody tr th:only-of-type {\n",
       "        vertical-align: middle;\n",
       "    }\n",
       "\n",
       "    .dataframe tbody tr th {\n",
       "        vertical-align: top;\n",
       "    }\n",
       "\n",
       "    .dataframe thead th {\n",
       "        text-align: right;\n",
       "    }\n",
       "</style>\n",
       "<table border=\"1\" class=\"dataframe\">\n",
       "  <thead>\n",
       "    <tr style=\"text-align: right;\">\n",
       "      <th></th>\n",
       "      <th>fips</th>\n",
       "      <th>county</th>\n",
       "      <th>state</th>\n",
       "      <th>pct_diabetes18</th>\n",
       "      <th>class</th>\n",
       "    </tr>\n",
       "  </thead>\n",
       "  <tbody>\n",
       "    <tr>\n",
       "      <th>0</th>\n",
       "      <td>1001</td>\n",
       "      <td>Autauga</td>\n",
       "      <td>Alabama</td>\n",
       "      <td>9.5</td>\n",
       "      <td>1.0</td>\n",
       "    </tr>\n",
       "    <tr>\n",
       "      <th>1</th>\n",
       "      <td>1003</td>\n",
       "      <td>Baldwin</td>\n",
       "      <td>Alabama</td>\n",
       "      <td>8.4</td>\n",
       "      <td>0.0</td>\n",
       "    </tr>\n",
       "    <tr>\n",
       "      <th>2</th>\n",
       "      <td>1005</td>\n",
       "      <td>Barbour</td>\n",
       "      <td>Alabama</td>\n",
       "      <td>13.5</td>\n",
       "      <td>1.0</td>\n",
       "    </tr>\n",
       "    <tr>\n",
       "      <th>3</th>\n",
       "      <td>1007</td>\n",
       "      <td>Bibb</td>\n",
       "      <td>Alabama</td>\n",
       "      <td>10.2</td>\n",
       "      <td>1.0</td>\n",
       "    </tr>\n",
       "    <tr>\n",
       "      <th>4</th>\n",
       "      <td>1009</td>\n",
       "      <td>Blount</td>\n",
       "      <td>Alabama</td>\n",
       "      <td>10.5</td>\n",
       "      <td>1.0</td>\n",
       "    </tr>\n",
       "  </tbody>\n",
       "</table>\n",
       "</div>"
      ],
      "text/plain": [
       "   fips   county    state  pct_diabetes18  class\n",
       "0  1001  Autauga  Alabama             9.5    1.0\n",
       "1  1003  Baldwin  Alabama             8.4    0.0\n",
       "2  1005  Barbour  Alabama            13.5    1.0\n",
       "3  1007     Bibb  Alabama            10.2    1.0\n",
       "4  1009   Blount  Alabama            10.5    1.0"
      ]
     },
     "execution_count": 544,
     "metadata": {},
     "output_type": "execute_result"
    }
   ],
   "source": [
    "d18_rec.head()"
   ]
  },
  {
   "cell_type": "code",
   "execution_count": 545,
   "id": "9a497813",
   "metadata": {},
   "outputs": [
    {
     "data": {
      "text/html": [
       "<div>\n",
       "<style scoped>\n",
       "    .dataframe tbody tr th:only-of-type {\n",
       "        vertical-align: middle;\n",
       "    }\n",
       "\n",
       "    .dataframe tbody tr th {\n",
       "        vertical-align: top;\n",
       "    }\n",
       "\n",
       "    .dataframe thead th {\n",
       "        text-align: right;\n",
       "    }\n",
       "</style>\n",
       "<table border=\"1\" class=\"dataframe\">\n",
       "  <thead>\n",
       "    <tr style=\"text-align: right;\">\n",
       "      <th></th>\n",
       "      <th>fips</th>\n",
       "      <th>state</th>\n",
       "      <th>county</th>\n",
       "      <th>pct_65older10</th>\n",
       "      <th>pct_18younger10</th>\n",
       "      <th>medhhinc15</th>\n",
       "      <th>povrate15</th>\n",
       "      <th>perpov10</th>\n",
       "      <th>childpovrate15</th>\n",
       "      <th>perchldpov10</th>\n",
       "      <th>metro13</th>\n",
       "      <th>poploss10</th>\n",
       "    </tr>\n",
       "  </thead>\n",
       "  <tbody>\n",
       "    <tr>\n",
       "      <th>3137</th>\n",
       "      <td>56037</td>\n",
       "      <td>WY</td>\n",
       "      <td>Sweetwater</td>\n",
       "      <td>8.316212</td>\n",
       "      <td>27.094462</td>\n",
       "      <td>71867.0</td>\n",
       "      <td>8.5</td>\n",
       "      <td>0</td>\n",
       "      <td>10.2</td>\n",
       "      <td>0</td>\n",
       "      <td>0</td>\n",
       "      <td>0.0</td>\n",
       "    </tr>\n",
       "    <tr>\n",
       "      <th>3138</th>\n",
       "      <td>56039</td>\n",
       "      <td>WY</td>\n",
       "      <td>Teton</td>\n",
       "      <td>9.852541</td>\n",
       "      <td>19.141542</td>\n",
       "      <td>83290.0</td>\n",
       "      <td>6.6</td>\n",
       "      <td>0</td>\n",
       "      <td>7.6</td>\n",
       "      <td>0</td>\n",
       "      <td>0</td>\n",
       "      <td>0.0</td>\n",
       "    </tr>\n",
       "    <tr>\n",
       "      <th>3139</th>\n",
       "      <td>56041</td>\n",
       "      <td>WY</td>\n",
       "      <td>Uinta</td>\n",
       "      <td>8.873946</td>\n",
       "      <td>30.168577</td>\n",
       "      <td>62968.0</td>\n",
       "      <td>9.8</td>\n",
       "      <td>0</td>\n",
       "      <td>11.9</td>\n",
       "      <td>0</td>\n",
       "      <td>0</td>\n",
       "      <td>0.0</td>\n",
       "    </tr>\n",
       "    <tr>\n",
       "      <th>3140</th>\n",
       "      <td>56043</td>\n",
       "      <td>WY</td>\n",
       "      <td>Washakie</td>\n",
       "      <td>17.672565</td>\n",
       "      <td>25.454119</td>\n",
       "      <td>56088.0</td>\n",
       "      <td>11.2</td>\n",
       "      <td>0</td>\n",
       "      <td>15.7</td>\n",
       "      <td>0</td>\n",
       "      <td>0</td>\n",
       "      <td>0.0</td>\n",
       "    </tr>\n",
       "    <tr>\n",
       "      <th>3141</th>\n",
       "      <td>56045</td>\n",
       "      <td>WY</td>\n",
       "      <td>Weston</td>\n",
       "      <td>15.940622</td>\n",
       "      <td>21.822974</td>\n",
       "      <td>60986.0</td>\n",
       "      <td>9.8</td>\n",
       "      <td>0</td>\n",
       "      <td>13.1</td>\n",
       "      <td>0</td>\n",
       "      <td>0</td>\n",
       "      <td>0.0</td>\n",
       "    </tr>\n",
       "  </tbody>\n",
       "</table>\n",
       "</div>"
      ],
      "text/plain": [
       "       fips state      county  pct_65older10  pct_18younger10  medhhinc15  \\\n",
       "3137  56037    WY  Sweetwater       8.316212        27.094462     71867.0   \n",
       "3138  56039    WY       Teton       9.852541        19.141542     83290.0   \n",
       "3139  56041    WY       Uinta       8.873946        30.168577     62968.0   \n",
       "3140  56043    WY    Washakie      17.672565        25.454119     56088.0   \n",
       "3141  56045    WY      Weston      15.940622        21.822974     60986.0   \n",
       "\n",
       "      povrate15  perpov10  childpovrate15  perchldpov10  metro13  poploss10  \n",
       "3137        8.5         0            10.2             0        0        0.0  \n",
       "3138        6.6         0             7.6             0        0        0.0  \n",
       "3139        9.8         0            11.9             0        0        0.0  \n",
       "3140       11.2         0            15.7             0        0        0.0  \n",
       "3141        9.8         0            13.1             0        0        0.0  "
      ]
     },
     "execution_count": 545,
     "metadata": {},
     "output_type": "execute_result"
    }
   ],
   "source": [
    "sec_rec.tail()"
   ]
  },
  {
   "cell_type": "code",
   "execution_count": 546,
   "id": "45310e25",
   "metadata": {},
   "outputs": [
    {
     "data": {
      "text/html": [
       "<div>\n",
       "<style scoped>\n",
       "    .dataframe tbody tr th:only-of-type {\n",
       "        vertical-align: middle;\n",
       "    }\n",
       "\n",
       "    .dataframe tbody tr th {\n",
       "        vertical-align: top;\n",
       "    }\n",
       "\n",
       "    .dataframe thead th {\n",
       "        text-align: right;\n",
       "    }\n",
       "</style>\n",
       "<table border=\"1\" class=\"dataframe\">\n",
       "  <thead>\n",
       "    <tr style=\"text-align: right;\">\n",
       "      <th></th>\n",
       "      <th>fips</th>\n",
       "      <th>county</th>\n",
       "      <th>state</th>\n",
       "      <th>pct_diabetes18</th>\n",
       "      <th>class</th>\n",
       "    </tr>\n",
       "  </thead>\n",
       "  <tbody>\n",
       "    <tr>\n",
       "      <th>3137</th>\n",
       "      <td>56037</td>\n",
       "      <td>Sweetwater</td>\n",
       "      <td>Wyoming</td>\n",
       "      <td>7.8</td>\n",
       "      <td>0.0</td>\n",
       "    </tr>\n",
       "    <tr>\n",
       "      <th>3138</th>\n",
       "      <td>56039</td>\n",
       "      <td>Teton</td>\n",
       "      <td>Wyoming</td>\n",
       "      <td>3.8</td>\n",
       "      <td>0.0</td>\n",
       "    </tr>\n",
       "    <tr>\n",
       "      <th>3139</th>\n",
       "      <td>56041</td>\n",
       "      <td>Uinta</td>\n",
       "      <td>Wyoming</td>\n",
       "      <td>8.4</td>\n",
       "      <td>0.0</td>\n",
       "    </tr>\n",
       "    <tr>\n",
       "      <th>3140</th>\n",
       "      <td>56043</td>\n",
       "      <td>Washakie</td>\n",
       "      <td>Wyoming</td>\n",
       "      <td>7.4</td>\n",
       "      <td>0.0</td>\n",
       "    </tr>\n",
       "    <tr>\n",
       "      <th>3141</th>\n",
       "      <td>56045</td>\n",
       "      <td>Weston</td>\n",
       "      <td>Wyoming</td>\n",
       "      <td>7.6</td>\n",
       "      <td>0.0</td>\n",
       "    </tr>\n",
       "  </tbody>\n",
       "</table>\n",
       "</div>"
      ],
      "text/plain": [
       "       fips      county    state  pct_diabetes18  class\n",
       "3137  56037  Sweetwater  Wyoming             7.8    0.0\n",
       "3138  56039       Teton  Wyoming             3.8    0.0\n",
       "3139  56041       Uinta  Wyoming             8.4    0.0\n",
       "3140  56043    Washakie  Wyoming             7.4    0.0\n",
       "3141  56045      Weston  Wyoming             7.6    0.0"
      ]
     },
     "execution_count": 546,
     "metadata": {},
     "output_type": "execute_result"
    }
   ],
   "source": [
    "d18_rec.tail()"
   ]
  },
  {
   "cell_type": "code",
   "execution_count": 547,
   "id": "64f1b803",
   "metadata": {},
   "outputs": [
    {
     "data": {
      "text/plain": [
       "count     3142.000000\n",
       "mean     30383.649268\n",
       "std      15162.508374\n",
       "min       1001.000000\n",
       "25%      18177.500000\n",
       "50%      29176.000000\n",
       "75%      45080.500000\n",
       "max      56045.000000\n",
       "Name: fips, dtype: float64"
      ]
     },
     "execution_count": 547,
     "metadata": {},
     "output_type": "execute_result"
    }
   ],
   "source": [
    "sec_rec.fips.describe()"
   ]
  },
  {
   "cell_type": "code",
   "execution_count": 548,
   "id": "13909dbe",
   "metadata": {},
   "outputs": [
    {
     "data": {
      "text/plain": [
       "count     3142.000000\n",
       "mean     30383.649268\n",
       "std      15162.508374\n",
       "min       1001.000000\n",
       "25%      18177.500000\n",
       "50%      29176.000000\n",
       "75%      45080.500000\n",
       "max      56045.000000\n",
       "Name: fips, dtype: float64"
      ]
     },
     "execution_count": 548,
     "metadata": {},
     "output_type": "execute_result"
    }
   ],
   "source": [
    "d18_rec.fips.describe()"
   ]
  },
  {
   "cell_type": "markdown",
   "id": "43fbeb21",
   "metadata": {},
   "source": [
    "The datasets match. I will add the diabetes columns into the Socioeconomic dataframe."
   ]
  },
  {
   "cell_type": "code",
   "execution_count": 549,
   "id": "ee981100",
   "metadata": {},
   "outputs": [
    {
     "data": {
      "text/html": [
       "<div>\n",
       "<style scoped>\n",
       "    .dataframe tbody tr th:only-of-type {\n",
       "        vertical-align: middle;\n",
       "    }\n",
       "\n",
       "    .dataframe tbody tr th {\n",
       "        vertical-align: top;\n",
       "    }\n",
       "\n",
       "    .dataframe thead th {\n",
       "        text-align: right;\n",
       "    }\n",
       "</style>\n",
       "<table border=\"1\" class=\"dataframe\">\n",
       "  <thead>\n",
       "    <tr style=\"text-align: right;\">\n",
       "      <th></th>\n",
       "      <th>fips</th>\n",
       "      <th>state</th>\n",
       "      <th>county</th>\n",
       "      <th>pct_65older10</th>\n",
       "      <th>pct_18younger10</th>\n",
       "      <th>medhhinc15</th>\n",
       "      <th>povrate15</th>\n",
       "      <th>perpov10</th>\n",
       "      <th>childpovrate15</th>\n",
       "      <th>perchldpov10</th>\n",
       "      <th>metro13</th>\n",
       "      <th>poploss10</th>\n",
       "      <th>pct_diabetes18</th>\n",
       "      <th>class</th>\n",
       "    </tr>\n",
       "  </thead>\n",
       "  <tbody>\n",
       "    <tr>\n",
       "      <th>0</th>\n",
       "      <td>1001</td>\n",
       "      <td>AL</td>\n",
       "      <td>Autauga</td>\n",
       "      <td>11.995382</td>\n",
       "      <td>26.777959</td>\n",
       "      <td>56580.0</td>\n",
       "      <td>12.7</td>\n",
       "      <td>0</td>\n",
       "      <td>18.8</td>\n",
       "      <td>0</td>\n",
       "      <td>1</td>\n",
       "      <td>0.0</td>\n",
       "      <td>9.5</td>\n",
       "      <td>1.0</td>\n",
       "    </tr>\n",
       "    <tr>\n",
       "      <th>1</th>\n",
       "      <td>1003</td>\n",
       "      <td>AL</td>\n",
       "      <td>Baldwin</td>\n",
       "      <td>16.771185</td>\n",
       "      <td>22.987408</td>\n",
       "      <td>52387.0</td>\n",
       "      <td>12.9</td>\n",
       "      <td>0</td>\n",
       "      <td>19.6</td>\n",
       "      <td>0</td>\n",
       "      <td>1</td>\n",
       "      <td>0.0</td>\n",
       "      <td>8.4</td>\n",
       "      <td>0.0</td>\n",
       "    </tr>\n",
       "    <tr>\n",
       "      <th>2</th>\n",
       "      <td>1005</td>\n",
       "      <td>AL</td>\n",
       "      <td>Barbour</td>\n",
       "      <td>14.236807</td>\n",
       "      <td>21.906982</td>\n",
       "      <td>31433.0</td>\n",
       "      <td>32.0</td>\n",
       "      <td>1</td>\n",
       "      <td>45.2</td>\n",
       "      <td>1</td>\n",
       "      <td>0</td>\n",
       "      <td>0.0</td>\n",
       "      <td>13.5</td>\n",
       "      <td>1.0</td>\n",
       "    </tr>\n",
       "    <tr>\n",
       "      <th>3</th>\n",
       "      <td>1007</td>\n",
       "      <td>AL</td>\n",
       "      <td>Bibb</td>\n",
       "      <td>12.681650</td>\n",
       "      <td>22.696923</td>\n",
       "      <td>40767.0</td>\n",
       "      <td>22.2</td>\n",
       "      <td>0</td>\n",
       "      <td>29.3</td>\n",
       "      <td>1</td>\n",
       "      <td>1</td>\n",
       "      <td>0.0</td>\n",
       "      <td>10.2</td>\n",
       "      <td>1.0</td>\n",
       "    </tr>\n",
       "    <tr>\n",
       "      <th>4</th>\n",
       "      <td>1009</td>\n",
       "      <td>AL</td>\n",
       "      <td>Blount</td>\n",
       "      <td>14.722096</td>\n",
       "      <td>24.608353</td>\n",
       "      <td>50487.0</td>\n",
       "      <td>14.7</td>\n",
       "      <td>0</td>\n",
       "      <td>22.2</td>\n",
       "      <td>0</td>\n",
       "      <td>1</td>\n",
       "      <td>0.0</td>\n",
       "      <td>10.5</td>\n",
       "      <td>1.0</td>\n",
       "    </tr>\n",
       "  </tbody>\n",
       "</table>\n",
       "</div>"
      ],
      "text/plain": [
       "   fips state   county  pct_65older10  pct_18younger10  medhhinc15  povrate15  \\\n",
       "0  1001    AL  Autauga      11.995382        26.777959     56580.0       12.7   \n",
       "1  1003    AL  Baldwin      16.771185        22.987408     52387.0       12.9   \n",
       "2  1005    AL  Barbour      14.236807        21.906982     31433.0       32.0   \n",
       "3  1007    AL     Bibb      12.681650        22.696923     40767.0       22.2   \n",
       "4  1009    AL   Blount      14.722096        24.608353     50487.0       14.7   \n",
       "\n",
       "   perpov10  childpovrate15  perchldpov10  metro13  poploss10  pct_diabetes18  \\\n",
       "0         0            18.8             0        1        0.0             9.5   \n",
       "1         0            19.6             0        1        0.0             8.4   \n",
       "2         1            45.2             1        0        0.0            13.5   \n",
       "3         0            29.3             1        1        0.0            10.2   \n",
       "4         0            22.2             0        1        0.0            10.5   \n",
       "\n",
       "   class  \n",
       "0    1.0  \n",
       "1    0.0  \n",
       "2    1.0  \n",
       "3    1.0  \n",
       "4    1.0  "
      ]
     },
     "execution_count": 549,
     "metadata": {},
     "output_type": "execute_result"
    }
   ],
   "source": [
    "sec_rec['pct_diabetes18'] = d18_rec['pct_diabetes18']\n",
    "\n",
    "sec_rec['class'] = d18_rec['class']\n",
    "\n",
    "sec_rec.head()"
   ]
  },
  {
   "cell_type": "code",
   "execution_count": 550,
   "id": "b40e6ae3",
   "metadata": {},
   "outputs": [
    {
     "data": {
      "text/plain": [
       "(3142, 14)"
      ]
     },
     "execution_count": 550,
     "metadata": {},
     "output_type": "execute_result"
    }
   ],
   "source": [
    "sec_rec.shape"
   ]
  },
  {
   "cell_type": "markdown",
   "id": "4dc2c346",
   "metadata": {},
   "source": [
    "The columns have been added. I will address the null values."
   ]
  },
  {
   "cell_type": "code",
   "execution_count": 551,
   "id": "9f9b1f19",
   "metadata": {},
   "outputs": [
    {
     "data": {
      "text/plain": [
       "fips               0\n",
       "state              0\n",
       "county             0\n",
       "pct_65older10      0\n",
       "pct_18younger10    0\n",
       "medhhinc15         3\n",
       "povrate15          3\n",
       "perpov10           0\n",
       "childpovrate15     3\n",
       "perchldpov10       0\n",
       "metro13            0\n",
       "poploss10          2\n",
       "pct_diabetes18     0\n",
       "class              0\n",
       "dtype: int64"
      ]
     },
     "execution_count": 551,
     "metadata": {},
     "output_type": "execute_result"
    }
   ],
   "source": [
    "sec_rec.isnull().sum()"
   ]
  },
  {
   "cell_type": "markdown",
   "id": "99e5c535",
   "metadata": {},
   "source": [
    "There are a small number of missing values in some of the rows. I will investigate."
   ]
  },
  {
   "cell_type": "code",
   "execution_count": 552,
   "id": "3264d9a7",
   "metadata": {},
   "outputs": [
    {
     "data": {
      "text/html": [
       "<div>\n",
       "<style scoped>\n",
       "    .dataframe tbody tr th:only-of-type {\n",
       "        vertical-align: middle;\n",
       "    }\n",
       "\n",
       "    .dataframe tbody tr th {\n",
       "        vertical-align: top;\n",
       "    }\n",
       "\n",
       "    .dataframe thead th {\n",
       "        text-align: right;\n",
       "    }\n",
       "</style>\n",
       "<table border=\"1\" class=\"dataframe\">\n",
       "  <thead>\n",
       "    <tr style=\"text-align: right;\">\n",
       "      <th></th>\n",
       "      <th>fips</th>\n",
       "      <th>state</th>\n",
       "      <th>county</th>\n",
       "      <th>pct_65older10</th>\n",
       "      <th>pct_18younger10</th>\n",
       "      <th>medhhinc15</th>\n",
       "      <th>povrate15</th>\n",
       "      <th>perpov10</th>\n",
       "      <th>childpovrate15</th>\n",
       "      <th>perchldpov10</th>\n",
       "      <th>metro13</th>\n",
       "      <th>poploss10</th>\n",
       "      <th>pct_diabetes18</th>\n",
       "      <th>class</th>\n",
       "    </tr>\n",
       "  </thead>\n",
       "  <tbody>\n",
       "    <tr>\n",
       "      <th>81</th>\n",
       "      <td>2158</td>\n",
       "      <td>AK</td>\n",
       "      <td>Kusilvak Census Area</td>\n",
       "      <td>5.416276</td>\n",
       "      <td>41.573938</td>\n",
       "      <td>NaN</td>\n",
       "      <td>NaN</td>\n",
       "      <td>1</td>\n",
       "      <td>NaN</td>\n",
       "      <td>1</td>\n",
       "      <td>0</td>\n",
       "      <td>NaN</td>\n",
       "      <td>7.4</td>\n",
       "      <td>0.0</td>\n",
       "    </tr>\n",
       "    <tr>\n",
       "      <th>548</th>\n",
       "      <td>15005</td>\n",
       "      <td>HI</td>\n",
       "      <td>Kalawao</td>\n",
       "      <td>28.888889</td>\n",
       "      <td>0.000000</td>\n",
       "      <td>NaN</td>\n",
       "      <td>NaN</td>\n",
       "      <td>0</td>\n",
       "      <td>NaN</td>\n",
       "      <td>0</td>\n",
       "      <td>1</td>\n",
       "      <td>0.0</td>\n",
       "      <td>8.4</td>\n",
       "      <td>0.0</td>\n",
       "    </tr>\n",
       "    <tr>\n",
       "      <th>2412</th>\n",
       "      <td>46102</td>\n",
       "      <td>SD</td>\n",
       "      <td>Oglala Lakota</td>\n",
       "      <td>5.881054</td>\n",
       "      <td>39.319888</td>\n",
       "      <td>NaN</td>\n",
       "      <td>NaN</td>\n",
       "      <td>1</td>\n",
       "      <td>NaN</td>\n",
       "      <td>1</td>\n",
       "      <td>0</td>\n",
       "      <td>NaN</td>\n",
       "      <td>17.9</td>\n",
       "      <td>1.0</td>\n",
       "    </tr>\n",
       "  </tbody>\n",
       "</table>\n",
       "</div>"
      ],
      "text/plain": [
       "       fips state                county  pct_65older10  pct_18younger10  \\\n",
       "81     2158    AK  Kusilvak Census Area       5.416276        41.573938   \n",
       "548   15005    HI               Kalawao      28.888889         0.000000   \n",
       "2412  46102    SD         Oglala Lakota       5.881054        39.319888   \n",
       "\n",
       "      medhhinc15  povrate15  perpov10  childpovrate15  perchldpov10  metro13  \\\n",
       "81           NaN        NaN         1             NaN             1        0   \n",
       "548          NaN        NaN         0             NaN             0        1   \n",
       "2412         NaN        NaN         1             NaN             1        0   \n",
       "\n",
       "      poploss10  pct_diabetes18  class  \n",
       "81          NaN             7.4    0.0  \n",
       "548         0.0             8.4    0.0  \n",
       "2412        NaN            17.9    1.0  "
      ]
     },
     "execution_count": 552,
     "metadata": {},
     "output_type": "execute_result"
    }
   ],
   "source": [
    "sec_rec.loc[sec_rec['medhhinc15'].isnull()]"
   ]
  },
  {
   "cell_type": "markdown",
   "id": "922c4be3",
   "metadata": {},
   "source": [
    "I will remove these rows since because they are missing so much data."
   ]
  },
  {
   "cell_type": "code",
   "execution_count": 553,
   "id": "24a2459f",
   "metadata": {},
   "outputs": [],
   "source": [
    "#removes referenced rows above\n",
    "\n",
    "sec_rec= sec_rec[sec_rec['fips'] !=2158]\n",
    "\n",
    "sec_rec= sec_rec[sec_rec['fips'] !=15005]\n",
    "\n",
    "\n",
    "sec_rec= sec_rec[sec_rec['fips'] !=46102]"
   ]
  },
  {
   "cell_type": "code",
   "execution_count": 554,
   "id": "06f4131e",
   "metadata": {},
   "outputs": [
    {
     "data": {
      "text/plain": [
       "(3139, 14)"
      ]
     },
     "execution_count": 554,
     "metadata": {},
     "output_type": "execute_result"
    }
   ],
   "source": [
    "sec_rec.shape"
   ]
  },
  {
   "cell_type": "code",
   "execution_count": 555,
   "id": "30afa539",
   "metadata": {},
   "outputs": [
    {
     "data": {
      "text/plain": [
       "fips               0\n",
       "state              0\n",
       "county             0\n",
       "pct_65older10      0\n",
       "pct_18younger10    0\n",
       "medhhinc15         0\n",
       "povrate15          0\n",
       "perpov10           0\n",
       "childpovrate15     0\n",
       "perchldpov10       0\n",
       "metro13            0\n",
       "poploss10          0\n",
       "pct_diabetes18     0\n",
       "class              0\n",
       "dtype: int64"
      ]
     },
     "execution_count": 555,
     "metadata": {},
     "output_type": "execute_result"
    }
   ],
   "source": [
    "sec_rec.isnull().sum()"
   ]
  },
  {
   "cell_type": "markdown",
   "id": "e1fec332",
   "metadata": {},
   "source": [
    "There are no missing values. I will save this as a csv."
   ]
  },
  {
   "cell_type": "code",
   "execution_count": 556,
   "id": "e9d9d49d",
   "metadata": {},
   "outputs": [],
   "source": [
    "sec_rec.to_csv('../data/FoodEnvironmentAtlas.xls.SOCIOECONOMIC_Modeling.csv', index=False)"
   ]
  },
  {
   "cell_type": "markdown",
   "id": "696b3402",
   "metadata": {},
   "source": [
    "## Stores"
   ]
  },
  {
   "cell_type": "code",
   "execution_count": 557,
   "id": "b740ec7c",
   "metadata": {},
   "outputs": [],
   "source": [
    "file_path = '../data/FoodEnvironmentAtlas.xls.STORES_REC.csv'\n",
    "\n",
    "stores_rec = pd.read_csv(file_path)"
   ]
  },
  {
   "cell_type": "code",
   "execution_count": 558,
   "id": "8cc6b8be",
   "metadata": {},
   "outputs": [
    {
     "data": {
      "text/plain": [
       "(3142, 39)"
      ]
     },
     "execution_count": 558,
     "metadata": {},
     "output_type": "execute_result"
    }
   ],
   "source": [
    "stores_rec.shape"
   ]
  },
  {
   "cell_type": "code",
   "execution_count": 559,
   "id": "6118d4cf",
   "metadata": {},
   "outputs": [
    {
     "data": {
      "text/html": [
       "<div>\n",
       "<style scoped>\n",
       "    .dataframe tbody tr th:only-of-type {\n",
       "        vertical-align: middle;\n",
       "    }\n",
       "\n",
       "    .dataframe tbody tr th {\n",
       "        vertical-align: top;\n",
       "    }\n",
       "\n",
       "    .dataframe thead th {\n",
       "        text-align: right;\n",
       "    }\n",
       "</style>\n",
       "<table border=\"1\" class=\"dataframe\">\n",
       "  <thead>\n",
       "    <tr style=\"text-align: right;\">\n",
       "      <th></th>\n",
       "      <th>fips</th>\n",
       "      <th>state</th>\n",
       "      <th>county</th>\n",
       "      <th>groc11</th>\n",
       "      <th>groc16</th>\n",
       "      <th>pch_groc_11_16</th>\n",
       "      <th>grocpth11</th>\n",
       "      <th>grocpth16</th>\n",
       "      <th>pch_grocpth_11_16</th>\n",
       "      <th>superc11</th>\n",
       "      <th>...</th>\n",
       "      <th>pch_snaps_12_17</th>\n",
       "      <th>snapspth12</th>\n",
       "      <th>snapspth17</th>\n",
       "      <th>pch_snapspth_12_17</th>\n",
       "      <th>wics11</th>\n",
       "      <th>wics16</th>\n",
       "      <th>pch_wics_11_16</th>\n",
       "      <th>wicspth11</th>\n",
       "      <th>wicspth16</th>\n",
       "      <th>pch_wicspth_11_16</th>\n",
       "    </tr>\n",
       "  </thead>\n",
       "  <tbody>\n",
       "    <tr>\n",
       "      <th>0</th>\n",
       "      <td>1001</td>\n",
       "      <td>AL</td>\n",
       "      <td>Autauga</td>\n",
       "      <td>5</td>\n",
       "      <td>3</td>\n",
       "      <td>-40.000000</td>\n",
       "      <td>0.090581</td>\n",
       "      <td>0.054271</td>\n",
       "      <td>-40.085748</td>\n",
       "      <td>1</td>\n",
       "      <td>...</td>\n",
       "      <td>19.376392</td>\n",
       "      <td>0.674004</td>\n",
       "      <td>0.804747</td>\n",
       "      <td>19.397900</td>\n",
       "      <td>5.0</td>\n",
       "      <td>5.0</td>\n",
       "      <td>0.000000</td>\n",
       "      <td>0.090567</td>\n",
       "      <td>0.090511</td>\n",
       "      <td>-0.061543</td>\n",
       "    </tr>\n",
       "    <tr>\n",
       "      <th>1</th>\n",
       "      <td>1003</td>\n",
       "      <td>AL</td>\n",
       "      <td>Baldwin</td>\n",
       "      <td>27</td>\n",
       "      <td>29</td>\n",
       "      <td>7.407407</td>\n",
       "      <td>0.144746</td>\n",
       "      <td>0.139753</td>\n",
       "      <td>-3.449328</td>\n",
       "      <td>6</td>\n",
       "      <td>...</td>\n",
       "      <td>36.927711</td>\n",
       "      <td>0.725055</td>\n",
       "      <td>0.890836</td>\n",
       "      <td>22.864524</td>\n",
       "      <td>26.0</td>\n",
       "      <td>28.0</td>\n",
       "      <td>7.692307</td>\n",
       "      <td>0.139380</td>\n",
       "      <td>0.134802</td>\n",
       "      <td>-3.284727</td>\n",
       "    </tr>\n",
       "    <tr>\n",
       "      <th>2</th>\n",
       "      <td>1005</td>\n",
       "      <td>AL</td>\n",
       "      <td>Barbour</td>\n",
       "      <td>6</td>\n",
       "      <td>4</td>\n",
       "      <td>-33.333333</td>\n",
       "      <td>0.219370</td>\n",
       "      <td>0.155195</td>\n",
       "      <td>-29.254287</td>\n",
       "      <td>0</td>\n",
       "      <td>...</td>\n",
       "      <td>3.349282</td>\n",
       "      <td>1.280590</td>\n",
       "      <td>1.424614</td>\n",
       "      <td>11.246689</td>\n",
       "      <td>7.0</td>\n",
       "      <td>6.0</td>\n",
       "      <td>-14.285714</td>\n",
       "      <td>0.255942</td>\n",
       "      <td>0.232387</td>\n",
       "      <td>-9.203081</td>\n",
       "    </tr>\n",
       "    <tr>\n",
       "      <th>3</th>\n",
       "      <td>1007</td>\n",
       "      <td>AL</td>\n",
       "      <td>Bibb</td>\n",
       "      <td>6</td>\n",
       "      <td>5</td>\n",
       "      <td>-16.666667</td>\n",
       "      <td>0.263794</td>\n",
       "      <td>0.220916</td>\n",
       "      <td>-16.254289</td>\n",
       "      <td>1</td>\n",
       "      <td>...</td>\n",
       "      <td>11.794872</td>\n",
       "      <td>0.719122</td>\n",
       "      <td>0.801423</td>\n",
       "      <td>11.444711</td>\n",
       "      <td>6.0</td>\n",
       "      <td>5.0</td>\n",
       "      <td>-16.666666</td>\n",
       "      <td>0.263771</td>\n",
       "      <td>0.221474</td>\n",
       "      <td>-16.035471</td>\n",
       "    </tr>\n",
       "    <tr>\n",
       "      <th>4</th>\n",
       "      <td>1009</td>\n",
       "      <td>AL</td>\n",
       "      <td>Blount</td>\n",
       "      <td>7</td>\n",
       "      <td>5</td>\n",
       "      <td>-28.571429</td>\n",
       "      <td>0.121608</td>\n",
       "      <td>0.086863</td>\n",
       "      <td>-28.571429</td>\n",
       "      <td>1</td>\n",
       "      <td>...</td>\n",
       "      <td>5.701754</td>\n",
       "      <td>0.657144</td>\n",
       "      <td>0.692374</td>\n",
       "      <td>5.361034</td>\n",
       "      <td>8.0</td>\n",
       "      <td>8.0</td>\n",
       "      <td>0.000000</td>\n",
       "      <td>0.139000</td>\n",
       "      <td>0.139089</td>\n",
       "      <td>0.064332</td>\n",
       "    </tr>\n",
       "  </tbody>\n",
       "</table>\n",
       "<p>5 rows × 39 columns</p>\n",
       "</div>"
      ],
      "text/plain": [
       "   fips state   county  groc11  groc16  pch_groc_11_16  grocpth11  grocpth16  \\\n",
       "0  1001    AL  Autauga       5       3      -40.000000   0.090581   0.054271   \n",
       "1  1003    AL  Baldwin      27      29        7.407407   0.144746   0.139753   \n",
       "2  1005    AL  Barbour       6       4      -33.333333   0.219370   0.155195   \n",
       "3  1007    AL     Bibb       6       5      -16.666667   0.263794   0.220916   \n",
       "4  1009    AL   Blount       7       5      -28.571429   0.121608   0.086863   \n",
       "\n",
       "   pch_grocpth_11_16  superc11  ...  pch_snaps_12_17  snapspth12  snapspth17  \\\n",
       "0         -40.085748         1  ...        19.376392    0.674004    0.804747   \n",
       "1          -3.449328         6  ...        36.927711    0.725055    0.890836   \n",
       "2         -29.254287         0  ...         3.349282    1.280590    1.424614   \n",
       "3         -16.254289         1  ...        11.794872    0.719122    0.801423   \n",
       "4         -28.571429         1  ...         5.701754    0.657144    0.692374   \n",
       "\n",
       "   pch_snapspth_12_17  wics11  wics16  pch_wics_11_16  wicspth11  wicspth16  \\\n",
       "0           19.397900     5.0     5.0        0.000000   0.090567   0.090511   \n",
       "1           22.864524    26.0    28.0        7.692307   0.139380   0.134802   \n",
       "2           11.246689     7.0     6.0      -14.285714   0.255942   0.232387   \n",
       "3           11.444711     6.0     5.0      -16.666666   0.263771   0.221474   \n",
       "4            5.361034     8.0     8.0        0.000000   0.139000   0.139089   \n",
       "\n",
       "   pch_wicspth_11_16  \n",
       "0          -0.061543  \n",
       "1          -3.284727  \n",
       "2          -9.203081  \n",
       "3         -16.035471  \n",
       "4           0.064332  \n",
       "\n",
       "[5 rows x 39 columns]"
      ]
     },
     "execution_count": 559,
     "metadata": {},
     "output_type": "execute_result"
    }
   ],
   "source": [
    "stores_rec.head()"
   ]
  },
  {
   "cell_type": "code",
   "execution_count": 560,
   "id": "60c24bd7",
   "metadata": {},
   "outputs": [
    {
     "data": {
      "text/html": [
       "<div>\n",
       "<style scoped>\n",
       "    .dataframe tbody tr th:only-of-type {\n",
       "        vertical-align: middle;\n",
       "    }\n",
       "\n",
       "    .dataframe tbody tr th {\n",
       "        vertical-align: top;\n",
       "    }\n",
       "\n",
       "    .dataframe thead th {\n",
       "        text-align: right;\n",
       "    }\n",
       "</style>\n",
       "<table border=\"1\" class=\"dataframe\">\n",
       "  <thead>\n",
       "    <tr style=\"text-align: right;\">\n",
       "      <th></th>\n",
       "      <th>fips</th>\n",
       "      <th>county</th>\n",
       "      <th>state</th>\n",
       "      <th>pct_diabetes18</th>\n",
       "      <th>class</th>\n",
       "    </tr>\n",
       "  </thead>\n",
       "  <tbody>\n",
       "    <tr>\n",
       "      <th>0</th>\n",
       "      <td>1001</td>\n",
       "      <td>Autauga</td>\n",
       "      <td>Alabama</td>\n",
       "      <td>9.5</td>\n",
       "      <td>1.0</td>\n",
       "    </tr>\n",
       "    <tr>\n",
       "      <th>1</th>\n",
       "      <td>1003</td>\n",
       "      <td>Baldwin</td>\n",
       "      <td>Alabama</td>\n",
       "      <td>8.4</td>\n",
       "      <td>0.0</td>\n",
       "    </tr>\n",
       "    <tr>\n",
       "      <th>2</th>\n",
       "      <td>1005</td>\n",
       "      <td>Barbour</td>\n",
       "      <td>Alabama</td>\n",
       "      <td>13.5</td>\n",
       "      <td>1.0</td>\n",
       "    </tr>\n",
       "    <tr>\n",
       "      <th>3</th>\n",
       "      <td>1007</td>\n",
       "      <td>Bibb</td>\n",
       "      <td>Alabama</td>\n",
       "      <td>10.2</td>\n",
       "      <td>1.0</td>\n",
       "    </tr>\n",
       "    <tr>\n",
       "      <th>4</th>\n",
       "      <td>1009</td>\n",
       "      <td>Blount</td>\n",
       "      <td>Alabama</td>\n",
       "      <td>10.5</td>\n",
       "      <td>1.0</td>\n",
       "    </tr>\n",
       "  </tbody>\n",
       "</table>\n",
       "</div>"
      ],
      "text/plain": [
       "   fips   county    state  pct_diabetes18  class\n",
       "0  1001  Autauga  Alabama             9.5    1.0\n",
       "1  1003  Baldwin  Alabama             8.4    0.0\n",
       "2  1005  Barbour  Alabama            13.5    1.0\n",
       "3  1007     Bibb  Alabama            10.2    1.0\n",
       "4  1009   Blount  Alabama            10.5    1.0"
      ]
     },
     "execution_count": 560,
     "metadata": {},
     "output_type": "execute_result"
    }
   ],
   "source": [
    "d18_rec.head()"
   ]
  },
  {
   "cell_type": "code",
   "execution_count": 561,
   "id": "e29da46d",
   "metadata": {},
   "outputs": [
    {
     "data": {
      "text/html": [
       "<div>\n",
       "<style scoped>\n",
       "    .dataframe tbody tr th:only-of-type {\n",
       "        vertical-align: middle;\n",
       "    }\n",
       "\n",
       "    .dataframe tbody tr th {\n",
       "        vertical-align: top;\n",
       "    }\n",
       "\n",
       "    .dataframe thead th {\n",
       "        text-align: right;\n",
       "    }\n",
       "</style>\n",
       "<table border=\"1\" class=\"dataframe\">\n",
       "  <thead>\n",
       "    <tr style=\"text-align: right;\">\n",
       "      <th></th>\n",
       "      <th>fips</th>\n",
       "      <th>state</th>\n",
       "      <th>county</th>\n",
       "      <th>groc11</th>\n",
       "      <th>groc16</th>\n",
       "      <th>pch_groc_11_16</th>\n",
       "      <th>grocpth11</th>\n",
       "      <th>grocpth16</th>\n",
       "      <th>pch_grocpth_11_16</th>\n",
       "      <th>superc11</th>\n",
       "      <th>...</th>\n",
       "      <th>pch_snaps_12_17</th>\n",
       "      <th>snapspth12</th>\n",
       "      <th>snapspth17</th>\n",
       "      <th>pch_snapspth_12_17</th>\n",
       "      <th>wics11</th>\n",
       "      <th>wics16</th>\n",
       "      <th>pch_wics_11_16</th>\n",
       "      <th>wicspth11</th>\n",
       "      <th>wicspth16</th>\n",
       "      <th>pch_wicspth_11_16</th>\n",
       "    </tr>\n",
       "  </thead>\n",
       "  <tbody>\n",
       "    <tr>\n",
       "      <th>3137</th>\n",
       "      <td>56037</td>\n",
       "      <td>WY</td>\n",
       "      <td>Sweetwater</td>\n",
       "      <td>5</td>\n",
       "      <td>4</td>\n",
       "      <td>-20.000000</td>\n",
       "      <td>0.113603</td>\n",
       "      <td>0.090406</td>\n",
       "      <td>-20.419482</td>\n",
       "      <td>1</td>\n",
       "      <td>...</td>\n",
       "      <td>40.343348</td>\n",
       "      <td>0.428936</td>\n",
       "      <td>0.625948</td>\n",
       "      <td>45.930131</td>\n",
       "      <td>4.0</td>\n",
       "      <td>4.0</td>\n",
       "      <td>0.0</td>\n",
       "      <td>0.090948</td>\n",
       "      <td>0.090344</td>\n",
       "      <td>-0.664035</td>\n",
       "    </tr>\n",
       "    <tr>\n",
       "      <th>3138</th>\n",
       "      <td>56039</td>\n",
       "      <td>WY</td>\n",
       "      <td>Teton</td>\n",
       "      <td>5</td>\n",
       "      <td>11</td>\n",
       "      <td>120.000000</td>\n",
       "      <td>0.232818</td>\n",
       "      <td>0.474547</td>\n",
       "      <td>103.827437</td>\n",
       "      <td>0</td>\n",
       "      <td>...</td>\n",
       "      <td>52.380952</td>\n",
       "      <td>0.242215</td>\n",
       "      <td>0.343864</td>\n",
       "      <td>41.966780</td>\n",
       "      <td>3.0</td>\n",
       "      <td>3.0</td>\n",
       "      <td>0.0</td>\n",
       "      <td>0.140095</td>\n",
       "      <td>0.129528</td>\n",
       "      <td>-7.542849</td>\n",
       "    </tr>\n",
       "    <tr>\n",
       "      <th>3139</th>\n",
       "      <td>56041</td>\n",
       "      <td>WY</td>\n",
       "      <td>Uinta</td>\n",
       "      <td>3</td>\n",
       "      <td>2</td>\n",
       "      <td>-33.333333</td>\n",
       "      <td>0.143548</td>\n",
       "      <td>0.096567</td>\n",
       "      <td>-32.728180</td>\n",
       "      <td>1</td>\n",
       "      <td>...</td>\n",
       "      <td>30.714286</td>\n",
       "      <td>0.554895</td>\n",
       "      <td>0.744084</td>\n",
       "      <td>34.094553</td>\n",
       "      <td>3.0</td>\n",
       "      <td>3.0</td>\n",
       "      <td>0.0</td>\n",
       "      <td>0.143589</td>\n",
       "      <td>0.144991</td>\n",
       "      <td>0.976268</td>\n",
       "    </tr>\n",
       "    <tr>\n",
       "      <th>3140</th>\n",
       "      <td>56043</td>\n",
       "      <td>WY</td>\n",
       "      <td>Washakie</td>\n",
       "      <td>2</td>\n",
       "      <td>2</td>\n",
       "      <td>0.000000</td>\n",
       "      <td>0.236407</td>\n",
       "      <td>0.244260</td>\n",
       "      <td>3.321935</td>\n",
       "      <td>0</td>\n",
       "      <td>...</td>\n",
       "      <td>7.352941</td>\n",
       "      <td>0.669502</td>\n",
       "      <td>0.754382</td>\n",
       "      <td>12.677988</td>\n",
       "      <td>2.0</td>\n",
       "      <td>2.0</td>\n",
       "      <td>0.0</td>\n",
       "      <td>0.236742</td>\n",
       "      <td>0.244858</td>\n",
       "      <td>3.428013</td>\n",
       "    </tr>\n",
       "    <tr>\n",
       "      <th>3141</th>\n",
       "      <td>56045</td>\n",
       "      <td>WY</td>\n",
       "      <td>Weston</td>\n",
       "      <td>4</td>\n",
       "      <td>4</td>\n",
       "      <td>0.000000</td>\n",
       "      <td>0.560146</td>\n",
       "      <td>0.555710</td>\n",
       "      <td>-0.791887</td>\n",
       "      <td>0</td>\n",
       "      <td>...</td>\n",
       "      <td>24.096386</td>\n",
       "      <td>0.976654</td>\n",
       "      <td>1.239113</td>\n",
       "      <td>26.873192</td>\n",
       "      <td>3.0</td>\n",
       "      <td>3.0</td>\n",
       "      <td>0.0</td>\n",
       "      <td>0.420050</td>\n",
       "      <td>0.415916</td>\n",
       "      <td>-0.984338</td>\n",
       "    </tr>\n",
       "  </tbody>\n",
       "</table>\n",
       "<p>5 rows × 39 columns</p>\n",
       "</div>"
      ],
      "text/plain": [
       "       fips state      county  groc11  groc16  pch_groc_11_16  grocpth11  \\\n",
       "3137  56037    WY  Sweetwater       5       4      -20.000000   0.113603   \n",
       "3138  56039    WY       Teton       5      11      120.000000   0.232818   \n",
       "3139  56041    WY       Uinta       3       2      -33.333333   0.143548   \n",
       "3140  56043    WY    Washakie       2       2        0.000000   0.236407   \n",
       "3141  56045    WY      Weston       4       4        0.000000   0.560146   \n",
       "\n",
       "      grocpth16  pch_grocpth_11_16  superc11  ...  pch_snaps_12_17  \\\n",
       "3137   0.090406         -20.419482         1  ...        40.343348   \n",
       "3138   0.474547         103.827437         0  ...        52.380952   \n",
       "3139   0.096567         -32.728180         1  ...        30.714286   \n",
       "3140   0.244260           3.321935         0  ...         7.352941   \n",
       "3141   0.555710          -0.791887         0  ...        24.096386   \n",
       "\n",
       "      snapspth12  snapspth17  pch_snapspth_12_17  wics11  wics16  \\\n",
       "3137    0.428936    0.625948           45.930131     4.0     4.0   \n",
       "3138    0.242215    0.343864           41.966780     3.0     3.0   \n",
       "3139    0.554895    0.744084           34.094553     3.0     3.0   \n",
       "3140    0.669502    0.754382           12.677988     2.0     2.0   \n",
       "3141    0.976654    1.239113           26.873192     3.0     3.0   \n",
       "\n",
       "      pch_wics_11_16  wicspth11  wicspth16  pch_wicspth_11_16  \n",
       "3137             0.0   0.090948   0.090344          -0.664035  \n",
       "3138             0.0   0.140095   0.129528          -7.542849  \n",
       "3139             0.0   0.143589   0.144991           0.976268  \n",
       "3140             0.0   0.236742   0.244858           3.428013  \n",
       "3141             0.0   0.420050   0.415916          -0.984338  \n",
       "\n",
       "[5 rows x 39 columns]"
      ]
     },
     "execution_count": 561,
     "metadata": {},
     "output_type": "execute_result"
    }
   ],
   "source": [
    "stores_rec.tail()"
   ]
  },
  {
   "cell_type": "code",
   "execution_count": 562,
   "id": "14c33866",
   "metadata": {},
   "outputs": [
    {
     "data": {
      "text/html": [
       "<div>\n",
       "<style scoped>\n",
       "    .dataframe tbody tr th:only-of-type {\n",
       "        vertical-align: middle;\n",
       "    }\n",
       "\n",
       "    .dataframe tbody tr th {\n",
       "        vertical-align: top;\n",
       "    }\n",
       "\n",
       "    .dataframe thead th {\n",
       "        text-align: right;\n",
       "    }\n",
       "</style>\n",
       "<table border=\"1\" class=\"dataframe\">\n",
       "  <thead>\n",
       "    <tr style=\"text-align: right;\">\n",
       "      <th></th>\n",
       "      <th>fips</th>\n",
       "      <th>county</th>\n",
       "      <th>state</th>\n",
       "      <th>pct_diabetes18</th>\n",
       "      <th>class</th>\n",
       "    </tr>\n",
       "  </thead>\n",
       "  <tbody>\n",
       "    <tr>\n",
       "      <th>3137</th>\n",
       "      <td>56037</td>\n",
       "      <td>Sweetwater</td>\n",
       "      <td>Wyoming</td>\n",
       "      <td>7.8</td>\n",
       "      <td>0.0</td>\n",
       "    </tr>\n",
       "    <tr>\n",
       "      <th>3138</th>\n",
       "      <td>56039</td>\n",
       "      <td>Teton</td>\n",
       "      <td>Wyoming</td>\n",
       "      <td>3.8</td>\n",
       "      <td>0.0</td>\n",
       "    </tr>\n",
       "    <tr>\n",
       "      <th>3139</th>\n",
       "      <td>56041</td>\n",
       "      <td>Uinta</td>\n",
       "      <td>Wyoming</td>\n",
       "      <td>8.4</td>\n",
       "      <td>0.0</td>\n",
       "    </tr>\n",
       "    <tr>\n",
       "      <th>3140</th>\n",
       "      <td>56043</td>\n",
       "      <td>Washakie</td>\n",
       "      <td>Wyoming</td>\n",
       "      <td>7.4</td>\n",
       "      <td>0.0</td>\n",
       "    </tr>\n",
       "    <tr>\n",
       "      <th>3141</th>\n",
       "      <td>56045</td>\n",
       "      <td>Weston</td>\n",
       "      <td>Wyoming</td>\n",
       "      <td>7.6</td>\n",
       "      <td>0.0</td>\n",
       "    </tr>\n",
       "  </tbody>\n",
       "</table>\n",
       "</div>"
      ],
      "text/plain": [
       "       fips      county    state  pct_diabetes18  class\n",
       "3137  56037  Sweetwater  Wyoming             7.8    0.0\n",
       "3138  56039       Teton  Wyoming             3.8    0.0\n",
       "3139  56041       Uinta  Wyoming             8.4    0.0\n",
       "3140  56043    Washakie  Wyoming             7.4    0.0\n",
       "3141  56045      Weston  Wyoming             7.6    0.0"
      ]
     },
     "execution_count": 562,
     "metadata": {},
     "output_type": "execute_result"
    }
   ],
   "source": [
    "d18_rec.tail()"
   ]
  },
  {
   "cell_type": "code",
   "execution_count": 563,
   "id": "ee590514",
   "metadata": {},
   "outputs": [
    {
     "data": {
      "text/plain": [
       "count     3142.000000\n",
       "mean     30383.649268\n",
       "std      15162.508374\n",
       "min       1001.000000\n",
       "25%      18177.500000\n",
       "50%      29176.000000\n",
       "75%      45080.500000\n",
       "max      56045.000000\n",
       "Name: fips, dtype: float64"
      ]
     },
     "execution_count": 563,
     "metadata": {},
     "output_type": "execute_result"
    }
   ],
   "source": [
    "stores_rec.fips.describe()"
   ]
  },
  {
   "cell_type": "code",
   "execution_count": 564,
   "id": "630c95e3",
   "metadata": {},
   "outputs": [
    {
     "data": {
      "text/plain": [
       "count     3142.000000\n",
       "mean     30383.649268\n",
       "std      15162.508374\n",
       "min       1001.000000\n",
       "25%      18177.500000\n",
       "50%      29176.000000\n",
       "75%      45080.500000\n",
       "max      56045.000000\n",
       "Name: fips, dtype: float64"
      ]
     },
     "execution_count": 564,
     "metadata": {},
     "output_type": "execute_result"
    }
   ],
   "source": [
    "d18_rec.fips.describe()"
   ]
  },
  {
   "cell_type": "markdown",
   "id": "4be97eac",
   "metadata": {},
   "source": [
    "I will add the diabetes information into the Stores dataframe."
   ]
  },
  {
   "cell_type": "code",
   "execution_count": 565,
   "id": "42706aeb",
   "metadata": {},
   "outputs": [
    {
     "data": {
      "text/html": [
       "<div>\n",
       "<style scoped>\n",
       "    .dataframe tbody tr th:only-of-type {\n",
       "        vertical-align: middle;\n",
       "    }\n",
       "\n",
       "    .dataframe tbody tr th {\n",
       "        vertical-align: top;\n",
       "    }\n",
       "\n",
       "    .dataframe thead th {\n",
       "        text-align: right;\n",
       "    }\n",
       "</style>\n",
       "<table border=\"1\" class=\"dataframe\">\n",
       "  <thead>\n",
       "    <tr style=\"text-align: right;\">\n",
       "      <th></th>\n",
       "      <th>fips</th>\n",
       "      <th>state</th>\n",
       "      <th>county</th>\n",
       "      <th>groc11</th>\n",
       "      <th>groc16</th>\n",
       "      <th>pch_groc_11_16</th>\n",
       "      <th>grocpth11</th>\n",
       "      <th>grocpth16</th>\n",
       "      <th>pch_grocpth_11_16</th>\n",
       "      <th>superc11</th>\n",
       "      <th>...</th>\n",
       "      <th>snapspth17</th>\n",
       "      <th>pch_snapspth_12_17</th>\n",
       "      <th>wics11</th>\n",
       "      <th>wics16</th>\n",
       "      <th>pch_wics_11_16</th>\n",
       "      <th>wicspth11</th>\n",
       "      <th>wicspth16</th>\n",
       "      <th>pch_wicspth_11_16</th>\n",
       "      <th>pct_diabetes18</th>\n",
       "      <th>class</th>\n",
       "    </tr>\n",
       "  </thead>\n",
       "  <tbody>\n",
       "    <tr>\n",
       "      <th>0</th>\n",
       "      <td>1001</td>\n",
       "      <td>AL</td>\n",
       "      <td>Autauga</td>\n",
       "      <td>5</td>\n",
       "      <td>3</td>\n",
       "      <td>-40.000000</td>\n",
       "      <td>0.090581</td>\n",
       "      <td>0.054271</td>\n",
       "      <td>-40.085748</td>\n",
       "      <td>1</td>\n",
       "      <td>...</td>\n",
       "      <td>0.804747</td>\n",
       "      <td>19.397900</td>\n",
       "      <td>5.0</td>\n",
       "      <td>5.0</td>\n",
       "      <td>0.000000</td>\n",
       "      <td>0.090567</td>\n",
       "      <td>0.090511</td>\n",
       "      <td>-0.061543</td>\n",
       "      <td>9.5</td>\n",
       "      <td>1.0</td>\n",
       "    </tr>\n",
       "    <tr>\n",
       "      <th>1</th>\n",
       "      <td>1003</td>\n",
       "      <td>AL</td>\n",
       "      <td>Baldwin</td>\n",
       "      <td>27</td>\n",
       "      <td>29</td>\n",
       "      <td>7.407407</td>\n",
       "      <td>0.144746</td>\n",
       "      <td>0.139753</td>\n",
       "      <td>-3.449328</td>\n",
       "      <td>6</td>\n",
       "      <td>...</td>\n",
       "      <td>0.890836</td>\n",
       "      <td>22.864524</td>\n",
       "      <td>26.0</td>\n",
       "      <td>28.0</td>\n",
       "      <td>7.692307</td>\n",
       "      <td>0.139380</td>\n",
       "      <td>0.134802</td>\n",
       "      <td>-3.284727</td>\n",
       "      <td>8.4</td>\n",
       "      <td>0.0</td>\n",
       "    </tr>\n",
       "    <tr>\n",
       "      <th>2</th>\n",
       "      <td>1005</td>\n",
       "      <td>AL</td>\n",
       "      <td>Barbour</td>\n",
       "      <td>6</td>\n",
       "      <td>4</td>\n",
       "      <td>-33.333333</td>\n",
       "      <td>0.219370</td>\n",
       "      <td>0.155195</td>\n",
       "      <td>-29.254287</td>\n",
       "      <td>0</td>\n",
       "      <td>...</td>\n",
       "      <td>1.424614</td>\n",
       "      <td>11.246689</td>\n",
       "      <td>7.0</td>\n",
       "      <td>6.0</td>\n",
       "      <td>-14.285714</td>\n",
       "      <td>0.255942</td>\n",
       "      <td>0.232387</td>\n",
       "      <td>-9.203081</td>\n",
       "      <td>13.5</td>\n",
       "      <td>1.0</td>\n",
       "    </tr>\n",
       "    <tr>\n",
       "      <th>3</th>\n",
       "      <td>1007</td>\n",
       "      <td>AL</td>\n",
       "      <td>Bibb</td>\n",
       "      <td>6</td>\n",
       "      <td>5</td>\n",
       "      <td>-16.666667</td>\n",
       "      <td>0.263794</td>\n",
       "      <td>0.220916</td>\n",
       "      <td>-16.254289</td>\n",
       "      <td>1</td>\n",
       "      <td>...</td>\n",
       "      <td>0.801423</td>\n",
       "      <td>11.444711</td>\n",
       "      <td>6.0</td>\n",
       "      <td>5.0</td>\n",
       "      <td>-16.666666</td>\n",
       "      <td>0.263771</td>\n",
       "      <td>0.221474</td>\n",
       "      <td>-16.035471</td>\n",
       "      <td>10.2</td>\n",
       "      <td>1.0</td>\n",
       "    </tr>\n",
       "    <tr>\n",
       "      <th>4</th>\n",
       "      <td>1009</td>\n",
       "      <td>AL</td>\n",
       "      <td>Blount</td>\n",
       "      <td>7</td>\n",
       "      <td>5</td>\n",
       "      <td>-28.571429</td>\n",
       "      <td>0.121608</td>\n",
       "      <td>0.086863</td>\n",
       "      <td>-28.571429</td>\n",
       "      <td>1</td>\n",
       "      <td>...</td>\n",
       "      <td>0.692374</td>\n",
       "      <td>5.361034</td>\n",
       "      <td>8.0</td>\n",
       "      <td>8.0</td>\n",
       "      <td>0.000000</td>\n",
       "      <td>0.139000</td>\n",
       "      <td>0.139089</td>\n",
       "      <td>0.064332</td>\n",
       "      <td>10.5</td>\n",
       "      <td>1.0</td>\n",
       "    </tr>\n",
       "  </tbody>\n",
       "</table>\n",
       "<p>5 rows × 41 columns</p>\n",
       "</div>"
      ],
      "text/plain": [
       "   fips state   county  groc11  groc16  pch_groc_11_16  grocpth11  grocpth16  \\\n",
       "0  1001    AL  Autauga       5       3      -40.000000   0.090581   0.054271   \n",
       "1  1003    AL  Baldwin      27      29        7.407407   0.144746   0.139753   \n",
       "2  1005    AL  Barbour       6       4      -33.333333   0.219370   0.155195   \n",
       "3  1007    AL     Bibb       6       5      -16.666667   0.263794   0.220916   \n",
       "4  1009    AL   Blount       7       5      -28.571429   0.121608   0.086863   \n",
       "\n",
       "   pch_grocpth_11_16  superc11  ...  snapspth17  pch_snapspth_12_17  wics11  \\\n",
       "0         -40.085748         1  ...    0.804747           19.397900     5.0   \n",
       "1          -3.449328         6  ...    0.890836           22.864524    26.0   \n",
       "2         -29.254287         0  ...    1.424614           11.246689     7.0   \n",
       "3         -16.254289         1  ...    0.801423           11.444711     6.0   \n",
       "4         -28.571429         1  ...    0.692374            5.361034     8.0   \n",
       "\n",
       "   wics16  pch_wics_11_16  wicspth11  wicspth16  pch_wicspth_11_16  \\\n",
       "0     5.0        0.000000   0.090567   0.090511          -0.061543   \n",
       "1    28.0        7.692307   0.139380   0.134802          -3.284727   \n",
       "2     6.0      -14.285714   0.255942   0.232387          -9.203081   \n",
       "3     5.0      -16.666666   0.263771   0.221474         -16.035471   \n",
       "4     8.0        0.000000   0.139000   0.139089           0.064332   \n",
       "\n",
       "   pct_diabetes18  class  \n",
       "0             9.5    1.0  \n",
       "1             8.4    0.0  \n",
       "2            13.5    1.0  \n",
       "3            10.2    1.0  \n",
       "4            10.5    1.0  \n",
       "\n",
       "[5 rows x 41 columns]"
      ]
     },
     "execution_count": 565,
     "metadata": {},
     "output_type": "execute_result"
    }
   ],
   "source": [
    "stores_rec['pct_diabetes18'] = d18_rec['pct_diabetes18']\n",
    "\n",
    "stores_rec['class'] = d18_rec['class']\n",
    "\n",
    "stores_rec.head()"
   ]
  },
  {
   "cell_type": "markdown",
   "id": "a1570b8d",
   "metadata": {},
   "source": [
    "The diabetes information has been added. Before addressing null values, I will split the data into subsets for processing."
   ]
  },
  {
   "cell_type": "markdown",
   "id": "d84497bd",
   "metadata": {},
   "source": [
    "### 1. Grocery/superstores"
   ]
  },
  {
   "cell_type": "markdown",
   "id": "0b3fbad8",
   "metadata": {},
   "source": [
    "While EDA suggested that the correlations between prevalence of diabetes and the variables below are weak, perhaps they will be more predictive when 2018 data are used. I will still create a model with the subset below."
   ]
  },
  {
   "cell_type": "code",
   "execution_count": 566,
   "id": "11317ee1",
   "metadata": {},
   "outputs": [],
   "source": [
    "stores_grocery_super = stores_rec[['fips', 'state', 'county', 'groc11', 'groc16', 'pch_groc_11_16',\n",
    "       'grocpth11', 'grocpth16', 'pch_grocpth_11_16', 'superc11', 'superc16',\n",
    "       'pch_superc_11_16', 'supercpth11', 'supercpth16', 'pch_supercpth_11_16', 'pct_diabetes18', 'class']]"
   ]
  },
  {
   "cell_type": "code",
   "execution_count": 567,
   "id": "a8275bff",
   "metadata": {},
   "outputs": [],
   "source": [
    "stores_grocery_super= pd.DataFrame(stores_grocery_super)"
   ]
  },
  {
   "cell_type": "code",
   "execution_count": 568,
   "id": "c83f253d",
   "metadata": {},
   "outputs": [
    {
     "data": {
      "text/html": [
       "<div>\n",
       "<style scoped>\n",
       "    .dataframe tbody tr th:only-of-type {\n",
       "        vertical-align: middle;\n",
       "    }\n",
       "\n",
       "    .dataframe tbody tr th {\n",
       "        vertical-align: top;\n",
       "    }\n",
       "\n",
       "    .dataframe thead th {\n",
       "        text-align: right;\n",
       "    }\n",
       "</style>\n",
       "<table border=\"1\" class=\"dataframe\">\n",
       "  <thead>\n",
       "    <tr style=\"text-align: right;\">\n",
       "      <th></th>\n",
       "      <th>fips</th>\n",
       "      <th>state</th>\n",
       "      <th>county</th>\n",
       "      <th>groc11</th>\n",
       "      <th>groc16</th>\n",
       "      <th>pch_groc_11_16</th>\n",
       "      <th>grocpth11</th>\n",
       "      <th>grocpth16</th>\n",
       "      <th>pch_grocpth_11_16</th>\n",
       "      <th>superc11</th>\n",
       "      <th>superc16</th>\n",
       "      <th>pch_superc_11_16</th>\n",
       "      <th>supercpth11</th>\n",
       "      <th>supercpth16</th>\n",
       "      <th>pch_supercpth_11_16</th>\n",
       "      <th>pct_diabetes18</th>\n",
       "      <th>class</th>\n",
       "    </tr>\n",
       "  </thead>\n",
       "  <tbody>\n",
       "    <tr>\n",
       "      <th>0</th>\n",
       "      <td>1001</td>\n",
       "      <td>AL</td>\n",
       "      <td>Autauga</td>\n",
       "      <td>5</td>\n",
       "      <td>3</td>\n",
       "      <td>-40.000000</td>\n",
       "      <td>0.090581</td>\n",
       "      <td>0.054271</td>\n",
       "      <td>-40.085748</td>\n",
       "      <td>1</td>\n",
       "      <td>1</td>\n",
       "      <td>0.000000</td>\n",
       "      <td>0.018116</td>\n",
       "      <td>0.018090</td>\n",
       "      <td>-0.142914</td>\n",
       "      <td>9.5</td>\n",
       "      <td>1.0</td>\n",
       "    </tr>\n",
       "    <tr>\n",
       "      <th>1</th>\n",
       "      <td>1003</td>\n",
       "      <td>AL</td>\n",
       "      <td>Baldwin</td>\n",
       "      <td>27</td>\n",
       "      <td>29</td>\n",
       "      <td>7.407407</td>\n",
       "      <td>0.144746</td>\n",
       "      <td>0.139753</td>\n",
       "      <td>-3.449328</td>\n",
       "      <td>6</td>\n",
       "      <td>7</td>\n",
       "      <td>16.666667</td>\n",
       "      <td>0.032166</td>\n",
       "      <td>0.033733</td>\n",
       "      <td>4.874005</td>\n",
       "      <td>8.4</td>\n",
       "      <td>0.0</td>\n",
       "    </tr>\n",
       "    <tr>\n",
       "      <th>2</th>\n",
       "      <td>1005</td>\n",
       "      <td>AL</td>\n",
       "      <td>Barbour</td>\n",
       "      <td>6</td>\n",
       "      <td>4</td>\n",
       "      <td>-33.333333</td>\n",
       "      <td>0.219370</td>\n",
       "      <td>0.155195</td>\n",
       "      <td>-29.254287</td>\n",
       "      <td>0</td>\n",
       "      <td>1</td>\n",
       "      <td>NaN</td>\n",
       "      <td>0.000000</td>\n",
       "      <td>0.038799</td>\n",
       "      <td>NaN</td>\n",
       "      <td>13.5</td>\n",
       "      <td>1.0</td>\n",
       "    </tr>\n",
       "    <tr>\n",
       "      <th>3</th>\n",
       "      <td>1007</td>\n",
       "      <td>AL</td>\n",
       "      <td>Bibb</td>\n",
       "      <td>6</td>\n",
       "      <td>5</td>\n",
       "      <td>-16.666667</td>\n",
       "      <td>0.263794</td>\n",
       "      <td>0.220916</td>\n",
       "      <td>-16.254289</td>\n",
       "      <td>1</td>\n",
       "      <td>1</td>\n",
       "      <td>0.000000</td>\n",
       "      <td>0.043966</td>\n",
       "      <td>0.044183</td>\n",
       "      <td>0.494853</td>\n",
       "      <td>10.2</td>\n",
       "      <td>1.0</td>\n",
       "    </tr>\n",
       "    <tr>\n",
       "      <th>4</th>\n",
       "      <td>1009</td>\n",
       "      <td>AL</td>\n",
       "      <td>Blount</td>\n",
       "      <td>7</td>\n",
       "      <td>5</td>\n",
       "      <td>-28.571429</td>\n",
       "      <td>0.121608</td>\n",
       "      <td>0.086863</td>\n",
       "      <td>-28.571429</td>\n",
       "      <td>1</td>\n",
       "      <td>1</td>\n",
       "      <td>0.000000</td>\n",
       "      <td>0.017373</td>\n",
       "      <td>0.017373</td>\n",
       "      <td>0.000000</td>\n",
       "      <td>10.5</td>\n",
       "      <td>1.0</td>\n",
       "    </tr>\n",
       "  </tbody>\n",
       "</table>\n",
       "</div>"
      ],
      "text/plain": [
       "   fips state   county  groc11  groc16  pch_groc_11_16  grocpth11  grocpth16  \\\n",
       "0  1001    AL  Autauga       5       3      -40.000000   0.090581   0.054271   \n",
       "1  1003    AL  Baldwin      27      29        7.407407   0.144746   0.139753   \n",
       "2  1005    AL  Barbour       6       4      -33.333333   0.219370   0.155195   \n",
       "3  1007    AL     Bibb       6       5      -16.666667   0.263794   0.220916   \n",
       "4  1009    AL   Blount       7       5      -28.571429   0.121608   0.086863   \n",
       "\n",
       "   pch_grocpth_11_16  superc11  superc16  pch_superc_11_16  supercpth11  \\\n",
       "0         -40.085748         1         1          0.000000     0.018116   \n",
       "1          -3.449328         6         7         16.666667     0.032166   \n",
       "2         -29.254287         0         1               NaN     0.000000   \n",
       "3         -16.254289         1         1          0.000000     0.043966   \n",
       "4         -28.571429         1         1          0.000000     0.017373   \n",
       "\n",
       "   supercpth16  pch_supercpth_11_16  pct_diabetes18  class  \n",
       "0     0.018090            -0.142914             9.5    1.0  \n",
       "1     0.033733             4.874005             8.4    0.0  \n",
       "2     0.038799                  NaN            13.5    1.0  \n",
       "3     0.044183             0.494853            10.2    1.0  \n",
       "4     0.017373             0.000000            10.5    1.0  "
      ]
     },
     "execution_count": 568,
     "metadata": {},
     "output_type": "execute_result"
    }
   ],
   "source": [
    "stores_grocery_super.head()"
   ]
  },
  {
   "cell_type": "code",
   "execution_count": 569,
   "id": "1171c9c1",
   "metadata": {},
   "outputs": [
    {
     "data": {
      "text/plain": [
       "fips                     0\n",
       "state                    0\n",
       "county                   0\n",
       "groc11                   0\n",
       "groc16                   0\n",
       "pch_groc_11_16          21\n",
       "grocpth11                0\n",
       "grocpth16                0\n",
       "pch_grocpth_11_16       16\n",
       "superc11                 0\n",
       "superc16                 0\n",
       "pch_superc_11_16       132\n",
       "supercpth11              0\n",
       "supercpth16              0\n",
       "pch_supercpth_11_16    132\n",
       "pct_diabetes18           0\n",
       "class                    0\n",
       "dtype: int64"
      ]
     },
     "execution_count": 569,
     "metadata": {},
     "output_type": "execute_result"
    }
   ],
   "source": [
    "stores_grocery_super.isnull().sum()"
   ]
  },
  {
   "cell_type": "markdown",
   "id": "07137505",
   "metadata": {},
   "source": [
    "Only the percent change columns have missing values. I will remove these columns."
   ]
  },
  {
   "cell_type": "code",
   "execution_count": 570,
   "id": "bf435566",
   "metadata": {},
   "outputs": [
    {
     "data": {
      "text/plain": [
       "fips              0\n",
       "state             0\n",
       "county            0\n",
       "groc11            0\n",
       "groc16            0\n",
       "grocpth11         0\n",
       "grocpth16         0\n",
       "superc11          0\n",
       "superc16          0\n",
       "supercpth11       0\n",
       "supercpth16       0\n",
       "pct_diabetes18    0\n",
       "class             0\n",
       "dtype: int64"
      ]
     },
     "execution_count": 570,
     "metadata": {},
     "output_type": "execute_result"
    }
   ],
   "source": [
    "stores_grocery_super.drop(columns = ['pch_groc_11_16' , 'pch_grocpth_11_16' ,'pch_superc_11_16',\n",
    "                                     'pch_supercpth_11_16'], inplace = True)\n",
    "\n",
    "stores_grocery_super.isnull().sum()"
   ]
  },
  {
   "cell_type": "markdown",
   "id": "d163a6bb",
   "metadata": {},
   "source": [
    "There are no additional null values. I will save this as a csv."
   ]
  },
  {
   "cell_type": "code",
   "execution_count": 571,
   "id": "b1ced0e6",
   "metadata": {},
   "outputs": [],
   "source": [
    "stores_grocery_super.to_csv('../data/FoodEnvironmentAtlas.xls.STORES_Modeling_GS.csv', index=False)"
   ]
  },
  {
   "cell_type": "markdown",
   "id": "c5c396ad",
   "metadata": {},
   "source": [
    "### 2. Convenience & Specialized Food Stores"
   ]
  },
  {
   "cell_type": "code",
   "execution_count": 572,
   "id": "49ed5267",
   "metadata": {},
   "outputs": [],
   "source": [
    "stores_conv_spec = stores_rec[['fips', 'state', 'county', 'convs11', 'convs16', 'pch_convs_11_16', 'convspth11', 'convspth16',\n",
    "       'pch_convspth_11_16', 'specs11', 'specs16', 'pch_specs_11_16',\n",
    "       'specspth11', 'specspth16', 'pch_specspth_11_16', 'pct_diabetes18', 'class']]"
   ]
  },
  {
   "cell_type": "code",
   "execution_count": 573,
   "id": "9ef2829c",
   "metadata": {},
   "outputs": [],
   "source": [
    "stores_conv_spec = pd.DataFrame(stores_conv_spec)"
   ]
  },
  {
   "cell_type": "code",
   "execution_count": 574,
   "id": "d9bb3cbd",
   "metadata": {},
   "outputs": [
    {
     "data": {
      "text/plain": [
       "fips                    0\n",
       "state                   0\n",
       "county                  0\n",
       "convs11                 0\n",
       "convs16                 0\n",
       "pch_convs_11_16        26\n",
       "convspth11              0\n",
       "convspth16              0\n",
       "pch_convspth_11_16     21\n",
       "specs11                 0\n",
       "specs16                 0\n",
       "pch_specs_11_16       250\n",
       "specspth11              0\n",
       "specspth16              0\n",
       "pch_specspth_11_16    247\n",
       "pct_diabetes18          0\n",
       "class                   0\n",
       "dtype: int64"
      ]
     },
     "execution_count": 574,
     "metadata": {},
     "output_type": "execute_result"
    }
   ],
   "source": [
    "stores_conv_spec.isnull().sum()"
   ]
  },
  {
   "cell_type": "markdown",
   "id": "1c08fb68",
   "metadata": {},
   "source": [
    "This dataset also contains all of its missing values in the percent change columns. I will remove these."
   ]
  },
  {
   "cell_type": "code",
   "execution_count": 575,
   "id": "b2f926a4",
   "metadata": {},
   "outputs": [],
   "source": [
    "stores_conv_spec.drop(columns = ['pch_convs_11_16', 'pch_convspth_11_16', 'pch_specs_11_16',\n",
    "                                                    'pch_specspth_11_16'], inplace = True)"
   ]
  },
  {
   "cell_type": "code",
   "execution_count": 576,
   "id": "dd8969a7",
   "metadata": {},
   "outputs": [
    {
     "data": {
      "text/plain": [
       "fips              0\n",
       "state             0\n",
       "county            0\n",
       "convs11           0\n",
       "convs16           0\n",
       "convspth11        0\n",
       "convspth16        0\n",
       "specs11           0\n",
       "specs16           0\n",
       "specspth11        0\n",
       "specspth16        0\n",
       "pct_diabetes18    0\n",
       "class             0\n",
       "dtype: int64"
      ]
     },
     "execution_count": 576,
     "metadata": {},
     "output_type": "execute_result"
    }
   ],
   "source": [
    "stores_conv_spec.isnull().sum()"
   ]
  },
  {
   "cell_type": "markdown",
   "id": "afffa80d",
   "metadata": {},
   "source": [
    "This will be saved as a csv."
   ]
  },
  {
   "cell_type": "code",
   "execution_count": 577,
   "id": "df558a5f",
   "metadata": {},
   "outputs": [],
   "source": [
    "stores_conv_spec.to_csv('../data/FoodEnvironmentAtlas.xls.STORES_Modeling_ConSpec.csv', index=False)"
   ]
  },
  {
   "cell_type": "markdown",
   "id": "f32882e2",
   "metadata": {},
   "source": [
    "### 3. SNAP & WIC Stores"
   ]
  },
  {
   "cell_type": "code",
   "execution_count": 578,
   "id": "86b2b70e",
   "metadata": {},
   "outputs": [],
   "source": [
    "stores_snap_wic = stores_rec[['fips', 'state', 'county', 'snaps12', 'snaps17',\n",
    "       'pch_snaps_12_17', 'snapspth12', 'snapspth17', 'pch_snapspth_12_17',\n",
    "       'wics11', 'wics16', 'pch_wics_11_16', 'wicspth11', 'wicspth16',\n",
    "       'pch_wicspth_11_16', 'pct_diabetes18', 'class']]"
   ]
  },
  {
   "cell_type": "code",
   "execution_count": 579,
   "id": "cda17281",
   "metadata": {},
   "outputs": [],
   "source": [
    "stores_snap_wic = pd.DataFrame(stores_snap_wic)"
   ]
  },
  {
   "cell_type": "code",
   "execution_count": 580,
   "id": "28169b97",
   "metadata": {},
   "outputs": [
    {
     "data": {
      "text/plain": [
       "fips                    0\n",
       "state                   0\n",
       "county                  0\n",
       "snaps12                 0\n",
       "snaps17                26\n",
       "pch_snaps_12_17        32\n",
       "snapspth12              0\n",
       "snapspth17             26\n",
       "pch_snapspth_12_17     32\n",
       "wics11                132\n",
       "wics16                158\n",
       "pch_wics_11_16        159\n",
       "wicspth11             134\n",
       "wicspth16             160\n",
       "pch_wicspth_11_16     161\n",
       "pct_diabetes18          0\n",
       "class                   0\n",
       "dtype: int64"
      ]
     },
     "execution_count": 580,
     "metadata": {},
     "output_type": "execute_result"
    }
   ],
   "source": [
    "stores_snap_wic.isnull().sum()"
   ]
  },
  {
   "cell_type": "markdown",
   "id": "86c56283",
   "metadata": {},
   "source": [
    "In this case, there are missing values outside of the percent change columns - and more than just a few.\n",
    "\n",
    "First, I will delete the percent change columns. "
   ]
  },
  {
   "cell_type": "code",
   "execution_count": 581,
   "id": "e921382f",
   "metadata": {},
   "outputs": [],
   "source": [
    "stores_snap_wic.drop(columns = ['pch_snaps_12_17', 'pch_snapspth_12_17', 'pch_wics_11_16',\n",
    "                                'pch_wicspth_11_16'], inplace=True)"
   ]
  },
  {
   "cell_type": "code",
   "execution_count": 582,
   "id": "23a56bb8",
   "metadata": {},
   "outputs": [
    {
     "data": {
      "text/plain": [
       "fips                0\n",
       "state               0\n",
       "county              0\n",
       "snaps12             0\n",
       "snaps17            26\n",
       "snapspth12          0\n",
       "snapspth17         26\n",
       "wics11            132\n",
       "wics16            158\n",
       "wicspth11         134\n",
       "wicspth16         160\n",
       "pct_diabetes18      0\n",
       "class               0\n",
       "dtype: int64"
      ]
     },
     "execution_count": 582,
     "metadata": {},
     "output_type": "execute_result"
    }
   ],
   "source": [
    "stores_snap_wic.isnull().sum()"
   ]
  },
  {
   "cell_type": "markdown",
   "id": "cfc62789",
   "metadata": {},
   "source": [
    "If I drop the rows with null values, I will still have the vast majority of counties.\n",
    "\n",
    "I will drop the rows with null values below."
   ]
  },
  {
   "cell_type": "code",
   "execution_count": 583,
   "id": "4f109306",
   "metadata": {},
   "outputs": [],
   "source": [
    "stores_snap_wic = stores_snap_wic.dropna()"
   ]
  },
  {
   "cell_type": "code",
   "execution_count": 584,
   "id": "f3b9490f",
   "metadata": {},
   "outputs": [
    {
     "data": {
      "text/plain": [
       "fips              0\n",
       "state             0\n",
       "county            0\n",
       "snaps12           0\n",
       "snaps17           0\n",
       "snapspth12        0\n",
       "snapspth17        0\n",
       "wics11            0\n",
       "wics16            0\n",
       "wicspth11         0\n",
       "wicspth16         0\n",
       "pct_diabetes18    0\n",
       "class             0\n",
       "dtype: int64"
      ]
     },
     "execution_count": 584,
     "metadata": {},
     "output_type": "execute_result"
    }
   ],
   "source": [
    "stores_snap_wic.isnull().sum()"
   ]
  },
  {
   "cell_type": "code",
   "execution_count": 585,
   "id": "26f5d31d",
   "metadata": {},
   "outputs": [
    {
     "data": {
      "text/plain": [
       "(2978, 13)"
      ]
     },
     "execution_count": 585,
     "metadata": {},
     "output_type": "execute_result"
    }
   ],
   "source": [
    "stores_snap_wic.shape"
   ]
  },
  {
   "cell_type": "markdown",
   "id": "f887449d",
   "metadata": {},
   "source": [
    "There are no additional missing values. I will save this work and move into the next dataset. "
   ]
  },
  {
   "cell_type": "code",
   "execution_count": 586,
   "id": "21e79db3",
   "metadata": {},
   "outputs": [],
   "source": [
    "stores_snap_wic.to_csv('../data/FoodEnvironmentAtlas.xls.STORES_Modeling_SnapWic.csv', index=False)"
   ]
  },
  {
   "cell_type": "markdown",
   "id": "cfbf2cd4",
   "metadata": {},
   "source": [
    "## Taxes"
   ]
  },
  {
   "cell_type": "code",
   "execution_count": 587,
   "id": "4d50945f",
   "metadata": {},
   "outputs": [],
   "source": [
    "file_path = '../data/FoodEnvironmentAtlas.xls.TAXES_REC.csv'\n",
    "\n",
    "taxes_rec = pd.read_csv(file_path)"
   ]
  },
  {
   "cell_type": "code",
   "execution_count": 588,
   "id": "d9b53c70",
   "metadata": {},
   "outputs": [
    {
     "data": {
      "text/plain": [
       "(3142, 8)"
      ]
     },
     "execution_count": 588,
     "metadata": {},
     "output_type": "execute_result"
    }
   ],
   "source": [
    "taxes_rec.shape"
   ]
  },
  {
   "cell_type": "code",
   "execution_count": 589,
   "id": "5b4dedea",
   "metadata": {},
   "outputs": [
    {
     "data": {
      "text/html": [
       "<div>\n",
       "<style scoped>\n",
       "    .dataframe tbody tr th:only-of-type {\n",
       "        vertical-align: middle;\n",
       "    }\n",
       "\n",
       "    .dataframe tbody tr th {\n",
       "        vertical-align: top;\n",
       "    }\n",
       "\n",
       "    .dataframe thead th {\n",
       "        text-align: right;\n",
       "    }\n",
       "</style>\n",
       "<table border=\"1\" class=\"dataframe\">\n",
       "  <thead>\n",
       "    <tr style=\"text-align: right;\">\n",
       "      <th></th>\n",
       "      <th>fips</th>\n",
       "      <th>state</th>\n",
       "      <th>county</th>\n",
       "      <th>sodatax_stores14</th>\n",
       "      <th>sodatax_vendm14</th>\n",
       "      <th>chipstax_stores14</th>\n",
       "      <th>chipstax_vendm14</th>\n",
       "      <th>food_tax14</th>\n",
       "    </tr>\n",
       "  </thead>\n",
       "  <tbody>\n",
       "    <tr>\n",
       "      <th>0</th>\n",
       "      <td>1001</td>\n",
       "      <td>AL</td>\n",
       "      <td>Autauga</td>\n",
       "      <td>4.0</td>\n",
       "      <td>4.0</td>\n",
       "      <td>4.0</td>\n",
       "      <td>4.0</td>\n",
       "      <td>4.0</td>\n",
       "    </tr>\n",
       "    <tr>\n",
       "      <th>1</th>\n",
       "      <td>1003</td>\n",
       "      <td>AL</td>\n",
       "      <td>Baldwin</td>\n",
       "      <td>4.0</td>\n",
       "      <td>4.0</td>\n",
       "      <td>4.0</td>\n",
       "      <td>4.0</td>\n",
       "      <td>4.0</td>\n",
       "    </tr>\n",
       "    <tr>\n",
       "      <th>2</th>\n",
       "      <td>1005</td>\n",
       "      <td>AL</td>\n",
       "      <td>Barbour</td>\n",
       "      <td>4.0</td>\n",
       "      <td>4.0</td>\n",
       "      <td>4.0</td>\n",
       "      <td>4.0</td>\n",
       "      <td>4.0</td>\n",
       "    </tr>\n",
       "    <tr>\n",
       "      <th>3</th>\n",
       "      <td>1007</td>\n",
       "      <td>AL</td>\n",
       "      <td>Bibb</td>\n",
       "      <td>4.0</td>\n",
       "      <td>4.0</td>\n",
       "      <td>4.0</td>\n",
       "      <td>4.0</td>\n",
       "      <td>4.0</td>\n",
       "    </tr>\n",
       "    <tr>\n",
       "      <th>4</th>\n",
       "      <td>1009</td>\n",
       "      <td>AL</td>\n",
       "      <td>Blount</td>\n",
       "      <td>4.0</td>\n",
       "      <td>4.0</td>\n",
       "      <td>4.0</td>\n",
       "      <td>4.0</td>\n",
       "      <td>4.0</td>\n",
       "    </tr>\n",
       "  </tbody>\n",
       "</table>\n",
       "</div>"
      ],
      "text/plain": [
       "   fips state   county  sodatax_stores14  sodatax_vendm14  chipstax_stores14  \\\n",
       "0  1001    AL  Autauga               4.0              4.0                4.0   \n",
       "1  1003    AL  Baldwin               4.0              4.0                4.0   \n",
       "2  1005    AL  Barbour               4.0              4.0                4.0   \n",
       "3  1007    AL     Bibb               4.0              4.0                4.0   \n",
       "4  1009    AL   Blount               4.0              4.0                4.0   \n",
       "\n",
       "   chipstax_vendm14  food_tax14  \n",
       "0               4.0         4.0  \n",
       "1               4.0         4.0  \n",
       "2               4.0         4.0  \n",
       "3               4.0         4.0  \n",
       "4               4.0         4.0  "
      ]
     },
     "execution_count": 589,
     "metadata": {},
     "output_type": "execute_result"
    }
   ],
   "source": [
    "taxes_rec.head()"
   ]
  },
  {
   "cell_type": "code",
   "execution_count": 590,
   "id": "61c6140f",
   "metadata": {},
   "outputs": [
    {
     "data": {
      "text/html": [
       "<div>\n",
       "<style scoped>\n",
       "    .dataframe tbody tr th:only-of-type {\n",
       "        vertical-align: middle;\n",
       "    }\n",
       "\n",
       "    .dataframe tbody tr th {\n",
       "        vertical-align: top;\n",
       "    }\n",
       "\n",
       "    .dataframe thead th {\n",
       "        text-align: right;\n",
       "    }\n",
       "</style>\n",
       "<table border=\"1\" class=\"dataframe\">\n",
       "  <thead>\n",
       "    <tr style=\"text-align: right;\">\n",
       "      <th></th>\n",
       "      <th>fips</th>\n",
       "      <th>county</th>\n",
       "      <th>state</th>\n",
       "      <th>pct_diabetes18</th>\n",
       "      <th>class</th>\n",
       "    </tr>\n",
       "  </thead>\n",
       "  <tbody>\n",
       "    <tr>\n",
       "      <th>0</th>\n",
       "      <td>1001</td>\n",
       "      <td>Autauga</td>\n",
       "      <td>Alabama</td>\n",
       "      <td>9.5</td>\n",
       "      <td>1.0</td>\n",
       "    </tr>\n",
       "    <tr>\n",
       "      <th>1</th>\n",
       "      <td>1003</td>\n",
       "      <td>Baldwin</td>\n",
       "      <td>Alabama</td>\n",
       "      <td>8.4</td>\n",
       "      <td>0.0</td>\n",
       "    </tr>\n",
       "    <tr>\n",
       "      <th>2</th>\n",
       "      <td>1005</td>\n",
       "      <td>Barbour</td>\n",
       "      <td>Alabama</td>\n",
       "      <td>13.5</td>\n",
       "      <td>1.0</td>\n",
       "    </tr>\n",
       "    <tr>\n",
       "      <th>3</th>\n",
       "      <td>1007</td>\n",
       "      <td>Bibb</td>\n",
       "      <td>Alabama</td>\n",
       "      <td>10.2</td>\n",
       "      <td>1.0</td>\n",
       "    </tr>\n",
       "    <tr>\n",
       "      <th>4</th>\n",
       "      <td>1009</td>\n",
       "      <td>Blount</td>\n",
       "      <td>Alabama</td>\n",
       "      <td>10.5</td>\n",
       "      <td>1.0</td>\n",
       "    </tr>\n",
       "  </tbody>\n",
       "</table>\n",
       "</div>"
      ],
      "text/plain": [
       "   fips   county    state  pct_diabetes18  class\n",
       "0  1001  Autauga  Alabama             9.5    1.0\n",
       "1  1003  Baldwin  Alabama             8.4    0.0\n",
       "2  1005  Barbour  Alabama            13.5    1.0\n",
       "3  1007     Bibb  Alabama            10.2    1.0\n",
       "4  1009   Blount  Alabama            10.5    1.0"
      ]
     },
     "execution_count": 590,
     "metadata": {},
     "output_type": "execute_result"
    }
   ],
   "source": [
    "d18_rec.head()"
   ]
  },
  {
   "cell_type": "code",
   "execution_count": 591,
   "id": "0a81541f",
   "metadata": {},
   "outputs": [
    {
     "data": {
      "text/html": [
       "<div>\n",
       "<style scoped>\n",
       "    .dataframe tbody tr th:only-of-type {\n",
       "        vertical-align: middle;\n",
       "    }\n",
       "\n",
       "    .dataframe tbody tr th {\n",
       "        vertical-align: top;\n",
       "    }\n",
       "\n",
       "    .dataframe thead th {\n",
       "        text-align: right;\n",
       "    }\n",
       "</style>\n",
       "<table border=\"1\" class=\"dataframe\">\n",
       "  <thead>\n",
       "    <tr style=\"text-align: right;\">\n",
       "      <th></th>\n",
       "      <th>fips</th>\n",
       "      <th>state</th>\n",
       "      <th>county</th>\n",
       "      <th>sodatax_stores14</th>\n",
       "      <th>sodatax_vendm14</th>\n",
       "      <th>chipstax_stores14</th>\n",
       "      <th>chipstax_vendm14</th>\n",
       "      <th>food_tax14</th>\n",
       "    </tr>\n",
       "  </thead>\n",
       "  <tbody>\n",
       "    <tr>\n",
       "      <th>0</th>\n",
       "      <td>1001</td>\n",
       "      <td>AL</td>\n",
       "      <td>Autauga</td>\n",
       "      <td>4.0</td>\n",
       "      <td>4.0</td>\n",
       "      <td>4.0</td>\n",
       "      <td>4.0</td>\n",
       "      <td>4.0</td>\n",
       "    </tr>\n",
       "    <tr>\n",
       "      <th>1</th>\n",
       "      <td>1003</td>\n",
       "      <td>AL</td>\n",
       "      <td>Baldwin</td>\n",
       "      <td>4.0</td>\n",
       "      <td>4.0</td>\n",
       "      <td>4.0</td>\n",
       "      <td>4.0</td>\n",
       "      <td>4.0</td>\n",
       "    </tr>\n",
       "    <tr>\n",
       "      <th>2</th>\n",
       "      <td>1005</td>\n",
       "      <td>AL</td>\n",
       "      <td>Barbour</td>\n",
       "      <td>4.0</td>\n",
       "      <td>4.0</td>\n",
       "      <td>4.0</td>\n",
       "      <td>4.0</td>\n",
       "      <td>4.0</td>\n",
       "    </tr>\n",
       "    <tr>\n",
       "      <th>3</th>\n",
       "      <td>1007</td>\n",
       "      <td>AL</td>\n",
       "      <td>Bibb</td>\n",
       "      <td>4.0</td>\n",
       "      <td>4.0</td>\n",
       "      <td>4.0</td>\n",
       "      <td>4.0</td>\n",
       "      <td>4.0</td>\n",
       "    </tr>\n",
       "    <tr>\n",
       "      <th>4</th>\n",
       "      <td>1009</td>\n",
       "      <td>AL</td>\n",
       "      <td>Blount</td>\n",
       "      <td>4.0</td>\n",
       "      <td>4.0</td>\n",
       "      <td>4.0</td>\n",
       "      <td>4.0</td>\n",
       "      <td>4.0</td>\n",
       "    </tr>\n",
       "  </tbody>\n",
       "</table>\n",
       "</div>"
      ],
      "text/plain": [
       "   fips state   county  sodatax_stores14  sodatax_vendm14  chipstax_stores14  \\\n",
       "0  1001    AL  Autauga               4.0              4.0                4.0   \n",
       "1  1003    AL  Baldwin               4.0              4.0                4.0   \n",
       "2  1005    AL  Barbour               4.0              4.0                4.0   \n",
       "3  1007    AL     Bibb               4.0              4.0                4.0   \n",
       "4  1009    AL   Blount               4.0              4.0                4.0   \n",
       "\n",
       "   chipstax_vendm14  food_tax14  \n",
       "0               4.0         4.0  \n",
       "1               4.0         4.0  \n",
       "2               4.0         4.0  \n",
       "3               4.0         4.0  \n",
       "4               4.0         4.0  "
      ]
     },
     "execution_count": 591,
     "metadata": {},
     "output_type": "execute_result"
    }
   ],
   "source": [
    "taxes_rec.head()"
   ]
  },
  {
   "cell_type": "code",
   "execution_count": 592,
   "id": "c257bc45",
   "metadata": {},
   "outputs": [
    {
     "data": {
      "text/html": [
       "<div>\n",
       "<style scoped>\n",
       "    .dataframe tbody tr th:only-of-type {\n",
       "        vertical-align: middle;\n",
       "    }\n",
       "\n",
       "    .dataframe tbody tr th {\n",
       "        vertical-align: top;\n",
       "    }\n",
       "\n",
       "    .dataframe thead th {\n",
       "        text-align: right;\n",
       "    }\n",
       "</style>\n",
       "<table border=\"1\" class=\"dataframe\">\n",
       "  <thead>\n",
       "    <tr style=\"text-align: right;\">\n",
       "      <th></th>\n",
       "      <th>fips</th>\n",
       "      <th>county</th>\n",
       "      <th>state</th>\n",
       "      <th>pct_diabetes18</th>\n",
       "      <th>class</th>\n",
       "    </tr>\n",
       "  </thead>\n",
       "  <tbody>\n",
       "    <tr>\n",
       "      <th>0</th>\n",
       "      <td>1001</td>\n",
       "      <td>Autauga</td>\n",
       "      <td>Alabama</td>\n",
       "      <td>9.5</td>\n",
       "      <td>1.0</td>\n",
       "    </tr>\n",
       "    <tr>\n",
       "      <th>1</th>\n",
       "      <td>1003</td>\n",
       "      <td>Baldwin</td>\n",
       "      <td>Alabama</td>\n",
       "      <td>8.4</td>\n",
       "      <td>0.0</td>\n",
       "    </tr>\n",
       "    <tr>\n",
       "      <th>2</th>\n",
       "      <td>1005</td>\n",
       "      <td>Barbour</td>\n",
       "      <td>Alabama</td>\n",
       "      <td>13.5</td>\n",
       "      <td>1.0</td>\n",
       "    </tr>\n",
       "    <tr>\n",
       "      <th>3</th>\n",
       "      <td>1007</td>\n",
       "      <td>Bibb</td>\n",
       "      <td>Alabama</td>\n",
       "      <td>10.2</td>\n",
       "      <td>1.0</td>\n",
       "    </tr>\n",
       "    <tr>\n",
       "      <th>4</th>\n",
       "      <td>1009</td>\n",
       "      <td>Blount</td>\n",
       "      <td>Alabama</td>\n",
       "      <td>10.5</td>\n",
       "      <td>1.0</td>\n",
       "    </tr>\n",
       "  </tbody>\n",
       "</table>\n",
       "</div>"
      ],
      "text/plain": [
       "   fips   county    state  pct_diabetes18  class\n",
       "0  1001  Autauga  Alabama             9.5    1.0\n",
       "1  1003  Baldwin  Alabama             8.4    0.0\n",
       "2  1005  Barbour  Alabama            13.5    1.0\n",
       "3  1007     Bibb  Alabama            10.2    1.0\n",
       "4  1009   Blount  Alabama            10.5    1.0"
      ]
     },
     "execution_count": 592,
     "metadata": {},
     "output_type": "execute_result"
    }
   ],
   "source": [
    "d18_rec.head()"
   ]
  },
  {
   "cell_type": "code",
   "execution_count": 593,
   "id": "239a9d5b",
   "metadata": {},
   "outputs": [
    {
     "data": {
      "text/html": [
       "<div>\n",
       "<style scoped>\n",
       "    .dataframe tbody tr th:only-of-type {\n",
       "        vertical-align: middle;\n",
       "    }\n",
       "\n",
       "    .dataframe tbody tr th {\n",
       "        vertical-align: top;\n",
       "    }\n",
       "\n",
       "    .dataframe thead th {\n",
       "        text-align: right;\n",
       "    }\n",
       "</style>\n",
       "<table border=\"1\" class=\"dataframe\">\n",
       "  <thead>\n",
       "    <tr style=\"text-align: right;\">\n",
       "      <th></th>\n",
       "      <th>fips</th>\n",
       "      <th>state</th>\n",
       "      <th>county</th>\n",
       "      <th>sodatax_stores14</th>\n",
       "      <th>sodatax_vendm14</th>\n",
       "      <th>chipstax_stores14</th>\n",
       "      <th>chipstax_vendm14</th>\n",
       "      <th>food_tax14</th>\n",
       "    </tr>\n",
       "  </thead>\n",
       "  <tbody>\n",
       "    <tr>\n",
       "      <th>3137</th>\n",
       "      <td>56037</td>\n",
       "      <td>WY</td>\n",
       "      <td>Sweetwater</td>\n",
       "      <td>0.0</td>\n",
       "      <td>4.0</td>\n",
       "      <td>0.0</td>\n",
       "      <td>4.0</td>\n",
       "      <td>0.0</td>\n",
       "    </tr>\n",
       "    <tr>\n",
       "      <th>3138</th>\n",
       "      <td>56039</td>\n",
       "      <td>WY</td>\n",
       "      <td>Teton</td>\n",
       "      <td>0.0</td>\n",
       "      <td>4.0</td>\n",
       "      <td>0.0</td>\n",
       "      <td>4.0</td>\n",
       "      <td>0.0</td>\n",
       "    </tr>\n",
       "    <tr>\n",
       "      <th>3139</th>\n",
       "      <td>56041</td>\n",
       "      <td>WY</td>\n",
       "      <td>Uinta</td>\n",
       "      <td>0.0</td>\n",
       "      <td>4.0</td>\n",
       "      <td>0.0</td>\n",
       "      <td>4.0</td>\n",
       "      <td>0.0</td>\n",
       "    </tr>\n",
       "    <tr>\n",
       "      <th>3140</th>\n",
       "      <td>56043</td>\n",
       "      <td>WY</td>\n",
       "      <td>Washakie</td>\n",
       "      <td>0.0</td>\n",
       "      <td>4.0</td>\n",
       "      <td>0.0</td>\n",
       "      <td>4.0</td>\n",
       "      <td>0.0</td>\n",
       "    </tr>\n",
       "    <tr>\n",
       "      <th>3141</th>\n",
       "      <td>56045</td>\n",
       "      <td>WY</td>\n",
       "      <td>Weston</td>\n",
       "      <td>0.0</td>\n",
       "      <td>4.0</td>\n",
       "      <td>0.0</td>\n",
       "      <td>4.0</td>\n",
       "      <td>0.0</td>\n",
       "    </tr>\n",
       "  </tbody>\n",
       "</table>\n",
       "</div>"
      ],
      "text/plain": [
       "       fips state      county  sodatax_stores14  sodatax_vendm14  \\\n",
       "3137  56037    WY  Sweetwater               0.0              4.0   \n",
       "3138  56039    WY       Teton               0.0              4.0   \n",
       "3139  56041    WY       Uinta               0.0              4.0   \n",
       "3140  56043    WY    Washakie               0.0              4.0   \n",
       "3141  56045    WY      Weston               0.0              4.0   \n",
       "\n",
       "      chipstax_stores14  chipstax_vendm14  food_tax14  \n",
       "3137                0.0               4.0         0.0  \n",
       "3138                0.0               4.0         0.0  \n",
       "3139                0.0               4.0         0.0  \n",
       "3140                0.0               4.0         0.0  \n",
       "3141                0.0               4.0         0.0  "
      ]
     },
     "execution_count": 593,
     "metadata": {},
     "output_type": "execute_result"
    }
   ],
   "source": [
    "taxes_rec.tail()"
   ]
  },
  {
   "cell_type": "code",
   "execution_count": 594,
   "id": "77c8d4ce",
   "metadata": {},
   "outputs": [
    {
     "data": {
      "text/html": [
       "<div>\n",
       "<style scoped>\n",
       "    .dataframe tbody tr th:only-of-type {\n",
       "        vertical-align: middle;\n",
       "    }\n",
       "\n",
       "    .dataframe tbody tr th {\n",
       "        vertical-align: top;\n",
       "    }\n",
       "\n",
       "    .dataframe thead th {\n",
       "        text-align: right;\n",
       "    }\n",
       "</style>\n",
       "<table border=\"1\" class=\"dataframe\">\n",
       "  <thead>\n",
       "    <tr style=\"text-align: right;\">\n",
       "      <th></th>\n",
       "      <th>fips</th>\n",
       "      <th>county</th>\n",
       "      <th>state</th>\n",
       "      <th>pct_diabetes18</th>\n",
       "      <th>class</th>\n",
       "    </tr>\n",
       "  </thead>\n",
       "  <tbody>\n",
       "    <tr>\n",
       "      <th>3137</th>\n",
       "      <td>56037</td>\n",
       "      <td>Sweetwater</td>\n",
       "      <td>Wyoming</td>\n",
       "      <td>7.8</td>\n",
       "      <td>0.0</td>\n",
       "    </tr>\n",
       "    <tr>\n",
       "      <th>3138</th>\n",
       "      <td>56039</td>\n",
       "      <td>Teton</td>\n",
       "      <td>Wyoming</td>\n",
       "      <td>3.8</td>\n",
       "      <td>0.0</td>\n",
       "    </tr>\n",
       "    <tr>\n",
       "      <th>3139</th>\n",
       "      <td>56041</td>\n",
       "      <td>Uinta</td>\n",
       "      <td>Wyoming</td>\n",
       "      <td>8.4</td>\n",
       "      <td>0.0</td>\n",
       "    </tr>\n",
       "    <tr>\n",
       "      <th>3140</th>\n",
       "      <td>56043</td>\n",
       "      <td>Washakie</td>\n",
       "      <td>Wyoming</td>\n",
       "      <td>7.4</td>\n",
       "      <td>0.0</td>\n",
       "    </tr>\n",
       "    <tr>\n",
       "      <th>3141</th>\n",
       "      <td>56045</td>\n",
       "      <td>Weston</td>\n",
       "      <td>Wyoming</td>\n",
       "      <td>7.6</td>\n",
       "      <td>0.0</td>\n",
       "    </tr>\n",
       "  </tbody>\n",
       "</table>\n",
       "</div>"
      ],
      "text/plain": [
       "       fips      county    state  pct_diabetes18  class\n",
       "3137  56037  Sweetwater  Wyoming             7.8    0.0\n",
       "3138  56039       Teton  Wyoming             3.8    0.0\n",
       "3139  56041       Uinta  Wyoming             8.4    0.0\n",
       "3140  56043    Washakie  Wyoming             7.4    0.0\n",
       "3141  56045      Weston  Wyoming             7.6    0.0"
      ]
     },
     "execution_count": 594,
     "metadata": {},
     "output_type": "execute_result"
    }
   ],
   "source": [
    "d18_rec.tail()"
   ]
  },
  {
   "cell_type": "code",
   "execution_count": 595,
   "id": "94d6ec89",
   "metadata": {},
   "outputs": [
    {
     "data": {
      "text/plain": [
       "count     3142.000000\n",
       "mean     30383.649268\n",
       "std      15162.508374\n",
       "min       1001.000000\n",
       "25%      18177.500000\n",
       "50%      29176.000000\n",
       "75%      45080.500000\n",
       "max      56045.000000\n",
       "Name: fips, dtype: float64"
      ]
     },
     "execution_count": 595,
     "metadata": {},
     "output_type": "execute_result"
    }
   ],
   "source": [
    "taxes_rec.fips.describe()"
   ]
  },
  {
   "cell_type": "code",
   "execution_count": 596,
   "id": "f41acbb0",
   "metadata": {},
   "outputs": [
    {
     "data": {
      "text/plain": [
       "count     3142.000000\n",
       "mean     30383.649268\n",
       "std      15162.508374\n",
       "min       1001.000000\n",
       "25%      18177.500000\n",
       "50%      29176.000000\n",
       "75%      45080.500000\n",
       "max      56045.000000\n",
       "Name: fips, dtype: float64"
      ]
     },
     "execution_count": 596,
     "metadata": {},
     "output_type": "execute_result"
    }
   ],
   "source": [
    "d18_rec.fips.describe()"
   ]
  },
  {
   "cell_type": "markdown",
   "id": "a75db4b5",
   "metadata": {},
   "source": [
    "The taxes dataframe is ready to accept the diabetes columns."
   ]
  },
  {
   "cell_type": "code",
   "execution_count": 597,
   "id": "5ffbb704",
   "metadata": {},
   "outputs": [
    {
     "data": {
      "text/html": [
       "<div>\n",
       "<style scoped>\n",
       "    .dataframe tbody tr th:only-of-type {\n",
       "        vertical-align: middle;\n",
       "    }\n",
       "\n",
       "    .dataframe tbody tr th {\n",
       "        vertical-align: top;\n",
       "    }\n",
       "\n",
       "    .dataframe thead th {\n",
       "        text-align: right;\n",
       "    }\n",
       "</style>\n",
       "<table border=\"1\" class=\"dataframe\">\n",
       "  <thead>\n",
       "    <tr style=\"text-align: right;\">\n",
       "      <th></th>\n",
       "      <th>fips</th>\n",
       "      <th>state</th>\n",
       "      <th>county</th>\n",
       "      <th>sodatax_stores14</th>\n",
       "      <th>sodatax_vendm14</th>\n",
       "      <th>chipstax_stores14</th>\n",
       "      <th>chipstax_vendm14</th>\n",
       "      <th>food_tax14</th>\n",
       "      <th>pct_diabetes18</th>\n",
       "      <th>class</th>\n",
       "    </tr>\n",
       "  </thead>\n",
       "  <tbody>\n",
       "    <tr>\n",
       "      <th>0</th>\n",
       "      <td>1001</td>\n",
       "      <td>AL</td>\n",
       "      <td>Autauga</td>\n",
       "      <td>4.0</td>\n",
       "      <td>4.0</td>\n",
       "      <td>4.0</td>\n",
       "      <td>4.0</td>\n",
       "      <td>4.0</td>\n",
       "      <td>9.5</td>\n",
       "      <td>1.0</td>\n",
       "    </tr>\n",
       "    <tr>\n",
       "      <th>1</th>\n",
       "      <td>1003</td>\n",
       "      <td>AL</td>\n",
       "      <td>Baldwin</td>\n",
       "      <td>4.0</td>\n",
       "      <td>4.0</td>\n",
       "      <td>4.0</td>\n",
       "      <td>4.0</td>\n",
       "      <td>4.0</td>\n",
       "      <td>8.4</td>\n",
       "      <td>0.0</td>\n",
       "    </tr>\n",
       "    <tr>\n",
       "      <th>2</th>\n",
       "      <td>1005</td>\n",
       "      <td>AL</td>\n",
       "      <td>Barbour</td>\n",
       "      <td>4.0</td>\n",
       "      <td>4.0</td>\n",
       "      <td>4.0</td>\n",
       "      <td>4.0</td>\n",
       "      <td>4.0</td>\n",
       "      <td>13.5</td>\n",
       "      <td>1.0</td>\n",
       "    </tr>\n",
       "    <tr>\n",
       "      <th>3</th>\n",
       "      <td>1007</td>\n",
       "      <td>AL</td>\n",
       "      <td>Bibb</td>\n",
       "      <td>4.0</td>\n",
       "      <td>4.0</td>\n",
       "      <td>4.0</td>\n",
       "      <td>4.0</td>\n",
       "      <td>4.0</td>\n",
       "      <td>10.2</td>\n",
       "      <td>1.0</td>\n",
       "    </tr>\n",
       "    <tr>\n",
       "      <th>4</th>\n",
       "      <td>1009</td>\n",
       "      <td>AL</td>\n",
       "      <td>Blount</td>\n",
       "      <td>4.0</td>\n",
       "      <td>4.0</td>\n",
       "      <td>4.0</td>\n",
       "      <td>4.0</td>\n",
       "      <td>4.0</td>\n",
       "      <td>10.5</td>\n",
       "      <td>1.0</td>\n",
       "    </tr>\n",
       "  </tbody>\n",
       "</table>\n",
       "</div>"
      ],
      "text/plain": [
       "   fips state   county  sodatax_stores14  sodatax_vendm14  chipstax_stores14  \\\n",
       "0  1001    AL  Autauga               4.0              4.0                4.0   \n",
       "1  1003    AL  Baldwin               4.0              4.0                4.0   \n",
       "2  1005    AL  Barbour               4.0              4.0                4.0   \n",
       "3  1007    AL     Bibb               4.0              4.0                4.0   \n",
       "4  1009    AL   Blount               4.0              4.0                4.0   \n",
       "\n",
       "   chipstax_vendm14  food_tax14  pct_diabetes18  class  \n",
       "0               4.0         4.0             9.5    1.0  \n",
       "1               4.0         4.0             8.4    0.0  \n",
       "2               4.0         4.0            13.5    1.0  \n",
       "3               4.0         4.0            10.2    1.0  \n",
       "4               4.0         4.0            10.5    1.0  "
      ]
     },
     "execution_count": 597,
     "metadata": {},
     "output_type": "execute_result"
    }
   ],
   "source": [
    "taxes_rec['pct_diabetes18'] = d18_rec['pct_diabetes18']\n",
    "\n",
    "taxes_rec['class'] = d18_rec['class']\n",
    "\n",
    "taxes_rec.head()"
   ]
  },
  {
   "cell_type": "markdown",
   "id": "92a5a42f",
   "metadata": {},
   "source": [
    "The diabetes columns have been added."
   ]
  },
  {
   "cell_type": "code",
   "execution_count": 598,
   "id": "471ec0b2",
   "metadata": {},
   "outputs": [
    {
     "data": {
      "text/plain": [
       "fips                 0\n",
       "state                0\n",
       "county               0\n",
       "sodatax_stores14     0\n",
       "sodatax_vendm14      0\n",
       "chipstax_stores14    0\n",
       "chipstax_vendm14     0\n",
       "food_tax14           0\n",
       "pct_diabetes18       0\n",
       "class                0\n",
       "dtype: int64"
      ]
     },
     "execution_count": 598,
     "metadata": {},
     "output_type": "execute_result"
    }
   ],
   "source": [
    "taxes_rec.isnull().sum()"
   ]
  },
  {
   "cell_type": "markdown",
   "id": "0101a6ca",
   "metadata": {},
   "source": [
    "There are no missing values. I will save this dataframe for modeling."
   ]
  },
  {
   "cell_type": "code",
   "execution_count": 599,
   "id": "26855d74",
   "metadata": {},
   "outputs": [],
   "source": [
    "taxes_rec.to_csv('../data/FoodEnvironmentAtlas.xls.TAXES_Modeling.csv', index=False)"
   ]
  },
  {
   "cell_type": "markdown",
   "id": "e839f39c",
   "metadata": {},
   "source": [
    "### Discussion"
   ]
  },
  {
   "cell_type": "markdown",
   "id": "ec0d7744",
   "metadata": {},
   "source": [
    "The target values have been used to create classes, and both the percentage and classes were added to each dataset that will be used for modeling. While in some datasets, many rows needed to be dropped due to containing null values, others are complete. With the exception of Bedford City, VA (which was dropped entirely from the dataset due to missing diabetes prevalence and other information), all counties within the Food Environment Atlas are represented in multiple datasets.\n",
    "\n",
    "The mental health-related information was added into the Health dataset for modeling purposes.\n",
    "\n",
    "In the next notebook, I will create and evaluate models for predicting prevalence of diabetes for each dataset, using binary classification."
   ]
  }
 ],
 "metadata": {
  "kernelspec": {
   "display_name": "Python 3 (ipykernel)",
   "language": "python",
   "name": "python3"
  },
  "language_info": {
   "codemirror_mode": {
    "name": "ipython",
    "version": 3
   },
   "file_extension": ".py",
   "mimetype": "text/x-python",
   "name": "python",
   "nbconvert_exporter": "python",
   "pygments_lexer": "ipython3",
   "version": "3.9.13"
  }
 },
 "nbformat": 4,
 "nbformat_minor": 5
}
